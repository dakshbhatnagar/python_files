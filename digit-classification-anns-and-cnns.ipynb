{
 "cells": [
  {
   "cell_type": "markdown",
   "id": "ff58c271",
   "metadata": {
    "papermill": {
     "duration": 0.017122,
     "end_time": "2022-08-07T15:35:59.559867",
     "exception": false,
     "start_time": "2022-08-07T15:35:59.542745",
     "status": "completed"
    },
    "tags": []
   },
   "source": [
    "![](https://machinelearningmastery.com/wp-content/uploads/2019/02/Plot-of-a-Subset-of-Images-from-the-MNIST-Dataset.png)"
   ]
  },
  {
   "cell_type": "markdown",
   "id": "efa7ab16",
   "metadata": {
    "papermill": {
     "duration": 0.015003,
     "end_time": "2022-08-07T15:35:59.587940",
     "exception": false,
     "start_time": "2022-08-07T15:35:59.572937",
     "status": "completed"
    },
    "tags": []
   },
   "source": [
    "In this notebook, we would train ANNs and CNNs on the MNIST Digit Classification Dataset. Let's look first at what ANNs are.\n",
    "\n",
    "An **Artificial Neural Network (ANN)** in the field of Artificial intelligence where it attempts to mimic the network of neurons makes up a human brain so that computers will have an option to understand things and make decisions in a human-like manner. The artificial neural network is designed by programming computers to behave simply like interconnected brain cells.\n",
    "\n",
    "**The architecture of an artificial neural network:**\n",
    "\n",
    "To understand the concept of the architecture of an artificial neural network, we have to understand what a neural network consists of. In order to define a neural network that consists of a large number of artificial neurons, which are termed units arranged in a sequence of layers. Lets us look at various types of layers available in an artificial neural network.\n",
    "\n",
    "Artificial Neural Network primarily consists of three layers:\n",
    "\n",
    "![](https://static.javatpoint.com/tutorial/artificial-neural-network/images/artificial-neural-network4.png)\n",
    "\n",
    "1. Input Layer: As the name suggests, it accepts inputs in several different formats provided by the programmer.\n",
    "\n",
    "2. Hidden Layer: The hidden layer presents in-between input and output layers. It performs all the calculations to find hidden features and patterns.\n",
    "\n",
    "3. Output Layer: The input goes through a series of transformations using the hidden layer, which finally results in output that is conveyed using this layer.\n",
    "\n",
    "The artificial neural network takes input and computes the weighted sum of the inputs and includes a bias. This computation is represented in the form of a transfer function.\n",
    "\n",
    "![](https://static.javatpoint.com/tutorial/artificial-neural-network/images/artificial-neural-network5.png)\n",
    "\n",
    "Artificial Neural Network determines weighted total is passed as an input to an activation function to produce the output. Activation functions choose whether a node should fire or not. Only those who are fired make it to the output layer. There are distinctive activation functions available that can be applied upon the sort of task we are performing. For regression, we can use `softmax` however for classification, we can use `sigmoid`."
   ]
  },
  {
   "cell_type": "code",
   "execution_count": 1,
   "id": "476fcbf2",
   "metadata": {
    "execution": {
     "iopub.execute_input": "2022-08-07T15:35:59.618222Z",
     "iopub.status.busy": "2022-08-07T15:35:59.617652Z",
     "iopub.status.idle": "2022-08-07T15:36:08.118844Z",
     "shell.execute_reply": "2022-08-07T15:36:08.117870Z"
    },
    "papermill": {
     "duration": 8.518939,
     "end_time": "2022-08-07T15:36:08.121334",
     "exception": false,
     "start_time": "2022-08-07T15:35:59.602395",
     "status": "completed"
    },
    "tags": []
   },
   "outputs": [],
   "source": [
    "import warnings \n",
    "warnings.filterwarnings('ignore')\n",
    "import numpy as np\n",
    "import pandas as pd\n",
    "import matplotlib.pyplot as plt\n",
    "import plotly.express as px\n",
    "%matplotlib inline\n",
    "plt.rcParams['font.size'] = 12\n",
    "plt.rcParams['figure.figsize'] = (15, 10)\n",
    "import tensorflow\n",
    "from matplotlib import pyplot\n",
    "from tensorflow import keras\n",
    "from tensorflow.keras import Sequential\n",
    "from tensorflow.keras.layers import Dense, Dropout, Flatten, MaxPool2D, Conv2D\n",
    "from sklearn.metrics import accuracy_score\n",
    "from tensorflow.keras.callbacks import EarlyStopping"
   ]
  },
  {
   "cell_type": "code",
   "execution_count": 2,
   "id": "c7aff7ed",
   "metadata": {
    "execution": {
     "iopub.execute_input": "2022-08-07T15:36:08.139105Z",
     "iopub.status.busy": "2022-08-07T15:36:08.137863Z",
     "iopub.status.idle": "2022-08-07T15:36:08.604191Z",
     "shell.execute_reply": "2022-08-07T15:36:08.603244Z"
    },
    "id": "KRTH93VyMYF7",
    "papermill": {
     "duration": 0.477376,
     "end_time": "2022-08-07T15:36:08.606578",
     "exception": false,
     "start_time": "2022-08-07T15:36:08.129202",
     "status": "completed"
    },
    "tags": []
   },
   "outputs": [
    {
     "name": "stdout",
     "output_type": "stream",
     "text": [
      "Downloading data from https://storage.googleapis.com/tensorflow/tf-keras-datasets/mnist.npz\n",
      "11493376/11490434 [==============================] - 0s 0us/step\n",
      "11501568/11490434 [==============================] - 0s 0us/step\n"
     ]
    }
   ],
   "source": [
    "(X_train,y_train),(X_test,y_test) = keras.datasets.mnist.load_data()"
   ]
  },
  {
   "cell_type": "code",
   "execution_count": 3,
   "id": "d6eb5694",
   "metadata": {
    "execution": {
     "iopub.execute_input": "2022-08-07T15:36:08.624864Z",
     "iopub.status.busy": "2022-08-07T15:36:08.624559Z",
     "iopub.status.idle": "2022-08-07T15:36:08.631990Z",
     "shell.execute_reply": "2022-08-07T15:36:08.631087Z"
    },
    "id": "m0hHUKoNMpsZ",
    "outputId": "c48fd0c4-3edb-4cdc-8883-d6de097fbe98",
    "papermill": {
     "duration": 0.018975,
     "end_time": "2022-08-07T15:36:08.634032",
     "exception": false,
     "start_time": "2022-08-07T15:36:08.615057",
     "status": "completed"
    },
    "tags": []
   },
   "outputs": [
    {
     "data": {
      "text/plain": [
       "(60000, 28, 28)"
      ]
     },
     "execution_count": 3,
     "metadata": {},
     "output_type": "execute_result"
    }
   ],
   "source": [
    "X_train.shape"
   ]
  },
  {
   "cell_type": "code",
   "execution_count": 4,
   "id": "8404df1c",
   "metadata": {
    "execution": {
     "iopub.execute_input": "2022-08-07T15:36:08.653118Z",
     "iopub.status.busy": "2022-08-07T15:36:08.651515Z",
     "iopub.status.idle": "2022-08-07T15:36:08.657965Z",
     "shell.execute_reply": "2022-08-07T15:36:08.657057Z"
    },
    "papermill": {
     "duration": 0.017773,
     "end_time": "2022-08-07T15:36:08.659858",
     "exception": false,
     "start_time": "2022-08-07T15:36:08.642085",
     "status": "completed"
    },
    "tags": []
   },
   "outputs": [
    {
     "data": {
      "text/plain": [
       "(10000, 28, 28)"
      ]
     },
     "execution_count": 4,
     "metadata": {},
     "output_type": "execute_result"
    }
   ],
   "source": [
    "X_test.shape"
   ]
  },
  {
   "cell_type": "markdown",
   "id": "5fa765d4",
   "metadata": {
    "papermill": {
     "duration": 0.008068,
     "end_time": "2022-08-07T15:36:08.676103",
     "exception": false,
     "start_time": "2022-08-07T15:36:08.668035",
     "status": "completed"
    },
    "tags": []
   },
   "source": [
    "`y_train` and `y_test` basically contain the classes that are to be predicted with the help of the images provided"
   ]
  },
  {
   "cell_type": "code",
   "execution_count": 5,
   "id": "81049649",
   "metadata": {
    "execution": {
     "iopub.execute_input": "2022-08-07T15:36:08.694088Z",
     "iopub.status.busy": "2022-08-07T15:36:08.693266Z",
     "iopub.status.idle": "2022-08-07T15:36:08.700972Z",
     "shell.execute_reply": "2022-08-07T15:36:08.700030Z"
    },
    "id": "skzwnglnMzl6",
    "outputId": "ed1b62cf-97e9-44dd-fa63-2643180954a3",
    "papermill": {
     "duration": 0.018371,
     "end_time": "2022-08-07T15:36:08.702867",
     "exception": false,
     "start_time": "2022-08-07T15:36:08.684496",
     "status": "completed"
    },
    "tags": []
   },
   "outputs": [
    {
     "data": {
      "text/plain": [
       "array([5, 0, 4, ..., 5, 6, 8], dtype=uint8)"
      ]
     },
     "execution_count": 5,
     "metadata": {},
     "output_type": "execute_result"
    }
   ],
   "source": [
    "y_train"
   ]
  },
  {
   "cell_type": "code",
   "execution_count": 6,
   "id": "495f8e13",
   "metadata": {
    "execution": {
     "iopub.execute_input": "2022-08-07T15:36:08.720768Z",
     "iopub.status.busy": "2022-08-07T15:36:08.719994Z",
     "iopub.status.idle": "2022-08-07T15:36:08.726865Z",
     "shell.execute_reply": "2022-08-07T15:36:08.725950Z"
    },
    "papermill": {
     "duration": 0.018029,
     "end_time": "2022-08-07T15:36:08.728831",
     "exception": false,
     "start_time": "2022-08-07T15:36:08.710802",
     "status": "completed"
    },
    "tags": []
   },
   "outputs": [
    {
     "data": {
      "text/plain": [
       "array([7, 2, 1, ..., 4, 5, 6], dtype=uint8)"
      ]
     },
     "execution_count": 6,
     "metadata": {},
     "output_type": "execute_result"
    }
   ],
   "source": [
    "y_test"
   ]
  },
  {
   "cell_type": "markdown",
   "id": "b82dae6f",
   "metadata": {
    "papermill": {
     "duration": 0.00798,
     "end_time": "2022-08-07T15:36:08.744973",
     "exception": false,
     "start_time": "2022-08-07T15:36:08.736993",
     "status": "completed"
    },
    "tags": []
   },
   "source": [
    "Let's take a look at an image from the training dataset"
   ]
  },
  {
   "cell_type": "code",
   "execution_count": 7,
   "id": "d5ea47e6",
   "metadata": {
    "execution": {
     "iopub.execute_input": "2022-08-07T15:36:08.763001Z",
     "iopub.status.busy": "2022-08-07T15:36:08.762705Z",
     "iopub.status.idle": "2022-08-07T15:36:08.994698Z",
     "shell.execute_reply": "2022-08-07T15:36:08.993760Z"
    },
    "id": "jr2MuKsKRH5G",
    "outputId": "904487c2-a0ac-4a96-d4a0-e67d9dc8461e",
    "papermill": {
     "duration": 0.24383,
     "end_time": "2022-08-07T15:36:08.996956",
     "exception": false,
     "start_time": "2022-08-07T15:36:08.753126",
     "status": "completed"
    },
    "tags": []
   },
   "outputs": [
    {
     "data": {
      "image/png": "[encoded data removed]",
      "text/plain": [
       "<Figure size 1080x720 with 1 Axes>"
      ]
     },
     "metadata": {
      "needs_background": "light"
     },
     "output_type": "display_data"
    }
   ],
   "source": [
    "plt.imshow(X_train[0]);"
   ]
  },
  {
   "cell_type": "code",
   "execution_count": 8,
   "id": "cd93403b",
   "metadata": {
    "execution": {
     "iopub.execute_input": "2022-08-07T15:36:09.016026Z",
     "iopub.status.busy": "2022-08-07T15:36:09.015197Z",
     "iopub.status.idle": "2022-08-07T15:36:10.029866Z",
     "shell.execute_reply": "2022-08-07T15:36:10.029017Z"
    },
    "papermill": {
     "duration": 1.026466,
     "end_time": "2022-08-07T15:36:10.031988",
     "exception": false,
     "start_time": "2022-08-07T15:36:09.005522",
     "status": "completed"
    },
    "tags": []
   },
   "outputs": [
    {
     "data": {
      "text/html": [
       "        <script type=\"text/javascript\">\n",
       "        window.PlotlyConfig = {MathJaxConfig: 'local'};\n",
       "        if (window.MathJax && window.MathJax.Hub && window.MathJax.Hub.Config) {window.MathJax.Hub.Config({SVG: {font: \"STIX-Web\"}});}\n",
       "        if (typeof require !== 'undefined') {\n",
       "        require.undef(\"plotly\");\n",
       "        requirejs.config({\n",
       "            paths: {\n",
       "                'plotly': ['https://cdn.plot.ly/plotly-2.12.1.min']\n",
       "            }\n",
       "        });\n",
       "        require(['plotly'], function(Plotly) {\n",
       "            window._Plotly = Plotly;\n",
       "        });\n",
       "        }\n",
       "        </script>\n",
       "        "
      ]
     },
     "metadata": {},
     "output_type": "display_data"
    },
    {
     "data": {
      "text/html": [
       "<div>                            <div id=\"b7dea12b-1dc8-4e86-873a-9083ff5f966a\" class=\"plotly-graph-div\" style=\"height:525px; width:100%;\"></div>            <script type=\"text/javascript\">                require([\"plotly\"], function(Plotly) {                    window.PLOTLYENV=window.PLOTLYENV || {};                                    if (document.getElementById(\"b7dea12b-1dc8-4e86-873a-9083ff5f966a\")) {                    Plotly.newPlot(                        \"b7dea12b-1dc8-4e86-873a-9083ff5f966a\",                        [{\"alignmentgroup\":\"True\",\"bingroup\":\"x\",\"hovertemplate\":\"x=%{x}<br>count=%{y}<extra></extra>\",\"legendgroup\":\"\",\"marker\":{\"color\":\"#1F77B4\",\"pattern\":{\"shape\":\"\"}},\"name\":\"\",\"offsetgroup\":\"\",\"orientation\":\"v\",\"showlegend\":false,\"x\":[5,0,4,1,9,2,1,3,1,4,3,5,3,6,1,7,2,8,6,9,4,0,9,1,1,2,4,3,2,7,3,8,6,9,0,5,6,0,7,6,1,8,7,9,3,9,8,5,9,3,3,0,7,4,9,8,0,9,4,1,4,4,6,0,4,5,6,1,0,0,1,7,1,6,3,0,2,1,1,7,9,0,2,6,7,8,3,9,0,4,6,7,4,6,8,0,7,8,3,1,5,7,1,7,1,1,6,3,0,2,9,3,1,1,0,4,9,2,0,0,2,0,2,7,1,8,6,4,1,6,3,4,5,9,1,3,3,8,5,4,7,7,4,2,8,5,8,6,7,3,4,6,1,9,9,6,0,3,7,2,8,2,9,4,4,6,4,9,7,0,9,2,9,5,1,5,9,1,2,3,2,3,5,9,1,7,6,2,8,2,2,5,0,7,4,9,7,8,3,2,1,1,8,3,6,1,0,3,1,0,0,1,7,2,7,3,0,4,6,5,2,6,4,7,1,8,9,9,3,0,7,1,0,2,0,3,5,4,6,5,8,6,3,7,5,8,0,9,1,0,3,1,2,2,3,3,6,4,7,5,0,6,2,7,9,8,5,9,2,1,1,4,4,5,6,4,1,2,5,3,9,3,9,0,5,9,6,5,7,4,1,3,4,0,4,8,0,4,3,6,8,7,6,0,9,7,5,7,2,1,1,6,8,9,4,1,5,2,2,9,0,3,9,6,7,2,0,3,5,4,3,6,5,8,9,5,4,7,4,2,7,3,4,8,9,1,9,2,8,7,9,1,8,7,4,1,3,1,1,0,2,3,9,4,9,2,1,6,8,4,7,7,4,4,9,2,5,7,2,4,4,2,1,9,7,2,8,7,6,9,2,2,3,8,1,6,5,1,1,0,2,6,4,5,8,3,1,5,1,9,2,7,4,4,4,8,1,5,8,9,5,6,7,9,9,3,7,0,9,0,6,6,2,3,9,0,7,5,4,8,0,9,4,1,2,8,7,1,2,6,1,0,3,0,1,1,8,2,0,3,9,4,0,5,0,6,1,7,7,8,1,9,2,0,5,1,2,2,7,3,5,4,9,7,1,8,3,9,6,0,3,1,1,2,6,3,5,7,6,8,3,9,5,8,5,7,6,1,1,3,1,7,5,5,5,2,5,8,7,0,9,7,7,5,0,9,0,0,8,9,2,4,8,1,6,1,6,5,1,8,3,4,0,5,5,8,3,6,2,3,9,2,1,1,5,2,1,3,2,8,7,3,7,2,4,6,9,7,2,4,2,8,1,1,3,8,4,0,6,5,9,3,0,9,2,4,7,1,2,9,4,2,6,1,8,9,0,6,6,7,9,9,8,0,1,4,4,6,7,1,5,7,0,3,5,8,4,7,1,2,5,9,5,6,7,5,9,8,8,3,6,9,7,0,7,5,7,1,1,0,7,9,2,3,7,3,2,4,1,6,2,7,5,5,7,4,0,2,6,3,6,4,0,4,2,6,0,0,0,0,3,1,6,2,2,3,1,4,1,5,4,6,4,7,2,8,7,9,2,0,5,1,4,2,8,3,2,4,1,5,4,6,0,7,9,8,4,9,8,0,1,1,0,2,2,3,2,4,4,5,8,6,5,7,7,8,8,9,7,4,7,3,2,0,8,6,8,6,1,6,8,9,4,0,9,0,4,1,5,4,7,5,3,7,4,9,8,5,8,6,3,8,6,9,9,1,8,3,5,8,6,5,9,7,2,5,0,8,5,1,1,0,9,1,8,6,7,0,9,3,0,8,8,9,6,7,8,4,7,5,9,2,6,7,4,5,9,2,3,1,6,3,9,2,2,5,6,8,0,7,7,1,9,8,7,0,9,9,4,6,2,8,5,1,4,1,5,5,1,7,3,6,4,3,2,5,6,4,4,0,4,4,6,7,2,4,3,3,8,0,0,3,2,2,9,8,2,3,7,0,1,1,0,2,3,3,8,4,3,5,7,6,4,7,7,8,5,9,7,0,3,1,6,2,4,3,4,4,7,5,9,6,9,0,7,1,4,2,7,3,6,7,5,8,4,5,5,2,7,1,1,5,6,8,5,8,4,0,7,9,9,2,9,7,7,8,7,4,2,6,9,1,7,0,6,4,2,5,7,0,7,1,0,3,7,6,5,0,6,1,5,1,7,8,5,0,3,4,7,7,5,7,8,6,9,3,8,6,1,0,9,7,1,3,0,5,6,4,4,2,4,4,3,1,7,7,6,0,3,6,0,7,1,1,4,9,4,3,4,8,2,2,1,8,7,0,8,1,0,7,6,3,7,7,5,8,8,9,0,0,4,1,5,2,2,3,9,4,9,5,0,6,7,7,1,8,0,2,2,0,4,1,1,2,7,3,9,7,2,8,1,9,5,8,8,1,9,8,3,1,6,5,7,4,2,7,0,3,0,4,1,1,7,9,1,1,8,5,7,5,0,6,6,0,4,1,2,3,4,4,6,8,0,9,5,8,7,0,3,5,4,5,9,6,7,1,9,6,1,3,8,3,9,1,2,7,7,7,0,2,3,1,1,4,2,5,6,0,9,6,2,8,9,2,3,3,6,9,1,4,3,3,0,7,7,1,7,7,3,6,4,9,5,4,4,2,7,9,0,9,8,4,4,9,1,2,4,9,3,0,4,1,6,2,6,3,7,4,2,6,6,7,1,8,9,0,4,1,4,2,1,3,6,4,6,7,5,8,7,0,5,1,4,2,8,4,7,7,3,8,4,9,5,8,6,7,3,4,6,7,1,7,4,3,3,9,8,8,1,8,6,3,1,1,3,5,2,8,4,2,9,7,1,4,8,2,9,6,4,1,3,4,2,5,2,5,6,8,0,6,2,4,9,4,9,4,5,1,5,8,4,7,9,5,9,5,9,1,5,8,3,9,9,1,8,3,8,6,5,2,7,2,7,6,0,9,7,9,4,6,0,5,3,5,7,3,9,3,6,8,3,1,7,6,5,5,7,6,5,8,2,1,7,9,2,7,3,6,7,8,5,3,7,7,8,4,0,7,3,0,6,3,9,7,1,9,5,3,6,0,9,2,8,0,9,1,6,0,0,1,9,0,0,4,2,1,7,0,3,4,4,7,5,9,8,2,0,0,8,6,2,2,7,6,1,2,9,2,6,9,7,9,5,0,8,1,5,2,4,3,9,4,7,5,6,6,7,7,6,8,5,9,7,0,6,1,9,2,3,3,5,4,3,5,8,6,3,7,2,8,4,9,5,0,2,1,4,2,4,3,1,7,1,8,0,9,6,8,1,9,4,4,9,1,8,9,6,5,5,3,3,0,1,4,3,8,3,4,2,0,7,5,5,1,8,5,3,4,6,0,5,7,2,6,6,0,1,1,4,7,9,0,0,6,6,8,6,9,4,5,2,4,0,7,5,6,5,0,9,8,6,1,9,7,5,7,5,1,1,3,0,2,0,3,8,1,6,4,6,2,6,4,8,8,1,4,4,7,1,2,2,3,9,6,4,9,5,6,2,3,9,2,6,2,7,4,3,6,4,9,7,0,2,2,9,5,4,5,0,1,4,3,6,3,2,9,7,5,3,7,0,9,5,8,3,2,0,1,8,3,0,1,2,3,4,0,0,1,7,2,9,3,9,4,2,5,8,6,7,7,9,8,9,9,2,0,0,1,4,2,4,3,9,4,3,5,7,6,5,7,1,8,6,9,3,0,4,1,2,2,5,3,7,4,1,7,7,8,1,9,2,3,2,4,0,1,8,4,3,6,5,6,4,7,9,3,1,3,0,2,1,1,0,9,9,4,6,7,6,3,5,5,4,4,6,9,1,1,3,1,1,0,5,1,4,4,6,6,6,0,1,2,0,8,2,2,1,1,3,7,9,5,3,0,2,0,6,2,9,0,7,6,9,9,1,2,9,3,4,7,9,6,0,9,4,8,7,7,9,8,6,9,5,2,2,2,3,9,8,8,8,6,4,4,4,4,2,4,6,0,7,0,7,8,2,0,8,8,3,6,8,6,6,8,6,5,1,1,8,7,8,3,6,8,9,5,0,0,0,3,2,6,6,7,8,3,5,1,4,3,5,9,4,5,4,1,1,5,4,0,9,7,1,2,5,7,9,4,0,3,6,1,7,7,5,6,3,0,1,1,4,2,4,3,6,4,7,5,7,6,9,7,2,8,4,9,8,0,7,1,1,2,3,3,5,4,6,5,0,6,3,7,3,8,2,9,0,0,9,1,2,2,9,3,9,4,6,5,2,6,6,7,6,8,2,9,2,0,6,7,2,8,6,9,0,9,6,0,3,1,1,4,9,5,8,1,0,6,6,7,2,3,4,2,3,9,0,0,4,5,0,6,4,7,4,3,1,9,3,9,9,3,1,8,7,1,7,2,8,9,9,6,2,7,2,5,0,6,7,3,9,5,9,0,8,5,8,4,9,0,5,3,2,4,8,7,4,1,5,4,6,3,7,7,9,6,6,2,2,1,6,5,4,5,3,0,5,5,2,0,5,8,8,4,2,6,9,7,1,0,2,3,1,8,7,1,8,2,7,2,6,3,2,3,7,6,8,7,5,3,8,4,4,9,4,6,4,5,5,1,1,9,3,8,6,1,4,1,7,5,4,0,4,2,7,7,5,8,0,6,9,6,6,8,7,2,0,8,8,4,8,4,4,2,3,2,3,8,2,0,5,0,0,1,0,2,1,3,3,4,7,5,3,6,1,7,6,8,3,9,0,0,7,1,2,2,4,3,7,4,1,5,0,6,3,7,9,8,7,9,5,0,1,1,8,2,6,3,3,4,3,5,3,7,1,8,1,9,6,8,9,9,7,5,0,7,3,0,6,3,8,1,6,6,1,8,6,4,6,1,0,7,1,6,4,5,1,6,7,4,8,2,5,7,3,8,4,1,6,3,3,4,5,3,2,4,5,7,1,2,4,0,0,5,8,0,6,1,1,9,3,2,1,3,4,2,4,3,4,5,8,5,6,7,6,8,9,4,0,9,4,9,4,7,4,1,6,1,3,7,3,8,3,3,2,4,4,8,7,6,4,3,6,8,7,0,7,9,5,6,5,2,3,0,4,1,4,0,5,6,1,2,6,3,4,8,5,9,5,0,2,7,5,2,9,3,4,4,0,5,2,5,5,2,9,8,3,5,2,4,4,6,7,6,4,6,6,7,0,9,6,1,8,8,5,2,1,1,5,2,0,6,9,5,2,3,1,4,1,7,6,9,2,4,6,0,1,0,5,5,5,9,2,0,4,1,1,2,4,3,0,4,2,5,7,6,2,7,7,8,3,9,0,0,2,1,1,2,8,3,4,4,1,5,9,6,1,7,5,8,9,9,6,0,1,1,7,2,8,3,7,7,8,8,8,9,7,6,8,2,4,7,4,1,8,5,0,6,9,2,8,5,2,0,0,5,4,4,3,2,1,0,5,8,5,1,4,7,2,1,4,8,6,3,4,8,1,7,5,1,3,7,1,7,9,0,0,1,9,4,0,4,8,4,8,5,1,7,1,4,2,4,4,9,2,7,3,2,4,6,9,5,1,3,2,9,4,4,3,3,6,9,2,0,6,8,8,7,5,6,6,3,8,0,4,4,6,6,7,3,4,7,7,0,6,1,6,1,6,2,0,9,7,3,6,1,3,8,2,9,2,8,7,2,9,5,6,2,2,6,4,9,7,6,3,0,0,5,0,3,1,3,0,6,2,3,3,5,0,0,7,3,4,7,5,6,4,1,4,5,2,5,1,9,5,8,6,0,7,9,4,0,9,1,3,2,5,3,3,4,6,5,1,6,7,7,7,8,4,9,3,0,0,1,0,2,0,3,6,4,6,7,5,8,1,9,4,0,8,1,9,2,6,3,1,5,0,6,4,7,8,8,7,9,6,0,1,0,7,1,5,0,5,1,0,2,2,3,8,0,1,6,3,9,7,6,8,6,6,5,9,2,0,9,6,1,5,4,2,9,7,5,3,7,1,5,6,6,7,7,3,3,6,1,2,4,7,1,8,3,2,3,8,7,5,3,7,9,8,8,6,8,8,8,2,8,4,8,1,4,5,7,1,2,2,1,9,9,5,8,2,7,9,9,7,3,7,3,1,0,6,7,9,5,2,4,1,1,0,1,3,2,9,6,4,1,3,5,9,0,1,1,4,2,3,3,0,4,2,5,3,6,4,7,5,0,0,1,2,2,7,3,7,4,7,5,6,6,5,7,3,8,1,9,9,0,7,1,8,2,0,3,4,4,3,5,1,6,7,9,5,8,0,2,1,6,3,9,3,6,2,1,2,9,1,9,3,9,9,4,4,4,2,3,9,8,0,1,4,4,8,1,2,2,7,9,3,0,3,4,3,9,6,1,2,7,0,4,6,4,1,1,4,8,3,7,6,6,2,0,2,8,8,1,7,8,2,2,7,6,6,2,7,1,0,2,4,5,1,4,9,5,6,6,0,7,2,7,5,5,1,3,1,0,4,2,1,2,1,2,6,7,0,3,6,5,3,2,4,1,0,4,2,4,1,3,4,0,6,0,5,8,4,7,0,3,1,1,2,7,6,9,5,6,0,3,5,3,1,0,1,5,4,6,9,6,3,8,5,7,6,3,1,5,9,0,2,1,1,2,8,3,8,4,0,5,5,6,5,7,7,8,0,9,6,0,9,1,8,2,3,3,4,4,3,5,5,6,5,7,1,8,8,9,0,0,2,1,6,2,7,3,7,4,7,7,7,8,1,9,4,8,6,5,1,7,0,9,1,5,9,0,8,8,1,3,2,5,7,4,7,8,0,3,8,0,0,2,4,1,9,0,9,2,0,5,8,8,8,8,9,5,8,3,3,0,6,4,4,4,8,1,2,6,9,1,6,3,3,0,6,3,4,6,2,9,4,3,6,7,7,4,5,9,2,7,8,0,1,9,1,4,4,8,4,3,9,2,2,7,1,7,8,9,9,5,8,7,4,6,9,4,4,8,8,9,6,6,6,9,4,4,2,1,9,2,0,0,3,6,4,1,2,1,8,6,7,4,5,8,1,9,1,6,3,4,5,6,0,5,1,0,1,2,2,0,6,5,4,6,7,5,2,0,8,1,9,2,8,1,3,7,8,8,8,1,2,4,8,3,0,2,7,8,9,2,2,7,8,9,5,3,6,9,3,0,2,1,3,2,5,3,4,4,4,5,9,6,5,7,9,8,3,9,4,0,8,1,0,2,2,3,9,4,5,5,7,6,2,7,7,8,1,0,7,3,5,4,4,5,3,6,4,7,2,8,1,9,7,6,1,0,9,3,1,4,7,1,9,4,4,0,2,8,2,6,7,0,0,7,7,8,7,7,8,7,9,9,3,0,4,4,0,9,3,9,5,7,6,0,7,5,1,8,2,5,7,9,4,8,4,8,7,7,9,5,0,6,6,5,4,3,9,8,6,1,9,6,7,8,2,5,9,9,2,2,1,2,2,0,9,9,4,2,3,4,9,7,3,3,3,1,9,3,7,6,5,6,0,2,6,1,3,2,4,6,3,0,8,2,4,2,2,7,1,1,9,3,9,7,4,4,4,8,8,9,5,2,3,9,4,5,2,6,6,8,6,0,7,0,4,9,7,1,9,1,0,0,5,1,1,2,9,3,5,5,3,6,4,9,2,0,6,1,1,2,0,3,9,4,3,5,3,6,3,7,1,8,7,0,0,1,1,2,9,3,5,4,1,5,8,6,3,7,3,8,7,1,7,0,1,1,8,5,0,3,4,4,8,4,1,0,7,0,2,6,8,9,7,6,4,6,3,5,6,4,1,4,4,4,3,0,3,7,1,9,3,5,1,7,2,3,3,1,6,4,8,4,1,0,8,9,8,9,4,6,2,1,1,8,0,3,0,8,7,8,4,8,7,8,5,8,8,4,4,7,9,7,9,1,9,9,8,8,0,7,0,8,7,9,6,3,7,3,6,5,8,5,9,0,6,7,1,9,0,5,2,6,7,5,1,0,3,6,9,1,1,4,4,1,3,1,3,2,8,8,7,2,5,6,1,1,0,5,2,0,9,1,0,2,8,3,6,4,2,5,3,6,2,7,5,8,2,9,8,0,6,1,9,2,0,3,1,1,9,5,3,6,9,7,8,8,1,0,1,1,3,2,4,3,0,4,0,5,3,6,8,7,7,8,7,9,0,6,4,4,3,2,1,6,8,4,0,7,5,5,9,5,5,4,7,7,2,8,1,9,6,2,5,9,6,3,4,9,6,3,3,8,8,2,2,0,9,9,8,8,4,0,4,5,3,6,2,0,3,1,2,0,9,2,2,5,5,3,3,5,4,3,8,8,8,0,7,0,4,5,9,4,0,3,6,4,0,1,9,5,6,3,4,0,2,8,2,3,1,0,4,6,7,2,0,7,2,1,4,1,6,8,7,1,8,7,4,1,0,3,6,8,4,4,3,2,9,0,8,9,9,7,2,6,7,7,5,4,3,1,3,6,1,8,9,4,8,1,6,2,8,6,5,7,9,1,6,9,6,8,0,0,0,6,7,9,7,4,9,9,9,9,7,6,7,2,8,3,6,7,9,1,7,2,1,5,1,3,7,7,0,8,6,0,3,1,3,2,6,3,8,4,9,5,6,6,1,7,3,8,2,9,4,0,2,1,5,2,9,3,2,4,4,5,7,6,8,7,3,8,7,9,2,0,1,1,9,2,7,3,6,4,6,5,5,6,4,7,5,8,8,9,7,6,5,2,8,6,9,5,0,4,1,2,2,0,0,8,0,1,2,7,0,1,2,8,8,3,7,7,0,1,1,7,1,1,2,4,9,4,0,5,6,7,6,4,9,9,7,7,7,2,8,6,3,5,5,3,2,9,1,9,8,0,2,8,6,7,2,9,6,0,3,6,7,3,7,0,5,4,4,6,7,3,6,7,6,0,1,1,1,4,8,8,6,8,1,1,0,2,1,9,8,3,9,1,5,4,5,2,8,9,4,8,2,2,9,8,4,6,8,9,5,2,4,9,7,6,6,3,1,3,9,6,7,3,0,1,5,2,8,5,0,0,1,3,1,1,1,5,2,5,6,9,7,8,3,0,7,9,9,0,2,1,6,2,9,3,7,4,8,5,4,6,8,7,7,8,0,9,7,0,5,1,9,2,8,3,6,4,9,5,8,6,9,7,5,8,1,9,1,0,3,1,1,2,6,3,7,4,5,5,6,6,2,7,0,8,8,9,2,6,4,1,6,9,9,9,3,9,2,4,9,4,8,3,4,8,5,1,0,4,0,1,6,2,6,5,4,0,7,9,9,5,1,3,9,0,9,4,5,9,1,1,7,7,4,4,5,4,3,1,3,8,1,7,0,6,2,0,4,8,8,1,6,8,1,2,3,6,3,2,9,0,1,9,1,1,7,2,1,5,5,4,6,5,4,7,4,7,8,5,4,3,4,0,2,2,5,2,1,2,6,7,1,3,5,1,5,4,3,4,6,3,7,0,1,0,2,4,9,7,2,9,6,7,2,8,6,8,0,7,0,9,0,6,9,3,4,1,7,7,4,9,2,6,6,3,3,3,3,1,3,0,4,2,7,6,9,0,3,5,1,6,3,6,4,8,7,7,3,3,8,5,9,8,3,3,4,0,7,1,6,2,0,3,8,7,4,8,3,9,2,0,7,3,8,4,0,7,1,8,0,0,5,1,4,2,1,3,7,4,7,5,1,6,5,7,5,8,9,9,8,5,0,1,5,9,6,9,0,7,4,1,9,0,2,9,8,0,7,5,3,9,7,7,7,1,7,3,4,6,7,3,0,2,3,0,0,9,4,0,8,6,9,1,3,7,7,2,0,8,7,3,6,4,9,7,6,6,7,6,9,3,8,2,7,3,0,8,5,9,9,4,2,8,4,8,8,7,4,1,8,0,1,8,6,7,7,7,7,5,2,9,3,2,6,3,6,1,4,1,6,4,4,5,1,5,2,0,5,4,3,8,1,7,7,4,5,9,6,2,2,3,6,6,7,4,8,1,4,2,4,4,8,1,2,5,0,1,2,9,8,3,5,2,7,0,4,0,9,2,7,9,4,3,5,6,4,0,9,1,8,2,1,3,7,4,2,5,2,6,7,7,5,8,8,9,1,0,1,1,0,2,3,3,1,4,4,5,0,6,4,7,0,8,1,9,1,0,3,1,3,2,3,3,3,4,2,5,7,6,2,7,6,8,4,9,1,8,6,0,7,5,7,6,0,6,1,0,6,8,4,0,4,2,2,3,9,7,6,9,7,4,2,7,3,1,1,9,0,1,5,7,6,1,5,0,4,0,1,4,9,1,3,7,6,5,2,7,2,1,8,3,8,3,8,3,3,1,6,6,0,9,5,7,7,4,9,3,5,0,8,2,5,5,1,2,7,6,9,0,0,8,2,9,6,4,5,3,4,5,7,4,6,8,5,1,0,5,4,9,3,0,9,6,3,4,8,6,4,8,3,1,6,4,0,7,1,5,2,7,2,2,2,2,8,0,1,0,0,1,3,7,6,7,2,9,2,5,5,9,9,8,5,9,7,6,3,8,1,8,9,2,7,3,0,6,8,1,0,2,0,9,9,8,8,9,3,5,1,2,8,6,8,2,6,4,5,8,2,4,1,6,1,5,6,0,2,1,2,2,0,3,9,4,2,5,6,7,7,8,5,0,4,1,6,2,7,3,3,4,0,5,3,6,3,7,0,8,4,9,0,0,1,1,5,2,9,3,0,4,4,7,5,8,3,1,1,6,1,8,4,9,6,9,1,0,7,1,0,2,6,4,4,4,4,3,7,7,5,4,9,4,1,4,3,0,7,3,4,8,4,7,6,5,4,8,0,2,7,1,3,7,1,9,4,1,8,1,9,6,6,2,5,1,4,3,9,8,9,6,6,4,9,9,7,4,8,2,3,4,4,4,7,6,7,2,5,5,2,5,8,0,3,2,0,8,0,0,2,6,7,8,8,1,8,7,3,1,3,6,3,7,0,6,1,8,4,7,7,4,3,9,2,3,6,3,1,5,6,8,7,0,4,3,0,7,9,9,4,7,3,7,1,9,9,1,7,6,0,7,5,8,6,0,9,1,2,2,9,3,0,4,1,5,6,6,1,7,0,8,7,9,6,0,9,1,6,2,9,3,2,4,5,5,1,6,1,7,7,8,5,9,1,0,4,1,4,2,3,3,1,4,1,5,0,6,7,7,3,8,9,5,1,1,1,9,5,9,1,7,1,1,6,0,8,9,7,0,2,5,3,9,6,7,8,1,0,7,3,2,1,2,7,3,4,6,1,8,1,0,9,8,0,3,1,2,7,0,2,9,6,0,1,6,7,1,9,7,6,5,5,8,8,3,4,4,8,7,3,6,4,6,6,3,8,8,9,9,4,4,0,7,8,1,0,0,1,8,5,7,1,7,5,5,9,9,4,2,5,3,7,4,6,6,0,1,0,1,2,4,8,5,3,5,0,0,6,4,3,8,3,7,1,4,3,9,2,2,0,3,6,6,7,4,3,2,2,4,9,1,0,5,2,4,8,2,1,0,8,4,4,8,0,6,4,1,4,9,6,3,1,2,9,0,1,0,4,2,9,9,4,3,8,6,9,3,0,6,7,0,3,1,4,2,3,3,0,4,2,5,5,6,3,7,2,8,5,9,2,0,1,1,8,2,9,3,1,4,1,5,7,6,4,7,7,8,3,9,3,0,5,1,3,2,0,3,0,4,0,7,4,8,8,9,0,0,1,8,7,3,9,9,5,5,9,6,7,8,2,4,6,9,8,1,6,7,9,1,6,2,0,9,6,6,2,9,1,1,2,1,3,1,5,2,7,8,0,1,0,2,8,0,2,7,3,7,5,5,1,8,2,2,6,9,1,8,7,4,0,6,0,7,3,1,0,6,6,0,9,3,4,6,7,8,9,7,3,0,0,4,0,2,6,7,5,4,6,4,8,2,0,8,7,1,7,5,1,1,2,2,7,5,6,6,7,4,2,3,9,0,2,0,9,0,4,3,4,7,7,0,3,6,0,4,3,8,6,8,1,3,8,9,0,9,0,8,0,2,8,7,8,7,9,1,7,0,3,1,4,2,3,3,8,4,9,5,6,6,4,7,0,8,3,9,8,0,6,1,8,2,5,3,2,4,5,5,6,6,9,7,3,8,9,9,3,0,8,1,3,2,0,3,2,4,9,5,9,6,4,7,3,8,4,9,3,6,5,2,7,5,8,6,2,2,7,5,5,1,9,7,1,1,8,8,3,3,3,8,2,7,2,1,5,7,3,1,4,4,7,7,7,2,4,6,5,5,9,3,5,9,3,9,8,0,0,8,0,7,6,3,0,0,0,3,7,7,8,0,8,1,9,1,2,2,4,1,1,6,6,0,0,5,4,3,9,3,1,6,7,3,0,5,1,9,0,9,7,0,5,1,2,2,3,3,0,4,0,5,1,6,9,7,1,8,9,9,6,0,5,1,2,2,1,3,9,4,8,7,8,8,9,9,7,0,3,1,9,2,7,3,8,4,5,5,1,6,6,7,6,8,9,9,0,6,3,0,7,7,6,3,7,7,1,1,9,3,8,7,6,9,3,7,4,4,1,0,7,0,6,6,3,9,4,5,9,6,8,9,7,8,5,5,6,1,2,5,0,3,5,9,0,8,1,3,0,4,9,0,3,5,2,6,5,3,0,4,2,8,7,0,8,6,1,4,6,8,6,1,4,3,2,4,3,0,3,1,1,9,0,2,1,3,7,7,7,5,6,1,2,7,9,2,3,8,0,7,9,0,5,1,5,9,8,6,9,4,0,1,7,2,5,3,8,1,6,3,6,5,6,3,5,4,0,1,0,6,0,8,8,0,0,8,2,9,3,4,9,9,2,2,1,6,3,0,5,1,1,2,7,3,9,5,4,6,2,7,2,8,9,9,3,0,0,1,1,2,4,4,3,5,3,6,9,7,5,8,2,9,9,0,3,1,6,2,5,3,7,4,1,5,2,6,1,7,2,8,4,9,6,0,7,7,3,5,6,0,6,8,5,4,7,1,6,8,6,8,7,1,7,3,3,1,2,8,4,3,9,7,4,9,3,3,8,0,6,9,6,4,9,4,0,0,6,7,3,4,1,2,2,9,7,8,3,7,4,2,1,7,6,8,5,9,0,3,6,1,1,4,9,6,3,5,1,2,1,2,0,2,6,5,6,6,1,7,3,8,4,7,5,5,3,1,9,6,1,4,1,9,5,2,9,9,3,3,5,5,9,3,1,6,9,6,4,0,1,0,0,2,0,5,0,6,2,4,9,9,8,2,8,7,9,4,2,9,2,1,5,0,7,2,2,2,6,3,7,6,2,1,8,8,9,3,6,0,3,3,9,5,3,0,2,0,1,6,0,1,5,6,4,9,0,5,9,3,3,9,4,4,7,5,6,8,1,6,2,7,4,1,6,1,3,7,4,0,6,1,9,2,1,3,7,4,3,5,8,6,3,7,7,8,0,9,3,0,4,1,5,2,7,3,2,4,6,5,9,6,1,7,6,8,6,9,6,0,1,1,5,2,8,3,0,4,9,5,2,6,7,7,3,8,5,9,1,1,8,0,6,4,5,5,4,6,8,6,3,3,0,4,9,4,2,2,3,8,9,1,2,0,7,6,3,4,7,9,1,7,7,2,2,3,4,3,2,9,1,2,7,0,8,9,5,3,1,3,8,9,9,1,0,5,9,2,2,3,1,1,9,6,5,7,7,3,6,7,9,8,0,4,5,0,3,2,9,4,6,0,1,2,3,4,1,7,1,8,5,0,2,7,1,0,3,6,4,9,1,3,2,2,2,4,4,8,7,6,7,0,7,1,8,0,2,6,7,7,1,2,2,9,0,7,3,9,6,5,8,8,4,9,9,6,8,6,4,2,9,8,9,1,9,7,2,5,3,5,2,7,9,3,7,5,6,0,5,1,3,1,4,3,1,8,5,4,2,9,1,4,6,5,8,1,5,8,5,6,7,8,2,9,1,0,1,1,4,2,2,3,8,4,3,5,4,6,4,7,2,8,7,9,1,0,0,1,3,2,1,3,9,4,6,5,9,6,8,7,8,8,1,0,6,1,7,2,7,3,2,4,1,5,4,6,4,7,4,8,1,9,5,6,6,6,4,3,2,4,9,2,5,8,5,1,7,0,7,6,3,4,8,9,3,7,8,2,5,3,0,3,9,9,0,3,3,3,5,9,0,1,7,5,9,2,4,3,9,1,4,6,4,7,0,3,1,7,0,8,8,4,5,0,0,2,1,4,0,0,0,7,9,8,4,0,6,7,3,0,3,6,2,9,5,3,2,2,3,4,5,8,8,6,1,0,7,5,2,7,3,5,8,1,1,0,9,8,5,1,1,6,5,7,9,2,7,9,1,7,9,9,1,5,2,6,6,5,8,2,6,6,0,1,6,7,3,5,0,5,6,7,8,3,0,5,1,0,3,1,5,1,2,3,3,8,5,1,3,0,0,1,4,2,5,3,3,4,3,5,7,6,5,7,1,8,9,9,3,0,2,1,0,2,0,3,4,4,3,5,6,6,4,7,6,8,1,9,9,0,4,1,6,2,2,3,0,4,8,5,5,6,6,7,7,8,2,9,2,7,6,4,4,7,6,7,1,3,4,9,2,8,2,8,0,3,8,1,3,5,0,8,5,2,8,7,8,6,7,1,8,5,9,2,3,6,9,4,9,1,3,8,5,7,6,5,7,5,1,1,4,8,8,9,4,1,0,3,2,6,9,3,8,3,4,2,6,2,7,6,4,6,1,5,4,5,1,3,4,3,6,8,9,1,7,6,1,5,1,6,6,8,6,1,3,9,6,7,8,6,8,8,3,3,1,7,9,9,7,0,3,0,3,3,4,7,4,9,7,3,6,0,8,2,8,0,4,1,5,0,3,1,0,0,7,1,8,0,8,4,8,7,2,9,2,2,2,0,0,6,3,2,9,6,5,2,6,2,1,9,2,9,5,0,5,1,0,2,7,3,4,4,1,5,4,6,3,8,5,9,3,0,5,1,7,3,9,4,6,5,4,6,4,7,0,8,1,9,5,0,1,1,0,2,7,3,7,4,6,5,6,6,9,7,7,8,1,9,0,1,1,8,0,6,3,7,0,1,3,3,5,7,4,7,4,9,1,3,6,6,7,0,4,2,6,6,8,4,0,8,6,4,9,5,1,0,0,3,7,9,6,2,8,1,8,1,1,5,3,9,7,4,3,2,7,0,0,4,8,4,3,0,2,9,3,6,0,9,7,2,5,2,8,1,5,7,4,9,2,5,5,1,3,1,5,9,8,6,9,0,8,1,4,8,6,4,4,6,6,8,0,8,4,2,8,6,8,3,4,2,4,9,8,2,8,4,7,0,9,9,1,0,7,3,3,3,6,5,5,8,0,4,1,7,5,6,9,2,5,2,9,7,3,7,2,0,5,5,9,1,5,5,6,3,3,0,3,1,2,2,7,3,1,4,7,5,5,6,1,7,9,8,6,0,6,1,7,4,1,7,7,0,5,1,9,4,5,7,4,8,3,9,3,6,8,8,3,2,1,4,7,6,3,8,3,6,7,6,2,7,3,1,7,7,8,0,9,2,3,2,9,0,8,1,1,6,0,5,6,1,7,2,9,0,5,2,8,3,8,4,8,8,2,3,1,7,2,4,9,1,8,7,6,4,7,8,0,3,0,9,8,6,9,7,3,0,0,9,0,6,0,0,2,6,8,1,5,0,5,5,6,5,5,1,7,0,5,1,4,0,2,9,8,4,4,5,1,9,8,7,4,0,0,2,9,1,6,4,7,4,0,9,2,6,9,7,0,4,1,8,1,9,5,0,8,1,7,2,3,3,5,7,8,8,4,0,0,1,1,2,8,3,5,4,3,5,8,6,0,8,0,9,7,0,9,1,3,7,1,9,0,6,6,3,0,3,5,9,9,9,2,5,1,1,8,4,1,2,3,5,2,4,1,7,6,9,2,1,4,5,7,2,9,6,6,3,9,7,4,8,6,5,6,1,3,2,9,6,9,6,5,7,5,8,1,8,9,1,4,8,8,3,4,7,6,0,0,0,0,1,3,5,3,0,8,5,1,2,2,8,8,0,5,4,2,3,9,1,3,8,4,2,5,9,3,9,0,5,1,2,3,6,0,5,4,7,8,1,2,9,5,7,7,1,1,2,4,6,9,0,8,0,8,1,4,2,1,3,8,4,3,5,9,6,2,7,9,8,9,9,6,0,4,1,6,2,9,3,7,4,6,7,3,8,5,9,8,0,6,1,1,2,6,3,7,4,8,7,6,8,5,9,1,5,7,1,5,9,1,9,2,0,5,9,5,0,4,5,3,9,9,1,0,7,9,2,9,2,5,3,2,3,9,2,2,0,6,9,5,0,0,6,9,1,5,7,7,5,4,0,4,3,7,4,0,7,3,6,8,6,2,3,6,3,4,8,6,4,8,7,5,1,7,0,7,8,8,7,9,5,9,2,7,1,8,1,0,4,8,5,3,5,1,0,2,4,8,8,1,7,3,4,7,9,3,2,0,3,7,6,6,4,2,1,5,2,7,1,4,5,7,2,5,0,8,4,0,8,2,6,7,1,0,9,4,3,5,2,2,0,0,0,5,2,8,5,0,6,7,9,5,3,7,6,7,3,7,6,5,0,2,1,2,2,3,3,6,4,8,6,1,7,1,8,1,9,2,0,1,1,3,2,2,3,9,4,7,5,7,1,3,7,1,8,4,0,2,1,9,2,2,3,6,1,8,7,7,8,1,8,4,5,5,7,7,9,5,5,8,0,6,8,1,3,6,5,0,4,6,8,0,3,4,0,0,2,9,1,7,0,1,2,9,5,2,8,9,8,5,5,5,3,2,0,2,4,8,4,6,1,9,6,7,1,1,3,5,0,2,3,4,6,6,9,0,3,8,7,2,9,8,7,8,0,6,4,9,8,2,3,6,2,1,7,4,7,2,9,7,5,1,1,7,5,1,2,9,8,8,9,1,6,6,9,5,7,0,6,8,4,0,1,2,2,3,0,1,6,4,1,6,1,6,7,0,2,7,3,8,6,1,4,1,8,2,6,4,4,6,6,3,5,3,0,8,2,1,0,3,5,5,6,2,5,4,0,6,1,3,2,9,1,8,7,8,8,7,1,7,4,2,3,2,2,7,8,3,2,9,7,1,9,2,3,3,9,2,0,1,1,1,2,3,3,8,4,8,5,5,6,8,7,7,8,2,9,0,0,1,1,4,2,2,3,1,4,1,5,3,6,6,7,0,8,3,9,1,0,5,1,3,2,8,3,9,4,3,7,9,8,8,9,6,0,7,0,2,1,9,0,3,1,7,2,1,7,3,5,6,3,9,4,8,4,2,0,0,0,0,6,8,9,9,6,1,6,6,2,1,3,4,4,6,4,4,9,0,1,7,7,2,9,4,5,2,7,5,5,5,6,9,2,6,3,1,1,1,4,8,4,1,0,7,9,9,9,2,6,2,1,3,8,1,3,3,3,8,7,7,3,2,9,9,8,2,8,3,4,2,7,2,7,3,6,0,2,1,1,2,9,2,8,3,7,2,8,9,8,3,2,5,3,4,9,1,0,7,7,8,9,9,0,8,6,0,4,2,1,5,1,9,2,8,8,4,2,1,6,0,1,3,5,1,0,8,1,1,2,5,3,5,4,8,5,0,6,5,7,1,8,7,9,4,0,8,1,0,2,1,3,3,4,4,5,7,6,6,7,2,8,8,9,0,0,1,1,3,2,6,3,0,4,5,5,9,6,5,7,9,8,0,9,0,2,1,2,1,7,5,6,5,4,9,0,7,5,8,8,1,0,1,7,4,3,2,5,8,4,2,1,9,8,8,0,6,5,8,2,0,7,0,2,0,3,9,6,1,2,9,1,2,7,0,7,9,9,0,9,7,1,9,2,0,4,8,6,4,7,2,7,5,5,5,4,3,5,6,0,6,1,6,1,4,9,3,9,0,8,3,0,3,2,4,0,2,3,5,5,6,6,7,1,7,8,1,6,5,4,0,6,2,0,6,9,4,2,8,6,5,4,3,3,3,9,0,3,3,0,7,0,5,5,2,2,4,5,0,8,9,8,1,8,6,9,9,4,7,3,1,4,6,2,7,8,0,8,3,7,0,1,3,1,3,3,5,6,2,9,9,4,5,1,6,3,9,8,7,7,1,6,6,9,6,3,6,3,2,7,1,4,2,1,7,9,4,1,0,0,7,6,1,0,3,1,0,2,0,3,6,4,2,5,5,6,1,7,0,8,0,9,1,0,7,3,0,4,8,5,3,6,3,7,1,8,5,9,5,0,7,1,8,2,0,3,8,7,7,8,6,9,7,7,7,6,6,0,8,6,6,6,2,6,2,9,1,0,0,0,1,1,1,3,3,9,1,7,7,3,7,8,0,5,4,8,1,1,5,4,1,8,7,5,3,1,7,0,3,1,5,6,3,0,1,3,7,8,7,9,3,2,2,1,2,7,6,4,4,5,8,2,2,8,7,4,9,7,1,1,9,8,1,0,6,6,2,3,3,2,3,9,7,0,8,4,3,7,9,4,4,3,8,4,9,5,3,0,7,0,0,2,5,0,3,1,7,2,1,3,5,4,0,5,3,6,4,7,7,8,4,9,0,0,0,1,9,2,4,3,7,4,6,7,0,8,7,9,0,0,6,1,2,2,0,3,1,7,4,8,8,9,7,8,0,6,8,5,9,0,8,6,6,8,6,9,9,4,9,1,5,9,9,0,8,4,6,8,6,9,1,1,1,4,2,0,6,5,3,5,8,4,2,0,4,7,4,6,1,0,3,1,6,7,0,0,9,6,9,8,3,7,7,9,7,8,8,6,0,0,4,8,2,1,2,7,6,7,8,1,4,3,1,1,6,0,8,0,1,7,2,8,5,9,1,3,7,8,6,4,4,7,1,2,9,3,3,6,9,9,6,2,4,2,5,4,9,6,1,5,6,5,1,1,9,3,5,3,2,7,1,8,8,2,5,5,7,7,4,9,9,8,9,2,7,1,2,3,9,0,3,1,1,2,6,3,1,4,4,5,2,6,6,7,1,8,4,9,9,0,2,1,0,2,2,3,7,4,6,5,2,6,8,7,9,8,1,9,6,0,2,1,9,2,3,4,8,6,3,7,6,8,7,9,5,3,1,8,4,0,9,7,1,1,9,0,7,7,9,5,8,5,8,6,3,9,6,0,3,1,1,0,6,0,4,8,8,3,1,4,0,3,1,1,3,0,6,9,5,5,1,3,2,4,3,9,7,3,9,7,4,6,7,9,2,2,7,4,3,5,4,7,7,2,1,1,7,6,1,4,4,9,2,4,8,9,9,4,1,1,6,2,9,2,7,1,7,3,2,2,4,9,1,4,7,3,3,8,9,2,1,2,0,2,2,1,7,2,8,8,9,6,4,5,5,1,9,6,6,7,9,2,2,1,4,3,6,7,6,5,2,9,5,3,4,8,5,7,1,5,4,7,1,0,9,7,5,4,6,8,1,8,8,3,1,7,8,6,5,9,2,9,3,4,9,8,5,4,1,1,8,0,0,6,3,6,8,0,6,1,8,2,6,3,8,4,4,6,7,7,3,8,9,0,1,1,4,2,3,3,3,4,5,5,9,6,3,7,7,8,6,9,8,0,0,1,6,2,5,3,8,5,8,6,5,7,9,4,1,0,2,7,2,2,5,9,8,4,5,2,9,9,2,8,0,4,3,5,7,8,1,8,3,0,8,3,5,5,4,4,6,3,1,3,6,4,9,6,1,5,8,1,8,7,2,8,3,4,0,5,3,7,6,2,3,3,4,6,7,6,3,7,9,7,7,7,1,6,3,0,2,1,0,0,6,1,3,6,3,5,6,3,6,1,3,4,6,7,7,6,3,2,4,2,2,5,1,9,0,1,4,2,4,2,2,7,6,9,6,7,6,9,2,2,4,0,5,4,2,8,6,7,6,0,2,3,7,8,6,4,6,6,4,1,4,4,5,0,2,3,3,6,3,2,3,0,2,4,3,8,4,1,8,3,0,1,0,0,6,9,5,0,9,1,1,2,4,3,6,5,7,6,0,7,4,8,1,0,8,1,8,2,2,3,2,4,0,5,8,6,4,7,0,8,1,0,3,1,5,2,6,3,6,4,4,5,3,6,3,7,4,8,2,9,7,8,4,3,3,7,2,0,4,1,4,7,2,3,9,0,1,9,2,4,6,5,3,2,2,0,7,6,0,2,1,1,5,1,5,1,7,7,1,2,6,4,4,2,9,9,6,7,9,0,3,0,3,7,8,5,6,1,1,1,8,6,6,1,0,8,8,2,7,7,6,4,4,0,5,4,4,2,0,5,0,0,2,3,0,1,4,9,6,1,5,1,4,0,0,6,8,9,7,3,2,0,0,8,6,3,7,9,5,6,5,3,9,0,6,1,9,4,1,5,3,6,8,7,3,8,3,9,7,0,5,1,7,2,8,3,6,4,2,5,6,6,5,7,2,8,4,0,7,1,2,2,1,3,4,4,1,5,8,6,9,7,4,8,9,9,6,1,9,6,5,8,6,9,9,9,1,0,9,1,8,2,1,4,5,4,3,3,0,7,6,4,3,4,4,4,9,0,8,3,8,8,6,7,0,5,5,1,7,5,8,8,0,9,3,2,5,5,4,1,6,1,9,6,8,2,3,1,3,3,3,8,2,6,7,4,4,9,3,2,0,0,0,0,7,1,7,6,6,2,0,5,6,5,8,0,6,2,2,8,7,0,4,6,2,8,8,1,0,7,7,9,3,1,5,9,3,2,5,6,8,7,5,6,9,6,1,8,2,7,6,4,2,9,2,2,8,1,2,3,6,3,1,0,2,5,1,5,6,7,1,9,2,7,3,0,7,2,3,7,7,9,7,1,3,3,6,6,4,7,2,8,7,0,1,3,9,5,1,3,3,6,0,0,1,1,3,2,3,3,9,6,9,7,9,8,0,9,1,0,8,1,6,2,2,3,5,4,0,5,3,6,5,7,5,0,5,1,1,2,8,3,5,4,6,5,5,6,0,7,5,8,9,9,4,8,1,7,5,4,1,3,7,9,8,8,2,8,4,3,8,1,5,5,5,8,4,2,9,7,2,4,5,2,1,6,3,5,7,2,5,4,3,5,4,6,9,4,4,1,9,7,2,5,2,1,3,3,0,3,1,6,0,9,8,6,4,3,3,3,5,1,7,6,3,5,3,6,0,1,3,9,7,3,9,7,1,4,7,7,7,0,4,9,6,0,0,0,4,3,7,7,6,9,9,2,5,0,0,1,7,0,0,1,0,0,6,4,5,0,5,4,3,7,6,9,7,2,2,0,1,6,0,2,0,2,1,9,3,9,2,0,6,1,2,2,8,3,1,4,7,5,4,6,7,7,6,8,7,9,9,0,0,1,2,2,7,3,6,4,5,5,3,6,2,7,3,8,7,0,0,1,6,2,8,3,0,5,9,6,6,7,4,8,7,5,1,4,2,8,0,7,2,4,7,7,1,7,0,3,8,9,6,8,4,8,7,3,1,1,8,5,4,8,5,2,1,7,2,4,6,2,6,6,5,1,6,5,7,2,1,4,4,5,7,5,1,8,3,6,8,4,6,4,7,1,2,8,3,7,2,5,7,5,8,1,3,8,3,9,9,1,1,3,1,6,3,3,1,3,3,2,4,2,1,6,9,9,4,9,4,6,3,3,3,3,8,8,9,1,7,6,5,5,3,6,8,8,5,1,9,9,7,7,2,6,7,8,6,3,3,7,0,4,2,7,3,0,2,9,1,0,7,0,1,3,3,7,2,9,5,3,8,0,0,2,5,0,6,1,8,0,3,1,0,0,6,4,6,0,4,1,3,0,9,4,0,7,2,9,4,2,7,0,4,6,0,2,2,6,7,2,8,2,9,9,3,9,8,0,1,1,2,2,5,3,7,4,0,5,0,6,4,7,2,8,0,9,9,0,9,1,2,2,9,3,6,4,8,5,8,6,3,7,7,8,5,9,2,0,7,1,2,2,3,3,2,4,8,5,9,6,3,7,7,8,0,9,8,7,8,4,1,3,6,8,5,5,6,1,1,8,0,5,6,2,9,8,3,6,5,1,6,9,6,2,0,4,0,0,5,9,2,9,6,3,2,7,8,7,0,9,2,1,9,8,0,2,1,7,8,5,9,8,3,5,2,3,8,2,7,2,1,0,5,5,6,8,2,6,3,0,8,4,3,0,9,3,6,8,0,1,9,0,7,3,4,0,7,4,1,7,7,4,7,9,0,2,6,9,2,1,9,2,5,5,8,7,1,1,3,7,1,1,7,6,1,7,2,3,0,3,3,6,8,5,4,6,0,2,8,8,6,7,6,6,1,4,3,9,0,8,8,8,9,2,4,9,1,6,8,5,6,5,8,9,9,5,8,3,7,7,8,4,5,3,1,6,2,0,2,0,0,6,9,9,8,0,2,1,3,1,4,3,0,2,4,1,8,0,4,0,0,1,7,2,7,3,7,4,0,5,8,6,9,7,3,8,7,9,9,0,1,1,5,2,0,3,8,4,7,5,2,6,4,7,1,8,0,9,2,0,0,1,9,2,5,3,6,4,3,5,6,6,9,7,1,8,3,9,6,0,7,9,1,5,7,5,3,6,8,9,5,8,1,9,4,8,5,7,8,5,8,1,1,0,9,0,2,2,3,2,6,7,2,8,0,2,2,0,2,1,7,2,9,6,2,3,5,3,9,7,7,3,1,3,2,6,9,4,4,9,2,0,6,9,1,5,9,2,4,8,3,2,1,0,0,0,2,1,8,3,8,2,0,1,2,7,9,4,1,6,1,3,2,1,0,3,9,9,3,1,5,7,7,6,4,8,1,4,7,3,1,1,2,4,7,3,5,6,6,9,9,0,0,1,7,7,4,5,6,4,0,4,7,7,1,7,5,9,9,5,9,8,0,8,6,4,5,9,2,0,4,8,9,9,2,8,7,0,0,1,3,2,9,4,3,5,4,6,3,7,4,8,6,9,1,0,8,1,6,4,5,5,2,6,0,7,9,8,6,9,4,0,3,1,0,4,0,7,5,0,6,9,1,9,8,7,4,7,0,5,2,1,5,0,3,0,4,7,2,0,1,1,1,4,6,6,0,6,8,6,0,5,3,2,5,8,3,0,9,1,5,7,5,6,1,2,9,1,6,7,7,7,6,6,2,1,7,4,6,9,9,6,2,7,4,4,2,4,3,7,5,2,1,8,4,2,3,0,7,1,0,2,3,3,3,4,6,5,0,6,9,7,4,8,0,9,1,0,6,1,1,2,0,3,4,4,0,5,2,6,6,7,8,8,3,9,1,0,1,1,0,2,2,3,5,4,0,5,9,6,1,7,1,8,0,9,9,6,0,5,5,9,7,3,3,4,7,3,7,8,4,5,8,1,5,5,3,2,1,3,2,0,7,1,9,2,5,1,9,3,1,2,6,6,1,5,8,3,3,0,8,7,9,2,3,7,5,4,5,6,2,4,9,0,6,5,6,9,8,9,8,8,1,9,3,5,6,3,3,1,0,7,1,4,4,7,4,6,2,5,3,4,1,0,3,0,2,6,7,6,2,2,9,0,9,6,8,3,6,7,8,7,0,4,8,4,5,3,4,9,7,2,5,8,1,9,2,6,4,0,5,9,1,5,7,3,6,8,2,8,9,7,3,1,3,4,7,0,9,4,2,3,2,9,0,0,6,7,6,2,5,1,5,9,6,1,0,5,7,1,5,7,7,4,6,8,6,6,2,1,1,6,4,8,4,8,1,0,0,1,5,2,1,3,2,4,8,7,2,8,9,9,5,0,1,1,2,2,8,3,5,4,9,5,7,6,8,7,4,8,8,9,5,0,6,1,1,2,0,3,3,4,3,7,5,8,4,9,9,1,2,6,4,8,2,9,5,9,1,0,4,1,8,2,6,4,8,4,4,3,4,7,1,4,7,4,4,4,3,0,9,3,7,8,6,7,5,5,6,8,5,2,9,1,9,5,1,8,0,5,3,1,3,1,4,6,6,2,3,1,3,3,3,4,2,9,7,4,1,9,1,2,2,0,4,0,1,4,8,4,3,6,6,2,0,5,7,5,4,0,9,2,7,6,8,8,1,1,2,7,7,9,7,1,8,9,9,2,4,6,8,7,3,6,3,6,0,8,3,7,4,4,8,2,5,1,5,3,7,3,9,0,6,5,0,5,9,8,6,0,3,3,4,7,3,9,3,7,5,3,2,6,4,7,5,8,9,0,6,3,2,5,4,3,9,0,5,1,9,2,6,3,7,4,6,5,6,6,9,7,3,8,5,9,8,0,2,1,5,2,0,3,9,4,9,5,4,6,5,7,6,8,8,9,9,0,5,1,2,2,3,3,7,4,3,5,4,6,1,7,6,8,1,9,0,7,1,6,0,4,2,3,9,0,4,6,1,6,4,6,8,9,4,0,9,0,8,1,7,3,8,9,1,4,4,5,3,7,0,9,3,5,1,6,3,8,3,9,5,1,1,3,4,8,7,5,1,7,5,8,3,1,2,4,3,8,3,5,5,8,9,1,4,0,6,7,4,6,0,1,0,6,4,0,2,3,1,4,0,6,1,8,4,9,6,2,7,1,9,7,8,4,0,5,7,2,4,5,9,2,7,1,8,2,6,9,4,3,5,9,6,2,5,2,4,5,2,8,4,7,3,4,6,7,9,1,2,8,0,0,6,9,2,6,6,8,1,1,3,1,7,5,2,7,4,6,0,3,3,5,6,4,3,2,6,9,3,0,1,4,2,7,4,4,3,3,3,2,0,9,4,2,2,0,7,3,0,4,4,5,0,0,8,0,2,3,2,2,3,8,0,3,6,3,4,0,3,1,4,0,4,1,6,7,1,1,0,3,7,5,7,1,1,7,0,1,6,8,5,6,2,8,9,1,8,0,0,4,9,3,7,0,9,1,7,2,1,3,2,7,2,8,7,9,9,0,7,1,5,2,9,3,6,7,6,8,9,9,3,0,2,1,8,2,2,3,1,4,3,5,0,6,5,7,8,8,7,9,4,7,4,4,6,0,7,4,6,0,1,1,5,7,3,9,6,5,8,1,4,4,8,2,4,8,9,9,1,4,5,3,1,1,6,7,8,8,0,2,7,4,7,4,7,3,7,3,0,6,6,9,8,9,1,5,7,8,5,6,4,7,9,0,7,6,9,8,9,2,9,6,9,3,5,9,1,3,9,2,7,1,9,7,9,4,8,8,9,8,1,9,3,0,6,3,7,3,0,9,9,9,6,4,1,1,2,0,3,3,3,7,1,5,5,8,0,8,2,2,3,9,9,7,1,1,2,2,9,6,7,4,4,2,8,3,5,6,1,6,4,5,7,0,1,0,5,2,1,8,7,1,9,6,1,1,9,0,6,4,3,3,2,1,8,6,7,1,1,9,7,0,3,1,2,2,9,3,8,4,0,5,2,6,1,7,5,8,1,9,4,0,6,1,0,2,0,3,8,4,5,5,1,6,7,7,0,8,7,9,7,0,6,1,5,2,0,3,1,4,2,5,2,6,6,7,7,8,1,9,0,8,5,6,1,5,1,0,1,6,2,8,9,9,9,4,7,1,7,9,8,5,9,3,4,0,2,4,8,8,2,9,6,1,9,4,6,0,3,5,2,1,5,5,8,7,7,6,5,0,1,1,8,7,4,0,5,6,1,8,4,9,9,5,1,4,2,7,0,9,4,8,7,6,0,0,7,8,1,1,4,7,2,7,2,1,1,3,9,2,8,1,2,4,6,2,8,0,9,0,3,7,5,8,2,4,4,6,0,4,9,9,6,3,4,8,5,4,5,7,9,2,3,5,8,6,3,3,8,6,5,9,5,6,7,3,6,2,5,2,4,4,4,6,7,9,5,0,1,2,1,5,8,5,1,1,7,3,4,3,0,9,7,7,1,2,3,2,1,5,3,7,0,9,7,8,6,2,0,1,7,3,9,1,9,3,7,0,5,1,3,3,8,4,7,5,9,6,2,7,3,8,3,9,1,0,2,1,0,2,7,3,7,4,8,5,3,6,5,7,0,8,2,0,4,1,9,2,9,3,0,4,8,5,0,6,5,7,6,9,7,7,5,0,4,5,2,2,8,9,1,0,1,1,1,5,6,8,0,8,8,0,7,9,3,3,0,2,1,7,4,8,9,4,9,4,1,5,2,9,1,6,0,1,5,0,7,4,7,5,5,3,4,9,2,4,7,3,4,4,0,2,5,0,4,5,7,0,8,1,7,3,1,2,9,9,4,1,8,6,5,0,1,1,6,1,6,8,9,0,6,4,7,7,9,7,4,6,4,3,0,5,5,6,9,6,2,0,1,7,8,3,5,5,3,4,3,2,0,4,3,1,7,8,2,3,8,5,8,6,8,5,8,2,1,0,6,6,9,7,8,1,7,2,2,5,4,8,0,1,4,9,0,3,2,8,8,8,3,8,0,3,3,7,0,6,1,8,9,7,4,1,7,4,7,6,4,7,2,9,2,9,5,3,7,0,0,3,5,4,6,5,7,6,3,7,5,0,0,1,0,2,8,3,7,4,6,5,5,6,3,7,5,0,8,1,7,2,2,3,9,4,9,5,4,6,9,7,7,8,4,9,2,8,6,7,9,7,6,0,0,1,8,3,7,5,9,2,5,8,2,0,0,9,0,6,5,0,4,9,7,1,2,1,8,8,0,4,9,3,5,2,6,1,1,2,6,6,8,5,3,6,5,7,6,4,8,8,5,1,9,8,4,0,0,5,8,9,6,4,7,1,2,9,7,2,9,1,0,9,8,6,9,7,8,9,3,0,9,4,0,6,4,1,9,7,0,3,5,8,9,9,9,6,5,3,4,9,6,0,9,5,5,7,9,1,8,6,8,1,7,0,7,9,0,3,8,3,6,4,1,4,4,0,3,6,3,2,4,5,6,4,5,4,1,0,9,2,6,0,0,1,6,2,3,3,5,4,1,5,8,6,4,7,4,8,9,9,9,0,7,1,6,2,8,3,7,4,6,5,0,6,9,7,0,8,8,0,3,1,8,2,5,3,7,4,0,5,3,6,3,7,8,8,4,9,1,7,8,4,4,3,4,8,1,5,1,1,1,8,3,8,5,6,7,1,9,9,4,2,8,4,1,0,4,9,1,9,7,3,4,7,8,7,6,9,4,1,1,8,9,4,9,4,1,2,3,7,5,5,8,8,3,5,6,3,6,2,5,2,3,0,9,5,4,8,3,6,4,0,6,4,1,0,3,3,5,8,8,1,6,0,7,3,8,0,9,4,4,7,3,4,7,9,1,2,8,9,1,1,0,2,1,5,7,7,0,1,0,7,0,1,5,6,3,7,0,3,3,3,1,6,2,5,1,6,9,2,9,8,8,7,1,6,0,4,6,9,9,8,8,9,7,6,1,9,0,5,8,3,0,7,3,4,7,3,8,6,4,0,4,0,2,4,8,6,9,6,9,9,2,0,7,1,7,1,5,3,1,2,3,1,6,0,3,0,6,1,3,2,4,3,1,4,3,5,1,6,5,7,2,8,1,9,2,0,9,1,8,2,3,3,3,4,9,5,8,6,7,7,2,8,4,9,6,0,3,1,6,2,0,3,0,4,8,5,6,6,9,7,3,8,0,9,7,4,9,2,8,6,5,4,2,7,8,5,6,4,7,7,9,8,7,9,8,2,3,9,2,3,7,9,4,3,8,8,1,2,3,0,1,9,4,8,1,6,9,0,4,1,0,0,3,4,4,3,3,5,4,3,3,8,1,0,3,0,6,5,9,4,3,3,3,5,7,3,3,0,2,8,6,3,1,0,5,6,0,2,1,7,7,1,2,1,9,8,2,1,2,7,0,1,5,3,8,8,9,5,1,1,4,2,5,0,1,9,7,7,3,6,1,7,4,4,4,1,8,6,6,7,2,5,9,1,7,2,6,6,1,7,0,1,3,9,4,8,7,0,2,6,2,9,2,4,7,9,3,9,9,6,1,2,1,3,4,7,9,1,9,9,8,2,3,2,6,5,6,3,6,7,7,8,0,0,4,1,4,2,6,3,7,4,8,5,6,6,5,7,4,8,2,9,5,0,7,1,6,2,8,3,5,4,1,5,5,6,3,7,7,8,8,9,9,0,3,1,0,2,5,3,0,4,3,5,1,6,1,7,1,8,2,9,0,2,6,5,6,1,8,6,7,4,7,3,6,9,4,9,1,0,8,9,3,7,4,1,5,6,0,4,3,3,3,6,5,2,0,2,6,0,0,0,1,8,7,2,2,5,9,9,4,8,5,6,0,5,9,7,5,0,5,0,7,4,1,7,8,4,2,3,0,2,8,2,5,4,1,1,3,3,8,4,6,7,2,7,9,7,3,2,5,0,6,9,2,8,4,5,4,6,9,4,8,3,4,8,2,2,8,8,7,3,5,8,7,9,8,5,1,8,1,0,6,5,5,4,6,7,1,1,4,3,9,1,8,7,5,9,0,0,4,9,3,1,8,7,8,3,0,8,1,0,0,3,7,9,0,1,2,6,9,4,7,3,7,2,1,1,2,8,5,6,0,4,5,5,0,0,5,1,5,5,9,5,3,6,3,5,3,0,1,1,1,2,9,3,8,4,8,5,5,6,0,7,2,8,3,9,1,0,7,1,4,2,6,3,7,4,0,5,1,6,5,7,9,9,2,0,7,1,6,2,1,3,0,4,3,7,2,9,7,4,5,7,6,6,4,3,6,4,0,0,2,9,9,7,5,1,7,9,7,3,0,8,8,4,3,7,8,3,2,0,4,9,4,9,4,1,9,1,7,4,0,2,1,0,5,6,2,2,5,1,7,1,2,1,6,1,3,7,3,2,5,4,5,7,4,5,2,2,1,9,3,4,3,5,4,8,9,9,6,7,3,0,3,0,9,7,1,5,2,1,9,1,8,7,7,6,9,6,2,6,5,8,2,2,2,2,5,7,2,7,6,4,9,0,4,2,0,4,3,2,6,3,1,3,0,3,3,1,9,1,8,6,0,9,8,5,8,5,9,3,7,0,5,8,9,3,6,9,8,6,2,0,7,1,9,2,4,3,9,4,2,5,1,6,3,7,4,8,3,9,0,0,8,1,1,2,1,3,8,4,8,5,2,6,5,7,3,8,8,9,9,0,4,1,2,2,1,3,2,4,7,5,8,6,8,7,5,8,6,9,4,3,3,4,7,1,4,4,8,6,4,6,5,7,6,3,7,3,8,2,5,1,8,9,3,4,0,7,7,3,5,4,3,9,7,1,9,1,8,0,1,1,4,4,6,6,9,0,8,2,8,8,8,2,6,5,2,2,7,1,3,7,9,0,0,2,9,0,9,6,5,8,2,2,5,9,7,2,0,3,6,6,7,9,9,8,4,7,0,8,7,9,5,2,5,2,8,9,7,8,0,6,4,4,5,4,9,4,0,0,0,0,5,8,1,0,2,8,6,6,2,6,9,8,1,7,5,3,5,8,9,0,0,3,2,6,1,8,4,3,1,1,9,3,3,9,1,1,3,9,9,0,8,7,5,2,8,7,3,4,0,3,4,1,9,7,4,6,3,0,7,1,2,2,1,3,3,4,3,5,3,6,2,7,7,8,8,9,1,0,2,1,7,2,1,3,7,4,0,5,7,6,1,7,6,8,6,9,7,0,8,1,9,2,7,3,5,4,0,5,8,7,7,8,3,9,7,3,9,8,0,0,2,7,2,1,3,0,8,7,0,6,3,9,6,0,3,1,0,0,0,0,3,8,6,3,3,4,6,3,6,1,3,5,0,0,5,0,5,9,4,5,0,3,0,4,3,7,7,6,6,9,5,2,3,4,4,5,1,7,5,2,8,1,1,6,5,4,5,9,1,4,0,9,9,4,1,1,8,2,5,2,9,5,0,8,6,1,5,3,0,2,3,9,6,4,7,3,3,2,1,1,3,2,5,8,4,6,9,5,6,1,9,6,2,7,5,2,0,1,8,3,6,7,8,5,6,9,5,3,9,8,5,7,2,5,3,7,1,0,5,7,1,4,4,8,8,8,0,5,8,0,5,6,4,6,3,3,8,7,9,6,9,9,5,9,9,4,6,8,0,4,5,1,2,0,1,6,2,6,3,0,8,1,7,2,7,3,2,4,8,5,3,6,1,7,1,8,5,9,8,0,1,1,5,2,8,3,5,7,2,8,0,9,7,0,8,1,9,2,7,3,4,4,8,7,8,8,8,9,4,6,9,9,4,6,2,1,2,9,8,9,3,9,8,4,3,4,6,3,4,8,3,1,0,4,2,1,0,2,9,5,4,0,5,9,9,4,0,9,5,0,6,7,1,4,9,4,1,1,8,8,3,7,9,6,7,0,2,8,2,1,3,8,2,2,0,6,6,2,3,0,8,9,4,1,5,2,1,5,2,4,2,5,1,6,7,7,1,7,3,5,8,3,4,0,2,2,3,2,9,2,0,7,9,3,5,5,7,2,6,1,5,4,7,4,1,3,0,0,6,0,4,8,2,5,2,4,8,7,1,9,1,8,3,7,8,9,4,6,7,3,3,1,7,7,9,9,1,6,3,3,8,3,5,1,0,0,1,2,2,6,8,0,1,5,8,6,5,6,9,8,6,7,7,3,5,5,1,8,2,3,8,0,1,1,2,2,6,3,9,1,8,5,8,6,6,0,2,1,8,2,3,3,1,1,8,5,4,6,1,7,7,8,4,0,5,1,7,2,9,3,1,1,4,7,9,4,2,8,3,1,3,5,3,6,7,5,4,7,9,2,9,8,3,6,9,3,1,3,3,8,9,6,8,5,8,4,7,0,6,9,4,1,2,7,9,2,2,9,6,1,9,5,1,1,6,3,3,2,3,3,5,6,7,1,6,3,4,6,5,9,7,0,9,1,2,8,5,1,0,4,9,0,0,6,5,1,0,2,3,6,0,9,3,2,9,2,7,3,7,5,1,5,3,0,9,7,7,7,7,9,6,6,6,2,2,9,0,4,4,7,9,0,6,2,6,3,2,4,7,0,3,0,6,8,1,5,5,1,7,3,1,7,1,9,8,8,7,8,5,9,0,0,5,9,7,8,2,9,9,0,0,6,7,5,8,6,7,7,0,4,2,7,2,5,0,4,3,1,0,3,6,5,0,3,6,0,7,1,3,2,6,3,1,4,7,5,2,6,6,7,4,8,4,9,4,0,0,1,4,2,6,3,6,4,5,5,4,6,8,7,4,8,4,9,0,0,0,1,8,2,4,3,0,6,1,7,1,8,5,9,8,0,7,9,1,9,3,8,0,9,9,8,7,4,4,1,9,7,3,7,4,3,2,0,6,0,2,7,0,8,0,2,8,0,2,1,8,2,0,6,2,3,2,3,9,7,8,3,9,3,5,6,5,6,4,4,8,9,5,1,5,9,1,8,2,2,8,0,1,3,5,2,8,1,0,7,6,3,8,1,4,3,6,9,2,1,1,7,8,6,7,8,3,4,9,3,2,1,4,4,5,0,8,5,1,3,2,6,9,9,9,6,1,1,3,8,7,2,5,2,8,5,9,7,0,8,8,9,1,8,4,0,8,1,7,2,2,3,3,4,3,5,3,6,7,7,0,8,4,9,1,0,2,1,9,2,6,3,7,4,5,5,2,6,0,7,5,8,1,9,9,0,1,1,8,2,4,3,4,4,8,5,1,6,6,7,5,8,7,9,5,1,3,2,9,6,2,5,4,3,7,0,5,2,0,8,7,7,5,0,1,3,5,6,0,4,7,4,5,3,2,6,0,7,2,2,7,3,9,9,2,1,9,2,5,1,2,2,1,9,8,6,2,0,2,1,4,3,6,0,7,2,8,7,9,5,5,7,9,6,0,1,5,9,7,0,1,6,4,0,0,6,0,0,8,2,9,0,3,6,5,1,8,5,6,8,2,4,4,3,6,0,5,1,9,5,3,4,6,4,4,8,6,8,8,4,4,5,1,7,4,5,3,7,0,8,5,3,4,4,9,8,3,8,1,5,5,2,9,9,5,7,4,1,9,3,1,8,8,1,1,0,2,7,6,5,1,9,3,6,7,9,9,4,7,7,2,7,7,9,6,9,8,5,1,8,9,3,6,4,0,4,4,3,3,8,2,6,3,2,1,0,8,1,4,2,4,3,0,7,0,8,7,9,0,3,7,4,3,7,7,9,4,0,6,1,9,2,4,3,1,7,6,8,2,3,8,8,9,7,6,1,1,0,1,7,1,6,5,9,5,0,3,1,8,0,9,0,4,1,6,0,6,9,9,3,0,4,9,7,8,6,2,9,2,2,6,1,1,6,7,4,3,4,3,1,1,2,0,2,9,1,7,3,8,2,9,9,1,3,5,2,5,1,6,2,6,1,5,6,2,7,8,2,8,3,0,8,7,7,3,5,4,7,2,0,3,7,8,4,7,6,6,3,0,7,5,6,8,9,1,9,3,4,0,8,1,4,6,1,6,0,3,6,2,6,4,0,4,1,5,2,0,3,4,4,9,5,9,6,8,7,4,8,9,9,5,0,2,3,7,4,3,5,8,6,3,7,3,8,2,9,7,0,1,1,1,2,1,3,2,4,7,5,0,6,8,7,3,8,8,9,8,0,4,5,2,5,5,6,3,5,2,0,6,9,8,8,4,9,1,8,6,4,9,1,9,7,7,5,2,1,2,0,5,0,3,2,1,2,0,7,4,1,7,2,6,6,6,3,4,3,0,7,7,3,5,3,7,4,4,4,7,1,4,5,5,0,4,9,3,5,2,2,3,8,9,2,7,0,3,0,1,1,5,7,0,6,3,3,9,2,6,1,4,7,0,1,6,3,4,9,9,7,9,6,1,1,7,4,3,0,7,5,4,6,7,1,2,7,7,5,7,7,4,2,6,7,1,9,6,5,6,8,1,0,8,1,4,2,6,3,4,4,7,5,3,8,8,9,5,0,5,1,6,2,6,3,3,4,8,5,8,6,7,7,0,8,2,9,8,0,4,1,4,2,4,3,1,4,6,5,6,6,9,7,8,8,6,9,0,8,5,6,5,5,3,0,6,6,8,8,9,9,1,4,7,1,3,9,5,5,8,3,3,0,2,4,9,8,1,9,4,1,2,4,3,0,8,5,6,5,7,2,0,5,5,4,9,0,7,7,4,6,0,0,1,1,9,7,8,0,8,6,6,8,1,9,3,5,3,4,4,7,5,9,9,8,0,6,5,0,7,8,0,1,8,7,1,7,1,1,2,3,9,2,6,3,8,1,6,4,7,2,8,0,4,0,2,7,6,8,9,4,8,6,6,4,3,9,4,3,9,8,3,4,1,7,9,2,2,5,2,6,7,3,6,6,5,2,8,2,3,4,1,6,7,9,9,0,9,2,0,1,9,3,7,3,8,9,5,7,8,8,7,7,1,2,2,2,2,5,0,7,9,9,9,8,1,2,6,1,7,3,2,1,5,3,3,0,1,1,1,2,5,3,3,4,7,5,2,6,1,7,8,8,1,9,2,0,3,1,3,2,4,3,9,4,9,5,9,6,0,7,1,8,5,9,8,0,7,1,1,2,8,3,4,4,1,5,8,6,6,7,6,8,2,9,3,5,5,0,7,6,9,8,1,9,7,4,9,1,7,9,2,5,9,3,1,0,2,4,6,8,1,9,0,1,5,4,1,0,9,5,6,1,7,5,9,4,1,0,6,7,2,6,1,0,4,1,8,7,5,0,4,6,9,8,4,9,2,5,1,4,9,7,9,9,1,8,9,6,4,0,1,8,5,1,2,7,1,7,5,1,1,3,6,2,6,3,3,1,3,4,5,2,3,0,2,0,9,7,1,8,3,4,5,6,1,4,0,9,2,3,6,8,1,4,6,7,4,2,2,5,0,6,1,3,0,6,1,9,8,6,3,3,5,2,8,2,4,4,0,6,7,9,0,0,5,2,1,5,5,5,9,1,7,3,3,3,4,9,3,7,1,2,6,5,7,7,6,9,3,8,4,2,2,1,8,3,7,1,4,3,8,0,8,1,7,2,0,3,5,4,9,7,6,8,5,9,5,0,0,1,7,2,9,3,5,7,9,8,0,9,2,0,6,1,5,2,1,3,5,4,0,5,5,6,9,7,1,8,0,9,1,2,1,5,0,1,8,6,0,4,9,3,1,9,6,9,7,0,9,9,7,7,3,1,3,6,5,4,4,3,1,6,4,2,3,2,6,0,6,0,7,5,9,9,6,5,0,7,7,3,7,2,7,2,5,4,0,7,3,6,9,7,4,7,3,2,4,8,6,8,9,2,1,8,3,3,2,7,7,1,5,3,6,9,8,0,5,9,1,1,0,7,9,3,3,8,8,0,3,3,1,9,7,1,7,6,8,4,7,3,2,2,1,1,1,8,9,6,2,1,2,5,4,0,7,1,2,2,6,3,8,4,5,5,8,6,0,8,1,0,3,1,4,2,2,3,4,4,1,5,9,6,5,7,5,8,1,9,4,0,9,4,6,5,1,6,0,7,6,8,3,9,6,0,9,7,2,0,0,7,3,8,6,3,3,5,6,3,7,8,3,8,0,1,3,4,6,9,3,6,4,1,9,8,1,9,5,4,9,1,5,2,8,5,8,9,2,9,6,5,3,4,5,3,4,3,5,3,1,9,0,0,6,1,6,9,3,1,5,2,1,7,4,9,1,1,5,0,4,6,5,2,6,4,8,0,8,3,7,8,3,9,9,5,4,6,2,6,4,5,7,1,8,7,4,1,1,4,8,6,4,9,2,1,8,3,1,1,2,6,0,3,5,0,9,6,6,7,6,1,7,3,0,8,4,2,8,6,7,2,5,6,5,7,2,8,7,7,2,0,3,1,3,2,2,3,6,4,0,5,3,6,6,7,3,8,5,9,7,0,0,1,7,2,3,3,9,7,6,8,8,9,0,0,2,1,0,2,2,3,9,7,4,8,0,9,7,3,0,4,8,1,0,4,6,6,5,6,0,7,8,3,3,3,1,2,5,1,3,9,0,4,3,7,8,3,1,5,1,4,5,9,7,1,4,1,5,0,9,1,9,4,0,6,0,0,4,2,7,5,3,2,1,1,4,7,1,5,0,0,0,0,9,2,7,3,2,7,0,6,9,9,5,8,2,7,8,8,0,9,9,2,4,2,3,9,1,9,8,5,1,4,2,4,8,4,2,0,6,0,4,8,8,6,8,6,0,8,3,5,1,1,6,7,8,0,6,3,8,6,2,7,9,8,7,3,0,1,2,3,6,9,9,5,3,9,9,9,2,5,0,0,8,4,9,3,4,1,9,7,6,6,6,0,5,1,8,2,2,3,4,4,1,5,4,6,2,7,7,8,0,9,0,0,1,1,5,2,0,3,5,4,0,7,6,8,6,9,1,0,2,1,6,2,1,3,7,4,5,7,1,8,8,9,5,6,9,4,1,2,5,6,0,4,2,7,8,8,7,9,5,3,6,9,9,3,2,8,7,2,4,0,7,9,6,8,1,0,3,0,3,1,3,0,8,5,5,3,0,5,8,3,3,8,1,0,5,0,6,5,8,4,4,3,1,4,6,1,1,5,7,3,5,0,2,6,0,2,5,7,2,1,5,1,6,8,7,1,5,7,5,1,0,3,3,8,7,5,8,4,4,2,7,0,6,9,0,2,5,6,9,7,5,1,2,9,1,6,4,4,3,6,9,2,2,3,3,7,3,1,4,2,0,5,7,3,9,7,9,8,6,0,0,1,4,2,0,3,6,4,3,5,5,6,4,7,1,8,5,9,0,0,5,1,5,2,1,3,0,4,5,5,9,7,6,8,1,9,7,0,2,1,0,2,7,3,6,7,0,8,9,9,6,5,4,2,5,8,1,1,7,7,6,2,0,4,0,1,3,4,7,1,0,8,3,3,3,7,1,8,4,4,9,3,0,3,2,5,8,6,7,7,7,0,8,6,2,1,6,6,1,8,1,0,2,1,3,5,9,0,9,8,1,5,7,1,6,8,3,4,2,7,5,6,3,9,8,1,3,9,0,0,2,6,5,7,7,1,8,2,6,3,7,9,9,2,9,4,5,5,1,3,1,7,7,5,2,3,9,1,8,8,2,2,8,2,5,3,2,0,6,2,9,9,8,4,5,9,8,7,8,0,8,0,2,2,4,7,1,4,7,9,6,9,6,2,2,8,2,1,1,5,6,6,8,9,4,8,6,3,5,8,3,3,1,6,3,7,1,0,9,0,5,0,1,1,6,2,9,3,5,4,4,5,3,6,4,7,7,8,6,9,2,0,9,1,2,2,1,3,5,7,8,8,5,9,6,0,5,1,0,2,2,3,5,4,8,5,1,6,9,7,3,8,0,9,7,0,2,8,2,7,0,8,2,9,1,9,7,0,9,1,8,4,3,5,8,1,6,6,7,0,5,5,2,6,4,7,9,3,8,9,5,9,2,3,0,8,4,1,8,2,8,9,7,6,6,7,3,3,0,3,7,4,2,7,2,7,2,9,0,1,1,7,4,6,3,2,5,1,7,5,4,5,4,0,1,5,3,0,1,8,1,4,7,0,1,3,8,8,8,1,1,2,1,2,0,3,7,1,5,3,0,6,8,7,7,3,9,4,8,9,1,6,9,5,6,1,3,9,1,8,7,1,8,1,5,2,9,7,7,6,8,8,5,8,1,4,9,2,8,2,8,0,0,1,7,2,4,3,1,4,2,5,3,6,2,7,1,8,4,9,7,0,0,1,1,2,5,3,4,4,4,5,7,6,0,7,2,8,8,0,7,1,0,2,2,3,9,4,6,5,1,6,3,7,4,8,8,9,9,7,3,1,6,5,1,6,9,2,0,5,0,0,5,5,5,4,9,2,1,0,5,8,3,1,1,7,3,1,3,8,5,3,1,8,6,7,5,1,8,7,5,1,3,4,9,4,2,4,1,5,7,7,0,4,8,4,5,7,0,2,2,5,5,3,2,9,6,3,0,9,3,0,8,8,1,7,7,9,9,0,5,6,5,3,0,0,6,4,8,6,4,3,6,7,4,0,8,1,5,4,9,8,5,1,4,2,4,9,6,3,7,1,2,8,1,4,0,2,3,9,4,8,4,8,1,6,9,5,2,2,0,1,9,9,7,2,9,9,2,1,0,0,8,5,9,3,5,3,3,6,5,1,7,2,0,5,8,0,3,3,3,7,6,6,1,1,3,5,3,5,7,9,0,8,0,0,0,9,9,0,7,1,4,2,7,3,3,4,2,5,6,6,1,7,6,8,0,9,4,0,2,1,1,2,7,3,6,4,8,5,8,6,3,7,5,8,6,9,1,0,3,1,4,2,9,3,9,4,4,5,5,6,2,7,4,8,9,9,5,6,3,0,5,3,9,4,6,1,5,4,7,0,7,8,0,6,4,4,9,5,6,4,0,0,1,7,1,8,4,7,1,7,6,9,0,0,3,9,9,7,8,4,3,2,9,5,7,8,6,5,0,9,1,8,2,8,0,7,0,1,7,3,5,5,6,3,2,1,4,6,2,5,1,3,8,8,1,7,2,3,2,1,6,6,6,8,1,5,7,9,1,2,3,2,3,0,4,9,5,2,6,4,1,7,8,3,2,1,5,3,1,6,7,2,5,1,7,2,9,6,9,0,4,2,3,2,7,7,7,1,1,3,2,7,1,4,1,7,1,4,8,8,6,9,6,2,8,9,3,5,9,1,6,5,4,6,9,8,1,3,2,5,6,6,3,0,8,9,8,9,2,3,7,1,0,1,2,0,8,3,3,4,6,5,6,6,9,7,2,8,3,9,9,0,9,1,5,2,6,3,5,8,6,0,6,1,8,2,6,3,2,7,6,8,8,9,7,9,4,0,9,1,9,4,9,7,2,3,2,2,9,9,9,0,4,5,8,6,6,7,8,3,8,9,8,9,6,3,5,8,5,1,7,2,1,9,7,6,7,7,5,5,9,6,7,3,4,4,7,9,9,1,4,2,2,9,8,3,5,4,8,4,0,3,0,1,8,7,1,3,4,4,1,9,9,6,8,9,7,8,9,1,4,1,0,6,6,6,3,8,6,2,6,8,6,4,3,8,2,0,1,0,1,1,5,2,5,3,4,4,1,7,2,8,9,9,8,0,3,1,3,2,5,3,0,4,1,5,1,6,9,7,6,8,1,9,3,0,4,1,1,3,1,4,2,7,1,8,2,9,3,8,5,6,2,5,1,0,7,6,8,8,7,9,9,4,7,1,8,9,8,0,6,4,7,8,5,9,4,1,7,4,7,0,1,2,7,1,9,5,8,4,4,0,6,7,3,6,9,0,6,1,5,7,6,0,3,6,1,8,6,4,5,7,4,9,4,8,1,6,5,0,3,8,1,1,1,7,1,7,6,1,8,3,3,2,3,3,1,1,7,4,2,2,0,0,0,0,2,7,7,8,8,4,1,6,8,9,3,3,0,8,6,4,7,7,2,2,1,5,4,6,4,3,2,6,2,9,3,6,8,3,7,2,3,2,1,4,9,6,5,0,8,5,6,5,3,1,4,3,3,3,0,9,0,7,2,8,8,7,7,2,3,7,5,9,6,8,0,2,0,1,6,3,8,1,1,3,5,0,0,1,7,2,5,3,7,4,9,7,7,8,3,9,3,0,6,1,9,2,3,3,5,4,4,5,8,6,8,7,6,8,9,9,6,0,8,1,5,2,6,3,6,7,8,8,1,9,4,7,1,7,9,0,2,3,9,1,3,8,8,9,8,8,4,6,0,5,2,4,6,7,7,3,3,1,0,9,2,1,0,4,2,5,4,5,2,6,8,0,5,1,9,3,7,6,2,4,1,8,9,9,0,8,4,5,1,2,3,1,8,0,2,5,7,6,4,6,6,3,1,3,4,3,3,1,1,7,1,2,5,2,2,7,4,2,8,3,2,6,3,8,4,5,7,1,3,4,7,9,6,0,1,6,3,8,8,8,3,0,5,3,9,9,5,4,4,3,8,7,0,1,7,7,3,6,9,9,5,4,0,2,7,9,3,9,3,4,0,9,3,4,6,0,3,7,3,1,6,3,0,0,2,1,5,2,7,3,9,7,6,8,9,9,8,0,7,1,3,2,3,3,7,4,8,7,0,8,8,9,8,0,5,1,7,2,7,3,2,7,2,8,0,9,1,0,7,0,6,7,9,5,3,5,7,3,4,7,0,8,1,6,6,6,9,4,5,6,1,3,3,8,4,8,6,3,9,0,4,1,5,4,6,4,1,7,7,3,1,1,7,1,6,9,4,1,1,2,2,1,2,3,5,9,1,2,7,7,3,7,4,9,5,9,2,0,4,4,0,5,0,9,8,1,0,1,3,5,0,9,2,1,0,3,5,4,3,3,1,1,4,9,0,1,4,0,2,7,2,7,6,0,7,1,1,2,7,3,4,4,5,5,3,7,4,8,2,9,5,0,5,1,8,2,0,3,6,4,8,7,5,8,2,9,0,0,2,3,5,4,6,7,3,8,6,9,8,9,7,7,0,0,4,9,1,0,1,1,6,5,5,8,6,8,2,0,9,9,4,3,1,2,6,7,5,8,1,4,9,6,8,4,2,5,4,3,9,9,5,4,3,3,4,4,5,2,3,0,3,5,5,0,1,1,3,6,4,9,4,3,8,2,8,9,5,1,2,6,8,0,4,1,0,1,5,8,5,0,9,4,8,7,6,7,1,6,0,3,9,6,3,0,6,1,8,3,7,5,3,4,3,2,6,1,1,1,4,8,5,3,9,5,3,6,0,7,1,5,6,2,8,0,9,6,8,7,2,1,1,2,1,5,9,8,8,1,6,9,8,3,9,8,3,2,4,8,5,8,9,7,2,1,6,7,8,9,4,2,9,0,4,1,7,2,9,3,8,4,9,7,1,8,1,9,9,0,3,1,3,2,7,3,5,4,7,7,9,8,5,9,7,0,0,1,6,2,4,3,5,4,3,7,4,9,0,5,4,0,5,8,4,3,4,5,1,4,1,8,3,3,3,0,8,2,9,1,8,0,7,2,6,8,3,4,8,4,0,1,7,6,4,1,7,3,3,0,5,3,1,6,8,9,2,3,6,7,3,4,9,9,5,7,6,0,7,9,7,4,1,8,8,2,1,7,8,7,3,5,1,7,6,1,7,9,8,5,3,2,4,4,9,8,9,9,0,6,7,9,3,7,1,6,2,4,0,1,2,2,4,6,4,1,1,1,9,7,4,2,6,3,1,6,1,4,9,8,9,9,4,6,3,4,7,6,4,5,4,0,1,2,6,1,6,0,8,5,2,0,7,1,2,1,5,7,1,8,5,4,2,3,8,2,4,7,4,9,1,3,9,9,3,0,3,1,3,2,6,3,2,4,5,5,4,7,7,8,5,9,4,0,8,1,4,2,1,3,0,4,0,6,4,7,9,8,1,9,4,0,1,1,4,2,7,3,8,4,8,5,8,6,4,7,0,8,9,9,1,7,7,7,1,1,3,3,0,7,4,5,9,2,7,8,4,0,9,7,6,5,6,9,1,6,1,0,3,9,8,4,2,3,9,2,6,3,6,8,4,3,7,2,3,5,7,3,4,9,2,4,8,1,8,9,1,2,5,1,7,9,0,6,9,7,4,9,0,0,3,4,6,6,6,1,2,7,2,3,2,8,0,9,3,6,7,8,7,3,1,9,6,1,4,0,4,9,6,3,9,3,4,6,0,2,7,5,6,3,1,4,1,0,1,1,6,2,8,3,5,4,9,5,2,6,7,7,4,8,5,9,4,0,6,1,6,2,4,3,7,4,0,5,8,6,9,7,3,8,2,9,0,0,8,1,1,2,9,3,3,4,7,5,0,6,8,7,6,8,8,9,0,4,6,2,4,0,9,2,6,5,7,9,6,4,9,2,1,6,8,5,7,9,6,3,8,5,2,0,7,7,5,1,2,1,9,5,6,3,7,0,5,7,1,9,1,6,0,1,4,6,1,7,4,4,5,9,1,5,4,7,2,9,6,8,1,5,2,6,4,2,4,4,7,8,2,1,0,5,2,9,0,2,8,2,2,8,3,0,6,6,0,4,2,3,1,3,9,1,2,2,0,4,5,1,2,5,6,8,3,9,8,3,3,4,4,0,5,3,6,9,3,0,5,2,1,7,1,1,2,1,6,0,2,7,1,6,3,7,1,6,8,0,3,6,5,9,0,4,3,8,1,4,0,3,1,3,8,7,2,8,6,1,4,0,9,4,5,3,2,0,6,6,1,8,4,3,4,7,8,8,6,5,1,7,1,8,2,0,7,1,7,2,0,3,5,4,6,5,6,6,4,7,8,8,6,0,8,1,5,2,5,3,6,4,7,5,8,6,9,7,1,8,6,9,2,0,7,1,1,2,4,3,5,4,5,7,8,8,2,0,1,8,9,3,6,9,8,5,3,6,9,8,1,4,2,9,6,1,3,7,7,1,2,2,8,3,4,5,1,9,7,6,5,9,8,1,7,1,7,1,0,2,8,9,5,5,5,8,4,1,6,2,0,0,3,7,6,7,6,5,6,8,8,2,4,9,4,8,5,9,1,0,1,4,5,6,9,7,8,1,1,3,2,4,5,5,9,6,2,0,0,3,0,6,8,8,1,7,5,0,7,4,1,9,5,3,8,7,2,5,1,4,4,3,0,4,1,2,4,8,1,1,7,5,4,1,7,2,9,4,7,3,4,0,9,0,5,0,9,5,4,7,2,0,1,6,5,4,6,8,3,8,1,6,2,3,3,9,6,9,7,8,7,2,6,7,0,7,1,1,3,0,2,1,1,2,6,3,5,4,9,5,9,6,7,7,9,8,4,9,9,0,0,1,2,2,1,3,4,4,0,5,8,6,6,8,4,9,8,0,4,1,3,2,0,3,3,4,0,5,4,6,5,8,4,7,9,0,5,4,9,0,4,6,0,4,6,7,9,6,3,2,8,3,7,4,8,8,2,7,2,8,9,6,3,3,9,8,3,2,2,2,2,8,4,4,4,5,1,0,8,2,8,0,3,1,7,1,0,2,6,9,4,6,1,8,0,1,8,2,2,1,1,0,9,6,9,9,6,7,6,5,8,3,5,9,6,3,9,7,7,1,2,8,4,3,9,8,8,7,1,2,9,1,5,9,9,5,9,5,6,0,6,1,7,1,4,9,8,8,0,2,8,0,6,4,0,5,7,6,9,5,4,0,4,3,9,7,4,9,6,9,7,3,7,0,9,3,8,1,3,0,9,4,9,9,2,5,0,4,3,7,7,9,9,7,1,0,1,1,8,2,2,3,3,4,1,5,3,6,6,7,8,8,2,9,5,0,2,1,5,2,7,3,9,4,6,5,1,6,1,7,0,8,3,9,8,0,1,1,3,2,2,3,1,4,5,7,7,8,3,9,3,2,7,2,7,7,9,6,5,4,7,7,3,3,9,5,1,4,0,1,7,8,0,0,6,5,3,2,9,7,7,2,4,3,6,6,2,2,1,1,4,7,8,7,0,9,9,9,3,1,2,2,4,4,0,6,1,7,8,7,9,5,7,4,0,5,1,0,5,9,8,9,1,8,4,0,8,2,0,0,7,3,0,5,4,1,2,8,8,6,6,4,1,6,6,0,7,6,1,4,0,3,9,9,1,3,3,0,2,0,3,5,0,2,9,5,2,8,5,8,5,9,0,4,5,3,1,4,1,2,9,8,2,5,3,5,7,7,8,1,4,3,6,6,1,9,3,4,7,1,3,3,7,8,5,7,0,6,2,9,3,3,9,3,2,7,1,4,6,1,9,9,3,1,4,0,4,0,3,1,8,2,9,3,2,4,8,5,6,7,0,8,0,9,0,0,1,1,0,2,3,3,3,4,1,5,5,6,5,7,9,8,4,0,2,1,9,2,4,4,4,5,1,6,0,7,6,8,9,8,4,9,8,9,6,0,7,1,8,2,7,4,5,7,1,4,0,0,6,3,4,8,6,8,1,2,1,1,0,7,0,3,4,5,5,8,0,5,0,5,2,9,7,2,4,5,1,1,3,1,1,6,1,2,9,1,1,3,1,8,0,6,5,4,5,9,3,4,4,9,3,2,3,0,6,0,9,4,1,4,8,6,9,0,8,2,5,8,2,0,6,6,1,8,4,1,9,7,6,9,9,1,9,9,8,2,1,6,2,7,2,6,0,6,1,8,5,4,5,9,7,2,0,1,1,3,5,0,7,5,5,5,1,8,9,0,0,3,8,7,7,9,5,7,1,0,9,2,4,7,8,3,6,6,4,7,3,8,4,0,8,3,6,5,6,0,2,1,9,2,8,3,0,4,6,5,9,7,3,8,8,0,7,1,6,2,3,3,2,4,3,7,5,8,3,9,0,0,8,1,9,2,3,3,2,4,3,7,4,8,9,9,9,7,0,7,7,0,7,3,3,1,3,8,9,9,7,2,6,1,6,8,6,6,1,5,3,4,1,7,7,3,4,4,5,1,6,8,0,6,4,9,2,1,6,4,9,5,3,0,1,1,5,3,0,6,9,4,7,8,2,9,6,8,5,5,9,2,9,1,2,0,3,7,5,6,6,6,6,3,7,3,2,3,3,1,4,7,3,2,7,2,1,3,3,6,8,8,7,5,5,1,6,4,8,9,0,0,8,6,5,8,5,8,3,0,7,8,7,2,5,4,0,3,4,7,4,1,6,7,6,6,3,9,1,4,5,2,8,9,1,9,5,2,5,0,1,4,2,9,4,4,4,0,6,7,1,1,9,3,4,2,7,9,4,0,1,1,5,2,7,3,6,4,9,5,5,6,2,7,7,8,5,9,3,0,1,1,3,2,2,3,1,4,7,5,2,6,1,7,0,8,5,9,8,0,8,1,6,2,6,3,2,4,2,5,8,6,5,7,3,8,5,9,4,7,0,6,1,4,4,0,1,5,6,8,0,0,0,7,9,3,6,5,4,4,3,3,2,6,0,2,5,1,2,7,1,7,9,9,4,9,1,1,3,2,4,4,4,6,2,7,1,7,1,5,6,4,6,5,7,0,3,9,8,9,8,8,0,0,1,2,9,0,3,3,0,5,1,6,0,1,2,8,9,6,9,4,6,6,4,0,8,9,2,2,8,6,7,4,7,3,9,9,5,3,7,0,8,0,0,5,9,2,0,5,5,8,7,8,0,8,9,9,1,4,8,3,2,8,0,8,2,5,4,5,5,7,0,1,1,3,9,6,8,9,3,4,1,1,6,7,1,6,0,9,1,3,2,3,4,7,7,4,5,1,1,9,7,1,9,0,0,6,7,0,8,1,1,2,2,3,6,4,7,5,3,6,8,7,0,8,4,9,7,0,5,1,4,2,1,3,5,4,6,5,2,6,0,7,6,8,0,9,2,0,9,1,8,2,2,3,9,4,6,5,4,6,5,7,7,8,5,9,3,0,6,8,6,3,0,9,8,5,9,5,8,2,6,6,1,8,0,4,9,9,9,1,0,7,3,1,3,2,0,3,7,5,1,9,0,6,5,9,9,1,2,1,5,1,6,2,8,9,3,5,0,6,6,8,2,1,9,2,1,0,0,7,0,7,0,5,1,8,9,2,7,9,1,8,2,9,0,0,6,4,8,7,8,3,4,4,0,5,0,6,7,0,2,3,1,6,9,8,2,7,4,0,7,4,9,2,1,7,0,4,5,3,0,7,9,5,8,4,6,3,1,4,9,2,3,8,3,1,7,5,4,1,7,2,7,0,5,2,6,5,1,6,5,4,2,3,0,0,5,0,9,0,5,3,8,3,3,5,5,7,5,0,0,6,5,4,2,8,3,8,1,6,4,3,1,9,2,9,5,8,2,2,5,7,1,7,6,1,1,0,0,1,0,2,7,3,8,4,0,5,9,8,7,9,9,0,6,1,1,2,5,3,4,4,0,5,2,6,8,7,0,8,8,9,9,0,4,1,9,2,1,3,5,4,5,5,6,6,8,7,3,8,4,9,6,1,6,4,5,5,6,4,3,2,6,3,1,3,1,0,6,9,9,5,0,4,3,3,7,0,5,8,2,4,6,0,6,7,8,7,0,1,9,6,5,9,5,1,4,2,5,9,7,3,7,6,5,2,4,3,0,4,0,6,8,8,3,5,1,7,8,2,2,3,8,8,9,1,2,2,7,9,7,5,5,8,1,8,5,7,4,1,2,7,5,1,1,1,7,0,9,3,1,4,9,2,4,6,1,4,0,7,8,4,1,2,1,7,8,4,1,2,3,9,4,9,6,2,2,8,3,6,4,1,9,0,9,6,0,8,7,5,5,5,1,0,3,5,4,3,2,5,8,9,6,7,8,8,1,5,4,9,9,6,0,9,8,0,4,6,5,3,6,0,6,5,9,8,0,9,9,1,1,8,7,1,6,6,9,0,5,0,6,1,4,2,1,3,6,4,3,5,6,6,6,7,6,8,7,9,2,0,7,1,9,2,3,3,6,4,9,5,4,6,0,0,4,1,1,2,4,3,4,4,9,5,5,6,9,7,5,8,3,9,1,1,9,4,8,5,5,3,9,3,8,0,7,9,4,5,5,4,1,3,7,0,9,8,7,4,3,6,3,7,2,0,7,7,9,7,4,1,1,6,4,9,4,1,0,2,2,9,2,3,0,6,5,2,9,3,4,4,3,6,9,7,0,2,4,3,7,8,4,1,9,2,5,9,2,8,9,8,6,7,1,1,4,7,3,1,7,1,9,0,2,3,6,4,6,2,9,6,0,4,4,7,7,4,1,2,8,7,1,4,7,2,5,9,9,2,7,7,7,2,3,8,9,6,7,1,6,0,1,6,6,5,3,1,8,3,9,5,1,9,0,7,8,4,4,8,1,9,5,6,3,9,4,3,1,0,8,0,8,6,7,3,3,0,9,5,9,1,3,8,8,1,9,6,4,0,7,0,8,1,5,2,9,3,3,4,7,5,2,6,1,7,7,8,0,9,5,0,0,1,1,2,4,3,7,4,3,6,9,7,7,8,7,0,8,1,9,2,8,3,2,4,6,7,0,8,0,9,7,3,2,4,3,1,5,4,3,6,2,6,9,7,2,3,1,3,2,2,2,1,9,9,2,4,2,7,9,3,7,5,2,4,1,9,3,1,4,1,9,0,4,1,7,4,4,6,3,0,8,2,1,1,5,7,0,5,6,0,0,0,4,2,6,0,2,6,4,8,3,2,6,9,4,2,7,3,3,7,2,6,7,9,1,8,9,7,0,8,6,9,2,2,8,2,9,9,2,8,2,6,8,4,2,4,5,4,5,0,7,0,5,8,1,0,3,8,3,6,2,6,3,8,9,5,0,7,2,0,7,3,9,6,1,7,7,8,8,3,9,1,5,3,7,9,2,5,3,9,6,9,4,5,7,0,8,7,8,2,7,7,0,4,5,3,7,1,5,0,8,1,9,2,6,3,5,4,7,5,0,6,1,7,3,8,0,0,3,1,2,2,8,3,3,4,8,7,4,8,0,9,2,0,3,1,5,2,8,3,0,4,4,5,9,6,9,8,8,9,0,1,9,0,7,6,8,3,4,4,4,4,1,2,6,8,0,1,8,0,0,6,3,4,8,9,5,7,3,2,1,3,1,3,9,9,1,2,4,0,6,9,9,3,1,3,0,9,8,1,9,5,7,2,4,3,9,1,9,6,4,7,6,3,1,7,3,8,2,4,8,0,4,2,5,4,5,0,7,2,8,7,0,8,4,0,3,7,4,0,8,6,9,9,6,3,3,2,7,4,2,8,6,6,1,0,2,1,9,0,3,8,5,1,3,6,8,7,1,2,0,9,6,7,7,9,4,5,2,8,1,9,8,6,4,5,9,2,3,6,6,2,5,8,2,1,9,7,3,5,9,5,4,7,6,3,1,5,3,0,1,1,5,3,6,8,6,4,1,9,8,4,0,5,0,1,9,8,9,6,6,8,1,9,9,0,1,1,9,2,2,3,7,4,4,5,1,6,0,9,3,0,3,1,0,2,1,3,2,4,1,5,5,6,7,7,8,8,5,9,2,0,9,1,7,2,3,3,1,9,3,8,2,1,8,0,5,9,8,5,2,7,1,5,0,1,1,8,5,6,6,9,4,0,6,4,1,1,9,9,3,3,8,8,8,4,4,7,2,0,1,1,5,9,6,2,9,8,9,7,5,8,4,9,3,6,0,0,2,6,4,5,0,5,0,3,8,3,6,3,3,9,2,8,3,0,6,6,4,1,3,0,8,0,4,6,0,2,2,1,4,1,9,3,8,2,8,7,2,7,4,8,1,8,5,7,6,0,7,2,9,0,6,3,8,1,1,3,1,7,2,2,5,4,7,9,6,4,7,3,1,6,6,5,2,3,6,2,1,5,2,5,2,9,5,4,3,1,9,7,4,2,2,6,3,5,0,0,6,1,9,2,5,3,6,4,3,5,9,6,2,7,2,8,8,9,8,0,7,1,1,2,1,3,3,4,5,5,1,6,7,7,0,8,0,9,1,0,1,1,9,2,6,3,4,4,0,5,3,6,0,7,6,8,7,9,1,8,1,9,3,5,1,7,4,0,3,3,6,1,3,6,8,8,8,4,9,1,8,7,3,6,5,5,3,6,8,4,8,2,6,7,5,8,6,1,6,3,4,4,0,7,4,2,2,0,9,5,4,0,0,1,3,9,8,2,7,3,3,2,4,3,3,5,3,5,9,7,7,8,9,4,2,9,1,9,1,7,3,1,9,1,2,7,3,8,1,3,6,4,3,8,5,6,4,3,8,8,8,0,9,9,2,6,1,2,5,0,1,1,1,0,5,6,5,2,3,3,5,8,8,9,6,0,0,7,9,2,1,3,7,4,9,5,6,5,3,2,1,8,4,5,6,4,7,6,3,6,7,6,0,7,5,9,4,1,1,8,3,2,5,1,2,2,0,6,7,5,0,3,4,4,5,7,0,9,6,4,4,0,1,0,2,5,5,9,3,0,8,1,8,2,3,3,8,4,1,5,6,6,1,7,6,8,4,9,6,0,9,1,9,2,4,3,3,4,0,5,8,6,8,7,0,8,6,9,7,0,3,1,7,2,2,3,4,4,3,5,2,6,6,7,1,7,9,6,5,4,4,3,1,0,9,6,5,6,6,6,0,9,7,0,0,0,9,1,0,3,5,9,1,4,1,5,2,7,6,9,3,5,0,6,4,8,1,9,9,1,0,3,2,8,8,5,7,7,7,8,3,1,6,4,1,8,7,5,1,8,7,1,1,0,6,7,8,6,8,1,6,6,7,0,2,3,5,4,6,6,3,8,9,9,1,2,6,1,3,7,4,4,8,5,6,2,2,7,2,5,5,2,4,2,2,9,1,3,4,9,2,2,6,2,0,5,7,8,3,7,1,4,7,7,7,1,3,8,3,0,2,9,4,6,1,8,1,1,7,1,4,5,7,7,5,6,8,3,6,5,4,4,1,2,8,9,3,0,1,4,4,7,2,4,2,3,0,2,0,9,9,2,3,0,7,3,9,4,7,5,8,0,2,0,3,3,0,2,2,8,5,3,5,0,0,1,2,2,6,3,9,4,0,5,2,6,0,7,5,8,5,9,1,0,1,1,8,2,5,3,0,4,9,5,6,6,2,7,1,8,3,9,7,0,1,1,0,2,8,3,3,4,3,5,3,6,0,7,5,8,4,9,9,8,1,9,3,2,2,6,0,1,0,7,5,6,3,3,0,5,3,4,0,8,0,2,9,6,1,4,0,7,3,2,7,3,5,4,0,5,2,9,5,2,1,0,2,3,2,9,0,7,4,3,4,9,9,3,4,8,8,7,2,4,3,4,8,9,0,8,3,5,7,8,4,2,7,6,2,9,2,5,7,3,2,6,6,5,5,7,1,0,1,2,6,3,9,1,8,3,3,2,2,7,8,3,6,1,1,1,7,7,1,0,7,8,7,5,8,1,7,8,6,2,3,1,1,3,9,7,3,0,2,8,9,7,3,2,6,4,8,4,7,8,5,0,0,1,4,5,1,1,2,4,1,6,4,0,9,5,2,1,6,6,5,6,9,9,7,0,2,7,6,6,6,1,0,1,0,0,4,1,6,2,9,3,4,4,8,5,0,6,5,7,2,8,9,9,2,0,7,1,4,2,1,3,2,4,2,5,0,6,2,7,2,8,5,9,6,0,5,1,3,2,4,3,7,4,1,5,5,6,4,7,7,8,8,9,4,1,4,3,6,5,7,9,5,4,6,1,9,7,9,7,6,2,4,1,0,4,5,8,2,3,6,8,6,2,4,9,6,3,6,8,3,5,3,4,8,9,9,7,9,5,0,4,9,3,1,9,2,2,4,5,1,7,4,4,4,1,0,2,9,3,7,5,8,9,0,1,6,6,5,0,7,1,4,0,1,0,0,2,6,8,5,7,4,2,6,5,6,1,4,1,9,8,8,5,1,6,3,4,0,0,6,4,4,7,3,3,4,6,1,8,1,0,3,3,3,7,3,4,2,0,0,6,5,9,1,2,0,6,8,5,1,8,3,6,4,9,0,0,1,4,3,0,5,6,1,1,3,9,2,2,1,0,3,9,4,5,1,1,4,3,4,6,0,9,3,4,3,8,3,3,1,7,6,7,0,6,2,3,4,0,3,5,7,6,7,2,5,2,7,0,3,1,2,2,4,3,5,4,3,5,4,6,2,7,5,8,0,9,5,0,2,1,0,2,0,3,9,4,7,5,8,6,2,7,3,8,8,9,2,0,4,1,1,2,6,3,2,4,9,5,6,6,2,7,9,8,9,9,7,2,6,4,9,1,9,5,7,6,3,1,7,1,4,7,4,8,2,5,5,3,2,4,1,6,9,7,9,0,2,3,3,2,9,9,8,8,1,6,3,8,2,9,3,9,6,7,5,7,2,2,7,1,8,1,4,2,9,8,6,0,0,6,2,5,9,3,8,8,0,1,3,3,5,6,1,0,6,4,3,8,1,9,8,7,1,2,1,7,3,1,9,8,9,2,6,1,5,7,3,7,2,3,5,2,2,4,6,6,1,5,5,9,0,4,2,2,2,8,0,2,3,5,3,1,0,0,6,5,6,0,1,6,9,2,3,3,7,6,1,9,0,0,2,1,7,2,9,3,2,4,3,5,2,6,3,7,6,8,4,9,5,0,9,1,1,2,7,3,2,4,0,5,9,6,6,7,6,8,4,9,5,0,8,1,5,2,0,3,5,4,8,5,4,6,2,7,2,8,6,9,2,4,8,7,0,8,8,6,8,3,0,4,9,0,6,9,7,7,5,1,3,9,0,3,8,8,5,4,9,7,7,3,9,0,3,9,8,9,3,6,8,1,7,4,1,5,1,4,9,6,9,2,7,0,9,6,9,2,7,1,0,1,7,1,7,1,7,7,0,2,5,4,2,2,2,9,6,4,0,5,0,8,3,4,2,2,1,7,4,0,3,0,2,7,0,5,5,7,5,6,6,6,2,6,9,8,9,2,7,5,4,2,5,2,1,7,4,7,4,4,3,0,9,2,3,4,1,2,1,3,2,3,7,3,4,1,7,8,6,9,6,6,5,1,5,0,0,5,0,9,4,6,0,9,8,8,0,0,2,3,0,0,2,9,6,6,9,3,1,0,7,1,4,2,9,3,3,4,1,5,1,6,1,7,3,8,5,9,4,0,3,1,1,3,1,4,4,7,4,8,8,9,2,0,3,1,1,2,3,3,8,4,3,7,7,8,2,9,1,9,4,9,5,8,5,5,0,0,1,7,9,7,2,5,4,7,6,9,3,9,2,4,8,7,7,0,7,4,8,1,7,4,3,4,1,7,9,5,3,8,4,1,7,4,2,9,6,8,9,4,2,1,5,8,2,6,1,6,6,4,4,5,5,3,8,3,7,5,4,2,4,5,9,7,3,2,4,5,1,0,4,8,1,3,7,0,4,8,6,7,2,4,0,9,3,5,6,0,4,0,8,0,2,4,7,6,9,2,2,7,4,6,6,8,6,3,2,1,5,8,2,3,7,1,1,0,4,3,1,6,0,2,0,0,5,1,0,2,1,3,1,4,0,5,9,6,5,7,4,8,6,9,1,0,0,1,4,2,7,3,9,6,4,7,3,0,4,1,9,2,3,3,4,4,9,5,5,6,8,7,9,8,5,9,2,1,6,0,9,6,4,3,2,4,6,4,1,2,6,8,5,1,0,0,3,6,0,7,2,2,4,3,6,3,6,9,5,3,4,3,8,9,2,1,3,5,3,2,5,3,5,1,5,6,3,7,7,3,2,7,0,8,5,4,1,0,4,2,0,7,7,8,5,0,6,7,8,0,9,6,0,9,4,3,4,2,3,4,9,8,4,6,1,0,2,5,9,7,9,5,8,1,4,0,1,6,7,7,2,2,1,9,7,7,1,9,2,5,5,6,9,5,6,2,8,6,8,2,1,8,6,1,0,7,4,5,6,5,5,7,9,3,7,5,1,0,6,1,0,1,6,3,7,8,4,4,6,9,9,4,1,5,5,1,1,8,1,6,2,8,9,9,2,0,7,1,0,2,7,3,2,4,5,5,1,6,7,7,6,8,0,9,7,0,2,1,7,2,0,3,2,4,0,5,1,6,9,7,1,8,3,9,1,0,9,1,2,2,9,3,6,4,3,5,6,6,0,7,0,8,1,9,1,0,5,8,5,7,2,8,8,9,1,9,1,0,2,1,0,4,8,5,6,1,0,6,6,7,5,3,6,2,3,9,9,0,7,5,1,6,0,7,1,3,2,9,4,9,6,3,3,8,8,9,4,6,4,7,1,5,4,6,8,3,0,5,4,0,6,5,7,4,6,0,4,3,2,4,4,7,2,7,3,4,2,3,7,2,7,1,8,5,5,5,8,0,7,5,1,0,4,8,9,4,2,6,2,7,3,0,3,2,2,9,2,3,1,4,0,4,1,8,1,1,2,2,2,2,9,3,0,1,3,3,8,6,6,7,8,3,7,4,1,9,2,1,0,9,9,8,8,5,5,0,7,2,7,8,6,6,7,6,3,8,8,2,2,8,2,4,9,4,8,2,0,2,9,8,8,0,7,0,4,1,6,2,9,3,9,4,0,5,2,6,0,8,6,9,8,0,2,1,3,2,1,3,0,4,4,5,0,6,6,7,9,8,3,0,1,1,1,4,0,5,2,6,7,7,1,8,3,9,5,8,6,7,4,4,4,7,0,7,3,3,5,9,1,8,2,8,7,3,9,1,6,5,9,2,0,7,4,4,1,2,7,6,8,1,1,5,8,2,6,4,4,5,8,5,7,8,2,6,4,4,6,4,5,4,3,1,1,8,3,7,4,5,0,5,9,1,1,8,2,9,3,1,7,3,2,6,9,3,5,3,6,2,7,2,8,6,9,5,6,5,1,3,1,3,3,8,6,1,7,6,7,5,0,6,5,8,1,1,6,9,6,7,7,6,9,8,5,3,9,7,2,4,4,7,4,0,4,9,4,0,9,0,1,3,8,7,6,9,4,3,8,0,1,1,7,0,3,1,8,0,3,4,8,0,1,1,3,0,4,4,1,7,2,9,5,2,9,0,8,6,1,2,3,6,3,2,5,2,4,9,8,9,2,0,5,1,7,2,5,3,3,4,1,5,1,6,3,7,6,8,1,9,8,0,7,1,6,2,6,3,6,4,7,5,0,6,2,9,9,0,8,1,2,2,0,3,9,4,8,5,0,6,0,7,1,8,5,5,7,7,7,0,1,8,5,4,6,0,1,2,8,1,8,0,7,2,1,8,4,5,8,4,2,4,3,1,8,6,6,1,5,3,9,6,8,9,5,3,8,7,8,4,7,9,4,7,5,4,8,8,5,3,8,2,7,7,1,7,9,9,8,5,6,7,5,6,0,5,8,2,8,4,2,8,1,9,0,6,8,9,2,7,1,6,2,1,4,6,6,1,4,7,9,2,3,3,4,6,4,6,3,6,3,2,1,1,2,0,5,5,1,0,6,1,9,2,0,1,0,7,5,8,8,1,9,4,5,9,5,3,5,9,2,0,8,1,8,2,7,3,4,4,1,5,1,6,7,7,0,8,4,9,7,0,9,1,5,2,5,3,9,4,5,7,9,8,1,9,3,0,6,1,8,2,8,3,2,4,6,5,5,6,7,7,3,8,9,9,1,6,2,0,4,3,8,4,2,1,0,4,7,0,7,8,4,6,6,4,4,5,0,4,6,0,8,7,1,8,0,7,4,7,2,9,1,0,1,4,0,9,4,9,5,7,6,4,9,2,6,0,6,5,5,8,5,5,3,9,4,8,9,8,5,4,2,0,4,7,6,1,4,3,8,5,2,6,6,5,1,3,4,8,1,7,0,3,4,1,7,6,5,8,4,5,3,9,8,2,5,2,7,0,8,9,9,2,7,4,7,6,6,5,5,2,4,1,6,3,4,6,7,6,3,2,8,1,7,2,6,6,7,0,9,7,3,4,4,7,2,8,2,9,6,2,5,9,3,5,7,1,0,8,3,3,9,5,5,6,5,8,9,0,1,0,6,9,9,9,5,3,9,1,8,1,7,0,0,1,1,2,6,3,7,4,1,5,2,6,6,7,8,8,2,9,9,0,6,1,2,2,3,3,6,4,7,5,7,6,0,7,1,8,6,9,5,0,2,1,3,2,7,3,2,4,7,7,8,8,5,9,5,0,3,7,3,0,2,7,9,8,1,3,3,0,1,0,5,5,2,5,0,3,6,8,5,8,4,1,5,4,9,6,7,1,0,8,1,0,2,2,8,7,6,3,1,9,1,4,0,1,5,2,3,5,1,9,9,8,3,9,9,5,5,4,1,3,5,0,9,3,4,3,9,4,0,7,0,1,1,2,3,1,8,0,1,6,2,2,4,3,6,8,6,9,7,5,4,6,5,6,1,7,1,1,5,4,0,6,2,2,5,9,5,1,6,5,6,5,0,5,5,3,8,1,7,4,2,8,4,6,5,3,0,7,2,0,9,9,7,5,8,6,9,7,2,1,1,3,4,2,6,6,1,2,3,6,8,7,8,8,7,7,1,0,5,1,4,2,9,3,7,4,0,5,2,6,1,7,3,8,0,9,9,0,4,1,2,2,5,3,9,4,8,5,8,6,5,7,9,8,7,9,2,0,2,1,2,2,6,3,4,4,1,5,7,6,0,7,8,8,3,9,6,6,4,4,0,2,2,6,1,4,7,7,3,5,7,5,8,4,8,7,2,8,4,9,9,2,5,9,6,3,2,9,9,3,7,8,3,2,5,0,1,9,0,8,6,0,4,5,0,6,1,0,9,1,4,0,1,4,7,2,1,6,9,5,7,3,2,5,2,3,5,8,1,0,3,0,5,5,8,4,8,3,8,4,4,1,2,5,2,3,4,0,1,8,2,3,1,6,5,2,8,7,3,1,8,1,1,8,7,1,7,7,3,1,3,3,6,8,0,5,8,0,2,9,4,7,9,6,6,7,8,4,6,1,9,6,5,8,1,4,5,7,7,5,4,1,3,2,9,6,5,7,2,1,6,9,7,8,0,0,8,6,4,9,9,4,3,9,2,9,7,6,5,2,3,3,2,7,1,1,9,9,0,2,6,2,1,5,3,3,6,7,1,8,6,0,2,1,7,2,9,3,5,4,8,5,7,6,2,7,8,8,6,9,4,0,9,1,3,2,5,3,5,4,7,5,8,6,4,7,7,8,4,9,3,0,6,1,0,2,9,3,4,4,4,5,0,6,3,1,7,3,4,5,3,9,6,4,1,1,2,7,4,1,3,4,4,8,4,3,9,8,4,2,6,9,1,3,0,8,5,8,8,9,7,7,4,5,5,9,0,2,1,5,5,7,3,4,1,1,5,2,5,3,4,5,3,9,3,1,4,1,6,0,8,0,0,2,0,8,3,7,1,5,3,1,3,1,3,8,2,5,7,6,7,4,1,0,1,3,8,0,7,3,5,7,1,6,4,9,6,2,7,6,7,6,3,9,0,0,2,4,6,0,5,6,8,1,9,0,3,9,5,5,8,1,2,3,5,7,8,6,7,9,3,7,8,3,2,0,9,5,8,6,1,2,5,2,6,0,2,1,4,2,7,3,1,4,6,5,0,6,3,7,0,0,3,1,3,2,2,3,3,6,9,7,4,8,6,9,8,1,2,0,7,1,1,2,9,3,1,4,4,5,6,6,0,7,9,8,0,3,9,1,2,2,6,1,6,9,5,2,5,4,9,0,9,9,8,9,7,3,7,7,5,7,4,9,9,1,0,4,3,2,4,7,5,2,7,5,2,8,6,6,3,0,6,4,3,0,4,3,3,8,8,1,1,0,9,3,7,0,4,4,7,7,2,4,7,9,7,2,2,9,6,1,9,2,8,5,3,7,8,1,1,7,9,1,7,6,2,7,7,3,5,3,6,6,8,5,1,6,2,7,3,6,8,8,9,8,4,2,6,9,9,5,9,3,8,7,8,4,2,3,4,0,1,4,5,6,3,6,2,9,5,0,6,1,2,1,9,3,6,2,1,1,1,0,1,0,5,1,2,2,1,3,0,4,6,7,0,8,4,9,7,0,8,1,4,2,5,3,7,4,8,7,6,8,8,9,5,0,7,1,8,2,5,3,4,4,7,5,3,6,2,7,0,8,1,8,3,0,7,5,9,6,8,6,1,0,2,8,7,0,9,2,0,3,0,7,7,9,7,4,9,7,0,1,5,7,1,1,9,4,1,0,5,0,5,4,8,1,2,7,2,5,6,7,2,1,5,3,2,3,4,3,9,1,1,6,8,9,7,7,4,4,2,3,3,0,6,2,2,6,6,0,9,8,4,9,8,4,1,3,6,5,4,4,8,8,3,1,3,5,6,9,0,0,5,6,3,4,1,3,3,6,2,3,7,3,2,8,5,1,2,4,2,7,4,5,1,7,6,2,6,2,8,0,1,0,4,1,5,7,1,7,7,9,7,5,5,9,4,8,1,9,8,6,0,8,7,8,6,2,1,3,2,6,1,1,0,2,0,9,2,8,0,5,1,2,3,6,8,2,5,4,0,8,0,5,9,0,2,1,5,2,4,3,3,4,3,6,0,7,4,8,2,0,7,1,4,2,7,3,7,4,3,5,1,8,5,9,0,0,4,1,0,2,9,3,1,4,9,5,1,6,3,7,5,8,5,9,4,0,9,1,9,7,1,9,9,5,4,1,1,8,8,9,7,4,1,3,1,1,6,7,9,8,7,2,0,4,9,3,6,6,9,9,6,9,8,5,0,8,8,6,9,6,1,8,5,2,0,6,7,3,1,9,2,3,1,2,2,1,1,7,4,4,0,8,4,8,2,9,7,0,4,3,0,3,7,9,4,0,7,5,1,2,9,9,3,4,5,1,2,0,4,3,8,7,6,7,8,7,4,8,8,2,8,9,2,7,0,5,0,5,7,1,3,2,6,6,3,3,3,6,1,6,2,0,3,2,1,8,9,1,9,6,4,1,4,0,1,4,1,3,4,1,7,6,7,1,7,9,1,0,5,1,6,2,7,3,8,4,8,5,6,6,3,7,5,8,0,9,5,0,4,1,2,2,6,3,0,4,3,7,5,8,6,9,4,0,6,1,6,2,3,3,6,4,7,5,1,6,4,7,3,8,1,9,8,7,2,7,1,7,7,3,7,1,7,8,8,7,9,6,2,0,2,2,7,6,6,8,5,3,8,2,2,8,2,1,0,1,4,7,2,2,5,0,7,7,4,1,3,6,0,0,9,4,4,6,3,4,3,4,4,5,5,8,4,0,4,6,4,2,8,3,4,1,5,3,5,6,4,8,1,4,5,0,7,7,1,5,6,8,0,8,3,3,3,7,9,8,0,9,9,2,4,6,2,2,3,5,9,3,6,1,8,7,1,3,8,9,4,1,8,9,2,9,5,6,7,0,1,3,2,9,9,2,8,8,0,1,8,4,8,3,9,5,4,2,8,9,1,2,3,9,1,1,6,6,2,5,1,8,8,9,0,4,9,2,3,5,3,0,7,1,4,2,0,3,4,4,2,5,3,6,9,7,7,8,1,9,0,0,6,1,7,2,1,3,0,4,7,5,6,6,2,7,8,8,1,9,1,0,8,1,3,2,5,3,2,4,4,5,1,6,6,7,6,8,5,9,0,6,3,4,7,2,7,6,1,4,1,7,5,5,6,5,8,4,8,7,1,8,0,9,6,2,7,9,9,3,6,9,9,3,4,8,4,2,4,0,5,9,0,8,8,0,0,5,7,6,1,0,4,1,3,0,8,4,5,2,9,6,2,5,0,3,4,5,2,3,1,8,1,3,8,4,0,1,6,5,6,3,7,0,1,8,6,3,9,0,1,6,1,2,4,7,5,1,2,1,7,8,9,1,1,7,1,1,7,3,3,8,0,5,7,2,0,0,6,9,8,7,5,6,5,7,4,4,9,1,1,6,2,8,9,4,3,7,8,5,4,1,8,2,4,6,4,7,2,9,5,8,1,0,4,6,7,9,9,4,1,6,7,2,5,3,2,7,0,1,8,9,2,2,0,2,6,5,7,3,1,7,2,8,9,0,2,1,9,2,4,3,3,1,3,5,1,6,0,7,8,8,8,0,2,1,4,2,3,3,7,4,8,5,4,6,5,7,9,8,2,9,5,0,8,1,2,2,6,3,2,4,0,5,7,6,5,7,8,8,0,9,3,8,5,9,3,2,8,6,7,1,1,7,5,6,1,3,4,5,4,4,1,8,6,2,7,6,4,4,6,7,4,2,2,3,8,4,5,5,9,9,0,2,1,0,3,3,2,9,9,4,6,9,6,7,9,3,7,9,4,3,6,8,9,7,0,1,9,4,5,9,4,8,2,5,4,8,4,2,9,6,1,9,4,5,4,3,2,6,8,5,0,2,5,5,6,7,4,2,6,3,8,1,3,3,0,2,8,7,0,3,1,1,9,9,2,0,1,1,1,7,9,0,3,8,8,5,9,6,0,8,7,2,2,1,5,3,4,5,1,0,5,7,3,0,6,8,2,7,1,2,8,4,5,4,3,8,6,0,1,1,3,5,7,1,0,1,2,6,0,0,7,0,1,4,4,9,5,8,1,5,8,1,3,6,6,6,4,0,1,7,8,6,5,1,2,1,7,0,4,1,1,2,7,3,4,4,7,5,1,6,8,7,6,8,1,9,3,0,2,1,7,2,7,3,9,4,1,5,0,6,7,7,0,8,3,9,1,0,9,1,4,2,9,3,7,4,5,7,6,8,0,9,2,0,5,7,1,8,4,4,4,1,4,8,7,8,9,1,2,3,4,1,1,8,6,3,7,7,1,9,4,3,7,4,8,7,9,8,9,4,1,7,4,8,3,9,3,3,4,1,5,4,7,6,8,5,0,6,4,7,3,7,1,1,9,6,2,4,7,9,6,2,6,9,1,3,2,5,0,3,2,6,1,0,2,0,3,2,3,4,7,2,0,7,5,4,0,9,1,5,5,1,4,2,1,3,0,6,6,1,9,8,1,3,3,8,0,0,5,3,4,0,5,6,4,1,6,6,7,9,5,5,8,9,1,4,7,5,2,8,8,6,0,7,0,1,7,1,8,7,8,0,8,1,4,2,6,3,2,4,3,5,7,6,4,7,1,8,7,9,2,0,3,1,7,2,2,3,3,4,6,5,5,6,5,7,8,8,5,9,7,0,8,1,5,2,6,3,5,4,8,5,0,6,0,7,9,8,0,9,2,7,3,7,3,7,6,3,7,0,7,3,0,1,9,8,5,7,9,6,5,4,9,5,1,6,1,0,4,2,7,6,8,8,7,3,9,2,3,8,4,1,7,1,8,7,6,2,5,0,1,7,5,1,8,6,5,0,1,4,4,6,9,4,9,4,5,5,6,8,9,0,1,6,2,2,8,3,6,1,6,3,4,6,3,5,4,1,5,8,8,4,8,0,3,7,1,5,1,8,2,8,3,3,5,7,1,8,3,9,3,2,7,6,6,2,7,5,2,3,4,1,6,7,2,3,4,9,1,1,0,9,0,9,6,6,1,0,0,9,6,3,1,7,1,0,4,4,3,5,5,0,5,9,8,2,1,8,5,1,5,4,3,3,0,5,9,2,9,9,7,4,7,0,9,2,3,9,2,1,9,6,5,5,0,8,7,9,7,4,5,2,1,5,5,0,4,1,8,2,4,3,8,4,1,5,6,6,9,7,0,8,0,9,0,0,0,1,4,2,7,3,1,4,3,7,7,8,7,9,9,0,9,1,2,4,9,5,3,6,5,7,4,8,5,3,0,4,8,1,4,4,0,6,0,6,9,7,7,3,3,3,0,4,1,3,2,5,9,0,9,1,6,4,5,6,7,0,3,2,2,8,5,2,2,5,9,2,4,1,9,7,0,0,2,2,6,0,6,6,9,6,2,9,1,8,4,9,7,2,7,2,3,9,5,9,8,5,3,4,0,4,5,0,5,0,6,8,7,6,1,6,3,8,9,5,6,3,6,8,6,5,1,0,1,3,6,6,6,7,6,8,5,3,9,1,6,3,5,9,1,5,0,1,6,5,3,5,8,0,9,7,6,3,1,1,0,7,9,6,9,0,9,1,9,2,5,3,2,4,0,5,0,6,9,7,7,8,1,1,7,2,3,3,4,5,6,6,2,7,4,0,4,1,5,2,9,3,5,4,5,5,2,6,6,8,6,1,8,0,1,2,3,1,4,5,6,6,5,1,9,1,3,7,6,8,1,5,4,1,8,6,6,7,7,0,1,3,2,3,4,0,0,2,4,6,9,9,1,8,6,5,9,8,8,6,2,8,6,9,3,9,7,7,6,1,8,2,3,1,9,1,5,1,2,2,3,8,4,0,4,5,3,7,3,6,5,5,3,3,1,8,9,1,7,3,2,6,4,0,9,4,7,8,5,9,5,4,5,7,6,2,1,7,8,1,4,8,6,2,9,1,4,7,5,7,5,3,9,2,3,0,1,4,7,6,7,6,1,8,6,5,0,9,1,8,9,2,6,5,8,1,4,0,0,5,6,0,2,3,2,4,8,3,2,9,2,6,4,2,5,5,2,0,9,6,7,9,3,0,2,1,5,2,6,3,4,4,6,5,0,6,2,7,8,8,3,9,8,0,8,1,7,2,6,3,8,4,3,5,5,6,3,7,5,8,9,9,7,0,0,1,2,2,2,3,3,4,3,5,1,6,1,7,5,8,3,9,4,7,5,7,8,7,3,3,0,0,7,3,6,1,2,8,8,7,0,6,3,4,1,5,0,6,9,0,3,2,7,6,5,8,4,3,2,2,7,8,3,1,1,1,9,7,7,2,5,0,6,7,7,1,4,6,8,0,8,4,9,6,6,4,6,4,2,5,1,8,1,0,8,6,7,2,1,3,2,3,0,6,8,5,2,1,4,8,6,5,2,9,6,4,4,0,2,7,1,5,8,8,9,8,4,3,6,7,1,8,5,9,4,2,0,6,0,2,9,5,3,3,7,1,9,7,3,3,0,9,9,1,0,9,7,9,0,6,5,0,9,9,9,4,6,3,2,7,8,0,7,4,5,5,4,0,9,9,5,2,4,8,3,1,5,4,9,3,4,5,6,2,5,9,3,4,3,0,7,2,6,9,7,1,2,6,4,5,1,8,7,9,5,4,7,2,6,5,9,0,4,1,9,2,8,3,1,4,6,5,1,6,7,7,5,8,6,9,2,0,1,1,5,2,3,3,0,6,2,7,6,8,8,0,6,1,6,2,3,3,1,7,6,8,8,9,9,1,8,8,9,6,2,7,6,1,1,1,6,4,7,3,7,7,1,7,9,8,5,9,2,3,5,6,5,0,0,3,7,6,1,4,1,8,6,3,0,1,4,1,2,5,8,9,3,0,5,4,5,1,9,7,6,9,8,5,2,1,1,1,4,9,9,8,1,6,1,6,3,0,8,1,2,8,1,8,8,3,3,2,1,0,4,9,5,7,4,4,5,5,4,8,6,3,8,5,0,8,2,5,7,4,4,7,7,7,3,7,5,1,1,5,9,3,1,0,0,1,8,2,9,3,8,4,3,5,4,6,0,7,3,8,6,9,4,0,6,1,0,2,0,3,8,4,7,5,5,6,4,7,1,8,8,9,2,0,9,1,9,2,0,3,9,5,8,6,2,8,2,1,1,4,8,5,9,4,9,2,3,3,6,3,1,0,2,5,3,4,1,3,7,0,8,8,0,6,2,7,3,0,5,7,6,7,7,1,3,6,2,9,9,2,7,3,7,6,0,2,3,3,9,6,5,8,2,5,4,2,1,3,7,8,2,1,2,2,6,9,2,5,7,8,4,8,6,7,0,1,1,7,6,1,0,1,6,0,8,3,3,4,3,2,5,6,4,7,7,4,4,2,5,7,9,4,5,2,9,9,2,2,9,7,8,9,3,2,6,8,1,6,6,1,0,0,3,6,1,8,2,5,7,5,1,0,2,5,9,3,1,5,2,7,6,4,6,8,1,5,4,9,3,6,1,9,8,3,0,0,3,0,1,6,8,3,5,0,0,5,7,8,8,9,5,1,6,8,1,1,7,6,9,0,6,0,4,1,5,2,8,3,5,4,3,5,0,6,6,7,0,8,8,9,0,0,0,1,1,2,0,3,9,4,1,5,6,6,5,7,9,0,9,1,4,2,8,3,6,4,4,5,1,6,2,7,8,8,7,9,3,6,4,4,3,2,9,6,9,4,8,7,2,5,2,5,5,7,0,8,6,9,2,2,8,9,1,3,6,9,7,2,0,0,1,9,4,8,5,0,6,5,6,6,7,0,5,1,1,0,5,2,0,6,5,5,8,3,3,5,5,3,4,8,2,0,6,0,9,5,2,4,2,3,0,4,6,1,9,5,6,3,2,0,0,8,9,6,9,2,5,7,1,1,2,1,2,8,9,1,0,7,2,1,0,3,7,8,2,5,2,4,1,2,4,0,3,9,3,7,5,6,0,7,3,4,8,1,2,6,0,8,4,4,6,7,7,5,5,1,5,2,6,6,1,7,8,1,5,9,0,8,4,9,7,4,3,9,2,9,7,6,8,2,5,3,1,7,6,1,7,9,3,2,6,2,4,5,3,3,7,7,0,8,7,0,2,1,0,2,4,3,7,4,6,5,1,6,3,7,8,8,1,9,9,0,8,1,3,2,1,3,7,4,5,7,1,8,0,9,1,0,4,1,4,2,4,3,1,4,7,5,5,6,8,7,2,8,2,9,5,0,1,9,8,5,8,0,3,9,4,8,2,9,8,4,2,1,0,7,2,7,6,3,9,5,0,1,1,0,7,0,1,7,8,0,0,1,3,2,6,2,3,3,8,7,5,3,8,3,2,6,9,6,5,1,0,0,2,9,1,0,2,1,3,7,5,6,3,3,2,2,6,3,4,1,8,9,2,1,6,7,1,6,4,8,9,4,3,3,9,1,4,4,2,0,9,5,2,3,6,6,6,9,7,1,6,7,9,5,0,4,7,4,7,7,3,2,0,2,7,7,6,9,3,5,7,8,9,9,9,8,9,0,2,1,4,2,8,3,5,4,1,5,1,7,9,0,6,1,2,2,2,3,7,6,7,1,5,2,8,3,5,4,9,5,2,6,2,9,1,9,9,6,4,5,5,9,9,2,4,3,3,1,3,2,0,1,1,2,1,1,6,3,6,2,8,6,4,5,5,3,3,0,0,6,7,4,2,0,6,5,5,9,1,9,5,8,0,1,0,7,4,4,4,7,3,0,7,1,4,6,2,3,1,7,3,9,3,0,6,9,2,5,9,3,9,8,6,8,2,7,0,1,3,4,6,0,2,3,7,9,2,0,3,7,7,2,3,1,7,9,2,1,9,5,2,1,2,7,4,2,9,1,1,6,2,8,6,8,8,0,0,1,1,2,2,3,0,4,9,5,9,6,7,8,9,9,8,0,7,1,4,2,8,3,8,4,1,5,4,6,1,7,9,8,2,9,3,0,9,1,6,2,0,3,7,4,6,5,5,6,7,7,3,8,4,9,7,0,5,9,5,4,7,2,8,4,3,1,6,5,8,6,9,1,9,1,7,7,8,8,8,5,7,3,1,4,4,6,0,7,7,0,7,3,3,2,0,6,6,9,8,8,5,5,8,8,1,6,0,8,7,9,3,9,4,7,8,7,7,2,7,1,0,1,1,1,4,2,4,8,0,7,3,6,4,5,0,3,3,8,4,1,4,3,1,6,5,0,8,4,0,8,5,9,5,4,2,9,2,7,8,9,1,5,9,2,5,7,9,1,7,8,6,2,2,1,6,7,0,7,2,3,0,2,2,0,5,4,7,6,6,6,4,9,9,4,1,2,9,8,1,2,4,5,1,1,1,0,0,5,6,0,7,3,0,4,1,3,2,9,9,6,5,7,7,3,7,4,0,3,4,0,2,6,4,9,1,0,3,1,1,2,8,3,7,4,2,5,6,6,8,7,4,8,5,9,6,0,6,1,2,2,2,3,7,4,0,5,6,6,4,0,1,1,9,2,6,3,5,4,3,5,9,6,5,7,7,8,8,9,1,2,0,1,8,2,4,1,9,3,9,9,1,9,8,3,2,7,0,0,3,7,8,7,1,5,2,7,2,9,2,9,6,4,2,7,7,0,6,1,3,4,8,4,2,7,0,5,1,8,2,1,7,4,1,9,9,8,0,4,1,1,1,8,4,6,1,6,3,4,5,6,3,0,5,5,9,5,9,3,3,3,2,5,2,2,7,5,0,7,0,2,3,5,2,9,5,6,2,9,2,2,0,6,9,2,4,1,1,2,2,0,0,8,7,3,1,8,6,3,4,0,8,8,9,7,4,4,4,9,7,5,3,0,1,9,6,7,1,0,2,0,6,4,0,9,9,1,5,6,1,2,2,7,8,6,5,8,8,3,3,5,9,2,8,1,1,8,8,6,9,1,5,0,0,3,5,1,7,4,8,0,2,1,9,2,2,3,5,4,3,5,5,6,1,7,3,8,6,9,5,0,6,1,2,2,8,3,3,4,1,5,9,6,4,7,6,8,0,0,2,1,3,2,0,3,5,1,0,5,0,6,9,7,3,8,1,7,9,0,9,6,4,0,0,7,5,3,8,8,5,6,2,7,6,1,6,3,4,7,3,9,9,7,9,4,7,0,0,2,2,5,0,0,3,6,9,4,4,9,4,5,0,6,4,5,8,2,3,9,8,8,3,5,5,1,8,9,1,8,1,3,0,4,1,0,8,5,4,4,2,8,6,6,8,3,4,4,2,8,5,0,8,6,6,4,0,8,5,1,7,3,1,4,4,0,7,1,1,9,1,2,8,3,3,7,9,1,7,2,5,7,3,2,9,8,0,7,7,0,2,1,0,9,6,6,7,4,6,9,6,2,4,1,7,2,2,3,7,7,9,0,2,2,1,1,5,3,6,4,9,7,6,2,4,5,3,8,9,1,4,6,1,8,4,5,6,6,9,0,6,8,5,9,9,4,4,9,6,2,9,6,5,0,5,1,4,2,0,3,4,4,6,5,9,6,7,7,1,8,7,9,3,0,0,1,2,2,7,3,7,4,9,5,7,6,2,7,7,8,6,9,1,0,8,1,1,2,4,3,5,4,1,5,5,6,1,7,8,8,8,9,5,0,3,4,7,0,2,1,9,7,9,9,6,5,6,1,8,4,2,2,2,8,7,9,0,4,0,3,8,1,7,7,6,8,4,2,6,4,6,4,4,3,6,3,8,6,8,9,0,9,3,5,1,8,5,6,9,7,1,0,8,6,6,8,7,2,5,6,3,3,1,9,1,8,0,6,8,1,2,7,0,4,5,8,9,8,3,9,9,0,6,3,6,3,3,9,5,0,7,9,8,4,6,1,5,0,0,3,9,7,6,5,3,8,2,7,8,7,0,8,2,2,8,9,7,7,1,1,1,2,3,6,6,4,4,2,8,3,1,6,4,6,9,0,6,2,7,8,0,1,0,6,0,1,3,0,1,4,0,3,3,1,1,6,6,1,2,9,1,0,1,1,9,2,0,3,2,4,2,5,5,6,7,7,6,8,7,9,5,0,8,1,3,2,4,3,1,4,7,5,4,6,2,7,6,8,2,9,5,0,6,1,1,2,7,3,2,6,8,7,5,8,0,9,6,8,8,1,1,0,0,7,6,5,3,1,8,8,0,6,1,4,9,1,0,9,6,3,4,8,3,4,5,4,2,7,1,0,5,1,7,9,9,2,7,8,2,7,6,8,3,2,4,5,8,9,4,6,2,0,0,6,4,5,2,5,5,3,2,3,7,3,2,8,9,1,8,4,1,0,6,6,0,1,1,0,7,0,5,6,4,2,6,1,4,1,7,3,9,2,7,8,7,8,7,7,0,0,5,3,4,6,2,8,2,9,7,9,2,2,5,4,5,9,9,4,9,3,3,6,8,2,9,2,6,5,8,3,4,2,8,5,6,5,1,9,7,1,0,6,9,5,5,0,1,1,3,2,0,3,4,4,6,5,2,7,0,8,4,0,0,1,5,2,2,3,1,4,2,5,5,0,1,1,8,2,9,3,0,4,5,5,9,6,1,2,8,1,9,2,1,1,1,3,8,9,8,9,3,8,6,3,1,7,5,0,0,7,3,7,2,5,9,7,9,9,5,9,1,4,8,7,8,0,5,3,4,4,9,1,8,7,0,5,4,8,8,1,9,4,6,9,6,8,6,4,8,1,7,8,3,6,0,6,5,0,2,3,9,5,5,5,3,7,6,9,8,6,8,9,4,2,9,6,9,2,8,1,5,2,2,0,8,8,9,3,3,8,7,3,7,0,2,8,0,7,8,4,8,9,4,5,8,0,2,9,7,0,5,0,4,4,8,6,7,0,7,9,1,1,6,6,4,2,2,6,1,8,3,3,6,1,4,8,0,3,3,1,9,0,9,3,7,1,2,4,1,0,2,1,3,2,5,3,0,4,4,5,8,6,4,7,4,8,1,9,0,0,5,1,3,2,5,3,3,4,6,5,1,6,8,7,1,8,8,9,7,0,1,1,9,2,1,3,2,4,9,5,3,6,7,7,7,8,3,9,9,8,3,9,8,5,5,7,5,0,2,3,2,1,5,6,9,8,1,4,9,1,7,7,7,6,9,5,6,6,9,7,2,8,0,1,7,4,4,0,8,5,5,0,9,1,5,9,6,2,3,3,5,2,3,3,4,5,8,5,6,7,0,8,3,4,0,9,6,9,4,7,0,1,7,1,0,9,6,8,7,3,5,4,0,8,0,6,9,3,6,8,0,0,1,9,3,6,9,2,8,1,5,0,9,1,2,0,5,6,7,2,0,3,1,8,4,9,0,0,8,7,6,2,9,3,1,4,1,8,7,5,1,4,7,6,0,6,7,6,4,7,4,9,0,1,1,2,7,1,7,2,6,6,0,5,3,3,6,4,5,7,3,9,2,4,0,0,7,0,9,5,0,9,3,0,0,1,1,2,7,3,4,4,9,5,0,6,0,7,9,8,8,9,2,0,0,1,2,2,9,4,3,5,3,6,7,7,2,8,7,9,1,0,7,1,1,2,0,3,1,4,5,5,6,6,3,7,4,8,1,9,5,8,9,6,4,5,0,0,4,6,1,8,2,9,6,4,4,1,9,9,6,5,1,3,4,0,0,4,0,8,0,9,4,1,6,5,0,5,5,2,4,1,8,4,0,0,9,7,7,6,4,0,1,1,4,8,4,9,7,4,2,7,8,6,1,0,4,8,3,1,8,7,4,7,3,1,3,2,2,3,0,1,5,4,8,2,6,0,6,0,2,7,2,8,1,8,6,4,7,7,8,2,3,5,4,6,2,3,3,6,6,4,2,6,5,5,3,1,7,3,2,9,8,2,1,5,9,7,2,9,0,8,1,2,1,1,3,3,9,1,2,3,0,0,8,1,8,2,6,4,0,5,6,6,4,7,4,8,4,9,7,0,5,1,2,2,8,3,8,4,0,5,0,6,5,7,9,8,5,0,7,1,2,2,0,3,2,4,8,5,9,6,2,7,6,8,7,9,0,7,2,2,0,9,9,4,1,2,4,9,4,8,1,4,5,5,0,8,9,8,4,0,7,3,6,5,5,4,7,3,4,3,6,4,6,6,2,5,0,1,6,7,6,8,9,4,8,5,8,7,2,3,7,5,4,2,5,3,4,6,4,6,7,7,8,7,3,7,9,6,5,0,7,1,9,0,1,1,1,6,4,5,3,5,4,2,4,9,9,3,9,1,7,4,1,8,5,8,6,7,5,6,6,2,6,2,1,9,5,6,3,5,9,9,0,1,7,2,5,2,4,7,9,9,8,7,0,9,0,8,4,9,4,7,9,0,5,5,6,0,9,3,2,8,9,4,5,6,3,1,4,4,8,0,7,3,5,6,5,2,3,0,3,1,4,3,7,1,1,0,2,9,2,0,7,1,4,2,5,3,4,5,5,6,0,7,7,8,4,9,5,0,0,1,6,4,2,7,2,8,0,9,3,0,9,1,5,4,4,7,6,8,4,9,7,1,6,7,1,9,7,5,9,1,3,9,4,1,3,7,7,8,6,2,1,3,6,6,3,9,1,9,1,5,9,8,9,6,7,7,7,0,1,6,8,8,2,3,4,9,0,8,9,6,7,1,3,7,3,9,6,4,4,1,7,0,9,3,5,8,2,7,4,7,7,8,5,7,9,6,6,6,8,2,5,8,5,1,2,6,0,1,6,0,8,4,3,3,5,1,0,6,5,1,3,9,8,0,4,1,2,2,2,3,0,4,7,5,3,6,2,7,4,8,1,9,3,0,3,1,6,2,2,3,2,4,0,5,5,6,3,9,5,0,0,1,3,2,8,3,2,9,9,0,8,9,1,0,2,9,1,3,6,2,4,7,9,8,5,4,6,6,8,1,7,0,2,4,2,0,3,5,1,0,6,1,3,3,5,2,4,9,3,1,9,6,1,0,6,1,9,1,1,8,1,0,6,4,6,7,7,7,0,6,1,3,0,6,8,0,4,7,7,4,6,4,0,1,8,8,4,3,1,7,6,1,4,9,6,3,9,8,4,0,7,1,7,2,6,3,1,4,0,5,4,6,1,7,7,8,9,9,3,0,9,1,1,2,0,3,1,4,5,5,1,8,0,9,0,0,7,1,3,2,2,3,6,4,6,5,4,8,8,9,1,8,0,3,8,4,1,7,0,8,8,6,7,3,6,4,3,0,3,9,3,7,7,1,5,9,7,3,4,8,8,4,1,7,4,3,1,0,4,9,5,6,5,1,3,4,3,5,7,4,5,6,7,2,1,0,7,6,9,2,4,1,0,1,7,1,3,1,3,7,9,2,7,4,6,7,6,5,4,2,8,9,0,4,8,5,8,8,4,4,9,2,8,0,6,5,9,1,2,1,6,7,0,6,9,6,2,6,2,8,7,2,6,5,0,2,3,2,2,7,9,7,9,4,3,0,1,2,1,4,1,2,0,5,1,0,8,3,2,3,9,3,7,1,0,8,0,9,3,6,0,1,5,0,6,5,9,9,5,8,3,5,3,8,5,5,1,5,9,8,1,0,5,3,8,0,7,8,8,3,8,9,2,6,4,3,0,0,6,1,7,2,1,3,7,7,0,8,1,9,0,0,6,1,7,2,6,3,9,4,5,7,8,8,9,9,6,0,5,1,4,2,8,3,7,4,4,7,6,8,3,9,9,1,4,0,6,1,5,2,8,7,0,7,5,3,0,2,1,2,5,3,6,9,2,1,8,7,0,9,9,5,9,7,7,2,7,9,4,6,1,1,8,3,1,7,5,3,8,9,6,8,9,8,2,8,1,8,6,8,5,4,2,7,7,2,2,1,4,9,7,8,3,7,4,8,5,8,8,0,0,7,1,9,4,5,4,0,1,6,7,8,7,2,9,6,1,0,5,1,8,2,2,3,5,4,3,5,6,6,0,7,2,8,6,9,8,0,0,1,4,2,4,3,1,4,2,5,2,6,9,7,2,8,4,9,7,0,1,1,6,2,7,3,1,4,1,5,1,6,0,7,9,8,5,9,0,0,5,9,1,9,6,8,6,9,2,8,9,4,6,1,2,7,3,7,3,3,9,5,6,1,3,0,7,0,8,2,8,7,4,7,9,8,3,2,7,0,4,1,0,2,7,6,7,3,7,3,5,7,0,3,6,3,4,4,1,6,9,6,8,6,2,4,3,9,9,1,9,5,9,0,0,9,4,8,9,2,0,0,4,0,2,1,9,7,5,6,6,3,7,2,3,1,7,7,2,4,2,6,7,3,2,1,8,3,0,9,4,1,8,7,3,6,1,8,6,4,2,3,0,1,9,0,2,9,3,6,9,1,9,7,3,5,2,4,7,4,5,7,7,2,6,8,2,4,3,8,9,8,9,4,3,8,9,9,6,8,7,0,6,1,0,2,4,3,2,4,6,5,7,6,0,7,2,8,9,9,8,0,9,1,2,2,6,3,9,4,2,5,6,6,6,7,6,8,3,9,2,0,0,1,4,2,2,3,9,4,9,5,9,6,2,7,5,8,8,9,4,1,1,0,9,4,1,5,1,6,6,6,5,3,2,4,8,4,5,2,1,8,4,1,8,0,2,6,8,4,4,9,6,7,2,2,6,3,2,3,4,9,4,2,4,0,8,9,1,3,5,3,1,9,5,1,7,5,6,2,1,3,4,1,9,6,7,7,8,3,6,7,5,8,1,4,9,0,7,2,0,4,5,0,6,2,0,4,3,7,7,8,1,0,1,7,9,0,9,6,7,9,0,3,6,2,7,4,4,0,6,5,1,7,3,5,3,1,8,0,1,8,6,1,2,6,2,7,3,2,2,9,1,7,5,9,7,5,3,8,3,9,7,6,7,5,0,2,8,6,1,2,7,8,6,1,2,7,9,5,4,5,5,7,5,3,1,5,8,0,2,1,9,1,0,3,5,8,2,4,0,9,5,4,8,5,3,1,8,8,4,6,1,8,6,9,3,0,3,1,6,2,1,3,4,4,4,5,6,7,2,9,1,0,8,1,7,2,7,3,7,4,2,5,2,6,9,7,9,8,7,9,5,0,8,1,0,4,1,7,5,8,9,9,4,8,2,1,9,0,2,9,3,5,7,7,4,8,6,6,4,9,3,0,6,4,0,1,4,9,0,3,6,8,9,4,1,4,8,7,4,0,9,1,9,9,9,2,1,8,3,7,0,8,3,9,9,6,1,0,2,6,2,5,2,5,6,3,0,3,7,3,5,4,7,9,8,4,4,0,1,6,8,1,9,0,0,0,1,6,7,2,3,1,0,1,8,3,9,2,5,7,2,7,5,8,7,6,0,0,7,2,1,0,9,3,0,6,6,8,8,7,6,1,7,5,6,9,5,9,2,3,9,7,6,2,5,4,4,9,9,4,6,3,5,6,6,2,0,4,8,1,1,7,2,2,5,0,9,1,4,2,8,3,1,4,5,5,3,6,9,7,2,8,8,9,9,0,1,1,5,2,6,3,6,7,0,8,3,9,2,0,1,1,1,2,1,3,7,4,1,5,0,6,5,7,8,8,6,9,1,0,8,9,7,5,5,6,2,4,8,1,8,9,0,3,9,8,0,4,5,4,1,7,9,0,4,1,4,9,9,2,5,8,7,7,1,8,8,5,9,9,2,6,4,0,6,6,5,3,5,3,1,3,0,9,5,9,2,8,0,1,9,4,2,0,7,6,9,1,1,0,6,0,1,6,2,2,7,1,9,1,4,3,8,2,7,7,1,7,1,7,2,0,8,7,0,0,9,3,7,6,7,8,9,2,5,4,3,9,1,4,7,3,0,6,4,5,8,5,4,9,5,4,1,1,2,7,5,0,9,1,3,2,0,3,1,4,5,5,4,6,4,7,8,8,5,9,8,0,3,1,4,2,3,3,3,4,2,5,9,6,4,7,7,8,2,0,6,1,0,2,8,3,0,4,5,5,8,6,0,7,1,8,9,6,3,2,4,7,8,1,3,5,0,6,2,2,1,5,5,0,1,5,6,4,0,2,3,0,2,8,2,0,7,1,2,2,4,3,6,4,0,5,5,6,4,7,9,8,1,7,8,1,8,7,9,7,1,0,4,1,3,4,8,4,7,4,3,5,2,7,3,4,7,9,4,7,5,2,1,6,7,3,7,9,3,4,3,9,9,0,6,8,1,7,6,9,4,0,7,6,1,3,4,0,3,4,5,6,6,3,6,7,5,8,1,9,7,3,3,1,4,8,8,4,3,2,0,9,6,8,2,2,3,8,6,6,7,5,2,2,5,6,6,9,8,6,9,0,6,3,0,6,8,3,4,1,2,2,3,5,2,0,1,3,1,7,5,6,6,1,7,5,5,5,9,9,6,8,8,0,2,9,4,0,2,1,3,2,2,3,4,4,6,7,6,8,7,9,9,0,7,1,3,2,5,0,7,1,6,5,2,1,7,3,4,9,5,0,2,9,7,7,9,1,5,3,8,6,8,9,6,2,8,4,7,7,6,7,0,4,1,3,3,8,3,3,3,7,8,1,4,1,7,7,8,9,5,3,6,9,8,1,2,6,7,4,9,3,5,9,3,8,4,1,6,0,6,1,5,2,8,3,8,4,1,5,1,8,1,9,5,0,8,1,5,2,4,3,4,4,0,5,1,8,5,9,1,0,9,1,3,2,4,3,7,4,2,5,7,6,9,7,8,8,2,9,7,3,6,2,0,9,8,3,7,2,4,1,8,4,9,5,5,5,9,2,7,3,7,2,9,1,0,3,8,9,9,7,0,2,5,1,9,9,9,1,7,8,1,8,1,7,7,8,2,1,9,0,6,0,4,6,4,7,1,5,1,0,9,6,3,1,1,1,4,2,2,5,9,0,9,7,8,8,7,4,2,4,5,1,9,8,2,5,6,9,1,0,9,3,6,7,5,1,7,6,0,2,8,6,1,6,7,1,7,3,7,8,1,9,9,9,1,5,9,9,6,3,5,7,2,5,1,6,1,2,9,2,3,0,8,9,4,4,9,0,5,1,5,2,6,3,1,4,3,5,6,6,2,7,2,8,3,9,3,1,7,4,1,7,8,0,2,1,8,2,6,3,5,4,2,5,1,6,5,7,4,8,9,9,3,3,1,7,7,1,4,0,7,7,6,5,8,5,6,6,7,1,6,0,2,0,2,8,8,3,4,4,9,3,8,1,4,9,2,5,2,3,5,4,7,9,8,3,4,9,1,2,0,4,1,5,5,1,3,6,3,4,8,9,7,4,6,9,5,4,1,1,4,2,6,5,5,8,0,1,9,2,9,9,9,4,1,3,8,8,5,2,8,2,8,1,5,2,6,1,4,1,0,3,4,9,5,3,0,8,4,7,1,0,0,7,9,4,8,8,7,8,3,5,4,0,8,6,4,6,3,3,8,7,6,6,7,9,7,9,4,4,4,8,9,1,0,0,5,1,5,2,5,3,1,4,6,5,2,6,0,7,2,8,2,9,7,0,9,1,5,2,5,3,1,7,0,8,0,9,4,0,8,1,5,2,2,3,4,7,7,8,3,9,4,1,6,8,4,6,0,7,4,1,4,1,7,4,3,3,3,7,9,7,5,8,5,9,2,3,1,6,8,0,7,3,0,6,2,4,5,7,2,5,8,6,7,0,6,3,1,8,8,3,6,1,6,1,4,5,3,9,7,0,4,9,6,6,6,2,8,1,1,7,5,9,2,9,7,8,5,6,9,6,5,8,9,8,4,2,2,6,7,3,0,2,8,9,4,0,0,3,3,5,4,8,2,3,7,5,3,8,4,5,2,7,5,7,2,0,7,1,1,2,0,3,8,4,6,5,9,6,1,7,4,8,4,9,6,0,3,1,9,2,2,3,6,4,5,5,5,6,1,7,4,8,3,9,1,0,1,1,0,2,1,3,4,4,9,5,5,6,7,7,5,8,9,9,8,1,5,8,9,6,1,7,9,2,5,7,7,1,9,1,9,4,6,3,5,7,9,8,3,9,1,3,9,6,2,0,4,3,5,4,0,8,8,4,1,5,5,7,9,5,3,0,8,3,6,9,8,2,1,8,2,3,9,1,4,1,3,5,7,9,2,4,3,3,3,0,2,4,8,0,7,9,2,6,7,9,3,2,6,2,2,1,1,7,4,9,3,5,1,1,4,1,2,9,8,8,0,6,8,9,4,0,7,0,1,0,6,1,4,8,8,4,7,8,1,8,1,2,3,6,8,3,8,2,1,9,3,2,1,4,5,0,3,9,5,0,0,3,1,7,4,4,6,5,8,8,9,3,5,5,2,8,2,5,4,4,0,7,8,6,4,5,0,2,6,2,4,2,0,7,1,7,1,0,9,5,1,1,1,5,7,3,1,0,7,1,8,2,6,5,5,6,0,7,9,8,1,9,4,0,4,1,4,2,1,3,0,4,5,5,0,6,5,7,6,8,0,0,6,1,4,2,7,3,5,4,7,5,3,6,3,7,2,8,6,9,9,2,8,1,5,7,5,2,4,5,7,0,2,8,7,0,3,2,1,7,5,8,5,8,9,3,7,0,8,6,6,0,7,2,4,7,2,6,1,6,2,1,8,2,8,8,2,8,3,7,3,7,5,4,9,7,2,7,3,3,2,7,3,4,6,5,1,4,7,3,3,3,0,8,9,4,6,5,9,4,5,1,9,1,2,9,3,7,0,4,5,3,5,7,3,3,0,3,6,0,6,2,6,5,5,5,7,6,5,3,1,1,9,5,0,2,1,5,8,9,9,9,7,8,1,4,5,1,8,0,5,6,2,0,7,9,3,6,9,8,6,8,6,5,7,6,7,1,8,1,2,9,0,8,5,9,5,2,6,3,6,5,1,5,5,9,8,4,4,2,3,1,8,9,2,4,8,9,4,1,8,3,4,9,0,2,2,0,6,6,8,0,3,4,5,0,3,6,2,0,3,1,8,2,4,3,0,4,4,6,3,8,8,1,1,2,0,3,7,4,1,5,9,6,2,7,7,9,5,1,1,2,6,3,5,4,4,5,4,6,0,7,2,8,4,6,5,6,1,0,7,2,0,3,9,7,3,4,1,7,2,1,2,9,0,1,9,7,4,1,8,4,6,0,6,0,5,1,2,7,8,5,6,7,9,1,0,3,9,3,8,3,1,1,7,6,1,9,1,7,6,4,7,3,9,0,3,2,5,6,9,0,7,8,9,9,9,4,6,3,1,5,9,4,2,8,7,1,6,5,7,0,8,6,2,6,9,3,6,3,2,8,8,1,6,4,3,7,6,5,3,7,0,2,8,2,0,0,0,0,5,7,7,7,1,9,3,5,8,9,3,8,0,9,8,6,9,8,9,2,1,3,4,6,6,1,7,2,8,9,3,2,1,5,7,2,3,2,5,4,6,8,5,4,2,6,3,5,3,0,3,1,6,2,2,3,6,4,1,5,9,6,2,7,8,8,0,9,3,0,1,1,8,2,3,3,6,4,6,5,6,6,8,7,8,8,6,9,0,0,5,1,5,2,1,3,7,4,9,5,3,6,6,7,6,8,2,9,7,6,4,2,0,7,2,1,4,5,8,6,8,2,6,5,0,0,3,5,7,4,1,2,1,0,2,8,2,1,1,7,2,1,2,8,9,3,6,8,6,7,7,1,4,7,1,7,1,0,0,1,3,4,6,4,0,4,2,5,1,7,1,4,9,4,7,9,9,7,3,2,7,6,0,5,5,3,1,9,0,4,9,3,3,9,0,0,8,8,8,7,6,9,9,0,2,6,2,3,8,0,7,4,1,6,2,3,7,7,0,0,9,1,1,4,6,8,2,8,9,1,2,2,3,9,1,3,1,1,0,8,3,4,7,2,8,9,5,8,8,2,4,8,5,6,3,6,2,9,9,2,0,9,5,6,4,0,5,5,5,3,1,3,9,6,0,3,0,1,9,2,7,5,9,0,0,3,3,7,6,1,0,5,9,5,4,9,2,8,9,0,0,9,9,0,6,1,5,2,4,3,6,4,1,5,1,6,8,7,6,8,2,9,3,0,8,1,7,2,4,3,7,4,9,7,5,8,2,9,0,0,5,1,2,2,1,3,9,4,0,5,7,6,4,7,9,8,1,9,4,9,6,7,3,4,6,1,4,5,4,8,5,8,1,0,6,9,0,3,1,2,2,7,9,8,8,1,5,6,2,1,3,0,4,4,7,5,0,3,5,9,1,4,7,3,9,4,9,2,7,0,2,5,9,0,1,1,1,3,9,2,1,9,5,1,0,6,9,0,8,1,7,1,8,8,8,0,0,4,0,7,1,7,1,6,1,3,3,6,9,0,5,7,7,3,7,5,6,4,3,2,2,4,1,1,1,8,5,3,9,7,8,1,4,0,1,6,7,7,3,1,6,2,6,5,2,8,1,1,0,9,3,3,1,8,5,2,6,8,8,8,6,7,1,1,1,7,8,9,1,2,0,0,7,1,3,2,7,3,9,4,6,5,8,6,4,7,1,8,0,9,6,0,6,1,2,2,8,3,0,4,5,5,0,6,1,7,3,0,5,1,7,2,4,3,1,4,3,5,0,6,8,7,1,8,6,8,6,7,0,4,7,7,2,7,5,3,7,9,3,8,0,1,0,5,0,8,2,2,6,7,9,4,8,2,6,6,6,4,4,5,4,5,1,8,1,6,6,4,5,4,6,4,3,1,3,8,8,7,6,5,4,5,9,1,0,8,1,9,7,3,6,6,1,3,6,3,3,2,9,2,3,6,1,9,5,9,1,6,5,5,6,5,9,3,0,3,9,8,7,1,4,6,7,5,7,6,2,8,5,1,3,9,4,7,1,6,4,8,5,3,1,7,8,4,4,7,0,0,9,9,2,0,1,0,1,3,4,7,1,9,1,3,7,0,1,2,7,0,2,1,8,0,2,1,8,0,0,4,2,0,5,1,7,0,8,4,2,7,9,9,1,2,2,0,2,6,5,2,6,6,3,2,9,2,2,9,5,9,4,0,6,1,1,2,4,3,7,4,9,5,4,6,2,7,4,8,4,9,3,0,6,1,4,2,6,3,6,4,0,5,5,6,7,7,9,0,4,1,6,2,9,3,9,4,5,5,1,6,1,7,3,8,9,9,3,7,3,4,9,3,9,8,8,5,9,1,8,8,3,5,1,2,0,8,8,6,8,1,6,9,9,2,3,4,7,0,6,9,4,9,6,3,7,7,7,1,1,8,8,4,2,4,9,2,5,7,8,5,6,8,6,5,4,3,3,2,8,2,9,0,4,5,1,8,3,6,7,0,2,4,7,0,7,3,7,8,3,1,1,0,0,3,4,0,0,4,1,7,4,4,3,9,1,2,5,9,9,1,9,2,0,1,5,7,1,1,7,6,4,7,0,3,5,3,2,6,3,2,4,8,4,7,6,6,4,4,8,9,5,8,4,8,3,2,8,9,4,6,1,5,0,5,2,9,3,5,6,3,7,7,0,4,6,3,1,6,7,0,4,0,1,4,4,6,5,6,2,9,4,0,6,1,1,1,2,3,0,2,1,1,9,0,8,0,9,1,7,2,4,3,5,4,8,7,4,8,6,9,3,0,7,1,3,2,5,3,3,4,5,5,9,6,9,7,0,8,6,9,2,0,6,1,3,2,7,3,9,4,1,5,4,7,7,8,1,9,4,8,5,6,1,5,3,0,1,6,1,8,6,9,0,4,0,1,3,9,8,5,4,3,6,0,3,4,4,8,8,9,7,1,8,4,0,0,1,5,8,5,8,4,9,0,6,7,3,6,5,0,9,1,0,7,2,0,3,6,6,8,2,9,0,5,9,4,8,7,0,6,9,0,1,8,3,1,2,7,1,7,5,1,0,3,0,2,7,3,9,1,3,4,7,2,1,0,8,0,6,4,4,9,9,3,6,8,8,4,7,7,5,2,5,5,2,6,7,3,3,6,5,9,6,6,9,3,5,2,4,2,7,4,2,6,2,5,4,5,3,1,7,3,4,3,4,9,5,7,8,8,0,7,8,2,1,2,1,5,7,7,1,9,1,8,1,2,1,1,3,3,0,1,6,3,9,0,7,1,3,2,2,3,9,4,6,5,3,6,3,7,4,8,8,9,9,0,6,1,7,2,2,3,3,4,1,7,3,8,4,9,8,0,2,1,4,2,2,3,6,4,1,7,9,8,2,9,2,7,7,7,7,7,4,3,8,0,0,3,4,1,5,8,0,7,0,6,9,4,2,0,2,2,9,6,2,8,9,3,6,1,0,1,1,7,4,7,3,1,5,6,1,0,5,4,5,6,7,4,9,4,1,0,6,6,8,2,5,3,4,1,9,3,4,6,0,8,7,5,9,9,0,4,8,0,9,7,2,5,2,8,8,8,7,3,3,7,3,8,8,9,8,2,6,5,2,3,8,1,9,7,9,3,1,9,6,1,9,9,5,9,6,6,7,0,4,9,4,4,6,3,0,7,4,0,0,4,0,1,6,4,5,3,3,5,3,4,3,0,5,2,8,1,6,8,8,9,7,4,6,0,8,1,3,2,7,3,1,4,3,5,0,6,0,7,3,8,9,9,5,0,1,1,9,2,4,3,2,4,7,5,1,6,8,7,0,8,1,9,9,0,8,1,4,2,1,3,4,4,4,5,2,6,7,7,2,8,5,9,0,2,2,2,2,7,7,6,5,4,2,0,8,5,7,8,6,0,9,7,8,3,2,5,4,4,6,1,4,8,1,0,7,5,5,2,9,7,5,2,0,3,9,1,2,7,0,7,6,9,6,9,6,1,2,2,9,4,4,6,8,7,0,7,9,5,7,4,0,5,8,0,1,1,0,1,7,9,7,0,6,2,6,0,8,3,3,5,7,6,4,1,2,8,8,6,3,4,0,6,8,0,1,6,9,4,6,3,3,9,4,3,3,0,8,0,3,5,2,2,7,5,0,8,7,8,1,8,7,9,4,4,4,2,8,8,7,8,6,5,0,5,0,7,5,1,0,3,1,6,1,9,9,4,8,1,4,3,9,7,7,6,5,9,2,3,2,3,9,7,5,4,1,1,2,9,9,1,7,0,2,6,3,0,6,1,5,2,6,3,3,4,1,7,0,8,2,9,1,0,1,1,3,2,3,3,3,7,6,8,2,9,6,0,6,1,0,2,6,3,3,7,0,8,2,9,7,1,9,8,7,6,3,7,5,2,7,7,8,1,2,1,4,4,3,3,6,7,9,7,7,8,5,9,9,3,8,6,6,0,6,3,7,6,7,1,0,8,0,4,3,5,3,3,0,9,3,2,2,8,5,3,8,1,2,1,2,5,3,9,0,0,7,4,8,4,3,0,8,9,3,6,4,9,4,2,2,2,6,1,4,7,4,9,1,5,4,1,8,1,5,9,1,8,9,6,8,6,2,9,8,0,7,0,7,0,6,1,1,8,4,4,1,6,4,8,9,8,3,2,9,6,1,3,8,2,1,9,0,2,5,9,3,0,8,3,5,7,4,4,4,5,6,8,8,3,6,5,9,8,8,5,9,4,9,7,1,6,3,5,4,2,3,2,9,7,5,7,9,0,6,5,8,5,9,3,3,0,2,1,2,2,1,3,0,4,2,5,5,6,4,7,3,8,2,9,3,0,5,1,8,2,8,3,1,4,9,5,9,6,7,7,5,8,1,9,9,0,5,1,7,2,9,3,6,4,6,6,3,7,8,8,2,9,0,6,3,2,5,7,8,1,8,5,7,6,7,2,6,0,9,8,1,1,6,7,1,1,2,8,9,3,5,8,7,7,2,1,1,7,9,7,9,0,2,1,8,4,4,4,1,7,5,4,9,4,6,9,0,7,6,2,9,6,2,5,8,3,8,9,7,4,7,3,8,9,2,0,8,8,1,7,7,9,5,0,8,3,4,0,1,4,1,6,4,3,5,7,7,0,1,1,9,4,9,8,1,8,1,1,3,2,0,9,2,3,9,8,8,9,2,8,3,2,9,8,6,6,0,5,3,2,7,6,6,2,8,6,8,0,5,5,8,3,8,3,5,6,1,3,0,2,1,7,9,6,0,5,3,9,0,8,5,0,0,9,3,0,9,1,9,2,8,3,0,4,2,5,4,6,9,7,5,8,9,9,3,0,8,1,2,2,2,3,1,4,8,5,4,6,5,7,7,8,2,9,2,0,1,1,2,2,2,3,5,4,1,5,9,6,8,7,3,8,2,9,4,9,2,8,7,6,3,5,2,9,4,2,2,3,6,4,4,3,4,8,6,5,0,1,7,5,4,2,6,3,3,0,6,1,9,2,3,1,5,3,4,2,1,6,3,5,5,3,9,0,7,7,4,4,3,6,9,4,6,0,4,5,9,9,3,9,0,8,9,3,7,1,2,7,6,4,2,7,6,6,6,5,3,0,6,6,1,6,5,2,2,0,9,6,2,3,6,7,5,7,3,4,5,4,8,3,8,9,4,2,1,8,6,9,2,6,8,0,1,9,8,5,3,3,2,8,1,8,4,7,4,1,4,4,7,0,0,4,8,8,1,5,5,2,1,3,3,9,5,0,5,7,1,2,6,1,0,9,6,1,1,5,2,1,2,7,9,4,0,8,9,6,2,1,8,2,0,1,4,6,7,8,8,8,5,0,4,1,4,2,7,3,6,4,0,7,6,8,4,9,5,0,1,1,9,2,9,3,7,4,3,7,8,8,2,9,6,0,2,1,3,2,0,3,5,7,1,8,3,9,2,1,9,1,1,7,4,4,8,8,3,1,9,5,1,7,7,2,9,8,3,6,2,3,9,3,7,8,9,6,1,9,5,1,5,7,4,2,5,1,1,5,8,1,0,3,4,2,1,2,5,3,0,0,2,6,4,4,1,3,7,7,4,6,5,9,3,0,6,4,6,1,8,4,1,0,0,6,3,1,1,2,8,6,9,9,4,2,9,2,7,3,1,0,7,7,6,2,2,9,2,2,3,3,8,4,5,0,9,0,5,8,6,7,6,8,4,0,7,9,7,8,2,9,9,0,4,2,8,0,3,1,0,2,4,3,2,4,2,5,1,6,3,7,5,8,0,9,3,0,9,1,1,2,2,3,7,4,1,5,0,6,7,7,3,8,3,9,9,0,8,1,3,2,3,3,9,4,4,5,0,6,1,7,6,8,3,9,7,5,4,8,3,7,3,4,1,7,1,7,9,3,1,8,7,8,3,3,6,1,6,5,3,8,5,2,2,7,3,6,8,8,6,6,7,4,3,4,4,4,1,1,6,8,4,8,1,9,7,1,1,2,9,2,1,6,5,9,8,9,2,6,5,5,3,5,0,3,6,3,6,8,5,8,0,1,3,9,4,7,4,6,5,8,2,3,0,7,0,4,7,7,2,0,3,9,1,3,2,7,0,9,7,3,5,0,2,2,1,0,4,1,3,0,0,1,4,0,6,4,9,0,7,1,2,0,9,4,5,7,9,9,2,2,0,0,6,6,6,2,4,6,3,2,2,2,3,9,9,9,7,0,1,1,0,2,5,3,8,4,8,5,0,6,1,7,0,8,6,9,4,0,6,1,0,2,1,3,9,4,6,5,7,6,8,7,9,8,6,9,6,1,5,0,0,9,0,5,3,7,0,5,4,1,6,8,4,6,7,9,1,0,2,4,9,1,8,9,8,3,5,8,6,4,2,4,8,7,1,0,8,1,0,2,4,7,0,8,5,2,9,5,8,9,7,6,1,0,3,6,3,5,1,5,0,3,2,3,9,3,3,9,6,8,6,1,9,4,3,0,0,6,4,1,1,0,4,0,9,6,1,2,6,1,4,1,2,3,7,2,9,7,5,7,4,8,7,8,6,7,6,8,8,4,2,6,4,0,9,7,1,0,5,3,7,6,1,7,5,1,4,5,6,3,3,7,2,2,3,4,3,9,9,4,1,3,2,6,4,2,6,2,6,5,3,3,9,9,9,4,0,1,3,7,1,2,2,5,4,0,5,1,1,2,6,3,1,4,3,5,8,6,6,7,7,8,3,0,8,1,4,2,8,3,2,4,8,5,0,6,0,7,7,8,8,9,1,0,3,1,4,2,6,3,8,4,4,5,3,6,9,7,8,0,7,7,6,0,4,7,4,8,6,3,2,0,0,0,2,5,5,5,7,3,7,8,0,8,3,1,3,8,6,4,1,9,2,6,0,1,9,8,7,0,9,2,6,7,9,3,2,9,8,2,8,5,7,9,6,5,2,4,3,0,8,3,0,3,9,4,5,7,5,9,1,0,3,1,8,9,6,1,6,2,0,7,1,9,9,1,3,0,3,6,9,2,7,4,8,0,2,3,9,5,5,6,9,6,2,5,8,6,6,7,6,1,2,4,9,4,3,2,3,6,9,2,3,9,0,1,5,5,7,5,0,5,4,3,1,1,8,4,1,8,2,6,9,3,9,7,1,0,1,9,1,5,2,6,8,7,0,1,5,3,2,8,9,2,1,6,5,2,3,6,3,4,3,2,7,7,7,8,0,7,7,1,2,0,6,1,0,2,9,3,7,4,7,5,3,6,7,7,7,8,4,9,9,0,1,1,2,2,0,3,2,4,9,5,4,6,6,7,7,8,3,9,8,0,6,1,9,2,7,3,4,4,8,5,9,6,9,7,0,8,4,9,4,9,4,7,3,5,4,2,8,9,4,0,5,1,3,5,4,8,6,8,4,0,8,9,4,3,4,2,7,7,6,8,7,4,5,6,7,1,1,0,3,4,5,5,4,3,3,9,8,0,5,5,6,0,5,1,7,6,0,9,3,3,1,1,2,6,5,0,8,1,0,1,6,8,1,0,6,4,4,7,9,7,7,6,4,3,1,5,0,6,2,6,6,3,4,1,3,8,8,3,7,5,0,6,9,7,6,5,6,2,0,7,4,1,7,1,0,9,8,2,4,8,3,8,2,3,9,3,5,0,5,1,7,2,4,3,3,4,7,5,4,6,6,7,4,8,9,9,4,0,7,1,5,2,1,3,6,4,9,5,0,6,4,7,5,8,1,9,9,0,6,1,2,2,0,3,9,4,1,5,1,6,4,7,8,8,1,9,6,0,9,0,4,7,2,2,7,4,4,2,9,6,7,5,3,5,1,3,1,7,0,8,0,6,6,6,9,4,9,3,1,2,5,6,1,3,4,8,7,0,3,1,4,4,7,5,9,6,0,4,1,7,6,8,6,0,1,3,2,1,5,5,5,4,9,1,3,9,2,1,2,2,9,7,4,0,0,1,5,3,7,8,9,2,0,9,8,7,5,9,5,4,0,2,9,5,3,8,1,6,8,5,4,5,6,9,7,9,9,1,4,8,6,2,0,9,5,1,9,3,7,4,5,3,5,1,4,0,1,9,2,6,0,3,9,6,5,8,7,7,1,0,7,1,1,0,9,5,4,8,3,2,5,7,7,7,4,0,9,1,4,2,7,3,5,4,1,5,0,6,0,7,0,8,3,9,2,0,6,1,3,2,6,3,8,4,6,5,7,6,8,7,4,8,0,9,5,0,6,1,3,2,1,3,4,4,8,5,2,6,5,7,3,8,9,9,1,5,8,7,7,7,2,7,6,0,1,4,0,0,8,3,2,1,1,8,0,9,4,2,4,1,4,8,6,6,5,5,4,4,5,7,3,3,0,4,8,1,7,8,8,6,7,9,8,1,5,4,6,5,2,5,4,6,9,0,4,1,9,3,8,6,4,4,4,8,9,9,2,8,1,5,3,2,6,1,7,0,5,7,0,2,2,5,8,5,6,6,7,6,6,6,2,3,4,3,8,3,8,1,0,7,6,2,3,2,2,7,9,2,5,3,6,6,4,8,2,5,7,1,3,4,0,9,5,0,1,5,3,0,4,6,1,8,6,8,7,0,5,8,8,2,8,3,5,9,7,4,7,3,7,7,0,1,6,7,2,6,8,9,6,4,5,2,8,9,1,9,0,2,9,0,6,8,1,5,0,0,4,4,6,9,1,4,7,0,6,7,5,1,3,3,5,2,7,9,9,0,6,1,5,2,1,3,8,4,7,5,8,6,1,7,0,8,6,9,8,0,9,1,9,2,8,3,4,4,6,5,7,6,0,7,2,8,2,9,0,0,5,1,3,2,8,3,7,6,2,7,9,8,3,9,1,8,6,4,2,0,8,0,3,7,0,2,7,4,8,2,9,6,0,5,2,5,9,3,5,7,6,8,1,6,0,6,5,4,1,3,5,2,7,6,2,6,9,4,1,4,6,3,3,8,2,8,7,3,5,0,9,1,9,4,1,7,7,8,1,0,9,3,4,1,9,9,2,0,4,5,4,4,2,1,8,9,3,1,0,2,2,7,4,0,7,1,1,3,2,8,9,2,4,9,7,2,6,7,1,7,4,9,7,9,8,0,4,4,2,2,6,5,2,8,5,6,8,5,9,5,3,9,1,9,0,1,6,1,2,5,4,7,9,6,5,8,5,2,1,9,4,1,1,3,1,2,5,3,6,4,2,3,3,1,1,9,9,0,6,9,8,5,8,6,7,3,1,6,1,8,2,7,3,0,6,1,9,0,9,5,6,8,0,2,3,7,5,7,1,0,9,1,9,2,7,3,5,4,7,5,5,6,5,7,4,8,4,9,8,0,4,1,3,2,2,3,5,4,9,5,7,6,0,7,8,8,8,9,7,0,7,1,1,2,4,3,8,7,9,8,1,9,4,0,5,9,1,5,3,5,2,6,8,9,3,8,9,9,4,8,8,7,3,7,3,3,9,5,1,1,6,0,6,2,4,2,7,7,5,8,9,2,8,0,1,1,4,2,0,6,5,3,9,3,5,7,3,3,7,3,8,4,2,6,3,6,4,6,8,1,5,5,1,0,8,8,3,2,3,0,1,1,0,7,6,6,1,3,8,2,1,1,8,7,3,3,9,1,6,3,2,9,7,1,2,7,5,6,6,8,0,4,6,3,0,1,5,4,6,3,6,6,1,9,2,6,6,1,6,4,8,2,9,2,3,7,6,9,4,5,3,4,0,8,6,8,6,4,2,9,3,0,4,8,4,9,3,8,9,0,5,3,4,4,2,5,5,6,8,7,3,8,6,9,3,1,1,0,7,1,1,2,6,3,4,4,2,7,7,8,5,9,4,0,3,1,9,2,5,3,6,4,8,5,3,6,8,7,9,8,2,9,2,0,8,8,9,7,4,8,1,9,3,9,6,0,6,1,9,4,6,5,8,1,8,6,6,2,7,9,6,6,9,7,1,3,6,9,5,9,2,3,3,8,5,1,4,2,3,9,6,6,4,3,3,5,9,0,1,5,5,4,0,3,1,4,2,7,4,7,6,9,4,1,7,4,8,3,8,7,9,6,7,2,3,1,8,5,0,5,4,0,2,5,5,0,2,8,2,4,7,6,3,7,9,0,2,2,8,4,9,8,0,1,8,2,8,2,5,3,2,1,6,3,8,6,2,4,5,9,4,6,0,5,3,1,8,9,8,8,8,1,2,1,3,5,9,0,3,2,3,7,5,8,9,6,6,6,3,8,7,2,1,8,2,4,2,4,8,2,4,2,4,8,7,0,4,0,9,1,7,2,6,3,2,4,0,5,7,6,0,0,8,1,2,2,4,3,1,4,9,5,8,6,3,7,2,8,4,0,4,1,2,2,9,6,7,7,9,8,3,9,6,0,6,2,4,1,5,6,7,5,5,9,0,3,7,5,5,0,2,7,4,1,1,1,3,5,2,3,2,0,3,7,5,9,6,6,3,1,2,6,5,7,5,4,9,9,2,5,5,7,5,9,4,8,7,5,1,6,8,2,7,4,3,8,5,1,8,5,2,9,7,2,1,2,4,8,1,0,8,6,3,4,1,3,3,3,8,1,2,2,2,4,4,1,3,9,2,6,4,9,0,3,8,4,2,0,4,3,1,9,3,0,9,2,0,7,3,1,2,1,5,0,9,7,6,6,2,2,1,2,8,7,1,6,6,0,0,6,5,9,9,4,7,8,0,4,9,3,3,3,3,7,7,8,2,0,5,5,3,8,9,3,8,0,7,6,0,8,8,3,4,7,0,8,1,5,3,1,8,8,4,0,6,1,5,2,1,3,3,4,1,7,2,8,4,9,0,0,5,1,1,2,0,3,3,4,9,5,5,6,0,7,9,8,3,9,0,0,2,1,7,2,9,3,2,4,8,7,7,8,9,9,8,7,8,2,8,9,0,9,1,8,7,4,3,0,6,3,0,5,3,4,4,3,3,3,2,4,4,6,1,6,6,5,2,5,8,1,8,7,2,8,0,4,1,5,7,7,5,3,0,5,9,2,4,3,1,6,5,6,2,7,7,7,5,0,2,1,4,0,5,1,0,6,4,3,3,1,5,4,5,7,0,3,0,8,4,6,3,2,1,2,5,5,9,9,8,1,8,7,6,9,5,7,7,9,7,9,2,1,1,0,4,8,3,9,6,3,3,8,6,4,5,6,3,1,7,4,7,0,0,3,2,6,9,4,3,8,8,1,3,3,0,1,4,0,2,9,1,0,7,1,8,2,1,3,3,5,7,6,9,8,9,9,1,0,1,1,3,2,2,3,3,4,0,7,1,8,0,9,8,0,0,1,8,2,4,3,7,4,8,7,2,9,6,2,0,2,0,7,1,6,2,4,9,0,1,8,0,0,6,5,7,2,4,7,4,2,6,3,5,6,7,2,3,1,6,7,8,7,1,9,7,9,9,1,0,2,2,4,4,6,8,7,1,7,7,5,9,4,6,5,2,0,7,1,6,1,9,9,6,2,7,0,2,3,5,1,2,4,0,0,8,6,9,4,9,3,6,9,4,3,0,0,1,0,3,5,5,2,0,8,9,8,3,8,2,8,2,5,4,5,8,7,7,1,2,4,2,1,9,3,6,8,3,9,7,3,5,7,8,4,2,1,7,1,7,0,0,6,0,0,6,1,0,2,2,3,0,4,8,5,6,6,3,7,9,8,2,9,4,0,2,1,0,2,0,3,3,4,4,7,5,8,8,9,0,0,2,1,8,2,7,3,8,4,2,7,4,8,6,9,9,0,6,0,8,1,1,0,0,1,1,5,3,3,4,4,2,2,6,4,3,4,6,0,7,0,3,6,9,9,7,6,7,6,4,5,6,7,6,3,5,2,1,2,0,3,0,4,5,4,9,9,1,1,2,4,7,0,0,7,6,7,2,5,3,6,7,2,5,3,7,1,1,4,0,4,9,0,0,9,5,1,4,8,3,3,5,3,7,7,7,3,7,9,9,8,5,8,5,4,5,7,2,7,6,6,6,2,4,1,1,9,5,8,2,7,4,8,1,8,4,2,1,3,7,9,5,3,7,3,4,5,4,5,2,0,6,7,9,9,3,5,4,0,5,6,7,4,6,1,7,1,6,2,6,8,0,1,9,5,5,0,4,1,6,2,7,3,6,4,8,5,2,6,1,7,2,8,0,9,6,0,4,1,7,2,1,3,6,4,9,5,3,6,6,7,7,8,6,9,2,0,2,1,9,2,5,3,5,4,0,5,2,6,3,9,4,6,4,4,7,4,6,3,5,6,0,2,8,3,1,4,8,8,1,7,6,8,4,6,6,9,2,8,1,3,6,2,4,2,0,8,2,4,5,2,3,0,0,1,5,1,6,2,8,9,8,6,7,8,1,1,9,2,4,0,2,6,1,5,8,2,1,7,2,5,0,3,8,9,6,3,0,7,6,1,6,3,8,8,1,1,9,9,7,5,6,0,1,1,1,1,1,9,7,2,9,6,6,0,6,4,8,5,6,6,1,5,1,0,0,3,5,1,0,8,1,6,1,9,0,3,4,0,4,1,4,0,7,4,7,7,7,3,5,2,8,6,5,5,6,4,1,7,4,9,3,7,1,0,4,1,1,2,1,3,2,4,1,5,7,6,3,7,1,8,0,9,2,0,8,1,5,2,6,3,7,4,9,5,1,6,7,7,1,0,2,1,9,2,5,3,8,4,4,5,1,6,1,0,0,7,6,5,6,0,3,8,1,4,6,1,7,8,8,8,0,1,5,3,5,1,8,9,7,0,9,4,3,4,5,0,8,7,5,2,5,9,5,8,0,7,4,2,2,4,7,7,4,8,5,9,5,3,5,1,4,4,9,6,6,2,2,2,8,7,6,8,6,6,0,4,9,9,5,2,7,9,2,3,4,5,5,3,5,6,0,6,0,0,1,2,1,2,4,7,3,4,7,9,9,5,6,1,5,2,9,6,1,1,1,8,0,3,7,5,9,0,2,0,6,6,0,1,5,6,1,9,8,6,9,7,0,1,5,1,4,7,3,1,3,2,4,4,1,5,2,6,0,7,1,8,5,9,7,0,6,1,3,2,8,3,1,4,7,5,9,6,8,7,0,8,0,9,9,0,1,1,3,2,6,3,5,4,7,5,9,6,5,7,1,8,0,9,9,1,2,3,3,5,1,9,7,4,8,1,6,7,6,7,2,2,4,1,7,4,2,8,5,2,7,9,6,3,5,8,2,5,0,4,3,8,1,8,0,9,7,3,4,9,7,2,0,5,5,7,6,4,4,1,1,2,2,3,1,9,5,1,8,6,4,0,7,1,7,2,1,8,8,5,8,1,2,1,5,8,0,5,4,6,6,4,6,7,8,3,1,6,2,8,5,0,8,3,1,7,8,4,4,0,0,6,6,9,8,2,9,6,3,5,2,6,2,9,5,0,7,4,3,0,3,6,5,1,4,9,3,2,5,0,3,9,4,5,7,1,9,3,8,7,0,6,7,9,1,4,7,7,4,7,2,6,0,3,1,0,9,5,5,6,5,2,6,2,4,0,5,1,8,7,5,8,0,9,8,0,9,1,2,2,7,3,8,4,6,5,4,6,2,0,7,1,4,8,1,9,3,8,7,4,1,1,1,8,4,8,6,1,3,3,4,1,3,8,6,3,3,3,9,0,7,9,6,4,3,9,9,8,2,7,6,8,2,1,2,7,7,8,1,7,7,5,9,1,1,6,2,5,2,0,4,9,7,5,0,0,9,2,2,1,9,8,6,0,7,0,3,1,2,6,0,6,4,7,7,1,0,1,1,7,0,0,7,1,4,2,7,3,7,4,9,5,3,6,8,7,8,8,1,9,2,0,1,1,4,2,4,3,7,4,1,5,6,6,7,7,2,8,8,0,8,1,9,2,6,3,3,4,1,5,8,6,1,7,3,8,4,9,6,7,5,0,3,4,2,0,5,6,3,4,3,3,5,3,4,4,6,8,5,7,9,8,3,6,1,9,3,8,8,3,8,2,2,2,9,8,7,4,1,2,6,0,0,1,5,1,1,2,2,9,6,6,9,8,2,1,2,2,9,1,9,0,5,6,8,9,6,3,4,7,3,1,4,8,6,3,7,8,9,1,0,9,1,5,2,9,6,8,0,2,4,6,6,0,5,4,2,5,6,0,5,3,2,1,4,8,0,6,3,7,0,5,6,9,2,9,5,3,1,0,9,3,0,1,8,4,3,4,8,0,7,4,7,9,4,2,6,6,7,5,7,4,2,7,6,9,6,7,1,0,8,1,8,3,1,4,1,5,4,6,5,7,7,8,6,0,5,1,2,2,2,3,9,4,1,7,3,8,6,9,7,0,2,1,4,2,1,3,4,4,4,7,0,8,8,0,7,5,3,6,7,8,7,3,6,9,6,0,8,2,4,3,0,3,1,3,2,9,6,9,0,5,6,6,2,4,6,4,2,2,8,7,0,0,7,3,8,9,1,6,1,8,6,7,7,3,0,4,1,0,1,4,3,1,4,6,9,7,6,8,5,4,0,9,8,6,5,5,8,6,3,6,4,7,6,8,7,8,2,1,6,8,4,3,2,7,5,7,1,1,4,5,6,0,2,5,5,2,3,4,4,3,5,1,9,8,2,2,0,9,5,9,7,5,9,2,6,6,8,4,2,4,5,1,8,7,6,1,8,4,1,3,0,9,9,7,8,1,3,2,1,6,8,0,4,7,5,3,1,0,9,1,6,2,5,3,2,4,9,5,0,6,2,7,8,8,9,9,5,0,1,1,4,2,2,3,7,4,4,5,0,6,6,7,0,8,7,9,5,0,0,1,6,2,6,3,2,4,1,5,4,6,5,7,2,8,3,9,4,7,7,4,5,0,6,4,8,0,9,1,7,7,4,9,9,5,7,1,1,4,7,2,1,8,4,9,1,4,1,3,1,1,5,7,4,8,1,2,5,4,0,3,3,6,1,9,0,9,2,5,5,8,9,6,9,7,7,0,2,6,4,8,7,2,9,6,4,3,2,9,1,3,8,2,9,8,0,6,8,1,8,7,0,4,8,8,6,8,0,9,9,0,7,3,3,3,0,9,1,0,0,5,6,2,0,5,6,0,6,9,4,4,4,1,4,0,9,3,9,7,2,5,1,8,9,7,6,7,1,8,9,2,0,9,8,7,9,1,8,2,0,6,5,4,8,2,4,5,7,2,4,3,7,6,3,6,4,5,2,0,1,0,3,7,2,5,4,2,9,8,9,1,3,6,2,1,5,0,9,4,3,3,3,1,2,6,0,1,7,9,0,0,1,1,9,2,4,3,5,4,9,5,2,6,3,7,4,8,9,9,2,0,6,1,4,2,0,3,6,4,3,5,0,6,5,7,9,8,7,9,9,0,8,1,0,2,7,3,9,4,8,5,6,6,3,7,3,8,2,5,3,0,1,6,8,8,5,9,1,4,7,1,3,9,0,0,2,4,6,8,2,9,1,1,3,4,0,0,9,5,3,1,8,5,5,4,2,0,4,7,3,6,9,0,1,1,3,7,9,0,6,6,7,8,1,9,1,5,8,4,9,7,3,6,1,0,2,8,9,1,4,7,1,7,0,1,0,3,3,2,0,3,0,1,5,0,2,0,2,7,8,8,4,4,7,9,6,3,8,8,0,4,8,7,1,2,7,5,8,6,3,3,4,6,1,9,0,4,2,6,4,9,1,0,0,2,3,5,8,5,3,1,0,3,6,3,5,9,1,7,2,8,4,7,2,2,7,2,8,5,9,7,8,9,3,2,2,1,9,3,6,0,1,1,8,2,5,3,9,4,0,5,5,6,8,7,1,8,5,9,4,0,0,1,5,2,0,3,5,4,5,5,5,6,0,7,2,8,5,9,9,0,4,1,5,2,1,3,3,4,1,5,1,6,1,7,4,8,0,9,8,8,5,9,9,5,7,7,0,0,1,3,9,1,5,6,6,8,8,4,5,1,8,7,7,6,3,5,8,6,1,4,9,2,9,7,4,8,5,1,6,3,6,2,0,0,0,5,0,0,2,1,7,9,8,2,9,3,1,2,2,3,1,5,1,5,7,7,4,9,8,9,4,7,3,1,7,1,6,9,0,0,2,7,3,3,7,4,0,8,2,6,1,3,5,8,2,0,8,6,4,2,2,1,1,0,3,1,9,0,3,6,8,2,0,3,8,8,4,9,7,0,4,7,7,2,2,3,0,4,6,5,9,5,9,2,4,8,1,5,8,4,9,6,8,6,1,6,1,7,5,9,8,1,1,8,0,2,2,1,5,2,4,6,8,5,2,3,0,4,4,7,3,9,4,4,7,0,5,0,9,5,6,9,1,0,0,1,5,2,3,3,7,4,0,5,1,6,8,7,5,8,1,9,2,0,0,1,3,2,7,3,2,5,0,6,1,7,2,8,7,9,7,0,0,1,1,2,7,3,4,4,4,5,0,6,6,7,7,8,4,9,4,0,4,7,0,0,7,7,6,8,0,3,1,0,9,0,8,5,3,5,3,3,5,8,0,8,0,1,9,8,0,4,5,9,9,6,2,1,8,8,1,0,6,2,0,3,6,9,0,4,0,1,4,2,5,5,9,9,1,8,8,9,3,4,9,3,9,0,6,3,8,3,7,4,1,7,0,0,1,1,4,9,2,1,0,2,0,7,8,9,5,1,9,0,9,6,6,2,4,0,0,3,7,8,0,9,6,4,7,2,5,5,1,6,5,6,1,5,4,6,6,7,7,1,2,4,1,4,8,2,2,6,7,2,7,9,9,1,3,3,2,1,7,4,1,8,3,6,3,3,7,7,2,0,0,9,4,5,6,6,0,7,8,1,0,3,4,8,3,2,7,6,8,2,8,6,0,2,0,7,2,8,0,7,2,0,5,1,4,2,4,3,0,4,7,5,5,6,5,7,7,8,1,9,9,0,7,1,4,2,9,3,9,4,4,7,3,8,0,9,0,0,9,1,4,2,3,3,1,7,8,8,1,9,7,0,8,5,5,6,7,9,5,0,3,3,1,3,6,9,0,9,8,5,3,6,6,4,0,4,4,2,2,9,7,6,3,8,1,7,7,9,9,1,7,5,7,2,6,6,1,3,5,4,3,0,9,4,7,1,6,6,9,4,2,9,3,6,5,5,2,1,6,2,3,6,2,6,0,7,5,8,4,8,3,1,4,8,6,3,2,7,8,7,6,1,2,0,6,0,2,5,1,2,3,8,3,4,3,3,4,1,3,8,2,2,0,9,9,9,0,5,3,2,7,6,2,4,6,8,6,2,2,5,4,4,4,7,1,1,4,2,9,6,1,0,0,0,2,1,6,2,3,3,3,4,2,5,5,6,8,7,9,8,0,9,2,0,9,1,3,2,7,3,5,6,6,7,1,8,8,9,0,0,6,1,8,2,5,3,9,4,1,5,4,6,3,7,1,8,9,9,7,5,9,4,4,8,5,7,6,4,5,7,4,7,1,3,7,9,2,8,5,8,0,3,1,1,1,5,1,8,8,2,7,7,4,4,5,2,8,6,8,4,7,5,7,5,1,8,1,6,2,4,3,4,3,4,1,1,8,8,7,7,7,5,0,5,3,1,5,8,5,3,2,6,7,3,1,3,0,2,5,2,8,6,3,9,6,9,5,6,8,5,0,5,9,3,9,3,4,8,7,1,1,6,9,5,7,6,5,8,0,1,0,9,2,7,7,6,9,8,2,3,1,7,8,4,7,7,1,0,6,9,9,0,1,0,9,3,4,7,8,9,7,3,2,0,8,2,2,0,3,1,0,0,7,1,5,0,1,4,6,0,3,1,2,0,4,4,3,7,7,9,5,2,4,0,0,6,4,2,1,6,0,2,8,2,9,9,8,9,3,0,1,1,6,2,1,3,3,4,5,5,2,6,7,7,6,8,9,0,1,1,1,2,8,3,1,4,2,5,0,6,9,7,3,8,6,0,1,1,3,2,2,3,5,4,3,5,7,6,1,1,4,7,4,4,3,0,7,6,1,4,5,1,0,4,1,3,3,6,8,2,5,3,3,4,4,8,2,7,9,8,3,6,8,9,1,8,4,3,2,2,4,2,6,8,1,4,2,8,0,5,8,6,3,5,5,0,5,2,2,0,4,1,5,1,1,2,1,9,9,6,6,8,1,1,9,2,6,1,2,0,4,6,4,5,9,2,3,9,8,1,5,5,7,3,2,9,4,3,9,7,3,1,0,8,9,3,5,8,6,1,4,9,4,5,7,5,7,0,4,1,0,1,5,9,8,8,4,2,0,6,9,0,9,4,7,5,8,6,3,5,6,0,0,3,7,1,0,8,9,6,6,7,7,5,8,9,4,3,4,0,9,3,5,1,2,4,1,0,8,4,2,9,2,7,9,3,6,2,7,6,1,5,8,4,5,7,4,9,4,7,0,0,9,1,1,2,8,3,0,4,3,6,2,7,9,8,9,0,8,1,4,2,0,3,8,4,0,5,9,6,8,7,8,8,6,9,3,0,0,1,5,2,6,3,5,4,1,5,7,6,1,7,5,8,8,9,0,6,0,4,6,7,9,4,7,3,4,6,7,2,6,3,6,4,7,8,7,9,9,2,8,2,2,8,7,5,5,0,6,2,6,0,4,1,7,1,9,2,6,9,8,6,5,8,2,1,4,2,5,1,1,0,3,6,6,5,2,2,8,9,4,7,1,5,7,3,1,9,0,3,5,8,7,3,2,8,7,1,1,9,7,5,6,5,7,0,6,1,1,1,7,9,0,8,9,2,2,6,5,0,2,6,6,5,2,0,1,3,6,1,9,8,6,6,9,7,2,5,5,9,7,9,1,3,2,0,0,3,0,1,2,0,2,4,2,9,0,7,4,3,7,2,9,6,8,5,9,4,6,7,7,9,5,7,5,0,6,3,0,4,0,5,5,6,7,7,9,8,7,9,2,0,1,1,9,2,7,3,0,7,2,0,4,3,6,7,6,8,2,9,0,6,0,0,4,4,3,0,0,8,1,6,7,8,9,7,2,7,0,9,5,0,1,4,0,9,0,9,3,7,6,4,2,0,0,3,1,5,0,5,5,3,1,8,8,9,8,2,2,2,6,0,5,9,3,7,0,3,6,1,6,3,0,6,7,6,8,2,1,1,2,2,9,6,1,0,4,2,3,2,6,8,0,9,9,5,3,1,2,6,4,8,6,0,4,0,1,0,7,1,7,2,6,3,1,4,4,5,2,6,2,7,5,8,8,0,2,1,8,2,7,3,7,4,1,5,3,6,2,7,9,8,4,9,2,0,5,1,6,2,0,3,1,7,3,8,7,9,5,4,6,9,9,9,8,8,0,3,6,5,9,4,2,3,1,3,2,6,1,6,7,5,5,5,1,1,1,7,4,8,7,4,7,5,0,7,1,3,6,5,2,2,1,3,8,6,6,6,5,7,8,7,3,0,1,1,0,0,7,1,8,6,9,9,8,3,5,1,4,4,0,7,6,3,4,8,4,6,8,2,4,2,5,9,7,1,6,5,0,9,3,1,8,2,9,2,1,7,8,9,1,7,5,9,7,9,0,1,3,0,5,8,0,9,0,7,0,0,5,3,0,8,8,1,3,4,4,0,5,3,7,6,3,2,0,0,6,1,1,3,1,1,6,0,9,9,0,0,4,1,7,2,8,3,6,4,7,5,1,6,7,7,2,8,4,9,6,0,2,1,5,4,2,5,5,6,6,7,4,8,4,9,5,0,9,1,4,2,6,3,6,4,7,5,1,6,0,7,7,8,7,9,2,6,3,8,9,7,2,8,2,6,8,0,4,1,4,7,8,5,3,2,4,1,4,7,6,3,1,0,2,5,1,1,9,6,6,5,9,1,3,2,3,0,1,2,6,3,1,4,1,8,5,3,5,3,0,6,8,5,7,9,7,9,8,3,2,3,9,7,0,9,5,3,4,4,3,1,6,7,4,3,6,9,1,6,5,9,7,0,6,9,9,6,2,0,4,6,5,1,6,8,2,5,4,1,0,0,5,1,0,0,1,9,6,5,1,9,4,0,3,2,3,1,1,4,1,9,6,6,2,8,2,9,3,2,1,0,4,1,9,2,6,3,7,4,4,5,6,6,3,7,1,8,7,9,0,0,1,1,2,2,1,3,4,4,8,5,5,6,4,7,7,8,6,9,6,0,2,1,0,2,8,3,1,4,4,5,1,6,6,7,7,8,1,9,0,1,1,6,2,8,3,9,5,9,4,0,1,1,7,2,6,4,1,4,2,3,9,7,7,4,0,4,9,4,5,0,7,3,4,8,9,5,5,8,2,2,5,1,6,7,9,3,1,5,2,8,9,5,4,5,8,9,1,2,1,5,7,1,3,1,9,6,4,2,2,1,3,3,5,1,7,8,6,6,6,4,3,9,5,4,9,9,2,2,1,0,6,0,4,4,8,4,3,6,8,2,7,0,1,2,1,8,7,0,8,6,0,8,0,7,2,9,2,1,7,9,4,2,9,6,6,7,3,6,1,6,1,8,7,7,4,4,8,9,7,2,0,1,1,3,4,3,1,0,5,5,9,5,2,8,9,0,3,3,3,7,1,9,8,7,7,0,7,2,6,7,2,9,3,1,6,3,0,6,8,7,4,8,6,0,3,3,0,5,9,3,3,6,9,0,2,1,7,2,8,3,1,4,0,5,1,6,8,7,9,8,5,9,5,0,8,1,3,2,4,3,9,4,3,5,5,6,9,7,2,8,4,9,8,0,1,1,7,2,0,3,2,4,3,5,2,6,9,7,7,8,7,9,3,6,9,0,6,8,1,0,2,2,6,3,6,7,7,9,6,4,2,7,0,1,6,9,6,1,1,7,3,1,0,4,1,0,1,0,3,4,2,1,6,7,9,5,1,7,8,1,4,3,7,3,7,3,7,1,2,6,8,9,3,7,3,4,9,3,4,0,8,2,3,5,9,2,0,6,8,0,9,8,0,9,5,4,6,3,4,5,8,4,2,8,1,1,5,0,9,6,3,4,0,3,5,6,3,3,6,3,9,8,1,1,0,4,3,7,8,5,1,7,0,2,4,2,5,0,1,0,2,1,2,7,7,7,3,9,4,5,1,9,7,8,7,9,0,6,7,8,9,8,4,2,4,3,4,6,9,1,2,2,2,9,5,8,8,9,1,5,9,2,7,5,5,2,0,6,1,2,2,4,4,8,1,4,5,6,2,5,5,1,6,2,0,3,9,4,4,8,1,0,6,1,7,2,7,3,9,4,0,5,9,6,0,7,8,8,2,9,7,0,6,1,5,2,0,3,9,4,7,5,1,6,4,8,8,9,6,5,8,0,5,3,5,1,2,6,6,8,3,4,9,1,0,7,1,6,1,5,8,6,7,4,1,2,5,7,7,8,7,3,6,4,1,3,1,4,9,7,5,2,7,5,3,0,3,1,5,9,9,2,1,3,8,2,0,3,0,5,0,5,6,7,6,8,2,4,0,9,9,9,1,7,1,1,4,9,7,8,7,3,8,4,2,8,2,6,3,3,8,8,5,6,9,0,4,1,1,0,0,6,6,2,9,3,1,8,2,9,6,0,9,7,1,2,8,3,1,4,3,5,1,5,9,2,7,8,9,5,1,4,5,6,2,6,9,6,3,7,7,9,6,1,2,8,3,2,4,1,2,2,8,6,9,5,7,3,1,4,7,7,9,9,0,4,5,5,5,9,6,0,5,1,2,2,9,3,9,4,2,5,6,6,5,7,4,8,8,9,1,0,8,1,7,2,1,3,1,4,3,5,5,6,7,7,7,8,2,9,2,0,6,1,1,2,5,3,7,4,0,5,0,6,0,7,0,8,4,8,1,7,4,7,2,0,8,1,5,3,9,7,1,5,0,2,0,8,3,0,4,7,9,5,9,9,1,9,7,6,7,0,7,9,5,4,2,1,8,1,0,5,5,8,8,5,0,8,1,6,9,3,7,2,7,1,0,2,4,3,3,8,5,3,8,2,4,6,2,5,8,6,1,8,2,2,6,7,9,4,5,8,6,1,1,0,8,5,8,3,2,9,4,4,8,1,6,9,1,2,9,1,0,9,7,6,8,7,2,9,9,6,6,1,0,7,2,3,8,8,9,7,1,2,4,9,0,6,2,5,7,8,4,7,0,5,2,3,5,9,3,0,5,5,5,7,0,1,4,6,1,1,4,0,7,9,4,3,0,3,8,4,7,4,7,0,7,6,1,4,6,2,7,3,2,4,3,0,9,0,7,2,7,0,9,1,3,2,1,3,9,4,2,7,4,8,2,9,4,0,0,1,8,2,4,3,7,4,9,5,7,6,2,7,8,8,1,0,5,1,9,2,3,3,2,6,7,9,1,6,0,1,5,9,1,9,4,9,6,4,4,1,9,2,0,5,5,0,2,0,8,6,9,0,8,8,1,1,7,0,8,9,8,1,9,2,9,2,3,2,1,5,9,2,7,1,1,4,0,7,3,1,8,7,3,9,6,6,3,3,3,3,5,1,6,0,3,0,2,5,2,6,8,6,6,8,9,0,2,1,7,2,3,3,1,4,2,5,2,6,3,7,5,8,6,9,8,0,9,1,6,2,2,3,4,4,3,5,4,6,2,7,6,8,3,9,5,0,3,1,1,2,5,3,6,4,1,6,7,7,6,8,0,0,2,5,5,0,1,8,8,0,8,2,6,9,3,4,6,7,8,1,9,9,2,1,8,7,1,1,8,4,4,0,3,0,3,4,1,1,8,7,0,5,4,7,7,1,4,3,9,3,1,3,2,1,9,6,7,9,4,7,2,4,8,3,1,0,7,2,5,6,0,8,7,1,6,5,5,9,9,0,8,6,8,6,3,3,5,3,4,8,3,1,8,4,0,7,3,2,4,2,3,0,7,0,5,1,9,7,0,7,3,8,0,9,9,6,8,8,5,8,3,2,0,3,7,2,4,9,7,8,8,5,4,2,9,6,2,2,1,4,9,8,2,4,2,6,3,5,1,0,4,1,3,2,0,3,5,4,9,5,3,6,1,7,5,8,9,9,5,0,4,1,4,2,6,3,4,4,9,5,7,6,1,7,6,8,6,9,7,0,0,3,2,4,9,5,2,6,7,7,3,8,8,9,2,9,0,7,0,5,7,2,3,9,8,0,3,1,3,5,3,8,7,8,3,0,5,9,3,3,9,2,5,7,1,8,0,4,5,4,2,5,7,9,3,6,8,1,4,0,3,4,1,5,8,3,0,9,7,4,2,2,8,0,5,5,1,0,9,1,8,6,3,9,2,3,3,2,0,9,6,1,5,6,6,0,0,1,8,1,6,8,4,0,4,4,0,7,4,7,3,6,9,0,7,7,1,3,7,5,8,4,2,2,2,4,1,1,3,8,1,3,4,5,6,6,8,7,5,0,9,6,2,7,2,1,1,2,5,5,6,8,8,1,9,9,2,3,5,8,3,2,1,8,8,8,1,7,2,1,7,7,8,9,1,2,7,0,6,1,1,2,7,3,7,4,7,5,9,6,2,7,7,8,4,9,0,0,5,1,4,2,8,3,7,4,2,5,7,6,3,7,7,8,7,9,6,0,8,1,7,2,9,3,2,4,6,5,4,6,7,7,5,8,0,9,1,2,7,5,8,1,5,6,7,4,9,3,0,9,6,9,0,0,6,9,1,7,3,1,2,6,5,4,2,3,2,6,3,2,6,2,5,0,1,0,1,8,3,2,2,5,4,9,5,8,3,6,1,5,3,7,6,0,8,0,3,4,0,1,7,7,0,4,3,3,3,2,9,2,1,4,3,7,1,6,2,4,5,7,1,7,3,7,3,2,7,0,6,9,1,8,9,5,8,6,5,4,5,3,5,8,9,2,2,8,4,3,6,8,7,9,8,5,8,8,9,0,7,5,4,4,8,7,8,1,0,3,8,1,5,7,7,9,9,6,2,2,8,0,9,9,3,1,0,7,0,3,8,8,5,0,3,3,6,9,2,1,5,6,1,4,6,3,5,2,2,1,1,8,8,6,6,1,7,5,6,5,8,6,2,5,6,0,6,1,9,2,7,3,4,4,0,5,4,6,8,7,4,8,0,9,4,0,4,1,1,2,7,3,6,4,4,5,0,6,4,7,7,8,2,0,2,1,4,2,4,3,5,4,6,5,2,6,3,7,6,8,5,2,9,5,1,1,3,6,8,4,3,3,9,9,0,9,1,0,3,9,6,7,3,1,3,6,2,4,5,3,6,6,5,2,6,2,1,0,7,8,4,2,8,5,8,9,6,8,5,6,8,5,4,0,3,4,1,1,0,7,1,4,7,3,0,4,1,1,5,3,9,7,6,4,7,7,8,7,6,0,0,9,3,8,4,5,9,6,6,4,9,3,4,8,6,2,6,8,1,3,5,8,9,9,6,5,8,8,4,4,3,3,2,1,3,7,1,9,5,6,2,2,1,7,5,3,7,3,5,9,0,1,5,4,3,3,1,9,9,8,8,2,1,1,9,8,2,6,7,4,7,5,6,1,7,5,6,5,2,6,1,5,9,0,4,1,9,2,3,3,2,4,5,7,6,8,8,9,2,0,8,1,9,2,4,3,0,4,1,5,5,6,7,7,2,8,1,9,8,0,8,1,2,2,2,3,2,5,5,6,4,7,7,8,9,9,9,3,6,5,3,3,9,2,1,9,2,3,8,2,2,1,8,4,5,3,0,2,7,1,9,3,7,9,6,7,8,2,9,1,7,2,8,8,3,9,4,1,4,8,6,8,1,7,7,0,6,0,9,7,9,7,9,8,3,7,7,6,7,1,4,4,8,6,0,1,4,2,5,5,8,0,6,0,3,3,8,8,5,4,1,4,9,1,3,8,4,6,7,5,8,9,0,0,3,0,2,0,9,3,8,7,9,1,1,6,2,2,0,6,3,6,1,0,9,4,1,5,8,4,2,1,7,3,9,8,2,6,2,3,7,9,0,9,8,5,3,7,5,8,9,5,9,6,1,4,5,7,9,6,5,2,3,2,9,0,8,9,9,4,9,0,0,1,3,2,3,3,1,4,1,7,0,8,7,9,9,0,1,1,9,2,7,3,4,4,2,5,8,6,3,7,0,8,7,0,7,1,6,7,4,8,6,9,8,6,9,9,0,6,6,1,7,9,6,9,9,9,4,8,4,1,2,4,2,1,0,2,0,9,2,5,4,3,6,0,9,4,5,9,1,1,4,7,3,1,6,8,9,7,8,6,1,0,8,8,4,1,1,0,6,9,0,1,6,2,3,5,1,4,3,7,2,7,3,2,8,7,3,5,5,2,7,1,5,4,9,4,7,3,1,0,7,0,3,8,5,5,2,4,6,7,7,8,8,8,3,7,8,9,7,6,8,3,9,1,0,7,2,9,3,6,4,3,3,3,7,2,8,6,1,0,8,6,8,8,6,0,8,1,0,2,1,3,7,4,9,5,3,6,6,7,1,8,1,9,4,0,2,1,9,2,9,3,4,4,9,5,9,6,6,7,3,8,1,0,9,1,7,2,2,3,6,4,7,5,7,6,4,7,6,8,2,9,5,5,4,2,0,8,0,1,8,7,8,2,2,4,0,1,0,4,3,1,3,4,4,9,8,6,1,8,1,4,5,5,4,3,1,7,2,8,6,4,2,3,2,3,1,5,8,6,8,7,3,0,0,6,2,1,6,6,8,8,7,7,1,0,0,1,9,5,6,6,4,0,2,0,6,6,3,1,9,5,4,8,0,4,6,2,9,3,3,9,4,7,6,6,4,9,6,1,8,9,2,0,2,6,1,7,1,1,1,2,0,3,2,9,9,2,7,4,3,5,6,5,9,3,4,7,3,1,5,8,7,2,6,2,9,3,7,0,9,2,9,9,5,4,5,9,3,7,6,0,2,0,2,2,3,7,1,4,6,9,1,9,2,2,3,8,6,9,9,1,1,8,7,3,8,8,9,3,3,6,8,7,6,0,1,4,0,0,9,0,6,1,1,2,3,3,8,4,6,5,3,6,4,7,4,8,3,9,7,0,7,1,0,2,5,3,3,4,5,5,1,6,8,7,9,8,5,9,2,0,2,1,5,2,4,3,6,4,7,5,2,6,3,7,5,8,5,9,3,1,7,0,8,4,7,6,0,3,2,4,3,4,1,2,7,8,4,1,4,0,8,6,9,4,7,9,7,7,3,2,1,3,4,3,3,9,1,2,9,0,7,9,5,3,1,3,0,9,0,1,7,5,5,2,7,3,8,1,7,6,7,7,7,3,8,7,0,8,3,4,1,0,4,2,9,4,7,0,7,2,9,4,4,7,3,8,0,0,9,7,6,0,8,6,0,9,3,3,7,2,2,4,0,8,8,6,9,0,4,5,1,7,8,5,7,1,1,0,3,8,4,1,5,6,4,7,8,2,7,9,5,7,6,9,4,5,1,6,1,5,8,2,8,6,0,2,7,8,0,1,5,7,5,5,6,5,4,7,9,3,2,5,5,0,8,1,9,1,1,3,1,8,3,4,8,9,4,4,6,5,0,1,4,8,0,6,1,8,0,9,8,0,0,1,5,2,7,3,2,4,4,5,8,6,3,7,2,8,0,9,6,0,1,1,7,2,6,3,0,4,6,5,7,6,5,7,5,8,2,9,6,0,0,1,9,2,8,3,0,4,5,5,6,6,7,7,2,8,5,4,9,9,3,4,0,2,0,9,1,4,7,5,7,8,9,0,9,3,9,5,3,5,2,1,1,7,0,8,6,4,1,5,2,7,0,2,4,3,1,6,5,7,5,7,8,7,6,6,5,0,8,1,6,0,5,6,7,5,5,5,9,2,9,9,0,3,2,1,5,4,7,8,8,7,7,3,0,8,7,2,4,6,0,5,0,2,3,7,4,9,5,7,9,9,1,1,5,0,4,8,0,9,1,7,8,0,7,5,6,0,0,3,8,8,1,4,9,6,8,2,9,0,9,4,1,1,3,3,9,1,9,0,4,9,7,0,2,1,0,2,2,3,4,4,3,5,7,6,5,7,7,8,7,9,5,0,8,1,7,4,4,5,5,6,9,7,5,8,5,9,6,0,2,1,9,4,5,5,7,6,4,7,8,8,9,9,9,7,2,0,6,6,7,0,4,7,0,3,4,8,9,6,5,7,1,1,8,3,5,7,7,9,8,7,5,4,2,0,8,6,9,4,6,9,1,5,1,6,4,5,9,2,1,9,1,8,4,5,3,1,1,5,7,3,1,9,3,4,6,5,5,6,7,3,8,4,5,8,7,0,2,6,5,4,8,8,2,1,6,3,1,4,9,0,5,1,4,9,7,2,0,3,9,7,3,2,4,5,8,1,5,7,7,2,8,8,0,7,7,0,9,1,4,9,0,6,7,4,5,9,5,2,9,1,1,2,1,3,6,7,8,0,9,2,9,1,3,3,6,5,1,3,2,4,2,7,8,2,4,5,7,8,6,1,8,6,3,8,8,5,0,6,7,0,8,8,5,9,9,4,8,9,5,2,0,6,0,0,2,1,5,2,5,3,2,4,6,5,1,6,9,7,9,0,0,1,4,2,3,3,0,4,6,5,8,6,2,7,5,8,0,9,3,0,5,1,8,2,7,3,4,4,9,5,9,6,9,7,7,8,1,9,4,7,1,7,7,0,0,4,7,0,8,3,3,1,4,8,7,9,8,2,1,1,2,8,8,6,4,5,5,4,4,7,2,3,0,4,1,1,5,8,6,6,5,9,6,1,0,4,9,5,4,0,9,1,4,3,1,6,9,4,9,8,3,9,6,8,5,2,4,1,1,0,5,7,7,2,3,5,6,5,3,6,3,6,2,6,8,3,3,3,6,3,0,1,4,7,4,2,5,2,1,7,8,2,0,3,1,6,5,8,6,5,4,1,8,4,6,9,1,0,9,5,2,0,9,6,7,8,3,8,7,0,4,8,4,2,1,3,9,9,6,4,8,3,3,7,4,1,2,7,5,6,3,9,6,4,3,2,2,9,5,9,2,2,2,0,2,8,9,4,0,9,8,4,2,0,5,7,2,1,3,3,1,2,6,9,9,0,1,1,7,2,6,3,2,8,9,9,7,0,0,1,0,2,9,3,5,4,7,5,4,6,3,7,3,8,3,0,0,1,4,2,2,3,3,6,6,7,2,8,2,9,8,0,0,3,2,9,0,5,4,6,0,8,7,4,2,9,5,1,0,7,3,1,1,2,9,3,0,5,1,9,7,6,6,9,9,1,5,2,8,0,7,7,8,2,6,9,2,8,2,9,7,0,3,7,5,1,4,3,3,0,0,3,6,6,3,8,5,7,2,4,2,9,2,7,5,5,7,8,0,1,7,5,2,1,2,2,1,0,0,2,6,4,3,3,6,0,5,0,6,0,1,3,7,5,8,7,0,6,7,9,5,9,9,8,7,2,1,7,5,7,5,1,4,0,0,1,6,2,0,3,1,5,7,6,4,7,6,8,3,9,1,0,6,1,4,2,5,3,4,4,6,5,2,6,7,7,1,8,4,9,8,0,4,1,6,6,5,7,2,8,3,9,1,0,4,5,7,6,7,8,0,3,1,3,7,3,5,9,5,9,7,5,0,6,3,4,3,4,6,7,5,0,7,3,2,9,6,6,5,9,7,1,3,5,6,2,9,6,6,6,3,7,2,8,6,1,3,6,3,7,8,8,2,8,1,1,7,8,9,3,3,7,3,1,8,2,2,7,6,1,1,5,6,0,4,9,2,8,4,3,0,1,8,8,7,4,0,1,8,4,6,3,9,9,1,7,8,1,9,0,3,7,2,3,9,0,6,1,3,2,8,3,9,4,8,5,3,6,2,7,5,8,4,9,7,0,0,1,4,2,5,3,0,4,1,5,3,6,3,7,3,8,8,9,4,0,6,1,7,2,8,3,0,4,6,4,4,5,1,6,9,6,3,3,0,4,9,2,3,8,0,1,1,0,5,6,8,4,3,9,7,7,4,2,5,3,1,3,9,9,3,9,4,3,1,3,2,9,4,1,3,5,8,2,9,3,8,1,7,6,7,7,5,3,9,7,0,8,3,4,1,0,2,2,1,4,3,0,9,2,5,4,9,7,0,8,2,0,4,7,3,0,2,6,0,9,8,3,7,2,6,4,3,8,3,6,2,0,3,1,6,0,1,8,4,1,3,6,9,7,8,2,2,9,5,7,5,9,8,5,4,8,3,9,2,6,8,5,8,2,5,6,9,2,5,8,9,1,5,7,8,5,8,5,1,7,3,3,2,0,2,1,0,1,6,3,4,8,6,4,4,9,8,5,2,1,9,8,5,9,1,1,4,2,7,1,2,5,6,6,4,7,8,0,3,1,0,2,9,3,3,5,8,6,4,7,0,0,8,1,8,2,2,3,0,1,1,5,2,6,0,7,8,9,3,8,2,7,1,0,8,2,7,3,9,4,4,3,6,8,6,5,8,1,3,5,7,2,1,3,1,0,2,1,9,2,2,6,4,3,1,0,9,7,0,2,1,6,0,1,7,0,8,5,9,9,4,9,6,8,1,3,2,1,9,7,9,4,8,7,2,4,4,0,1,0,7,6,2,6,1,2,7,6,2,3,4,7,0,7,2,4,1,4,5,3,3,8,9,9,9,6,3,0,3,9,3,5,6,3,7,1,7,3,8,7,2,2,7,1,5,9,6,1,0,5,2,1,2,7,6,4,3,8,9,6,5,1,4,2,7,1,5,6,8,0,4,1,0,2,2,3,8,7,6,8,2,9,4,0,3,1,4,2,3,6,7,7,3,8,3,9,3,0,4,1,1,2,0,3,9,7,9,5,4,7,5,7,8,7,7,3,1,1,7,9,2,2,4,1,0,6,9,5,6,7,4,1,7,8,9,6,1,9,5,1,3,0,3,1,6,3,5,6,7,8,0,9,4,5,1,2,6,1,8,7,7,5,1,6,9,6,3,6,1,3,2,1,2,7,8,2,6,2,4,3,8,8,2,1,8,0,3,6,4,8,4,8,4,0,1,8,9,2,1,3,3,9,5,4,3,3,7,7,2,1,8,7,1,9,1,4,8,2,7,9,2,9,7,7,2,1,1,3,8,9,6,0,7,1,1,2,7,3,3,4,9,7,9,8,2,9,2,0,5,1,0,2,0,3,3,7,9,8,5,9,1,0,1,4,3,5,9,6,6,7,5,8,4,9,9,2,9,2,8,7,5,6,4,4,1,7,0,3,8,5,0,4,1,1,9,8,8,0,7,7,1,2,0,2,8,1,8,7,3,7,4,9,3,9,7,4,5,6,1,7,9,7,2,5,5,4,8,5,3,0,1,9,4,0,7,2,5,3,8,5,6,6,4,1,2,8,4,6,6,0,6,6,2,8,8,8,0,8,2,4,4,3,7,8,3,1,2,3,0,6,0,9,2,4,1,1,5,7,6,6,7,9,3,3,7,3,8,7,0,4,6,1,1,9,0,1,0,0,6,6,3,0,9,1,0,2,5,3,8,4,1,5,3,6,4,7,5,0,4,1,7,2,2,3,7,4,1,5,1,6,4,7,9,8,5,9,8,0,3,1,6,2,0,3,2,4,0,5,9,6,9,7,0,8,1,9,4,1,3,7,8,4,8,8,3,1,8,5,2,6,1,5,7,7,0,2,1,8,1,6,5,3,6,3,6,8,8,6,4,5,3,4,3,0,6,9,6,1,2,7,1,2,5,9,2,1,3,3,4,2,1,2,5,3,2,0,6,6,0,4,0,3,4,7,3,6,4,9,3,0,9,8,2,1,5,4,9,0,6,6,0,1,8,2,2,6,3,9,6,2,3,2,6,3,0,5,1,5,3,1,9,0,0,7,2,7,5,9,5,6,5,4,8,7,8,0,7,2,2,3,4,4,4,0,6,0,0,8,7,8,6,8,3,5,7,1,7,3,5,7,7,4,4,9,6,8,7,8,8,9,3,0,0,9,2,8,8,9,9,0,9,2,1,6,3,5,4,6,6,7,7,7,3,5,6,4,2,1,0,3,6,0,6,1,7,2,7,3,2,4,3,5,2,6,1,7,9,8,5,9,3,0,6,1,9,2,2,3,2,4,4,5,9,6,4,7,1,8,5,9,1,0,7,1,0,2,4,3,8,4,6,5,4,6,3,7,8,8,0,9,9,3,7,4,0,1,0,4,6,0,7,8,4,6,8,4,8,5,2,4,9,0,8,7,4,8,5,7,7,7,0,9,5,0,8,4,9,7,1,4,1,2,9,0,4,5,6,8,4,8,1,8,8,4,0,0,4,7,9,1,9,3,6,5,4,3,5,1,0,6,0,5,9,3,8,8,0,7,7,3,0,1,5,6,0,8,9,5,2,9,7,2,3,2,7,0,3,9,1,2,1,4,6,6,4,5,3,2,1,7,4,3,3,1,3,3,7,6,0,6,5,2,8,1,9,2,0,6,9,0,8,7,7,7,8,4,5,7,1,4,3,8,4,9,4,2,7,9,5,5,0,1,4,5,0,8,6,3,3,5,3,6,8,0,7,9,3,9,2,3,2,1,5,1,1,0,3,1,4,2,4,3,5,4,0,8,7,9,1,0,3,1,1,2,1,3,7,4,2,5,8,6,0,7,9,0,5,1,7,2,0,3,1,4,2,7,9,8,4,9,0,0,7,5,2,6,5,8,9,3,9,9,2,0,4,2,2,3,0,3,8,3,1,9,3,9,8,5,5,6,0,4,6,4,5,2,8,5,0,4,4,7,1,0,6,3,8,9,9,6,2,8,6,7,5,9,6,1,5,5,1,2,2,6,6,3,4,4,8,0,6,4,8,1,2,6,8,5,9,1,0,2,4,6,0,6,9,7,1,8,8,8,1,1,9,8,4,3,5,7,7,1,6,2,8,7,4,0,4,7,0,0,8,1,8,5,0,0,8,5,9,2,6,8,4,0,2,4,3,9,4,8,4,3,0,1,5,8,8,2,2,9,5,9,6,5,1,4,7,8,6,2,2,5,8,7,1,1,9,4,8,3,0,9,9,7,4,1,5,2,2,6,9,0,8,7,5,0,3,1,2,2,8,3,5,6,9,7,0,8,8,1,8,2,0,3,1,4,7,7,6,8,2,9,0,0,7,1,7,2,0,3,0,4,8,5,9,6,7,7,7,8,7,9,0,1,8,2,0,6,3,5,1,3,9,0,4,2,1,8,0,7,5,0,7,3,5,6,4,4,8,1,6,4,1,3,8,6,6,7,1,2,1,3,2,9,2,1,2,2,7,1,1,2,1,9,2,6,4,0,7,1,9,3,2,0,7,2,5,5,4,7,2,2,5,9,2,1,6,9,7,0,9,6,7,0,1,6,2,0,1,2,8,0,4,6,5,1,3,5,4,8,5,4,7,3,6,0,2,1,9,4,0,8,5,8,8,4,6,5,2,7,8,5,2,7,4,8,1,3,8,4,5,8,0,8,4,5,5,2,8,9,0,7,4,1,8,3,4,8,9,1,4,0,4,7,1,5,1,9,2,6,0,9,0,4,5,7,1,7,3,9,2,9,3,5,6,8,1,3,7,4,7,4,5,3,4,2,0,0,0,1,7,2,6,3,2,4,3,5,1,6,1,7,0,8,1,0,9,1,8,2,1,3,0,4,9,7,1,8,7,9,6,0,0,1,2,2,4,3,5,4,5,6,7,7,6,0,8,8,0,7,3,8,3,9,5,1,6,4,6,5,1,1,6,6,8,7,1,3,1,2,5,9,1,0,2,5,6,6,0,7,6,3,9,9,6,9,2,3,8,8,7,1,0,2,5,3,0,5,6,0,6,5,0,4,8,0,0,3,0,4,8,7,6,7,0,9,1,4,6,3,5,7,3,6,8,2,4,1,1,5,7,8,8,4,2,6,3,7,8,0,3,2,1,9,4,3,3,4,2,4,6,8,5,1,5,2,2,2,4,3,2,1,7,7,8,3,9,4,1,5,7,1,8,9,8,8,8,1,0,1,5,0,9,2,4,7,7,6,6,8,6,2,4,8,7,4,7,4,0,2,6,2,1,8,2,0,1,0,8,1,6,2,5,3,9,4,2,5,3,6,3,7,7,8,2,0,7,1,3,2,7,3,4,4,4,5,2,6,2,7,2,8,0,9,3,0,3,1,5,2,5,3,0,4,3,5,5,6,8,7,8,8,6,9,1,0,7,5,1,3,1,9,5,0,8,2,2,3,2,3,3,3,8,9,2,9,8,5,9,6,9,4,7,2,1,3,1,9,1,6,4,8,3,7,3,9,4,1,7,5,3,2,2,6,2,3,0,4,1,0,6,4,0,1,7,6,7,4,1,9,0,6,2,5,4,1,2,2,9,6,0,6,0,7,5,8,3,1,0,8,3,3,8,7,8,1,8,2,4,7,1,1,0,5,6,0,0,5,3,2,4,9,3,8,8,3,4,1,0,8,2,9,0,5,1,2,3,6,9,4,4,8,9,2,5,5,1,4,6,1,6,7,1,1,6,4,2,3,2,9,1,1,0,2,9,6,1,0,6,7,6,3,1,0,6,1,7,2,3,3,2,4,7,6,6,7,6,8,0,9,4,0,0,1,3,2,0,3,0,4,6,5,4,6,5,7,1,8,5,9,3,0,9,1,3,2,6,3,2,4,7,5,5,6,5,7,1,8,7,9,5,0,5,8,5,7,0,8,2,9,6,9,5,0,1,1,9,4,3,5,9,1,3,6,9,7,1,3,8,2,4,9,8,0,8,5,2,6,8,7,9,3,8,9,7,9,2,3,0,8,1,1,7,2,1,9,1,6,2,3,0,5,6,0,9,5,5,4,2,0,2,3,8,4,1,7,3,7,6,9,5,1,8,4,5,3,5,7,8,6,5,2,3,1,8,5,3,5,5,0,6,5,2,0,9,8,1,4,6,6,8,2,2,8,5,1,3,2,5,2,9,3,0,1,7,3,6,4,1,5,2,1,1,9,7,8,2,1,3,1,1,5,4,0,1,2,4,7,8,8,5,6,6,8,2,2,7,8,0,4,3,4,5,2,4,2,4,8,1,0,1,0,0,1,8,2,9,3,6,6,2,7,9,8,3,0,1,1,9,2,1,3,5,4,4,5,7,6,6,7,6,8,4,9,5,0,8,1,8,2,3,3,6,4,4,5,2,6,9,7,1,8,3,9,5,1,7,8,6,6,4,1,6,4,3,9,6,3,8,7,5,7,7,9,7,1,7,8,7,4,8,7,8,2,7,2,8,0,1,5,6,8,6,6,2,1,4,0,7,4,7,7,1,1,0,2,9,1,5,6,5,7,0,3,8,3,8,6,0,5,7,6,7,2,9,8,8,7,6,6,9,8,6,9,2,9,8,5,8,3,3,7,7,0,0,6,7,9,4,0,3,1,0,1,2,3,0,2,9,1,1,0,9,0,6,1,7,2,8,3,4,4,0,5,4,6,0,7,4,8,8,9,8,0,7,1,0,2,2,3,5,4,4,5,0,6,2,7,9,8,9,9,1,0,7,1,5,2,1,3,9,4,1,5,2,6,4,7,7,8,9,9,2,7,2,5,7,5,4,1,1,9,8,9,3,7,5,1,6,0,3,9,1,0,0,5,2,7,9,1,0,7,6,2,6,2,8,3,4,6,0,8,4,0,4,8,9,3,2,2,2,0,8,9,7,0,3,6,3,1,9,7,1,5,7,8,4,3,8,4,4,7,4,6,1,6,2,3,0,2,3,3,1,4,6,8,9,8,2,7,2,1,3,0,6,8,6,7,4,7,9,5,6,9,5,2,0,8,3,5,2,3,2,4,5,6,3,1,6,1,0,4,6,5,1,5,6,0,8,4,5,8,4,7,2,4,6,9,8,2,9,3,3,6,9,4,1,2,3,4,8,1,3,5,6,4,5,2,4,0,7,4,8,8,5,6,4,1,0,9,0,3,7,2,4,0,2,0,7,2,5,5,3,6,8,9,6,3,7,6,0,3,4,6,0,0,5,1,4,2,1,3,2,4,4,5,7,6,7,7,1,8,1,9,1,0,2,1,2,2,1,3,4,4,1,5,4,6,8,7,2,8,2,9,4,0,3,1,3,2,9,3,4,4,0,5,7,6,6,6,8,8,4,2,3,3,3,7,2,8,9,6,2,6,4,8,1,0,5,1,4,7,2,1,1,7,4,3,4,0,9,2,0,2,8,0,9,2,0,5,1,4,2,1,6,6,8,5,0,1,8,2,4,0,9,2,2,3,8,4,0,8,7,3,4,8,8,5,7,3,5,6,9,5,6,9,6,8,5,1,0,7,5,9,0,3,9,4,4,1,9,7,5,3,8,9,6,6,1,7,6,4,4,9,2,3,1,0,0,9,0,6,5,0,4,6,7,1,0,0,7,5,9,8,9,7,6,2,7,5,2,1,3,0,3,1,6,0,6,9,9,4,6,5,0,7,2,0,3,2,5,1,4,9,7,6,1,7,8,4,9,8,6,8,8,5,4,0,3,1,1,2,3,3,8,4,0,5,7,6,2,7,0,0,7,1,5,2,3,3,8,4,2,5,8,6,4,7,6,8,7,0,2,1,2,2,3,3,3,4,8,5,6,6,9,7,4,8,7,9,6,0,0,7,9,0,1,7,3,8,7,3,8,0,4,0,4,5,3,5,8,3,7,8,2,8,6,1,0,8,6,4,3,9,2,6,9,1,8,8,4,0,8,2,9,7,6,3,7,4,4,1,9,2,7,5,3,9,6,8,5,9,6,5,6,4,0,3,4,3,2,4,4,7,3,9,0,0,6,1,3,9,8,1,3,2,5,7,9,9,9,1,3,0,0,6,6,2,5,4,5,0,9,3,9,4,2,6,2,6,8,5,5,6,8,7,0,1,7,4,0,4,9,2,5,6,4,2,8,9,1,1,4,5,1,3,5,1,7,4,4,8,5,6,6,3,1,7,1,0,6,5,7,6,3,7,4,1,5,3,7,8,4,2,7,6,4,2,9,6,2,4,6,2,9,7,4,8,4,7,9,0,1,1,2,2,1,3,1,4,3,5,8,6,1,7,7,0,2,1,7,2,1,3,6,4,0,5,3,7,9,8,2,9,4,0,3,1,3,2,2,3,4,4,9,5,9,6,4,1,7,6,2,0,7,1,5,2,7,4,2,7,1,4,6,4,0,4,4,0,9,3,5,8,9,7,4,5,4,8,3,2,7,1,3,7,9,3,2,5,4,5,2,9,7,1,4,2,7,1,6,3,9,8,3,6,4,4,1,9,6,4,3,9,1,2,9,0,7,0,0,4,8,4,3,6,3,2,6,5,7,5,6,0,2,2,9,6,5,8,2,1,6,1,5,9,5,2,1,6,8,7,8,6,5,6,4,8,8,7,3,3,7,3,7,0,6,5,5,7,8,0,6,2,1,7,2,7,4,8,2,0,1,3,4,5,3,3,3,6,6,0,0,1,8,2,2,3,4,7,5,8,9,0,2,1,5,2,4,3,6,4,2,5,3,6,0,0,9,1,8,2,7,3,1,7,7,9,3,1,0,7,8,4,9,8,9,1,5,6,1,3,7,3,4,6,5,5,3,9,4,1,4,3,2,3,0,0,5,6,1,4,3,3,2,7,2,6,4,9,2,8,3,1,2,4,8,0,4,6,7,6,8,9,6,2,7,2,9,3,7,0,1,7,3,2,5,2,2,3,1,4,4,0,1,0,0,8,5,5,9,1,4,3,0,7,1,4,7,9,0,8,6,8,0,9,0,0,3,9,0,8,9,9,3,0,3,2,1,6,3,7,5,4,8,7,7,5,7,0,0,1,1,2,2,3,8,4,6,5,3,6,4,7,6,8,1,9,9,0,2,1,8,2,0,3,5,4,9,5,4,6,8,7,0,8,0,0,2,1,1,2,3,3,3,4,8,5,1,6,3,8,6,3,9,4,3,7,8,8,0,6,0,3,1,4,0,0,3,9,2,7,5,1,3,9,7,3,0,8,3,4,1,7,6,3,7,0,8,9,5,9,0,6,1,1,2,4,0,5,6,4,6,6,5,2,3,0,5,6,0,1,7,1,9,1,5,7,1,2,7,7,8,5,1,2,0,9,7,4,0,5,3,8,3,4,1,2,4,9,1,7,9,0,9,0,3,7,1,5,0,1,6,1,4,7,8,6,5,6,3,6,3,8,2,2,3,2,7,7,8,7,2,4,6,0,1,2,8,4,5,2,6,5,5,0,2,3,9,3,2,3,6,1,8,8,1,1,9,0,7,5,3,9,6,6,3,9,2,8,2,5,6,8,7,0,5,3,9,0,9,8,9,3,9,9,5,0,7,1,2,2,5,3,6,4,4,5,1,6,6,7,2,8,1,9,5,7,9,8,3,9,8,0,2,1,0,4,8,5,1,6,9,7,5,8,6,9,1,4,4,2,7,6,0,1,5,1,8,7,6,8,6,5,0,3,0,7,8,0,1,0,5,2,1,6,7,9,4,8,9,8,4,9,8,9,6,7,4,7,7,2,3,1,5,1,3,0,9,8,9,9,3,2,5,1,3,7,8,2,9,0,0,6,8,8,2,5,2,0,7,3,3,4,1,3,7,9,1,6,0,0,0,6,2,9,1,0,3,1,5,2,1,3,9,4,1,5,1,6,2,7,7,8,8,9,8,0,0,1,6,2,6,3,1,4,8,5,5,6,8,7,5,8,3,0,9,1,2,2,7,3,4,4,3,5,3,6,5,9,3,5,9,0,5,6,8,8,7,9,1,4,7,1,5,9,3,5,5,3,2,0,4,8,3,9,1,1,5,4,5,0,5,5,4,5,9,7,4,6,7,0,9,1,7,6,4,8,2,9,8,5,1,4,5,7,9,6,4,0,9,8,0,1,6,7,0,7,4,1,8,3,5,2,5,3,9,1,3,4,9,2,7,0,7,0,9,4,7,6,8,4,3,9,3,3,0,8,9,4,4,7,8,2,7,5,5,6,2,3,9,6,8,9,1,6,0,3,6,2,0,2,2,4,2,6,0,2,2,5,5,5,1,1,5,3,2,3,2,9,5,2,1,5,9,7,0,9,6,8,8,2,7,1,8,3,3,1,7,3,3,0,6,1,7,2,5,3,8,4,8,5,3,6,6,7,8,8,1,9,2,0,9,1,6,2,1,3,5,4,9,5,7,6,0,7,4,8,1,0,9,1,2,2,4,3,1,4,7,5,3,6,7,7,3,8,9,9,0,2,4,2,1,7,1,6,9,4,3,0,1,5,6,8,1,0,5,7,5,3,0,5,3,4,9,1,6,8,1,0,9,5,7,2,2,7,6,2,3,3,2,6,2,2,7,1,4,7,5,7,0,9,3,1,5,2,6,6,1,7,4,5,2,4,3,0,4,1,4,1,9,9,3,8,3,0,5,2,0,0,0,3,9,5,7,6,6,1,2,8,1,6,3,4,3,6,6,0,1,9,0,2,2,6,7,4,7,3,4,9,9,3,7,0,9,0,8,5,5,2,4,5,0,8,4,8,3,8,6,9,6,4,5,3,8,4,5,2,3,8,4,8,1,5,0,5,9,7,4,1,0,3,0,6,2,9,9,4,1,3,6,8,0,7,7,6,8,9,0,3,8,3,7,7,8,4,4,1,2,9,8,1,1,0,6,6,5,0,1,1,7,2,7,3,1,4,0,5,0,6,8,7,6,8,9,9,4,0,6,1,9,2,6,3,9,4,4,5,6,6,1,7,2,8,6,9,7,0,9,1,6,2,8,3,6,4,9,5,8,6,8,7,8,8,6,9,1,7,6,0,9,6,7,0,9,7,1,3,6,8,4,6,1,7,5,1,3,3,5,7,9,9,6,7,3,4,1,0,4,2,4,5,0,0,1,6,6,4,7,9,4,6,5,2,6,9,8,8,8,5,9,3,8,9,8,8,8,3,4,4,3,0,9,5,4,4,1,8,0,6,1,3,2,0,8,6,0,3,5,4,9,0,3,1,0,9,3,2,3,3,3,7,4,9,2,1,6,2,1,5,7,1,9,7,9,2,2,8,1,7,7,0,0,1,8,9,0,6,6,4,7,9,8,2,9,1,5,2,5,3,7,7,0,0,8,2,3,1,3,5,1,3,6,4,8,7,6,2,8,1,8,6,6,8,7,5,6,0,4,8,4,9,3,2,3,6,2,0,1,1,6,2,5,3,0,4,3,5,8,6,9,7,8,8,3,9,0,0,3,1,4,2,5,3,9,4,5,5,5,6,0,7,1,8,0,9,3,0,5,1,2,2,3,3,1,4,3,5,8,6,0,7,8,8,2,9,1,7,5,0,0,6,1,0,9,7,7,3,1,8,3,7,5,1,2,3,7,7,3,9,3,7,7,4,3,0,7,2,7,5,9,0,9,6,4,4,0,9,7,8,8,5,1,1,5,5,1,3,6,3,1,4,5,0,9,5,8,4,3,8,9,6,4,3,6,4,5,8,5,0,0,6,7,4,6,8,5,3,4,4,0,0,9,1,7,9,7,2,8,7,0,9,2,1,8,2,4,5,2,1,2,7,5,2,9,8,5,7,9,0,7,1,4,9,7,6,3,4,1,9,2,2,0,1,2,2,0,3,1,7,5,0,4,2,7,1,9,3,0,1,6,2,2,5,1,8,3,1,4,6,2,8,6,5,2,6,4,0,8,8,8,9,3,4,0,9,7,2,9,0,8,1,0,2,9,3,8,4,8,5,0,8,7,9,2,0,5,1,0,2,9,3,2,4,8,5,1,6,8,7,3,8,6,9,9,0,3,1,9,2,4,3,0,4,2,5,5,8,1,5,5,2,2,1,9,7,6,2,1,4,6,1,0,4,6,1,6,4,5,9,6,6,8,8,6,4,1,5,5,3,8,7,4,8,1,4,6,3,6,3,7,5,4,0,6,6,7,1,6,6,5,8,8,7,0,0,0,1,1,5,8,6,4,0,0,8,2,5,2,0,3,6,1,1,7,5,5,8,1,4,0,7,4,6,3,9,8,1,5,9,7,7,6,1,7,2,6,3,3,4,2,5,2,5,1,3,3,7,1,3,0,1,9,8,3,2,5,2,8,3,4,2,0,7,9,4,2,9,8,9,4,2,7,8,7,1,9,8,4,3,8,8,2,3,5,6,2,7,2,0,9,4,3,0,3,0,7,1,7,2,5,3,2,4,8,5,8,6,7,7,2,8,9,9,2,0,0,1,9,2,9,3,2,4,9,5,7,6,8,7,5,8,5,9,5,0,3,1,1,2,0,3,6,4,5,5,6,6,5,7,9,8,5,9,1,1,8,8,7,6,7,7,7,1,9,1,5,4,2,3,0,7,9,9,0,3,6,6,2,0,2,3,9,6,6,4,0,8,7,6,3,0,2,1,0,1,1,5,9,9,3,4,6,3,1,0,2,4,1,6,4,9,4,1,5,7,1,9,0,5,9,1,6,1,4,9,8,8,0,6,1,6,6,9,7,8,6,8,7,8,7,2,0,7,7,4,6,5,9,8,7,3,8,5,6,4,6,7,3,6,7,5,9,2,2,2,8,2,8,7,5,7,3,1,9,0,7,1,6,2,1,3,4,4,1,5,7,6,3,7,0,8,5,9,1,0,0,1,6,2,6,3,3,4,6,5,3,6,7,7,0,8,3,9,4,0,3,1,1,2,5,3,1,4,0,5,3,6,2,7,3,8,2,9,0,3,8,2,7,9,0,3,3,2,7,1,4,4,3,5,7,5,2,2,8,3,0,2,7,1,7,3,8,9,4,7,7,2,0,1,7,1,0,8,8,8,1,7,9,8,8,1,2,0,4,0,9,6,9,7,0,7,4,5,4,0,3,6,9,1,7,1,9,2,3,5,5,0,9,7,0,0,4,4,1,4,5,1,0,8,3,6,4,0,8,0,1,0,7,3,2,7,6,1,7,6,7,4,5,2,7,6,4,4,8,5,7,4,9,1,7,3,5,8,7,6,2,3,3,9,8,9,6,5,4,9,2,3,7,7,8,8,3,5,0,6,1,4,1,7,4,6,3,2,2,2,1,0,0,9,5,4,7,0,8,1,5,2,9,3,8,4,1,5,7,6,9,7,3,8,5,9,4,0,0,1,0,2,6,3,3,4,9,5,8,6,8,7,7,8,8,9,7,0,9,1,4,2,8,3,7,4,5,5,7,6,7,7,4,8,8,9,0,1,1,8,1,6,9,7,9,1,3,1,7,4,9,3,4,7,7,7,1,8,8,9,0,3,2,6,2,0,2,3,8,6,6,4,3,8,8,4,0,5,0,7,3,5,6,6,5,0,7,3,2,9,9,2,8,8,8,3,6,1,9,1,1,5,1,9,5,4,2,3,5,0,3,4,2,4,4,0,8,9,3,6,4,9,8,2,3,2,6,1,5,7,9,9,7,5,9,1,0,1,4,9,0,8,7,6,7,6,5,9,5,0,7,0,8,0,7,1,7,8,0,4,6,6,4,8,0,8,9,2,9,6,2,3,7,2,8,4,8,0,4,9,8,0,3,3,9,7,0,4,4,5,2,8,5,3,7,5,7,8,0,5,4,4,0,7,6,6,2,2,7,2,4,7,5,7,5,0,5,5,4,1,6,5,1,3,4,0,3,1,6,2,5,3,4,4,7,5,6,6,3,7,1,8,5,9,8,0,4,1,2,2,6,3,6,4,0,5,6,6,6,7,6,8,8,9,8,0,5,1,2,2,7,3,0,4,8,5,1,6,3,7,9,8,1,5,0,2,1,8,6,1,8,7,9,2,5,4,6,1,2,4,8,1,7,4,4,9,6,6,2,8,7,5,3,3,0,7,0,8,1,3,9,3,9,5,3,6,6,7,0,0,6,6,4,1,8,6,3,8,8,7,0,0,5,1,5,5,7,6,5,0,7,8,7,5,8,0,2,6,6,1,8,5,9,8,6,4,9,2,6,3,0,9,3,7,5,6,7,9,6,1,2,9,7,0,3,6,3,7,6,1,1,2,2,3,1,9,0,2,1,4,2,5,9,5,1,3,1,7,7,5,7,3,5,1,1,8,1,2,7,2,6,3,5,0,9,2,8,9,3,4,2,9,9,7,9,0,7,0,8,2,9,7,9,4,1,9,6,9,0,2,4,8,6,1,4,5,1,6,2,9,5,8,8,3,2,8,3,3,0,6,6,7,4,0,6,4,5,0,6,0,2,1,9,2,7,3,7,4,0,5,3,6,2,7,9,8,5,9,2,0,7,1,4,2,9,3,8,4,2,5,2,6,6,7,6,8,1,9,8,0,8,1,1,2,5,3,6,4,4,5,0,6,2,7,4,0,3,6,9,4,6,7,5,4,4,3,6,6,2,2,6,3,2,4,7,8,3,7,9,8,1,6,4,9,1,8,9,3,5,2,8,2,4,4,1,8,2,5,6,6,9,5,8,0,6,2,5,0,2,1,5,1,1,2,5,6,8,8,2,1,1,2,7,0,8,6,3,9,0,3,2,9,5,3,5,7,7,1,3,8,9,3,1,8,0,5,3,0,6,1,4,1,2,9,1,8,2,2,6,0,3,4,5,5,5,5,9,0,3,3,5,1,7,8,6,6,7,9,2,0,2,3,9,1,4,0,3,4,0,7,4,5,5,4,0,7,0,9,0,7,8,0,7,1,0,2,1,3,4,7,9,8,9,9,5,0,8,1,3,2,8,3,5,4,5,5,7,6,7,7,4,8,7,9,8,0,0,1,4,2,2,3,6,4,5,5,1,6,8,7,8,8,1,0,2,7,5,5,1,0,3,8,0,4,4,1,3,8,2,8,1,1,4,3,8,1,8,8,1,3,9,7,6,9,7,3,7,0,3,9,6,4,2,4,6,0,4,7,5,4,9,2,1,8,3,7,1,2,9,4,3,7,9,8,4,9,3,3,8,1,5,4,1,6,8,5,9,2,7,2,0,2,4,5,8,6,4,7,8,8,3,7,5,5,7,1,2,6,0,4,0,9,9,2,7,9,2,3,7,5,5,3,0,6,5,6,7,0,3,0,6,2,1,5,6,6,2,4,7,9,7,2,8,7,3,4,2,9,9,5,1,0,3,2,4,2,5,3,0,6,9,1,1,8,9,3,0,8,3,0,5,3,1,5,8,0,1,0,0,6,8,1,7,6,6,9,1,5,1,3,9,9,6,4,0,5,6,8,2,6,8,7,8,1,4,1,6,7,1,0,8,1,1,2,1,3,5,4,1,7,8,8,7,9,9,0,3,1,3,2,6,3,6,4,3,0,5,1,5,2,7,3,4,7,0,8,3,9,2,1,1,5,5,9,7,6,0,9,4,3,0,5,2,0,3,0,1,7,9,9,4,6,2,1,2,6,7,7,9,7,6,9,2,2,0,4,6,8,4,8,3,0,7,6,3,4,7,1,3,2,5,8,5,7,1,1,7,1,7,0,9,7,0,6,9,0,2,1,2,2,5,3,5,4,6,5,7,6,6,7,4,8,0,9,0,1,6,2,2,3,5,4,6,5,9,6,7,7,8,8,1,0,4,1,2,2,0,3,0,4,9,5,9,6,1,7,9,8,0,9,3,8,2,4,1,0,4,0,1,7,8,2,3,6,1,5,7,5,9,3,4,7,1,6,5,6,5,4,1,3,9,2,3,6,4,6,0,4,1,4,8,3,6,8,5,8,9,3,0,0,8,1,8,4,0,5,8,6,3,4,3,7,7,8,9,0,8,3,4,1,5,9,0,0,5,9,2,1,0,2,0,7,7,0,9,1,5,3,9,8,7,2,5,9,1,2,0,7,6,7,9,9,1,4,4,2,4,5,4,8,3,6,8,5,0,9,9,9,2,1,1,1,1,7,5,6,2,9,1,1,2,3,9,2,6,3,1,4,3,3,6,1,1,9,4,3,3,6,5,8,8,7,1,0,3,1,0,0,8,5,2,8,4,2,3,7,9,7,2,0,2,1,6,2,4,3,1,4,1,5,6,6,2,7,4,8,6,9,0,0,8,1,3,2,6,3,7,4,0,5,2,6,4,7,1,8,3,9,4,0,1,1,5,2,1,3,2,4,5,5,7,6,9,7,3,8,7,9,8,8,0,7,6,4,5,7,3,7,9,3,7,9,6,8,7,8,7,3,2,1,7,5,1,8,6,2,8,7,1,4,9,2,6,6,6,1,9,5,0,5,9,8,2,6,6,4,6,4,6,4,0,1,4,8,7,7,0,5,7,5,1,1,4,8,6,9,8,1,9,3,5,6,6,3,6,3,9,2,2,2,2,6,1,9,0,9,9,6,0,5,6,5,1,3,4,3,4,8,7,1,9,6,4,8,2,1,9,9,6,7,4,6,2,8,6,3,1,7,7,4,3,7,8,0,7,9,0,0,6,0,4,3,2,7,4,9,7,3,5,0,5,2,8,0,1,1,1,0,9,1,6,0,1,4,1,0,6,1,0,0,2,4,8,7,2,9,3,2,9,0,6,6,4,2,7,6,9,2,1,2,5,9,4,9,1,0,2,1,4,2,2,3,8,4,3,5,7,6,1,7,7,8,9,0,6,1,3,2,6,3,7,4,4,5,2,6,5,7,6,8,3,0,3,1,2,2,0,3,0,8,3,7,3,4,4,7,5,7,4,9,1,8,9,3,9,1,0,5,9,8,0,4,8,2,6,6,2,4,0,4,7,1,7,8,4,7,7,5,1,5,3,1,6,9,7,1,8,3,4,6,7,3,7,3,6,2,4,2,1,6,7,9,2,9,8,6,0,5,6,5,9,3,9,3,2,8,5,1,5,7,1,6,2,8,2,3,7,7,6,4,3,7,5,0,3,9,2,0,5,0,9,2,2,7,0,9,6,1,8,0,3,1,2,0,9,4,3,0,3,1,6,0,1,4,7,7,5,9,3,2,8,0,0,6,2,2,0,6,4,2,2,2,7,9,6,9,9,0,8,1,1,2,4,3,1,4,6,5,6,6,8,7,8,8,3,0,7,1,1,2,5,3,1,4,2,5,4,6,1,7,6,8,1,9,8,0,7,1,1,2,8,3,8,4,2,5,5,6,2,7,8,8,5,9,3,8,1,3,6,4,9,7,6,8,5,6,1,3,6,4,4,0,3,9,3,7,7,1,0,9,0,3,8,8,0,4,3,7,2,3,3,0,2,9,8,4,6,5,9,4,8,6,7,2,8,0,2,6,4,2,7,1,5,1,7,1,3,1,8,7,5,2,3,4,3,2,6,9,0,4,8,5,2,8,1,4,6,2,4,9,1,7,7,0,3,0,4,7,7,5,5,1,8,7,1,6,8,6,2,6,9,8,1,2,0,5,1,2,1,2,9,7,9,7,5,4,2,0,8,2,0,4,4,2,2,3,8,3,0,3,1,1,3,8,9,9,5,6,3,1,5,0,4,5,5,9,2,6,1,9,7,8,4,5,8,8,7,5,6,5,9,8,2,0,7,3,2,0,4,8,1,6,8,3,3,0,5,1,2,2,8,3,8,4,7,6,5,7,1,8,5,0,7,1,3,2,6,3,3,4,8,6,8,7,5,8,0,0,0,1,5,2,5,3,0,4,9,6,8,7,4,8,2,8,4,1,3,7,2,2,1,4,9,1,4,4,9,1,6,4,8,9,5,6,9,8,3,4,3,7,1,8,1,4,7,3,9,3,1,6,8,7,5,0,0,6,1,1,1,6,1,8,3,7,8,0,8,1,7,0,9,8,4,5,1,0,9,6,6,1,5,5,9,8,9,4,1,2,8,3,7,9,0,7,7,6,9,9,2,0,6,6,4,3,2,3,4,7,6,5,6,3,7,1,7,8,8,2,9,2,8,3,7,0,5,2,3,9,8,4,9,9,3,7,4,0,0,0,7,2,4,7,3,4,2,9,2,9,5,2,0,8,5,1,7,5,9,6,4,9,9,8,3,3,2,8,8,3,4,6,0,7,5,0,8,4,5,0,0,0,4,1,7,2,1,3,5,4,1,5,1,6,8,7,1,8,5,9,6,0,6,1,2,2,9,3,1,4,0,5,1,6,3,7,7,8,6,9,7,0,2,1,9,2,0,3,4,4,1,9,0,1,5,0,0,0,5,3,3,6,0,1,4,4,4,3,2,2,7,9,9,1,7,2,3,1,3,2,4,9,0,0,3,1,4,3,9,0,2,6,2,2,7,9,1,1,9,9,6,0,8,0,3,0,0,1,6,0,5,1,5,4,3,5,5,7,6,8,7,3,8,4,6,7,0,1,4,1,5,0,2,7,0,5,2,9,1,9,9,4,8,7,9,5,0,8,4,3,1,4,4,4,4,3,0,2,9,3,4,4,0,5,8,6,8,7,5,1,1,0,5,1,6,2,3,3,4,4,7,5,3,6,3,7,1,8,8,0,3,1,7,2,4,3,2,4,9,5,1,6,2,7,0,0,2,9,8,5,8,0,7,9,2,8,3,9,6,8,1,4,8,1,2,7,0,7,6,3,4,5,9,1,9,0,6,0,0,0,5,1,6,2,3,6,9,3,4,3,7,7,9,4,5,6,3,6,8,6,3,4,3,9,0,1,4,9,3,5,5,8,3,2,5,0,8,0,4,1,6,7,8,6,4,3,3,2,3,1,6,7,5,3,9,1,1,3,4,9,5,1,7,7,4,6,1,8,6,4,2,3,1,1,7,4,7,0,9,5,4,3,5,6,4,9,7,6,5,1,2,7,3,4,0,4,5,7,8,2,5,2,8,5,5,7,2,9,6,5,8,4,2,8,6,8,4,4,2,0,2,8,8,9,1,8,1,0,7,1,2,2,0,3,8,4,4,5,9,6,0,7,9,8,9,9,0,0,8,1,3,2,5,3,2,4,7,5,5,6,9,7,9,8,7,9,3,0,6,1,2,2,4,3,3,4,1,5,3,6,5,7,2,8,3,9,3,7,1,2,8,9,8,4,5,2,0,9,9,8,4,4,3,5,2,8,2,8,1,0,2,3,1,5,9,4,6,3,8,3,3,5,4,1,2,7,9,8,7,4,4,5,7,7,2,2,8,6,4,6,9,7,1,7,8,7,9,0,8,1,0,0,2,1,1,6,5,5,5,5,6,2,0,9,5,3,1,1,8,4,4,8,9,8,5,7,0,3,1,8,6,2,4,9,5,1,1,2,5,6,6,5,6,9,7,1,4,2,7,2,3,7,6,9,1,7,5,9,3,9,8,1,4,0,7,9,8,7,4,0,7,5,8,0,2,3,8,8,7,4,9,6,1,1,8,4,3,3,2,6,2,2,0,0,9,4,2,8,7,1,4,3,2,1,6,0,0,9,1,0,4,1,6,2,4,3,1,4,8,5,1,6,2,7,4,8,4,9,0,0,6,1,5,2,5,3,0,4,2,5,0,6,1,7,0,8,0,9,0,0,3,1,0,2,5,3,7,4,5,5,9,6,9,9,8,8,3,4,7,0,3,0,3,7,7,2,9,4,1,2,5,6,8,5,2,5,4,3,9,7,5,8,1,6,0,6,2,4,7,3,4,2,4,6,5,6,0,3,8,8,9,8,5,3,5,0,0,1,8,4,3,4,0,7,0,3,3,5,3,4,6,1,3,9,7,1,5,2,9,1,3,3,8,9,6,2,8,7,9,7,9,9,8,4,4,2,5,5,4,8,9,6,9,5,2,5,8,9,8,9,2,1,3,1,3,5,9,7,7,6,6,9,1,1,7,3,3,2,9,3,2,1,0,9,8,0,3,9,6,1,3,0,2,5,5,8,1,2,7,7,9,7,7,0,0,1,0,2,7,3,0,4,2,5,4,6,7,7,4,8,7,9,8,0,5,1,6,2,3,3,2,4,4,5,8,6,2,7,8,8,9,9,3,0,5,1,9,2,9,3,7,4,6,5,7,6,9,7,4,8,4,5,2,2,8,8,1,1,9,7,2,2,9,4,6,1,3,4,7,1,8,4,8,9,1,6,5,8,7,4,6,5,8,3,8,7,7,8,6,4,8,3,6,3,5,5,6,6,6,7,3,0,1,6,7,1,0,6,8,8,7,7,2,0,9,1,6,5,8,6,3,0,5,8,0,5,4,0,1,6,2,1,2,5,3,8,9,4,5,2,3,3,3,9,6,7,1,6,7,9,3,1,5,9,2,0,4,6,9,7,8,1,3,2,0,3,7,9,4,2,7,4,8,5,5,5,0,3,2,7,6,5,0,3,2,1,4,8,3,2,6,2,9,3,5,0,3,2,2,9,8,4,1,9,9,0,2,2,6,7,2,4,0,9,3,9,4,2,2,8,0,1,2,5,6,6,9,9,8,8,2,3,1,8,1,3,8,6,8,4,6,0,2,0,8,1,0,2,0,3,4,4,6,5,8,6,7,7,5,8,0,9,6,0,7,1,4,2,4,3,7,4,1,5,9,6,1,7,9,8,1,9,6,0,0,1,8,2,7,3,3,4,5,5,3,6,0,7,3,8,2,6,4,0,4,3,0,4,1,1,1,4,6,0,4,8,2,6,7,4,1,5,3,4,2,0,1,7,3,8,1,7,2,7,5,9,3,0,5,4,2,9,8,9,4,7,2,4,2,2,1,0,3,5,6,8,0,5,4,9,1,8,5,8,7,4,0,0,3,7,7,1,2,3,7,5,2,1,0,3,8,1,6,5,8,3,7,8,6,7,8,3,5,1,0,6,9,8,1,5,9,9,5,2,0,2,0,0,3,9,6,2,9,4,7,6,3,5,3,2,5,7,3,3,7,1,3,3,7,6,9,6,7,2,7,1,1,2,9,6,9,0,8,2,1,2,8,7,2,1,7,3,3,7,5,4,8,7,5,4,3,8,6,9,6,2,2,9,1,5,9,1,1,5,4,6,9,8,9,3,4,5,8,6,9,8,8,0,8,0,5,9,0,9,6,3,5,1,7,1,0,0,6,1,8,2,1,3,3,4,6,5,0,6,3,7,8,8,8,9,4,0,6,1,7,2,4,3,8,4,7,5,5,6,0,7,7,8,6,9,3,0,4,1,6,2,8,3,8,4,3,5,3,6,6,7,1,8,9,9,4,7,5,5,4,5,2,1,2,9,7,9,2,7,2,1,8,0,4,9,7,0,0,7,1,1,3,7,7,3,9,6,3,8,9,0,3,8,3,3,1,2,4,0,8,9,2,0,1,6,4,1,1,7,3,5,3,8,8,3,0,4,3,7,7,6,7,3,3,2,9,3,7,8,4,9,5,4,3,8,4,8,5,7,1,1,2,0,2,8,2,7,7,7,2,9,0,2,9,3,2,4,4,6,3,1,5,1,5,4,4,5,3,5,3,0,1,4,1,8,6,7,2,4,7,9,2,2,2,3,3,6,0,4,6,1,0,2,2,4,0,1,0,5,0,4,4,2,1,0,7,4,6,8,0,6,1,1,4,9,5,3,6,2,0,0,2,0,0,2,2,5,2,6,8,9,0,3,8,6,2,3,9,6,4,0,2,1,3,2,3,3,9,4,5,7,1,0,2,3,5,4,8,7,1,0,9,1,1,2,4,3,5,4,7,5,8,6,1,7,3,8,7,7,3,2,2,4,8,1,3,4,0,1,5,4,5,9,4,6,2,8,3,4,7,5,5,3,8,7,4,8,8,4,0,6,2,7,8,0,5,6,3,1,5,6,5,8,4,7,5,0,7,0,0,0,9,6,1,1,6,5,8,2,3,3,8,9,2,7,8,6,4,9,9,1,7,9,7,0,1,6,5,7,3,2,1,5,3,3,2,1,0,2,0,3,9,0,8,2,5,9,8,4,4,9,6,7,3,0,4,0,1,2,8,7,4,4,0,9,3,9,5,2,6,9,1,8,6,3,6,6,8,7,8,0,4,4,8,0,3,0,0,1,2,2,7,3,1,4,3,6,2,7,5,8,2,0,1,1,0,2,3,3,7,4,3,5,0,6,5,7,5,8,3,9,9,0,6,1,9,2,2,3,9,4,4,5,5,6,7,7,1,8,7,1,7,4,7,4,7,2,7,3,9,3,7,0,6,9,4,5,2,4,9,3,3,0,3,8,5,4,0,6,6,7,9,0,3,7,8,7,9,1,8,6,4,9,9,1,8,2,0,9,8,3,6,6,4,2,6,3,1,4,1,6,3,8,8,7,5,2,1,3,0,8,6,1,8,2,2,9,4,5,6,8,5,8,6,7,6,1,2,7,2,1,7,1,2,0,4,3,7,4,8,2,5,6,2,4,2,7,3,4,8,2,3,7,6,4,3,2,9,9,2,2,5,7,4,9,5,2,7,8,5,6,1,1,7,0,8,6,2,8,1,5,9,5,6,0,2,5,6,3,1,5,8,9,1,7,7,4,9,8,0,9,7,6,0,9,5,3,8,0,6,0,0,6,8,3,4,0,5,5,1,8,8,9,7,1,8,8,7,1,8,6,6,0,7,0,0,1,4,2,4,3,8,4,1,5,0,6,0,7,3,8,4,9,9,0,5,1,2,3,0,4,2,5,1,6,2,7,1,8,3,9,6,0,2,1,4,2,4,3,5,4,1,5,2,6,4,7,8,8,4,9,3,1,3,4,1,4,4,3,5,3,7,0,7,9,0,5,6,4,2,3,0,0,5,8,1,4,2,0,6,7,9,7,0,6,8,9,9,1,6,2,7,9,5,3,3,6,1,2,6,3,7,4,1,6,5,5,6,2,8,3,5,8,5,1,0,2,0,9,0,5,2,8,9,8,0,7,0,1,1,7,5,1,4,1,4,3,6,4,7,4,4,7,7,4,5,2,8,7,3,2,5,9,8,2,8,7,3,9,5,2,7,8,7,6,7,1,5,8,7,5,9,5,6,0,6,5,5,3,8,5,9,9,7,7,9,4,3,8,3,9,3,6,7,9,1,0,7,0,3,6,0,3,7,0,3,5,4,8,7,9,7,1,9,8,5,1,1,0,1,0,2,1,5,2,2,3,9,4,6,5,7,6,4,7,7,8,6,0,4,1,1,2,2,3,2,4,8,5,4,6,8,7,6,8,4,9,2,0,2,1,7,2,4,3,3,4,3,6,4,7,5,8,0,8,6,2,7,6,7,9,4,6,3,1,9,9,9,9,5,9,1,4,0,4,8,3,3,8,0,1,6,4,8,1,0,2,6,5,3,0,1,9,1,4,4,9,9,1,5,7,8,4,8,4,7,1,8,8,9,7,8,6,6,0,8,8,8,1,0,8,0,2,6,6,3,2,4,0,8,9,1,1,9,2,6,5,3,4,9,5,1,6,0,7,9,3,8,0,9,2,4,2,0,2,4,7,6,5,2,0,0,3,0,5,7,2,6,1,5,4,8,4,4,3,2,0,0,0,0,8,4,5,1,4,3,7,4,9,2,7,3,8,8,8,3,7,7,9,9,6,2,3,8,1,5,7,1,9,5,6,1,3,1,3,5,1,6,0,5,2,7,6,3,0,5,5,9,6,3,8,5,7,4,3,6,5,1,8,6,3,7,0,3,1,5,2,7,3,0,4,6,5,7,6,3,7,6,8,8,9,8,0,8,1,1,2,6,3,8,4,4,5,4,6,9,7,9,8,2,9,1,0,1,1,4,2,8,3,9,4,5,5,3,6,6,7,5,8,7,9,5,0,0,8,2,7,4,8,4,9,9,9,2,0,5,1,6,4,0,5,6,1,7,6,4,7,0,3,1,2,9,9,2,0,5,5,0,6,7,7,3,3,1,9,7,9,9,3,8,8,7,1,9,2,3,9,4,6,2,7,3,5,3,6,8,3,1,5,4,0,3,5,3,4,5,0,8,3,7,4,9,7,5,7,1,9,0,4,0,3,5,7,7,6,4,2,6,1,5,5,6,5,2,0,5,5,5,0,2,6,3,7,7,0,7,2,1,9,0,3,4,4,3,4,7,8,4,1,3,2,7,2,6,3,9,1,8,3,6,6,4,7,8,3,4,9,2,6,2,5,4,1,6,9,5,8,3,1,3,1,4,5,3,0,8,2,9,7,2,8,3,6,4,6,9,8,5,4,2,4,6,2,0,2,1,8,4,0,9,0,6,1,2,2,3,3,1,8,5,9,8,0,3,1,3,2,1,4,3,5,5,6,1,7,9,8,1,9,6,0,5,1,8,2,7,3,7,4,5,5,7,6,5,7,5,8,2,9,7,3,6,5,1,3,1,2,0,9,7,3,5,2,8,1,7,4,4,5,9,5,7,2,7,3,8,2,8,1,4,3,7,9,7,7,9,2,4,1,8,2,4,8,7,9,2,1,9,8,9,8,4,7,7,8,6,1,2,0,9,0,2,6,4,7,5,7,1,7,7,5,1,6,5,1,9,5,2,7,4,1,0,2,8,5,5,0,6,7,7,9,3,9,3,0,1,3,0,8,4,4,6,8,4,4,6,1,4,8,9,6,2,5,9,9,0,0,7,0,6,0,3,3,9,7,2,1,8,6,6,4,0,2,0,6,9,6,8,0,6,4,4,5,6,4,2,1,4,3,1,8,8,6,7,3,3,9,5,9,5,5,3,9,5,3,1,7,6,6,9,2,5,2,9,0,7,0,7,1,2,2,5,3,1,4,3,5,9,6,6,7,3,8,0,9,9,0,6,1,9,2,4,3,5,4,0,5,8,6,1,7,8,8,0,9,4,0,3,1,5,2,2,3,7,4,4,5,9,9,7,1,7,3,4,5,1,9,4,4,2,1,8,7,8,7,3,2,8,1,9,4,7,8,8,3,2,8,9,2,4,9,9,3,5,8,1,5,5,4,2,8,5,8,4,9,0,4,4,3,8,9,3,2,1,5,1,7,4,4,0,1,4,2,1,3,1,5,2,9,6,1,5,6,7,0,9,1,4,0,0,0,7,2,7,8,6,7,5,2,0,5,4,1,5,1,5,8,5,5,2,6,1,4,4,0,8,4,4,7,7,3,1,6,8,8,0,0,7,3,7,7,2,4,8,0,3,6,4,9,8,2,0,6,4,5,9,8,7,6,8,9,9,0,7,4,7,0,3,6,4,1,0,9,7,2,8,0,8,9,7,5,3,1,0,3,7,7,4,6,9,9,0,4,6,8,3,3,0,7,4,7,0,6,1,3,9,0,0,5,7,6,9,2,9,2,5,0,1,1,7,2,3,3,5,4,9,5,9,6,7,7,4,8,9,9,3,0,1,1,3,2,9,3,4,4,2,5,7,6,8,7,3,8,1,9,2,0,7,1,0,2,2,3,4,5,7,6,6,7,0,8,3,8,6,9,3,5,0,7,4,0,7,3,8,1,1,4,2,1,7,7,8,6,7,5,6,6,4,4,6,2,5,7,0,8,2,1,8,3,6,4,4,3,5,7,6,2,0,5,1,0,3,1,1,9,3,2,9,3,6,2,1,3,5,5,7,5,2,7,6,8,8,4,4,9,2,9,8,7,1,1,7,1,0,9,0,0,1,7,2,8,2,3,3,8,9,6,4,3,9,8,3,0,0,9,8,6,5,2,6,1,9,0,8,1,7,0,7,6,4,2,1,3,4,8,4,9,7,0,7,7,3,2,1,3,5,4,1,5,0,5,2,2,5,8,1,5,7,4,8,6,0,6,4,6,6,7,7,9,2,1,9,8,0,2,1,1,9,2,6,6,7,5,1,3,4,4,4,7,9,9,0,4,6,0,9,0,8,5,5,9,1,0,8,1,6,2,5,3,7,4,0,5,9,6,1,7,3,8,5,9,1,0,6,1,3,2,4,3,9,4,1,5,6,6,5,7,1,8,2,9,3,0,7,1,4,2,9,3,2,4,1,5,0,6,1,7,4,8,1,9,9,0,3,0,0,1,7,0,5,1,4,2,5,7,9,5,6,3,9,4,7,2,6,4,7,4,9,0,4,0,5,6,7,9,4,6,1,6,5,5,7,7,7,3,4,2,3,2,7,3,2,4,4,4,7,9,6,1,7,4,1,0,1,7,5,9,6,7,8,5,7,6,7,2,2,3,7,1,5,4,6,4,4,0,8,9,5,9,6,6,2,1,8,8,0,3,1,3,8,7,8,3,2,9,6,8,7,8,1,9,9,6,4,8,7,8,5,8,7,4,8,7,9,7,5,6,7,2,1,1,6,9,9,8,0,7,1,8,1,8,0,7,6,2,6,2,7,3,2,9,7,3,2,3,5,0,9,7,7,9,3,5,6,6,5,5,0,0,0,6,9,1,4,5,9,0,0,4,8,1,0,1,8,2,4,8,1,2,5,6,6,1,3,5,0,0,4,1,6,2,3,3,8,4,8,5,1,6,5,7,0,8,1,9,6,0,5,1,7,2,3,3,9,4,2,5,0,8,4,0,3,1,9,2,9,3,6,4,6,5,1,6,3,7,9,8,0,8,1,6,9,5,4,0,5,6,8,8,7,9,0,4,6,1,8,9,3,0,8,4,7,8,1,9,7,1,9,4,9,0,8,5,3,1,1,4,8,0,8,7,0,6,7,0,0,1,8,7,9,0,7,6,4,8,7,9,8,5,4,7,8,9,2,8,5,6,8,0,0,8,1,1,2,7,7,7,9,1,4,3,2,2,5,3,8,1,7,4,2,2,4,0,8,0,8,7,0,8,6,4,5,6,4,4,5,9,2,3,5,8,7,4,5,7,6,2,6,3,2,6,4,9,4,6,9,3,7,2,9,2,0,4,5,6,6,9,1,0,0,2,8,5,3,5,5,1,1,3,3,3,8,9,0,7,7,8,5,7,5,2,4,2,0,9,7,8,1,2,1,1,3,3,7,1,6,3,8,0,0,1,7,2,9,3,4,4,8,5,8,6,0,7,8,8,6,9,1,0,1,1,4,2,6,3,4,4,7,5,5,6,5,7,9,8,8,9,5,0,5,1,8,2,9,3,5,4,1,5,0,6,6,7,5,8,9,9,6,0,2,8,3,3,1,9,1,5,2,5,1,2,9,6,8,8,3,4,7,9,7,1,2,7,7,1,0,2,9,3,7,5,9,9,0,6,0,9,3,1,5,1,8,1,3,2,3,9,1,5,3,6,6,8,8,1,8,2,5,0,1,7,8,7,0,5,4,8,5,2,8,9,7,8,3,7,2,1,1,3,2,4,7,5,6,6,8,0,7,3,8,6,4,8,0,7,2,0,6,4,1,2,0,7,2,7,4,5,4,4,7,3,9,4,7,2,1,8,7,1,4,5,0,1,7,2,2,4,0,3,8,0,2,0,3,0,2,3,1,3,3,5,8,7,9,0,0,6,1,8,1,6,7,3,2,4,1,6,0,9,4,9,3,8,3,2,9,7,1,7,9,1,8,0,1,1,6,2,1,3,2,4,9,7,2,8,2,9,8,0,9,1,1,2,6,3,7,4,1,5,5,6,1,7,4,8,3,9,5,0,3,1,3,2,9,3,2,7,5,8,4,9,8,7,0,9,3,5,6,0,3,8,0,3,2,5,6,4,2,8,7,2,7,1,2,0,6,2,5,5,7,8,6,8,1,1,6,6,2,1,3,3,4,0,7,3,5,6,4,9,8,3,7,7,0,4,4,9,7,7,0,0,4,9,7,7,4,7,7,9,1,5,6,7,7,6,0,4,7,8,8,9,7,6,5,9,3,4,7,1,7,2,2,0,7,6,6,1,8,7,4,2,3,4,0,6,2,4,9,6,2,5,3,0,8,2,3,1,7,0,8,1,2,2,2,1,3,7,5,8,3,1,1,2,8,8,8,2,2,7,6,9,2,3,2,9,2,0,4,1,2,2,0,3,9,4,9,5,8,6,0,7,1,0,7,1,8,2,0,3,7,7,2,8,6,9,2,0,3,1,5,7,8,8,8,9,8,2,9,5,7,1,9,6,7,4,8,3,3,9,0,9,1,0,0,4,9,3,4,6,7,0,2,0,8,8,3,9,0,8,7,7,4,0,4,0,4,4,5,1,4,4,1,1,2,3,7,6,0,4,1,7,4,7,2,0,9,9,0,8,9,4,3,3,8,8,1,3,1,8,6,5,9,8,0,4,7,1,3,7,2,9,6,2,6,0,6,9,0,1,3,7,6,3,3,8,5,0,6,3,8,8,7,1,9,6,1,4,1,3,9,6,0,1,9,5,3,5,2,6,7,5,9,0,9,1,0,2,8,3,6,4,3,5,3,6,2,7,0,0,5,1,5,2,1,3,5,4,3,5,0,6,5,7,8,0,7,1,1,2,8,3,1,4,7,5,2,7,4,4,6,0,4,4,6,0,5,1,6,7,5,5,9,1,3,4,7,2,6,4,4,3,3,1,7,7,3,8,8,2,3,4,9,4,2,3,2,3,9,6,0,6,7,7,3,0,1,2,2,6,4,3,2,9,9,3,8,2,5,8,5,1,2,7,1,0,2,3,2,2,0,9,3,4,0,0,8,3,3,7,8,7,0,7,5,7,2,1,2,1,3,2,4,6,2,4,4,2,4,3,5,6,5,6,4,5,1,7,4,5,3,2,6,8,2,1,7,6,1,1,0,0,2,4,2,3,1,1,7,6,4,1,3,9,2,0,7,1,7,2,5,3,8,4,9,5,8,6,3,7,2,8,6,0,7,1,1,2,2,3,0,4,9,5,9,6,1,7,6,8,0,9,0,0,6,1,4,2,8,3,1,4,8,5,2,6,8,7,2,8,2,1,9,0,0,4,0,5,5,6,7,6,2,3,8,4,3,4,6,1,1,0,9,6,1,4,8,9,2,7,0,2,3,3,4,3,2,9,8,2,1,0,0,9,9,3,7,3,3,9,1,1,3,5,3,2,9,3,7,1,7,6,7,7,9,3,2,7,8,4,0,2,2,4,7,8,0,7,0,6,9,3,2,6,0,5,7,5,1,0,8,1,6,7,2,9,7,9,5,8,9,6,5,2,6,2,8,1,7,5,5,7,3,5,0,1,1,3,8,4,9,4,5,1,8,6,8,9,0,1,2,3,4,5,6,7,8,9,0,1,2,3,4,5,6,7,8,9,0,1,2,3,4,7,8,9,7,1,5,6,2,5,4,8,1,7,1,8,3,8,7,1,7,7,0,1,4,4,4,4,4,9,7,2,6,5,4,3,8,7,9,0,6,4,6,3,7,0,1,4,8,8,1,2,9,3,1,8,4,2,9,9,2,9,6,0,5,3,3,6,3,1,2,5,0,3,7,6,1,5,5,9,9,0,1,2,3,4,5,6,7,8,9,0,1,2,3,4,5,6,7,8,9,0,1,2,3,4,5,6,7,8,9,6,8,2,3,7,4,6,8,6,6,8,0,1,7,1,7,3,5,0,2,2,0,2,5,4,1,5,1,2,3,4,8,3,3,6,5,9,9,3,8,1,3,7,9,3,4,1,7,3,9,6,7,4,9,7,0,9,6,0,6,1,0,5,8,5,0,1,0,9,4,5,9,7,1,9,6,8,9,2,8,5,0,1,2,3,4,5,6,7,8,9,0,1,2,3,4,5,6,7,8,9,0,1,2,3,4,9,0,5,6,8,3,9,0,2,3,3,3,9,5,6,4,4,2,5,4,3,9,6,8,7,9,1,5,2,6,3,4,4,1,6,4,9,6,5,1,2,6,6,7,8,8,1,8,3,7,1,2,7,0,7,5,0,0,1,5,0,0,4,8,3,1,8,2,9,9,5,2,6,4,8,2,5,4,1,7,1,4,3,9,7,1,2,6,0,7,3,0,1,2,3,4,7,8,9,0,1,2,3,4,5,6,7,8,9,0,1,2,3,4,5,6,7,8,9,7,0,6,0,7,3,7,3,7,9,7,4,0,2,6,5,6,5,2,9,5,3,9,8,3,4,0,5,4,6,3,4,8,0,6,4,8,1,3,4,0,1,9,2,3,7,9,1,2,5,1,7,2,8,7,0,1,9,6,4,1,2,3,7,0,2,1,3,1,7,2,1,6,8,0,8,9,1,6,0,1,2,3,4,5,6,7,8,9,0,1,2,3,4,7,8,9,0,1,2,3,4,5,6,7,8,6,4,2,6,4,7,5,5,4,7,8,9,2,9,3,9,3,8,2,0,5,0,7,0,4,2,6,5,3,5,3,8,0,0,3,4,1,5,3,0,8,3,0,6,2,7,1,1,8,1,7,1,3,8,9,7,6,7,4,1,6,7,5,1,7,1,9,8,0,6,9,4,9,9,3,7,1,9,2,2,5,3,7,8,2,3,4,5,6,7,8,9,0,1,2,3,4,5,6,7,0,1,2,3,4,5,6,7,8,9,8,1,0,5,5,1,9,0,4,1,9,3,8,4,7,7,8,5,0,6,5,5,3,3,3,9,8,1,4,0,6,1,0,0,6,2,1,1,3,2,8,8,7,8,4,6,0,2,0,3,6,8,7,1,5,9,9,3,2,4,9,4,6,5,3,2,5,5,9,4,1,6,5,0,1,2,3,4,5,6,7,8,9,0,1,2,3,4,5,6,7,8,9,0,1,2,3,4,5,6,7,8,9,6,4,2,6,4,7,5,5,4,7,8,9,2,9,3,9,3,8,2,0,9,8,0,5,6,0,1,0,4,2,6,5,5,5,4,3,4,1,5,3,0,8,3,0,6,2,7,1,1,8,1,7,1,3,8,5,4,2,0,9,7,6,7,4,1,6,8,4,7,5,1,2,6,7,1,9,8,0,6,9,4,9,9,6,2,3,7,1,9,2,2,5,3,7,8,0,1,2,3,4,5,6,7,8,0,1,2,3,4,5,6,7,8,0,1,2,3,4,5,6,7,8,9,2,1,2,1,3,9,9,8,5,3,7,0,7,7,5,7,9,9,4,7,0,3,4,1,4,4,7,5,8,1,4,8,4,1,8,6,6,4,6,3,5,7,2,5,9,2,6,2,1,2,0,8,3,8,3,0,8,7,4,9,5,0,9,7,4,9,1,6,2,7,6,1,8,6,1,0,3,6,2,1,4,0,1,2,3,4,7,8,9,0,1,2,3,4,7,8,9,0,1,2,3,4,5,6,7,8,7,4,3,1,8,6,1,9,2,4,0,9,9,3,7,7,9,1,8,4,7,5,8,5,3,2,2,0,5,8,6,0,3,8,1,0,3,0,4,7,4,9,2,9,1,2,1,7,1,6,7,3,3,6,2,8,7,6,4,9,8,8,2,9,6,5,5,9,5,3,7,4,7,6,0,0,4,6,6,9,0,1,1,3,2,1,0,0,1,2,3,4,5,6,7,8,9,0,1,2,3,4,5,6,7,8,9,0,1,2,3,4,5,6,7,8,9,4,2,0,2,1,5,9,6,5,9,3,5,0,7,1,1,5,3,0,7,9,6,1,6,7,4,9,5,7,9,8,5,6,2,4,8,9,2,2,8,0,6,4,3,3,1,2,4,1,5,8,9,6,9,3,4,0,3,9,0,2,7,1,1,0,7,6,2,2,7,6,0,6,9,4,8,4,3,3,7,8,1,0,4,5,8,3,0,6,8,3,7,8,5,7,8,2,3,4,6,7,8,9,0,1,2,5,6,7,8,9,0,1,2,3,4,5,6,8,7,5,7,3,3,8,6,5,4,0,9,3,2,2,3,0,6,4,3,7,6,9,2,2,3,5,5,0,7,2,3,4,0,0,5,1,8,9,0,8,9,6,5,6,7,5,3,5,3,0,1,2,3,4,5,6,7,8,9,0,1,2,3,4,5,6,7,9,0,1,2,3,4,5,6,7,8,9,1,3,5,9,4,1,7,7,2,1,4,8,3,8,2,9,3,8,5,4,8,8,9,7,5,4,3,9,2,5,7,4,1,2,3,6,0,1,0,0,2,8,7,2,5,1,1,8,5,6,4,0,4,7,3,6,8,0,3,7,6,9,2,6,5,8,6,9,0,4,0,6,1,9,2,0,9,5,1,3,7,6,9,4,8,3,7,7,6,3,0,5,6,2,2,0,1,2,3,4,5,6,7,8,9,0,1,2,3,4,5,6,7,8,9,0,1,2,3,4,5,6,7,8,9,5,6,6,0,8,3,7,9,4,7,1,9,1,7,1,4,1,7,5,7,1,3,3,1,6,9,7,4,3,0,2,5,2,6,0,8,4,8,1,5,0,6,6,3,4,7,5,7,2,2,0,0,1,7,7,9,5,9,8,9,6,8,3,6,1,2,9,5,2,5,2,6,2,4,8,4,6,5,0,1,2,3,4,5,6,7,8,9,0,1,2,3,4,5,6,7,8,9,0,1,2,4,5,6,7,8,0,4,0,1,7,5,1,4,2,8,4,3,1,7,8,2,4,3,3,6,9,9,5,8,6,7,0,6,2,6,3,9,1,7,4,8,8,9,0,3,0,5,2,9,4,1,0,3,7,5,8,7,7,8,2,9,5,5,1,2,6,4,2,5,2,3,6,0,0,7,5,2,8,1,6,1,0,4,3,1,6,1,9,0,1,2,3,4,5,6,7,0,1,2,3,4,6,7,8,0,1,2,3,4,7,8,9,2,2,4,0,7,3,5,4,1,8,0,5,2,7,2,3,6,2,1,7,7,9,2,4,6,7,7,5,9,9,1,8,6,4,6,0,9,2,6,4,3,9,0,8,8,9,4,7,1,3,6,9,4,1,7,6,9,3,3,7,4,1,9,1,0,6,0,1,2,4,5,6,7,8,9,0,1,2,3,4,5,6,7,8,9,0,1,2,3,4,5,6,7,8,9,3,2,9,3,2,1,4,5,5,2,3,2,1,3,9,7,2,1,2,8,9,1,8,8,7,0,6,7,7,8,7,5,0,6,1,5,7,4,6,1,2,7,9,9,0,3,8,4,4,1,8,6,5,0,0,3,7,1,6,4,2,6,6,0,4,5,4,1,3,8,6,3,9,9,5,9,3,6,4,7,6,2,2,0,9,4,0,1,2,3,4,5,6,7,8,9,0,1,2,3,4,8,9,0,1,2,3,4,5,6,7,8,9,6,0,3,4,1,4,0,7,8,7,7,9,0,4,9,4,0,5,8,5,9,8,8,4,0,7,1,3,5,3,1,6,5,3,8,7,3,1,6,8,5,9,2,2,0,9,2,4,6,7,3,1,3,6,6,2,1,2,6,0,7,8,9,2,9,5,1,8,3,5,6,8],\"xaxis\":\"x\",\"yaxis\":\"y\",\"type\":\"histogram\"}],                        {\"template\":{\"data\":{\"barpolar\":[{\"marker\":{\"line\":{\"color\":\"white\",\"width\":0.5},\"pattern\":{\"fillmode\":\"overlay\",\"size\":10,\"solidity\":0.2}},\"type\":\"barpolar\"}],\"bar\":[{\"error_x\":{\"color\":\"rgb(36,36,36)\"},\"error_y\":{\"color\":\"rgb(36,36,36)\"},\"marker\":{\"line\":{\"color\":\"white\",\"width\":0.5},\"pattern\":{\"fillmode\":\"overlay\",\"size\":10,\"solidity\":0.2}},\"type\":\"bar\"}],\"carpet\":[{\"aaxis\":{\"endlinecolor\":\"rgb(36,36,36)\",\"gridcolor\":\"white\",\"linecolor\":\"white\",\"minorgridcolor\":\"white\",\"startlinecolor\":\"rgb(36,36,36)\"},\"baxis\":{\"endlinecolor\":\"rgb(36,36,36)\",\"gridcolor\":\"white\",\"linecolor\":\"white\",\"minorgridcolor\":\"white\",\"startlinecolor\":\"rgb(36,36,36)\"},\"type\":\"carpet\"}],\"choropleth\":[{\"colorbar\":{\"outlinewidth\":1,\"tickcolor\":\"rgb(36,36,36)\",\"ticks\":\"outside\"},\"type\":\"choropleth\"}],\"contourcarpet\":[{\"colorbar\":{\"outlinewidth\":1,\"tickcolor\":\"rgb(36,36,36)\",\"ticks\":\"outside\"},\"type\":\"contourcarpet\"}],\"contour\":[{\"colorbar\":{\"outlinewidth\":1,\"tickcolor\":\"rgb(36,36,36)\",\"ticks\":\"outside\"},\"colorscale\":[[0.0,\"#440154\"],[0.1111111111111111,\"#482878\"],[0.2222222222222222,\"#3e4989\"],[0.3333333333333333,\"#31688e\"],[0.4444444444444444,\"#26828e\"],[0.5555555555555556,\"#1f9e89\"],[0.6666666666666666,\"#35b779\"],[0.7777777777777778,\"#6ece58\"],[0.8888888888888888,\"#b5de2b\"],[1.0,\"#fde725\"]],\"type\":\"contour\"}],\"heatmapgl\":[{\"colorbar\":{\"outlinewidth\":1,\"tickcolor\":\"rgb(36,36,36)\",\"ticks\":\"outside\"},\"colorscale\":[[0.0,\"#440154\"],[0.1111111111111111,\"#482878\"],[0.2222222222222222,\"#3e4989\"],[0.3333333333333333,\"#31688e\"],[0.4444444444444444,\"#26828e\"],[0.5555555555555556,\"#1f9e89\"],[0.6666666666666666,\"#35b779\"],[0.7777777777777778,\"#6ece58\"],[0.8888888888888888,\"#b5de2b\"],[1.0,\"#fde725\"]],\"type\":\"heatmapgl\"}],\"heatmap\":[{\"colorbar\":{\"outlinewidth\":1,\"tickcolor\":\"rgb(36,36,36)\",\"ticks\":\"outside\"},\"colorscale\":[[0.0,\"#440154\"],[0.1111111111111111,\"#482878\"],[0.2222222222222222,\"#3e4989\"],[0.3333333333333333,\"#31688e\"],[0.4444444444444444,\"#26828e\"],[0.5555555555555556,\"#1f9e89\"],[0.6666666666666666,\"#35b779\"],[0.7777777777777778,\"#6ece58\"],[0.8888888888888888,\"#b5de2b\"],[1.0,\"#fde725\"]],\"type\":\"heatmap\"}],\"histogram2dcontour\":[{\"colorbar\":{\"outlinewidth\":1,\"tickcolor\":\"rgb(36,36,36)\",\"ticks\":\"outside\"},\"colorscale\":[[0.0,\"#440154\"],[0.1111111111111111,\"#482878\"],[0.2222222222222222,\"#3e4989\"],[0.3333333333333333,\"#31688e\"],[0.4444444444444444,\"#26828e\"],[0.5555555555555556,\"#1f9e89\"],[0.6666666666666666,\"#35b779\"],[0.7777777777777778,\"#6ece58\"],[0.8888888888888888,\"#b5de2b\"],[1.0,\"#fde725\"]],\"type\":\"histogram2dcontour\"}],\"histogram2d\":[{\"colorbar\":{\"outlinewidth\":1,\"tickcolor\":\"rgb(36,36,36)\",\"ticks\":\"outside\"},\"colorscale\":[[0.0,\"#440154\"],[0.1111111111111111,\"#482878\"],[0.2222222222222222,\"#3e4989\"],[0.3333333333333333,\"#31688e\"],[0.4444444444444444,\"#26828e\"],[0.5555555555555556,\"#1f9e89\"],[0.6666666666666666,\"#35b779\"],[0.7777777777777778,\"#6ece58\"],[0.8888888888888888,\"#b5de2b\"],[1.0,\"#fde725\"]],\"type\":\"histogram2d\"}],\"histogram\":[{\"marker\":{\"line\":{\"color\":\"white\",\"width\":0.6}},\"type\":\"histogram\"}],\"mesh3d\":[{\"colorbar\":{\"outlinewidth\":1,\"tickcolor\":\"rgb(36,36,36)\",\"ticks\":\"outside\"},\"type\":\"mesh3d\"}],\"parcoords\":[{\"line\":{\"colorbar\":{\"outlinewidth\":1,\"tickcolor\":\"rgb(36,36,36)\",\"ticks\":\"outside\"}},\"type\":\"parcoords\"}],\"pie\":[{\"automargin\":true,\"type\":\"pie\"}],\"scatter3d\":[{\"line\":{\"colorbar\":{\"outlinewidth\":1,\"tickcolor\":\"rgb(36,36,36)\",\"ticks\":\"outside\"}},\"marker\":{\"colorbar\":{\"outlinewidth\":1,\"tickcolor\":\"rgb(36,36,36)\",\"ticks\":\"outside\"}},\"type\":\"scatter3d\"}],\"scattercarpet\":[{\"marker\":{\"colorbar\":{\"outlinewidth\":1,\"tickcolor\":\"rgb(36,36,36)\",\"ticks\":\"outside\"}},\"type\":\"scattercarpet\"}],\"scattergeo\":[{\"marker\":{\"colorbar\":{\"outlinewidth\":1,\"tickcolor\":\"rgb(36,36,36)\",\"ticks\":\"outside\"}},\"type\":\"scattergeo\"}],\"scattergl\":[{\"marker\":{\"colorbar\":{\"outlinewidth\":1,\"tickcolor\":\"rgb(36,36,36)\",\"ticks\":\"outside\"}},\"type\":\"scattergl\"}],\"scattermapbox\":[{\"marker\":{\"colorbar\":{\"outlinewidth\":1,\"tickcolor\":\"rgb(36,36,36)\",\"ticks\":\"outside\"}},\"type\":\"scattermapbox\"}],\"scatterpolargl\":[{\"marker\":{\"colorbar\":{\"outlinewidth\":1,\"tickcolor\":\"rgb(36,36,36)\",\"ticks\":\"outside\"}},\"type\":\"scatterpolargl\"}],\"scatterpolar\":[{\"marker\":{\"colorbar\":{\"outlinewidth\":1,\"tickcolor\":\"rgb(36,36,36)\",\"ticks\":\"outside\"}},\"type\":\"scatterpolar\"}],\"scatter\":[{\"fillpattern\":{\"fillmode\":\"overlay\",\"size\":10,\"solidity\":0.2},\"type\":\"scatter\"}],\"scatterternary\":[{\"marker\":{\"colorbar\":{\"outlinewidth\":1,\"tickcolor\":\"rgb(36,36,36)\",\"ticks\":\"outside\"}},\"type\":\"scatterternary\"}],\"surface\":[{\"colorbar\":{\"outlinewidth\":1,\"tickcolor\":\"rgb(36,36,36)\",\"ticks\":\"outside\"},\"colorscale\":[[0.0,\"#440154\"],[0.1111111111111111,\"#482878\"],[0.2222222222222222,\"#3e4989\"],[0.3333333333333333,\"#31688e\"],[0.4444444444444444,\"#26828e\"],[0.5555555555555556,\"#1f9e89\"],[0.6666666666666666,\"#35b779\"],[0.7777777777777778,\"#6ece58\"],[0.8888888888888888,\"#b5de2b\"],[1.0,\"#fde725\"]],\"type\":\"surface\"}],\"table\":[{\"cells\":{\"fill\":{\"color\":\"rgb(237,237,237)\"},\"line\":{\"color\":\"white\"}},\"header\":{\"fill\":{\"color\":\"rgb(217,217,217)\"},\"line\":{\"color\":\"white\"}},\"type\":\"table\"}]},\"layout\":{\"annotationdefaults\":{\"arrowhead\":0,\"arrowwidth\":1},\"autotypenumbers\":\"strict\",\"coloraxis\":{\"colorbar\":{\"outlinewidth\":1,\"tickcolor\":\"rgb(36,36,36)\",\"ticks\":\"outside\"}},\"colorscale\":{\"diverging\":[[0.0,\"rgb(103,0,31)\"],[0.1,\"rgb(178,24,43)\"],[0.2,\"rgb(214,96,77)\"],[0.3,\"rgb(244,165,130)\"],[0.4,\"rgb(253,219,199)\"],[0.5,\"rgb(247,247,247)\"],[0.6,\"rgb(209,229,240)\"],[0.7,\"rgb(146,197,222)\"],[0.8,\"rgb(67,147,195)\"],[0.9,\"rgb(33,102,172)\"],[1.0,\"rgb(5,48,97)\"]],\"sequential\":[[0.0,\"#440154\"],[0.1111111111111111,\"#482878\"],[0.2222222222222222,\"#3e4989\"],[0.3333333333333333,\"#31688e\"],[0.4444444444444444,\"#26828e\"],[0.5555555555555556,\"#1f9e89\"],[0.6666666666666666,\"#35b779\"],[0.7777777777777778,\"#6ece58\"],[0.8888888888888888,\"#b5de2b\"],[1.0,\"#fde725\"]],\"sequentialminus\":[[0.0,\"#440154\"],[0.1111111111111111,\"#482878\"],[0.2222222222222222,\"#3e4989\"],[0.3333333333333333,\"#31688e\"],[0.4444444444444444,\"#26828e\"],[0.5555555555555556,\"#1f9e89\"],[0.6666666666666666,\"#35b779\"],[0.7777777777777778,\"#6ece58\"],[0.8888888888888888,\"#b5de2b\"],[1.0,\"#fde725\"]]},\"colorway\":[\"#1F77B4\",\"#FF7F0E\",\"#2CA02C\",\"#D62728\",\"#9467BD\",\"#8C564B\",\"#E377C2\",\"#7F7F7F\",\"#BCBD22\",\"#17BECF\"],\"font\":{\"color\":\"rgb(36,36,36)\"},\"geo\":{\"bgcolor\":\"white\",\"lakecolor\":\"white\",\"landcolor\":\"white\",\"showlakes\":true,\"showland\":true,\"subunitcolor\":\"white\"},\"hoverlabel\":{\"align\":\"left\"},\"hovermode\":\"closest\",\"mapbox\":{\"style\":\"light\"},\"paper_bgcolor\":\"white\",\"plot_bgcolor\":\"white\",\"polar\":{\"angularaxis\":{\"gridcolor\":\"rgb(232,232,232)\",\"linecolor\":\"rgb(36,36,36)\",\"showgrid\":false,\"showline\":true,\"ticks\":\"outside\"},\"bgcolor\":\"white\",\"radialaxis\":{\"gridcolor\":\"rgb(232,232,232)\",\"linecolor\":\"rgb(36,36,36)\",\"showgrid\":false,\"showline\":true,\"ticks\":\"outside\"}},\"scene\":{\"xaxis\":{\"backgroundcolor\":\"white\",\"gridcolor\":\"rgb(232,232,232)\",\"gridwidth\":2,\"linecolor\":\"rgb(36,36,36)\",\"showbackground\":true,\"showgrid\":false,\"showline\":true,\"ticks\":\"outside\",\"zeroline\":false,\"zerolinecolor\":\"rgb(36,36,36)\"},\"yaxis\":{\"backgroundcolor\":\"white\",\"gridcolor\":\"rgb(232,232,232)\",\"gridwidth\":2,\"linecolor\":\"rgb(36,36,36)\",\"showbackground\":true,\"showgrid\":false,\"showline\":true,\"ticks\":\"outside\",\"zeroline\":false,\"zerolinecolor\":\"rgb(36,36,36)\"},\"zaxis\":{\"backgroundcolor\":\"white\",\"gridcolor\":\"rgb(232,232,232)\",\"gridwidth\":2,\"linecolor\":\"rgb(36,36,36)\",\"showbackground\":true,\"showgrid\":false,\"showline\":true,\"ticks\":\"outside\",\"zeroline\":false,\"zerolinecolor\":\"rgb(36,36,36)\"}},\"shapedefaults\":{\"fillcolor\":\"black\",\"line\":{\"width\":0},\"opacity\":0.3},\"ternary\":{\"aaxis\":{\"gridcolor\":\"rgb(232,232,232)\",\"linecolor\":\"rgb(36,36,36)\",\"showgrid\":false,\"showline\":true,\"ticks\":\"outside\"},\"baxis\":{\"gridcolor\":\"rgb(232,232,232)\",\"linecolor\":\"rgb(36,36,36)\",\"showgrid\":false,\"showline\":true,\"ticks\":\"outside\"},\"bgcolor\":\"white\",\"caxis\":{\"gridcolor\":\"rgb(232,232,232)\",\"linecolor\":\"rgb(36,36,36)\",\"showgrid\":false,\"showline\":true,\"ticks\":\"outside\"}},\"title\":{\"x\":0.05},\"xaxis\":{\"automargin\":true,\"gridcolor\":\"rgb(232,232,232)\",\"linecolor\":\"rgb(36,36,36)\",\"showgrid\":false,\"showline\":true,\"ticks\":\"outside\",\"title\":{\"standoff\":15},\"zeroline\":false,\"zerolinecolor\":\"rgb(36,36,36)\"},\"yaxis\":{\"automargin\":true,\"gridcolor\":\"rgb(232,232,232)\",\"linecolor\":\"rgb(36,36,36)\",\"showgrid\":false,\"showline\":true,\"ticks\":\"outside\",\"title\":{\"standoff\":15},\"zeroline\":false,\"zerolinecolor\":\"rgb(36,36,36)\"}}},\"xaxis\":{\"anchor\":\"y\",\"domain\":[0.0,1.0],\"title\":{\"text\":\"x\"}},\"yaxis\":{\"anchor\":\"x\",\"domain\":[0.0,1.0],\"title\":{\"text\":\"count\"}},\"legend\":{\"tracegroupgap\":0},\"title\":{\"text\":\"Count Plot of Image Labels\"},\"barmode\":\"relative\"},                        {\"responsive\": true}                    ).then(function(){\n",
       "                            \n",
       "var gd = document.getElementById('b7dea12b-1dc8-4e86-873a-9083ff5f966a');\n",
       "var x = new MutationObserver(function (mutations, observer) {{\n",
       "        var display = window.getComputedStyle(gd).display;\n",
       "        if (!display || display === 'none') {{\n",
       "            console.log([gd, 'removed!']);\n",
       "            Plotly.purge(gd);\n",
       "            observer.disconnect();\n",
       "        }}\n",
       "}});\n",
       "\n",
       "// Listen for the removal of the full notebook cells\n",
       "var notebookContainer = gd.closest('#notebook-container');\n",
       "if (notebookContainer) {{\n",
       "    x.observe(notebookContainer, {childList: true});\n",
       "}}\n",
       "\n",
       "// Listen for the clearing of the current output cell\n",
       "var outputEl = gd.closest('.output');\n",
       "if (outputEl) {{\n",
       "    x.observe(outputEl, {childList: true});\n",
       "}}\n",
       "\n",
       "                        })                };                });            </script>        </div>"
      ]
     },
     "metadata": {},
     "output_type": "display_data"
    }
   ],
   "source": [
    "px.histogram(x=y_train, template='simple_white', title='Count Plot of Image Labels')"
   ]
  },
  {
   "cell_type": "markdown",
   "id": "c31b1017",
   "metadata": {
    "papermill": {
     "duration": 0.00948,
     "end_time": "2022-08-07T15:36:10.051677",
     "exception": false,
     "start_time": "2022-08-07T15:36:10.042197",
     "status": "completed"
    },
    "tags": []
   },
   "source": [
    "We are dividing the variables by 255 in order to scale them down within a certain range which will help the model converge faster and hence reduce the training time."
   ]
  },
  {
   "cell_type": "code",
   "execution_count": 9,
   "id": "21da22c4",
   "metadata": {
    "execution": {
     "iopub.execute_input": "2022-08-07T15:36:10.072530Z",
     "iopub.status.busy": "2022-08-07T15:36:10.072195Z",
     "iopub.status.idle": "2022-08-07T15:36:10.208437Z",
     "shell.execute_reply": "2022-08-07T15:36:10.207447Z"
    },
    "id": "dJmO2WLlRRT1",
    "papermill": {
     "duration": 0.149586,
     "end_time": "2022-08-07T15:36:10.210801",
     "exception": false,
     "start_time": "2022-08-07T15:36:10.061215",
     "status": "completed"
    },
    "tags": []
   },
   "outputs": [],
   "source": [
    "X_train = X_train/255\n",
    "X_test = X_test/255"
   ]
  },
  {
   "cell_type": "code",
   "execution_count": 10,
   "id": "372fa5c1",
   "metadata": {
    "execution": {
     "iopub.execute_input": "2022-08-07T15:36:10.232504Z",
     "iopub.status.busy": "2022-08-07T15:36:10.232178Z",
     "iopub.status.idle": "2022-08-07T15:36:10.238004Z",
     "shell.execute_reply": "2022-08-07T15:36:10.237119Z"
    },
    "id": "i1WA9FioRdtB",
    "outputId": "5743362a-3ff6-4e8c-ae87-9849834e9bd3",
    "papermill": {
     "duration": 0.019223,
     "end_time": "2022-08-07T15:36:10.240031",
     "exception": false,
     "start_time": "2022-08-07T15:36:10.220808",
     "status": "completed"
    },
    "tags": []
   },
   "outputs": [
    {
     "data": {
      "text/plain": [
       "(10000, 28, 28)"
      ]
     },
     "execution_count": 10,
     "metadata": {},
     "output_type": "execute_result"
    }
   ],
   "source": [
    "X_test.shape"
   ]
  },
  {
   "cell_type": "markdown",
   "id": "d47ba012",
   "metadata": {
    "papermill": {
     "duration": 0.009663,
     "end_time": "2022-08-07T15:36:10.259287",
     "exception": false,
     "start_time": "2022-08-07T15:36:10.249624",
     "status": "completed"
    },
    "tags": []
   },
   "source": [
    "## Building an ANN"
   ]
  },
  {
   "cell_type": "markdown",
   "id": "d1271dba",
   "metadata": {
    "papermill": {
     "duration": 0.0095,
     "end_time": "2022-08-07T15:36:10.278500",
     "exception": false,
     "start_time": "2022-08-07T15:36:10.269000",
     "status": "completed"
    },
    "tags": []
   },
   "source": [
    "The model that we are building is a very simple one that contains 1 input layers that takes the data where the intial weights and biases are assumed at the beginning of the training and using the `relu` function the activation is done which then becomes the input for the second layer aka Hidden Layer where we have given 32 nodes. \n",
    "\n",
    "Next is a `dropout` layer which will randomly turn of the nodes in the hidden layer and this is being done to reduce the overfitting our model is likely to do. We then enter the `output` layer which basically has 10 nodes for 10 outputs of our mutliclass classification problem "
   ]
  },
  {
   "cell_type": "code",
   "execution_count": 11,
   "id": "6b48f959",
   "metadata": {
    "execution": {
     "iopub.execute_input": "2022-08-07T15:36:10.299264Z",
     "iopub.status.busy": "2022-08-07T15:36:10.298932Z",
     "iopub.status.idle": "2022-08-07T15:36:13.324270Z",
     "shell.execute_reply": "2022-08-07T15:36:13.323271Z"
    },
    "id": "jr78UU88Rzm6",
    "papermill": {
     "duration": 3.03883,
     "end_time": "2022-08-07T15:36:13.326970",
     "exception": false,
     "start_time": "2022-08-07T15:36:10.288140",
     "status": "completed"
    },
    "tags": []
   },
   "outputs": [
    {
     "name": "stderr",
     "output_type": "stream",
     "text": [
      "2022-08-07 15:36:10.387954: I tensorflow/stream_executor/cuda/cuda_gpu_executor.cc:937] successful NUMA node read from SysFS had negative value (-1), but there must be at least one NUMA node, so returning NUMA node zero\n",
      "2022-08-07 15:36:10.393117: I tensorflow/stream_executor/cuda/cuda_gpu_executor.cc:937] successful NUMA node read from SysFS had negative value (-1), but there must be at least one NUMA node, so returning NUMA node zero\n",
      "2022-08-07 15:36:10.393810: I tensorflow/stream_executor/cuda/cuda_gpu_executor.cc:937] successful NUMA node read from SysFS had negative value (-1), but there must be at least one NUMA node, so returning NUMA node zero\n",
      "2022-08-07 15:36:10.395735: I tensorflow/core/platform/cpu_feature_guard.cc:142] This TensorFlow binary is optimized with oneAPI Deep Neural Network Library (oneDNN) to use the following CPU instructions in performance-critical operations:  AVX2 AVX512F FMA\n",
      "To enable them in other operations, rebuild TensorFlow with the appropriate compiler flags.\n",
      "2022-08-07 15:36:10.396062: I tensorflow/stream_executor/cuda/cuda_gpu_executor.cc:937] successful NUMA node read from SysFS had negative value (-1), but there must be at least one NUMA node, so returning NUMA node zero\n",
      "2022-08-07 15:36:10.396972: I tensorflow/stream_executor/cuda/cuda_gpu_executor.cc:937] successful NUMA node read from SysFS had negative value (-1), but there must be at least one NUMA node, so returning NUMA node zero\n",
      "2022-08-07 15:36:10.397816: I tensorflow/stream_executor/cuda/cuda_gpu_executor.cc:937] successful NUMA node read from SysFS had negative value (-1), but there must be at least one NUMA node, so returning NUMA node zero\n",
      "2022-08-07 15:36:12.842268: I tensorflow/stream_executor/cuda/cuda_gpu_executor.cc:937] successful NUMA node read from SysFS had negative value (-1), but there must be at least one NUMA node, so returning NUMA node zero\n",
      "2022-08-07 15:36:12.843371: I tensorflow/stream_executor/cuda/cuda_gpu_executor.cc:937] successful NUMA node read from SysFS had negative value (-1), but there must be at least one NUMA node, so returning NUMA node zero\n",
      "2022-08-07 15:36:12.844309: I tensorflow/stream_executor/cuda/cuda_gpu_executor.cc:937] successful NUMA node read from SysFS had negative value (-1), but there must be at least one NUMA node, so returning NUMA node zero\n",
      "2022-08-07 15:36:12.845259: I tensorflow/core/common_runtime/gpu/gpu_device.cc:1510] Created device /job:localhost/replica:0/task:0/device:GPU:0 with 15385 MB memory:  -> device: 0, name: Tesla P100-PCIE-16GB, pci bus id: 0000:00:04.0, compute capability: 6.0\n"
     ]
    }
   ],
   "source": [
    "model = Sequential()\n",
    "model.add(Flatten(input_shape=(28,28))) #Flattening the data\n",
    "model.add(Dense(128,activation='relu')) #input layer\n",
    "model.add(Dropout(0.5))\n",
    "model.add(Dense(32,activation='relu'))  #Hidden Layer\n",
    "model.add(Dense(10,activation='softmax'))  #Output Layer"
   ]
  },
  {
   "cell_type": "code",
   "execution_count": 12,
   "id": "69aa400f",
   "metadata": {
    "execution": {
     "iopub.execute_input": "2022-08-07T15:36:13.350736Z",
     "iopub.status.busy": "2022-08-07T15:36:13.349770Z",
     "iopub.status.idle": "2022-08-07T15:36:13.356181Z",
     "shell.execute_reply": "2022-08-07T15:36:13.355263Z"
    },
    "papermill": {
     "duration": 0.020695,
     "end_time": "2022-08-07T15:36:13.358783",
     "exception": false,
     "start_time": "2022-08-07T15:36:13.338088",
     "status": "completed"
    },
    "tags": []
   },
   "outputs": [
    {
     "name": "stdout",
     "output_type": "stream",
     "text": [
      "Model: \"sequential\"\n",
      "_________________________________________________________________\n",
      "Layer (type)                 Output Shape              Param #   \n",
      "=================================================================\n",
      "flatten (Flatten)            (None, 784)               0         \n",
      "_________________________________________________________________\n",
      "dense (Dense)                (None, 128)               100480    \n",
      "_________________________________________________________________\n",
      "dropout (Dropout)            (None, 128)               0         \n",
      "_________________________________________________________________\n",
      "dense_1 (Dense)              (None, 32)                4128      \n",
      "_________________________________________________________________\n",
      "dense_2 (Dense)              (None, 10)                330       \n",
      "=================================================================\n",
      "Total params: 104,938\n",
      "Trainable params: 104,938\n",
      "Non-trainable params: 0\n",
      "_________________________________________________________________\n"
     ]
    }
   ],
   "source": [
    "model.summary()"
   ]
  },
  {
   "cell_type": "markdown",
   "id": "327129a1",
   "metadata": {
    "papermill": {
     "duration": 0.010055,
     "end_time": "2022-08-07T15:36:13.379863",
     "exception": false,
     "start_time": "2022-08-07T15:36:13.369808",
     "status": "completed"
    },
    "tags": []
   },
   "source": [
    "Keras is setting the initial weights and biases which we can see below. These will later on be updated using `Backpropogation` and `Gradient Descent` and will keep on updating until convergence happens which means the loss is minimum but at the same time its also critical to understand if the data will overfit or not. Below is how the weights and biases are updated and this is what in Deep Learning is termed as `Backpropogation` \n",
    "\n",
    "![](https://miro.medium.com/max/1838/1*diQ7YbcLAZvqTMSOU8TYNw.png)"
   ]
  },
  {
   "cell_type": "code",
   "execution_count": 13,
   "id": "22135c34",
   "metadata": {
    "execution": {
     "iopub.execute_input": "2022-08-07T15:36:13.401213Z",
     "iopub.status.busy": "2022-08-07T15:36:13.400906Z",
     "iopub.status.idle": "2022-08-07T15:36:13.412469Z",
     "shell.execute_reply": "2022-08-07T15:36:13.411594Z"
    },
    "papermill": {
     "duration": 0.024334,
     "end_time": "2022-08-07T15:36:13.414457",
     "exception": false,
     "start_time": "2022-08-07T15:36:13.390123",
     "status": "completed"
    },
    "tags": []
   },
   "outputs": [
    {
     "data": {
      "text/plain": [
       "array([[-0.02718629, -0.0647923 , -0.0372516 , ..., -0.06734698,\n",
       "         0.02837344,  0.04124416],\n",
       "       [ 0.0710878 , -0.03026835,  0.00799256, ...,  0.00871198,\n",
       "        -0.07072295, -0.03283431],\n",
       "       [-0.02346722, -0.07424184,  0.05028134, ...,  0.04734234,\n",
       "        -0.02863604, -0.01078977],\n",
       "       ...,\n",
       "       [-0.02230555,  0.02042565,  0.05739499, ..., -0.03232064,\n",
       "        -0.07231128,  0.01791251],\n",
       "       [ 0.07806935,  0.02666786,  0.05071706, ..., -0.02777645,\n",
       "         0.07842319,  0.07944251],\n",
       "       [-0.06594387,  0.03122091,  0.0746313 , ...,  0.07687151,\n",
       "        -0.01247216, -0.02452127]], dtype=float32)"
      ]
     },
     "execution_count": 13,
     "metadata": {},
     "output_type": "execute_result"
    }
   ],
   "source": [
    "model.get_weights()[0]  #weights"
   ]
  },
  {
   "cell_type": "code",
   "execution_count": 14,
   "id": "d2d13ef6",
   "metadata": {
    "execution": {
     "iopub.execute_input": "2022-08-07T15:36:13.436560Z",
     "iopub.status.busy": "2022-08-07T15:36:13.436284Z",
     "iopub.status.idle": "2022-08-07T15:36:13.446725Z",
     "shell.execute_reply": "2022-08-07T15:36:13.445867Z"
    },
    "papermill": {
     "duration": 0.023501,
     "end_time": "2022-08-07T15:36:13.448715",
     "exception": false,
     "start_time": "2022-08-07T15:36:13.425214",
     "status": "completed"
    },
    "tags": []
   },
   "outputs": [
    {
     "data": {
      "text/plain": [
       "array([0., 0., 0., 0., 0., 0., 0., 0., 0., 0., 0., 0., 0., 0., 0., 0., 0.,\n",
       "       0., 0., 0., 0., 0., 0., 0., 0., 0., 0., 0., 0., 0., 0., 0., 0., 0.,\n",
       "       0., 0., 0., 0., 0., 0., 0., 0., 0., 0., 0., 0., 0., 0., 0., 0., 0.,\n",
       "       0., 0., 0., 0., 0., 0., 0., 0., 0., 0., 0., 0., 0., 0., 0., 0., 0.,\n",
       "       0., 0., 0., 0., 0., 0., 0., 0., 0., 0., 0., 0., 0., 0., 0., 0., 0.,\n",
       "       0., 0., 0., 0., 0., 0., 0., 0., 0., 0., 0., 0., 0., 0., 0., 0., 0.,\n",
       "       0., 0., 0., 0., 0., 0., 0., 0., 0., 0., 0., 0., 0., 0., 0., 0., 0.,\n",
       "       0., 0., 0., 0., 0., 0., 0., 0., 0.], dtype=float32)"
      ]
     },
     "execution_count": 14,
     "metadata": {},
     "output_type": "execute_result"
    }
   ],
   "source": [
    "model.get_weights()[1] #biases"
   ]
  },
  {
   "cell_type": "markdown",
   "id": "920de519",
   "metadata": {
    "papermill": {
     "duration": 0.009934,
     "end_time": "2022-08-07T15:36:13.468912",
     "exception": false,
     "start_time": "2022-08-07T15:36:13.458978",
     "status": "completed"
    },
    "tags": []
   },
   "source": [
    "We have taken `sparse_categorical_crossentropy` because it's faster as opposed to `categorical_crossentropy` since we don't need to OneHotEncode the data manually.\n",
    "\n",
    "We can use `sparse_categorical_crossentropy` when your classes are mutually exclusive (e.g. when each sample belongs exactly to one class) and `categorical_crossentropy` when one sample can have multiple classes (e.g MNIST dataset) or labels are soft probabilities (like [0.5, 0.3, 0.2]).\n",
    "\n",
    "We are also using the `Early Stopping` technique to ensure the data doesn't overfit and `Keras` stops the training when the model start to overfit the data. We use this technique by passing the `callbacks` argument"
   ]
  },
  {
   "cell_type": "code",
   "execution_count": 15,
   "id": "19c9f683",
   "metadata": {
    "execution": {
     "iopub.execute_input": "2022-08-07T15:36:13.490902Z",
     "iopub.status.busy": "2022-08-07T15:36:13.490616Z",
     "iopub.status.idle": "2022-08-07T15:36:13.504175Z",
     "shell.execute_reply": "2022-08-07T15:36:13.503362Z"
    },
    "id": "0yC51WgjSsLV",
    "papermill": {
     "duration": 0.027129,
     "end_time": "2022-08-07T15:36:13.506158",
     "exception": false,
     "start_time": "2022-08-07T15:36:13.479029",
     "status": "completed"
    },
    "tags": []
   },
   "outputs": [],
   "source": [
    "optimizer = keras.optimizers.Adam(learning_rate=0.01)\n",
    "callback = EarlyStopping(\n",
    "    monitor=\"val_loss\",\n",
    "    min_delta=0.0001,\n",
    "    patience=5,\n",
    "    verbose=1,\n",
    "    mode=\"auto\",\n",
    "    baseline=None,\n",
    "    restore_best_weights=False\n",
    ")\n",
    "model.compile(loss='sparse_categorical_crossentropy',optimizer=optimizer,metrics=['accuracy'])"
   ]
  },
  {
   "cell_type": "code",
   "execution_count": 16,
   "id": "b4d8abf9",
   "metadata": {
    "execution": {
     "iopub.execute_input": "2022-08-07T15:36:13.527930Z",
     "iopub.status.busy": "2022-08-07T15:36:13.527128Z",
     "iopub.status.idle": "2022-08-07T15:37:04.105008Z",
     "shell.execute_reply": "2022-08-07T15:37:04.104026Z"
    },
    "id": "L-fkwmIvWT8M",
    "outputId": "9d3e296b-fa73-410b-dd18-9fb2493ff4a7",
    "papermill": {
     "duration": 50.59823,
     "end_time": "2022-08-07T15:37:04.114377",
     "exception": false,
     "start_time": "2022-08-07T15:36:13.516147",
     "status": "completed"
    },
    "tags": []
   },
   "outputs": [
    {
     "name": "stderr",
     "output_type": "stream",
     "text": [
      "2022-08-07 15:36:13.929111: I tensorflow/compiler/mlir/mlir_graph_optimization_pass.cc:185] None of the MLIR Optimization Passes are enabled (registered 2)\n"
     ]
    },
    {
     "name": "stdout",
     "output_type": "stream",
     "text": [
      "Epoch 00018: early stopping\n"
     ]
    }
   ],
   "source": [
    "history = model.fit(X_train,y_train,epochs=25,validation_split=0.2, verbose=0, callbacks=callback)"
   ]
  },
  {
   "cell_type": "markdown",
   "id": "ec62c286",
   "metadata": {
    "papermill": {
     "duration": 0.010082,
     "end_time": "2022-08-07T15:37:04.135216",
     "exception": false,
     "start_time": "2022-08-07T15:37:04.125134",
     "status": "completed"
    },
    "tags": []
   },
   "source": [
    "We can check the training  stats from the code below. Epochs for the training can be checked using `history.epoch`. Loss can be checked by `history.history['loss']` and `history.history['val_loss']`."
   ]
  },
  {
   "cell_type": "code",
   "execution_count": 17,
   "id": "fba26b33",
   "metadata": {
    "execution": {
     "iopub.execute_input": "2022-08-07T15:37:04.157624Z",
     "iopub.status.busy": "2022-08-07T15:37:04.156728Z",
     "iopub.status.idle": "2022-08-07T15:37:04.163519Z",
     "shell.execute_reply": "2022-08-07T15:37:04.162499Z"
    },
    "papermill": {
     "duration": 0.020465,
     "end_time": "2022-08-07T15:37:04.165846",
     "exception": false,
     "start_time": "2022-08-07T15:37:04.145381",
     "status": "completed"
    },
    "tags": []
   },
   "outputs": [
    {
     "data": {
      "text/plain": [
       "[0, 1, 2, 3, 4, 5, 6, 7, 8, 9, 10, 11, 12, 13, 14, 15, 16, 17]"
      ]
     },
     "execution_count": 17,
     "metadata": {},
     "output_type": "execute_result"
    }
   ],
   "source": [
    "history.epoch"
   ]
  },
  {
   "cell_type": "markdown",
   "id": "6db4b3e4",
   "metadata": {
    "papermill": {
     "duration": 0.010149,
     "end_time": "2022-08-07T15:37:04.186609",
     "exception": false,
     "start_time": "2022-08-07T15:37:04.176460",
     "status": "completed"
    },
    "tags": []
   },
   "source": [
    "### Plotting the Loss Plot"
   ]
  },
  {
   "cell_type": "code",
   "execution_count": 18,
   "id": "d2612996",
   "metadata": {
    "execution": {
     "iopub.execute_input": "2022-08-07T15:37:04.209790Z",
     "iopub.status.busy": "2022-08-07T15:37:04.208918Z",
     "iopub.status.idle": "2022-08-07T15:37:04.316089Z",
     "shell.execute_reply": "2022-08-07T15:37:04.315194Z"
    },
    "papermill": {
     "duration": 0.120936,
     "end_time": "2022-08-07T15:37:04.318005",
     "exception": false,
     "start_time": "2022-08-07T15:37:04.197069",
     "status": "completed"
    },
    "tags": []
   },
   "outputs": [
    {
     "data": {
      "text/html": [
       "<div>                            <div id=\"79a1ae50-a102-4dfe-8225-3dc9b1e038b5\" class=\"plotly-graph-div\" style=\"height:525px; width:100%;\"></div>            <script type=\"text/javascript\">                require([\"plotly\"], function(Plotly) {                    window.PLOTLYENV=window.PLOTLYENV || {};                                    if (document.getElementById(\"79a1ae50-a102-4dfe-8225-3dc9b1e038b5\")) {                    Plotly.newPlot(                        \"79a1ae50-a102-4dfe-8225-3dc9b1e038b5\",                        [{\"hovertemplate\":\"x=%{x}<br>y=%{y}<extra></extra>\",\"legendgroup\":\"\",\"line\":{\"color\":\"#1F77B4\",\"dash\":\"solid\"},\"marker\":{\"symbol\":\"circle\"},\"mode\":\"lines\",\"name\":\"\",\"orientation\":\"v\",\"showlegend\":false,\"x\":[0,1,2,3,4,5,6,7,8,9,10,11,12,13,14,15,16,17],\"xaxis\":\"x\",\"y\":[0.5584392547607422,0.42070111632347107,0.39140182733535767,0.3696761131286621,0.36308833956718445,0.35552579164505005,0.3406555652618408,0.3300594687461853,0.33348187804222107,0.3190480172634125,0.32498282194137573,0.31110531091690063,0.32223597168922424,0.306021511554718,0.31614217162132263,0.30759546160697937,0.29619982838630676,0.3068969249725342],\"yaxis\":\"y\",\"type\":\"scatter\"}],                        {\"template\":{\"data\":{\"barpolar\":[{\"marker\":{\"line\":{\"color\":\"white\",\"width\":0.5},\"pattern\":{\"fillmode\":\"overlay\",\"size\":10,\"solidity\":0.2}},\"type\":\"barpolar\"}],\"bar\":[{\"error_x\":{\"color\":\"rgb(36,36,36)\"},\"error_y\":{\"color\":\"rgb(36,36,36)\"},\"marker\":{\"line\":{\"color\":\"white\",\"width\":0.5},\"pattern\":{\"fillmode\":\"overlay\",\"size\":10,\"solidity\":0.2}},\"type\":\"bar\"}],\"carpet\":[{\"aaxis\":{\"endlinecolor\":\"rgb(36,36,36)\",\"gridcolor\":\"white\",\"linecolor\":\"white\",\"minorgridcolor\":\"white\",\"startlinecolor\":\"rgb(36,36,36)\"},\"baxis\":{\"endlinecolor\":\"rgb(36,36,36)\",\"gridcolor\":\"white\",\"linecolor\":\"white\",\"minorgridcolor\":\"white\",\"startlinecolor\":\"rgb(36,36,36)\"},\"type\":\"carpet\"}],\"choropleth\":[{\"colorbar\":{\"outlinewidth\":1,\"tickcolor\":\"rgb(36,36,36)\",\"ticks\":\"outside\"},\"type\":\"choropleth\"}],\"contourcarpet\":[{\"colorbar\":{\"outlinewidth\":1,\"tickcolor\":\"rgb(36,36,36)\",\"ticks\":\"outside\"},\"type\":\"contourcarpet\"}],\"contour\":[{\"colorbar\":{\"outlinewidth\":1,\"tickcolor\":\"rgb(36,36,36)\",\"ticks\":\"outside\"},\"colorscale\":[[0.0,\"#440154\"],[0.1111111111111111,\"#482878\"],[0.2222222222222222,\"#3e4989\"],[0.3333333333333333,\"#31688e\"],[0.4444444444444444,\"#26828e\"],[0.5555555555555556,\"#1f9e89\"],[0.6666666666666666,\"#35b779\"],[0.7777777777777778,\"#6ece58\"],[0.8888888888888888,\"#b5de2b\"],[1.0,\"#fde725\"]],\"type\":\"contour\"}],\"heatmapgl\":[{\"colorbar\":{\"outlinewidth\":1,\"tickcolor\":\"rgb(36,36,36)\",\"ticks\":\"outside\"},\"colorscale\":[[0.0,\"#440154\"],[0.1111111111111111,\"#482878\"],[0.2222222222222222,\"#3e4989\"],[0.3333333333333333,\"#31688e\"],[0.4444444444444444,\"#26828e\"],[0.5555555555555556,\"#1f9e89\"],[0.6666666666666666,\"#35b779\"],[0.7777777777777778,\"#6ece58\"],[0.8888888888888888,\"#b5de2b\"],[1.0,\"#fde725\"]],\"type\":\"heatmapgl\"}],\"heatmap\":[{\"colorbar\":{\"outlinewidth\":1,\"tickcolor\":\"rgb(36,36,36)\",\"ticks\":\"outside\"},\"colorscale\":[[0.0,\"#440154\"],[0.1111111111111111,\"#482878\"],[0.2222222222222222,\"#3e4989\"],[0.3333333333333333,\"#31688e\"],[0.4444444444444444,\"#26828e\"],[0.5555555555555556,\"#1f9e89\"],[0.6666666666666666,\"#35b779\"],[0.7777777777777778,\"#6ece58\"],[0.8888888888888888,\"#b5de2b\"],[1.0,\"#fde725\"]],\"type\":\"heatmap\"}],\"histogram2dcontour\":[{\"colorbar\":{\"outlinewidth\":1,\"tickcolor\":\"rgb(36,36,36)\",\"ticks\":\"outside\"},\"colorscale\":[[0.0,\"#440154\"],[0.1111111111111111,\"#482878\"],[0.2222222222222222,\"#3e4989\"],[0.3333333333333333,\"#31688e\"],[0.4444444444444444,\"#26828e\"],[0.5555555555555556,\"#1f9e89\"],[0.6666666666666666,\"#35b779\"],[0.7777777777777778,\"#6ece58\"],[0.8888888888888888,\"#b5de2b\"],[1.0,\"#fde725\"]],\"type\":\"histogram2dcontour\"}],\"histogram2d\":[{\"colorbar\":{\"outlinewidth\":1,\"tickcolor\":\"rgb(36,36,36)\",\"ticks\":\"outside\"},\"colorscale\":[[0.0,\"#440154\"],[0.1111111111111111,\"#482878\"],[0.2222222222222222,\"#3e4989\"],[0.3333333333333333,\"#31688e\"],[0.4444444444444444,\"#26828e\"],[0.5555555555555556,\"#1f9e89\"],[0.6666666666666666,\"#35b779\"],[0.7777777777777778,\"#6ece58\"],[0.8888888888888888,\"#b5de2b\"],[1.0,\"#fde725\"]],\"type\":\"histogram2d\"}],\"histogram\":[{\"marker\":{\"line\":{\"color\":\"white\",\"width\":0.6}},\"type\":\"histogram\"}],\"mesh3d\":[{\"colorbar\":{\"outlinewidth\":1,\"tickcolor\":\"rgb(36,36,36)\",\"ticks\":\"outside\"},\"type\":\"mesh3d\"}],\"parcoords\":[{\"line\":{\"colorbar\":{\"outlinewidth\":1,\"tickcolor\":\"rgb(36,36,36)\",\"ticks\":\"outside\"}},\"type\":\"parcoords\"}],\"pie\":[{\"automargin\":true,\"type\":\"pie\"}],\"scatter3d\":[{\"line\":{\"colorbar\":{\"outlinewidth\":1,\"tickcolor\":\"rgb(36,36,36)\",\"ticks\":\"outside\"}},\"marker\":{\"colorbar\":{\"outlinewidth\":1,\"tickcolor\":\"rgb(36,36,36)\",\"ticks\":\"outside\"}},\"type\":\"scatter3d\"}],\"scattercarpet\":[{\"marker\":{\"colorbar\":{\"outlinewidth\":1,\"tickcolor\":\"rgb(36,36,36)\",\"ticks\":\"outside\"}},\"type\":\"scattercarpet\"}],\"scattergeo\":[{\"marker\":{\"colorbar\":{\"outlinewidth\":1,\"tickcolor\":\"rgb(36,36,36)\",\"ticks\":\"outside\"}},\"type\":\"scattergeo\"}],\"scattergl\":[{\"marker\":{\"colorbar\":{\"outlinewidth\":1,\"tickcolor\":\"rgb(36,36,36)\",\"ticks\":\"outside\"}},\"type\":\"scattergl\"}],\"scattermapbox\":[{\"marker\":{\"colorbar\":{\"outlinewidth\":1,\"tickcolor\":\"rgb(36,36,36)\",\"ticks\":\"outside\"}},\"type\":\"scattermapbox\"}],\"scatterpolargl\":[{\"marker\":{\"colorbar\":{\"outlinewidth\":1,\"tickcolor\":\"rgb(36,36,36)\",\"ticks\":\"outside\"}},\"type\":\"scatterpolargl\"}],\"scatterpolar\":[{\"marker\":{\"colorbar\":{\"outlinewidth\":1,\"tickcolor\":\"rgb(36,36,36)\",\"ticks\":\"outside\"}},\"type\":\"scatterpolar\"}],\"scatter\":[{\"fillpattern\":{\"fillmode\":\"overlay\",\"size\":10,\"solidity\":0.2},\"type\":\"scatter\"}],\"scatterternary\":[{\"marker\":{\"colorbar\":{\"outlinewidth\":1,\"tickcolor\":\"rgb(36,36,36)\",\"ticks\":\"outside\"}},\"type\":\"scatterternary\"}],\"surface\":[{\"colorbar\":{\"outlinewidth\":1,\"tickcolor\":\"rgb(36,36,36)\",\"ticks\":\"outside\"},\"colorscale\":[[0.0,\"#440154\"],[0.1111111111111111,\"#482878\"],[0.2222222222222222,\"#3e4989\"],[0.3333333333333333,\"#31688e\"],[0.4444444444444444,\"#26828e\"],[0.5555555555555556,\"#1f9e89\"],[0.6666666666666666,\"#35b779\"],[0.7777777777777778,\"#6ece58\"],[0.8888888888888888,\"#b5de2b\"],[1.0,\"#fde725\"]],\"type\":\"surface\"}],\"table\":[{\"cells\":{\"fill\":{\"color\":\"rgb(237,237,237)\"},\"line\":{\"color\":\"white\"}},\"header\":{\"fill\":{\"color\":\"rgb(217,217,217)\"},\"line\":{\"color\":\"white\"}},\"type\":\"table\"}]},\"layout\":{\"annotationdefaults\":{\"arrowhead\":0,\"arrowwidth\":1},\"autotypenumbers\":\"strict\",\"coloraxis\":{\"colorbar\":{\"outlinewidth\":1,\"tickcolor\":\"rgb(36,36,36)\",\"ticks\":\"outside\"}},\"colorscale\":{\"diverging\":[[0.0,\"rgb(103,0,31)\"],[0.1,\"rgb(178,24,43)\"],[0.2,\"rgb(214,96,77)\"],[0.3,\"rgb(244,165,130)\"],[0.4,\"rgb(253,219,199)\"],[0.5,\"rgb(247,247,247)\"],[0.6,\"rgb(209,229,240)\"],[0.7,\"rgb(146,197,222)\"],[0.8,\"rgb(67,147,195)\"],[0.9,\"rgb(33,102,172)\"],[1.0,\"rgb(5,48,97)\"]],\"sequential\":[[0.0,\"#440154\"],[0.1111111111111111,\"#482878\"],[0.2222222222222222,\"#3e4989\"],[0.3333333333333333,\"#31688e\"],[0.4444444444444444,\"#26828e\"],[0.5555555555555556,\"#1f9e89\"],[0.6666666666666666,\"#35b779\"],[0.7777777777777778,\"#6ece58\"],[0.8888888888888888,\"#b5de2b\"],[1.0,\"#fde725\"]],\"sequentialminus\":[[0.0,\"#440154\"],[0.1111111111111111,\"#482878\"],[0.2222222222222222,\"#3e4989\"],[0.3333333333333333,\"#31688e\"],[0.4444444444444444,\"#26828e\"],[0.5555555555555556,\"#1f9e89\"],[0.6666666666666666,\"#35b779\"],[0.7777777777777778,\"#6ece58\"],[0.8888888888888888,\"#b5de2b\"],[1.0,\"#fde725\"]]},\"colorway\":[\"#1F77B4\",\"#FF7F0E\",\"#2CA02C\",\"#D62728\",\"#9467BD\",\"#8C564B\",\"#E377C2\",\"#7F7F7F\",\"#BCBD22\",\"#17BECF\"],\"font\":{\"color\":\"rgb(36,36,36)\"},\"geo\":{\"bgcolor\":\"white\",\"lakecolor\":\"white\",\"landcolor\":\"white\",\"showlakes\":true,\"showland\":true,\"subunitcolor\":\"white\"},\"hoverlabel\":{\"align\":\"left\"},\"hovermode\":\"closest\",\"mapbox\":{\"style\":\"light\"},\"paper_bgcolor\":\"white\",\"plot_bgcolor\":\"white\",\"polar\":{\"angularaxis\":{\"gridcolor\":\"rgb(232,232,232)\",\"linecolor\":\"rgb(36,36,36)\",\"showgrid\":false,\"showline\":true,\"ticks\":\"outside\"},\"bgcolor\":\"white\",\"radialaxis\":{\"gridcolor\":\"rgb(232,232,232)\",\"linecolor\":\"rgb(36,36,36)\",\"showgrid\":false,\"showline\":true,\"ticks\":\"outside\"}},\"scene\":{\"xaxis\":{\"backgroundcolor\":\"white\",\"gridcolor\":\"rgb(232,232,232)\",\"gridwidth\":2,\"linecolor\":\"rgb(36,36,36)\",\"showbackground\":true,\"showgrid\":false,\"showline\":true,\"ticks\":\"outside\",\"zeroline\":false,\"zerolinecolor\":\"rgb(36,36,36)\"},\"yaxis\":{\"backgroundcolor\":\"white\",\"gridcolor\":\"rgb(232,232,232)\",\"gridwidth\":2,\"linecolor\":\"rgb(36,36,36)\",\"showbackground\":true,\"showgrid\":false,\"showline\":true,\"ticks\":\"outside\",\"zeroline\":false,\"zerolinecolor\":\"rgb(36,36,36)\"},\"zaxis\":{\"backgroundcolor\":\"white\",\"gridcolor\":\"rgb(232,232,232)\",\"gridwidth\":2,\"linecolor\":\"rgb(36,36,36)\",\"showbackground\":true,\"showgrid\":false,\"showline\":true,\"ticks\":\"outside\",\"zeroline\":false,\"zerolinecolor\":\"rgb(36,36,36)\"}},\"shapedefaults\":{\"fillcolor\":\"black\",\"line\":{\"width\":0},\"opacity\":0.3},\"ternary\":{\"aaxis\":{\"gridcolor\":\"rgb(232,232,232)\",\"linecolor\":\"rgb(36,36,36)\",\"showgrid\":false,\"showline\":true,\"ticks\":\"outside\"},\"baxis\":{\"gridcolor\":\"rgb(232,232,232)\",\"linecolor\":\"rgb(36,36,36)\",\"showgrid\":false,\"showline\":true,\"ticks\":\"outside\"},\"bgcolor\":\"white\",\"caxis\":{\"gridcolor\":\"rgb(232,232,232)\",\"linecolor\":\"rgb(36,36,36)\",\"showgrid\":false,\"showline\":true,\"ticks\":\"outside\"}},\"title\":{\"x\":0.05},\"xaxis\":{\"automargin\":true,\"gridcolor\":\"rgb(232,232,232)\",\"linecolor\":\"rgb(36,36,36)\",\"showgrid\":false,\"showline\":true,\"ticks\":\"outside\",\"title\":{\"standoff\":15},\"zeroline\":false,\"zerolinecolor\":\"rgb(36,36,36)\"},\"yaxis\":{\"automargin\":true,\"gridcolor\":\"rgb(232,232,232)\",\"linecolor\":\"rgb(36,36,36)\",\"showgrid\":false,\"showline\":true,\"ticks\":\"outside\",\"title\":{\"standoff\":15},\"zeroline\":false,\"zerolinecolor\":\"rgb(36,36,36)\"}}},\"xaxis\":{\"anchor\":\"y\",\"domain\":[0.0,1.0],\"title\":{\"text\":\"x\"}},\"yaxis\":{\"anchor\":\"x\",\"domain\":[0.0,1.0],\"title\":{\"text\":\"y\"}},\"legend\":{\"tracegroupgap\":0},\"title\":{\"text\":\"ANN Training Loss Plot\"}},                        {\"responsive\": true}                    ).then(function(){\n",
       "                            \n",
       "var gd = document.getElementById('79a1ae50-a102-4dfe-8225-3dc9b1e038b5');\n",
       "var x = new MutationObserver(function (mutations, observer) {{\n",
       "        var display = window.getComputedStyle(gd).display;\n",
       "        if (!display || display === 'none') {{\n",
       "            console.log([gd, 'removed!']);\n",
       "            Plotly.purge(gd);\n",
       "            observer.disconnect();\n",
       "        }}\n",
       "}});\n",
       "\n",
       "// Listen for the removal of the full notebook cells\n",
       "var notebookContainer = gd.closest('#notebook-container');\n",
       "if (notebookContainer) {{\n",
       "    x.observe(notebookContainer, {childList: true});\n",
       "}}\n",
       "\n",
       "// Listen for the clearing of the current output cell\n",
       "var outputEl = gd.closest('.output');\n",
       "if (outputEl) {{\n",
       "    x.observe(outputEl, {childList: true});\n",
       "}}\n",
       "\n",
       "                        })                };                });            </script>        </div>"
      ]
     },
     "metadata": {},
     "output_type": "display_data"
    },
    {
     "data": {
      "text/html": [
       "<div>                            <div id=\"b4985c48-99a1-49c8-84ae-c9fa0ceee2b2\" class=\"plotly-graph-div\" style=\"height:525px; width:100%;\"></div>            <script type=\"text/javascript\">                require([\"plotly\"], function(Plotly) {                    window.PLOTLYENV=window.PLOTLYENV || {};                                    if (document.getElementById(\"b4985c48-99a1-49c8-84ae-c9fa0ceee2b2\")) {                    Plotly.newPlot(                        \"b4985c48-99a1-49c8-84ae-c9fa0ceee2b2\",                        [{\"hovertemplate\":\"x=%{x}<br>y=%{y}<extra></extra>\",\"legendgroup\":\"\",\"line\":{\"color\":\"#1F77B4\",\"dash\":\"solid\"},\"marker\":{\"symbol\":\"circle\"},\"mode\":\"lines\",\"name\":\"\",\"orientation\":\"v\",\"showlegend\":false,\"x\":[0,1,2,3,4,5,6,7,8,9,10,11,12,13,14,15,16,17],\"xaxis\":\"x\",\"y\":[0.24667470157146454,0.21627502143383026,0.2100292593240738,0.18984772264957428,0.20242032408714294,0.18965108692646027,0.18100765347480774,0.18844760954380035,0.20513632893562317,0.17991098761558533,0.198961541056633,0.20965264737606049,0.16956277191638947,0.18179762363433838,0.1848457008600235,0.18571819365024567,0.17829488217830658,0.19721387326717377],\"yaxis\":\"y\",\"type\":\"scatter\"}],                        {\"template\":{\"data\":{\"barpolar\":[{\"marker\":{\"line\":{\"color\":\"white\",\"width\":0.5},\"pattern\":{\"fillmode\":\"overlay\",\"size\":10,\"solidity\":0.2}},\"type\":\"barpolar\"}],\"bar\":[{\"error_x\":{\"color\":\"rgb(36,36,36)\"},\"error_y\":{\"color\":\"rgb(36,36,36)\"},\"marker\":{\"line\":{\"color\":\"white\",\"width\":0.5},\"pattern\":{\"fillmode\":\"overlay\",\"size\":10,\"solidity\":0.2}},\"type\":\"bar\"}],\"carpet\":[{\"aaxis\":{\"endlinecolor\":\"rgb(36,36,36)\",\"gridcolor\":\"white\",\"linecolor\":\"white\",\"minorgridcolor\":\"white\",\"startlinecolor\":\"rgb(36,36,36)\"},\"baxis\":{\"endlinecolor\":\"rgb(36,36,36)\",\"gridcolor\":\"white\",\"linecolor\":\"white\",\"minorgridcolor\":\"white\",\"startlinecolor\":\"rgb(36,36,36)\"},\"type\":\"carpet\"}],\"choropleth\":[{\"colorbar\":{\"outlinewidth\":1,\"tickcolor\":\"rgb(36,36,36)\",\"ticks\":\"outside\"},\"type\":\"choropleth\"}],\"contourcarpet\":[{\"colorbar\":{\"outlinewidth\":1,\"tickcolor\":\"rgb(36,36,36)\",\"ticks\":\"outside\"},\"type\":\"contourcarpet\"}],\"contour\":[{\"colorbar\":{\"outlinewidth\":1,\"tickcolor\":\"rgb(36,36,36)\",\"ticks\":\"outside\"},\"colorscale\":[[0.0,\"#440154\"],[0.1111111111111111,\"#482878\"],[0.2222222222222222,\"#3e4989\"],[0.3333333333333333,\"#31688e\"],[0.4444444444444444,\"#26828e\"],[0.5555555555555556,\"#1f9e89\"],[0.6666666666666666,\"#35b779\"],[0.7777777777777778,\"#6ece58\"],[0.8888888888888888,\"#b5de2b\"],[1.0,\"#fde725\"]],\"type\":\"contour\"}],\"heatmapgl\":[{\"colorbar\":{\"outlinewidth\":1,\"tickcolor\":\"rgb(36,36,36)\",\"ticks\":\"outside\"},\"colorscale\":[[0.0,\"#440154\"],[0.1111111111111111,\"#482878\"],[0.2222222222222222,\"#3e4989\"],[0.3333333333333333,\"#31688e\"],[0.4444444444444444,\"#26828e\"],[0.5555555555555556,\"#1f9e89\"],[0.6666666666666666,\"#35b779\"],[0.7777777777777778,\"#6ece58\"],[0.8888888888888888,\"#b5de2b\"],[1.0,\"#fde725\"]],\"type\":\"heatmapgl\"}],\"heatmap\":[{\"colorbar\":{\"outlinewidth\":1,\"tickcolor\":\"rgb(36,36,36)\",\"ticks\":\"outside\"},\"colorscale\":[[0.0,\"#440154\"],[0.1111111111111111,\"#482878\"],[0.2222222222222222,\"#3e4989\"],[0.3333333333333333,\"#31688e\"],[0.4444444444444444,\"#26828e\"],[0.5555555555555556,\"#1f9e89\"],[0.6666666666666666,\"#35b779\"],[0.7777777777777778,\"#6ece58\"],[0.8888888888888888,\"#b5de2b\"],[1.0,\"#fde725\"]],\"type\":\"heatmap\"}],\"histogram2dcontour\":[{\"colorbar\":{\"outlinewidth\":1,\"tickcolor\":\"rgb(36,36,36)\",\"ticks\":\"outside\"},\"colorscale\":[[0.0,\"#440154\"],[0.1111111111111111,\"#482878\"],[0.2222222222222222,\"#3e4989\"],[0.3333333333333333,\"#31688e\"],[0.4444444444444444,\"#26828e\"],[0.5555555555555556,\"#1f9e89\"],[0.6666666666666666,\"#35b779\"],[0.7777777777777778,\"#6ece58\"],[0.8888888888888888,\"#b5de2b\"],[1.0,\"#fde725\"]],\"type\":\"histogram2dcontour\"}],\"histogram2d\":[{\"colorbar\":{\"outlinewidth\":1,\"tickcolor\":\"rgb(36,36,36)\",\"ticks\":\"outside\"},\"colorscale\":[[0.0,\"#440154\"],[0.1111111111111111,\"#482878\"],[0.2222222222222222,\"#3e4989\"],[0.3333333333333333,\"#31688e\"],[0.4444444444444444,\"#26828e\"],[0.5555555555555556,\"#1f9e89\"],[0.6666666666666666,\"#35b779\"],[0.7777777777777778,\"#6ece58\"],[0.8888888888888888,\"#b5de2b\"],[1.0,\"#fde725\"]],\"type\":\"histogram2d\"}],\"histogram\":[{\"marker\":{\"line\":{\"color\":\"white\",\"width\":0.6}},\"type\":\"histogram\"}],\"mesh3d\":[{\"colorbar\":{\"outlinewidth\":1,\"tickcolor\":\"rgb(36,36,36)\",\"ticks\":\"outside\"},\"type\":\"mesh3d\"}],\"parcoords\":[{\"line\":{\"colorbar\":{\"outlinewidth\":1,\"tickcolor\":\"rgb(36,36,36)\",\"ticks\":\"outside\"}},\"type\":\"parcoords\"}],\"pie\":[{\"automargin\":true,\"type\":\"pie\"}],\"scatter3d\":[{\"line\":{\"colorbar\":{\"outlinewidth\":1,\"tickcolor\":\"rgb(36,36,36)\",\"ticks\":\"outside\"}},\"marker\":{\"colorbar\":{\"outlinewidth\":1,\"tickcolor\":\"rgb(36,36,36)\",\"ticks\":\"outside\"}},\"type\":\"scatter3d\"}],\"scattercarpet\":[{\"marker\":{\"colorbar\":{\"outlinewidth\":1,\"tickcolor\":\"rgb(36,36,36)\",\"ticks\":\"outside\"}},\"type\":\"scattercarpet\"}],\"scattergeo\":[{\"marker\":{\"colorbar\":{\"outlinewidth\":1,\"tickcolor\":\"rgb(36,36,36)\",\"ticks\":\"outside\"}},\"type\":\"scattergeo\"}],\"scattergl\":[{\"marker\":{\"colorbar\":{\"outlinewidth\":1,\"tickcolor\":\"rgb(36,36,36)\",\"ticks\":\"outside\"}},\"type\":\"scattergl\"}],\"scattermapbox\":[{\"marker\":{\"colorbar\":{\"outlinewidth\":1,\"tickcolor\":\"rgb(36,36,36)\",\"ticks\":\"outside\"}},\"type\":\"scattermapbox\"}],\"scatterpolargl\":[{\"marker\":{\"colorbar\":{\"outlinewidth\":1,\"tickcolor\":\"rgb(36,36,36)\",\"ticks\":\"outside\"}},\"type\":\"scatterpolargl\"}],\"scatterpolar\":[{\"marker\":{\"colorbar\":{\"outlinewidth\":1,\"tickcolor\":\"rgb(36,36,36)\",\"ticks\":\"outside\"}},\"type\":\"scatterpolar\"}],\"scatter\":[{\"fillpattern\":{\"fillmode\":\"overlay\",\"size\":10,\"solidity\":0.2},\"type\":\"scatter\"}],\"scatterternary\":[{\"marker\":{\"colorbar\":{\"outlinewidth\":1,\"tickcolor\":\"rgb(36,36,36)\",\"ticks\":\"outside\"}},\"type\":\"scatterternary\"}],\"surface\":[{\"colorbar\":{\"outlinewidth\":1,\"tickcolor\":\"rgb(36,36,36)\",\"ticks\":\"outside\"},\"colorscale\":[[0.0,\"#440154\"],[0.1111111111111111,\"#482878\"],[0.2222222222222222,\"#3e4989\"],[0.3333333333333333,\"#31688e\"],[0.4444444444444444,\"#26828e\"],[0.5555555555555556,\"#1f9e89\"],[0.6666666666666666,\"#35b779\"],[0.7777777777777778,\"#6ece58\"],[0.8888888888888888,\"#b5de2b\"],[1.0,\"#fde725\"]],\"type\":\"surface\"}],\"table\":[{\"cells\":{\"fill\":{\"color\":\"rgb(237,237,237)\"},\"line\":{\"color\":\"white\"}},\"header\":{\"fill\":{\"color\":\"rgb(217,217,217)\"},\"line\":{\"color\":\"white\"}},\"type\":\"table\"}]},\"layout\":{\"annotationdefaults\":{\"arrowhead\":0,\"arrowwidth\":1},\"autotypenumbers\":\"strict\",\"coloraxis\":{\"colorbar\":{\"outlinewidth\":1,\"tickcolor\":\"rgb(36,36,36)\",\"ticks\":\"outside\"}},\"colorscale\":{\"diverging\":[[0.0,\"rgb(103,0,31)\"],[0.1,\"rgb(178,24,43)\"],[0.2,\"rgb(214,96,77)\"],[0.3,\"rgb(244,165,130)\"],[0.4,\"rgb(253,219,199)\"],[0.5,\"rgb(247,247,247)\"],[0.6,\"rgb(209,229,240)\"],[0.7,\"rgb(146,197,222)\"],[0.8,\"rgb(67,147,195)\"],[0.9,\"rgb(33,102,172)\"],[1.0,\"rgb(5,48,97)\"]],\"sequential\":[[0.0,\"#440154\"],[0.1111111111111111,\"#482878\"],[0.2222222222222222,\"#3e4989\"],[0.3333333333333333,\"#31688e\"],[0.4444444444444444,\"#26828e\"],[0.5555555555555556,\"#1f9e89\"],[0.6666666666666666,\"#35b779\"],[0.7777777777777778,\"#6ece58\"],[0.8888888888888888,\"#b5de2b\"],[1.0,\"#fde725\"]],\"sequentialminus\":[[0.0,\"#440154\"],[0.1111111111111111,\"#482878\"],[0.2222222222222222,\"#3e4989\"],[0.3333333333333333,\"#31688e\"],[0.4444444444444444,\"#26828e\"],[0.5555555555555556,\"#1f9e89\"],[0.6666666666666666,\"#35b779\"],[0.7777777777777778,\"#6ece58\"],[0.8888888888888888,\"#b5de2b\"],[1.0,\"#fde725\"]]},\"colorway\":[\"#1F77B4\",\"#FF7F0E\",\"#2CA02C\",\"#D62728\",\"#9467BD\",\"#8C564B\",\"#E377C2\",\"#7F7F7F\",\"#BCBD22\",\"#17BECF\"],\"font\":{\"color\":\"rgb(36,36,36)\"},\"geo\":{\"bgcolor\":\"white\",\"lakecolor\":\"white\",\"landcolor\":\"white\",\"showlakes\":true,\"showland\":true,\"subunitcolor\":\"white\"},\"hoverlabel\":{\"align\":\"left\"},\"hovermode\":\"closest\",\"mapbox\":{\"style\":\"light\"},\"paper_bgcolor\":\"white\",\"plot_bgcolor\":\"white\",\"polar\":{\"angularaxis\":{\"gridcolor\":\"rgb(232,232,232)\",\"linecolor\":\"rgb(36,36,36)\",\"showgrid\":false,\"showline\":true,\"ticks\":\"outside\"},\"bgcolor\":\"white\",\"radialaxis\":{\"gridcolor\":\"rgb(232,232,232)\",\"linecolor\":\"rgb(36,36,36)\",\"showgrid\":false,\"showline\":true,\"ticks\":\"outside\"}},\"scene\":{\"xaxis\":{\"backgroundcolor\":\"white\",\"gridcolor\":\"rgb(232,232,232)\",\"gridwidth\":2,\"linecolor\":\"rgb(36,36,36)\",\"showbackground\":true,\"showgrid\":false,\"showline\":true,\"ticks\":\"outside\",\"zeroline\":false,\"zerolinecolor\":\"rgb(36,36,36)\"},\"yaxis\":{\"backgroundcolor\":\"white\",\"gridcolor\":\"rgb(232,232,232)\",\"gridwidth\":2,\"linecolor\":\"rgb(36,36,36)\",\"showbackground\":true,\"showgrid\":false,\"showline\":true,\"ticks\":\"outside\",\"zeroline\":false,\"zerolinecolor\":\"rgb(36,36,36)\"},\"zaxis\":{\"backgroundcolor\":\"white\",\"gridcolor\":\"rgb(232,232,232)\",\"gridwidth\":2,\"linecolor\":\"rgb(36,36,36)\",\"showbackground\":true,\"showgrid\":false,\"showline\":true,\"ticks\":\"outside\",\"zeroline\":false,\"zerolinecolor\":\"rgb(36,36,36)\"}},\"shapedefaults\":{\"fillcolor\":\"black\",\"line\":{\"width\":0},\"opacity\":0.3},\"ternary\":{\"aaxis\":{\"gridcolor\":\"rgb(232,232,232)\",\"linecolor\":\"rgb(36,36,36)\",\"showgrid\":false,\"showline\":true,\"ticks\":\"outside\"},\"baxis\":{\"gridcolor\":\"rgb(232,232,232)\",\"linecolor\":\"rgb(36,36,36)\",\"showgrid\":false,\"showline\":true,\"ticks\":\"outside\"},\"bgcolor\":\"white\",\"caxis\":{\"gridcolor\":\"rgb(232,232,232)\",\"linecolor\":\"rgb(36,36,36)\",\"showgrid\":false,\"showline\":true,\"ticks\":\"outside\"}},\"title\":{\"x\":0.05},\"xaxis\":{\"automargin\":true,\"gridcolor\":\"rgb(232,232,232)\",\"linecolor\":\"rgb(36,36,36)\",\"showgrid\":false,\"showline\":true,\"ticks\":\"outside\",\"title\":{\"standoff\":15},\"zeroline\":false,\"zerolinecolor\":\"rgb(36,36,36)\"},\"yaxis\":{\"automargin\":true,\"gridcolor\":\"rgb(232,232,232)\",\"linecolor\":\"rgb(36,36,36)\",\"showgrid\":false,\"showline\":true,\"ticks\":\"outside\",\"title\":{\"standoff\":15},\"zeroline\":false,\"zerolinecolor\":\"rgb(36,36,36)\"}}},\"xaxis\":{\"anchor\":\"y\",\"domain\":[0.0,1.0],\"title\":{\"text\":\"x\"}},\"yaxis\":{\"anchor\":\"x\",\"domain\":[0.0,1.0],\"title\":{\"text\":\"y\"}},\"legend\":{\"tracegroupgap\":0},\"title\":{\"text\":\"ANN Validation Loss Plot\"}},                        {\"responsive\": true}                    ).then(function(){\n",
       "                            \n",
       "var gd = document.getElementById('b4985c48-99a1-49c8-84ae-c9fa0ceee2b2');\n",
       "var x = new MutationObserver(function (mutations, observer) {{\n",
       "        var display = window.getComputedStyle(gd).display;\n",
       "        if (!display || display === 'none') {{\n",
       "            console.log([gd, 'removed!']);\n",
       "            Plotly.purge(gd);\n",
       "            observer.disconnect();\n",
       "        }}\n",
       "}});\n",
       "\n",
       "// Listen for the removal of the full notebook cells\n",
       "var notebookContainer = gd.closest('#notebook-container');\n",
       "if (notebookContainer) {{\n",
       "    x.observe(notebookContainer, {childList: true});\n",
       "}}\n",
       "\n",
       "// Listen for the clearing of the current output cell\n",
       "var outputEl = gd.closest('.output');\n",
       "if (outputEl) {{\n",
       "    x.observe(outputEl, {childList: true});\n",
       "}}\n",
       "\n",
       "                        })                };                });            </script>        </div>"
      ]
     },
     "metadata": {},
     "output_type": "display_data"
    }
   ],
   "source": [
    "fig = px.line(y=history.history['loss'], template='simple_white',title = 'ANN Training Loss Plot')\n",
    "fig1 = px.line(y=history.history['val_loss'], template='simple_white',title = 'ANN Validation Loss Plot')\n",
    "fig.show()\n",
    "fig1.show()"
   ]
  },
  {
   "cell_type": "code",
   "execution_count": 19,
   "id": "82060992",
   "metadata": {
    "execution": {
     "iopub.execute_input": "2022-08-07T15:37:04.342033Z",
     "iopub.status.busy": "2022-08-07T15:37:04.341309Z",
     "iopub.status.idle": "2022-08-07T15:37:04.815470Z",
     "shell.execute_reply": "2022-08-07T15:37:04.814181Z"
    },
    "id": "CazuknkLW_LY",
    "papermill": {
     "duration": 0.4891,
     "end_time": "2022-08-07T15:37:04.818347",
     "exception": false,
     "start_time": "2022-08-07T15:37:04.329247",
     "status": "completed"
    },
    "tags": []
   },
   "outputs": [
    {
     "name": "stdout",
     "output_type": "stream",
     "text": [
      "The accuracy of our model is 0.945\n"
     ]
    }
   ],
   "source": [
    "y_prob = model.predict(X_test)\n",
    "y_pred = y_prob.argmax(axis=1)\n",
    "print('The accuracy of our model is %0.3f' % (accuracy_score(y_test,y_pred)))"
   ]
  },
  {
   "cell_type": "code",
   "execution_count": 20,
   "id": "47ed1df8",
   "metadata": {
    "execution": {
     "iopub.execute_input": "2022-08-07T15:37:04.844814Z",
     "iopub.status.busy": "2022-08-07T15:37:04.843221Z",
     "iopub.status.idle": "2022-08-07T15:37:05.056508Z",
     "shell.execute_reply": "2022-08-07T15:37:05.055593Z"
    },
    "id": "F0eTtwmSZGQn",
    "outputId": "84241465-c39e-4edb-9ac8-3fb6c27ad2f7",
    "papermill": {
     "duration": 0.228013,
     "end_time": "2022-08-07T15:37:05.058639",
     "exception": false,
     "start_time": "2022-08-07T15:37:04.830626",
     "status": "completed"
    },
    "tags": []
   },
   "outputs": [
    {
     "data": {
      "image/png": "[encoded data removed]",
      "text/plain": [
       "<Figure size 1080x720 with 1 Axes>"
      ]
     },
     "metadata": {
      "needs_background": "light"
     },
     "output_type": "display_data"
    }
   ],
   "source": [
    "plt.imshow(X_test[1]);"
   ]
  },
  {
   "cell_type": "code",
   "execution_count": 21,
   "id": "675dda3c",
   "metadata": {
    "execution": {
     "iopub.execute_input": "2022-08-07T15:37:05.083780Z",
     "iopub.status.busy": "2022-08-07T15:37:05.082291Z",
     "iopub.status.idle": "2022-08-07T15:37:05.130051Z",
     "shell.execute_reply": "2022-08-07T15:37:05.129195Z"
    },
    "id": "mBKWjIxealMY",
    "outputId": "ec611b7e-333d-416e-e519-1234691ae78c",
    "papermill": {
     "duration": 0.061905,
     "end_time": "2022-08-07T15:37:05.132113",
     "exception": false,
     "start_time": "2022-08-07T15:37:05.070208",
     "status": "completed"
    },
    "tags": []
   },
   "outputs": [
    {
     "data": {
      "text/plain": [
       "array([2])"
      ]
     },
     "execution_count": 21,
     "metadata": {},
     "output_type": "execute_result"
    }
   ],
   "source": [
    "model.predict(X_test[1].reshape(1,28,28)).argmax(axis=1)"
   ]
  },
  {
   "cell_type": "markdown",
   "id": "eaa34f11",
   "metadata": {
    "papermill": {
     "duration": 0.011926,
     "end_time": "2022-08-07T15:37:05.155533",
     "exception": false,
     "start_time": "2022-08-07T15:37:05.143607",
     "status": "completed"
    },
    "tags": []
   },
   "source": [
    "## Convolution Neural Network (CNN)\n",
    "\n",
    "Now that we are done training and improving the ANN. We will now use the CNN (Convolution Neural Network) for training and prediction purposes. \n",
    "\n",
    "### What are convolutions?\n",
    "A convolution is a filter that passes over an image, processes it, and extracts the important features.\n",
    "\n",
    "Let's say you have an image of a person wearing a sneaker. How would you detect that a sneaker is present in the image? In order for your program to \"see\" the image as a sneaker, you'll have to extract the important features, and blur the inessential features. This is called feature mapping.\n",
    "\n",
    "The feature mapping process is theoretically simple. You'll scan every pixel in the image and then look at its neighboring pixels. You multiply the values of those pixels by the equivalent weights in a filter.\n",
    "\n",
    "For example:\n",
    "\n",
    "![](https://developers.google.com/static/codelabs/tensorflow-3-convolutions/img/f7b0ab29e09a51f.png)\n",
    "\n",
    "In this case, a 3x3 convolution matrix, or image kernel, is specified.\n",
    "\n",
    "The current pixel value is 192. You can calculate the value of the new pixel by looking at the neighbor values, multiplying them by the values specified in the filter, and making the new pixel value the final amount.\n",
    "\n",
    "### Understanding Pooling\n",
    "Similar to convolutions, pooling greatly helps with detecting features. Pooling layers reduce the overall amount of information in an image while maintaining the features that are detected as present.\n",
    "\n",
    "![](https://developers.google.com/static/codelabs/tensorflow-3-convolutions/img/6029904d82700d8e.png)\n",
    "\n",
    "There are a number of different types of pooling, but you'll use one called Maximum (Max) Pooling.\n",
    "\n",
    "Iterate over the image and, at each point, consider the pixel and its immediate neighbors to the right, beneath, and right-beneath. Take the largest of those (hence max pooling) and load it into the new image. Thus, the new image will be one-fourth the size of the old.\n",
    "\n",
    "Let's now train the CNN on the same data. We have reshaped the data and then flattened it out before giving it to the output layer which basically will classify the digit."
   ]
  },
  {
   "cell_type": "code",
   "execution_count": 22,
   "id": "f87e50c3",
   "metadata": {
    "execution": {
     "iopub.execute_input": "2022-08-07T15:37:05.179084Z",
     "iopub.status.busy": "2022-08-07T15:37:05.178744Z",
     "iopub.status.idle": "2022-08-07T15:37:05.184803Z",
     "shell.execute_reply": "2022-08-07T15:37:05.183841Z"
    },
    "papermill": {
     "duration": 0.020313,
     "end_time": "2022-08-07T15:37:05.186850",
     "exception": false,
     "start_time": "2022-08-07T15:37:05.166537",
     "status": "completed"
    },
    "tags": []
   },
   "outputs": [
    {
     "data": {
      "text/plain": [
       "(60000, 28, 28)"
      ]
     },
     "execution_count": 22,
     "metadata": {},
     "output_type": "execute_result"
    }
   ],
   "source": [
    "X_train.shape"
   ]
  },
  {
   "cell_type": "code",
   "execution_count": 23,
   "id": "bd84e533",
   "metadata": {
    "execution": {
     "iopub.execute_input": "2022-08-07T15:37:05.210587Z",
     "iopub.status.busy": "2022-08-07T15:37:05.210313Z",
     "iopub.status.idle": "2022-08-07T15:37:05.216541Z",
     "shell.execute_reply": "2022-08-07T15:37:05.215595Z"
    },
    "papermill": {
     "duration": 0.020381,
     "end_time": "2022-08-07T15:37:05.218424",
     "exception": false,
     "start_time": "2022-08-07T15:37:05.198043",
     "status": "completed"
    },
    "tags": []
   },
   "outputs": [
    {
     "data": {
      "text/plain": [
       "(10000, 28, 28)"
      ]
     },
     "execution_count": 23,
     "metadata": {},
     "output_type": "execute_result"
    }
   ],
   "source": [
    "X_test.shape"
   ]
  },
  {
   "cell_type": "code",
   "execution_count": 24,
   "id": "20be2ff6",
   "metadata": {
    "execution": {
     "iopub.execute_input": "2022-08-07T15:37:05.242719Z",
     "iopub.status.busy": "2022-08-07T15:37:05.242387Z",
     "iopub.status.idle": "2022-08-07T15:37:05.246961Z",
     "shell.execute_reply": "2022-08-07T15:37:05.245955Z"
    },
    "papermill": {
     "duration": 0.019337,
     "end_time": "2022-08-07T15:37:05.249094",
     "exception": false,
     "start_time": "2022-08-07T15:37:05.229757",
     "status": "completed"
    },
    "tags": []
   },
   "outputs": [],
   "source": [
    "X_train = X_train.reshape(60000,28,28,1)\n",
    "X_test = X_test.reshape(10000,28,28,1)"
   ]
  },
  {
   "cell_type": "code",
   "execution_count": 25,
   "id": "82216d7e",
   "metadata": {
    "execution": {
     "iopub.execute_input": "2022-08-07T15:37:05.273306Z",
     "iopub.status.busy": "2022-08-07T15:37:05.273048Z",
     "iopub.status.idle": "2022-08-07T15:37:05.280702Z",
     "shell.execute_reply": "2022-08-07T15:37:05.279911Z"
    },
    "papermill": {
     "duration": 0.021836,
     "end_time": "2022-08-07T15:37:05.282626",
     "exception": false,
     "start_time": "2022-08-07T15:37:05.260790",
     "status": "completed"
    },
    "tags": []
   },
   "outputs": [
    {
     "data": {
      "text/plain": [
       "(28, 28, 1)"
      ]
     },
     "execution_count": 25,
     "metadata": {},
     "output_type": "execute_result"
    }
   ],
   "source": [
    "X_train[0].shape"
   ]
  },
  {
   "cell_type": "code",
   "execution_count": 26,
   "id": "63278815",
   "metadata": {
    "execution": {
     "iopub.execute_input": "2022-08-07T15:37:05.306328Z",
     "iopub.status.busy": "2022-08-07T15:37:05.306075Z",
     "iopub.status.idle": "2022-08-07T15:37:05.359659Z",
     "shell.execute_reply": "2022-08-07T15:37:05.358514Z"
    },
    "papermill": {
     "duration": 0.068325,
     "end_time": "2022-08-07T15:37:05.362206",
     "exception": false,
     "start_time": "2022-08-07T15:37:05.293881",
     "status": "completed"
    },
    "tags": []
   },
   "outputs": [
    {
     "name": "stdout",
     "output_type": "stream",
     "text": [
      "Model: \"sequential_1\"\n",
      "_________________________________________________________________\n",
      "Layer (type)                 Output Shape              Param #   \n",
      "=================================================================\n",
      "conv2d (Conv2D)              (None, 26, 26, 32)        320       \n",
      "_________________________________________________________________\n",
      "max_pooling2d (MaxPooling2D) (None, 13, 13, 32)        0         \n",
      "_________________________________________________________________\n",
      "dropout_1 (Dropout)          (None, 13, 13, 32)        0         \n",
      "_________________________________________________________________\n",
      "conv2d_1 (Conv2D)            (None, 13, 13, 64)        18496     \n",
      "_________________________________________________________________\n",
      "max_pooling2d_1 (MaxPooling2 (None, 6, 6, 64)          0         \n",
      "_________________________________________________________________\n",
      "dropout_2 (Dropout)          (None, 6, 6, 64)          0         \n",
      "_________________________________________________________________\n",
      "flatten_1 (Flatten)          (None, 2304)              0         \n",
      "_________________________________________________________________\n",
      "dense_3 (Dense)              (None, 10)                23050     \n",
      "=================================================================\n",
      "Total params: 41,866\n",
      "Trainable params: 41,866\n",
      "Non-trainable params: 0\n",
      "_________________________________________________________________\n"
     ]
    }
   ],
   "source": [
    "model = Sequential()\n",
    "\n",
    "#1st Layer\n",
    "model.add(Conv2D(filters=32, kernel_size=(3, 3), activation='relu', padding = 'valid', input_shape=(28,28,1))),\n",
    "model.add(MaxPool2D(pool_size=(2, 2), strides=2)),\n",
    "model.add(Dropout(0.25))\n",
    "\n",
    "#2nd Layer\n",
    "model.add(Conv2D(filters = 64, kernel_size = (3,3),padding = 'Same', \n",
    "                 activation ='relu'))\n",
    "model.add(MaxPool2D(pool_size=(2,2), strides=(2,2)))\n",
    "model.add(Dropout(0.25))\n",
    "\n",
    "#Output Layer\n",
    "model.add(Flatten())\n",
    "model.add(Dense(10, activation = \"softmax\"))\n",
    "\n",
    "#Model Summary\n",
    "model.summary()"
   ]
  },
  {
   "cell_type": "code",
   "execution_count": 27,
   "id": "6750126f",
   "metadata": {
    "execution": {
     "iopub.execute_input": "2022-08-07T15:37:05.387354Z",
     "iopub.status.busy": "2022-08-07T15:37:05.386681Z",
     "iopub.status.idle": "2022-08-07T15:37:05.396054Z",
     "shell.execute_reply": "2022-08-07T15:37:05.395053Z"
    },
    "papermill": {
     "duration": 0.023951,
     "end_time": "2022-08-07T15:37:05.398239",
     "exception": false,
     "start_time": "2022-08-07T15:37:05.374288",
     "status": "completed"
    },
    "tags": []
   },
   "outputs": [],
   "source": [
    "optimizer = keras.optimizers.Adam(learning_rate=0.01)\n",
    "model.compile(loss='sparse_categorical_crossentropy',optimizer=optimizer,metrics=['accuracy'])"
   ]
  },
  {
   "cell_type": "code",
   "execution_count": 28,
   "id": "d2b80530",
   "metadata": {
    "execution": {
     "iopub.execute_input": "2022-08-07T15:37:05.422984Z",
     "iopub.status.busy": "2022-08-07T15:37:05.422635Z",
     "iopub.status.idle": "2022-08-07T15:37:37.764595Z",
     "shell.execute_reply": "2022-08-07T15:37:37.763570Z"
    },
    "papermill": {
     "duration": 32.367616,
     "end_time": "2022-08-07T15:37:37.777465",
     "exception": false,
     "start_time": "2022-08-07T15:37:05.409849",
     "status": "completed"
    },
    "tags": []
   },
   "outputs": [
    {
     "name": "stderr",
     "output_type": "stream",
     "text": [
      "2022-08-07 15:37:06.954989: I tensorflow/stream_executor/cuda/cuda_dnn.cc:369] Loaded cuDNN version 8005\n"
     ]
    },
    {
     "name": "stdout",
     "output_type": "stream",
     "text": [
      "Epoch 00007: early stopping\n"
     ]
    }
   ],
   "source": [
    "history = model.fit(X_train,y_train,epochs=25,validation_split=0.2,verbose=0, callbacks=callback)"
   ]
  },
  {
   "cell_type": "code",
   "execution_count": 29,
   "id": "cfb5f151",
   "metadata": {
    "execution": {
     "iopub.execute_input": "2022-08-07T15:37:37.802138Z",
     "iopub.status.busy": "2022-08-07T15:37:37.801813Z",
     "iopub.status.idle": "2022-08-07T15:37:47.148794Z",
     "shell.execute_reply": "2022-08-07T15:37:47.147862Z"
    },
    "papermill": {
     "duration": 9.361542,
     "end_time": "2022-08-07T15:37:47.150756",
     "exception": false,
     "start_time": "2022-08-07T15:37:37.789214",
     "status": "completed"
    },
    "tags": []
   },
   "outputs": [
    {
     "data": {
      "text/html": [
       "<div>                            <div id=\"854e5531-2c55-4d12-b873-267bfa459656\" class=\"plotly-graph-div\" style=\"height:525px; width:100%;\"></div>            <script type=\"text/javascript\">                require([\"plotly\"], function(Plotly) {                    window.PLOTLYENV=window.PLOTLYENV || {};                                    if (document.getElementById(\"854e5531-2c55-4d12-b873-267bfa459656\")) {                    Plotly.newPlot(                        \"854e5531-2c55-4d12-b873-267bfa459656\",                        [{\"hovertemplate\":\"x=%{x}<br>y=%{y}<extra></extra>\",\"legendgroup\":\"\",\"line\":{\"color\":\"#1F77B4\",\"dash\":\"solid\"},\"marker\":{\"symbol\":\"circle\"},\"mode\":\"lines\",\"name\":\"\",\"orientation\":\"v\",\"showlegend\":false,\"x\":[0,1,2,3,4,5,6],\"xaxis\":\"x\",\"y\":[0.17509198188781738,0.12730686366558075,0.11677465587854385,0.11086175590753555,0.11515624076128006,0.11780381947755814,0.11466658860445023],\"yaxis\":\"y\",\"type\":\"scatter\"}],                        {\"template\":{\"data\":{\"barpolar\":[{\"marker\":{\"line\":{\"color\":\"white\",\"width\":0.5},\"pattern\":{\"fillmode\":\"overlay\",\"size\":10,\"solidity\":0.2}},\"type\":\"barpolar\"}],\"bar\":[{\"error_x\":{\"color\":\"rgb(36,36,36)\"},\"error_y\":{\"color\":\"rgb(36,36,36)\"},\"marker\":{\"line\":{\"color\":\"white\",\"width\":0.5},\"pattern\":{\"fillmode\":\"overlay\",\"size\":10,\"solidity\":0.2}},\"type\":\"bar\"}],\"carpet\":[{\"aaxis\":{\"endlinecolor\":\"rgb(36,36,36)\",\"gridcolor\":\"white\",\"linecolor\":\"white\",\"minorgridcolor\":\"white\",\"startlinecolor\":\"rgb(36,36,36)\"},\"baxis\":{\"endlinecolor\":\"rgb(36,36,36)\",\"gridcolor\":\"white\",\"linecolor\":\"white\",\"minorgridcolor\":\"white\",\"startlinecolor\":\"rgb(36,36,36)\"},\"type\":\"carpet\"}],\"choropleth\":[{\"colorbar\":{\"outlinewidth\":1,\"tickcolor\":\"rgb(36,36,36)\",\"ticks\":\"outside\"},\"type\":\"choropleth\"}],\"contourcarpet\":[{\"colorbar\":{\"outlinewidth\":1,\"tickcolor\":\"rgb(36,36,36)\",\"ticks\":\"outside\"},\"type\":\"contourcarpet\"}],\"contour\":[{\"colorbar\":{\"outlinewidth\":1,\"tickcolor\":\"rgb(36,36,36)\",\"ticks\":\"outside\"},\"colorscale\":[[0.0,\"#440154\"],[0.1111111111111111,\"#482878\"],[0.2222222222222222,\"#3e4989\"],[0.3333333333333333,\"#31688e\"],[0.4444444444444444,\"#26828e\"],[0.5555555555555556,\"#1f9e89\"],[0.6666666666666666,\"#35b779\"],[0.7777777777777778,\"#6ece58\"],[0.8888888888888888,\"#b5de2b\"],[1.0,\"#fde725\"]],\"type\":\"contour\"}],\"heatmapgl\":[{\"colorbar\":{\"outlinewidth\":1,\"tickcolor\":\"rgb(36,36,36)\",\"ticks\":\"outside\"},\"colorscale\":[[0.0,\"#440154\"],[0.1111111111111111,\"#482878\"],[0.2222222222222222,\"#3e4989\"],[0.3333333333333333,\"#31688e\"],[0.4444444444444444,\"#26828e\"],[0.5555555555555556,\"#1f9e89\"],[0.6666666666666666,\"#35b779\"],[0.7777777777777778,\"#6ece58\"],[0.8888888888888888,\"#b5de2b\"],[1.0,\"#fde725\"]],\"type\":\"heatmapgl\"}],\"heatmap\":[{\"colorbar\":{\"outlinewidth\":1,\"tickcolor\":\"rgb(36,36,36)\",\"ticks\":\"outside\"},\"colorscale\":[[0.0,\"#440154\"],[0.1111111111111111,\"#482878\"],[0.2222222222222222,\"#3e4989\"],[0.3333333333333333,\"#31688e\"],[0.4444444444444444,\"#26828e\"],[0.5555555555555556,\"#1f9e89\"],[0.6666666666666666,\"#35b779\"],[0.7777777777777778,\"#6ece58\"],[0.8888888888888888,\"#b5de2b\"],[1.0,\"#fde725\"]],\"type\":\"heatmap\"}],\"histogram2dcontour\":[{\"colorbar\":{\"outlinewidth\":1,\"tickcolor\":\"rgb(36,36,36)\",\"ticks\":\"outside\"},\"colorscale\":[[0.0,\"#440154\"],[0.1111111111111111,\"#482878\"],[0.2222222222222222,\"#3e4989\"],[0.3333333333333333,\"#31688e\"],[0.4444444444444444,\"#26828e\"],[0.5555555555555556,\"#1f9e89\"],[0.6666666666666666,\"#35b779\"],[0.7777777777777778,\"#6ece58\"],[0.8888888888888888,\"#b5de2b\"],[1.0,\"#fde725\"]],\"type\":\"histogram2dcontour\"}],\"histogram2d\":[{\"colorbar\":{\"outlinewidth\":1,\"tickcolor\":\"rgb(36,36,36)\",\"ticks\":\"outside\"},\"colorscale\":[[0.0,\"#440154\"],[0.1111111111111111,\"#482878\"],[0.2222222222222222,\"#3e4989\"],[0.3333333333333333,\"#31688e\"],[0.4444444444444444,\"#26828e\"],[0.5555555555555556,\"#1f9e89\"],[0.6666666666666666,\"#35b779\"],[0.7777777777777778,\"#6ece58\"],[0.8888888888888888,\"#b5de2b\"],[1.0,\"#fde725\"]],\"type\":\"histogram2d\"}],\"histogram\":[{\"marker\":{\"line\":{\"color\":\"white\",\"width\":0.6}},\"type\":\"histogram\"}],\"mesh3d\":[{\"colorbar\":{\"outlinewidth\":1,\"tickcolor\":\"rgb(36,36,36)\",\"ticks\":\"outside\"},\"type\":\"mesh3d\"}],\"parcoords\":[{\"line\":{\"colorbar\":{\"outlinewidth\":1,\"tickcolor\":\"rgb(36,36,36)\",\"ticks\":\"outside\"}},\"type\":\"parcoords\"}],\"pie\":[{\"automargin\":true,\"type\":\"pie\"}],\"scatter3d\":[{\"line\":{\"colorbar\":{\"outlinewidth\":1,\"tickcolor\":\"rgb(36,36,36)\",\"ticks\":\"outside\"}},\"marker\":{\"colorbar\":{\"outlinewidth\":1,\"tickcolor\":\"rgb(36,36,36)\",\"ticks\":\"outside\"}},\"type\":\"scatter3d\"}],\"scattercarpet\":[{\"marker\":{\"colorbar\":{\"outlinewidth\":1,\"tickcolor\":\"rgb(36,36,36)\",\"ticks\":\"outside\"}},\"type\":\"scattercarpet\"}],\"scattergeo\":[{\"marker\":{\"colorbar\":{\"outlinewidth\":1,\"tickcolor\":\"rgb(36,36,36)\",\"ticks\":\"outside\"}},\"type\":\"scattergeo\"}],\"scattergl\":[{\"marker\":{\"colorbar\":{\"outlinewidth\":1,\"tickcolor\":\"rgb(36,36,36)\",\"ticks\":\"outside\"}},\"type\":\"scattergl\"}],\"scattermapbox\":[{\"marker\":{\"colorbar\":{\"outlinewidth\":1,\"tickcolor\":\"rgb(36,36,36)\",\"ticks\":\"outside\"}},\"type\":\"scattermapbox\"}],\"scatterpolargl\":[{\"marker\":{\"colorbar\":{\"outlinewidth\":1,\"tickcolor\":\"rgb(36,36,36)\",\"ticks\":\"outside\"}},\"type\":\"scatterpolargl\"}],\"scatterpolar\":[{\"marker\":{\"colorbar\":{\"outlinewidth\":1,\"tickcolor\":\"rgb(36,36,36)\",\"ticks\":\"outside\"}},\"type\":\"scatterpolar\"}],\"scatter\":[{\"fillpattern\":{\"fillmode\":\"overlay\",\"size\":10,\"solidity\":0.2},\"type\":\"scatter\"}],\"scatterternary\":[{\"marker\":{\"colorbar\":{\"outlinewidth\":1,\"tickcolor\":\"rgb(36,36,36)\",\"ticks\":\"outside\"}},\"type\":\"scatterternary\"}],\"surface\":[{\"colorbar\":{\"outlinewidth\":1,\"tickcolor\":\"rgb(36,36,36)\",\"ticks\":\"outside\"},\"colorscale\":[[0.0,\"#440154\"],[0.1111111111111111,\"#482878\"],[0.2222222222222222,\"#3e4989\"],[0.3333333333333333,\"#31688e\"],[0.4444444444444444,\"#26828e\"],[0.5555555555555556,\"#1f9e89\"],[0.6666666666666666,\"#35b779\"],[0.7777777777777778,\"#6ece58\"],[0.8888888888888888,\"#b5de2b\"],[1.0,\"#fde725\"]],\"type\":\"surface\"}],\"table\":[{\"cells\":{\"fill\":{\"color\":\"rgb(237,237,237)\"},\"line\":{\"color\":\"white\"}},\"header\":{\"fill\":{\"color\":\"rgb(217,217,217)\"},\"line\":{\"color\":\"white\"}},\"type\":\"table\"}]},\"layout\":{\"annotationdefaults\":{\"arrowhead\":0,\"arrowwidth\":1},\"autotypenumbers\":\"strict\",\"coloraxis\":{\"colorbar\":{\"outlinewidth\":1,\"tickcolor\":\"rgb(36,36,36)\",\"ticks\":\"outside\"}},\"colorscale\":{\"diverging\":[[0.0,\"rgb(103,0,31)\"],[0.1,\"rgb(178,24,43)\"],[0.2,\"rgb(214,96,77)\"],[0.3,\"rgb(244,165,130)\"],[0.4,\"rgb(253,219,199)\"],[0.5,\"rgb(247,247,247)\"],[0.6,\"rgb(209,229,240)\"],[0.7,\"rgb(146,197,222)\"],[0.8,\"rgb(67,147,195)\"],[0.9,\"rgb(33,102,172)\"],[1.0,\"rgb(5,48,97)\"]],\"sequential\":[[0.0,\"#440154\"],[0.1111111111111111,\"#482878\"],[0.2222222222222222,\"#3e4989\"],[0.3333333333333333,\"#31688e\"],[0.4444444444444444,\"#26828e\"],[0.5555555555555556,\"#1f9e89\"],[0.6666666666666666,\"#35b779\"],[0.7777777777777778,\"#6ece58\"],[0.8888888888888888,\"#b5de2b\"],[1.0,\"#fde725\"]],\"sequentialminus\":[[0.0,\"#440154\"],[0.1111111111111111,\"#482878\"],[0.2222222222222222,\"#3e4989\"],[0.3333333333333333,\"#31688e\"],[0.4444444444444444,\"#26828e\"],[0.5555555555555556,\"#1f9e89\"],[0.6666666666666666,\"#35b779\"],[0.7777777777777778,\"#6ece58\"],[0.8888888888888888,\"#b5de2b\"],[1.0,\"#fde725\"]]},\"colorway\":[\"#1F77B4\",\"#FF7F0E\",\"#2CA02C\",\"#D62728\",\"#9467BD\",\"#8C564B\",\"#E377C2\",\"#7F7F7F\",\"#BCBD22\",\"#17BECF\"],\"font\":{\"color\":\"rgb(36,36,36)\"},\"geo\":{\"bgcolor\":\"white\",\"lakecolor\":\"white\",\"landcolor\":\"white\",\"showlakes\":true,\"showland\":true,\"subunitcolor\":\"white\"},\"hoverlabel\":{\"align\":\"left\"},\"hovermode\":\"closest\",\"mapbox\":{\"style\":\"light\"},\"paper_bgcolor\":\"white\",\"plot_bgcolor\":\"white\",\"polar\":{\"angularaxis\":{\"gridcolor\":\"rgb(232,232,232)\",\"linecolor\":\"rgb(36,36,36)\",\"showgrid\":false,\"showline\":true,\"ticks\":\"outside\"},\"bgcolor\":\"white\",\"radialaxis\":{\"gridcolor\":\"rgb(232,232,232)\",\"linecolor\":\"rgb(36,36,36)\",\"showgrid\":false,\"showline\":true,\"ticks\":\"outside\"}},\"scene\":{\"xaxis\":{\"backgroundcolor\":\"white\",\"gridcolor\":\"rgb(232,232,232)\",\"gridwidth\":2,\"linecolor\":\"rgb(36,36,36)\",\"showbackground\":true,\"showgrid\":false,\"showline\":true,\"ticks\":\"outside\",\"zeroline\":false,\"zerolinecolor\":\"rgb(36,36,36)\"},\"yaxis\":{\"backgroundcolor\":\"white\",\"gridcolor\":\"rgb(232,232,232)\",\"gridwidth\":2,\"linecolor\":\"rgb(36,36,36)\",\"showbackground\":true,\"showgrid\":false,\"showline\":true,\"ticks\":\"outside\",\"zeroline\":false,\"zerolinecolor\":\"rgb(36,36,36)\"},\"zaxis\":{\"backgroundcolor\":\"white\",\"gridcolor\":\"rgb(232,232,232)\",\"gridwidth\":2,\"linecolor\":\"rgb(36,36,36)\",\"showbackground\":true,\"showgrid\":false,\"showline\":true,\"ticks\":\"outside\",\"zeroline\":false,\"zerolinecolor\":\"rgb(36,36,36)\"}},\"shapedefaults\":{\"fillcolor\":\"black\",\"line\":{\"width\":0},\"opacity\":0.3},\"ternary\":{\"aaxis\":{\"gridcolor\":\"rgb(232,232,232)\",\"linecolor\":\"rgb(36,36,36)\",\"showgrid\":false,\"showline\":true,\"ticks\":\"outside\"},\"baxis\":{\"gridcolor\":\"rgb(232,232,232)\",\"linecolor\":\"rgb(36,36,36)\",\"showgrid\":false,\"showline\":true,\"ticks\":\"outside\"},\"bgcolor\":\"white\",\"caxis\":{\"gridcolor\":\"rgb(232,232,232)\",\"linecolor\":\"rgb(36,36,36)\",\"showgrid\":false,\"showline\":true,\"ticks\":\"outside\"}},\"title\":{\"x\":0.05},\"xaxis\":{\"automargin\":true,\"gridcolor\":\"rgb(232,232,232)\",\"linecolor\":\"rgb(36,36,36)\",\"showgrid\":false,\"showline\":true,\"ticks\":\"outside\",\"title\":{\"standoff\":15},\"zeroline\":false,\"zerolinecolor\":\"rgb(36,36,36)\"},\"yaxis\":{\"automargin\":true,\"gridcolor\":\"rgb(232,232,232)\",\"linecolor\":\"rgb(36,36,36)\",\"showgrid\":false,\"showline\":true,\"ticks\":\"outside\",\"title\":{\"standoff\":15},\"zeroline\":false,\"zerolinecolor\":\"rgb(36,36,36)\"}}},\"xaxis\":{\"anchor\":\"y\",\"domain\":[0.0,1.0],\"title\":{\"text\":\"x\"}},\"yaxis\":{\"anchor\":\"x\",\"domain\":[0.0,1.0],\"title\":{\"text\":\"y\"}},\"legend\":{\"tracegroupgap\":0},\"title\":{\"text\":\"CNN Training Loss Plot\"}},                        {\"responsive\": true}                    ).then(function(){\n",
       "                            \n",
       "var gd = document.getElementById('854e5531-2c55-4d12-b873-267bfa459656');\n",
       "var x = new MutationObserver(function (mutations, observer) {{\n",
       "        var display = window.getComputedStyle(gd).display;\n",
       "        if (!display || display === 'none') {{\n",
       "            console.log([gd, 'removed!']);\n",
       "            Plotly.purge(gd);\n",
       "            observer.disconnect();\n",
       "        }}\n",
       "}});\n",
       "\n",
       "// Listen for the removal of the full notebook cells\n",
       "var notebookContainer = gd.closest('#notebook-container');\n",
       "if (notebookContainer) {{\n",
       "    x.observe(notebookContainer, {childList: true});\n",
       "}}\n",
       "\n",
       "// Listen for the clearing of the current output cell\n",
       "var outputEl = gd.closest('.output');\n",
       "if (outputEl) {{\n",
       "    x.observe(outputEl, {childList: true});\n",
       "}}\n",
       "\n",
       "                        })                };                });            </script>        </div>"
      ]
     },
     "metadata": {},
     "output_type": "display_data"
    },
    {
     "data": {
      "text/html": [
       "<div>                            <div id=\"4c3360f8-e9d8-4e6d-8e6d-0ff2d73eee6e\" class=\"plotly-graph-div\" style=\"height:525px; width:100%;\"></div>            <script type=\"text/javascript\">                require([\"plotly\"], function(Plotly) {                    window.PLOTLYENV=window.PLOTLYENV || {};                                    if (document.getElementById(\"4c3360f8-e9d8-4e6d-8e6d-0ff2d73eee6e\")) {                    Plotly.newPlot(                        \"4c3360f8-e9d8-4e6d-8e6d-0ff2d73eee6e\",                        [{\"hovertemplate\":\"x=%{x}<br>y=%{y}<extra></extra>\",\"legendgroup\":\"\",\"line\":{\"color\":\"#1F77B4\",\"dash\":\"solid\"},\"marker\":{\"symbol\":\"circle\"},\"mode\":\"lines\",\"name\":\"\",\"orientation\":\"v\",\"showlegend\":false,\"x\":[0,1,2,3,4,5,6],\"xaxis\":\"x\",\"y\":[0.07700254768133163,0.05386749282479286,0.06366730481386185,0.065895676612854,0.06849565356969833,0.06013856455683708,0.062223296612501144],\"yaxis\":\"y\",\"type\":\"scatter\"}],                        {\"template\":{\"data\":{\"barpolar\":[{\"marker\":{\"line\":{\"color\":\"white\",\"width\":0.5},\"pattern\":{\"fillmode\":\"overlay\",\"size\":10,\"solidity\":0.2}},\"type\":\"barpolar\"}],\"bar\":[{\"error_x\":{\"color\":\"rgb(36,36,36)\"},\"error_y\":{\"color\":\"rgb(36,36,36)\"},\"marker\":{\"line\":{\"color\":\"white\",\"width\":0.5},\"pattern\":{\"fillmode\":\"overlay\",\"size\":10,\"solidity\":0.2}},\"type\":\"bar\"}],\"carpet\":[{\"aaxis\":{\"endlinecolor\":\"rgb(36,36,36)\",\"gridcolor\":\"white\",\"linecolor\":\"white\",\"minorgridcolor\":\"white\",\"startlinecolor\":\"rgb(36,36,36)\"},\"baxis\":{\"endlinecolor\":\"rgb(36,36,36)\",\"gridcolor\":\"white\",\"linecolor\":\"white\",\"minorgridcolor\":\"white\",\"startlinecolor\":\"rgb(36,36,36)\"},\"type\":\"carpet\"}],\"choropleth\":[{\"colorbar\":{\"outlinewidth\":1,\"tickcolor\":\"rgb(36,36,36)\",\"ticks\":\"outside\"},\"type\":\"choropleth\"}],\"contourcarpet\":[{\"colorbar\":{\"outlinewidth\":1,\"tickcolor\":\"rgb(36,36,36)\",\"ticks\":\"outside\"},\"type\":\"contourcarpet\"}],\"contour\":[{\"colorbar\":{\"outlinewidth\":1,\"tickcolor\":\"rgb(36,36,36)\",\"ticks\":\"outside\"},\"colorscale\":[[0.0,\"#440154\"],[0.1111111111111111,\"#482878\"],[0.2222222222222222,\"#3e4989\"],[0.3333333333333333,\"#31688e\"],[0.4444444444444444,\"#26828e\"],[0.5555555555555556,\"#1f9e89\"],[0.6666666666666666,\"#35b779\"],[0.7777777777777778,\"#6ece58\"],[0.8888888888888888,\"#b5de2b\"],[1.0,\"#fde725\"]],\"type\":\"contour\"}],\"heatmapgl\":[{\"colorbar\":{\"outlinewidth\":1,\"tickcolor\":\"rgb(36,36,36)\",\"ticks\":\"outside\"},\"colorscale\":[[0.0,\"#440154\"],[0.1111111111111111,\"#482878\"],[0.2222222222222222,\"#3e4989\"],[0.3333333333333333,\"#31688e\"],[0.4444444444444444,\"#26828e\"],[0.5555555555555556,\"#1f9e89\"],[0.6666666666666666,\"#35b779\"],[0.7777777777777778,\"#6ece58\"],[0.8888888888888888,\"#b5de2b\"],[1.0,\"#fde725\"]],\"type\":\"heatmapgl\"}],\"heatmap\":[{\"colorbar\":{\"outlinewidth\":1,\"tickcolor\":\"rgb(36,36,36)\",\"ticks\":\"outside\"},\"colorscale\":[[0.0,\"#440154\"],[0.1111111111111111,\"#482878\"],[0.2222222222222222,\"#3e4989\"],[0.3333333333333333,\"#31688e\"],[0.4444444444444444,\"#26828e\"],[0.5555555555555556,\"#1f9e89\"],[0.6666666666666666,\"#35b779\"],[0.7777777777777778,\"#6ece58\"],[0.8888888888888888,\"#b5de2b\"],[1.0,\"#fde725\"]],\"type\":\"heatmap\"}],\"histogram2dcontour\":[{\"colorbar\":{\"outlinewidth\":1,\"tickcolor\":\"rgb(36,36,36)\",\"ticks\":\"outside\"},\"colorscale\":[[0.0,\"#440154\"],[0.1111111111111111,\"#482878\"],[0.2222222222222222,\"#3e4989\"],[0.3333333333333333,\"#31688e\"],[0.4444444444444444,\"#26828e\"],[0.5555555555555556,\"#1f9e89\"],[0.6666666666666666,\"#35b779\"],[0.7777777777777778,\"#6ece58\"],[0.8888888888888888,\"#b5de2b\"],[1.0,\"#fde725\"]],\"type\":\"histogram2dcontour\"}],\"histogram2d\":[{\"colorbar\":{\"outlinewidth\":1,\"tickcolor\":\"rgb(36,36,36)\",\"ticks\":\"outside\"},\"colorscale\":[[0.0,\"#440154\"],[0.1111111111111111,\"#482878\"],[0.2222222222222222,\"#3e4989\"],[0.3333333333333333,\"#31688e\"],[0.4444444444444444,\"#26828e\"],[0.5555555555555556,\"#1f9e89\"],[0.6666666666666666,\"#35b779\"],[0.7777777777777778,\"#6ece58\"],[0.8888888888888888,\"#b5de2b\"],[1.0,\"#fde725\"]],\"type\":\"histogram2d\"}],\"histogram\":[{\"marker\":{\"line\":{\"color\":\"white\",\"width\":0.6}},\"type\":\"histogram\"}],\"mesh3d\":[{\"colorbar\":{\"outlinewidth\":1,\"tickcolor\":\"rgb(36,36,36)\",\"ticks\":\"outside\"},\"type\":\"mesh3d\"}],\"parcoords\":[{\"line\":{\"colorbar\":{\"outlinewidth\":1,\"tickcolor\":\"rgb(36,36,36)\",\"ticks\":\"outside\"}},\"type\":\"parcoords\"}],\"pie\":[{\"automargin\":true,\"type\":\"pie\"}],\"scatter3d\":[{\"line\":{\"colorbar\":{\"outlinewidth\":1,\"tickcolor\":\"rgb(36,36,36)\",\"ticks\":\"outside\"}},\"marker\":{\"colorbar\":{\"outlinewidth\":1,\"tickcolor\":\"rgb(36,36,36)\",\"ticks\":\"outside\"}},\"type\":\"scatter3d\"}],\"scattercarpet\":[{\"marker\":{\"colorbar\":{\"outlinewidth\":1,\"tickcolor\":\"rgb(36,36,36)\",\"ticks\":\"outside\"}},\"type\":\"scattercarpet\"}],\"scattergeo\":[{\"marker\":{\"colorbar\":{\"outlinewidth\":1,\"tickcolor\":\"rgb(36,36,36)\",\"ticks\":\"outside\"}},\"type\":\"scattergeo\"}],\"scattergl\":[{\"marker\":{\"colorbar\":{\"outlinewidth\":1,\"tickcolor\":\"rgb(36,36,36)\",\"ticks\":\"outside\"}},\"type\":\"scattergl\"}],\"scattermapbox\":[{\"marker\":{\"colorbar\":{\"outlinewidth\":1,\"tickcolor\":\"rgb(36,36,36)\",\"ticks\":\"outside\"}},\"type\":\"scattermapbox\"}],\"scatterpolargl\":[{\"marker\":{\"colorbar\":{\"outlinewidth\":1,\"tickcolor\":\"rgb(36,36,36)\",\"ticks\":\"outside\"}},\"type\":\"scatterpolargl\"}],\"scatterpolar\":[{\"marker\":{\"colorbar\":{\"outlinewidth\":1,\"tickcolor\":\"rgb(36,36,36)\",\"ticks\":\"outside\"}},\"type\":\"scatterpolar\"}],\"scatter\":[{\"fillpattern\":{\"fillmode\":\"overlay\",\"size\":10,\"solidity\":0.2},\"type\":\"scatter\"}],\"scatterternary\":[{\"marker\":{\"colorbar\":{\"outlinewidth\":1,\"tickcolor\":\"rgb(36,36,36)\",\"ticks\":\"outside\"}},\"type\":\"scatterternary\"}],\"surface\":[{\"colorbar\":{\"outlinewidth\":1,\"tickcolor\":\"rgb(36,36,36)\",\"ticks\":\"outside\"},\"colorscale\":[[0.0,\"#440154\"],[0.1111111111111111,\"#482878\"],[0.2222222222222222,\"#3e4989\"],[0.3333333333333333,\"#31688e\"],[0.4444444444444444,\"#26828e\"],[0.5555555555555556,\"#1f9e89\"],[0.6666666666666666,\"#35b779\"],[0.7777777777777778,\"#6ece58\"],[0.8888888888888888,\"#b5de2b\"],[1.0,\"#fde725\"]],\"type\":\"surface\"}],\"table\":[{\"cells\":{\"fill\":{\"color\":\"rgb(237,237,237)\"},\"line\":{\"color\":\"white\"}},\"header\":{\"fill\":{\"color\":\"rgb(217,217,217)\"},\"line\":{\"color\":\"white\"}},\"type\":\"table\"}]},\"layout\":{\"annotationdefaults\":{\"arrowhead\":0,\"arrowwidth\":1},\"autotypenumbers\":\"strict\",\"coloraxis\":{\"colorbar\":{\"outlinewidth\":1,\"tickcolor\":\"rgb(36,36,36)\",\"ticks\":\"outside\"}},\"colorscale\":{\"diverging\":[[0.0,\"rgb(103,0,31)\"],[0.1,\"rgb(178,24,43)\"],[0.2,\"rgb(214,96,77)\"],[0.3,\"rgb(244,165,130)\"],[0.4,\"rgb(253,219,199)\"],[0.5,\"rgb(247,247,247)\"],[0.6,\"rgb(209,229,240)\"],[0.7,\"rgb(146,197,222)\"],[0.8,\"rgb(67,147,195)\"],[0.9,\"rgb(33,102,172)\"],[1.0,\"rgb(5,48,97)\"]],\"sequential\":[[0.0,\"#440154\"],[0.1111111111111111,\"#482878\"],[0.2222222222222222,\"#3e4989\"],[0.3333333333333333,\"#31688e\"],[0.4444444444444444,\"#26828e\"],[0.5555555555555556,\"#1f9e89\"],[0.6666666666666666,\"#35b779\"],[0.7777777777777778,\"#6ece58\"],[0.8888888888888888,\"#b5de2b\"],[1.0,\"#fde725\"]],\"sequentialminus\":[[0.0,\"#440154\"],[0.1111111111111111,\"#482878\"],[0.2222222222222222,\"#3e4989\"],[0.3333333333333333,\"#31688e\"],[0.4444444444444444,\"#26828e\"],[0.5555555555555556,\"#1f9e89\"],[0.6666666666666666,\"#35b779\"],[0.7777777777777778,\"#6ece58\"],[0.8888888888888888,\"#b5de2b\"],[1.0,\"#fde725\"]]},\"colorway\":[\"#1F77B4\",\"#FF7F0E\",\"#2CA02C\",\"#D62728\",\"#9467BD\",\"#8C564B\",\"#E377C2\",\"#7F7F7F\",\"#BCBD22\",\"#17BECF\"],\"font\":{\"color\":\"rgb(36,36,36)\"},\"geo\":{\"bgcolor\":\"white\",\"lakecolor\":\"white\",\"landcolor\":\"white\",\"showlakes\":true,\"showland\":true,\"subunitcolor\":\"white\"},\"hoverlabel\":{\"align\":\"left\"},\"hovermode\":\"closest\",\"mapbox\":{\"style\":\"light\"},\"paper_bgcolor\":\"white\",\"plot_bgcolor\":\"white\",\"polar\":{\"angularaxis\":{\"gridcolor\":\"rgb(232,232,232)\",\"linecolor\":\"rgb(36,36,36)\",\"showgrid\":false,\"showline\":true,\"ticks\":\"outside\"},\"bgcolor\":\"white\",\"radialaxis\":{\"gridcolor\":\"rgb(232,232,232)\",\"linecolor\":\"rgb(36,36,36)\",\"showgrid\":false,\"showline\":true,\"ticks\":\"outside\"}},\"scene\":{\"xaxis\":{\"backgroundcolor\":\"white\",\"gridcolor\":\"rgb(232,232,232)\",\"gridwidth\":2,\"linecolor\":\"rgb(36,36,36)\",\"showbackground\":true,\"showgrid\":false,\"showline\":true,\"ticks\":\"outside\",\"zeroline\":false,\"zerolinecolor\":\"rgb(36,36,36)\"},\"yaxis\":{\"backgroundcolor\":\"white\",\"gridcolor\":\"rgb(232,232,232)\",\"gridwidth\":2,\"linecolor\":\"rgb(36,36,36)\",\"showbackground\":true,\"showgrid\":false,\"showline\":true,\"ticks\":\"outside\",\"zeroline\":false,\"zerolinecolor\":\"rgb(36,36,36)\"},\"zaxis\":{\"backgroundcolor\":\"white\",\"gridcolor\":\"rgb(232,232,232)\",\"gridwidth\":2,\"linecolor\":\"rgb(36,36,36)\",\"showbackground\":true,\"showgrid\":false,\"showline\":true,\"ticks\":\"outside\",\"zeroline\":false,\"zerolinecolor\":\"rgb(36,36,36)\"}},\"shapedefaults\":{\"fillcolor\":\"black\",\"line\":{\"width\":0},\"opacity\":0.3},\"ternary\":{\"aaxis\":{\"gridcolor\":\"rgb(232,232,232)\",\"linecolor\":\"rgb(36,36,36)\",\"showgrid\":false,\"showline\":true,\"ticks\":\"outside\"},\"baxis\":{\"gridcolor\":\"rgb(232,232,232)\",\"linecolor\":\"rgb(36,36,36)\",\"showgrid\":false,\"showline\":true,\"ticks\":\"outside\"},\"bgcolor\":\"white\",\"caxis\":{\"gridcolor\":\"rgb(232,232,232)\",\"linecolor\":\"rgb(36,36,36)\",\"showgrid\":false,\"showline\":true,\"ticks\":\"outside\"}},\"title\":{\"x\":0.05},\"xaxis\":{\"automargin\":true,\"gridcolor\":\"rgb(232,232,232)\",\"linecolor\":\"rgb(36,36,36)\",\"showgrid\":false,\"showline\":true,\"ticks\":\"outside\",\"title\":{\"standoff\":15},\"zeroline\":false,\"zerolinecolor\":\"rgb(36,36,36)\"},\"yaxis\":{\"automargin\":true,\"gridcolor\":\"rgb(232,232,232)\",\"linecolor\":\"rgb(36,36,36)\",\"showgrid\":false,\"showline\":true,\"ticks\":\"outside\",\"title\":{\"standoff\":15},\"zeroline\":false,\"zerolinecolor\":\"rgb(36,36,36)\"}}},\"xaxis\":{\"anchor\":\"y\",\"domain\":[0.0,1.0],\"title\":{\"text\":\"x\"}},\"yaxis\":{\"anchor\":\"x\",\"domain\":[0.0,1.0],\"title\":{\"text\":\"y\"}},\"legend\":{\"tracegroupgap\":0},\"title\":{\"text\":\"CNN Validation Loss Plot\"}},                        {\"responsive\": true}                    ).then(function(){\n",
       "                            \n",
       "var gd = document.getElementById('4c3360f8-e9d8-4e6d-8e6d-0ff2d73eee6e');\n",
       "var x = new MutationObserver(function (mutations, observer) {{\n",
       "        var display = window.getComputedStyle(gd).display;\n",
       "        if (!display || display === 'none') {{\n",
       "            console.log([gd, 'removed!']);\n",
       "            Plotly.purge(gd);\n",
       "            observer.disconnect();\n",
       "        }}\n",
       "}});\n",
       "\n",
       "// Listen for the removal of the full notebook cells\n",
       "var notebookContainer = gd.closest('#notebook-container');\n",
       "if (notebookContainer) {{\n",
       "    x.observe(notebookContainer, {childList: true});\n",
       "}}\n",
       "\n",
       "// Listen for the clearing of the current output cell\n",
       "var outputEl = gd.closest('.output');\n",
       "if (outputEl) {{\n",
       "    x.observe(outputEl, {childList: true});\n",
       "}}\n",
       "\n",
       "                        })                };                });            </script>        </div>"
      ]
     },
     "metadata": {},
     "output_type": "display_data"
    }
   ],
   "source": [
    "fig = px.line(y=history.history['loss'], template='simple_white',title = 'CNN Training Loss Plot')\n",
    "fig1 = px.line(y=history.history['val_loss'], template='simple_white',title = 'CNN Validation Loss Plot')\n",
    "fig.show()\n",
    "fig1.show()"
   ]
  },
  {
   "cell_type": "code",
   "execution_count": 30,
   "id": "b8d9faa2",
   "metadata": {
    "execution": {
     "iopub.execute_input": "2022-08-07T15:37:47.176717Z",
     "iopub.status.busy": "2022-08-07T15:37:47.176092Z",
     "iopub.status.idle": "2022-08-07T15:37:47.620292Z",
     "shell.execute_reply": "2022-08-07T15:37:47.619303Z"
    },
    "papermill": {
     "duration": 0.459583,
     "end_time": "2022-08-07T15:37:47.622764",
     "exception": false,
     "start_time": "2022-08-07T15:37:47.163181",
     "status": "completed"
    },
    "tags": []
   },
   "outputs": [],
   "source": [
    "y_prob = model.predict(X_test)\n",
    "y_pred = y_prob.argmax(axis=1)"
   ]
  },
  {
   "cell_type": "code",
   "execution_count": 31,
   "id": "9b2f63a0",
   "metadata": {
    "execution": {
     "iopub.execute_input": "2022-08-07T15:37:47.650221Z",
     "iopub.status.busy": "2022-08-07T15:37:47.649576Z",
     "iopub.status.idle": "2022-08-07T15:37:47.656680Z",
     "shell.execute_reply": "2022-08-07T15:37:47.655470Z"
    },
    "papermill": {
     "duration": 0.023075,
     "end_time": "2022-08-07T15:37:47.658686",
     "exception": false,
     "start_time": "2022-08-07T15:37:47.635611",
     "status": "completed"
    },
    "tags": []
   },
   "outputs": [
    {
     "name": "stdout",
     "output_type": "stream",
     "text": [
      "The accuracy of our model is 0.982\n"
     ]
    }
   ],
   "source": [
    "print('The accuracy of our model is %0.3f' % (accuracy_score(y_test,y_pred)))"
   ]
  },
  {
   "cell_type": "markdown",
   "id": "a414e7f4",
   "metadata": {
    "papermill": {
     "duration": 0.011733,
     "end_time": "2022-08-07T15:37:47.682602",
     "exception": false,
     "start_time": "2022-08-07T15:37:47.670869",
     "status": "completed"
    },
    "tags": []
   },
   "source": [
    "**Further Resources**\n",
    "\n",
    "1. https://colab.research.google.com/drive/1dJZZdhngq4eN83sQCupyh2QbyzrsBB-e?usp=sharing\n",
    "2. https://developers.google.com/codelabs/tensorflow-3-convolutions#5\n",
    "3. https://www.kaggle.com/code/yassineghouzam/introduction-to-cnn-keras-0-997-top-6"
   ]
  }
 ],
 "metadata": {
  "kernelspec": {
   "display_name": "Python 3",
   "language": "python",
   "name": "python3"
  },
  "language_info": {
   "codemirror_mode": {
    "name": "ipython",
    "version": 3
   },
   "file_extension": ".py",
   "mimetype": "text/x-python",
   "name": "python",
   "nbconvert_exporter": "python",
   "pygments_lexer": "ipython3",
   "version": "3.7.12"
  },
  "papermill": {
   "default_parameters": {},
   "duration": 119.337361,
   "end_time": "2022-08-07T15:37:51.359850",
   "environment_variables": {},
   "exception": null,
   "input_path": "__notebook__.ipynb",
   "output_path": "__notebook__.ipynb",
   "parameters": {},
   "start_time": "2022-08-07T15:35:52.022489",
   "version": "2.3.4"
  }
 },
 "nbformat": 4,
 "nbformat_minor": 5
}
