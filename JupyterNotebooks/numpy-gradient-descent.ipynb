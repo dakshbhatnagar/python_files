{
 "cells": [
  {
   "cell_type": "code",
   "execution_count": 1,
   "id": "d0eb0c9e",
   "metadata": {
    "_cell_guid": "b1076dfc-b9ad-4769-8c92-a6c4dae69d19",
    "_uuid": "8f2839f25d086af736a60e9eeb907d3b93b6e0e5",
    "execution": {
     "iopub.execute_input": "2024-04-12T15:46:14.607994Z",
     "iopub.status.busy": "2024-04-12T15:46:14.607240Z",
     "iopub.status.idle": "2024-04-12T15:46:15.274397Z",
     "shell.execute_reply": "2024-04-12T15:46:15.273521Z"
    },
    "papermill": {
     "duration": 0.675099,
     "end_time": "2024-04-12T15:46:15.276488",
     "exception": false,
     "start_time": "2024-04-12T15:46:14.601389",
     "status": "completed"
    },
    "tags": []
   },
   "outputs": [
    {
     "name": "stdout",
     "output_type": "stream",
     "text": [
      "/kaggle/input/boston-housing-dataset/BostonHousing.csv\n"
     ]
    }
   ],
   "source": [
    "import numpy as np\n",
    "import matplotlib.pyplot as plt\n",
    "plt.rcParams['font.size'] = 14\n",
    "plt.rcParams['figure.figsize'] = (22, 5)\n",
    "plt.rcParams['figure.dpi'] = 100\n",
    "import pandas as pd # data processing, CSV file I/O (e.g. pd.read_csv)\n",
    "import os\n",
    "for dirname, _, filenames in os.walk('/kaggle/input'):\n",
    "    for filename in filenames:\n",
    "        print(os.path.join(dirname, filename))"
   ]
  },
  {
   "cell_type": "code",
   "execution_count": 2,
   "id": "004d9da8",
   "metadata": {
    "execution": {
     "iopub.execute_input": "2024-04-12T15:46:15.286237Z",
     "iopub.status.busy": "2024-04-12T15:46:15.285817Z",
     "iopub.status.idle": "2024-04-12T15:46:15.309069Z",
     "shell.execute_reply": "2024-04-12T15:46:15.308155Z"
    },
    "papermill": {
     "duration": 0.030248,
     "end_time": "2024-04-12T15:46:15.311152",
     "exception": false,
     "start_time": "2024-04-12T15:46:15.280904",
     "status": "completed"
    },
    "tags": []
   },
   "outputs": [],
   "source": [
    "df = pd.read_csv('/kaggle/input/boston-housing-dataset/BostonHousing.csv')\n",
    "df = df.fillna(0)"
   ]
  },
  {
   "cell_type": "code",
   "execution_count": 3,
   "id": "48c0aacb",
   "metadata": {
    "execution": {
     "iopub.execute_input": "2024-04-12T15:46:15.320713Z",
     "iopub.status.busy": "2024-04-12T15:46:15.320135Z",
     "iopub.status.idle": "2024-04-12T15:46:15.342804Z",
     "shell.execute_reply": "2024-04-12T15:46:15.341938Z"
    },
    "papermill": {
     "duration": 0.029593,
     "end_time": "2024-04-12T15:46:15.344757",
     "exception": false,
     "start_time": "2024-04-12T15:46:15.315164",
     "status": "completed"
    },
    "tags": []
   },
   "outputs": [
    {
     "data": {
      "text/html": [
       "<div>\n",
       "<style scoped>\n",
       "    .dataframe tbody tr th:only-of-type {\n",
       "        vertical-align: middle;\n",
       "    }\n",
       "\n",
       "    .dataframe tbody tr th {\n",
       "        vertical-align: top;\n",
       "    }\n",
       "\n",
       "    .dataframe thead th {\n",
       "        text-align: right;\n",
       "    }\n",
       "</style>\n",
       "<table border=\"1\" class=\"dataframe\">\n",
       "  <thead>\n",
       "    <tr style=\"text-align: right;\">\n",
       "      <th></th>\n",
       "      <th>crim</th>\n",
       "      <th>zn</th>\n",
       "      <th>indus</th>\n",
       "      <th>chas</th>\n",
       "      <th>nox</th>\n",
       "      <th>rm</th>\n",
       "      <th>age</th>\n",
       "      <th>dis</th>\n",
       "      <th>rad</th>\n",
       "      <th>tax</th>\n",
       "      <th>ptratio</th>\n",
       "      <th>b</th>\n",
       "      <th>lstat</th>\n",
       "      <th>medv</th>\n",
       "    </tr>\n",
       "  </thead>\n",
       "  <tbody>\n",
       "    <tr>\n",
       "      <th>0</th>\n",
       "      <td>0.00632</td>\n",
       "      <td>18.0</td>\n",
       "      <td>2.31</td>\n",
       "      <td>0</td>\n",
       "      <td>0.538</td>\n",
       "      <td>6.575</td>\n",
       "      <td>65.2</td>\n",
       "      <td>4.0900</td>\n",
       "      <td>1</td>\n",
       "      <td>296</td>\n",
       "      <td>15.3</td>\n",
       "      <td>396.90</td>\n",
       "      <td>4.98</td>\n",
       "      <td>24.0</td>\n",
       "    </tr>\n",
       "    <tr>\n",
       "      <th>1</th>\n",
       "      <td>0.02731</td>\n",
       "      <td>0.0</td>\n",
       "      <td>7.07</td>\n",
       "      <td>0</td>\n",
       "      <td>0.469</td>\n",
       "      <td>6.421</td>\n",
       "      <td>78.9</td>\n",
       "      <td>4.9671</td>\n",
       "      <td>2</td>\n",
       "      <td>242</td>\n",
       "      <td>17.8</td>\n",
       "      <td>396.90</td>\n",
       "      <td>9.14</td>\n",
       "      <td>21.6</td>\n",
       "    </tr>\n",
       "    <tr>\n",
       "      <th>2</th>\n",
       "      <td>0.02729</td>\n",
       "      <td>0.0</td>\n",
       "      <td>7.07</td>\n",
       "      <td>0</td>\n",
       "      <td>0.469</td>\n",
       "      <td>7.185</td>\n",
       "      <td>61.1</td>\n",
       "      <td>4.9671</td>\n",
       "      <td>2</td>\n",
       "      <td>242</td>\n",
       "      <td>17.8</td>\n",
       "      <td>392.83</td>\n",
       "      <td>4.03</td>\n",
       "      <td>34.7</td>\n",
       "    </tr>\n",
       "    <tr>\n",
       "      <th>3</th>\n",
       "      <td>0.03237</td>\n",
       "      <td>0.0</td>\n",
       "      <td>2.18</td>\n",
       "      <td>0</td>\n",
       "      <td>0.458</td>\n",
       "      <td>6.998</td>\n",
       "      <td>45.8</td>\n",
       "      <td>6.0622</td>\n",
       "      <td>3</td>\n",
       "      <td>222</td>\n",
       "      <td>18.7</td>\n",
       "      <td>394.63</td>\n",
       "      <td>2.94</td>\n",
       "      <td>33.4</td>\n",
       "    </tr>\n",
       "    <tr>\n",
       "      <th>4</th>\n",
       "      <td>0.06905</td>\n",
       "      <td>0.0</td>\n",
       "      <td>2.18</td>\n",
       "      <td>0</td>\n",
       "      <td>0.458</td>\n",
       "      <td>7.147</td>\n",
       "      <td>54.2</td>\n",
       "      <td>6.0622</td>\n",
       "      <td>3</td>\n",
       "      <td>222</td>\n",
       "      <td>18.7</td>\n",
       "      <td>396.90</td>\n",
       "      <td>5.33</td>\n",
       "      <td>36.2</td>\n",
       "    </tr>\n",
       "  </tbody>\n",
       "</table>\n",
       "</div>"
      ],
      "text/plain": [
       "      crim    zn  indus  chas    nox     rm   age     dis  rad  tax  ptratio  \\\n",
       "0  0.00632  18.0   2.31     0  0.538  6.575  65.2  4.0900    1  296     15.3   \n",
       "1  0.02731   0.0   7.07     0  0.469  6.421  78.9  4.9671    2  242     17.8   \n",
       "2  0.02729   0.0   7.07     0  0.469  7.185  61.1  4.9671    2  242     17.8   \n",
       "3  0.03237   0.0   2.18     0  0.458  6.998  45.8  6.0622    3  222     18.7   \n",
       "4  0.06905   0.0   2.18     0  0.458  7.147  54.2  6.0622    3  222     18.7   \n",
       "\n",
       "        b  lstat  medv  \n",
       "0  396.90   4.98  24.0  \n",
       "1  396.90   9.14  21.6  \n",
       "2  392.83   4.03  34.7  \n",
       "3  394.63   2.94  33.4  \n",
       "4  396.90   5.33  36.2  "
      ]
     },
     "execution_count": 3,
     "metadata": {},
     "output_type": "execute_result"
    }
   ],
   "source": [
    "df.head()"
   ]
  },
  {
   "cell_type": "code",
   "execution_count": 4,
   "id": "47b51ca2",
   "metadata": {
    "execution": {
     "iopub.execute_input": "2024-04-12T15:46:15.354421Z",
     "iopub.status.busy": "2024-04-12T15:46:15.354140Z",
     "iopub.status.idle": "2024-04-12T15:46:15.365958Z",
     "shell.execute_reply": "2024-04-12T15:46:15.365141Z"
    },
    "papermill": {
     "duration": 0.018998,
     "end_time": "2024-04-12T15:46:15.367908",
     "exception": false,
     "start_time": "2024-04-12T15:46:15.348910",
     "status": "completed"
    },
    "tags": []
   },
   "outputs": [],
   "source": [
    "X = df[df.columns[:-1]].values\n",
    "y = df[df.columns[-1]].values"
   ]
  },
  {
   "cell_type": "code",
   "execution_count": 5,
   "id": "3c2fd35e",
   "metadata": {
    "execution": {
     "iopub.execute_input": "2024-04-12T15:46:15.377356Z",
     "iopub.status.busy": "2024-04-12T15:46:15.377100Z",
     "iopub.status.idle": "2024-04-12T15:46:15.381761Z",
     "shell.execute_reply": "2024-04-12T15:46:15.380933Z"
    },
    "papermill": {
     "duration": 0.011631,
     "end_time": "2024-04-12T15:46:15.383736",
     "exception": false,
     "start_time": "2024-04-12T15:46:15.372105",
     "status": "completed"
    },
    "tags": []
   },
   "outputs": [],
   "source": [
    "def model(X, w, b):\n",
    "    return X @ w + b\n",
    "\n",
    "def mse(yhat, y):\n",
    "    return (np.sum((y - yhat)**2)) / len(y)"
   ]
  },
  {
   "cell_type": "markdown",
   "id": "b95b6c03",
   "metadata": {
    "papermill": {
     "duration": 0.003836,
     "end_time": "2024-04-12T15:46:15.391676",
     "exception": false,
     "start_time": "2024-04-12T15:46:15.387840",
     "status": "completed"
    },
    "tags": []
   },
   "source": [
    "## Differentiating the MSE and calculating the derivatives by hand\n",
    "\n",
    "$$\\large MSE = \\frac{1}{n} \\sum_{i=1}^{n} (y_i - \\hat{y}_i)^2$$\n",
    "\n",
    "**Differentiating w.r.t to the weights**\n",
    "\n",
    "Let start calculating the derivate of the MSE function using calculus with respect to the weights and the biases both. Let's say that using Power Rule we will get\n",
    "\n",
    "$$\\frac{dy}{dw} =  \\frac{1}{n} \\sum_{i=1}^{n} \\space 2{y_{i} - \\hat{y}_{i}}$$\n",
    "\n",
    "Now we will have to differentiate the term $y_{i} - \\hat{y}_{i}$. $y_{i}$ are constant values and constant values when differentiating become zero. We know from earlier that $\\hat{y}_{i} = mx + b$ so we can substitute this value and we will get \n",
    "\n",
    "$$\\frac{d}{dw} y_{i} - \\hat{y}_{i} =  0 - (m * x + b)$$\n",
    "\n",
    "\n",
    "whicch can then be simplified as \n",
    "\n",
    "$$\\frac{d}{dw}  y_{i} - \\hat{y}_{i} =  0 - (1 * x + 0)$$\n",
    "\n",
    "because $m$ and $w$ are the same thing and $b$ here is just another constant value so \n",
    "\n",
    "$$\\frac{d}{dw}  y_{i} - \\hat{y}_{i} =  -x $$\n",
    "\n",
    "Finally our derivative with respect to the weights will be \n",
    "\n",
    "\n",
    "$$\\frac{dy}{dw} =  \\frac{-2}{n} \\sum_{i=1}^{n} \\space ({y_{i} - \\hat{y}_{i}}) \\space {x}$$\n",
    "\n",
    "**Differentiating w.r.t to the bias**\n",
    "\n",
    "Let start calculating the derivate of the MSE function using calculus with respect to the weights and the biases both. Let's say that using Power Rule we will get\n",
    "\n",
    "$$\\frac{dy}{dw} =  \\frac{1}{n} \\sum_{i=1}^{n} \\space 2{y_{i} - \\hat{y}_{i}}$$\n",
    "\n",
    "Now we will have to differentiate the term $y_{i} - \\hat{y}_{i}$. $y_{i}$ are constant values and constant values when differentiating become zero. We know from earlier that $\\hat{y}_{i} = mx + b$ so we can substitute this value and we will get \n",
    "\n",
    "$$\\frac{d}{dw} y_{i} - \\hat{y}_{i} =  0 - (m * x + b)$$\n",
    "\n",
    "\n",
    "which can then be simplified as \n",
    "\n",
    "$$\\frac{d}{dw}  y_{i} - \\hat{y}_{i} =  0 - (0 + 1)$$\n",
    "\n",
    "because whenever a third term comes into the equation, we zero it out and here $m$ and $x$ are the third terms since we are differentiating the cost with respect to $b$ so now\n",
    "\n",
    "$$\\frac{d}{dw}  y_{i} - \\hat{y}_{i} =  -1 $$\n",
    "\n",
    "Finally our derivative with respect to the weights will be \n",
    "\n",
    "\n",
    "$$\\frac{dy}{dw} =  \\frac{-2}{n} \\sum_{i=1}^{n} \\space ({y_{i} - \\hat{y}_{i}}$$\n",
    "\n",
    "\n",
    "**Final derivative**\n",
    "\n",
    "$$\\frac{\\partial{y}}{\\partial{x}_{b}} = -\\frac{2}{n} \\sum_{i=1}^{n} (y_i - \\hat{y}_i)$$\n",
    "\n",
    "and \n",
    "\n",
    "$$\\frac{\\partial{y}}{\\partial{x}_{w}} = -\\frac{2}{n} \\sum_{i=1}^{n} (y_i - \\hat{y}_i) * x$$\n",
    "\n"
   ]
  },
  {
   "cell_type": "code",
   "execution_count": 6,
   "id": "1f912cb1",
   "metadata": {
    "execution": {
     "iopub.execute_input": "2024-04-12T15:46:15.400802Z",
     "iopub.status.busy": "2024-04-12T15:46:15.400563Z",
     "iopub.status.idle": "2024-04-12T15:46:15.405147Z",
     "shell.execute_reply": "2024-04-12T15:46:15.404323Z"
    },
    "papermill": {
     "duration": 0.011264,
     "end_time": "2024-04-12T15:46:15.407030",
     "exception": false,
     "start_time": "2024-04-12T15:46:15.395766",
     "status": "completed"
    },
    "tags": []
   },
   "outputs": [],
   "source": [
    "def derivative(yhat, y, x):\n",
    "    n = len(y)\n",
    "    error = yhat - y\n",
    "    derivative_w = -2/n * np.dot((y - yhat), x)\n",
    "    derivative_b = -2/n * sum(y - yhat)\n",
    "    return derivative_w, derivative_b"
   ]
  },
  {
   "cell_type": "code",
   "execution_count": 7,
   "id": "c063cc0c",
   "metadata": {
    "execution": {
     "iopub.execute_input": "2024-04-12T15:46:15.416060Z",
     "iopub.status.busy": "2024-04-12T15:46:15.415790Z",
     "iopub.status.idle": "2024-04-12T15:46:15.420658Z",
     "shell.execute_reply": "2024-04-12T15:46:15.419567Z"
    },
    "papermill": {
     "duration": 0.012045,
     "end_time": "2024-04-12T15:46:15.423098",
     "exception": false,
     "start_time": "2024-04-12T15:46:15.411053",
     "status": "completed"
    },
    "tags": []
   },
   "outputs": [],
   "source": [
    "scaledX = (X - X.min())/ (X.max()- X.min())\n",
    "scaledY = (y - y.min())/ (y.max()- y.min())"
   ]
  },
  {
   "cell_type": "code",
   "execution_count": null,
   "id": "c9e64313",
   "metadata": {
    "papermill": {
     "duration": 0.003879,
     "end_time": "2024-04-12T15:46:15.431082",
     "exception": false,
     "start_time": "2024-04-12T15:46:15.427203",
     "status": "completed"
    },
    "tags": []
   },
   "outputs": [],
   "source": []
  },
  {
   "cell_type": "code",
   "execution_count": 8,
   "id": "3f6a6790",
   "metadata": {
    "execution": {
     "iopub.execute_input": "2024-04-12T15:46:15.440422Z",
     "iopub.status.busy": "2024-04-12T15:46:15.440154Z",
     "iopub.status.idle": "2024-04-12T15:46:15.603202Z",
     "shell.execute_reply": "2024-04-12T15:46:15.602078Z"
    },
    "papermill": {
     "duration": 0.170059,
     "end_time": "2024-04-12T15:46:15.605247",
     "exception": false,
     "start_time": "2024-04-12T15:46:15.435188",
     "status": "completed"
    },
    "tags": []
   },
   "outputs": [
    {
     "name": "stdout",
     "output_type": "stream",
     "text": [
      "Before Training : \n",
      "Weights : [0.23676387 0.05780102 0.03306634 0.33335887 0.08428358 0.80553076\n",
      " 0.80901233 0.30242959 0.47378747 0.62537763 0.92235424 0.33085612\n",
      " 0.65225539], Bias  [0.77134145]\n",
      "--------------------------------------------------------------------------------\n",
      "After Training : \n",
      "Weights : [0.20704768 0.5030197  0.14165807 0.33579138 0.09310021 0.93435315\n",
      " 1.76924826 0.38901973 0.54596952 5.73137263 1.23322267 7.68011767\n",
      " 0.74230202], Bias  [13.94114462]\n"
     ]
    }
   ],
   "source": [
    "w = np.random.random(scaledX.shape[1])\n",
    "b = np.random.random(1)\n",
    "learning_rate = 0.001\n",
    "print(\"Before Training : \")\n",
    "print(f\"Weights : {w}, Bias  {b}\")\n",
    "\n",
    "# Lists to store error values and iteration numbers\n",
    "errors = []\n",
    "iterations = []\n",
    "\n",
    "for i in range(1000):\n",
    "    \n",
    "    preds = model(scaledX, w, b)\n",
    "    error = mse(preds, y)\n",
    "    gradient_w, gradient_b = derivative(preds, y, scaledX)\n",
    "    w = w - learning_rate * gradient_w\n",
    "    b = b - learning_rate * gradient_b\n",
    "    \n",
    "    # Append error and iteration number to lists\n",
    "    errors.append(error)\n",
    "    iterations.append(i)\n",
    "    \n",
    "print(\"-\"*80)\n",
    "print(\"After Training : \")\n",
    "print(f\"Weights : {w}, Bias  {b}\")"
   ]
  },
  {
   "cell_type": "code",
   "execution_count": 9,
   "id": "438d376f",
   "metadata": {
    "execution": {
     "iopub.execute_input": "2024-04-12T15:46:15.615451Z",
     "iopub.status.busy": "2024-04-12T15:46:15.615153Z",
     "iopub.status.idle": "2024-04-12T15:46:15.932757Z",
     "shell.execute_reply": "2024-04-12T15:46:15.931869Z"
    },
    "papermill": {
     "duration": 0.325209,
     "end_time": "2024-04-12T15:46:15.935028",
     "exception": false,
     "start_time": "2024-04-12T15:46:15.609819",
     "status": "completed"
    },
    "tags": []
   },
   "outputs": [
    {
     "data": {
      "image/png": "[encoded data removed]",
      "text/plain": [
       "<Figure size 2200x500 with 1 Axes>"
      ]
     },
     "metadata": {},
     "output_type": "display_data"
    }
   ],
   "source": [
    "# Plot the error vs. iteration\n",
    "plt.plot(iterations, errors)\n",
    "plt.xlabel('Iteration')\n",
    "plt.ylabel('Error')\n",
    "plt.title('Error vs. Iteration')\n",
    "plt.show()"
   ]
  },
  {
   "cell_type": "code",
   "execution_count": null,
   "id": "100ef451",
   "metadata": {
    "papermill": {
     "duration": 0.004644,
     "end_time": "2024-04-12T15:46:15.944563",
     "exception": false,
     "start_time": "2024-04-12T15:46:15.939919",
     "status": "completed"
    },
    "tags": []
   },
   "outputs": [],
   "source": []
  }
 ],
 "metadata": {
  "kaggle": {
   "accelerator": "gpu",
   "dataSources": [
    {
     "datasetId": 3606821,
     "sourceId": 6700194,
     "sourceType": "datasetVersion"
    }
   ],
   "dockerImageVersionId": 30683,
   "isGpuEnabled": true,
   "isInternetEnabled": true,
   "language": "python",
   "sourceType": "notebook"
  },
  "kernelspec": {
   "display_name": "Python 3",
   "language": "python",
   "name": "python3"
  },
  "language_info": {
   "codemirror_mode": {
    "name": "ipython",
    "version": 3
   },
   "file_extension": ".py",
   "mimetype": "text/x-python",
   "name": "python",
   "nbconvert_exporter": "python",
   "pygments_lexer": "ipython3",
   "version": "3.10.13"
  },
  "papermill": {
   "default_parameters": {},
   "duration": 4.431978,
   "end_time": "2024-04-12T15:46:16.267303",
   "environment_variables": {},
   "exception": null,
   "input_path": "__notebook__.ipynb",
   "output_path": "__notebook__.ipynb",
   "parameters": {},
   "start_time": "2024-04-12T15:46:11.835325",
   "version": "2.5.0"
  }
 },
 "nbformat": 4,
 "nbformat_minor": 5
}
