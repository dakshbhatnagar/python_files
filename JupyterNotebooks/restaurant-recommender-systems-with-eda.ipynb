{
 "cells": [
  {
   "cell_type": "markdown",
   "id": "837d0469",
   "metadata": {
    "papermill": {
     "duration": 0.06501,
     "end_time": "2022-10-10T07:01:40.507284",
     "exception": false,
     "start_time": "2022-10-10T07:01:40.442274",
     "status": "completed"
    },
    "tags": []
   },
   "source": [
    "## Recommender Systems\n",
    "\n",
    "A recommender system, or a recommendation system (sometimes replacing 'system' with a synonym such as platform or engine), is a subclass of information filtering system that provide suggestions for items that are most pertinent to a particular user. Typically, the suggestions refer to various decision-making processes, such as what product to purchase, what music to listen to, or what online news to read. Recommender systems are particularly useful when an individual needs to choose an item from a potentially overwhelming number of items that a service may offer.\n",
    "\n",
    "Recommender systems are used in a variety of areas, with commonly recognised examples taking the form of playlist generators for video and music services, product recommenders for online stores, or content recommenders for social media platforms and open web content recommenders. These systems can operate using a single input, like music, or multiple inputs within and across platforms like news, books and search queries. There are also popular recommender systems for specific topics like restaurants and online dating. Recommender systems have also been developed to explore research articles and experts, collaborators, and financial services\n",
    "\n",
    "![](https://thingsolver.com/wp-content/uploads/ph1-1024x647.png)\n",
    "\n",
    "Most of the e-commerce companies such as Amazon, Flipkart, Swiggy, HealthKart are most likely to use recommender systems since this is exactly how a user would end up discovering a product or a dish they might like but they may not have heard of since there are so much products or dishes to choose from.\n",
    "\n",
    "\n",
    "In this notebook we are gonna be looking at the restaurant data of Bengaluru city which is in India and try to make a system that recommeends restaurants to the user based on ratings.\n",
    "\n",
    "![](https://1000logos.net/wp-content/uploads/2021/06/Zomato-logo.png)\n",
    "\n",
    "Zomato (/zoʊmɑːtoʊ/) is an Indian multinational restaurant aggregator and food delivery company founded by **Deepinder Goyal** and **Pankaj Chaddah** in **2008**. Zomato provides information, menus and user-reviews of restaurants as well as food delivery options from partner restaurants in select cities. As of 2019, the service is available in 24 countries and in more than 10,000 cities"
   ]
  },
  {
   "cell_type": "code",
   "execution_count": 1,
   "id": "8ca58bbe",
   "metadata": {
    "_cell_guid": "b1076dfc-b9ad-4769-8c92-a6c4dae69d19",
    "_uuid": "8f2839f25d086af736a60e9eeb907d3b93b6e0e5",
    "execution": {
     "iopub.execute_input": "2022-10-10T07:01:40.638193Z",
     "iopub.status.busy": "2022-10-10T07:01:40.637601Z",
     "iopub.status.idle": "2022-10-10T07:01:43.258760Z",
     "shell.execute_reply": "2022-10-10T07:01:43.257683Z"
    },
    "papermill": {
     "duration": 2.687544,
     "end_time": "2022-10-10T07:01:43.261530",
     "exception": false,
     "start_time": "2022-10-10T07:01:40.573986",
     "status": "completed"
    },
    "tags": []
   },
   "outputs": [],
   "source": [
    "import pandas as pd\n",
    "import numpy as np\n",
    "import plotly.express as px\n",
    "import matplotlib.pyplot as plt\n",
    "import seaborn as sns\n",
    "%matplotlib inline\n",
    "plt.rcParams['font.size'] = 12\n",
    "plt.rcParams['figure.figsize'] = (15, 10)\n",
    "\n",
    "#supress warnings\n",
    "import warnings\n",
    "\n",
    "warnings.filterwarnings(\"ignore\")\n",
    "warnings.filterwarnings(\"ignore\", category=DeprecationWarning)\n",
    "warnings.filterwarnings(\"ignore\", category=UserWarning)\n",
    "warnings.filterwarnings(\"ignore\", category=FutureWarning)\n",
    "import re\n",
    "from sklearn.feature_extraction.text import TfidfVectorizer\n",
    "from sklearn.metrics.pairwise import cosine_similarity"
   ]
  },
  {
   "cell_type": "code",
   "execution_count": 2,
   "id": "81aeae19",
   "metadata": {
    "execution": {
     "iopub.execute_input": "2022-10-10T07:01:43.385093Z",
     "iopub.status.busy": "2022-10-10T07:01:43.384741Z",
     "iopub.status.idle": "2022-10-10T07:01:43.524351Z",
     "shell.execute_reply": "2022-10-10T07:01:43.523329Z"
    },
    "papermill": {
     "duration": 0.204787,
     "end_time": "2022-10-10T07:01:43.527314",
     "exception": false,
     "start_time": "2022-10-10T07:01:43.322527",
     "status": "completed"
    },
    "tags": []
   },
   "outputs": [
    {
     "data": {
      "text/html": [
       "<div>\n",
       "<style scoped>\n",
       "    .dataframe tbody tr th:only-of-type {\n",
       "        vertical-align: middle;\n",
       "    }\n",
       "\n",
       "    .dataframe tbody tr th {\n",
       "        vertical-align: top;\n",
       "    }\n",
       "\n",
       "    .dataframe thead th {\n",
       "        text-align: right;\n",
       "    }\n",
       "</style>\n",
       "<table border=\"1\" class=\"dataframe\">\n",
       "  <thead>\n",
       "    <tr style=\"text-align: right;\">\n",
       "      <th></th>\n",
       "      <th>Name</th>\n",
       "      <th>URL</th>\n",
       "      <th>Cuisines</th>\n",
       "      <th>Area</th>\n",
       "      <th>Timing</th>\n",
       "      <th>Full_Address</th>\n",
       "      <th>PhoneNumber</th>\n",
       "      <th>IsHomeDelivery</th>\n",
       "      <th>isTakeaway</th>\n",
       "      <th>isIndoorSeating</th>\n",
       "      <th>isVegOnly</th>\n",
       "      <th>Dinner Ratings</th>\n",
       "      <th>Dinner Reviews</th>\n",
       "      <th>Delivery Ratings</th>\n",
       "      <th>Delivery Reviews</th>\n",
       "      <th>KnownFor</th>\n",
       "      <th>PopularDishes</th>\n",
       "      <th>PeopleKnownFor</th>\n",
       "      <th>AverageCost</th>\n",
       "    </tr>\n",
       "  </thead>\n",
       "  <tbody>\n",
       "    <tr>\n",
       "      <th>0</th>\n",
       "      <td>Sri Udupi Park</td>\n",
       "      <td>https://www.zomato.com/bangalore/sri-udupi-par...</td>\n",
       "      <td>South Indian, North Indian, Chinese, Street Fo...</td>\n",
       "      <td>Indiranagar, Bangalore</td>\n",
       "      <td>7am – 11pm (Today)</td>\n",
       "      <td>273, Monalisa, 6th Main, 100 Feet Road, Indira...</td>\n",
       "      <td>+919945977774</td>\n",
       "      <td>1</td>\n",
       "      <td>1</td>\n",
       "      <td>1</td>\n",
       "      <td>1</td>\n",
       "      <td>4.0</td>\n",
       "      <td>462</td>\n",
       "      <td>4.1</td>\n",
       "      <td>16000</td>\n",
       "      <td>NaN</td>\n",
       "      <td>Filtered Coffee, Sambhar, Pav Bhaji, Gobi Manc...</td>\n",
       "      <td>Economical, Prompt Service, Hygiene, Quality F...</td>\n",
       "      <td>450</td>\n",
       "    </tr>\n",
       "    <tr>\n",
       "      <th>1</th>\n",
       "      <td>Meghana Foods</td>\n",
       "      <td>https://www.zomato.com/bangalore/meghana-foods...</td>\n",
       "      <td>Biryani, Andhra, North Indian, Seafood</td>\n",
       "      <td>Indiranagar, Bangalore</td>\n",
       "      <td>Opens at 6:30pm</td>\n",
       "      <td>544, First Floor, CMH Road, Near Indiranagar M...</td>\n",
       "      <td>+918041135050</td>\n",
       "      <td>1</td>\n",
       "      <td>1</td>\n",
       "      <td>1</td>\n",
       "      <td>0</td>\n",
       "      <td>4.3</td>\n",
       "      <td>1654</td>\n",
       "      <td>4.3</td>\n",
       "      <td>28600</td>\n",
       "      <td>Spicy Chicken Biryani</td>\n",
       "      <td>Authentic Hyderabadi Biryani, Paneer Biryani, ...</td>\n",
       "      <td>Boneless Chicken Biryani, Ample Seating Area, ...</td>\n",
       "      <td>700</td>\n",
       "    </tr>\n",
       "    <tr>\n",
       "      <th>2</th>\n",
       "      <td>Donne Biriyani House</td>\n",
       "      <td>https://www.zomato.com/bangalore/donne-biriyan...</td>\n",
       "      <td>Biryani</td>\n",
       "      <td>Indiranagar, Bangalore</td>\n",
       "      <td>11am – 11pm (Today)</td>\n",
       "      <td>8/ 9, 17th F Cross, 2nd Stage, Indiranagar, Ba...</td>\n",
       "      <td>+918861564169</td>\n",
       "      <td>1</td>\n",
       "      <td>1</td>\n",
       "      <td>1</td>\n",
       "      <td>0</td>\n",
       "      <td>3.9</td>\n",
       "      <td>411</td>\n",
       "      <td>3.5</td>\n",
       "      <td>33200</td>\n",
       "      <td>NaN</td>\n",
       "      <td>NaN</td>\n",
       "      <td>Great Recommendations, Nice Taste, Great Ambia...</td>\n",
       "      <td>300</td>\n",
       "    </tr>\n",
       "    <tr>\n",
       "      <th>3</th>\n",
       "      <td>Domino's Pizza</td>\n",
       "      <td>https://www.zomato.com/bangalore/dominos-pizza...</td>\n",
       "      <td>Pizza, Fast Food, Desserts</td>\n",
       "      <td>Indiranagar, Bangalore</td>\n",
       "      <td>10:57am – 12midnight (Today)</td>\n",
       "      <td>308, 2nd Stage, 100 Feet Road, Indiranagar, Ba...</td>\n",
       "      <td>+919916465787</td>\n",
       "      <td>1</td>\n",
       "      <td>1</td>\n",
       "      <td>1</td>\n",
       "      <td>0</td>\n",
       "      <td>2.4</td>\n",
       "      <td>422</td>\n",
       "      <td>4.4</td>\n",
       "      <td>8205</td>\n",
       "      <td>NaN</td>\n",
       "      <td>Barbeque Chicken Pizza, Choco Lava Cake, White...</td>\n",
       "      <td>Value for Money, Packaging, Staff, Ambience, Food</td>\n",
       "      <td>400</td>\n",
       "    </tr>\n",
       "    <tr>\n",
       "      <th>4</th>\n",
       "      <td>KFC</td>\n",
       "      <td>https://www.zomato.com/bangalore/kfc-indiranagar</td>\n",
       "      <td>Burger, Fast Food, Biryani, Desserts, Beverages</td>\n",
       "      <td>Indiranagar, Bangalore</td>\n",
       "      <td>11am – 11pm (Today)</td>\n",
       "      <td>38/1A, CMH Road, Indiranagar, Bangalore</td>\n",
       "      <td>+919513700040</td>\n",
       "      <td>1</td>\n",
       "      <td>1</td>\n",
       "      <td>1</td>\n",
       "      <td>0</td>\n",
       "      <td>2.8</td>\n",
       "      <td>673</td>\n",
       "      <td>4.0</td>\n",
       "      <td>9148</td>\n",
       "      <td>NaN</td>\n",
       "      <td>Fiery Chicken, Chicken Popcorn, Rice Bowl, Wings</td>\n",
       "      <td>Elegantly Decorated, Great Recommendations, Vi...</td>\n",
       "      <td>400</td>\n",
       "    </tr>\n",
       "  </tbody>\n",
       "</table>\n",
       "</div>"
      ],
      "text/plain": [
       "                   Name                                                URL  \\\n",
       "0        Sri Udupi Park  https://www.zomato.com/bangalore/sri-udupi-par...   \n",
       "1         Meghana Foods  https://www.zomato.com/bangalore/meghana-foods...   \n",
       "2  Donne Biriyani House  https://www.zomato.com/bangalore/donne-biriyan...   \n",
       "3        Domino's Pizza  https://www.zomato.com/bangalore/dominos-pizza...   \n",
       "4                   KFC   https://www.zomato.com/bangalore/kfc-indiranagar   \n",
       "\n",
       "                                            Cuisines                    Area  \\\n",
       "0  South Indian, North Indian, Chinese, Street Fo...  Indiranagar, Bangalore   \n",
       "1             Biryani, Andhra, North Indian, Seafood  Indiranagar, Bangalore   \n",
       "2                                            Biryani  Indiranagar, Bangalore   \n",
       "3                         Pizza, Fast Food, Desserts  Indiranagar, Bangalore   \n",
       "4    Burger, Fast Food, Biryani, Desserts, Beverages  Indiranagar, Bangalore   \n",
       "\n",
       "                         Timing  \\\n",
       "0            7am – 11pm (Today)   \n",
       "1               Opens at 6:30pm   \n",
       "2           11am – 11pm (Today)   \n",
       "3  10:57am – 12midnight (Today)   \n",
       "4           11am – 11pm (Today)   \n",
       "\n",
       "                                        Full_Address    PhoneNumber  \\\n",
       "0  273, Monalisa, 6th Main, 100 Feet Road, Indira...  +919945977774   \n",
       "1  544, First Floor, CMH Road, Near Indiranagar M...  +918041135050   \n",
       "2  8/ 9, 17th F Cross, 2nd Stage, Indiranagar, Ba...  +918861564169   \n",
       "3  308, 2nd Stage, 100 Feet Road, Indiranagar, Ba...  +919916465787   \n",
       "4            38/1A, CMH Road, Indiranagar, Bangalore  +919513700040   \n",
       "\n",
       "   IsHomeDelivery  isTakeaway  isIndoorSeating  isVegOnly Dinner Ratings  \\\n",
       "0               1           1                1          1            4.0   \n",
       "1               1           1                1          0            4.3   \n",
       "2               1           1                1          0            3.9   \n",
       "3               1           1                1          0            2.4   \n",
       "4               1           1                1          0            2.8   \n",
       "\n",
       "   Dinner Reviews Delivery Ratings  Delivery Reviews               KnownFor  \\\n",
       "0             462              4.1             16000                    NaN   \n",
       "1            1654              4.3             28600  Spicy Chicken Biryani   \n",
       "2             411              3.5             33200                    NaN   \n",
       "3             422              4.4              8205                    NaN   \n",
       "4             673              4.0              9148                    NaN   \n",
       "\n",
       "                                       PopularDishes  \\\n",
       "0  Filtered Coffee, Sambhar, Pav Bhaji, Gobi Manc...   \n",
       "1  Authentic Hyderabadi Biryani, Paneer Biryani, ...   \n",
       "2                                                NaN   \n",
       "3  Barbeque Chicken Pizza, Choco Lava Cake, White...   \n",
       "4   Fiery Chicken, Chicken Popcorn, Rice Bowl, Wings   \n",
       "\n",
       "                                      PeopleKnownFor  AverageCost  \n",
       "0  Economical, Prompt Service, Hygiene, Quality F...          450  \n",
       "1  Boneless Chicken Biryani, Ample Seating Area, ...          700  \n",
       "2  Great Recommendations, Nice Taste, Great Ambia...          300  \n",
       "3  Value for Money, Packaging, Staff, Ambience, Food          400  \n",
       "4  Elegantly Decorated, Great Recommendations, Vi...          400  "
      ]
     },
     "execution_count": 2,
     "metadata": {},
     "output_type": "execute_result"
    }
   ],
   "source": [
    "df = pd.read_csv('../input/zomato-bangalore-restaurants-2022/BangaloreZomatoData.csv')\n",
    "df.head()"
   ]
  },
  {
   "cell_type": "code",
   "execution_count": 3,
   "id": "8b56c770",
   "metadata": {
    "execution": {
     "iopub.execute_input": "2022-10-10T07:01:43.653951Z",
     "iopub.status.busy": "2022-10-10T07:01:43.653644Z",
     "iopub.status.idle": "2022-10-10T07:01:43.684044Z",
     "shell.execute_reply": "2022-10-10T07:01:43.682967Z"
    },
    "papermill": {
     "duration": 0.095742,
     "end_time": "2022-10-10T07:01:43.686583",
     "exception": false,
     "start_time": "2022-10-10T07:01:43.590841",
     "status": "completed"
    },
    "tags": []
   },
   "outputs": [
    {
     "name": "stdout",
     "output_type": "stream",
     "text": [
      "<class 'pandas.core.frame.DataFrame'>\n",
      "RangeIndex: 8923 entries, 0 to 8922\n",
      "Data columns (total 19 columns):\n",
      " #   Column            Non-Null Count  Dtype \n",
      "---  ------            --------------  ----- \n",
      " 0   Name              8923 non-null   object\n",
      " 1   URL               8923 non-null   object\n",
      " 2   Cuisines          8923 non-null   object\n",
      " 3   Area              8923 non-null   object\n",
      " 4   Timing            5820 non-null   object\n",
      " 5   Full_Address      8923 non-null   object\n",
      " 6   PhoneNumber       8923 non-null   object\n",
      " 7   IsHomeDelivery    8923 non-null   int64 \n",
      " 8   isTakeaway        8923 non-null   int64 \n",
      " 9   isIndoorSeating   8923 non-null   int64 \n",
      " 10  isVegOnly         8923 non-null   int64 \n",
      " 11  Dinner Ratings    8923 non-null   object\n",
      " 12  Dinner Reviews    8923 non-null   int64 \n",
      " 13  Delivery Ratings  8923 non-null   object\n",
      " 14  Delivery Reviews  8923 non-null   int64 \n",
      " 15  KnownFor          258 non-null    object\n",
      " 16  PopularDishes     1535 non-null   object\n",
      " 17  PeopleKnownFor    3484 non-null   object\n",
      " 18  AverageCost       8923 non-null   int64 \n",
      "dtypes: int64(7), object(12)\n",
      "memory usage: 1.3+ MB\n"
     ]
    }
   ],
   "source": [
    "df.info()"
   ]
  },
  {
   "cell_type": "markdown",
   "id": "8a2bb7e0",
   "metadata": {
    "papermill": {
     "duration": 0.063107,
     "end_time": "2022-10-10T07:01:43.811748",
     "exception": false,
     "start_time": "2022-10-10T07:01:43.748641",
     "status": "completed"
    },
    "tags": []
   },
   "source": [
    "There are some Null values in the last few columns. There are some columns that we can drop since they won't be much helpful."
   ]
  },
  {
   "cell_type": "code",
   "execution_count": 4,
   "id": "704b47fa",
   "metadata": {
    "execution": {
     "iopub.execute_input": "2022-10-10T07:01:43.937950Z",
     "iopub.status.busy": "2022-10-10T07:01:43.937461Z",
     "iopub.status.idle": "2022-10-10T07:01:43.972667Z",
     "shell.execute_reply": "2022-10-10T07:01:43.971978Z"
    },
    "papermill": {
     "duration": 0.100719,
     "end_time": "2022-10-10T07:01:43.974908",
     "exception": false,
     "start_time": "2022-10-10T07:01:43.874189",
     "status": "completed"
    },
    "tags": []
   },
   "outputs": [
    {
     "data": {
      "text/html": [
       "<div>\n",
       "<style scoped>\n",
       "    .dataframe tbody tr th:only-of-type {\n",
       "        vertical-align: middle;\n",
       "    }\n",
       "\n",
       "    .dataframe tbody tr th {\n",
       "        vertical-align: top;\n",
       "    }\n",
       "\n",
       "    .dataframe thead th {\n",
       "        text-align: right;\n",
       "    }\n",
       "</style>\n",
       "<table border=\"1\" class=\"dataframe\">\n",
       "  <thead>\n",
       "    <tr style=\"text-align: right;\">\n",
       "      <th></th>\n",
       "      <th>IsHomeDelivery</th>\n",
       "      <th>isTakeaway</th>\n",
       "      <th>isIndoorSeating</th>\n",
       "      <th>isVegOnly</th>\n",
       "      <th>Dinner Reviews</th>\n",
       "      <th>Delivery Reviews</th>\n",
       "      <th>AverageCost</th>\n",
       "    </tr>\n",
       "  </thead>\n",
       "  <tbody>\n",
       "    <tr>\n",
       "      <th>count</th>\n",
       "      <td>8923.000000</td>\n",
       "      <td>8923.000000</td>\n",
       "      <td>8923.000000</td>\n",
       "      <td>8923.000000</td>\n",
       "      <td>8923.000000</td>\n",
       "      <td>8923.000000</td>\n",
       "      <td>8923.000000</td>\n",
       "    </tr>\n",
       "    <tr>\n",
       "      <th>mean</th>\n",
       "      <td>0.997871</td>\n",
       "      <td>0.660092</td>\n",
       "      <td>0.442676</td>\n",
       "      <td>0.072285</td>\n",
       "      <td>157.106018</td>\n",
       "      <td>2014.709403</td>\n",
       "      <td>340.225261</td>\n",
       "    </tr>\n",
       "    <tr>\n",
       "      <th>std</th>\n",
       "      <td>0.046098</td>\n",
       "      <td>0.473704</td>\n",
       "      <td>0.496731</td>\n",
       "      <td>0.258974</td>\n",
       "      <td>731.834227</td>\n",
       "      <td>5524.430542</td>\n",
       "      <td>308.338943</td>\n",
       "    </tr>\n",
       "    <tr>\n",
       "      <th>min</th>\n",
       "      <td>0.000000</td>\n",
       "      <td>0.000000</td>\n",
       "      <td>0.000000</td>\n",
       "      <td>0.000000</td>\n",
       "      <td>0.000000</td>\n",
       "      <td>0.000000</td>\n",
       "      <td>50.000000</td>\n",
       "    </tr>\n",
       "    <tr>\n",
       "      <th>25%</th>\n",
       "      <td>1.000000</td>\n",
       "      <td>0.000000</td>\n",
       "      <td>0.000000</td>\n",
       "      <td>0.000000</td>\n",
       "      <td>0.000000</td>\n",
       "      <td>42.000000</td>\n",
       "      <td>150.000000</td>\n",
       "    </tr>\n",
       "    <tr>\n",
       "      <th>50%</th>\n",
       "      <td>1.000000</td>\n",
       "      <td>1.000000</td>\n",
       "      <td>0.000000</td>\n",
       "      <td>0.000000</td>\n",
       "      <td>0.000000</td>\n",
       "      <td>279.000000</td>\n",
       "      <td>250.000000</td>\n",
       "    </tr>\n",
       "    <tr>\n",
       "      <th>75%</th>\n",
       "      <td>1.000000</td>\n",
       "      <td>1.000000</td>\n",
       "      <td>1.000000</td>\n",
       "      <td>0.000000</td>\n",
       "      <td>43.000000</td>\n",
       "      <td>1493.500000</td>\n",
       "      <td>400.000000</td>\n",
       "    </tr>\n",
       "    <tr>\n",
       "      <th>max</th>\n",
       "      <td>1.000000</td>\n",
       "      <td>1.000000</td>\n",
       "      <td>1.000000</td>\n",
       "      <td>1.000000</td>\n",
       "      <td>26500.000000</td>\n",
       "      <td>99600.000000</td>\n",
       "      <td>4200.000000</td>\n",
       "    </tr>\n",
       "  </tbody>\n",
       "</table>\n",
       "</div>"
      ],
      "text/plain": [
       "       IsHomeDelivery   isTakeaway  isIndoorSeating    isVegOnly  \\\n",
       "count     8923.000000  8923.000000      8923.000000  8923.000000   \n",
       "mean         0.997871     0.660092         0.442676     0.072285   \n",
       "std          0.046098     0.473704         0.496731     0.258974   \n",
       "min          0.000000     0.000000         0.000000     0.000000   \n",
       "25%          1.000000     0.000000         0.000000     0.000000   \n",
       "50%          1.000000     1.000000         0.000000     0.000000   \n",
       "75%          1.000000     1.000000         1.000000     0.000000   \n",
       "max          1.000000     1.000000         1.000000     1.000000   \n",
       "\n",
       "       Dinner Reviews  Delivery Reviews  AverageCost  \n",
       "count     8923.000000       8923.000000  8923.000000  \n",
       "mean       157.106018       2014.709403   340.225261  \n",
       "std        731.834227       5524.430542   308.338943  \n",
       "min          0.000000          0.000000    50.000000  \n",
       "25%          0.000000         42.000000   150.000000  \n",
       "50%          0.000000        279.000000   250.000000  \n",
       "75%         43.000000       1493.500000   400.000000  \n",
       "max      26500.000000      99600.000000  4200.000000  "
      ]
     },
     "execution_count": 4,
     "metadata": {},
     "output_type": "execute_result"
    }
   ],
   "source": [
    "df.describe()"
   ]
  },
  {
   "cell_type": "markdown",
   "id": "e87a2d98",
   "metadata": {
    "papermill": {
     "duration": 0.063143,
     "end_time": "2022-10-10T07:01:44.101908",
     "exception": false,
     "start_time": "2022-10-10T07:01:44.038765",
     "status": "completed"
    },
    "tags": []
   },
   "source": [
    "The average cost goes from 50 bucks and goes all the way upto 4200 and the average of average cost is 340 bucks. \n",
    "\n",
    "The reviews are none in some of the cases however the maximum number of reviews is 99,600 for delivery reviews however for dinner (dine-in) reviews there are 26,500 reviews and purely looking at numbers we can either concur that:-\n",
    "* people are getting food delivered more than they dine-in or \n",
    "* the people who dine-in don't leave as much reviews."
   ]
  },
  {
   "cell_type": "code",
   "execution_count": 5,
   "id": "a80d70ac",
   "metadata": {
    "execution": {
     "iopub.execute_input": "2022-10-10T07:01:44.230990Z",
     "iopub.status.busy": "2022-10-10T07:01:44.230448Z",
     "iopub.status.idle": "2022-10-10T07:01:44.254427Z",
     "shell.execute_reply": "2022-10-10T07:01:44.253755Z"
    },
    "papermill": {
     "duration": 0.090918,
     "end_time": "2022-10-10T07:01:44.256325",
     "exception": false,
     "start_time": "2022-10-10T07:01:44.165407",
     "status": "completed"
    },
    "tags": []
   },
   "outputs": [
    {
     "data": {
      "text/html": [
       "<div>\n",
       "<style scoped>\n",
       "    .dataframe tbody tr th:only-of-type {\n",
       "        vertical-align: middle;\n",
       "    }\n",
       "\n",
       "    .dataframe tbody tr th {\n",
       "        vertical-align: top;\n",
       "    }\n",
       "\n",
       "    .dataframe thead th {\n",
       "        text-align: right;\n",
       "    }\n",
       "</style>\n",
       "<table border=\"1\" class=\"dataframe\">\n",
       "  <thead>\n",
       "    <tr style=\"text-align: right;\">\n",
       "      <th></th>\n",
       "      <th>IsHomeDelivery</th>\n",
       "      <th>isTakeaway</th>\n",
       "      <th>isIndoorSeating</th>\n",
       "      <th>isVegOnly</th>\n",
       "      <th>Dinner Reviews</th>\n",
       "      <th>Delivery Reviews</th>\n",
       "      <th>AverageCost</th>\n",
       "    </tr>\n",
       "  </thead>\n",
       "  <tbody>\n",
       "    <tr>\n",
       "      <th>IsHomeDelivery</th>\n",
       "      <td>1.000</td>\n",
       "      <td>0.064</td>\n",
       "      <td>0.041</td>\n",
       "      <td>0.013</td>\n",
       "      <td>0.010</td>\n",
       "      <td>0.016</td>\n",
       "      <td>NaN</td>\n",
       "    </tr>\n",
       "    <tr>\n",
       "      <th>isTakeaway</th>\n",
       "      <td>0.064</td>\n",
       "      <td>1.000</td>\n",
       "      <td>0.582</td>\n",
       "      <td>0.128</td>\n",
       "      <td>0.126</td>\n",
       "      <td>0.137</td>\n",
       "      <td>0.257</td>\n",
       "    </tr>\n",
       "    <tr>\n",
       "      <th>isIndoorSeating</th>\n",
       "      <td>0.041</td>\n",
       "      <td>0.582</td>\n",
       "      <td>1.000</td>\n",
       "      <td>0.109</td>\n",
       "      <td>0.228</td>\n",
       "      <td>0.167</td>\n",
       "      <td>0.516</td>\n",
       "    </tr>\n",
       "    <tr>\n",
       "      <th>isVegOnly</th>\n",
       "      <td>0.013</td>\n",
       "      <td>0.128</td>\n",
       "      <td>0.109</td>\n",
       "      <td>1.000</td>\n",
       "      <td>0.007</td>\n",
       "      <td>0.049</td>\n",
       "      <td>NaN</td>\n",
       "    </tr>\n",
       "    <tr>\n",
       "      <th>Dinner Reviews</th>\n",
       "      <td>0.010</td>\n",
       "      <td>0.126</td>\n",
       "      <td>0.228</td>\n",
       "      <td>0.007</td>\n",
       "      <td>1.000</td>\n",
       "      <td>0.201</td>\n",
       "      <td>0.470</td>\n",
       "    </tr>\n",
       "    <tr>\n",
       "      <th>Delivery Reviews</th>\n",
       "      <td>0.016</td>\n",
       "      <td>0.137</td>\n",
       "      <td>0.167</td>\n",
       "      <td>0.049</td>\n",
       "      <td>0.201</td>\n",
       "      <td>1.000</td>\n",
       "      <td>0.074</td>\n",
       "    </tr>\n",
       "    <tr>\n",
       "      <th>AverageCost</th>\n",
       "      <td>NaN</td>\n",
       "      <td>0.257</td>\n",
       "      <td>0.516</td>\n",
       "      <td>NaN</td>\n",
       "      <td>0.470</td>\n",
       "      <td>0.074</td>\n",
       "      <td>1.000</td>\n",
       "    </tr>\n",
       "  </tbody>\n",
       "</table>\n",
       "</div>"
      ],
      "text/plain": [
       "                  IsHomeDelivery  isTakeaway  isIndoorSeating  isVegOnly  \\\n",
       "IsHomeDelivery             1.000       0.064            0.041      0.013   \n",
       "isTakeaway                 0.064       1.000            0.582      0.128   \n",
       "isIndoorSeating            0.041       0.582            1.000      0.109   \n",
       "isVegOnly                  0.013       0.128            0.109      1.000   \n",
       "Dinner Reviews             0.010       0.126            0.228      0.007   \n",
       "Delivery Reviews           0.016       0.137            0.167      0.049   \n",
       "AverageCost                  NaN       0.257            0.516        NaN   \n",
       "\n",
       "                  Dinner Reviews  Delivery Reviews  AverageCost  \n",
       "IsHomeDelivery             0.010             0.016          NaN  \n",
       "isTakeaway                 0.126             0.137        0.257  \n",
       "isIndoorSeating            0.228             0.167        0.516  \n",
       "isVegOnly                  0.007             0.049          NaN  \n",
       "Dinner Reviews             1.000             0.201        0.470  \n",
       "Delivery Reviews           0.201             1.000        0.074  \n",
       "AverageCost                0.470             0.074        1.000  "
      ]
     },
     "execution_count": 5,
     "metadata": {},
     "output_type": "execute_result"
    }
   ],
   "source": [
    "np.around(df.corr()[df.corr()>0.0],3)"
   ]
  },
  {
   "cell_type": "markdown",
   "id": "32cce379",
   "metadata": {
    "papermill": {
     "duration": 0.065476,
     "end_time": "2022-10-10T07:01:44.386560",
     "exception": false,
     "start_time": "2022-10-10T07:01:44.321084",
     "status": "completed"
    },
    "tags": []
   },
   "source": [
    "1. From the correlation matrix above, we see that Avge Cost and Indoor seating has a positive correlation which makes sense.\n",
    "2. Similarly, it also makes sense that if the restaurant offers Take Away, the avge cost will be less. \n",
    "3. The avge cost and the dinner reviews also has a positive correlation which means reviews are also affecting the average cost. "
   ]
  },
  {
   "cell_type": "markdown",
   "id": "92349291",
   "metadata": {
    "papermill": {
     "duration": 0.065782,
     "end_time": "2022-10-10T07:01:44.515962",
     "exception": false,
     "start_time": "2022-10-10T07:01:44.450180",
     "status": "completed"
    },
    "tags": []
   },
   "source": [
    "                        Correlation among various features is visible in the heatmap above."
   ]
  },
  {
   "cell_type": "code",
   "execution_count": 6,
   "id": "8e3ea391",
   "metadata": {
    "execution": {
     "iopub.execute_input": "2022-10-10T07:01:44.647108Z",
     "iopub.status.busy": "2022-10-10T07:01:44.646523Z",
     "iopub.status.idle": "2022-10-10T07:01:45.718271Z",
     "shell.execute_reply": "2022-10-10T07:01:45.717220Z"
    },
    "papermill": {
     "duration": 1.140441,
     "end_time": "2022-10-10T07:01:45.721005",
     "exception": false,
     "start_time": "2022-10-10T07:01:44.580564",
     "status": "completed"
    },
    "tags": []
   },
   "outputs": [
    {
     "data": {
      "text/html": [
       "        <script type=\"text/javascript\">\n",
       "        window.PlotlyConfig = {MathJaxConfig: 'local'};\n",
       "        if (window.MathJax) {MathJax.Hub.Config({SVG: {font: \"STIX-Web\"}});}\n",
       "        if (typeof require !== 'undefined') {\n",
       "        require.undef(\"plotly\");\n",
       "        requirejs.config({\n",
       "            paths: {\n",
       "                'plotly': ['https://cdn.plot.ly/plotly-2.11.1.min']\n",
       "            }\n",
       "        });\n",
       "        require(['plotly'], function(Plotly) {\n",
       "            window._Plotly = Plotly;\n",
       "        });\n",
       "        }\n",
       "        </script>\n",
       "        "
      ]
     },
     "metadata": {},
     "output_type": "display_data"
    },
    {
     "data": {
      "text/html": [
       "<div>                            <div id=\"29a15efc-24e0-46ee-855d-5f675c61be13\" class=\"plotly-graph-div\" style=\"height:525px; width:100%;\"></div>            <script type=\"text/javascript\">                require([\"plotly\"], function(Plotly) {                    window.PLOTLYENV=window.PLOTLYENV || {};                                    if (document.getElementById(\"29a15efc-24e0-46ee-855d-5f675c61be13\")) {                    Plotly.newPlot(                        \"29a15efc-24e0-46ee-855d-5f675c61be13\",                        [{\"coloraxis\":\"coloraxis\",\"name\":\"0\",\"texttemplate\":\"%{z}\",\"x\":[\"IsHomeDelivery\",\"isTakeaway\",\"isIndoorSeating\",\"isVegOnly\",\"Dinner Reviews\",\"Delivery Reviews\",\"AverageCost\"],\"y\":[\"IsHomeDelivery\",\"isTakeaway\",\"isIndoorSeating\",\"isVegOnly\",\"Dinner Reviews\",\"Delivery Reviews\",\"AverageCost\"],\"z\":[[1.0,0.064,0.041,0.013,0.01,0.016,null],[0.064,1.0,0.582,0.128,0.126,0.137,0.257],[0.041,0.582,1.0,0.109,0.228,0.167,0.516],[0.013,0.128,0.109,1.0,0.007,0.049,null],[0.01,0.126,0.228,0.007,1.0,0.201,0.47],[0.016,0.137,0.167,0.049,0.201,1.0,0.074],[null,0.257,0.516,null,0.47,0.074,1.0]],\"type\":\"heatmap\",\"xaxis\":\"x\",\"yaxis\":\"y\",\"hovertemplate\":\"x: %{x}<br>y: %{y}<br>color: %{z}<extra></extra>\"}],                        {\"template\":{\"data\":{\"barpolar\":[{\"marker\":{\"line\":{\"color\":\"white\",\"width\":0.5},\"pattern\":{\"fillmode\":\"overlay\",\"size\":10,\"solidity\":0.2}},\"type\":\"barpolar\"}],\"bar\":[{\"error_x\":{\"color\":\"rgb(36,36,36)\"},\"error_y\":{\"color\":\"rgb(36,36,36)\"},\"marker\":{\"line\":{\"color\":\"white\",\"width\":0.5},\"pattern\":{\"fillmode\":\"overlay\",\"size\":10,\"solidity\":0.2}},\"type\":\"bar\"}],\"carpet\":[{\"aaxis\":{\"endlinecolor\":\"rgb(36,36,36)\",\"gridcolor\":\"white\",\"linecolor\":\"white\",\"minorgridcolor\":\"white\",\"startlinecolor\":\"rgb(36,36,36)\"},\"baxis\":{\"endlinecolor\":\"rgb(36,36,36)\",\"gridcolor\":\"white\",\"linecolor\":\"white\",\"minorgridcolor\":\"white\",\"startlinecolor\":\"rgb(36,36,36)\"},\"type\":\"carpet\"}],\"choropleth\":[{\"colorbar\":{\"outlinewidth\":1,\"tickcolor\":\"rgb(36,36,36)\",\"ticks\":\"outside\"},\"type\":\"choropleth\"}],\"contourcarpet\":[{\"colorbar\":{\"outlinewidth\":1,\"tickcolor\":\"rgb(36,36,36)\",\"ticks\":\"outside\"},\"type\":\"contourcarpet\"}],\"contour\":[{\"colorbar\":{\"outlinewidth\":1,\"tickcolor\":\"rgb(36,36,36)\",\"ticks\":\"outside\"},\"colorscale\":[[0.0,\"#440154\"],[0.1111111111111111,\"#482878\"],[0.2222222222222222,\"#3e4989\"],[0.3333333333333333,\"#31688e\"],[0.4444444444444444,\"#26828e\"],[0.5555555555555556,\"#1f9e89\"],[0.6666666666666666,\"#35b779\"],[0.7777777777777778,\"#6ece58\"],[0.8888888888888888,\"#b5de2b\"],[1.0,\"#fde725\"]],\"type\":\"contour\"}],\"heatmapgl\":[{\"colorbar\":{\"outlinewidth\":1,\"tickcolor\":\"rgb(36,36,36)\",\"ticks\":\"outside\"},\"colorscale\":[[0.0,\"#440154\"],[0.1111111111111111,\"#482878\"],[0.2222222222222222,\"#3e4989\"],[0.3333333333333333,\"#31688e\"],[0.4444444444444444,\"#26828e\"],[0.5555555555555556,\"#1f9e89\"],[0.6666666666666666,\"#35b779\"],[0.7777777777777778,\"#6ece58\"],[0.8888888888888888,\"#b5de2b\"],[1.0,\"#fde725\"]],\"type\":\"heatmapgl\"}],\"heatmap\":[{\"colorbar\":{\"outlinewidth\":1,\"tickcolor\":\"rgb(36,36,36)\",\"ticks\":\"outside\"},\"colorscale\":[[0.0,\"#440154\"],[0.1111111111111111,\"#482878\"],[0.2222222222222222,\"#3e4989\"],[0.3333333333333333,\"#31688e\"],[0.4444444444444444,\"#26828e\"],[0.5555555555555556,\"#1f9e89\"],[0.6666666666666666,\"#35b779\"],[0.7777777777777778,\"#6ece58\"],[0.8888888888888888,\"#b5de2b\"],[1.0,\"#fde725\"]],\"type\":\"heatmap\"}],\"histogram2dcontour\":[{\"colorbar\":{\"outlinewidth\":1,\"tickcolor\":\"rgb(36,36,36)\",\"ticks\":\"outside\"},\"colorscale\":[[0.0,\"#440154\"],[0.1111111111111111,\"#482878\"],[0.2222222222222222,\"#3e4989\"],[0.3333333333333333,\"#31688e\"],[0.4444444444444444,\"#26828e\"],[0.5555555555555556,\"#1f9e89\"],[0.6666666666666666,\"#35b779\"],[0.7777777777777778,\"#6ece58\"],[0.8888888888888888,\"#b5de2b\"],[1.0,\"#fde725\"]],\"type\":\"histogram2dcontour\"}],\"histogram2d\":[{\"colorbar\":{\"outlinewidth\":1,\"tickcolor\":\"rgb(36,36,36)\",\"ticks\":\"outside\"},\"colorscale\":[[0.0,\"#440154\"],[0.1111111111111111,\"#482878\"],[0.2222222222222222,\"#3e4989\"],[0.3333333333333333,\"#31688e\"],[0.4444444444444444,\"#26828e\"],[0.5555555555555556,\"#1f9e89\"],[0.6666666666666666,\"#35b779\"],[0.7777777777777778,\"#6ece58\"],[0.8888888888888888,\"#b5de2b\"],[1.0,\"#fde725\"]],\"type\":\"histogram2d\"}],\"histogram\":[{\"marker\":{\"line\":{\"color\":\"white\",\"width\":0.6}},\"type\":\"histogram\"}],\"mesh3d\":[{\"colorbar\":{\"outlinewidth\":1,\"tickcolor\":\"rgb(36,36,36)\",\"ticks\":\"outside\"},\"type\":\"mesh3d\"}],\"parcoords\":[{\"line\":{\"colorbar\":{\"outlinewidth\":1,\"tickcolor\":\"rgb(36,36,36)\",\"ticks\":\"outside\"}},\"type\":\"parcoords\"}],\"pie\":[{\"automargin\":true,\"type\":\"pie\"}],\"scatter3d\":[{\"line\":{\"colorbar\":{\"outlinewidth\":1,\"tickcolor\":\"rgb(36,36,36)\",\"ticks\":\"outside\"}},\"marker\":{\"colorbar\":{\"outlinewidth\":1,\"tickcolor\":\"rgb(36,36,36)\",\"ticks\":\"outside\"}},\"type\":\"scatter3d\"}],\"scattercarpet\":[{\"marker\":{\"colorbar\":{\"outlinewidth\":1,\"tickcolor\":\"rgb(36,36,36)\",\"ticks\":\"outside\"}},\"type\":\"scattercarpet\"}],\"scattergeo\":[{\"marker\":{\"colorbar\":{\"outlinewidth\":1,\"tickcolor\":\"rgb(36,36,36)\",\"ticks\":\"outside\"}},\"type\":\"scattergeo\"}],\"scattergl\":[{\"marker\":{\"colorbar\":{\"outlinewidth\":1,\"tickcolor\":\"rgb(36,36,36)\",\"ticks\":\"outside\"}},\"type\":\"scattergl\"}],\"scattermapbox\":[{\"marker\":{\"colorbar\":{\"outlinewidth\":1,\"tickcolor\":\"rgb(36,36,36)\",\"ticks\":\"outside\"}},\"type\":\"scattermapbox\"}],\"scatterpolargl\":[{\"marker\":{\"colorbar\":{\"outlinewidth\":1,\"tickcolor\":\"rgb(36,36,36)\",\"ticks\":\"outside\"}},\"type\":\"scatterpolargl\"}],\"scatterpolar\":[{\"marker\":{\"colorbar\":{\"outlinewidth\":1,\"tickcolor\":\"rgb(36,36,36)\",\"ticks\":\"outside\"}},\"type\":\"scatterpolar\"}],\"scatter\":[{\"fillpattern\":{\"fillmode\":\"overlay\",\"size\":10,\"solidity\":0.2},\"type\":\"scatter\"}],\"scatterternary\":[{\"marker\":{\"colorbar\":{\"outlinewidth\":1,\"tickcolor\":\"rgb(36,36,36)\",\"ticks\":\"outside\"}},\"type\":\"scatterternary\"}],\"surface\":[{\"colorbar\":{\"outlinewidth\":1,\"tickcolor\":\"rgb(36,36,36)\",\"ticks\":\"outside\"},\"colorscale\":[[0.0,\"#440154\"],[0.1111111111111111,\"#482878\"],[0.2222222222222222,\"#3e4989\"],[0.3333333333333333,\"#31688e\"],[0.4444444444444444,\"#26828e\"],[0.5555555555555556,\"#1f9e89\"],[0.6666666666666666,\"#35b779\"],[0.7777777777777778,\"#6ece58\"],[0.8888888888888888,\"#b5de2b\"],[1.0,\"#fde725\"]],\"type\":\"surface\"}],\"table\":[{\"cells\":{\"fill\":{\"color\":\"rgb(237,237,237)\"},\"line\":{\"color\":\"white\"}},\"header\":{\"fill\":{\"color\":\"rgb(217,217,217)\"},\"line\":{\"color\":\"white\"}},\"type\":\"table\"}]},\"layout\":{\"annotationdefaults\":{\"arrowhead\":0,\"arrowwidth\":1},\"autotypenumbers\":\"strict\",\"coloraxis\":{\"colorbar\":{\"outlinewidth\":1,\"tickcolor\":\"rgb(36,36,36)\",\"ticks\":\"outside\"}},\"colorscale\":{\"diverging\":[[0.0,\"rgb(103,0,31)\"],[0.1,\"rgb(178,24,43)\"],[0.2,\"rgb(214,96,77)\"],[0.3,\"rgb(244,165,130)\"],[0.4,\"rgb(253,219,199)\"],[0.5,\"rgb(247,247,247)\"],[0.6,\"rgb(209,229,240)\"],[0.7,\"rgb(146,197,222)\"],[0.8,\"rgb(67,147,195)\"],[0.9,\"rgb(33,102,172)\"],[1.0,\"rgb(5,48,97)\"]],\"sequential\":[[0.0,\"#440154\"],[0.1111111111111111,\"#482878\"],[0.2222222222222222,\"#3e4989\"],[0.3333333333333333,\"#31688e\"],[0.4444444444444444,\"#26828e\"],[0.5555555555555556,\"#1f9e89\"],[0.6666666666666666,\"#35b779\"],[0.7777777777777778,\"#6ece58\"],[0.8888888888888888,\"#b5de2b\"],[1.0,\"#fde725\"]],\"sequentialminus\":[[0.0,\"#440154\"],[0.1111111111111111,\"#482878\"],[0.2222222222222222,\"#3e4989\"],[0.3333333333333333,\"#31688e\"],[0.4444444444444444,\"#26828e\"],[0.5555555555555556,\"#1f9e89\"],[0.6666666666666666,\"#35b779\"],[0.7777777777777778,\"#6ece58\"],[0.8888888888888888,\"#b5de2b\"],[1.0,\"#fde725\"]]},\"colorway\":[\"#1F77B4\",\"#FF7F0E\",\"#2CA02C\",\"#D62728\",\"#9467BD\",\"#8C564B\",\"#E377C2\",\"#7F7F7F\",\"#BCBD22\",\"#17BECF\"],\"font\":{\"color\":\"rgb(36,36,36)\"},\"geo\":{\"bgcolor\":\"white\",\"lakecolor\":\"white\",\"landcolor\":\"white\",\"showlakes\":true,\"showland\":true,\"subunitcolor\":\"white\"},\"hoverlabel\":{\"align\":\"left\"},\"hovermode\":\"closest\",\"mapbox\":{\"style\":\"light\"},\"paper_bgcolor\":\"white\",\"plot_bgcolor\":\"white\",\"polar\":{\"angularaxis\":{\"gridcolor\":\"rgb(232,232,232)\",\"linecolor\":\"rgb(36,36,36)\",\"showgrid\":false,\"showline\":true,\"ticks\":\"outside\"},\"bgcolor\":\"white\",\"radialaxis\":{\"gridcolor\":\"rgb(232,232,232)\",\"linecolor\":\"rgb(36,36,36)\",\"showgrid\":false,\"showline\":true,\"ticks\":\"outside\"}},\"scene\":{\"xaxis\":{\"backgroundcolor\":\"white\",\"gridcolor\":\"rgb(232,232,232)\",\"gridwidth\":2,\"linecolor\":\"rgb(36,36,36)\",\"showbackground\":true,\"showgrid\":false,\"showline\":true,\"ticks\":\"outside\",\"zeroline\":false,\"zerolinecolor\":\"rgb(36,36,36)\"},\"yaxis\":{\"backgroundcolor\":\"white\",\"gridcolor\":\"rgb(232,232,232)\",\"gridwidth\":2,\"linecolor\":\"rgb(36,36,36)\",\"showbackground\":true,\"showgrid\":false,\"showline\":true,\"ticks\":\"outside\",\"zeroline\":false,\"zerolinecolor\":\"rgb(36,36,36)\"},\"zaxis\":{\"backgroundcolor\":\"white\",\"gridcolor\":\"rgb(232,232,232)\",\"gridwidth\":2,\"linecolor\":\"rgb(36,36,36)\",\"showbackground\":true,\"showgrid\":false,\"showline\":true,\"ticks\":\"outside\",\"zeroline\":false,\"zerolinecolor\":\"rgb(36,36,36)\"}},\"shapedefaults\":{\"fillcolor\":\"black\",\"line\":{\"width\":0},\"opacity\":0.3},\"ternary\":{\"aaxis\":{\"gridcolor\":\"rgb(232,232,232)\",\"linecolor\":\"rgb(36,36,36)\",\"showgrid\":false,\"showline\":true,\"ticks\":\"outside\"},\"baxis\":{\"gridcolor\":\"rgb(232,232,232)\",\"linecolor\":\"rgb(36,36,36)\",\"showgrid\":false,\"showline\":true,\"ticks\":\"outside\"},\"bgcolor\":\"white\",\"caxis\":{\"gridcolor\":\"rgb(232,232,232)\",\"linecolor\":\"rgb(36,36,36)\",\"showgrid\":false,\"showline\":true,\"ticks\":\"outside\"}},\"title\":{\"x\":0.05},\"xaxis\":{\"automargin\":true,\"gridcolor\":\"rgb(232,232,232)\",\"linecolor\":\"rgb(36,36,36)\",\"showgrid\":false,\"showline\":true,\"ticks\":\"outside\",\"title\":{\"standoff\":15},\"zeroline\":false,\"zerolinecolor\":\"rgb(36,36,36)\"},\"yaxis\":{\"automargin\":true,\"gridcolor\":\"rgb(232,232,232)\",\"linecolor\":\"rgb(36,36,36)\",\"showgrid\":false,\"showline\":true,\"ticks\":\"outside\",\"title\":{\"standoff\":15},\"zeroline\":false,\"zerolinecolor\":\"rgb(36,36,36)\"}}},\"xaxis\":{\"anchor\":\"y\",\"domain\":[0.0,1.0],\"side\":\"top\"},\"yaxis\":{\"anchor\":\"x\",\"domain\":[0.0,1.0],\"autorange\":\"reversed\"},\"coloraxis\":{\"colorscale\":[[0.0,\"#440154\"],[0.1111111111111111,\"#482878\"],[0.2222222222222222,\"#3e4989\"],[0.3333333333333333,\"#31688e\"],[0.4444444444444444,\"#26828e\"],[0.5555555555555556,\"#1f9e89\"],[0.6666666666666666,\"#35b779\"],[0.7777777777777778,\"#6ece58\"],[0.8888888888888888,\"#b5de2b\"],[1.0,\"#fde725\"]]},\"margin\":{\"t\":60}},                        {\"responsive\": true}                    ).then(function(){\n",
       "                            \n",
       "var gd = document.getElementById('29a15efc-24e0-46ee-855d-5f675c61be13');\n",
       "var x = new MutationObserver(function (mutations, observer) {{\n",
       "        var display = window.getComputedStyle(gd).display;\n",
       "        if (!display || display === 'none') {{\n",
       "            console.log([gd, 'removed!']);\n",
       "            Plotly.purge(gd);\n",
       "            observer.disconnect();\n",
       "        }}\n",
       "}});\n",
       "\n",
       "// Listen for the removal of the full notebook cells\n",
       "var notebookContainer = gd.closest('#notebook-container');\n",
       "if (notebookContainer) {{\n",
       "    x.observe(notebookContainer, {childList: true});\n",
       "}}\n",
       "\n",
       "// Listen for the clearing of the current output cell\n",
       "var outputEl = gd.closest('.output');\n",
       "if (outputEl) {{\n",
       "    x.observe(outputEl, {childList: true});\n",
       "}}\n",
       "\n",
       "                        })                };                });            </script>        </div>"
      ]
     },
     "metadata": {},
     "output_type": "display_data"
    }
   ],
   "source": [
    "corr = df.corr()\n",
    "corr = np.around(corr[corr > 0.0],3)\n",
    "fig = px.imshow(corr, \n",
    "                text_auto=True, template='simple_white',\n",
    "                color_continuous_scale=px.colors.sequential.Viridis, \n",
    "                aspect=\"auto\")\n",
    "fig.update_xaxes(side=\"top\")\n",
    "fig.show()"
   ]
  },
  {
   "cell_type": "code",
   "execution_count": 7,
   "id": "673a6114",
   "metadata": {
    "execution": {
     "iopub.execute_input": "2022-10-10T07:01:45.852925Z",
     "iopub.status.busy": "2022-10-10T07:01:45.852088Z",
     "iopub.status.idle": "2022-10-10T07:01:45.871807Z",
     "shell.execute_reply": "2022-10-10T07:01:45.870930Z"
    },
    "papermill": {
     "duration": 0.088206,
     "end_time": "2022-10-10T07:01:45.874046",
     "exception": false,
     "start_time": "2022-10-10T07:01:45.785840",
     "status": "completed"
    },
    "tags": []
   },
   "outputs": [
    {
     "data": {
      "text/html": [
       "<div>\n",
       "<style scoped>\n",
       "    .dataframe tbody tr th:only-of-type {\n",
       "        vertical-align: middle;\n",
       "    }\n",
       "\n",
       "    .dataframe tbody tr th {\n",
       "        vertical-align: top;\n",
       "    }\n",
       "\n",
       "    .dataframe thead th {\n",
       "        text-align: right;\n",
       "    }\n",
       "</style>\n",
       "<table border=\"1\" class=\"dataframe\">\n",
       "  <thead>\n",
       "    <tr style=\"text-align: right;\">\n",
       "      <th></th>\n",
       "      <th>Name</th>\n",
       "      <th>URL</th>\n",
       "      <th>Cuisines</th>\n",
       "      <th>Area</th>\n",
       "      <th>Timing</th>\n",
       "      <th>Full_Address</th>\n",
       "      <th>PhoneNumber</th>\n",
       "      <th>IsHomeDelivery</th>\n",
       "      <th>isTakeaway</th>\n",
       "      <th>isIndoorSeating</th>\n",
       "      <th>isVegOnly</th>\n",
       "      <th>Dinner Ratings</th>\n",
       "      <th>Dinner Reviews</th>\n",
       "      <th>Delivery Ratings</th>\n",
       "      <th>Delivery Reviews</th>\n",
       "      <th>KnownFor</th>\n",
       "      <th>PopularDishes</th>\n",
       "      <th>PeopleKnownFor</th>\n",
       "      <th>AverageCost</th>\n",
       "    </tr>\n",
       "  </thead>\n",
       "  <tbody>\n",
       "    <tr>\n",
       "      <th>0</th>\n",
       "      <td>Sri Udupi Park</td>\n",
       "      <td>https://www.zomato.com/bangalore/sri-udupi-par...</td>\n",
       "      <td>South Indian, North Indian, Chinese, Street Fo...</td>\n",
       "      <td>Indiranagar, Bangalore</td>\n",
       "      <td>7am – 11pm (Today)</td>\n",
       "      <td>273, Monalisa, 6th Main, 100 Feet Road, Indira...</td>\n",
       "      <td>+919945977774</td>\n",
       "      <td>1</td>\n",
       "      <td>1</td>\n",
       "      <td>1</td>\n",
       "      <td>1</td>\n",
       "      <td>4.0</td>\n",
       "      <td>462</td>\n",
       "      <td>4.1</td>\n",
       "      <td>16000</td>\n",
       "      <td>NaN</td>\n",
       "      <td>Filtered Coffee, Sambhar, Pav Bhaji, Gobi Manc...</td>\n",
       "      <td>Economical, Prompt Service, Hygiene, Quality F...</td>\n",
       "      <td>450</td>\n",
       "    </tr>\n",
       "    <tr>\n",
       "      <th>1</th>\n",
       "      <td>Meghana Foods</td>\n",
       "      <td>https://www.zomato.com/bangalore/meghana-foods...</td>\n",
       "      <td>Biryani, Andhra, North Indian, Seafood</td>\n",
       "      <td>Indiranagar, Bangalore</td>\n",
       "      <td>Opens at 6:30pm</td>\n",
       "      <td>544, First Floor, CMH Road, Near Indiranagar M...</td>\n",
       "      <td>+918041135050</td>\n",
       "      <td>1</td>\n",
       "      <td>1</td>\n",
       "      <td>1</td>\n",
       "      <td>0</td>\n",
       "      <td>4.3</td>\n",
       "      <td>1654</td>\n",
       "      <td>4.3</td>\n",
       "      <td>28600</td>\n",
       "      <td>Spicy Chicken Biryani</td>\n",
       "      <td>Authentic Hyderabadi Biryani, Paneer Biryani, ...</td>\n",
       "      <td>Boneless Chicken Biryani, Ample Seating Area, ...</td>\n",
       "      <td>700</td>\n",
       "    </tr>\n",
       "    <tr>\n",
       "      <th>2</th>\n",
       "      <td>Donne Biriyani House</td>\n",
       "      <td>https://www.zomato.com/bangalore/donne-biriyan...</td>\n",
       "      <td>Biryani</td>\n",
       "      <td>Indiranagar, Bangalore</td>\n",
       "      <td>11am – 11pm (Today)</td>\n",
       "      <td>8/ 9, 17th F Cross, 2nd Stage, Indiranagar, Ba...</td>\n",
       "      <td>+918861564169</td>\n",
       "      <td>1</td>\n",
       "      <td>1</td>\n",
       "      <td>1</td>\n",
       "      <td>0</td>\n",
       "      <td>3.9</td>\n",
       "      <td>411</td>\n",
       "      <td>3.5</td>\n",
       "      <td>33200</td>\n",
       "      <td>NaN</td>\n",
       "      <td>NaN</td>\n",
       "      <td>Great Recommendations, Nice Taste, Great Ambia...</td>\n",
       "      <td>300</td>\n",
       "    </tr>\n",
       "    <tr>\n",
       "      <th>3</th>\n",
       "      <td>Domino's Pizza</td>\n",
       "      <td>https://www.zomato.com/bangalore/dominos-pizza...</td>\n",
       "      <td>Pizza, Fast Food, Desserts</td>\n",
       "      <td>Indiranagar, Bangalore</td>\n",
       "      <td>10:57am – 12midnight (Today)</td>\n",
       "      <td>308, 2nd Stage, 100 Feet Road, Indiranagar, Ba...</td>\n",
       "      <td>+919916465787</td>\n",
       "      <td>1</td>\n",
       "      <td>1</td>\n",
       "      <td>1</td>\n",
       "      <td>0</td>\n",
       "      <td>2.4</td>\n",
       "      <td>422</td>\n",
       "      <td>4.4</td>\n",
       "      <td>8205</td>\n",
       "      <td>NaN</td>\n",
       "      <td>Barbeque Chicken Pizza, Choco Lava Cake, White...</td>\n",
       "      <td>Value for Money, Packaging, Staff, Ambience, Food</td>\n",
       "      <td>400</td>\n",
       "    </tr>\n",
       "    <tr>\n",
       "      <th>4</th>\n",
       "      <td>KFC</td>\n",
       "      <td>https://www.zomato.com/bangalore/kfc-indiranagar</td>\n",
       "      <td>Burger, Fast Food, Biryani, Desserts, Beverages</td>\n",
       "      <td>Indiranagar, Bangalore</td>\n",
       "      <td>11am – 11pm (Today)</td>\n",
       "      <td>38/1A, CMH Road, Indiranagar, Bangalore</td>\n",
       "      <td>+919513700040</td>\n",
       "      <td>1</td>\n",
       "      <td>1</td>\n",
       "      <td>1</td>\n",
       "      <td>0</td>\n",
       "      <td>2.8</td>\n",
       "      <td>673</td>\n",
       "      <td>4.0</td>\n",
       "      <td>9148</td>\n",
       "      <td>NaN</td>\n",
       "      <td>Fiery Chicken, Chicken Popcorn, Rice Bowl, Wings</td>\n",
       "      <td>Elegantly Decorated, Great Recommendations, Vi...</td>\n",
       "      <td>400</td>\n",
       "    </tr>\n",
       "  </tbody>\n",
       "</table>\n",
       "</div>"
      ],
      "text/plain": [
       "                   Name                                                URL  \\\n",
       "0        Sri Udupi Park  https://www.zomato.com/bangalore/sri-udupi-par...   \n",
       "1         Meghana Foods  https://www.zomato.com/bangalore/meghana-foods...   \n",
       "2  Donne Biriyani House  https://www.zomato.com/bangalore/donne-biriyan...   \n",
       "3        Domino's Pizza  https://www.zomato.com/bangalore/dominos-pizza...   \n",
       "4                   KFC   https://www.zomato.com/bangalore/kfc-indiranagar   \n",
       "\n",
       "                                            Cuisines                    Area  \\\n",
       "0  South Indian, North Indian, Chinese, Street Fo...  Indiranagar, Bangalore   \n",
       "1             Biryani, Andhra, North Indian, Seafood  Indiranagar, Bangalore   \n",
       "2                                            Biryani  Indiranagar, Bangalore   \n",
       "3                         Pizza, Fast Food, Desserts  Indiranagar, Bangalore   \n",
       "4    Burger, Fast Food, Biryani, Desserts, Beverages  Indiranagar, Bangalore   \n",
       "\n",
       "                         Timing  \\\n",
       "0            7am – 11pm (Today)   \n",
       "1               Opens at 6:30pm   \n",
       "2           11am – 11pm (Today)   \n",
       "3  10:57am – 12midnight (Today)   \n",
       "4           11am – 11pm (Today)   \n",
       "\n",
       "                                        Full_Address    PhoneNumber  \\\n",
       "0  273, Monalisa, 6th Main, 100 Feet Road, Indira...  +919945977774   \n",
       "1  544, First Floor, CMH Road, Near Indiranagar M...  +918041135050   \n",
       "2  8/ 9, 17th F Cross, 2nd Stage, Indiranagar, Ba...  +918861564169   \n",
       "3  308, 2nd Stage, 100 Feet Road, Indiranagar, Ba...  +919916465787   \n",
       "4            38/1A, CMH Road, Indiranagar, Bangalore  +919513700040   \n",
       "\n",
       "   IsHomeDelivery  isTakeaway  isIndoorSeating  isVegOnly Dinner Ratings  \\\n",
       "0               1           1                1          1            4.0   \n",
       "1               1           1                1          0            4.3   \n",
       "2               1           1                1          0            3.9   \n",
       "3               1           1                1          0            2.4   \n",
       "4               1           1                1          0            2.8   \n",
       "\n",
       "   Dinner Reviews Delivery Ratings  Delivery Reviews               KnownFor  \\\n",
       "0             462              4.1             16000                    NaN   \n",
       "1            1654              4.3             28600  Spicy Chicken Biryani   \n",
       "2             411              3.5             33200                    NaN   \n",
       "3             422              4.4              8205                    NaN   \n",
       "4             673              4.0              9148                    NaN   \n",
       "\n",
       "                                       PopularDishes  \\\n",
       "0  Filtered Coffee, Sambhar, Pav Bhaji, Gobi Manc...   \n",
       "1  Authentic Hyderabadi Biryani, Paneer Biryani, ...   \n",
       "2                                                NaN   \n",
       "3  Barbeque Chicken Pizza, Choco Lava Cake, White...   \n",
       "4   Fiery Chicken, Chicken Popcorn, Rice Bowl, Wings   \n",
       "\n",
       "                                      PeopleKnownFor  AverageCost  \n",
       "0  Economical, Prompt Service, Hygiene, Quality F...          450  \n",
       "1  Boneless Chicken Biryani, Ample Seating Area, ...          700  \n",
       "2  Great Recommendations, Nice Taste, Great Ambia...          300  \n",
       "3  Value for Money, Packaging, Staff, Ambience, Food          400  \n",
       "4  Elegantly Decorated, Great Recommendations, Vi...          400  "
      ]
     },
     "execution_count": 7,
     "metadata": {},
     "output_type": "execute_result"
    }
   ],
   "source": [
    "#df.drop(['URL', 'Full_Address','PhoneNumber'], axis= 1, inplace=True)\n",
    "df.head()"
   ]
  },
  {
   "cell_type": "markdown",
   "id": "b3b1b11b",
   "metadata": {
    "papermill": {
     "duration": 0.064894,
     "end_time": "2022-10-10T07:01:46.005354",
     "exception": false,
     "start_time": "2022-10-10T07:01:45.940460",
     "status": "completed"
    },
    "tags": []
   },
   "source": [
    "In the above column we are removing those columns that may not be so useful for our analysis"
   ]
  },
  {
   "cell_type": "code",
   "execution_count": 8,
   "id": "cd859149",
   "metadata": {
    "execution": {
     "iopub.execute_input": "2022-10-10T07:01:46.142065Z",
     "iopub.status.busy": "2022-10-10T07:01:46.141747Z",
     "iopub.status.idle": "2022-10-10T07:01:46.149874Z",
     "shell.execute_reply": "2022-10-10T07:01:46.148901Z"
    },
    "papermill": {
     "duration": 0.078345,
     "end_time": "2022-10-10T07:01:46.152132",
     "exception": false,
     "start_time": "2022-10-10T07:01:46.073787",
     "status": "completed"
    },
    "tags": []
   },
   "outputs": [
    {
     "data": {
      "text/plain": [
       "Name                object\n",
       "URL                 object\n",
       "Cuisines            object\n",
       "Area                object\n",
       "Timing              object\n",
       "Full_Address        object\n",
       "PhoneNumber         object\n",
       "IsHomeDelivery       int64\n",
       "isTakeaway           int64\n",
       "isIndoorSeating      int64\n",
       "isVegOnly            int64\n",
       "Dinner Ratings      object\n",
       "Dinner Reviews       int64\n",
       "Delivery Ratings    object\n",
       "Delivery Reviews     int64\n",
       "KnownFor            object\n",
       "PopularDishes       object\n",
       "PeopleKnownFor      object\n",
       "AverageCost          int64\n",
       "dtype: object"
      ]
     },
     "execution_count": 8,
     "metadata": {},
     "output_type": "execute_result"
    }
   ],
   "source": [
    "df.dtypes"
   ]
  },
  {
   "cell_type": "code",
   "execution_count": 9,
   "id": "c469a8b8",
   "metadata": {
    "execution": {
     "iopub.execute_input": "2022-10-10T07:01:46.286004Z",
     "iopub.status.busy": "2022-10-10T07:01:46.285680Z",
     "iopub.status.idle": "2022-10-10T07:02:01.136633Z",
     "shell.execute_reply": "2022-10-10T07:02:01.135424Z"
    },
    "papermill": {
     "duration": 14.921777,
     "end_time": "2022-10-10T07:02:01.139884",
     "exception": false,
     "start_time": "2022-10-10T07:01:46.218107",
     "status": "completed"
    },
    "tags": []
   },
   "outputs": [
    {
     "data": {
      "image/png": "[encoded data removed]",
      "text/plain": [
       "<Figure size 1080x720 with 1 Axes>"
      ]
     },
     "metadata": {
      "needs_background": "light"
     },
     "output_type": "display_data"
    },
    {
     "data": {
      "image/png": "[encoded data removed]",
      "text/plain": [
       "<Figure size 1080x720 with 1 Axes>"
      ]
     },
     "metadata": {
      "needs_background": "light"
     },
     "output_type": "display_data"
    },
    {
     "data": {
      "image/png": "[encoded data removed]",
      "text/plain": [
       "<Figure size 1080x720 with 1 Axes>"
      ]
     },
     "metadata": {
      "needs_background": "light"
     },
     "output_type": "display_data"
    },
    {
     "data": {
      "image/png": "[encoded data removed]",
      "text/plain": [
       "<Figure size 1080x720 with 1 Axes>"
      ]
     },
     "metadata": {
      "needs_background": "light"
     },
     "output_type": "display_data"
    },
    {
     "data": {
      "image/png": "[encoded data removed]",
      "text/plain": [
       "<Figure size 1080x720 with 1 Axes>"
      ]
     },
     "metadata": {
      "needs_background": "light"
     },
     "output_type": "display_data"
    },
    {
     "data": {
      "image/png": "[encoded data removed]",
      "text/plain": [
       "<Figure size 1080x720 with 1 Axes>"
      ]
     },
     "metadata": {
      "needs_background": "light"
     },
     "output_type": "display_data"
    },
    {
     "data": {
      "image/png": "[encoded data removed]",
      "text/plain": [
       "<Figure size 1080x720 with 1 Axes>"
      ]
     },
     "metadata": {
      "needs_background": "light"
     },
     "output_type": "display_data"
    }
   ],
   "source": [
    "for i in df.select_dtypes(include=['int64']):\n",
    "    ax= sns.histplot(df.select_dtypes(include=['int64'])[i],  \n",
    "             kde=True, color='lightgray')\n",
    "    ax.lines[0].set_color('crimson')\n",
    "    plt.title(i+\" \"+'Histplot')\n",
    "    plt.show();"
   ]
  },
  {
   "cell_type": "markdown",
   "id": "89588211",
   "metadata": {
    "papermill": {
     "duration": 0.076927,
     "end_time": "2022-10-10T07:02:01.304189",
     "exception": false,
     "start_time": "2022-10-10T07:02:01.227262",
     "status": "completed"
    },
    "tags": []
   },
   "source": [
    "*Analysis from the above charts*:-\n",
    "1. More restaurants in Bangalore are doing the home delivery than the takeaways. Restaurants are focussing more on delivering the convenience to the customers as opposed to having the people walk up to the restaurants to pick up their order.\n",
    "2. Veg Only restaurants are very less in Bengaluru, India,\n",
    "3. Dine-in places are less which relates with our first point that states there are more restaurants that like to deliver.\n",
    "4. Dinner Reviews are less than Delivery reviews. The dinner reviews are bound to be less just by the comparison of the deliveries being done in the area.\n",
    "5. Average Cost is within the Rs 300-400 range."
   ]
  },
  {
   "cell_type": "code",
   "execution_count": 10,
   "id": "ec5b8172",
   "metadata": {
    "execution": {
     "iopub.execute_input": "2022-10-10T07:02:01.463379Z",
     "iopub.status.busy": "2022-10-10T07:02:01.463040Z",
     "iopub.status.idle": "2022-10-10T07:02:02.030233Z",
     "shell.execute_reply": "2022-10-10T07:02:02.014465Z"
    },
    "papermill": {
     "duration": 0.649808,
     "end_time": "2022-10-10T07:02:02.034423",
     "exception": false,
     "start_time": "2022-10-10T07:02:01.384615",
     "status": "completed"
    },
    "tags": []
   },
   "outputs": [
    {
     "data": {
      "image/png": "[encoded data removed]",
      "text/plain": [
       "<Figure size 1080x720 with 1 Axes>"
      ]
     },
     "metadata": {
      "needs_background": "light"
     },
     "output_type": "display_data"
    }
   ],
   "source": [
    "df1 = df.copy().sort_values(by='AverageCost',ascending= False).drop_duplicates('Name').head(10)\n",
    "df1.groupby(['AverageCost','Name']).mean().plot.bar();"
   ]
  },
  {
   "cell_type": "code",
   "execution_count": 11,
   "id": "9152d978",
   "metadata": {
    "execution": {
     "iopub.execute_input": "2022-10-10T07:02:02.194117Z",
     "iopub.status.busy": "2022-10-10T07:02:02.193482Z",
     "iopub.status.idle": "2022-10-10T07:02:02.210873Z",
     "shell.execute_reply": "2022-10-10T07:02:02.209778Z"
    },
    "papermill": {
     "duration": 0.101405,
     "end_time": "2022-10-10T07:02:02.213238",
     "exception": false,
     "start_time": "2022-10-10T07:02:02.111833",
     "status": "completed"
    },
    "tags": []
   },
   "outputs": [
    {
     "data": {
      "text/html": [
       "<div>\n",
       "<style scoped>\n",
       "    .dataframe tbody tr th:only-of-type {\n",
       "        vertical-align: middle;\n",
       "    }\n",
       "\n",
       "    .dataframe tbody tr th {\n",
       "        vertical-align: top;\n",
       "    }\n",
       "\n",
       "    .dataframe thead th {\n",
       "        text-align: right;\n",
       "    }\n",
       "</style>\n",
       "<table border=\"1\" class=\"dataframe\">\n",
       "  <thead>\n",
       "    <tr style=\"text-align: right;\">\n",
       "      <th></th>\n",
       "      <th></th>\n",
       "      <th>IsHomeDelivery</th>\n",
       "      <th>isTakeaway</th>\n",
       "      <th>isIndoorSeating</th>\n",
       "      <th>isVegOnly</th>\n",
       "      <th>Dinner Reviews</th>\n",
       "      <th>Delivery Reviews</th>\n",
       "    </tr>\n",
       "    <tr>\n",
       "      <th>AverageCost</th>\n",
       "      <th>Name</th>\n",
       "      <th></th>\n",
       "      <th></th>\n",
       "      <th></th>\n",
       "      <th></th>\n",
       "      <th></th>\n",
       "      <th></th>\n",
       "    </tr>\n",
       "  </thead>\n",
       "  <tbody>\n",
       "    <tr>\n",
       "      <th>2600</th>\n",
       "      <th>Melange - Radisson Blu</th>\n",
       "      <td>1</td>\n",
       "      <td>0</td>\n",
       "      <td>1</td>\n",
       "      <td>0</td>\n",
       "      <td>1240</td>\n",
       "      <td>9</td>\n",
       "    </tr>\n",
       "    <tr>\n",
       "      <th>2700</th>\n",
       "      <th>Asia Alive - DoubleTree Suites By Hilton</th>\n",
       "      <td>1</td>\n",
       "      <td>0</td>\n",
       "      <td>1</td>\n",
       "      <td>0</td>\n",
       "      <td>348</td>\n",
       "      <td>107</td>\n",
       "    </tr>\n",
       "    <tr>\n",
       "      <th rowspan=\"2\" valign=\"top\">2800</th>\n",
       "      <th>Shang Palace - Shangri-La Hotel</th>\n",
       "      <td>1</td>\n",
       "      <td>0</td>\n",
       "      <td>1</td>\n",
       "      <td>0</td>\n",
       "      <td>394</td>\n",
       "      <td>0</td>\n",
       "    </tr>\n",
       "    <tr>\n",
       "      <th>Shao - Radisson Blu</th>\n",
       "      <td>1</td>\n",
       "      <td>1</td>\n",
       "      <td>1</td>\n",
       "      <td>0</td>\n",
       "      <td>458</td>\n",
       "      <td>33</td>\n",
       "    </tr>\n",
       "    <tr>\n",
       "      <th rowspan=\"4\" valign=\"top\">3000</th>\n",
       "      <th>24/7 - The Lalit Ashok Bangalore</th>\n",
       "      <td>1</td>\n",
       "      <td>0</td>\n",
       "      <td>1</td>\n",
       "      <td>0</td>\n",
       "      <td>387</td>\n",
       "      <td>35</td>\n",
       "    </tr>\n",
       "    <tr>\n",
       "      <th>Feast - Sheraton Grand Bangalore Hotel at Brigade Gateway</th>\n",
       "      <td>1</td>\n",
       "      <td>1</td>\n",
       "      <td>1</td>\n",
       "      <td>0</td>\n",
       "      <td>1327</td>\n",
       "      <td>83</td>\n",
       "    </tr>\n",
       "    <tr>\n",
       "      <th>Ministry of Food - Hilton Bangalore Embassy GolfLinks</th>\n",
       "      <td>1</td>\n",
       "      <td>1</td>\n",
       "      <td>1</td>\n",
       "      <td>0</td>\n",
       "      <td>665</td>\n",
       "      <td>149</td>\n",
       "    </tr>\n",
       "    <tr>\n",
       "      <th>Shiro</th>\n",
       "      <td>1</td>\n",
       "      <td>0</td>\n",
       "      <td>1</td>\n",
       "      <td>0</td>\n",
       "      <td>2484</td>\n",
       "      <td>348</td>\n",
       "    </tr>\n",
       "    <tr>\n",
       "      <th>4000</th>\n",
       "      <th>Edo Restaurant &amp; Bar - ITC Gardenia</th>\n",
       "      <td>1</td>\n",
       "      <td>0</td>\n",
       "      <td>1</td>\n",
       "      <td>0</td>\n",
       "      <td>264</td>\n",
       "      <td>10</td>\n",
       "    </tr>\n",
       "    <tr>\n",
       "      <th>4200</th>\n",
       "      <th>B Café - Shangri-La Hotel</th>\n",
       "      <td>1</td>\n",
       "      <td>0</td>\n",
       "      <td>1</td>\n",
       "      <td>0</td>\n",
       "      <td>517</td>\n",
       "      <td>38</td>\n",
       "    </tr>\n",
       "  </tbody>\n",
       "</table>\n",
       "</div>"
      ],
      "text/plain": [
       "                                                                IsHomeDelivery  \\\n",
       "AverageCost Name                                                                 \n",
       "2600        Melange - Radisson Blu                                           1   \n",
       "2700        Asia Alive - DoubleTree Suites By Hilton                         1   \n",
       "2800        Shang Palace - Shangri-La Hotel                                  1   \n",
       "            Shao - Radisson Blu                                              1   \n",
       "3000        24/7 - The Lalit Ashok Bangalore                                 1   \n",
       "            Feast - Sheraton Grand Bangalore Hotel at Briga...               1   \n",
       "            Ministry of Food - Hilton Bangalore Embassy Gol...               1   \n",
       "            Shiro                                                            1   \n",
       "4000        Edo Restaurant & Bar - ITC Gardenia                              1   \n",
       "4200        B Café - Shangri-La Hotel                                        1   \n",
       "\n",
       "                                                                isTakeaway  \\\n",
       "AverageCost Name                                                             \n",
       "2600        Melange - Radisson Blu                                       0   \n",
       "2700        Asia Alive - DoubleTree Suites By Hilton                     0   \n",
       "2800        Shang Palace - Shangri-La Hotel                              0   \n",
       "            Shao - Radisson Blu                                          1   \n",
       "3000        24/7 - The Lalit Ashok Bangalore                             0   \n",
       "            Feast - Sheraton Grand Bangalore Hotel at Briga...           1   \n",
       "            Ministry of Food - Hilton Bangalore Embassy Gol...           1   \n",
       "            Shiro                                                        0   \n",
       "4000        Edo Restaurant & Bar - ITC Gardenia                          0   \n",
       "4200        B Café - Shangri-La Hotel                                    0   \n",
       "\n",
       "                                                                isIndoorSeating  \\\n",
       "AverageCost Name                                                                  \n",
       "2600        Melange - Radisson Blu                                            1   \n",
       "2700        Asia Alive - DoubleTree Suites By Hilton                          1   \n",
       "2800        Shang Palace - Shangri-La Hotel                                   1   \n",
       "            Shao - Radisson Blu                                               1   \n",
       "3000        24/7 - The Lalit Ashok Bangalore                                  1   \n",
       "            Feast - Sheraton Grand Bangalore Hotel at Briga...                1   \n",
       "            Ministry of Food - Hilton Bangalore Embassy Gol...                1   \n",
       "            Shiro                                                             1   \n",
       "4000        Edo Restaurant & Bar - ITC Gardenia                               1   \n",
       "4200        B Café - Shangri-La Hotel                                         1   \n",
       "\n",
       "                                                                isVegOnly  \\\n",
       "AverageCost Name                                                            \n",
       "2600        Melange - Radisson Blu                                      0   \n",
       "2700        Asia Alive - DoubleTree Suites By Hilton                    0   \n",
       "2800        Shang Palace - Shangri-La Hotel                             0   \n",
       "            Shao - Radisson Blu                                         0   \n",
       "3000        24/7 - The Lalit Ashok Bangalore                            0   \n",
       "            Feast - Sheraton Grand Bangalore Hotel at Briga...          0   \n",
       "            Ministry of Food - Hilton Bangalore Embassy Gol...          0   \n",
       "            Shiro                                                       0   \n",
       "4000        Edo Restaurant & Bar - ITC Gardenia                         0   \n",
       "4200        B Café - Shangri-La Hotel                                   0   \n",
       "\n",
       "                                                                Dinner Reviews  \\\n",
       "AverageCost Name                                                                 \n",
       "2600        Melange - Radisson Blu                                        1240   \n",
       "2700        Asia Alive - DoubleTree Suites By Hilton                       348   \n",
       "2800        Shang Palace - Shangri-La Hotel                                394   \n",
       "            Shao - Radisson Blu                                            458   \n",
       "3000        24/7 - The Lalit Ashok Bangalore                               387   \n",
       "            Feast - Sheraton Grand Bangalore Hotel at Briga...            1327   \n",
       "            Ministry of Food - Hilton Bangalore Embassy Gol...             665   \n",
       "            Shiro                                                         2484   \n",
       "4000        Edo Restaurant & Bar - ITC Gardenia                            264   \n",
       "4200        B Café - Shangri-La Hotel                                      517   \n",
       "\n",
       "                                                                Delivery Reviews  \n",
       "AverageCost Name                                                                  \n",
       "2600        Melange - Radisson Blu                                             9  \n",
       "2700        Asia Alive - DoubleTree Suites By Hilton                         107  \n",
       "2800        Shang Palace - Shangri-La Hotel                                    0  \n",
       "            Shao - Radisson Blu                                               33  \n",
       "3000        24/7 - The Lalit Ashok Bangalore                                  35  \n",
       "            Feast - Sheraton Grand Bangalore Hotel at Briga...                83  \n",
       "            Ministry of Food - Hilton Bangalore Embassy Gol...               149  \n",
       "            Shiro                                                            348  \n",
       "4000        Edo Restaurant & Bar - ITC Gardenia                               10  \n",
       "4200        B Café - Shangri-La Hotel                                         38  "
      ]
     },
     "execution_count": 11,
     "metadata": {},
     "output_type": "execute_result"
    }
   ],
   "source": [
    "df1.groupby(['AverageCost', 'Name']).sum()"
   ]
  },
  {
   "cell_type": "code",
   "execution_count": 12,
   "id": "9e186d1a",
   "metadata": {
    "execution": {
     "iopub.execute_input": "2022-10-10T07:02:02.370118Z",
     "iopub.status.busy": "2022-10-10T07:02:02.369798Z",
     "iopub.status.idle": "2022-10-10T07:02:02.524768Z",
     "shell.execute_reply": "2022-10-10T07:02:02.523806Z"
    },
    "papermill": {
     "duration": 0.236926,
     "end_time": "2022-10-10T07:02:02.527184",
     "exception": false,
     "start_time": "2022-10-10T07:02:02.290258",
     "status": "completed"
    },
    "tags": []
   },
   "outputs": [
    {
     "data": {
      "text/html": [
       "<div>                            <div id=\"d07049f1-985e-41e9-92e6-324e190aaa5b\" class=\"plotly-graph-div\" style=\"height:525px; width:100%;\"></div>            <script type=\"text/javascript\">                require([\"plotly\"], function(Plotly) {                    window.PLOTLYENV=window.PLOTLYENV || {};                                    if (document.getElementById(\"d07049f1-985e-41e9-92e6-324e190aaa5b\")) {                    Plotly.newPlot(                        \"d07049f1-985e-41e9-92e6-324e190aaa5b\",                        [{\"alignmentgroup\":\"True\",\"hovertemplate\":\"Name=%{x}<br>AverageCost=%{y}<extra></extra>\",\"legendgroup\":\"B Café - Shangri-La Hotel\",\"marker\":{\"color\":\"#1F77B4\",\"pattern\":{\"shape\":\"\"}},\"name\":\"B Café - Shangri-La Hotel\",\"offsetgroup\":\"B Café - Shangri-La Hotel\",\"orientation\":\"v\",\"showlegend\":true,\"textposition\":\"auto\",\"texttemplate\":\"%{y}\",\"x\":[\"B Café - Shangri-La Hotel\"],\"xaxis\":\"x\",\"y\":[4200],\"yaxis\":\"y\",\"type\":\"bar\"},{\"alignmentgroup\":\"True\",\"hovertemplate\":\"Name=%{x}<br>AverageCost=%{y}<extra></extra>\",\"legendgroup\":\"Edo Restaurant & Bar - ITC Gardenia\",\"marker\":{\"color\":\"#FF7F0E\",\"pattern\":{\"shape\":\"\"}},\"name\":\"Edo Restaurant & Bar - ITC Gardenia\",\"offsetgroup\":\"Edo Restaurant & Bar - ITC Gardenia\",\"orientation\":\"v\",\"showlegend\":true,\"textposition\":\"auto\",\"texttemplate\":\"%{y}\",\"x\":[\"Edo Restaurant & Bar - ITC Gardenia\"],\"xaxis\":\"x\",\"y\":[4000],\"yaxis\":\"y\",\"type\":\"bar\"},{\"alignmentgroup\":\"True\",\"hovertemplate\":\"Name=%{x}<br>AverageCost=%{y}<extra></extra>\",\"legendgroup\":\"24/7 - The Lalit Ashok Bangalore\",\"marker\":{\"color\":\"#2CA02C\",\"pattern\":{\"shape\":\"\"}},\"name\":\"24/7 - The Lalit Ashok Bangalore\",\"offsetgroup\":\"24/7 - The Lalit Ashok Bangalore\",\"orientation\":\"v\",\"showlegend\":true,\"textposition\":\"auto\",\"texttemplate\":\"%{y}\",\"x\":[\"24/7 - The Lalit Ashok Bangalore\"],\"xaxis\":\"x\",\"y\":[3000],\"yaxis\":\"y\",\"type\":\"bar\"},{\"alignmentgroup\":\"True\",\"hovertemplate\":\"Name=%{x}<br>AverageCost=%{y}<extra></extra>\",\"legendgroup\":\"Ministry of Food - Hilton Bangalore Embassy GolfLinks\",\"marker\":{\"color\":\"#D62728\",\"pattern\":{\"shape\":\"\"}},\"name\":\"Ministry of Food - Hilton Bangalore Embassy GolfLinks\",\"offsetgroup\":\"Ministry of Food - Hilton Bangalore Embassy GolfLinks\",\"orientation\":\"v\",\"showlegend\":true,\"textposition\":\"auto\",\"texttemplate\":\"%{y}\",\"x\":[\"Ministry of Food - Hilton Bangalore Embassy GolfLinks\"],\"xaxis\":\"x\",\"y\":[3000],\"yaxis\":\"y\",\"type\":\"bar\"},{\"alignmentgroup\":\"True\",\"hovertemplate\":\"Name=%{x}<br>AverageCost=%{y}<extra></extra>\",\"legendgroup\":\"Shiro\",\"marker\":{\"color\":\"#9467BD\",\"pattern\":{\"shape\":\"\"}},\"name\":\"Shiro\",\"offsetgroup\":\"Shiro\",\"orientation\":\"v\",\"showlegend\":true,\"textposition\":\"auto\",\"texttemplate\":\"%{y}\",\"x\":[\"Shiro\"],\"xaxis\":\"x\",\"y\":[3000],\"yaxis\":\"y\",\"type\":\"bar\"},{\"alignmentgroup\":\"True\",\"hovertemplate\":\"Name=%{x}<br>AverageCost=%{y}<extra></extra>\",\"legendgroup\":\"Feast - Sheraton Grand Bangalore Hotel at Brigade Gateway\",\"marker\":{\"color\":\"#8C564B\",\"pattern\":{\"shape\":\"\"}},\"name\":\"Feast - Sheraton Grand Bangalore Hotel at Brigade Gateway\",\"offsetgroup\":\"Feast - Sheraton Grand Bangalore Hotel at Brigade Gateway\",\"orientation\":\"v\",\"showlegend\":true,\"textposition\":\"auto\",\"texttemplate\":\"%{y}\",\"x\":[\"Feast - Sheraton Grand Bangalore Hotel at Brigade Gateway\"],\"xaxis\":\"x\",\"y\":[3000],\"yaxis\":\"y\",\"type\":\"bar\"},{\"alignmentgroup\":\"True\",\"hovertemplate\":\"Name=%{x}<br>AverageCost=%{y}<extra></extra>\",\"legendgroup\":\"Shang Palace - Shangri-La Hotel\",\"marker\":{\"color\":\"#E377C2\",\"pattern\":{\"shape\":\"\"}},\"name\":\"Shang Palace - Shangri-La Hotel\",\"offsetgroup\":\"Shang Palace - Shangri-La Hotel\",\"orientation\":\"v\",\"showlegend\":true,\"textposition\":\"auto\",\"texttemplate\":\"%{y}\",\"x\":[\"Shang Palace - Shangri-La Hotel\"],\"xaxis\":\"x\",\"y\":[2800],\"yaxis\":\"y\",\"type\":\"bar\"},{\"alignmentgroup\":\"True\",\"hovertemplate\":\"Name=%{x}<br>AverageCost=%{y}<extra></extra>\",\"legendgroup\":\"Shao - Radisson Blu\",\"marker\":{\"color\":\"#7F7F7F\",\"pattern\":{\"shape\":\"\"}},\"name\":\"Shao - Radisson Blu\",\"offsetgroup\":\"Shao - Radisson Blu\",\"orientation\":\"v\",\"showlegend\":true,\"textposition\":\"auto\",\"texttemplate\":\"%{y}\",\"x\":[\"Shao - Radisson Blu\"],\"xaxis\":\"x\",\"y\":[2800],\"yaxis\":\"y\",\"type\":\"bar\"},{\"alignmentgroup\":\"True\",\"hovertemplate\":\"Name=%{x}<br>AverageCost=%{y}<extra></extra>\",\"legendgroup\":\"Asia Alive - DoubleTree Suites By Hilton\",\"marker\":{\"color\":\"#BCBD22\",\"pattern\":{\"shape\":\"\"}},\"name\":\"Asia Alive - DoubleTree Suites By Hilton\",\"offsetgroup\":\"Asia Alive - DoubleTree Suites By Hilton\",\"orientation\":\"v\",\"showlegend\":true,\"textposition\":\"auto\",\"texttemplate\":\"%{y}\",\"x\":[\"Asia Alive - DoubleTree Suites By Hilton\"],\"xaxis\":\"x\",\"y\":[2700],\"yaxis\":\"y\",\"type\":\"bar\"},{\"alignmentgroup\":\"True\",\"hovertemplate\":\"Name=%{x}<br>AverageCost=%{y}<extra></extra>\",\"legendgroup\":\"Melange - Radisson Blu\",\"marker\":{\"color\":\"#17BECF\",\"pattern\":{\"shape\":\"\"}},\"name\":\"Melange - Radisson Blu\",\"offsetgroup\":\"Melange - Radisson Blu\",\"orientation\":\"v\",\"showlegend\":true,\"textposition\":\"auto\",\"texttemplate\":\"%{y}\",\"x\":[\"Melange - Radisson Blu\"],\"xaxis\":\"x\",\"y\":[2600],\"yaxis\":\"y\",\"type\":\"bar\"}],                        {\"template\":{\"data\":{\"barpolar\":[{\"marker\":{\"line\":{\"color\":\"white\",\"width\":0.5},\"pattern\":{\"fillmode\":\"overlay\",\"size\":10,\"solidity\":0.2}},\"type\":\"barpolar\"}],\"bar\":[{\"error_x\":{\"color\":\"rgb(36,36,36)\"},\"error_y\":{\"color\":\"rgb(36,36,36)\"},\"marker\":{\"line\":{\"color\":\"white\",\"width\":0.5},\"pattern\":{\"fillmode\":\"overlay\",\"size\":10,\"solidity\":0.2}},\"type\":\"bar\"}],\"carpet\":[{\"aaxis\":{\"endlinecolor\":\"rgb(36,36,36)\",\"gridcolor\":\"white\",\"linecolor\":\"white\",\"minorgridcolor\":\"white\",\"startlinecolor\":\"rgb(36,36,36)\"},\"baxis\":{\"endlinecolor\":\"rgb(36,36,36)\",\"gridcolor\":\"white\",\"linecolor\":\"white\",\"minorgridcolor\":\"white\",\"startlinecolor\":\"rgb(36,36,36)\"},\"type\":\"carpet\"}],\"choropleth\":[{\"colorbar\":{\"outlinewidth\":1,\"tickcolor\":\"rgb(36,36,36)\",\"ticks\":\"outside\"},\"type\":\"choropleth\"}],\"contourcarpet\":[{\"colorbar\":{\"outlinewidth\":1,\"tickcolor\":\"rgb(36,36,36)\",\"ticks\":\"outside\"},\"type\":\"contourcarpet\"}],\"contour\":[{\"colorbar\":{\"outlinewidth\":1,\"tickcolor\":\"rgb(36,36,36)\",\"ticks\":\"outside\"},\"colorscale\":[[0.0,\"#440154\"],[0.1111111111111111,\"#482878\"],[0.2222222222222222,\"#3e4989\"],[0.3333333333333333,\"#31688e\"],[0.4444444444444444,\"#26828e\"],[0.5555555555555556,\"#1f9e89\"],[0.6666666666666666,\"#35b779\"],[0.7777777777777778,\"#6ece58\"],[0.8888888888888888,\"#b5de2b\"],[1.0,\"#fde725\"]],\"type\":\"contour\"}],\"heatmapgl\":[{\"colorbar\":{\"outlinewidth\":1,\"tickcolor\":\"rgb(36,36,36)\",\"ticks\":\"outside\"},\"colorscale\":[[0.0,\"#440154\"],[0.1111111111111111,\"#482878\"],[0.2222222222222222,\"#3e4989\"],[0.3333333333333333,\"#31688e\"],[0.4444444444444444,\"#26828e\"],[0.5555555555555556,\"#1f9e89\"],[0.6666666666666666,\"#35b779\"],[0.7777777777777778,\"#6ece58\"],[0.8888888888888888,\"#b5de2b\"],[1.0,\"#fde725\"]],\"type\":\"heatmapgl\"}],\"heatmap\":[{\"colorbar\":{\"outlinewidth\":1,\"tickcolor\":\"rgb(36,36,36)\",\"ticks\":\"outside\"},\"colorscale\":[[0.0,\"#440154\"],[0.1111111111111111,\"#482878\"],[0.2222222222222222,\"#3e4989\"],[0.3333333333333333,\"#31688e\"],[0.4444444444444444,\"#26828e\"],[0.5555555555555556,\"#1f9e89\"],[0.6666666666666666,\"#35b779\"],[0.7777777777777778,\"#6ece58\"],[0.8888888888888888,\"#b5de2b\"],[1.0,\"#fde725\"]],\"type\":\"heatmap\"}],\"histogram2dcontour\":[{\"colorbar\":{\"outlinewidth\":1,\"tickcolor\":\"rgb(36,36,36)\",\"ticks\":\"outside\"},\"colorscale\":[[0.0,\"#440154\"],[0.1111111111111111,\"#482878\"],[0.2222222222222222,\"#3e4989\"],[0.3333333333333333,\"#31688e\"],[0.4444444444444444,\"#26828e\"],[0.5555555555555556,\"#1f9e89\"],[0.6666666666666666,\"#35b779\"],[0.7777777777777778,\"#6ece58\"],[0.8888888888888888,\"#b5de2b\"],[1.0,\"#fde725\"]],\"type\":\"histogram2dcontour\"}],\"histogram2d\":[{\"colorbar\":{\"outlinewidth\":1,\"tickcolor\":\"rgb(36,36,36)\",\"ticks\":\"outside\"},\"colorscale\":[[0.0,\"#440154\"],[0.1111111111111111,\"#482878\"],[0.2222222222222222,\"#3e4989\"],[0.3333333333333333,\"#31688e\"],[0.4444444444444444,\"#26828e\"],[0.5555555555555556,\"#1f9e89\"],[0.6666666666666666,\"#35b779\"],[0.7777777777777778,\"#6ece58\"],[0.8888888888888888,\"#b5de2b\"],[1.0,\"#fde725\"]],\"type\":\"histogram2d\"}],\"histogram\":[{\"marker\":{\"line\":{\"color\":\"white\",\"width\":0.6}},\"type\":\"histogram\"}],\"mesh3d\":[{\"colorbar\":{\"outlinewidth\":1,\"tickcolor\":\"rgb(36,36,36)\",\"ticks\":\"outside\"},\"type\":\"mesh3d\"}],\"parcoords\":[{\"line\":{\"colorbar\":{\"outlinewidth\":1,\"tickcolor\":\"rgb(36,36,36)\",\"ticks\":\"outside\"}},\"type\":\"parcoords\"}],\"pie\":[{\"automargin\":true,\"type\":\"pie\"}],\"scatter3d\":[{\"line\":{\"colorbar\":{\"outlinewidth\":1,\"tickcolor\":\"rgb(36,36,36)\",\"ticks\":\"outside\"}},\"marker\":{\"colorbar\":{\"outlinewidth\":1,\"tickcolor\":\"rgb(36,36,36)\",\"ticks\":\"outside\"}},\"type\":\"scatter3d\"}],\"scattercarpet\":[{\"marker\":{\"colorbar\":{\"outlinewidth\":1,\"tickcolor\":\"rgb(36,36,36)\",\"ticks\":\"outside\"}},\"type\":\"scattercarpet\"}],\"scattergeo\":[{\"marker\":{\"colorbar\":{\"outlinewidth\":1,\"tickcolor\":\"rgb(36,36,36)\",\"ticks\":\"outside\"}},\"type\":\"scattergeo\"}],\"scattergl\":[{\"marker\":{\"colorbar\":{\"outlinewidth\":1,\"tickcolor\":\"rgb(36,36,36)\",\"ticks\":\"outside\"}},\"type\":\"scattergl\"}],\"scattermapbox\":[{\"marker\":{\"colorbar\":{\"outlinewidth\":1,\"tickcolor\":\"rgb(36,36,36)\",\"ticks\":\"outside\"}},\"type\":\"scattermapbox\"}],\"scatterpolargl\":[{\"marker\":{\"colorbar\":{\"outlinewidth\":1,\"tickcolor\":\"rgb(36,36,36)\",\"ticks\":\"outside\"}},\"type\":\"scatterpolargl\"}],\"scatterpolar\":[{\"marker\":{\"colorbar\":{\"outlinewidth\":1,\"tickcolor\":\"rgb(36,36,36)\",\"ticks\":\"outside\"}},\"type\":\"scatterpolar\"}],\"scatter\":[{\"fillpattern\":{\"fillmode\":\"overlay\",\"size\":10,\"solidity\":0.2},\"type\":\"scatter\"}],\"scatterternary\":[{\"marker\":{\"colorbar\":{\"outlinewidth\":1,\"tickcolor\":\"rgb(36,36,36)\",\"ticks\":\"outside\"}},\"type\":\"scatterternary\"}],\"surface\":[{\"colorbar\":{\"outlinewidth\":1,\"tickcolor\":\"rgb(36,36,36)\",\"ticks\":\"outside\"},\"colorscale\":[[0.0,\"#440154\"],[0.1111111111111111,\"#482878\"],[0.2222222222222222,\"#3e4989\"],[0.3333333333333333,\"#31688e\"],[0.4444444444444444,\"#26828e\"],[0.5555555555555556,\"#1f9e89\"],[0.6666666666666666,\"#35b779\"],[0.7777777777777778,\"#6ece58\"],[0.8888888888888888,\"#b5de2b\"],[1.0,\"#fde725\"]],\"type\":\"surface\"}],\"table\":[{\"cells\":{\"fill\":{\"color\":\"rgb(237,237,237)\"},\"line\":{\"color\":\"white\"}},\"header\":{\"fill\":{\"color\":\"rgb(217,217,217)\"},\"line\":{\"color\":\"white\"}},\"type\":\"table\"}]},\"layout\":{\"annotationdefaults\":{\"arrowhead\":0,\"arrowwidth\":1},\"autotypenumbers\":\"strict\",\"coloraxis\":{\"colorbar\":{\"outlinewidth\":1,\"tickcolor\":\"rgb(36,36,36)\",\"ticks\":\"outside\"}},\"colorscale\":{\"diverging\":[[0.0,\"rgb(103,0,31)\"],[0.1,\"rgb(178,24,43)\"],[0.2,\"rgb(214,96,77)\"],[0.3,\"rgb(244,165,130)\"],[0.4,\"rgb(253,219,199)\"],[0.5,\"rgb(247,247,247)\"],[0.6,\"rgb(209,229,240)\"],[0.7,\"rgb(146,197,222)\"],[0.8,\"rgb(67,147,195)\"],[0.9,\"rgb(33,102,172)\"],[1.0,\"rgb(5,48,97)\"]],\"sequential\":[[0.0,\"#440154\"],[0.1111111111111111,\"#482878\"],[0.2222222222222222,\"#3e4989\"],[0.3333333333333333,\"#31688e\"],[0.4444444444444444,\"#26828e\"],[0.5555555555555556,\"#1f9e89\"],[0.6666666666666666,\"#35b779\"],[0.7777777777777778,\"#6ece58\"],[0.8888888888888888,\"#b5de2b\"],[1.0,\"#fde725\"]],\"sequentialminus\":[[0.0,\"#440154\"],[0.1111111111111111,\"#482878\"],[0.2222222222222222,\"#3e4989\"],[0.3333333333333333,\"#31688e\"],[0.4444444444444444,\"#26828e\"],[0.5555555555555556,\"#1f9e89\"],[0.6666666666666666,\"#35b779\"],[0.7777777777777778,\"#6ece58\"],[0.8888888888888888,\"#b5de2b\"],[1.0,\"#fde725\"]]},\"colorway\":[\"#1F77B4\",\"#FF7F0E\",\"#2CA02C\",\"#D62728\",\"#9467BD\",\"#8C564B\",\"#E377C2\",\"#7F7F7F\",\"#BCBD22\",\"#17BECF\"],\"font\":{\"color\":\"rgb(36,36,36)\"},\"geo\":{\"bgcolor\":\"white\",\"lakecolor\":\"white\",\"landcolor\":\"white\",\"showlakes\":true,\"showland\":true,\"subunitcolor\":\"white\"},\"hoverlabel\":{\"align\":\"left\"},\"hovermode\":\"closest\",\"mapbox\":{\"style\":\"light\"},\"paper_bgcolor\":\"white\",\"plot_bgcolor\":\"white\",\"polar\":{\"angularaxis\":{\"gridcolor\":\"rgb(232,232,232)\",\"linecolor\":\"rgb(36,36,36)\",\"showgrid\":false,\"showline\":true,\"ticks\":\"outside\"},\"bgcolor\":\"white\",\"radialaxis\":{\"gridcolor\":\"rgb(232,232,232)\",\"linecolor\":\"rgb(36,36,36)\",\"showgrid\":false,\"showline\":true,\"ticks\":\"outside\"}},\"scene\":{\"xaxis\":{\"backgroundcolor\":\"white\",\"gridcolor\":\"rgb(232,232,232)\",\"gridwidth\":2,\"linecolor\":\"rgb(36,36,36)\",\"showbackground\":true,\"showgrid\":false,\"showline\":true,\"ticks\":\"outside\",\"zeroline\":false,\"zerolinecolor\":\"rgb(36,36,36)\"},\"yaxis\":{\"backgroundcolor\":\"white\",\"gridcolor\":\"rgb(232,232,232)\",\"gridwidth\":2,\"linecolor\":\"rgb(36,36,36)\",\"showbackground\":true,\"showgrid\":false,\"showline\":true,\"ticks\":\"outside\",\"zeroline\":false,\"zerolinecolor\":\"rgb(36,36,36)\"},\"zaxis\":{\"backgroundcolor\":\"white\",\"gridcolor\":\"rgb(232,232,232)\",\"gridwidth\":2,\"linecolor\":\"rgb(36,36,36)\",\"showbackground\":true,\"showgrid\":false,\"showline\":true,\"ticks\":\"outside\",\"zeroline\":false,\"zerolinecolor\":\"rgb(36,36,36)\"}},\"shapedefaults\":{\"fillcolor\":\"black\",\"line\":{\"width\":0},\"opacity\":0.3},\"ternary\":{\"aaxis\":{\"gridcolor\":\"rgb(232,232,232)\",\"linecolor\":\"rgb(36,36,36)\",\"showgrid\":false,\"showline\":true,\"ticks\":\"outside\"},\"baxis\":{\"gridcolor\":\"rgb(232,232,232)\",\"linecolor\":\"rgb(36,36,36)\",\"showgrid\":false,\"showline\":true,\"ticks\":\"outside\"},\"bgcolor\":\"white\",\"caxis\":{\"gridcolor\":\"rgb(232,232,232)\",\"linecolor\":\"rgb(36,36,36)\",\"showgrid\":false,\"showline\":true,\"ticks\":\"outside\"}},\"title\":{\"x\":0.05},\"xaxis\":{\"automargin\":true,\"gridcolor\":\"rgb(232,232,232)\",\"linecolor\":\"rgb(36,36,36)\",\"showgrid\":false,\"showline\":true,\"ticks\":\"outside\",\"title\":{\"standoff\":15},\"zeroline\":false,\"zerolinecolor\":\"rgb(36,36,36)\"},\"yaxis\":{\"automargin\":true,\"gridcolor\":\"rgb(232,232,232)\",\"linecolor\":\"rgb(36,36,36)\",\"showgrid\":false,\"showline\":true,\"ticks\":\"outside\",\"title\":{\"standoff\":15},\"zeroline\":false,\"zerolinecolor\":\"rgb(36,36,36)\"}}},\"xaxis\":{\"anchor\":\"y\",\"domain\":[0.0,1.0],\"title\":{\"text\":\"Name\"},\"categoryorder\":\"total descending\",\"categoryarray\":[\"B Café - Shangri-La Hotel\",\"Edo Restaurant & Bar - ITC Gardenia\",\"24/7 - The Lalit Ashok Bangalore\",\"Ministry of Food - Hilton Bangalore Embassy GolfLinks\",\"Shiro\",\"Feast - Sheraton Grand Bangalore Hotel at Brigade Gateway\",\"Shang Palace - Shangri-La Hotel\",\"Shao - Radisson Blu\",\"Asia Alive - DoubleTree Suites By Hilton\",\"Melange - Radisson Blu\"]},\"yaxis\":{\"anchor\":\"x\",\"domain\":[0.0,1.0],\"title\":{\"text\":\"AverageCost\"}},\"legend\":{\"title\":{\"text\":\"Name\"},\"tracegroupgap\":0},\"margin\":{\"t\":60},\"barmode\":\"relative\"},                        {\"responsive\": true}                    ).then(function(){\n",
       "                            \n",
       "var gd = document.getElementById('d07049f1-985e-41e9-92e6-324e190aaa5b');\n",
       "var x = new MutationObserver(function (mutations, observer) {{\n",
       "        var display = window.getComputedStyle(gd).display;\n",
       "        if (!display || display === 'none') {{\n",
       "            console.log([gd, 'removed!']);\n",
       "            Plotly.purge(gd);\n",
       "            observer.disconnect();\n",
       "        }}\n",
       "}});\n",
       "\n",
       "// Listen for the removal of the full notebook cells\n",
       "var notebookContainer = gd.closest('#notebook-container');\n",
       "if (notebookContainer) {{\n",
       "    x.observe(notebookContainer, {childList: true});\n",
       "}}\n",
       "\n",
       "// Listen for the clearing of the current output cell\n",
       "var outputEl = gd.closest('.output');\n",
       "if (outputEl) {{\n",
       "    x.observe(outputEl, {childList: true});\n",
       "}}\n",
       "\n",
       "                        })                };                });            </script>        </div>"
      ]
     },
     "metadata": {},
     "output_type": "display_data"
    }
   ],
   "source": [
    "#Restaurant wise average cost in Bengaluru Location\n",
    "fig = px.bar(df1, x='Name', template='simple_white',y='AverageCost', color= 'Name', text_auto=True)\n",
    "fig.update_xaxes(categoryorder='total descending')\n",
    "fig.show()"
   ]
  },
  {
   "cell_type": "markdown",
   "id": "eee28079",
   "metadata": {
    "papermill": {
     "duration": 0.077724,
     "end_time": "2022-10-10T07:02:02.683622",
     "exception": false,
     "start_time": "2022-10-10T07:02:02.605898",
     "status": "completed"
    },
    "tags": []
   },
   "source": [
    "The restaurants having the highest average cost are \n",
    "* B-Cafe, \n",
    "* Edo Restaurant & Bar, \n",
    "* Shiro\n",
    "* 24/7 - The Lalit Ashok Bangalore\n",
    "* Feast - Sheraton Grand Bangalore Hotel at Brigade Gateway"
   ]
  },
  {
   "cell_type": "code",
   "execution_count": 13,
   "id": "75c705d0",
   "metadata": {
    "execution": {
     "iopub.execute_input": "2022-10-10T07:02:02.843746Z",
     "iopub.status.busy": "2022-10-10T07:02:02.842724Z",
     "iopub.status.idle": "2022-10-10T07:02:03.273916Z",
     "shell.execute_reply": "2022-10-10T07:02:03.272863Z"
    },
    "papermill": {
     "duration": 0.513493,
     "end_time": "2022-10-10T07:02:03.276184",
     "exception": false,
     "start_time": "2022-10-10T07:02:02.762691",
     "status": "completed"
    },
    "tags": []
   },
   "outputs": [
    {
     "data": {
      "image/png": "[encoded data removed]",
      "text/plain": [
       "<Figure size 1080x720 with 1 Axes>"
      ]
     },
     "metadata": {
      "needs_background": "light"
     },
     "output_type": "display_data"
    }
   ],
   "source": [
    "df2 = df.copy().sort_values(by='Dinner Ratings',ascending= False).drop_duplicates('Name').head(5)\n",
    "df2.groupby(['Area','Name']).sum().plot.barh();"
   ]
  },
  {
   "cell_type": "markdown",
   "id": "dcdb96aa",
   "metadata": {
    "papermill": {
     "duration": 0.079509,
     "end_time": "2022-10-10T07:02:03.435757",
     "exception": false,
     "start_time": "2022-10-10T07:02:03.356248",
     "status": "completed"
    },
    "tags": []
   },
   "source": [
    "The restaurants with the highest dine-in ratings are \n",
    "* Brahmin's Coffee Bar\n",
    "* Windmills Craftworks\n",
    "* Milano Ice Cream\n",
    "* Burma Burma"
   ]
  },
  {
   "cell_type": "markdown",
   "id": "4ee303a7",
   "metadata": {
    "papermill": {
     "duration": 0.07907,
     "end_time": "2022-10-10T07:02:03.594752",
     "exception": false,
     "start_time": "2022-10-10T07:02:03.515682",
     "status": "completed"
    },
    "tags": []
   },
   "source": [
    "Restaurants with Highest Dinner Ratings"
   ]
  },
  {
   "cell_type": "code",
   "execution_count": 14,
   "id": "0a3a0671",
   "metadata": {
    "execution": {
     "iopub.execute_input": "2022-10-10T07:02:03.756070Z",
     "iopub.status.busy": "2022-10-10T07:02:03.755123Z",
     "iopub.status.idle": "2022-10-10T07:02:05.528742Z",
     "shell.execute_reply": "2022-10-10T07:02:05.528033Z"
    },
    "papermill": {
     "duration": 1.856371,
     "end_time": "2022-10-10T07:02:05.530596",
     "exception": false,
     "start_time": "2022-10-10T07:02:03.674225",
     "status": "completed"
    },
    "tags": []
   },
   "outputs": [
    {
     "data": {
      "image/png": "[encoded data removed]",
      "text/plain": [
       "<Figure size 1080x720 with 1 Axes>"
      ]
     },
     "metadata": {
      "needs_background": "light"
     },
     "output_type": "display_data"
    },
    {
     "data": {
      "image/png": "[encoded data removed]",
      "text/plain": [
       "<Figure size 1080x720 with 1 Axes>"
      ]
     },
     "metadata": {
      "needs_background": "light"
     },
     "output_type": "display_data"
    },
    {
     "data": {
      "image/png": "[encoded data removed]",
      "text/plain": [
       "<Figure size 1080x720 with 1 Axes>"
      ]
     },
     "metadata": {
      "needs_background": "light"
     },
     "output_type": "display_data"
    },
    {
     "data": {
      "image/png": "[encoded data removed]",
      "text/plain": [
       "<Figure size 1080x720 with 1 Axes>"
      ]
     },
     "metadata": {
      "needs_background": "light"
     },
     "output_type": "display_data"
    },
    {
     "data": {
      "image/png": "[encoded data removed]",
      "text/plain": [
       "<Figure size 1080x720 with 1 Axes>"
      ]
     },
     "metadata": {
      "needs_background": "light"
     },
     "output_type": "display_data"
    },
    {
     "data": {
      "image/png": "[encoded data removed]",
      "text/plain": [
       "<Figure size 1080x720 with 1 Axes>"
      ]
     },
     "metadata": {
      "needs_background": "light"
     },
     "output_type": "display_data"
    },
    {
     "data": {
      "image/png": "[encoded data removed]",
      "text/plain": [
       "<Figure size 1080x720 with 1 Axes>"
      ]
     },
     "metadata": {
      "needs_background": "light"
     },
     "output_type": "display_data"
    }
   ],
   "source": [
    "for i in df2[['Name', 'Cuisines', 'Area', 'Timing', 'Dinner Reviews',\n",
    "       'Delivery Ratings', 'AverageCost']]:\n",
    "    \n",
    "    ax= sns.histplot(df2[['Name', 'Cuisines', 'Area', 'Timing', 'Dinner Reviews',\n",
    "       'Delivery Ratings', 'PopularDishes', 'AverageCost']][i],  \n",
    "             kde=True, color='lightgray')\n",
    "    ax.lines[0].set_color('crimson')\n",
    "    plt.title(i+\" \"+'Histplot')\n",
    "    plt.xticks(rotation = 45)\n",
    "    plt.show();"
   ]
  },
  {
   "cell_type": "code",
   "execution_count": 15,
   "id": "62b8cf77",
   "metadata": {
    "execution": {
     "iopub.execute_input": "2022-10-10T07:02:05.715023Z",
     "iopub.status.busy": "2022-10-10T07:02:05.714457Z",
     "iopub.status.idle": "2022-10-10T07:02:05.747782Z",
     "shell.execute_reply": "2022-10-10T07:02:05.746565Z"
    },
    "papermill": {
     "duration": 0.128536,
     "end_time": "2022-10-10T07:02:05.750200",
     "exception": false,
     "start_time": "2022-10-10T07:02:05.621664",
     "status": "completed"
    },
    "tags": []
   },
   "outputs": [
    {
     "name": "stdout",
     "output_type": "stream",
     "text": [
      "<class 'pandas.core.frame.DataFrame'>\n",
      "RangeIndex: 8923 entries, 0 to 8922\n",
      "Data columns (total 19 columns):\n",
      " #   Column            Non-Null Count  Dtype  \n",
      "---  ------            --------------  -----  \n",
      " 0   Name              8923 non-null   object \n",
      " 1   URL               8923 non-null   object \n",
      " 2   Cuisines          8923 non-null   object \n",
      " 3   Area              8923 non-null   object \n",
      " 4   Timing            5820 non-null   object \n",
      " 5   Full_Address      8923 non-null   object \n",
      " 6   PhoneNumber       8923 non-null   object \n",
      " 7   IsHomeDelivery    8923 non-null   int64  \n",
      " 8   isTakeaway        8923 non-null   int64  \n",
      " 9   isIndoorSeating   8923 non-null   int64  \n",
      " 10  isVegOnly         8923 non-null   int64  \n",
      " 11  Dinner Ratings    8923 non-null   float64\n",
      " 12  Dinner Reviews    8923 non-null   int64  \n",
      " 13  Delivery Ratings  8923 non-null   float64\n",
      " 14  Delivery Reviews  8923 non-null   int64  \n",
      " 15  KnownFor          258 non-null    object \n",
      " 16  PopularDishes     1535 non-null   object \n",
      " 17  PeopleKnownFor    3484 non-null   object \n",
      " 18  AverageCost       8923 non-null   int64  \n",
      "dtypes: float64(2), int64(7), object(10)\n",
      "memory usage: 1.3+ MB\n"
     ]
    }
   ],
   "source": [
    "# Converting Ratings to float from object datatype\n",
    "df['Dinner Ratings'] = df['Dinner Ratings'].str.replace('-', '0').astype(np.float64)\n",
    "df['Delivery Ratings'] = df['Delivery Ratings'].str.replace('-', '0').astype(np.float64)\n",
    "df.info()"
   ]
  },
  {
   "cell_type": "code",
   "execution_count": 16,
   "id": "b0bd2e61",
   "metadata": {
    "execution": {
     "iopub.execute_input": "2022-10-10T07:02:05.940610Z",
     "iopub.status.busy": "2022-10-10T07:02:05.940244Z",
     "iopub.status.idle": "2022-10-10T07:02:05.980283Z",
     "shell.execute_reply": "2022-10-10T07:02:05.979640Z"
    },
    "papermill": {
     "duration": 0.133932,
     "end_time": "2022-10-10T07:02:05.982643",
     "exception": false,
     "start_time": "2022-10-10T07:02:05.848711",
     "status": "completed"
    },
    "tags": []
   },
   "outputs": [
    {
     "data": {
      "text/html": [
       "<div>\n",
       "<style scoped>\n",
       "    .dataframe tbody tr th:only-of-type {\n",
       "        vertical-align: middle;\n",
       "    }\n",
       "\n",
       "    .dataframe tbody tr th {\n",
       "        vertical-align: top;\n",
       "    }\n",
       "\n",
       "    .dataframe thead th {\n",
       "        text-align: right;\n",
       "    }\n",
       "</style>\n",
       "<table border=\"1\" class=\"dataframe\">\n",
       "  <thead>\n",
       "    <tr style=\"text-align: right;\">\n",
       "      <th></th>\n",
       "      <th></th>\n",
       "      <th>IsHomeDelivery</th>\n",
       "      <th>isTakeaway</th>\n",
       "      <th>isIndoorSeating</th>\n",
       "      <th>isVegOnly</th>\n",
       "      <th>Dinner Ratings</th>\n",
       "      <th>Dinner Reviews</th>\n",
       "      <th>Delivery Ratings</th>\n",
       "      <th>Delivery Reviews</th>\n",
       "      <th>AverageCost</th>\n",
       "    </tr>\n",
       "    <tr>\n",
       "      <th>Area</th>\n",
       "      <th>Name</th>\n",
       "      <th></th>\n",
       "      <th></th>\n",
       "      <th></th>\n",
       "      <th></th>\n",
       "      <th></th>\n",
       "      <th></th>\n",
       "      <th></th>\n",
       "      <th></th>\n",
       "      <th></th>\n",
       "    </tr>\n",
       "  </thead>\n",
       "  <tbody>\n",
       "    <tr>\n",
       "      <th rowspan=\"5\" valign=\"top\">1 MG Road Mall, MG Road, Bangalore</th>\n",
       "      <th>Bakery By Foodhall</th>\n",
       "      <td>1</td>\n",
       "      <td>1</td>\n",
       "      <td>0</td>\n",
       "      <td>0</td>\n",
       "      <td>0.0</td>\n",
       "      <td>0</td>\n",
       "      <td>4.3</td>\n",
       "      <td>58</td>\n",
       "      <td>150</td>\n",
       "    </tr>\n",
       "    <tr>\n",
       "      <th>Fruitify</th>\n",
       "      <td>1</td>\n",
       "      <td>1</td>\n",
       "      <td>1</td>\n",
       "      <td>0</td>\n",
       "      <td>3.4</td>\n",
       "      <td>4</td>\n",
       "      <td>3.7</td>\n",
       "      <td>109</td>\n",
       "      <td>350</td>\n",
       "    </tr>\n",
       "    <tr>\n",
       "      <th>ROYCE' Chocolate</th>\n",
       "      <td>1</td>\n",
       "      <td>1</td>\n",
       "      <td>0</td>\n",
       "      <td>0</td>\n",
       "      <td>0.0</td>\n",
       "      <td>0</td>\n",
       "      <td>4.2</td>\n",
       "      <td>42</td>\n",
       "      <td>400</td>\n",
       "    </tr>\n",
       "    <tr>\n",
       "      <th>Smoor</th>\n",
       "      <td>1</td>\n",
       "      <td>1</td>\n",
       "      <td>0</td>\n",
       "      <td>0</td>\n",
       "      <td>0.0</td>\n",
       "      <td>0</td>\n",
       "      <td>4.2</td>\n",
       "      <td>761</td>\n",
       "      <td>350</td>\n",
       "    </tr>\n",
       "    <tr>\n",
       "      <th>Yauatcha</th>\n",
       "      <td>1</td>\n",
       "      <td>1</td>\n",
       "      <td>1</td>\n",
       "      <td>0</td>\n",
       "      <td>4.7</td>\n",
       "      <td>2933</td>\n",
       "      <td>4.1</td>\n",
       "      <td>175</td>\n",
       "      <td>2000</td>\n",
       "    </tr>\n",
       "    <tr>\n",
       "      <th>153 Biere Street, Bangalore</th>\n",
       "      <th>SLV Corner Restaurant</th>\n",
       "      <td>1</td>\n",
       "      <td>1</td>\n",
       "      <td>1</td>\n",
       "      <td>0</td>\n",
       "      <td>4.1</td>\n",
       "      <td>468</td>\n",
       "      <td>4.2</td>\n",
       "      <td>10100</td>\n",
       "      <td>800</td>\n",
       "    </tr>\n",
       "    <tr>\n",
       "      <th>5th Avenue, Brigade Road, Bangalore</th>\n",
       "      <th>Thai House</th>\n",
       "      <td>1</td>\n",
       "      <td>1</td>\n",
       "      <td>1</td>\n",
       "      <td>0</td>\n",
       "      <td>4.1</td>\n",
       "      <td>167</td>\n",
       "      <td>4.2</td>\n",
       "      <td>628</td>\n",
       "      <td>400</td>\n",
       "    </tr>\n",
       "    <tr>\n",
       "      <th>Abhimaani Vasathi, Bangalore</th>\n",
       "      <th>Coastal Spice</th>\n",
       "      <td>1</td>\n",
       "      <td>1</td>\n",
       "      <td>1</td>\n",
       "      <td>0</td>\n",
       "      <td>3.1</td>\n",
       "      <td>72</td>\n",
       "      <td>3.4</td>\n",
       "      <td>50</td>\n",
       "      <td>900</td>\n",
       "    </tr>\n",
       "    <tr>\n",
       "      <th>Aloft Bengaluru Cessna Business Park, Kadubeesanahalli, Bangalore</th>\n",
       "      <th>Nandhini Deluxe</th>\n",
       "      <td>1</td>\n",
       "      <td>1</td>\n",
       "      <td>1</td>\n",
       "      <td>0</td>\n",
       "      <td>3.1</td>\n",
       "      <td>529</td>\n",
       "      <td>4.1</td>\n",
       "      <td>6875</td>\n",
       "      <td>700</td>\n",
       "    </tr>\n",
       "    <tr>\n",
       "      <th rowspan=\"2\" valign=\"top\">Aloft Hotel, Whitefield, Bangalore</th>\n",
       "      <th>Dot.yum - Aloft Hotel</th>\n",
       "      <td>1</td>\n",
       "      <td>1</td>\n",
       "      <td>1</td>\n",
       "      <td>0</td>\n",
       "      <td>3.7</td>\n",
       "      <td>299</td>\n",
       "      <td>0.0</td>\n",
       "      <td>10</td>\n",
       "      <td>2000</td>\n",
       "    </tr>\n",
       "    <tr>\n",
       "      <th>Estia - Aloft Hotel</th>\n",
       "      <td>1</td>\n",
       "      <td>0</td>\n",
       "      <td>1</td>\n",
       "      <td>0</td>\n",
       "      <td>3.9</td>\n",
       "      <td>89</td>\n",
       "      <td>0.0</td>\n",
       "      <td>6</td>\n",
       "      <td>1600</td>\n",
       "    </tr>\n",
       "    <tr>\n",
       "      <th rowspan=\"4\" valign=\"top\">Ascendas Park Square, Whitefield, Bangalore</th>\n",
       "      <th>Amoeba Sports Bar</th>\n",
       "      <td>1</td>\n",
       "      <td>1</td>\n",
       "      <td>1</td>\n",
       "      <td>0</td>\n",
       "      <td>4.0</td>\n",
       "      <td>667</td>\n",
       "      <td>4.0</td>\n",
       "      <td>41</td>\n",
       "      <td>1600</td>\n",
       "    </tr>\n",
       "    <tr>\n",
       "      <th>Barbeque Nation</th>\n",
       "      <td>1</td>\n",
       "      <td>1</td>\n",
       "      <td>1</td>\n",
       "      <td>0</td>\n",
       "      <td>4.5</td>\n",
       "      <td>2568</td>\n",
       "      <td>3.7</td>\n",
       "      <td>892</td>\n",
       "      <td>1600</td>\n",
       "    </tr>\n",
       "    <tr>\n",
       "      <th>California Burrito</th>\n",
       "      <td>1</td>\n",
       "      <td>1</td>\n",
       "      <td>1</td>\n",
       "      <td>0</td>\n",
       "      <td>4.0</td>\n",
       "      <td>358</td>\n",
       "      <td>4.2</td>\n",
       "      <td>3243</td>\n",
       "      <td>500</td>\n",
       "    </tr>\n",
       "    <tr>\n",
       "      <th>Deccan Paradise</th>\n",
       "      <td>1</td>\n",
       "      <td>1</td>\n",
       "      <td>1</td>\n",
       "      <td>0</td>\n",
       "      <td>4.2</td>\n",
       "      <td>454</td>\n",
       "      <td>4.3</td>\n",
       "      <td>389</td>\n",
       "      <td>500</td>\n",
       "    </tr>\n",
       "  </tbody>\n",
       "</table>\n",
       "</div>"
      ],
      "text/plain": [
       "                                                                          IsHomeDelivery  \\\n",
       "Area                                               Name                                    \n",
       "1 MG Road Mall, MG Road, Bangalore                 Bakery By Foodhall                  1   \n",
       "                                                   Fruitify                            1   \n",
       "                                                   ROYCE' Chocolate                    1   \n",
       "                                                   Smoor                               1   \n",
       "                                                   Yauatcha                            1   \n",
       "153 Biere Street, Bangalore                        SLV Corner Restaurant               1   \n",
       "5th Avenue, Brigade Road, Bangalore                Thai House                          1   \n",
       "Abhimaani Vasathi, Bangalore                       Coastal Spice                       1   \n",
       "Aloft Bengaluru Cessna Business Park, Kadubeesa... Nandhini Deluxe                     1   \n",
       "Aloft Hotel, Whitefield, Bangalore                 Dot.yum - Aloft Hotel               1   \n",
       "                                                   Estia - Aloft Hotel                 1   \n",
       "Ascendas Park Square, Whitefield, Bangalore        Amoeba Sports Bar                   1   \n",
       "                                                   Barbeque Nation                     1   \n",
       "                                                   California Burrito                  1   \n",
       "                                                   Deccan Paradise                     1   \n",
       "\n",
       "                                                                          isTakeaway  \\\n",
       "Area                                               Name                                \n",
       "1 MG Road Mall, MG Road, Bangalore                 Bakery By Foodhall              1   \n",
       "                                                   Fruitify                        1   \n",
       "                                                   ROYCE' Chocolate                1   \n",
       "                                                   Smoor                           1   \n",
       "                                                   Yauatcha                        1   \n",
       "153 Biere Street, Bangalore                        SLV Corner Restaurant           1   \n",
       "5th Avenue, Brigade Road, Bangalore                Thai House                      1   \n",
       "Abhimaani Vasathi, Bangalore                       Coastal Spice                   1   \n",
       "Aloft Bengaluru Cessna Business Park, Kadubeesa... Nandhini Deluxe                 1   \n",
       "Aloft Hotel, Whitefield, Bangalore                 Dot.yum - Aloft Hotel           1   \n",
       "                                                   Estia - Aloft Hotel             0   \n",
       "Ascendas Park Square, Whitefield, Bangalore        Amoeba Sports Bar               1   \n",
       "                                                   Barbeque Nation                 1   \n",
       "                                                   California Burrito              1   \n",
       "                                                   Deccan Paradise                 1   \n",
       "\n",
       "                                                                          isIndoorSeating  \\\n",
       "Area                                               Name                                     \n",
       "1 MG Road Mall, MG Road, Bangalore                 Bakery By Foodhall                   0   \n",
       "                                                   Fruitify                             1   \n",
       "                                                   ROYCE' Chocolate                     0   \n",
       "                                                   Smoor                                0   \n",
       "                                                   Yauatcha                             1   \n",
       "153 Biere Street, Bangalore                        SLV Corner Restaurant                1   \n",
       "5th Avenue, Brigade Road, Bangalore                Thai House                           1   \n",
       "Abhimaani Vasathi, Bangalore                       Coastal Spice                        1   \n",
       "Aloft Bengaluru Cessna Business Park, Kadubeesa... Nandhini Deluxe                      1   \n",
       "Aloft Hotel, Whitefield, Bangalore                 Dot.yum - Aloft Hotel                1   \n",
       "                                                   Estia - Aloft Hotel                  1   \n",
       "Ascendas Park Square, Whitefield, Bangalore        Amoeba Sports Bar                    1   \n",
       "                                                   Barbeque Nation                      1   \n",
       "                                                   California Burrito                   1   \n",
       "                                                   Deccan Paradise                      1   \n",
       "\n",
       "                                                                          isVegOnly  \\\n",
       "Area                                               Name                               \n",
       "1 MG Road Mall, MG Road, Bangalore                 Bakery By Foodhall             0   \n",
       "                                                   Fruitify                       0   \n",
       "                                                   ROYCE' Chocolate               0   \n",
       "                                                   Smoor                          0   \n",
       "                                                   Yauatcha                       0   \n",
       "153 Biere Street, Bangalore                        SLV Corner Restaurant          0   \n",
       "5th Avenue, Brigade Road, Bangalore                Thai House                     0   \n",
       "Abhimaani Vasathi, Bangalore                       Coastal Spice                  0   \n",
       "Aloft Bengaluru Cessna Business Park, Kadubeesa... Nandhini Deluxe                0   \n",
       "Aloft Hotel, Whitefield, Bangalore                 Dot.yum - Aloft Hotel          0   \n",
       "                                                   Estia - Aloft Hotel            0   \n",
       "Ascendas Park Square, Whitefield, Bangalore        Amoeba Sports Bar              0   \n",
       "                                                   Barbeque Nation                0   \n",
       "                                                   California Burrito             0   \n",
       "                                                   Deccan Paradise                0   \n",
       "\n",
       "                                                                          Dinner Ratings  \\\n",
       "Area                                               Name                                    \n",
       "1 MG Road Mall, MG Road, Bangalore                 Bakery By Foodhall                0.0   \n",
       "                                                   Fruitify                          3.4   \n",
       "                                                   ROYCE' Chocolate                  0.0   \n",
       "                                                   Smoor                             0.0   \n",
       "                                                   Yauatcha                          4.7   \n",
       "153 Biere Street, Bangalore                        SLV Corner Restaurant             4.1   \n",
       "5th Avenue, Brigade Road, Bangalore                Thai House                        4.1   \n",
       "Abhimaani Vasathi, Bangalore                       Coastal Spice                     3.1   \n",
       "Aloft Bengaluru Cessna Business Park, Kadubeesa... Nandhini Deluxe                   3.1   \n",
       "Aloft Hotel, Whitefield, Bangalore                 Dot.yum - Aloft Hotel             3.7   \n",
       "                                                   Estia - Aloft Hotel               3.9   \n",
       "Ascendas Park Square, Whitefield, Bangalore        Amoeba Sports Bar                 4.0   \n",
       "                                                   Barbeque Nation                   4.5   \n",
       "                                                   California Burrito                4.0   \n",
       "                                                   Deccan Paradise                   4.2   \n",
       "\n",
       "                                                                          Dinner Reviews  \\\n",
       "Area                                               Name                                    \n",
       "1 MG Road Mall, MG Road, Bangalore                 Bakery By Foodhall                  0   \n",
       "                                                   Fruitify                            4   \n",
       "                                                   ROYCE' Chocolate                    0   \n",
       "                                                   Smoor                               0   \n",
       "                                                   Yauatcha                         2933   \n",
       "153 Biere Street, Bangalore                        SLV Corner Restaurant             468   \n",
       "5th Avenue, Brigade Road, Bangalore                Thai House                        167   \n",
       "Abhimaani Vasathi, Bangalore                       Coastal Spice                      72   \n",
       "Aloft Bengaluru Cessna Business Park, Kadubeesa... Nandhini Deluxe                   529   \n",
       "Aloft Hotel, Whitefield, Bangalore                 Dot.yum - Aloft Hotel             299   \n",
       "                                                   Estia - Aloft Hotel                89   \n",
       "Ascendas Park Square, Whitefield, Bangalore        Amoeba Sports Bar                 667   \n",
       "                                                   Barbeque Nation                  2568   \n",
       "                                                   California Burrito                358   \n",
       "                                                   Deccan Paradise                   454   \n",
       "\n",
       "                                                                          Delivery Ratings  \\\n",
       "Area                                               Name                                      \n",
       "1 MG Road Mall, MG Road, Bangalore                 Bakery By Foodhall                  4.3   \n",
       "                                                   Fruitify                            3.7   \n",
       "                                                   ROYCE' Chocolate                    4.2   \n",
       "                                                   Smoor                               4.2   \n",
       "                                                   Yauatcha                            4.1   \n",
       "153 Biere Street, Bangalore                        SLV Corner Restaurant               4.2   \n",
       "5th Avenue, Brigade Road, Bangalore                Thai House                          4.2   \n",
       "Abhimaani Vasathi, Bangalore                       Coastal Spice                       3.4   \n",
       "Aloft Bengaluru Cessna Business Park, Kadubeesa... Nandhini Deluxe                     4.1   \n",
       "Aloft Hotel, Whitefield, Bangalore                 Dot.yum - Aloft Hotel               0.0   \n",
       "                                                   Estia - Aloft Hotel                 0.0   \n",
       "Ascendas Park Square, Whitefield, Bangalore        Amoeba Sports Bar                   4.0   \n",
       "                                                   Barbeque Nation                     3.7   \n",
       "                                                   California Burrito                  4.2   \n",
       "                                                   Deccan Paradise                     4.3   \n",
       "\n",
       "                                                                          Delivery Reviews  \\\n",
       "Area                                               Name                                      \n",
       "1 MG Road Mall, MG Road, Bangalore                 Bakery By Foodhall                   58   \n",
       "                                                   Fruitify                            109   \n",
       "                                                   ROYCE' Chocolate                     42   \n",
       "                                                   Smoor                               761   \n",
       "                                                   Yauatcha                            175   \n",
       "153 Biere Street, Bangalore                        SLV Corner Restaurant             10100   \n",
       "5th Avenue, Brigade Road, Bangalore                Thai House                          628   \n",
       "Abhimaani Vasathi, Bangalore                       Coastal Spice                        50   \n",
       "Aloft Bengaluru Cessna Business Park, Kadubeesa... Nandhini Deluxe                    6875   \n",
       "Aloft Hotel, Whitefield, Bangalore                 Dot.yum - Aloft Hotel                10   \n",
       "                                                   Estia - Aloft Hotel                   6   \n",
       "Ascendas Park Square, Whitefield, Bangalore        Amoeba Sports Bar                    41   \n",
       "                                                   Barbeque Nation                     892   \n",
       "                                                   California Burrito                 3243   \n",
       "                                                   Deccan Paradise                     389   \n",
       "\n",
       "                                                                          AverageCost  \n",
       "Area                                               Name                                \n",
       "1 MG Road Mall, MG Road, Bangalore                 Bakery By Foodhall             150  \n",
       "                                                   Fruitify                       350  \n",
       "                                                   ROYCE' Chocolate               400  \n",
       "                                                   Smoor                          350  \n",
       "                                                   Yauatcha                      2000  \n",
       "153 Biere Street, Bangalore                        SLV Corner Restaurant          800  \n",
       "5th Avenue, Brigade Road, Bangalore                Thai House                     400  \n",
       "Abhimaani Vasathi, Bangalore                       Coastal Spice                  900  \n",
       "Aloft Bengaluru Cessna Business Park, Kadubeesa... Nandhini Deluxe                700  \n",
       "Aloft Hotel, Whitefield, Bangalore                 Dot.yum - Aloft Hotel         2000  \n",
       "                                                   Estia - Aloft Hotel           1600  \n",
       "Ascendas Park Square, Whitefield, Bangalore        Amoeba Sports Bar             1600  \n",
       "                                                   Barbeque Nation               1600  \n",
       "                                                   California Burrito             500  \n",
       "                                                   Deccan Paradise                500  "
      ]
     },
     "execution_count": 16,
     "metadata": {},
     "output_type": "execute_result"
    }
   ],
   "source": [
    "#Which restaurant is famous in different localities in Kolkata?\n",
    "df.groupby(['Area','Name']).sum().head(15)"
   ]
  },
  {
   "cell_type": "code",
   "execution_count": 17,
   "id": "372f81b3",
   "metadata": {
    "execution": {
     "iopub.execute_input": "2022-10-10T07:02:06.168896Z",
     "iopub.status.busy": "2022-10-10T07:02:06.168277Z",
     "iopub.status.idle": "2022-10-10T07:02:06.464354Z",
     "shell.execute_reply": "2022-10-10T07:02:06.463278Z"
    },
    "papermill": {
     "duration": 0.391346,
     "end_time": "2022-10-10T07:02:06.466531",
     "exception": false,
     "start_time": "2022-10-10T07:02:06.075185",
     "status": "completed"
    },
    "tags": []
   },
   "outputs": [
    {
     "data": {
      "text/html": [
       "<div>                            <div id=\"468b9127-0923-4ef9-8de4-20b67f6f7c5b\" class=\"plotly-graph-div\" style=\"height:525px; width:100%;\"></div>            <script type=\"text/javascript\">                require([\"plotly\"], function(Plotly) {                    window.PLOTLYENV=window.PLOTLYENV || {};                                    if (document.getElementById(\"468b9127-0923-4ef9-8de4-20b67f6f7c5b\")) {                    Plotly.newPlot(                        \"468b9127-0923-4ef9-8de4-20b67f6f7c5b\",                        [{\"alignmentgroup\":\"True\",\"bingroup\":\"x\",\"hovertemplate\":\"Dinner Ratings=%{x}<br>count=%{y}<extra></extra>\",\"legendgroup\":\"\",\"marker\":{\"color\":\"#1F77B4\",\"pattern\":{\"shape\":\"\"}},\"name\":\"\",\"offsetgroup\":\"\",\"orientation\":\"v\",\"showlegend\":false,\"x\":[4.0,4.3,3.9,2.4,2.8,0.0,4.1,3.8,4.2,0.0,0.0,3.7,0.0,0.0,0.0,0.0,4.3,4.8,3.1,0.0,4.0,3.8,4.9,3.8,4.2,4.4,4.0,2.7,3.4,3.1,4.3,2.8,0.0,3.8,0.0,4.2,0.0,4.0,3.4,3.8,3.7,3.6,3.7,4.2,4.0,2.0,3.7,4.8,0.0,0.0,0.0,0.0,3.9,3.2,3.8,0.0,4.2,2.9,3.9,4.6,0.0,0.0,0.0,3.2,4.2,0.0,3.7,0.0,0.0,4.1,0.0,4.2,0.0,0.0,4.0,3.5,3.2,0.0,0.0,0.0,0.0,0.0,0.0,3.1,3.3,2.8,2.4,0.0,3.3,0.0,4.6,3.9,2.9,2.8,4.0,0.0,0.0,3.8,3.5,0.0,0.0,4.5,2.3,2.4,0.0,0.0,0.0,4.3,4.3,3.7,0.0,4.1,3.8,3.0,2.9,0.0,0.0,0.0,0.0,3.0,4.2,4.1,3.5,0.0,0.0,4.1,0.0,3.4,3.7,3.7,0.0,3.1,3.0,0.0,0.0,4.1,0.0,3.5,0.0,3.9,3.3,4.2,0.0,3.7,0.0,4.7,3.9,4.2,0.0,3.6,3.5,3.6,0.0,3.3,0.0,0.0,0.0,4.2,4.0,0.0,3.2,3.9,3.5,3.0,4.1,3.8,0.0,3.0,0.0,0.0,3.4,4.6,0.0,0.0,4.5,0.0,4.1,4.4,4.2,2.9,3.9,4.3,0.0,4.0,0.0,0.0,3.6,2.9,3.9,3.1,3.9,4.3,0.0,3.8,4.1,4.0,3.6,4.0,3.8,3.5,0.0,0.0,0.0,0.0,3.6,0.0,3.9,0.0,0.0,0.0,4.0,4.1,0.0,3.8,4.1,0.0,0.0,0.0,4.3,4.2,3.8,0.0,0.0,3.8,2.5,4.3,0.0,4.0,0.0,0.0,3.1,4.9,0.0,3.2,0.0,3.9,0.0,4.1,4.5,0.0,3.8,4.4,0.0,4.0,4.0,0.0,3.7,3.8,4.4,3.3,0.0,4.2,0.0,0.0,2.9,4.3,0.0,4.4,0.0,3.9,0.0,3.7,3.4,3.9,0.0,0.0,0.0,4.0,4.0,3.6,4.6,0.0,3.5,0.0,3.3,3.3,3.2,3.6,0.0,0.0,3.8,4.4,4.0,0.0,3.9,0.0,4.0,3.9,3.6,0.0,4.0,3.2,0.0,3.2,3.9,3.4,4.5,2.9,3.6,3.8,3.6,4.1,0.0,3.5,4.2,0.0,0.0,4.2,4.3,0.0,4.3,4.0,3.2,3.6,3.9,3.5,0.0,3.7,3.4,0.0,0.0,4.2,4.1,0.0,3.7,0.0,3.5,3.3,3.9,0.0,3.4,3.9,2.8,0.0,0.0,4.6,3.8,0.0,0.0,0.0,4.5,3.5,3.7,3.7,0.0,3.9,2.7,4.2,4.1,3.8,3.2,4.0,0.0,0.0,4.3,0.0,4.2,4.2,4.0,0.0,4.0,4.2,3.6,4.2,0.0,4.6,0.0,0.0,3.9,0.0,0.0,3.9,3.9,2.8,3.6,0.0,0.0,0.0,3.1,0.0,0.0,4.1,4.2,2.9,2.9,3.8,3.3,3.3,0.0,0.0,0.0,0.0,4.4,4.7,3.7,3.9,3.5,4.0,0.0,0.0,3.1,3.6,4.1,0.0,3.7,0.0,0.0,4.3,3.9,0.0,0.0,2.8,4.3,0.0,4.7,0.0,0.0,0.0,0.0,3.2,3.1,3.2,0.0,0.0,4.2,4.3,4.3,0.0,0.0,4.2,3.9,3.0,0.0,0.0,3.1,4.0,0.0,3.8,3.0,4.1,3.1,3.6,0.0,0.0,0.0,0.0,0.0,0.0,4.1,3.9,3.9,0.0,3.9,3.9,2.9,3.7,4.1,3.9,0.0,3.9,0.0,3.2,0.0,0.0,4.5,0.0,0.0,0.0,0.0,4.7,0.0,0.0,3.7,3.1,0.0,4.2,4.5,3.7,3.4,4.7,0.0,4.3,3.6,0.0,0.0,4.6,0.0,0.0,0.0,0.0,3.9,0.0,0.0,4.0,0.0,3.7,0.0,0.0,0.0,3.8,3.6,4.2,0.0,3.8,4.1,3.7,0.0,4.1,0.0,0.0,3.1,0.0,0.0,2.4,3.9,4.8,4.1,0.0,0.0,2.7,0.0,0.0,0.0,3.9,0.0,0.0,0.0,0.0,0.0,0.0,0.0,3.9,4.0,3.2,4.0,4.5,0.0,0.0,4.3,0.0,0.0,2.5,4.0,4.1,0.0,0.0,0.0,0.0,0.0,3.7,0.0,0.0,0.0,4.3,0.0,0.0,3.7,4.3,3.7,4.1,0.0,0.0,0.0,0.0,0.0,0.0,0.0,0.0,3.9,0.0,0.0,0.0,3.9,0.0,0.0,0.0,0.0,0.0,0.0,0.0,3.9,0.0,0.0,0.0,0.0,4.1,0.0,4.0,3.9,0.0,0.0,0.0,0.0,0.0,0.0,0.0,0.0,0.0,0.0,0.0,0.0,0.0,0.0,0.0,0.0,0.0,0.0,0.0,0.0,0.0,0.0,0.0,0.0,0.0,0.0,0.0,3.8,0.0,0.0,3.2,4.2,2.6,4.2,4.0,4.0,0.0,4.1,3.6,3.6,4.1,4.2,3.7,3.5,3.7,2.9,0.0,0.0,4.5,3.6,3.8,2.0,4.0,3.2,0.0,4.4,3.6,0.0,3.2,0.0,0.0,3.2,0.0,0.0,3.8,3.9,0.0,3.2,4.6,0.0,3.8,0.0,4.0,0.0,0.0,0.0,0.0,0.0,4.2,3.7,3.1,3.8,4.5,0.0,3.8,0.0,0.0,4.4,0.0,0.0,3.6,0.0,3.7,4.1,0.0,4.2,0.0,0.0,0.0,3.7,3.7,0.0,0.0,0.0,0.0,2.6,3.3,3.7,0.0,0.0,0.0,0.0,0.0,2.8,2.8,0.0,0.0,3.8,3.4,0.0,2.9,4.4,3.7,3.4,0.0,3.9,0.0,2.9,0.0,0.0,3.3,3.0,2.0,3.7,4.0,0.0,3.8,0.0,0.0,0.0,0.0,0.0,0.0,3.9,0.0,3.4,3.9,0.0,0.0,0.0,0.0,0.0,3.5,0.0,3.1,0.0,0.0,0.0,2.8,0.0,3.2,0.0,3.1,0.0,3.8,0.0,0.0,0.0,3.2,0.0,0.0,0.0,2.5,3.9,4.1,3.7,0.0,0.0,4.0,2.8,3.7,0.0,3.8,0.0,4.6,3.8,3.6,4.7,0.0,4.3,3.6,2.2,3.9,0.0,0.0,2.9,0.0,0.0,4.2,2.9,0.0,4.1,0.0,3.3,0.0,0.0,3.9,0.0,3.7,0.0,4.0,3.1,0.0,0.0,4.0,3.1,0.0,0.0,0.0,3.9,3.4,0.0,0.0,0.0,3.9,3.3,0.0,3.7,0.0,3.2,4.0,0.0,3.1,3.8,4.1,0.0,0.0,3.1,4.4,3.1,0.0,3.8,0.0,0.0,3.8,0.0,2.9,0.0,0.0,0.0,3.8,3.9,4.0,0.0,4.0,3.5,0.0,0.0,3.9,0.0,0.0,0.0,0.0,4.2,0.0,3.2,3.4,3.5,0.0,4.4,4.0,3.4,0.0,4.4,4.5,0.0,0.0,3.9,3.5,0.0,0.0,3.5,3.8,0.0,0.0,0.0,0.0,3.1,4.3,0.0,0.0,4.0,4.2,0.0,4.4,3.6,0.0,3.2,2.7,0.0,3.7,0.0,3.6,0.0,0.0,0.0,3.2,3.2,0.0,0.0,0.0,0.0,3.2,3.5,3.8,4.3,3.7,3.3,0.0,0.0,0.0,4.3,0.0,4.1,0.0,0.0,0.0,0.0,0.0,0.0,2.8,2.8,0.0,0.0,3.8,0.0,0.0,0.0,0.0,0.0,0.0,0.0,0.0,0.0,4.3,3.2,4.1,0.0,3.5,0.0,4.1,4.2,4.1,0.0,0.0,3.7,4.7,0.0,0.0,2.4,3.6,3.6,3.3,0.0,0.0,0.0,3.6,0.0,0.0,0.0,2.7,0.0,3.7,0.0,4.2,0.0,0.0,0.0,0.0,0.0,3.6,3.7,0.0,0.0,0.0,0.0,0.0,0.0,4.3,3.3,2.8,0.0,0.0,0.0,0.0,0.0,0.0,0.0,0.0,0.0,4.0,0.0,4.7,0.0,3.4,0.0,0.0,3.3,0.0,4.0,3.7,0.0,0.0,0.0,0.0,0.0,3.8,0.0,0.0,0.0,0.0,0.0,0.0,0.0,3.6,0.0,0.0,0.0,0.0,0.0,3.4,0.0,3.9,3.9,0.0,0.0,0.0,0.0,0.0,0.0,2.3,0.0,0.0,4.0,0.0,0.0,3.9,3.0,4.3,0.0,4.0,0.0,3.0,3.9,0.0,0.0,3.5,0.0,0.0,0.0,0.0,0.0,0.0,4.4,0.0,2.7,0.0,4.1,0.0,0.0,0.0,4.0,3.7,4.9,3.4,4.0,3.7,0.0,4.0,3.9,3.3,0.0,4.3,0.0,4.0,0.0,0.0,0.0,4.1,4.4,0.0,0.0,0.0,0.0,0.0,0.0,0.0,3.0,2.9,0.0,0.0,0.0,0.0,0.0,0.0,4.2,3.7,0.0,0.0,0.0,0.0,0.0,3.1,3.5,2.9,2.9,0.0,0.0,3.6,3.4,3.9,0.0,4.2,2.8,3.5,0.0,2.9,4.0,3.7,0.0,0.0,0.0,0.0,3.9,0.0,4.4,0.0,0.0,0.0,2.9,4.0,0.0,0.0,0.0,0.0,0.0,3.8,0.0,0.0,0.0,0.0,3.7,0.0,3.9,0.0,3.8,3.3,0.0,3.3,3.9,3.8,3.9,2.9,4.7,0.0,3.2,4.3,4.4,0.0,4.3,3.1,3.5,0.0,0.0,0.0,0.0,0.0,0.0,0.0,3.9,0.0,0.0,0.0,4.3,3.0,0.0,0.0,2.6,0.0,4.1,3.3,0.0,0.0,3.9,0.0,0.0,0.0,0.0,3.6,0.0,0.0,0.0,3.8,0.0,0.0,0.0,0.0,4.8,3.0,4.4,0.0,0.0,3.5,3.9,0.0,0.0,0.0,4.1,0.0,0.0,4.6,4.1,0.0,3.0,0.0,3.9,4.2,4.7,3.3,3.6,0.0,0.0,0.0,0.0,3.0,3.2,3.6,0.0,3.7,0.0,4.4,0.0,0.0,0.0,0.0,0.0,0.0,0.0,0.0,0.0,0.0,0.0,0.0,4.2,0.0,4.4,0.0,0.0,3.5,0.0,0.0,0.0,0.0,0.0,2.9,0.0,0.0,0.0,4.1,0.0,0.0,0.0,0.0,0.0,0.0,0.0,0.0,0.0,0.0,0.0,0.0,0.0,3.1,0.0,3.1,3.4,0.0,0.0,0.0,4.0,0.0,0.0,3.7,0.0,0.0,0.0,3.7,0.0,0.0,0.0,0.0,0.0,0.0,0.0,3.2,3.6,0.0,4.1,4.2,0.0,0.0,0.0,0.0,0.0,4.1,3.5,0.0,0.0,0.0,3.5,4.0,0.0,0.0,3.4,4.1,0.0,4.2,0.0,0.0,0.0,3.4,0.0,0.0,0.0,0.0,3.7,0.0,0.0,3.5,3.4,0.0,0.0,0.0,0.0,0.0,0.0,0.0,0.0,2.7,3.6,3.8,0.0,0.0,3.8,3.6,0.0,0.0,0.0,0.0,0.0,0.0,0.0,0.0,0.0,0.0,3.8,3.5,0.0,0.0,0.0,0.0,0.0,0.0,0.0,0.0,0.0,0.0,0.0,0.0,0.0,0.0,0.0,0.0,0.0,0.0,0.0,0.0,0.0,0.0,0.0,0.0,0.0,0.0,0.0,0.0,0.0,0.0,0.0,0.0,0.0,0.0,0.0,0.0,0.0,0.0,0.0,0.0,3.9,0.0,0.0,0.0,0.0,0.0,4.2,0.0,0.0,0.0,0.0,0.0,0.0,0.0,3.3,0.0,0.0,0.0,0.0,0.0,0.0,0.0,4.0,0.0,3.8,3.9,3.2,0.0,0.0,0.0,0.0,4.0,3.3,0.0,3.7,3.0,0.0,2.9,0.0,2.2,0.0,0.0,4.1,4.0,0.0,0.0,0.0,0.0,0.0,2.6,0.0,0.0,0.0,0.0,0.0,3.1,0.0,0.0,0.0,0.0,0.0,0.0,3.9,3.2,2.7,3.5,0.0,0.0,0.0,0.0,4.2,3.2,3.6,0.0,0.0,0.0,4.0,3.0,4.0,3.2,0.0,3.3,0.0,0.0,3.8,0.0,3.7,0.0,0.0,0.0,0.0,2.7,0.0,0.0,0.0,3.3,0.0,0.0,0.0,3.6,0.0,0.0,0.0,0.0,3.7,0.0,2.9,0.0,0.0,0.0,3.7,3.0,2.8,3.2,0.0,0.0,0.0,4.3,3.8,3.9,0.0,0.0,0.0,3.5,3.5,4.0,0.0,0.0,3.5,3.2,0.0,0.0,0.0,0.0,0.0,0.0,0.0,0.0,0.0,0.0,0.0,2.6,0.0,4.6,0.0,0.0,3.7,0.0,3.9,4.0,0.0,0.0,0.0,0.0,0.0,3.7,0.0,0.0,0.0,0.0,0.0,3.7,3.2,0.0,0.0,4.5,3.6,3.9,0.0,3.2,0.0,3.7,3.5,4.2,3.8,3.5,3.9,0.0,0.0,0.0,0.0,0.0,4.0,0.0,0.0,3.8,3.2,0.0,0.0,3.9,0.0,0.0,0.0,0.0,0.0,3.9,0.0,2.2,4.0,0.0,0.0,0.0,0.0,0.0,4.0,0.0,4.2,3.1,0.0,0.0,3.8,0.0,0.0,0.0,0.0,0.0,0.0,0.0,4.3,0.0,0.0,3.8,0.0,3.9,3.3,0.0,0.0,2.8,3.4,0.0,0.0,3.1,3.0,0.0,3.4,0.0,3.8,0.0,0.0,0.0,0.0,0.0,0.0,0.0,0.0,3.4,4.4,4.1,3.9,3.6,3.6,0.0,3.8,0.0,0.0,0.0,0.0,3.1,0.0,0.0,3.1,4.3,0.0,0.0,0.0,0.0,2.9,3.1,3.7,0.0,3.9,0.0,3.2,0.0,4.4,3.2,0.0,0.0,0.0,0.0,0.0,0.0,0.0,4.2,3.4,0.0,0.0,3.0,0.0,0.0,3.2,0.0,0.0,0.0,3.3,0.0,0.0,0.0,3.2,0.0,0.0,0.0,0.0,4.0,3.9,3.8,0.0,0.0,0.0,0.0,0.0,0.0,0.0,0.0,4.2,0.0,0.0,0.0,0.0,0.0,0.0,0.0,4.1,0.0,0.0,2.8,0.0,3.7,0.0,0.0,0.0,0.0,0.0,3.7,0.0,0.0,0.0,2.9,0.0,3.6,0.0,0.0,0.0,0.0,0.0,0.0,0.0,0.0,0.0,0.0,4.2,4.2,0.0,0.0,0.0,0.0,0.0,0.0,0.0,0.0,0.0,0.0,3.0,3.5,0.0,0.0,0.0,0.0,0.0,3.4,0.0,0.0,0.0,0.0,3.7,3.4,0.0,0.0,3.9,0.0,0.0,0.0,3.7,0.0,0.0,0.0,0.0,0.0,0.0,0.0,3.5,0.0,0.0,3.2,3.7,4.0,3.8,0.0,0.0,0.0,3.8,0.0,0.0,0.0,0.0,0.0,4.1,0.0,0.0,0.0,0.0,0.0,4.1,0.0,0.0,0.0,0.0,4.1,3.5,4.3,0.0,0.0,0.0,0.0,3.7,3.8,0.0,0.0,0.0,0.0,0.0,3.3,0.0,4.1,0.0,3.3,3.9,4.2,0.0,0.0,0.0,0.0,0.0,0.0,0.0,0.0,0.0,0.0,0.0,0.0,4.1,3.5,0.0,0.0,0.0,0.0,0.0,3.6,0.0,0.0,0.0,0.0,0.0,3.9,0.0,4.2,4.3,3.3,0.0,0.0,4.3,0.0,0.0,3.3,3.9,4.3,3.7,4.0,3.6,2.9,4.4,4.4,4.0,2.7,0.0,0.0,0.0,0.0,0.0,0.0,0.0,0.0,0.0,0.0,3.7,2.8,3.0,0.0,3.9,0.0,0.0,0.0,3.9,0.0,0.0,0.0,0.0,0.0,0.0,0.0,0.0,0.0,0.0,0.0,0.0,0.0,0.0,0.0,0.0,0.0,0.0,3.1,0.0,0.0,0.0,0.0,0.0,3.7,0.0,0.0,0.0,0.0,0.0,0.0,0.0,0.0,3.5,3.9,0.0,0.0,0.0,3.7,3.7,0.0,0.0,0.0,3.6,0.0,0.0,0.0,3.4,0.0,0.0,0.0,0.0,0.0,0.0,3.0,0.0,0.0,0.0,0.0,0.0,3.0,4.2,0.0,3.6,0.0,0.0,4.0,0.0,4.1,3.9,3.6,0.0,3.5,0.0,0.0,3.0,0.0,4.2,2.7,0.0,0.0,0.0,0.0,0.0,0.0,0.0,0.0,0.0,3.8,0.0,3.7,0.0,0.0,0.0,0.0,0.0,3.3,0.0,0.0,0.0,0.0,0.0,0.0,0.0,0.0,0.0,0.0,0.0,0.0,0.0,0.0,0.0,0.0,0.0,0.0,0.0,0.0,0.0,3.3,0.0,0.0,0.0,0.0,0.0,0.0,0.0,0.0,0.0,3.4,0.0,0.0,0.0,0.0,0.0,0.0,0.0,0.0,0.0,0.0,0.0,0.0,0.0,0.0,0.0,0.0,0.0,0.0,0.0,0.0,0.0,0.0,0.0,0.0,0.0,0.0,0.0,0.0,0.0,0.0,0.0,0.0,0.0,0.0,0.0,0.0,0.0,0.0,0.0,0.0,0.0,0.0,0.0,0.0,0.0,0.0,0.0,0.0,0.0,0.0,0.0,0.0,0.0,0.0,0.0,0.0,0.0,0.0,0.0,0.0,0.0,0.0,0.0,0.0,0.0,0.0,0.0,0.0,0.0,0.0,0.0,0.0,0.0,0.0,0.0,0.0,0.0,0.0,0.0,0.0,0.0,0.0,0.0,0.0,0.0,0.0,0.0,0.0,0.0,0.0,0.0,4.4,4.0,3.0,3.6,3.9,0.0,3.2,0.0,0.0,0.0,0.0,0.0,2.7,0.0,0.0,0.0,0.0,0.0,0.0,0.0,0.0,0.0,0.0,0.0,0.0,0.0,3.6,3.8,3.6,0.0,0.0,3.4,0.0,0.0,0.0,0.0,0.0,0.0,0.0,3.9,0.0,4.2,3.4,4.2,0.0,0.0,0.0,0.0,0.0,0.0,0.0,0.0,0.0,4.0,3.6,2.9,4.1,4.2,4.1,3.9,3.1,3.0,0.0,0.0,0.0,4.0,3.1,3.8,4.1,3.5,4.4,2.3,0.0,4.1,0.0,3.8,3.6,4.0,4.3,3.8,0.0,0.0,0.0,4.1,0.0,4.7,4.0,0.0,0.0,4.4,4.2,4.2,0.0,4.0,0.0,3.1,4.0,3.6,0.0,0.0,0.0,0.0,2.9,4.8,3.5,0.0,0.0,0.0,3.8,0.0,4.4,3.3,0.0,0.0,3.7,3.2,3.0,4.4,4.2,3.2,3.2,0.0,0.0,0.0,3.8,0.0,0.0,0.0,0.0,3.7,0.0,3.1,3.8,4.6,3.0,3.5,4.4,0.0,4.2,3.7,3.0,0.0,3.0,0.0,4.1,4.4,0.0,4.2,0.0,3.4,0.0,3.9,4.6,3.7,0.0,0.0,0.0,4.1,0.0,0.0,0.0,4.0,0.0,4.2,4.1,0.0,3.1,2.8,0.0,2.5,3.9,0.0,0.0,4.1,0.0,3.9,0.0,0.0,2.6,0.0,0.0,0.0,4.0,3.4,0.0,0.0,4.0,3.1,0.0,3.5,0.0,3.5,3.5,3.4,2.9,3.6,0.0,0.0,2.6,3.8,3.8,0.0,4.0,0.0,3.7,0.0,0.0,0.0,3.7,3.5,4.0,0.0,4.1,0.0,4.4,4.2,0.0,0.0,0.0,3.5,3.5,0.0,4.5,4.0,3.6,4.1,4.2,3.2,3.9,0.0,0.0,3.7,0.0,2.9,4.2,4.3,0.0,4.1,3.9,0.0,4.2,4.0,3.7,4.6,0.0,0.0,0.0,0.0,3.5,0.0,4.1,0.0,4.3,0.0,4.0,3.3,3.8,3.7,3.6,0.0,0.0,3.7,3.8,0.0,0.0,0.0,4.1,3.6,3.8,4.1,0.0,4.0,4.1,0.0,0.0,3.3,3.8,0.0,0.0,2.7,0.0,2.8,0.0,0.0,4.0,3.5,0.0,3.5,4.0,0.0,0.0,0.0,3.0,4.7,0.0,0.0,0.0,3.9,4.0,3.9,0.0,0.0,3.7,3.4,0.0,3.8,0.0,0.0,0.0,0.0,3.7,0.0,4.2,0.0,0.0,3.4,0.0,4.0,0.0,3.7,3.9,0.0,0.0,0.0,3.3,3.7,3.7,4.1,3.2,2.8,3.8,3.7,0.0,4.2,0.0,4.2,4.1,0.0,0.0,0.0,4.0,3.0,4.0,3.3,0.0,0.0,3.6,4.2,0.0,0.0,0.0,3.2,0.0,4.3,0.0,3.8,3.9,0.0,0.0,0.0,0.0,0.0,3.8,4.1,0.0,4.1,0.0,0.0,0.0,0.0,3.3,4.1,0.0,0.0,0.0,3.0,0.0,4.1,0.0,3.8,4.5,0.0,4.3,3.9,3.6,3.7,2.6,4.3,0.0,3.6,4.2,0.0,4.8,2.9,3.1,4.2,0.0,0.0,0.0,0.0,3.0,3.6,3.6,0.0,0.0,3.7,3.7,0.0,0.0,3.8,4.1,0.0,3.2,4.5,3.8,4.2,3.8,3.1,0.0,0.0,3.0,0.0,4.8,3.8,0.0,0.0,0.0,3.2,0.0,4.6,4.0,0.0,0.0,3.8,0.0,4.0,3.6,4.0,3.6,3.8,3.4,0.0,0.0,4.0,3.6,4.3,3.3,3.1,3.4,3.1,2.3,4.0,4.2,3.8,4.0,3.6,4.2,0.0,3.4,0.0,3.7,4.6,0.0,4.0,0.0,2.6,0.0,0.0,3.8,3.7,0.0,0.0,0.0,0.0,0.0,4.0,4.2,0.0,4.6,0.0,0.0,3.5,0.0,4.0,3.9,0.0,4.0,3.7,3.3,3.0,4.3,0.0,0.0,3.5,0.0,4.2,0.0,0.0,0.0,0.0,3.9,0.0,3.1,0.0,4.6,0.0,0.0,0.0,0.0,0.0,0.0,0.0,4.0,0.0,3.5,0.0,0.0,4.0,0.0,4.1,0.0,3.8,3.6,0.0,0.0,0.0,3.1,0.0,0.0,0.0,0.0,0.0,0.0,3.1,0.0,0.0,3.6,4.1,0.0,0.0,3.8,0.0,0.0,3.9,3.8,0.0,3.7,0.0,0.0,4.0,0.0,0.0,0.0,0.0,3.9,0.0,4.2,3.2,3.8,0.0,0.0,3.5,0.0,0.0,3.6,3.6,0.0,4.0,0.0,3.7,0.0,0.0,3.7,3.5,4.0,4.0,3.7,0.0,3.2,3.2,3.1,0.0,4.3,0.0,4.5,3.8,0.0,0.0,3.2,0.0,0.0,0.0,4.2,0.0,0.0,0.0,4.0,3.8,4.2,0.0,4.3,4.2,4.5,0.0,3.2,0.0,0.0,3.1,0.0,3.6,0.0,0.0,3.6,3.9,0.0,0.0,0.0,3.3,3.4,3.6,0.0,3.5,0.0,3.1,0.0,3.5,0.0,0.0,3.6,0.0,4.0,4.0,3.5,3.8,0.0,4.1,3.6,4.1,4.0,0.0,0.0,0.0,0.0,4.1,0.0,0.0,3.5,3.7,0.0,3.0,4.1,3.7,0.0,0.0,4.0,3.9,0.0,0.0,3.0,4.0,4.1,0.0,3.8,0.0,3.6,4.0,0.0,0.0,4.2,4.2,0.0,0.0,0.0,0.0,3.8,3.8,4.0,0.0,0.0,3.3,0.0,3.7,0.0,0.0,4.0,3.0,4.1,4.0,4.3,3.9,4.0,4.1,2.5,4.2,3.8,0.0,4.4,3.9,3.2,0.0,0.0,0.0,0.0,0.0,4.1,0.0,0.0,3.9,4.2,0.0,0.0,0.0,0.0,2.8,0.0,4.5,4.4,3.9,4.2,2.8,2.8,2.9,2.4,0.0,4.0,3.3,0.0,3.9,4.2,0.0,0.0,0.0,3.8,3.8,0.0,0.0,4.0,0.0,3.7,3.9,0.0,0.0,4.0,3.9,0.0,0.0,3.2,0.0,0.0,0.0,3.5,2.7,0.0,2.8,4.2,0.0,0.0,3.8,2.3,0.0,0.0,4.2,0.0,3.2,4.4,0.0,3.4,3.6,4.0,0.0,4.2,0.0,2.7,0.0,0.0,3.0,2.6,4.2,0.0,0.0,0.0,3.3,0.0,3.8,0.0,0.0,4.3,3.2,3.6,0.0,0.0,3.9,0.0,0.0,3.6,3.1,3.4,3.3,0.0,4.6,2.5,0.0,0.0,0.0,3.6,0.0,0.0,0.0,0.0,3.6,0.0,0.0,0.0,3.1,0.0,0.0,4.1,3.2,3.8,0.0,3.8,0.0,0.0,0.0,0.0,3.6,3.7,0.0,4.3,3.9,0.0,3.7,0.0,0.0,3.5,0.0,4.2,0.0,3.8,0.0,0.0,0.0,0.0,0.0,0.0,0.0,3.9,3.5,4.3,0.0,0.0,0.0,0.0,0.0,0.0,0.0,4.7,4.1,0.0,0.0,3.9,0.0,3.8,0.0,0.0,0.0,3.6,3.1,0.0,3.7,0.0,0.0,4.4,3.2,4.2,0.0,0.0,3.4,0.0,3.6,0.0,0.0,0.0,0.0,3.6,2.7,0.0,3.9,4.5,0.0,0.0,3.6,3.2,0.0,0.0,0.0,3.8,0.0,0.0,0.0,0.0,3.7,3.6,0.0,0.0,0.0,3.4,0.0,0.0,0.0,3.6,0.0,3.2,4.0,0.0,0.0,3.8,0.0,3.7,0.0,3.8,0.0,0.0,3.9,0.0,3.9,3.6,3.4,4.2,4.1,0.0,3.2,0.0,0.0,0.0,4.0,3.8,0.0,3.6,3.5,2.8,3.8,0.0,3.9,4.0,0.0,3.7,0.0,3.7,4.0,2.7,0.0,0.0,3.9,3.5,0.0,3.9,0.0,4.0,0.0,0.0,3.8,0.0,0.0,3.7,0.0,3.5,3.9,0.0,0.0,0.0,4.1,0.0,2.8,0.0,0.0,0.0,0.0,3.6,0.0,0.0,0.0,0.0,4.3,0.0,3.2,3.9,3.9,0.0,0.0,0.0,3.9,0.0,4.2,3.7,3.8,0.0,4.1,0.0,3.9,3.8,0.0,2.8,0.0,0.0,0.0,2.9,3.7,3.6,4.0,3.5,3.9,0.0,3.8,0.0,0.0,0.0,0.0,3.7,0.0,0.0,3.7,3.9,0.0,0.0,0.0,0.0,3.8,3.6,0.0,3.7,0.0,3.0,0.0,0.0,0.0,2.8,3.1,0.0,3.3,3.7,0.0,0.0,2.3,0.0,3.1,0.0,0.0,0.0,0.0,0.0,3.8,3.6,3.9,3.2,0.0,0.0,0.0,3.7,4.0,3.9,3.2,3.2,0.0,3.6,0.0,0.0,4.2,0.0,0.0,3.0,0.0,0.0,0.0,0.0,0.0,0.0,0.0,0.0,0.0,0.0,0.0,0.0,0.0,0.0,0.0,0.0,3.2,0.0,3.2,4.0,3.8,0.0,4.2,3.9,0.0,3.6,4.0,3.9,3.7,0.0,0.0,0.0,0.0,0.0,0.0,3.4,0.0,0.0,0.0,0.0,4.2,0.0,0.0,0.0,3.6,0.0,0.0,0.0,0.0,3.4,0.0,0.0,0.0,0.0,0.0,3.0,3.4,4.2,3.8,0.0,0.0,0.0,0.0,3.7,3.6,0.0,0.0,0.0,0.0,0.0,0.0,2.5,0.0,0.0,0.0,0.0,0.0,0.0,0.0,0.0,0.0,4.0,0.0,0.0,0.0,3.8,3.8,0.0,0.0,0.0,0.0,0.0,0.0,0.0,0.0,0.0,0.0,0.0,0.0,0.0,0.0,0.0,0.0,3.8,0.0,0.0,3.3,0.0,0.0,3.3,0.0,0.0,0.0,0.0,0.0,0.0,0.0,0.0,0.0,0.0,0.0,0.0,0.0,0.0,0.0,0.0,0.0,0.0,0.0,0.0,0.0,0.0,0.0,0.0,0.0,0.0,0.0,0.0,0.0,0.0,0.0,0.0,0.0,4.0,3.5,3.6,3.9,4.4,3.8,2.9,0.0,3.8,4.1,0.0,3.7,3.7,4.6,3.1,4.1,2.5,0.0,3.4,3.9,0.0,3.6,4.1,0.0,0.0,3.6,2.2,0.0,2.5,4.5,3.3,0.0,3.9,0.0,0.0,4.4,0.0,0.0,0.0,3.8,0.0,0.0,3.7,0.0,4.4,3.5,4.0,3.3,4.0,0.0,0.0,0.0,0.0,0.0,2.9,3.9,4.0,3.4,3.1,0.0,0.0,4.1,0.0,3.8,3.1,4.1,0.0,3.3,3.1,3.5,3.7,4.2,3.8,3.8,0.0,3.8,0.0,4.3,0.0,4.1,3.9,3.3,0.0,3.0,0.0,0.0,0.0,3.9,0.0,0.0,0.0,4.0,4.0,3.1,3.2,0.0,3.7,0.0,0.0,4.3,3.1,3.9,3.2,0.0,0.0,4.0,0.0,0.0,0.0,0.0,2.9,2.9,3.8,3.8,3.3,0.0,4.0,3.8,0.0,3.7,0.0,3.1,4.2,0.0,0.0,4.3,4.3,3.8,0.0,0.0,0.0,3.2,0.0,4.0,4.0,0.0,0.0,0.0,4.1,4.3,3.4,3.0,3.7,3.6,4.3,0.0,3.5,4.0,0.0,0.0,0.0,3.7,0.0,0.0,0.0,0.0,4.0,4.3,3.2,3.5,0.0,4.1,3.6,0.0,0.0,0.0,3.8,3.8,3.9,3.5,0.0,0.0,0.0,0.0,0.0,3.7,0.0,3.4,3.4,0.0,0.0,0.0,0.0,3.7,0.0,0.0,0.0,0.0,0.0,0.0,0.0,4.0,3.3,3.2,0.0,2.9,0.0,4.9,2.9,0.0,4.0,3.0,0.0,3.4,0.0,3.4,3.0,3.5,0.0,4.0,0.0,3.5,3.3,0.0,0.0,3.9,3.4,4.3,0.0,0.0,0.0,0.0,0.0,3.4,0.0,0.0,3.1,3.3,3.8,0.0,4.4,0.0,0.0,3.7,3.0,0.0,3.6,0.0,0.0,3.6,0.0,4.2,0.0,0.0,4.0,0.0,0.0,3.4,3.4,0.0,3.2,3.0,3.8,3.1,3.6,0.0,0.0,4.4,0.0,3.1,0.0,0.0,4.5,3.1,0.0,0.0,4.1,3.6,0.0,2.7,3.5,3.7,0.0,0.0,0.0,0.0,0.0,0.0,0.0,0.0,3.3,0.0,0.0,0.0,0.0,0.0,4.3,3.5,0.0,4.2,3.4,0.0,0.0,0.0,3.6,3.7,0.0,3.2,0.0,0.0,3.0,4.6,0.0,0.0,0.0,2.8,0.0,4.0,3.8,0.0,3.5,3.0,0.0,3.6,2.4,4.1,0.0,3.2,0.0,3.9,3.1,0.0,0.0,0.0,4.2,0.0,4.0,4.3,0.0,3.2,0.0,3.7,2.6,3.1,0.0,2.9,4.1,0.0,0.0,3.8,3.6,3.4,3.9,0.0,3.7,3.0,3.8,2.7,3.7,4.1,0.0,0.0,0.0,0.0,0.0,0.0,3.9,3.3,3.9,0.0,3.8,3.1,3.0,3.2,3.5,3.4,4.2,0.0,0.0,0.0,3.7,4.1,3.5,0.0,0.0,0.0,0.0,3.6,0.0,0.0,0.0,3.7,0.0,0.0,3.5,0.0,3.9,0.0,3.3,2.9,3.7,3.0,3.8,3.8,0.0,4.0,2.8,0.0,3.9,0.0,0.0,0.0,0.0,4.0,0.0,0.0,0.0,3.6,0.0,4.4,3.6,4.5,4.7,0.0,0.0,0.0,0.0,0.0,0.0,0.0,0.0,0.0,0.0,3.7,0.0,3.8,0.0,3.2,0.0,0.0,3.4,0.0,0.0,0.0,3.7,3.8,3.3,4.4,3.9,0.0,0.0,4.0,0.0,3.7,4.1,0.0,0.0,3.4,0.0,0.0,4.1,0.0,0.0,0.0,3.4,0.0,3.8,0.0,0.0,0.0,3.8,3.1,0.0,0.0,0.0,0.0,0.0,3.8,4.4,0.0,0.0,3.7,0.0,0.0,0.0,0.0,0.0,0.0,0.0,4.3,4.3,4.0,0.0,0.0,0.0,0.0,0.0,4.2,2.7,4.0,0.0,4.0,4.0,4.3,0.0,3.3,4.0,3.8,0.0,4.0,3.1,3.2,2.3,4.2,0.0,0.0,0.0,0.0,0.0,4.4,0.0,0.0,0.0,4.1,0.0,0.0,4.1,3.8,0.0,0.0,3.3,3.8,3.4,0.0,4.1,3.3,0.0,3.7,0.0,4.1,3.2,0.0,0.0,4.6,0.0,0.0,0.0,2.8,3.5,0.0,3.2,0.0,0.0,3.0,0.0,0.0,0.0,3.0,0.0,0.0,0.0,0.0,2.8,4.1,0.0,0.0,2.0,3.1,3.9,0.0,4.0,2.6,3.0,4.0,0.0,4.0,0.0,3.3,0.0,0.0,0.0,3.9,0.0,3.6,0.0,3.5,0.0,3.8,0.0,3.5,3.4,0.0,3.5,0.0,0.0,0.0,3.9,0.0,0.0,3.4,0.0,3.1,0.0,0.0,0.0,0.0,0.0,3.7,0.0,0.0,3.9,0.0,0.0,0.0,3.8,3.8,0.0,0.0,0.0,3.8,0.0,0.0,3.4,3.5,3.2,2.8,0.0,3.9,0.0,3.3,0.0,0.0,0.0,0.0,3.1,0.0,0.0,0.0,0.0,0.0,0.0,3.5,0.0,0.0,3.6,0.0,0.0,4.0,3.9,3.4,0.0,3.3,0.0,0.0,0.0,3.4,3.2,3.7,3.5,0.0,0.0,0.0,3.6,2.6,0.0,3.8,3.5,0.0,3.2,0.0,0.0,0.0,0.0,0.0,0.0,0.0,0.0,0.0,2.7,0.0,0.0,4.1,0.0,0.0,3.6,3.7,0.0,0.0,0.0,0.0,0.0,0.0,4.1,4.0,0.0,0.0,0.0,3.5,3.8,3.9,0.0,0.0,3.1,0.0,0.0,0.0,0.0,0.0,0.0,0.0,0.0,0.0,3.4,0.0,0.0,0.0,3.8,0.0,0.0,0.0,0.0,3.9,0.0,3.2,4.2,0.0,3.8,0.0,0.0,3.9,0.0,4.4,0.0,3.0,3.6,4.0,0.0,0.0,3.7,4.3,4.0,3.8,4.3,2.3,3.3,0.0,3.1,0.0,0.0,3.4,0.0,0.0,0.0,4.1,0.0,0.0,3.9,0.0,3.9,0.0,0.0,0.0,0.0,0.0,0.0,3.1,0.0,4.1,0.0,0.0,4.1,3.5,3.3,0.0,0.0,0.0,0.0,0.0,0.0,3.2,0.0,0.0,0.0,3.8,4.0,3.8,0.0,0.0,0.0,0.0,0.0,0.0,0.0,0.0,0.0,0.0,0.0,0.0,0.0,0.0,3.4,0.0,0.0,3.9,0.0,0.0,0.0,0.0,2.9,0.0,0.0,3.5,3.2,0.0,0.0,0.0,3.5,0.0,0.0,0.0,3.7,0.0,3.2,4.4,4.3,0.0,0.0,0.0,3.6,0.0,0.0,0.0,4.1,0.0,3.8,4.2,0.0,0.0,0.0,3.0,4.4,3.9,0.0,3.2,2.7,0.0,3.7,3.7,3.8,0.0,0.0,0.0,0.0,3.9,0.0,0.0,0.0,3.7,3.1,0.0,0.0,4.2,0.0,0.0,0.0,4.0,0.0,0.0,0.0,0.0,0.0,0.0,0.0,0.0,0.0,0.0,0.0,0.0,3.3,3.9,0.0,0.0,0.0,0.0,0.0,3.8,3.6,2.6,0.0,3.6,0.0,4.1,4.4,2.9,2.8,0.0,0.0,3.9,3.3,0.0,3.8,0.0,0.0,0.0,0.0,3.1,0.0,0.0,0.0,0.0,3.0,0.0,0.0,0.0,3.7,0.0,0.0,0.0,0.0,0.0,0.0,0.0,0.0,0.0,0.0,0.0,0.0,0.0,0.0,4.0,3.1,0.0,0.0,0.0,0.0,3.8,0.0,0.0,0.0,4.3,0.0,0.0,0.0,3.9,0.0,0.0,0.0,0.0,0.0,0.0,0.0,0.0,0.0,0.0,0.0,0.0,0.0,0.0,0.0,0.0,2.6,0.0,2.1,0.0,3.5,0.0,4.0,0.0,0.0,0.0,3.4,0.0,3.9,0.0,0.0,0.0,0.0,3.2,0.0,0.0,0.0,0.0,3.7,0.0,0.0,0.0,0.0,0.0,0.0,0.0,0.0,3.5,0.0,0.0,4.3,0.0,0.0,0.0,4.3,0.0,0.0,3.0,0.0,0.0,2.7,0.0,0.0,0.0,0.0,3.4,0.0,0.0,0.0,4.2,0.0,0.0,0.0,0.0,0.0,0.0,0.0,3.8,0.0,0.0,0.0,0.0,0.0,0.0,3.7,0.0,0.0,3.2,0.0,4.1,4.0,0.0,0.0,0.0,0.0,0.0,0.0,3.5,0.0,3.5,0.0,4.1,0.0,0.0,3.5,4.5,3.6,0.0,0.0,0.0,3.6,4.3,0.0,4.0,0.0,0.0,0.0,0.0,3.7,3.0,0.0,4.3,4.0,3.2,0.0,0.0,4.1,0.0,0.0,0.0,0.0,0.0,0.0,0.0,0.0,0.0,3.6,0.0,3.3,3.7,0.0,3.3,0.0,0.0,0.0,3.9,0.0,3.7,0.0,3.7,0.0,0.0,3.5,4.0,3.9,0.0,0.0,3.3,4.0,0.0,0.0,0.0,0.0,0.0,3.9,0.0,4.4,0.0,0.0,0.0,0.0,0.0,0.0,4.2,0.0,0.0,3.8,0.0,4.3,4.6,4.0,0.0,0.0,3.9,0.0,0.0,0.0,0.0,0.0,0.0,3.8,0.0,0.0,2.6,0.0,0.0,3.8,3.4,0.0,0.0,0.0,0.0,0.0,0.0,0.0,0.0,0.0,0.0,0.0,2.8,0.0,0.0,0.0,3.7,3.1,0.0,0.0,3.7,4.6,4.2,3.8,0.0,0.0,3.5,0.0,3.9,0.0,0.0,0.0,0.0,0.0,0.0,0.0,0.0,0.0,0.0,4.0,0.0,0.0,0.0,0.0,0.0,2.9,3.3,3.8,0.0,0.0,4.2,0.0,0.0,0.0,0.0,3.7,0.0,3.5,0.0,3.8,4.5,0.0,3.9,0.0,4.2,3.1,3.0,0.0,0.0,3.7,0.0,4.4,4.2,3.8,3.5,3.0,4.2,0.0,2.9,3.7,4.2,4.0,0.0,3.6,0.0,0.0,0.0,0.0,0.0,3.6,4.5,0.0,0.0,0.0,0.0,4.7,0.0,0.0,3.6,0.0,3.5,0.0,3.8,0.0,0.0,0.0,0.0,0.0,3.8,0.0,4.3,3.1,3.9,0.0,0.0,0.0,0.0,0.0,0.0,0.0,3.7,3.3,3.6,4.1,3.7,4.1,3.7,3.0,4.0,0.0,4.1,3.8,0.0,3.9,0.0,2.7,0.0,3.8,3.4,0.0,4.0,3.5,4.5,0.0,0.0,3.9,0.0,0.0,3.9,4.2,4.5,3.6,4.0,4.4,3.9,3.3,2.8,4.6,0.0,0.0,3.5,4.1,3.8,4.3,3.9,3.5,4.0,0.0,0.0,0.0,0.0,0.0,2.7,4.0,0.0,0.0,3.6,0.0,3.5,3.4,4.3,3.3,2.4,0.0,0.0,3.1,3.9,3.5,0.0,0.0,3.5,3.9,0.0,3.8,4.0,3.5,0.0,4.5,4.0,0.0,2.4,0.0,3.5,3.8,3.1,4.1,0.0,3.4,0.0,0.0,3.2,3.1,4.1,0.0,4.2,0.0,3.3,0.0,0.0,0.0,3.9,4.0,0.0,3.5,0.0,4.1,3.3,2.9,3.2,0.0,0.0,3.0,3.5,3.3,0.0,3.9,0.0,4.1,3.7,3.7,4.4,3.1,4.2,0.0,4.5,2.5,0.0,3.5,4.1,3.9,0.0,3.8,0.0,3.4,0.0,3.5,0.0,0.0,4.4,3.0,3.6,0.0,3.4,0.0,4.0,3.0,3.9,2.6,0.0,3.8,0.0,3.7,0.0,3.7,0.0,0.0,4.0,3.5,4.0,0.0,0.0,3.9,0.0,3.7,4.3,4.1,0.0,0.0,3.9,0.0,3.8,0.0,4.0,3.3,3.5,3.6,3.8,0.0,3.5,4.1,0.0,0.0,0.0,0.0,3.5,0.0,4.8,3.4,3.9,0.0,4.1,3.0,3.6,3.6,2.7,4.1,4.2,0.0,4.6,4.0,3.2,4.4,3.9,3.3,3.8,0.0,0.0,0.0,4.1,3.8,4.2,0.0,4.1,3.0,3.6,2.8,0.0,3.3,3.5,0.0,0.0,0.0,0.0,3.6,0.0,0.0,0.0,0.0,0.0,0.0,0.0,0.0,0.0,0.0,0.0,0.0,0.0,0.0,0.0,0.0,4.0,3.0,0.0,4.0,3.9,3.4,0.0,0.0,3.1,3.8,0.0,3.6,4.1,2.5,4.1,4.2,2.7,3.9,4.0,0.0,3.0,0.0,4.3,0.0,3.8,0.0,3.0,3.8,3.9,0.0,3.7,0.0,3.4,0.0,2.3,4.3,0.0,0.0,3.8,0.0,0.0,4.1,0.0,3.5,3.7,3.0,3.9,4.4,0.0,0.0,0.0,0.0,0.0,3.4,4.2,4.0,0.0,2.7,0.0,0.0,3.6,4.0,0.0,3.3,4.1,0.0,0.0,3.1,0.0,4.1,0.0,3.8,0.0,0.0,0.0,0.0,3.4,0.0,3.8,4.0,0.0,0.0,3.4,0.0,3.7,0.0,4.0,3.6,3.3,0.0,3.9,4.1,4.4,0.0,3.5,4.0,0.0,3.9,3.0,0.0,0.0,0.0,3.2,3.8,3.9,3.6,0.0,3.6,3.5,0.0,0.0,3.5,0.0,0.0,0.0,3.6,0.0,3.8,3.8,3.8,4.5,3.2,0.0,2.9,0.0,0.0,3.8,3.2,3.8,0.0,3.7,0.0,3.2,3.6,4.0,4.1,0.0,4.2,0.0,4.4,0.0,4.3,3.8,0.0,0.0,2.7,3.1,3.7,4.4,3.3,0.0,3.3,3.9,0.0,0.0,0.0,2.9,4.0,2.9,3.5,4.0,3.3,3.5,3.7,3.9,3.9,0.0,3.2,4.0,0.0,3.8,3.8,0.0,4.0,0.0,0.0,0.0,3.3,3.5,0.0,0.0,0.0,0.0,3.9,4.4,0.0,3.8,3.9,0.0,3.3,0.0,0.0,4.1,0.0,4.1,0.0,3.3,3.6,3.7,3.7,4.0,0.0,0.0,3.8,3.9,0.0,0.0,3.9,0.0,3.8,4.1,0.0,0.0,0.0,0.0,3.7,4.0,0.0,3.6,0.0,3.0,3.8,0.0,3.8,3.8,0.0,0.0,3.7,0.0,4.1,4.2,3.2,0.0,0.0,4.2,4.0,3.9,3.8,0.0,3.9,3.1,3.6,3.0,0.0,0.0,4.0,0.0,0.0,0.0,3.1,0.0,3.2,3.6,0.0,3.2,4.3,3.2,0.0,3.6,0.0,0.0,0.0,3.3,3.6,0.0,0.0,3.1,3.5,3.8,3.8,0.0,3.7,4.0,4.4,4.1,0.0,3.4,0.0,2.4,4.0,0.0,3.8,4.1,3.0,0.0,3.7,0.0,3.7,3.8,3.5,0.0,0.0,0.0,3.8,0.0,2.9,0.0,0.0,4.1,0.0,3.6,0.0,0.0,3.2,0.0,2.7,3.5,0.0,0.0,0.0,4.0,3.8,3.7,0.0,0.0,0.0,0.0,0.0,0.0,0.0,3.6,3.7,3.6,0.0,3.5,3.9,0.0,0.0,3.7,3.1,0.0,4.0,3.5,3.5,0.0,3.7,3.8,3.6,3.7,0.0,2.7,0.0,0.0,3.2,3.2,4.0,3.2,0.0,0.0,3.2,0.0,4.6,0.0,0.0,3.2,3.4,3.5,3.7,0.0,3.4,3.5,0.0,3.8,3.6,3.4,0.0,4.1,0.0,4.0,4.1,2.6,0.0,0.0,0.0,0.0,3.3,0.0,0.0,3.7,3.2,0.0,3.3,0.0,4.4,0.0,0.0,3.8,0.0,0.0,0.0,4.0,3.9,0.0,3.3,3.7,0.0,0.0,0.0,3.5,0.0,4.4,0.0,0.0,0.0,0.0,3.2,0.0,0.0,0.0,4.0,0.0,4.3,3.1,3.2,3.3,0.0,0.0,2.5,4.1,2.8,3.1,4.1,4.1,0.0,0.0,0.0,3.4,0.0,0.0,3.1,3.1,4.5,0.0,3.4,4.1,0.0,3.5,0.0,0.0,0.0,0.0,3.6,0.0,0.0,3.8,0.0,0.0,3.9,3.9,3.9,3.7,4.5,0.0,0.0,3.6,0.0,0.0,0.0,0.0,0.0,0.0,3.3,0.0,4.2,3.2,2.9,4.5,3.9,0.0,0.0,0.0,0.0,0.0,0.0,0.0,4.5,0.0,4.1,3.8,0.0,3.9,0.0,0.0,0.0,3.8,0.0,0.0,0.0,0.0,0.0,0.0,0.0,0.0,3.3,0.0,3.7,4.3,4.4,0.0,0.0,0.0,3.4,3.0,4.0,0.0,0.0,0.0,0.0,0.0,0.0,0.0,0.0,0.0,3.6,4.0,0.0,4.0,3.5,3.2,0.0,0.0,4.1,3.9,0.0,0.0,0.0,2.5,3.9,0.0,0.0,0.0,3.1,0.0,3.6,3.3,0.0,0.0,0.0,3.9,3.7,0.0,0.0,0.0,3.8,4.3,2.9,4.4,4.2,4.3,3.5,3.6,0.0,3.1,3.9,3.7,0.0,3.4,0.0,0.0,4.2,3.4,0.0,2.8,0.0,0.0,3.3,3.3,0.0,0.0,4.2,4.0,0.0,0.0,0.0,0.0,0.0,3.9,3.9,0.0,0.0,0.0,0.0,0.0,0.0,0.0,3.8,0.0,3.4,0.0,4.2,0.0,0.0,3.4,0.0,3.6,3.7,3.7,3.9,3.8,3.3,3.2,0.0,0.0,0.0,0.0,0.0,0.0,0.0,0.0,0.0,0.0,0.0,0.0,0.0,3.8,0.0,0.0,0.0,0.0,0.0,0.0,3.5,4.2,3.9,4.0,0.0,3.3,0.0,3.9,0.0,0.0,0.0,3.1,0.0,2.9,3.8,0.0,0.0,0.0,0.0,0.0,0.0,0.0,0.0,0.0,3.6,0.0,0.0,0.0,3.6,0.0,0.0,0.0,4.1,0.0,0.0,0.0,0.0,3.3,0.0,0.0,0.0,0.0,3.7,0.0,0.0,3.6,0.0,3.8,0.0,3.5,3.9,4.2,0.0,0.0,0.0,0.0,0.0,0.0,0.0,0.0,0.0,3.8,0.0,3.4,0.0,0.0,0.0,0.0,3.2,3.2,3.7,0.0,3.3,4.2,2.9,4.4,3.0,4.5,3.8,2.3,3.3,3.0,4.2,0.0,4.9,0.0,3.2,3.8,3.6,3.3,3.7,4.0,0.0,0.0,0.0,0.0,3.7,3.0,0.0,3.7,0.0,3.9,3.6,4.0,0.0,0.0,0.0,0.0,0.0,0.0,0.0,3.4,0.0,0.0,0.0,0.0,0.0,0.0,0.0,0.0,0.0,4.1,0.0,0.0,0.0,0.0,0.0,3.4,3.9,3.5,0.0,3.7,4.1,2.8,0.0,0.0,0.0,3.9,0.0,2.7,0.0,3.8,0.0,0.0,3.1,0.0,0.0,3.1,3.5,0.0,0.0,0.0,0.0,0.0,0.0,0.0,0.0,0.0,0.0,4.3,0.0,0.0,0.0,0.0,0.0,0.0,0.0,0.0,0.0,0.0,0.0,3.9,0.0,3.1,0.0,0.0,0.0,3.7,4.4,0.0,3.9,3.9,0.0,0.0,0.0,0.0,3.2,4.4,3.3,3.5,0.0,3.1,3.3,4.0,2.9,4.1,0.0,3.6,0.0,0.0,3.6,0.0,2.6,0.0,0.0,0.0,3.1,0.0,0.0,4.1,0.0,3.2,0.0,0.0,4.5,0.0,3.9,0.0,4.6,0.0,0.0,0.0,3.7,0.0,0.0,0.0,3.7,0.0,0.0,0.0,0.0,4.1,0.0,4.3,0.0,0.0,0.0,4.1,4.2,0.0,0.0,0.0,3.4,3.1,0.0,0.0,0.0,3.8,0.0,0.0,0.0,3.5,0.0,4.0,0.0,0.0,0.0,0.0,2.7,2.8,3.7,0.0,2.3,0.0,4.1,4.3,3.9,0.0,2.7,0.0,3.5,0.0,4.5,4.3,0.0,3.6,3.8,3.5,3.6,4.4,4.2,0.0,0.0,3.1,2.6,4.1,0.0,3.4,3.6,0.0,0.0,0.0,3.8,3.7,3.4,2.3,0.0,2.6,0.0,0.0,0.0,0.0,3.6,0.0,0.0,0.0,0.0,0.0,3.9,3.7,0.0,0.0,0.0,4.1,3.4,0.0,0.0,0.0,0.0,3.9,3.6,3.8,3.7,0.0,4.6,3.9,0.0,0.0,0.0,0.0,0.0,0.0,0.0,0.0,0.0,0.0,0.0,0.0,0.0,3.7,3.9,0.0,0.0,0.0,0.0,0.0,0.0,0.0,0.0,0.0,2.8,3.9,3.5,4.2,0.0,4.4,0.0,0.0,0.0,4.1,0.0,3.0,3.4,3.8,4.1,0.0,0.0,0.0,3.0,0.0,3.9,3.9,3.3,4.2,0.0,0.0,3.2,0.0,3.5,3.0,0.0,3.9,0.0,0.0,0.0,4.3,3.7,3.2,0.0,0.0,0.0,0.0,0.0,3.9,3.0,2.9,4.1,3.6,3.6,3.9,3.5,0.0,0.0,0.0,3.2,0.0,3.7,0.0,0.0,0.0,0.0,2.9,0.0,3.5,3.7,2.0,2.8,0.0,3.5,3.9,0.0,3.7,0.0,0.0,4.1,4.3,0.0,2.6,0.0,3.5,0.0,2.9,4.0,3.7,0.0,3.5,0.0,3.8,3.3,0.0,0.0,3.8,3.6,3.7,3.8,0.0,0.0,3.8,0.0,3.5,2.4,0.0,3.7,3.9,0.0,4.2,0.0,0.0,0.0,0.0,0.0,0.0,0.0,0.0,0.0,3.5,0.0,2.7,0.0,0.0,0.0,0.0,0.0,0.0,4.0,0.0,4.2,3.7,0.0,0.0,3.5,0.0,3.9,3.4,0.0,0.0,3.4,4.5,3.3,0.0,0.0,0.0,3.9,3.0,3.4,0.0,0.0,3.8,0.0,0.0,3.2,3.1,3.7,0.0,0.0,3.7,4.1,3.3,0.0,0.0,0.0,3.8,4.4,0.0,0.0,0.0,3.0,3.9,3.1,0.0,0.0,4.5,0.0,0.0,4.1,0.0,3.2,3.6,0.0,2.5,0.0,3.4,3.9,0.0,0.0,0.0,0.0,2.9,0.0,3.3,0.0,0.0,0.0,3.6,3.8,0.0,3.7,0.0,3.5,0.0,0.0,0.0,0.0,0.0,3.2,0.0,3.3,4.1,4.1,3.2,2.6,3.3,4.0,0.0,0.0,0.0,3.6,4.1,0.0,0.0,3.9,0.0,0.0,3.5,3.5,0.0,3.1,3.8,0.0,0.0,2.8,3.8,4.0,3.8,0.0,2.7,3.1,0.0,2.7,3.9,3.7,0.0,0.0,3.6,3.8,0.0,0.0,0.0,3.3,3.5,3.2,0.0,0.0,0.0,3.7,3.4,3.6,0.0,0.0,3.4,3.7,4.1,0.0,0.0,0.0,3.9,3.3,4.0,0.0,0.0,4.3,0.0,0.0,0.0,3.8,3.4,3.9,0.0,2.8,0.0,0.0,0.0,0.0,2.4,3.2,4.3,0.0,0.0,0.0,0.0,0.0,0.0,0.0,3.5,0.0,0.0,0.0,0.0,0.0,0.0,0.0,4.8,3.9,0.0,0.0,3.1,0.0,3.2,2.6,3.8,0.0,0.0,2.7,4.1,4.1,0.0,0.0,3.5,0.0,0.0,0.0,3.9,0.0,0.0,3.6,3.1,3.7,0.0,3.9,0.0,0.0,3.6,0.0,3.3,3.1,0.0,0.0,0.0,4.2,3.4,3.7,0.0,0.0,0.0,0.0,0.0,0.0,0.0,3.2,0.0,3.9,3.3,0.0,0.0,3.7,0.0,0.0,2.7,3.6,4.0,3.8,0.0,0.0,0.0,3.7,3.1,0.0,3.2,0.0,3.4,3.8,3.8,3.7,0.0,0.0,3.5,0.0,0.0,0.0,0.0,3.6,0.0,0.0,3.5,0.0,3.5,0.0,3.9,0.0,0.0,3.7,4.4,0.0,0.0,0.0,0.0,0.0,0.0,3.2,3.6,4.4,2.0,3.3,0.0,0.0,0.0,0.0,0.0,0.0,0.0,0.0,3.8,0.0,3.4,0.0,0.0,3.7,0.0,3.7,4.2,3.9,3.9,3.2,0.0,0.0,0.0,0.0,3.0,0.0,0.0,0.0,4.1,3.1,0.0,0.0,0.0,3.7,0.0,2.7,3.7,3.7,0.0,0.0,3.6,0.0,0.0,0.0,0.0,0.0,0.0,0.0,3.9,0.0,0.0,0.0,0.0,3.0,0.0,4.3,0.0,0.0,3.6,4.3,3.6,4.1,3.4,3.7,3.0,3.1,0.0,0.0,0.0,0.0,3.4,4.1,3.5,0.0,0.0,0.0,0.0,0.0,0.0,3.7,3.6,0.0,0.0,0.0,3.7,4.1,4.1,0.0,0.0,3.4,0.0,0.0,0.0,0.0,3.7,0.0,3.5,3.1,0.0,0.0,0.0,0.0,0.0,3.3,0.0,0.0,0.0,0.0,0.0,0.0,0.0,0.0,0.0,0.0,0.0,4.0,0.0,0.0,0.0,0.0,3.8,3.3,0.0,0.0,0.0,0.0,0.0,0.0,0.0,0.0,0.0,0.0,3.8,0.0,2.9,3.5,3.3,2.8,3.5,4.3,4.3,0.0,3.6,2.9,0.0,0.0,0.0,0.0,3.6,0.0,3.1,4.0,0.0,0.0,0.0,0.0,0.0,0.0,0.0,0.0,0.0,3.2,0.0,4.3,3.9,0.0,0.0,0.0,0.0,0.0,0.0,0.0,0.0,0.0,3.2,0.0,0.0,0.0,3.2,0.0,3.7,3.8,4.4,0.0,3.2,3.4,0.0,2.9,3.8,0.0,0.0,0.0,0.0,0.0,0.0,0.0,0.0,0.0,3.7,0.0,0.0,0.0,0.0,0.0,0.0,0.0,0.0,0.0,0.0,3.6,0.0,0.0,0.0,0.0,0.0,0.0,3.4,0.0,0.0,0.0,0.0,0.0,0.0,0.0,0.0,0.0,0.0,0.0,0.0,0.0,0.0,0.0,0.0,0.0,0.0,3.7,0.0,0.0,0.0,0.0,0.0,0.0,0.0,0.0,0.0,3.8,4.1,3.6,3.2,0.0,3.6,0.0,0.0,3.9,4.2,3.0,0.0,0.0,0.0,4.1,3.6,3.5,0.0,0.0,0.0,0.0,0.0,0.0,0.0,0.0,0.0,0.0,0.0,0.0,3.7,3.8,0.0,0.0,0.0,0.0,3.1,3.6,2.8,0.0,0.0,0.0,0.0,0.0,0.0,0.0,0.0,0.0,0.0,0.0,0.0,0.0,0.0,0.0,0.0,0.0,0.0,0.0,0.0,0.0,0.0,0.0,0.0,0.0,0.0,0.0,0.0,0.0,0.0,0.0,0.0,0.0,0.0,3.9,3.0,4.0,0.0,0.0,3.3,3.7,4.0,3.9,0.0,3.8,3.9,3.3,3.4,0.0,0.0,0.0,2.8,3.9,0.0,0.0,0.0,3.8,3.2,3.2,0.0,0.0,0.0,0.0,3.7,0.0,0.0,0.0,0.0,0.0,3.1,3.4,0.0,0.0,0.0,0.0,0.0,0.0,4.2,0.0,0.0,0.0,3.7,0.0,0.0,3.6,0.0,3.7,0.0,3.9,4.0,4.5,0.0,3.3,0.0,0.0,0.0,0.0,0.0,3.6,0.0,0.0,4.1,0.0,0.0,3.6,0.0,2.9,0.0,0.0,0.0,3.4,0.0,0.0,0.0,3.5,0.0,0.0,0.0,3.1,0.0,3.4,2.3,0.0,0.0,0.0,0.0,2.9,0.0,0.0,3.4,2.7,4.0,0.0,3.9,0.0,0.0,0.0,3.4,0.0,3.3,0.0,0.0,0.0,0.0,0.0,0.0,0.0,0.0,0.0,3.8,3.3,0.0,3.5,4.1,3.4,0.0,3.5,0.0,3.6,3.6,0.0,3.5,0.0,3.8,0.0,0.0,3.7,3.6,0.0,0.0,4.1,0.0,0.0,0.0,4.0,0.0,0.0,3.9,2.9,0.0,0.0,4.4,0.0,0.0,3.6,3.7,0.0,0.0,0.0,0.0,3.0,0.0,0.0,3.7,0.0,0.0,0.0,0.0,0.0,0.0,2.7,3.8,0.0,0.0,0.0,0.0,0.0,3.1,3.4,0.0,4.0,3.4,0.0,0.0,0.0,0.0,3.0,0.0,0.0,0.0,0.0,3.4,3.9,3.6,3.4,0.0,3.2,0.0,3.3,0.0,0.0,3.7,4.3,0.0,0.0,0.0,0.0,0.0,0.0,0.0,0.0,0.0,3.4,3.9,0.0,0.0,3.5,0.0,0.0,0.0,4.5,0.0,3.1,0.0,0.0,3.1,0.0,0.0,0.0,3.5,3.6,0.0,0.0,0.0,3.5,0.0,3.5,0.0,0.0,4.1,0.0,0.0,3.8,0.0,0.0,0.0,2.9,0.0,3.0,0.0,0.0,0.0,0.0,0.0,0.0,0.0,3.5,0.0,3.4,0.0,0.0,3.9,0.0,3.7,3.1,3.4,0.0,0.0,0.0,0.0,3.9,0.0,0.0,0.0,0.0,0.0,0.0,0.0,2.6,0.0,0.0,0.0,0.0,0.0,0.0,3.4,0.0,0.0,4.4,0.0,2.9,0.0,0.0,3.4,0.0,0.0,0.0,0.0,4.0,3.3,0.0,3.6,3.7,0.0,0.0,0.0,0.0,0.0,0.0,0.0,0.0,0.0,0.0,0.0,0.0,0.0,0.0,3.7,3.6,0.0,0.0,3.3,0.0,3.8,0.0,2.9,0.0,0.0,0.0,3.7,0.0,0.0,0.0,0.0,0.0,0.0,0.0,0.0,0.0,0.0,0.0,0.0,0.0,0.0,0.0,0.0,0.0,0.0,0.0,0.0,0.0,0.0,0.0,3.9,0.0,0.0,0.0,0.0,0.0,0.0,0.0,0.0,0.0,0.0,0.0,0.0,3.6,0.0,3.6,0.0,0.0,0.0,0.0,3.4,0.0,0.0,3.7,3.8,0.0,0.0,3.8,0.0,0.0,0.0,0.0,0.0,0.0,0.0,0.0,0.0,0.0,0.0,3.1,0.0,0.0,0.0,0.0,0.0,0.0,0.0,0.0,3.8,0.0,0.0,0.0,0.0,0.0,0.0,3.0,4.4,0.0,0.0,0.0,0.0,0.0,3.1,3.0,0.0,0.0,3.0,0.0,0.0,0.0,0.0,0.0,0.0,0.0,0.0,0.0,0.0,0.0,0.0,0.0,0.0,0.0,0.0,0.0,0.0,0.0,0.0,0.0,0.0,0.0,0.0,0.0,0.0,0.0,0.0,3.7,0.0,0.0,0.0,0.0,0.0,0.0,0.0,0.0,0.0,0.0,0.0,0.0,0.0,0.0,0.0,0.0,0.0,0.0,0.0,0.0,3.7,0.0,0.0,0.0,0.0,0.0,0.0,0.0,0.0,0.0,0.0,0.0,0.0,0.0,0.0,0.0,0.0,0.0,0.0,0.0,0.0,0.0,3.5,0.0,0.0,0.0,0.0,0.0,0.0,0.0,0.0,0.0,0.0,0.0,0.0,0.0,0.0,0.0,0.0,0.0,0.0,0.0,0.0,0.0,0.0,0.0,0.0,0.0,0.0,0.0,0.0,0.0,3.6,3.5,0.0,0.0,0.0,0.0,0.0,0.0,2.8,3.6,0.0,0.0,0.0,0.0,0.0,0.0,0.0,0.0,0.0,0.0,0.0,0.0,0.0,0.0,0.0,0.0,0.0,0.0,0.0,0.0,0.0,0.0,3.7,0.0,0.0,0.0,0.0,3.4,0.0,0.0,0.0,0.0,3.6,0.0,0.0,0.0,0.0,3.7,0.0,0.0,0.0,0.0,0.0,0.0,0.0,0.0,3.8,0.0,0.0,0.0,0.0,0.0,0.0,0.0,0.0,0.0,0.0,0.0,0.0,0.0,0.0,0.0,0.0,0.0,0.0,0.0,0.0,0.0,0.0,0.0,0.0,0.0,0.0,0.0,0.0,0.0,0.0,0.0,0.0,0.0,0.0,0.0,0.0,0.0,0.0,0.0,0.0,0.0,0.0,0.0,0.0,0.0,3.9,0.0,0.0,0.0,0.0,0.0,0.0,0.0,0.0,0.0,0.0,0.0,0.0,0.0,0.0,0.0,0.0,3.3,0.0,0.0,0.0,0.0,0.0,0.0,0.0,0.0,0.0,0.0,0.0,0.0,0.0,0.0,0.0,0.0,0.0,0.0,0.0,0.0,0.0,0.0,0.0,0.0,0.0,0.0,0.0,0.0,0.0,0.0,3.8,4.1,0.0,0.0,0.0,0.0,0.0,0.0,0.0,0.0,4.0,0.0,4.1,0.0,0.0,0.0,3.9,0.0,3.8,0.0,0.0,0.0,0.0,0.0,0.0,0.0,3.8,0.0,3.5,0.0,4.3,0.0,3.2,3.9,0.0,0.0,0.0,0.0,0.0,0.0,0.0,0.0,0.0,0.0,3.3,4.1,0.0,0.0,0.0,0.0,4.1,3.6,0.0,3.0,0.0,3.7,3.7,0.0,0.0,0.0,0.0,0.0,3.2,0.0,0.0,0.0,0.0,0.0,3.6,3.9,3.7,3.2,4.2,3.6,3.1,2.5,3.7,0.0,3.6,3.8,3.2,0.0,3.8,0.0,3.7,0.0,0.0,0.0,0.0,0.0,0.0,0.0,0.0,0.0,0.0,0.0,3.6,0.0,0.0,0.0,0.0,3.2,3.7,4.1,0.0,2.4,4.3,3.7,0.0,3.2,4.0,2.6,0.0,0.0,0.0,0.0,3.0,0.0,0.0,2.9,3.5,0.0,0.0,3.8,3.3,0.0,0.0,2.9,4.1,3.2,0.0,3.3,0.0,0.0,0.0,0.0,0.0,0.0,0.0,3.2,0.0,0.0,3.9,0.0,0.0,3.2,0.0,0.0,0.0,4.0,2.7,0.0,0.0,0.0,0.0,3.8,0.0,0.0,0.0,0.0,0.0,0.0,0.0,0.0,3.7,0.0,0.0,0.0,3.5,0.0,3.1,0.0,0.0,0.0,0.0,0.0,0.0,0.0,3.4,0.0,3.5,0.0,2.8,0.0,0.0,0.0,0.0,0.0,0.0,3.8,0.0,0.0,0.0,0.0,0.0,0.0,0.0,0.0,0.0,3.1,0.0,0.0,0.0,0.0,0.0,0.0,0.0,0.0,0.0,3.2,3.1,0.0,3.3,4.4,0.0,0.0,3.3,4.1,0.0,3.6,4.1,3.8,0.0,0.0,3.6,0.0,0.0,3.8,3.5,0.0,0.0,0.0,0.0,3.8,0.0,3.1,0.0,0.0,3.3,0.0,0.0,0.0,0.0,4.0,3.1,0.0,3.5,0.0,3.8,0.0,0.0,0.0,0.0,3.1,3.4,3.2,3.7,0.0,0.0,0.0,0.0,4.0,0.0,0.0,0.0,4.1,0.0,0.0,4.1,0.0,3.4,0.0,0.0,0.0,0.0,0.0,0.0,0.0,0.0,0.0,0.0,0.0,0.0,0.0,0.0,0.0,0.0,0.0,4.1,0.0,0.0,0.0,3.3,3.7,0.0,0.0,3.6,3.6,0.0,0.0,0.0,0.0,0.0,0.0,0.0,0.0,0.0,4.1,3.8,0.0,0.0,3.1,0.0,4.0,3.8,0.0,3.3,3.7,3.8,3.9,3.7,2.9,3.9,0.0,3.5,3.1,3.8,0.0,0.0,0.0,3.7,3.5,4.4,0.0,0.0,0.0,0.0,0.0,4.2,0.0,0.0,3.2,0.0,0.0,0.0,0.0,0.0,0.0,0.0,0.0,4.0,3.5,3.3,0.0,0.0,0.0,0.0,3.3,0.0,0.0,0.0,0.0,3.7,0.0,4.1,0.0,4.0,0.0,3.6,0.0,0.0,0.0,0.0,0.0,3.7,0.0,0.0,0.0,0.0,0.0,3.9,2.8,0.0,3.4,0.0,0.0,0.0,3.2,4.0,0.0,0.0,0.0,0.0,0.0,0.0,0.0,0.0,0.0,0.0,2.9,0.0,0.0,0.0,3.4,2.8,0.0,4.0,3.9,0.0,0.0,3.9,3.8,0.0,3.5,3.7,0.0,0.0,0.0,0.0,0.0,4.0,3.3,3.4,0.0,3.2,3.4,0.0,0.0,0.0,3.6,0.0,0.0,3.7,0.0,0.0,0.0,2.9,3.3,3.4,0.0,0.0,3.9,0.0,3.9,0.0,3.9,0.0,0.0,0.0,0.0,0.0,0.0,0.0,4.2,3.6,3.2,0.0,3.4,4.3,0.0,0.0,3.0,4.5,3.5,3.4,3.2,0.0,0.0,3.0,0.0,0.0,0.0,0.0,0.0,0.0,3.8,3.4,0.0,0.0,0.0,0.0,0.0,0.0,0.0,3.7,0.0,3.0,0.0,0.0,0.0,0.0,0.0,0.0,0.0,0.0,0.0,3.6,3.6,0.0,0.0,3.5,0.0,3.3,3.1,3.7,0.0,0.0,0.0,3.7,3.8,0.0,0.0,0.0,0.0,2.4,0.0,3.3,3.6,0.0,0.0,3.4,3.9,0.0,0.0,3.2,3.1,0.0,0.0,0.0,0.0,0.0,0.0,0.0,0.0,3.4,0.0,3.6,0.0,2.9,3.7,0.0,4.2,0.0,0.0,0.0,3.8,3.5,3.4,0.0,0.0,0.0,0.0,0.0,4.1,0.0,0.0,3.5,0.0,3.1,3.7,0.0,0.0,0.0,0.0,0.0,3.9,0.0,0.0,3.6,0.0,0.0,0.0,0.0,3.7,4.1,0.0,0.0,0.0,4.1,3.7,0.0,0.0,0.0,3.6,3.8,0.0,0.0,0.0,3.4,0.0,4.5,0.0,0.0,0.0,0.0,0.0,0.0,0.0,0.0,0.0,0.0,0.0,0.0,0.0,0.0,0.0,0.0,0.0,0.0,0.0,0.0,0.0,0.0,0.0,0.0,0.0,3.3,0.0,0.0,0.0,0.0,0.0,0.0,0.0,0.0,0.0,2.8,4.3,3.9,0.0,3.2,0.0,0.0,0.0,0.0,3.2,4.2,3.7,0.0,0.0,0.0,0.0,0.0,3.6,3.2,0.0,0.0,0.0,3.6,0.0,3.5,0.0,0.0,2.7,3.3,0.0,0.0,0.0,3.8,4.0,0.0,0.0,4.4,2.6,3.8,0.0,0.0,3.7,0.0,0.0,4.0,3.6,3.5,3.3,0.0,4.0,0.0,0.0,0.0,0.0,0.0,3.9,0.0,0.0,3.8,4.2,4.2,3.3,4.1,2.9,4.0,2.4,4.0,3.7,3.9,0.0,0.0,0.0,0.0,0.0,4.3,0.0,3.3,0.0,0.0,0.0,0.0,2.7,3.3,0.0,3.0,3.7,3.2,0.0,3.4,0.0,0.0,3.8,0.0,0.0,3.8,0.0,0.0,0.0,0.0,0.0,0.0,0.0,0.0,0.0,0.0,0.0,3.9,2.8,0.0,3.3,3.7,0.0,0.0,3.4,0.0,0.0,0.0,0.0,0.0,0.0,0.0,0.0,0.0,0.0,0.0,0.0,3.9,0.0,3.1,2.6,3.8,3.1,0.0,3.2,0.0,2.7,3.8,0.0,4.2,4.1,3.8,3.1,0.0,3.9,3.9,0.0,0.0,0.0,0.0,0.0,0.0,0.0,0.0,0.0,0.0,0.0,0.0,0.0,0.0,0.0,0.0,0.0,0.0,0.0,0.0,0.0,0.0,3.2,3.8,0.0,0.0,3.9,0.0,3.8,3.7,0.0,0.0,0.0,4.4,3.4,0.0,0.0,0.0,3.4,3.6,3.8,3.9,3.0,0.0,0.0,0.0,0.0,3.4,0.0,3.8,0.0,0.0,0.0,4.5,3.4,4.2,2.9,4.6,4.2,3.6,4.1,0.0,2.9,3.7,4.4,0.0,3.1,0.0,0.0,0.0,0.0,3.3,0.0,0.0,0.0,0.0,2.5,0.0,3.4,0.0,0.0,0.0,0.0,0.0,0.0,0.0,0.0,0.0,0.0,0.0,3.5,0.0,0.0,0.0,0.0,0.0,0.0,0.0,0.0,0.0,3.6,0.0,4.1,0.0,0.0,0.0,3.8,0.0,0.0,3.4,0.0,3.2,0.0,0.0,0.0,3.7,0.0,0.0,0.0,0.0,2.9,0.0,3.9,0.0,0.0,0.0,0.0,3.9,4.0,4.1,0.0,0.0,0.0,0.0,3.7,0.0,4.0,3.5,3.5,3.1,3.2,0.0,0.0,0.0,0.0,0.0,2.8,3.3,0.0,3.9,3.9,0.0,0.0,3.8,3.9,0.0,0.0,4.4,0.0,3.8,3.1,3.3,0.0,3.7,3.7,0.0,3.4,0.0,0.0,0.0,0.0,0.0,3.7,0.0,4.0,3.2,0.0,0.0,0.0,3.8,0.0,0.0,3.7,4.0,0.0,4.1,0.0,3.1,0.0,0.0,0.0,0.0,0.0,3.4,0.0,0.0,3.4,0.0,3.4,0.0,3.7,3.2,0.0,0.0,0.0,3.0,0.0,3.1,0.0,3.7,0.0,0.0,3.7,0.0,0.0,0.0,0.0,0.0,0.0,3.4,0.0,0.0,3.9,3.6,0.0,2.8,3.1,0.0,4.1,0.0,0.0,0.0,3.9,3.5,3.4,3.5,3.5,0.0,3.9,0.0,0.0,3.9,0.0,3.5,3.4,3.6,3.9,3.9,3.9,0.0,0.0,3.4,0.0,0.0,3.3,0.0,3.8,0.0,3.6,0.0,4.0,0.0,0.0,4.1,0.0,0.0,0.0,0.0,3.5,0.0,4.0,3.5,0.0,4.0,3.9,4.0,0.0,0.0,0.0,2.9,4.1,3.2,3.0,0.0,3.9,0.0,0.0,4.0,3.2,0.0,0.0,0.0,0.0,3.1,3.7,3.7,0.0,0.0,0.0,0.0,0.0,0.0,3.1,3.1,3.1,2.9,0.0,4.4,0.0,0.0,0.0,0.0,0.0,3.8,3.2,3.0,3.5,3.9,0.0,0.0,3.4,3.7,0.0,0.0,3.7,0.0,0.0,3.9,3.8,3.5,3.9,2.4,3.7,0.0,3.6,4.3,0.0,0.0,0.0,0.0,0.0,0.0,0.0,0.0,0.0,3.6,4.1,3.7,0.0,0.0,3.6,3.6,3.4,4.0,3.2,4.1,0.0,3.4,3.3,0.0,3.6,0.0,2.9,3.6,3.0,3.6,0.0,0.0,0.0,0.0,0.0,0.0,3.7,3.6,0.0,3.8,4.3,4.1,4.2,0.0,0.0,0.0,2.5,0.0,2.8,0.0,0.0,0.0,0.0,0.0,0.0,0.0,3.9,3.7,3.8,0.0,0.0,0.0,0.0,0.0,0.0,3.4,0.0,3.7,4.1,3.7,0.0,0.0,0.0,0.0,0.0,0.0,2.9,0.0,3.9,0.0,0.0,3.9,3.6,0.0,3.4,0.0,0.0,3.5,3.0,0.0,0.0,0.0,0.0,3.1,3.6,0.0,0.0,0.0,0.0,3.6,0.0,0.0,0.0,0.0,0.0,0.0,0.0,0.0,0.0,0.0,0.0,0.0,0.0,2.8,3.8,3.6,0.0,3.8,3.3,3.6,0.0,3.3,0.0,0.0,0.0,0.0,0.0,2.9,0.0,3.5,0.0,0.0,0.0,0.0,0.0,0.0,0.0,0.0,4.0,4.2,0.0,3.8,4.0,2.5,3.5,0.0,4.0,0.0,3.5,0.0,0.0,0.0,0.0,0.0,0.0,0.0,0.0,0.0,0.0,0.0,0.0,3.6,0.0,0.0,3.9,0.0,2.6,0.0,0.0,0.0,0.0,0.0,0.0,0.0,3.7,0.0,3.1,0.0,0.0,3.3,0.0,0.0,0.0,0.0,0.0,0.0,0.0,0.0,0.0,0.0,3.5,0.0,0.0,0.0,0.0,0.0,0.0,3.5,3.9,4.1,3.3,3.9,3.0,0.0,3.7,3.1,0.0,0.0,3.5,0.0,0.0,3.2,0.0,2.7,0.0,3.9,2.9,0.0,4.2,0.0,3.6,0.0,0.0,3.9,3.8,3.7,0.0,0.0,4.0,0.0,3.2,0.0,3.6,0.0,0.0,0.0,0.0,0.0,3.9,0.0,3.0,3.8,0.0,2.5,3.4,3.1,0.0,2.8,3.7,0.0,3.6,0.0,0.0,3.8,0.0,0.0,0.0,3.9,3.8,0.0,3.6,0.0,0.0,0.0,3.3,0.0,3.7,3.0,0.0,2.6,0.0,0.0,0.0,0.0,3.2,2.9,0.0,3.6,0.0,0.0,3.5,0.0,0.0,0.0,3.9,0.0,3.5,2.2,0.0,0.0,0.0,0.0,0.0,3.8,0.0,3.4,0.0,3.7,4.1,4.3,0.0,0.0,0.0,2.2,0.0,0.0,0.0,0.0,0.0,0.0,0.0,0.0,0.0,0.0,0.0,0.0,3.2,0.0,0.0,0.0,0.0,0.0,0.0,0.0,3.1,0.0,4.0,0.0,2.8,4.1,0.0,0.0,0.0,3.8,0.0,0.0,3.6,0.0,0.0,3.9,0.0,0.0,0.0,0.0,0.0,0.0,0.0,0.0,0.0,0.0,0.0,0.0,0.0,3.8,0.0,0.0,3.8,0.0,0.0,0.0,0.0,0.0,0.0,0.0,0.0,3.7,4.1,0.0,3.5,0.0,0.0,0.0,0.0,3.6,0.0,3.0,0.0,3.1,3.0,0.0,0.0,0.0,0.0,0.0,0.0,3.3,3.9,0.0,3.8,0.0,3.4,0.0,0.0,3.8,3.1,0.0,0.0,0.0,3.5,4.2,3.2,3.3,0.0,3.5,3.1,3.7,3.0,4.1,0.0,0.0,3.9,3.6,3.6,4.0,0.0,0.0,0.0,2.8,4.1,0.0,0.0,3.2,3.5,0.0,0.0,0.0,0.0,3.4,0.0,0.0,0.0,0.0,3.4,0.0,0.0,0.0,0.0,0.0,0.0,0.0,0.0,0.0,0.0,0.0,0.0,0.0,0.0,0.0,0.0,0.0,0.0,4.0,0.0,3.1,0.0,0.0,0.0,0.0,0.0,0.0,0.0,0.0,0.0,0.0,0.0,0.0,0.0,0.0,0.0,0.0,0.0,0.0,0.0,3.9,0.0,0.0,0.0,0.0,0.0,0.0,0.0,3.3,0.0,0.0,0.0,0.0,0.0,0.0,0.0,3.8,3.0,0.0,0.0,0.0,0.0,4.2,4.0,0.0,0.0,3.3,0.0,0.0,4.0,0.0,0.0,3.3,3.3,0.0,0.0,0.0,0.0,3.0,3.0,0.0,0.0,0.0,0.0,0.0,0.0,0.0,0.0,0.0,0.0,3.6,0.0,3.6,4.1,0.0,0.0,0.0,0.0,0.0,0.0,4.0,0.0,0.0,0.0,0.0,0.0,0.0,0.0,3.5,3.7,0.0,4.1,3.8,3.5,0.0,0.0,0.0,0.0,3.3,3.9,2.9,0.0,4.2,0.0,2.9,4.4,0.0,0.0,0.0,3.9,3.3,4.2,2.9,3.3,3.6,3.8,3.3,0.0,2.7,0.0,0.0,0.0,0.0,0.0,2.8,0.0,0.0,0.0,0.0,2.6,0.0,0.0,0.0,0.0,0.0,2.7,3.6,0.0,0.0,3.6,0.0,0.0,0.0,0.0,2.9,0.0,3.3,4.0,0.0,0.0,0.0,0.0,0.0,0.0,0.0,0.0,0.0,3.0,0.0,0.0,0.0,0.0,0.0,3.1,0.0,0.0,0.0,3.3,3.4,3.5,0.0,2.7,4.1,2.8,3.9,0.0,3.7,3.9,0.0,3.8,3.9],\"xaxis\":\"x\",\"yaxis\":\"y\",\"type\":\"histogram\"}],                        {\"template\":{\"data\":{\"barpolar\":[{\"marker\":{\"line\":{\"color\":\"white\",\"width\":0.5},\"pattern\":{\"fillmode\":\"overlay\",\"size\":10,\"solidity\":0.2}},\"type\":\"barpolar\"}],\"bar\":[{\"error_x\":{\"color\":\"rgb(36,36,36)\"},\"error_y\":{\"color\":\"rgb(36,36,36)\"},\"marker\":{\"line\":{\"color\":\"white\",\"width\":0.5},\"pattern\":{\"fillmode\":\"overlay\",\"size\":10,\"solidity\":0.2}},\"type\":\"bar\"}],\"carpet\":[{\"aaxis\":{\"endlinecolor\":\"rgb(36,36,36)\",\"gridcolor\":\"white\",\"linecolor\":\"white\",\"minorgridcolor\":\"white\",\"startlinecolor\":\"rgb(36,36,36)\"},\"baxis\":{\"endlinecolor\":\"rgb(36,36,36)\",\"gridcolor\":\"white\",\"linecolor\":\"white\",\"minorgridcolor\":\"white\",\"startlinecolor\":\"rgb(36,36,36)\"},\"type\":\"carpet\"}],\"choropleth\":[{\"colorbar\":{\"outlinewidth\":1,\"tickcolor\":\"rgb(36,36,36)\",\"ticks\":\"outside\"},\"type\":\"choropleth\"}],\"contourcarpet\":[{\"colorbar\":{\"outlinewidth\":1,\"tickcolor\":\"rgb(36,36,36)\",\"ticks\":\"outside\"},\"type\":\"contourcarpet\"}],\"contour\":[{\"colorbar\":{\"outlinewidth\":1,\"tickcolor\":\"rgb(36,36,36)\",\"ticks\":\"outside\"},\"colorscale\":[[0.0,\"#440154\"],[0.1111111111111111,\"#482878\"],[0.2222222222222222,\"#3e4989\"],[0.3333333333333333,\"#31688e\"],[0.4444444444444444,\"#26828e\"],[0.5555555555555556,\"#1f9e89\"],[0.6666666666666666,\"#35b779\"],[0.7777777777777778,\"#6ece58\"],[0.8888888888888888,\"#b5de2b\"],[1.0,\"#fde725\"]],\"type\":\"contour\"}],\"heatmapgl\":[{\"colorbar\":{\"outlinewidth\":1,\"tickcolor\":\"rgb(36,36,36)\",\"ticks\":\"outside\"},\"colorscale\":[[0.0,\"#440154\"],[0.1111111111111111,\"#482878\"],[0.2222222222222222,\"#3e4989\"],[0.3333333333333333,\"#31688e\"],[0.4444444444444444,\"#26828e\"],[0.5555555555555556,\"#1f9e89\"],[0.6666666666666666,\"#35b779\"],[0.7777777777777778,\"#6ece58\"],[0.8888888888888888,\"#b5de2b\"],[1.0,\"#fde725\"]],\"type\":\"heatmapgl\"}],\"heatmap\":[{\"colorbar\":{\"outlinewidth\":1,\"tickcolor\":\"rgb(36,36,36)\",\"ticks\":\"outside\"},\"colorscale\":[[0.0,\"#440154\"],[0.1111111111111111,\"#482878\"],[0.2222222222222222,\"#3e4989\"],[0.3333333333333333,\"#31688e\"],[0.4444444444444444,\"#26828e\"],[0.5555555555555556,\"#1f9e89\"],[0.6666666666666666,\"#35b779\"],[0.7777777777777778,\"#6ece58\"],[0.8888888888888888,\"#b5de2b\"],[1.0,\"#fde725\"]],\"type\":\"heatmap\"}],\"histogram2dcontour\":[{\"colorbar\":{\"outlinewidth\":1,\"tickcolor\":\"rgb(36,36,36)\",\"ticks\":\"outside\"},\"colorscale\":[[0.0,\"#440154\"],[0.1111111111111111,\"#482878\"],[0.2222222222222222,\"#3e4989\"],[0.3333333333333333,\"#31688e\"],[0.4444444444444444,\"#26828e\"],[0.5555555555555556,\"#1f9e89\"],[0.6666666666666666,\"#35b779\"],[0.7777777777777778,\"#6ece58\"],[0.8888888888888888,\"#b5de2b\"],[1.0,\"#fde725\"]],\"type\":\"histogram2dcontour\"}],\"histogram2d\":[{\"colorbar\":{\"outlinewidth\":1,\"tickcolor\":\"rgb(36,36,36)\",\"ticks\":\"outside\"},\"colorscale\":[[0.0,\"#440154\"],[0.1111111111111111,\"#482878\"],[0.2222222222222222,\"#3e4989\"],[0.3333333333333333,\"#31688e\"],[0.4444444444444444,\"#26828e\"],[0.5555555555555556,\"#1f9e89\"],[0.6666666666666666,\"#35b779\"],[0.7777777777777778,\"#6ece58\"],[0.8888888888888888,\"#b5de2b\"],[1.0,\"#fde725\"]],\"type\":\"histogram2d\"}],\"histogram\":[{\"marker\":{\"line\":{\"color\":\"white\",\"width\":0.6}},\"type\":\"histogram\"}],\"mesh3d\":[{\"colorbar\":{\"outlinewidth\":1,\"tickcolor\":\"rgb(36,36,36)\",\"ticks\":\"outside\"},\"type\":\"mesh3d\"}],\"parcoords\":[{\"line\":{\"colorbar\":{\"outlinewidth\":1,\"tickcolor\":\"rgb(36,36,36)\",\"ticks\":\"outside\"}},\"type\":\"parcoords\"}],\"pie\":[{\"automargin\":true,\"type\":\"pie\"}],\"scatter3d\":[{\"line\":{\"colorbar\":{\"outlinewidth\":1,\"tickcolor\":\"rgb(36,36,36)\",\"ticks\":\"outside\"}},\"marker\":{\"colorbar\":{\"outlinewidth\":1,\"tickcolor\":\"rgb(36,36,36)\",\"ticks\":\"outside\"}},\"type\":\"scatter3d\"}],\"scattercarpet\":[{\"marker\":{\"colorbar\":{\"outlinewidth\":1,\"tickcolor\":\"rgb(36,36,36)\",\"ticks\":\"outside\"}},\"type\":\"scattercarpet\"}],\"scattergeo\":[{\"marker\":{\"colorbar\":{\"outlinewidth\":1,\"tickcolor\":\"rgb(36,36,36)\",\"ticks\":\"outside\"}},\"type\":\"scattergeo\"}],\"scattergl\":[{\"marker\":{\"colorbar\":{\"outlinewidth\":1,\"tickcolor\":\"rgb(36,36,36)\",\"ticks\":\"outside\"}},\"type\":\"scattergl\"}],\"scattermapbox\":[{\"marker\":{\"colorbar\":{\"outlinewidth\":1,\"tickcolor\":\"rgb(36,36,36)\",\"ticks\":\"outside\"}},\"type\":\"scattermapbox\"}],\"scatterpolargl\":[{\"marker\":{\"colorbar\":{\"outlinewidth\":1,\"tickcolor\":\"rgb(36,36,36)\",\"ticks\":\"outside\"}},\"type\":\"scatterpolargl\"}],\"scatterpolar\":[{\"marker\":{\"colorbar\":{\"outlinewidth\":1,\"tickcolor\":\"rgb(36,36,36)\",\"ticks\":\"outside\"}},\"type\":\"scatterpolar\"}],\"scatter\":[{\"fillpattern\":{\"fillmode\":\"overlay\",\"size\":10,\"solidity\":0.2},\"type\":\"scatter\"}],\"scatterternary\":[{\"marker\":{\"colorbar\":{\"outlinewidth\":1,\"tickcolor\":\"rgb(36,36,36)\",\"ticks\":\"outside\"}},\"type\":\"scatterternary\"}],\"surface\":[{\"colorbar\":{\"outlinewidth\":1,\"tickcolor\":\"rgb(36,36,36)\",\"ticks\":\"outside\"},\"colorscale\":[[0.0,\"#440154\"],[0.1111111111111111,\"#482878\"],[0.2222222222222222,\"#3e4989\"],[0.3333333333333333,\"#31688e\"],[0.4444444444444444,\"#26828e\"],[0.5555555555555556,\"#1f9e89\"],[0.6666666666666666,\"#35b779\"],[0.7777777777777778,\"#6ece58\"],[0.8888888888888888,\"#b5de2b\"],[1.0,\"#fde725\"]],\"type\":\"surface\"}],\"table\":[{\"cells\":{\"fill\":{\"color\":\"rgb(237,237,237)\"},\"line\":{\"color\":\"white\"}},\"header\":{\"fill\":{\"color\":\"rgb(217,217,217)\"},\"line\":{\"color\":\"white\"}},\"type\":\"table\"}]},\"layout\":{\"annotationdefaults\":{\"arrowhead\":0,\"arrowwidth\":1},\"autotypenumbers\":\"strict\",\"coloraxis\":{\"colorbar\":{\"outlinewidth\":1,\"tickcolor\":\"rgb(36,36,36)\",\"ticks\":\"outside\"}},\"colorscale\":{\"diverging\":[[0.0,\"rgb(103,0,31)\"],[0.1,\"rgb(178,24,43)\"],[0.2,\"rgb(214,96,77)\"],[0.3,\"rgb(244,165,130)\"],[0.4,\"rgb(253,219,199)\"],[0.5,\"rgb(247,247,247)\"],[0.6,\"rgb(209,229,240)\"],[0.7,\"rgb(146,197,222)\"],[0.8,\"rgb(67,147,195)\"],[0.9,\"rgb(33,102,172)\"],[1.0,\"rgb(5,48,97)\"]],\"sequential\":[[0.0,\"#440154\"],[0.1111111111111111,\"#482878\"],[0.2222222222222222,\"#3e4989\"],[0.3333333333333333,\"#31688e\"],[0.4444444444444444,\"#26828e\"],[0.5555555555555556,\"#1f9e89\"],[0.6666666666666666,\"#35b779\"],[0.7777777777777778,\"#6ece58\"],[0.8888888888888888,\"#b5de2b\"],[1.0,\"#fde725\"]],\"sequentialminus\":[[0.0,\"#440154\"],[0.1111111111111111,\"#482878\"],[0.2222222222222222,\"#3e4989\"],[0.3333333333333333,\"#31688e\"],[0.4444444444444444,\"#26828e\"],[0.5555555555555556,\"#1f9e89\"],[0.6666666666666666,\"#35b779\"],[0.7777777777777778,\"#6ece58\"],[0.8888888888888888,\"#b5de2b\"],[1.0,\"#fde725\"]]},\"colorway\":[\"#1F77B4\",\"#FF7F0E\",\"#2CA02C\",\"#D62728\",\"#9467BD\",\"#8C564B\",\"#E377C2\",\"#7F7F7F\",\"#BCBD22\",\"#17BECF\"],\"font\":{\"color\":\"rgb(36,36,36)\"},\"geo\":{\"bgcolor\":\"white\",\"lakecolor\":\"white\",\"landcolor\":\"white\",\"showlakes\":true,\"showland\":true,\"subunitcolor\":\"white\"},\"hoverlabel\":{\"align\":\"left\"},\"hovermode\":\"closest\",\"mapbox\":{\"style\":\"light\"},\"paper_bgcolor\":\"white\",\"plot_bgcolor\":\"white\",\"polar\":{\"angularaxis\":{\"gridcolor\":\"rgb(232,232,232)\",\"linecolor\":\"rgb(36,36,36)\",\"showgrid\":false,\"showline\":true,\"ticks\":\"outside\"},\"bgcolor\":\"white\",\"radialaxis\":{\"gridcolor\":\"rgb(232,232,232)\",\"linecolor\":\"rgb(36,36,36)\",\"showgrid\":false,\"showline\":true,\"ticks\":\"outside\"}},\"scene\":{\"xaxis\":{\"backgroundcolor\":\"white\",\"gridcolor\":\"rgb(232,232,232)\",\"gridwidth\":2,\"linecolor\":\"rgb(36,36,36)\",\"showbackground\":true,\"showgrid\":false,\"showline\":true,\"ticks\":\"outside\",\"zeroline\":false,\"zerolinecolor\":\"rgb(36,36,36)\"},\"yaxis\":{\"backgroundcolor\":\"white\",\"gridcolor\":\"rgb(232,232,232)\",\"gridwidth\":2,\"linecolor\":\"rgb(36,36,36)\",\"showbackground\":true,\"showgrid\":false,\"showline\":true,\"ticks\":\"outside\",\"zeroline\":false,\"zerolinecolor\":\"rgb(36,36,36)\"},\"zaxis\":{\"backgroundcolor\":\"white\",\"gridcolor\":\"rgb(232,232,232)\",\"gridwidth\":2,\"linecolor\":\"rgb(36,36,36)\",\"showbackground\":true,\"showgrid\":false,\"showline\":true,\"ticks\":\"outside\",\"zeroline\":false,\"zerolinecolor\":\"rgb(36,36,36)\"}},\"shapedefaults\":{\"fillcolor\":\"black\",\"line\":{\"width\":0},\"opacity\":0.3},\"ternary\":{\"aaxis\":{\"gridcolor\":\"rgb(232,232,232)\",\"linecolor\":\"rgb(36,36,36)\",\"showgrid\":false,\"showline\":true,\"ticks\":\"outside\"},\"baxis\":{\"gridcolor\":\"rgb(232,232,232)\",\"linecolor\":\"rgb(36,36,36)\",\"showgrid\":false,\"showline\":true,\"ticks\":\"outside\"},\"bgcolor\":\"white\",\"caxis\":{\"gridcolor\":\"rgb(232,232,232)\",\"linecolor\":\"rgb(36,36,36)\",\"showgrid\":false,\"showline\":true,\"ticks\":\"outside\"}},\"title\":{\"x\":0.05},\"xaxis\":{\"automargin\":true,\"gridcolor\":\"rgb(232,232,232)\",\"linecolor\":\"rgb(36,36,36)\",\"showgrid\":false,\"showline\":true,\"ticks\":\"outside\",\"title\":{\"standoff\":15},\"zeroline\":false,\"zerolinecolor\":\"rgb(36,36,36)\"},\"yaxis\":{\"automargin\":true,\"gridcolor\":\"rgb(232,232,232)\",\"linecolor\":\"rgb(36,36,36)\",\"showgrid\":false,\"showline\":true,\"ticks\":\"outside\",\"title\":{\"standoff\":15},\"zeroline\":false,\"zerolinecolor\":\"rgb(36,36,36)\"}}},\"xaxis\":{\"anchor\":\"y\",\"domain\":[0.0,1.0],\"title\":{\"text\":\"Dinner Ratings\"}},\"yaxis\":{\"anchor\":\"x\",\"domain\":[0.0,1.0],\"title\":{\"text\":\"count\"}},\"legend\":{\"tracegroupgap\":0},\"margin\":{\"t\":60},\"barmode\":\"relative\"},                        {\"responsive\": true}                    ).then(function(){\n",
       "                            \n",
       "var gd = document.getElementById('468b9127-0923-4ef9-8de4-20b67f6f7c5b');\n",
       "var x = new MutationObserver(function (mutations, observer) {{\n",
       "        var display = window.getComputedStyle(gd).display;\n",
       "        if (!display || display === 'none') {{\n",
       "            console.log([gd, 'removed!']);\n",
       "            Plotly.purge(gd);\n",
       "            observer.disconnect();\n",
       "        }}\n",
       "}});\n",
       "\n",
       "// Listen for the removal of the full notebook cells\n",
       "var notebookContainer = gd.closest('#notebook-container');\n",
       "if (notebookContainer) {{\n",
       "    x.observe(notebookContainer, {childList: true});\n",
       "}}\n",
       "\n",
       "// Listen for the clearing of the current output cell\n",
       "var outputEl = gd.closest('.output');\n",
       "if (outputEl) {{\n",
       "    x.observe(outputEl, {childList: true});\n",
       "}}\n",
       "\n",
       "                        })                };                });            </script>        </div>"
      ]
     },
     "metadata": {},
     "output_type": "display_data"
    },
    {
     "data": {
      "text/html": [
       "<div>                            <div id=\"fd85b187-37bd-42e7-8eca-31d7687f4742\" class=\"plotly-graph-div\" style=\"height:525px; width:100%;\"></div>            <script type=\"text/javascript\">                require([\"plotly\"], function(Plotly) {                    window.PLOTLYENV=window.PLOTLYENV || {};                                    if (document.getElementById(\"fd85b187-37bd-42e7-8eca-31d7687f4742\")) {                    Plotly.newPlot(                        \"fd85b187-37bd-42e7-8eca-31d7687f4742\",                        [{\"alignmentgroup\":\"True\",\"bingroup\":\"x\",\"hovertemplate\":\"Delivery Ratings=%{x}<br>count=%{y}<extra></extra>\",\"legendgroup\":\"\",\"marker\":{\"color\":\"#1F77B4\",\"pattern\":{\"shape\":\"\"}},\"name\":\"\",\"offsetgroup\":\"\",\"orientation\":\"v\",\"showlegend\":false,\"x\":[4.1,4.3,3.5,4.4,4.0,4.5,4.1,4.1,4.1,4.0,3.8,3.7,4.3,4.0,3.7,4.2,4.1,4.6,4.2,3.9,4.0,3.4,4.4,3.8,4.2,3.8,4.0,3.7,4.1,3.4,4.1,3.9,4.2,4.0,4.1,3.8,3.9,3.8,3.9,3.3,4.3,4.0,3.8,4.0,4.4,3.6,3.9,4.5,3.9,4.3,4.0,4.4,3.9,4.0,3.9,4.2,4.3,3.9,3.9,3.6,3.8,4.3,4.0,3.6,3.9,3.7,4.1,4.2,4.2,4.2,4.3,4.1,3.7,4.4,4.0,3.5,4.3,4.2,4.0,3.7,4.0,4.0,3.5,3.4,3.8,3.9,3.6,4.1,4.3,4.0,4.3,4.2,3.8,4.0,4.1,4.0,3.8,4.2,3.9,4.2,4.0,4.0,4.4,3.9,3.9,3.9,4.3,4.0,4.2,4.0,3.9,4.1,4.0,4.2,3.9,3.5,3.4,3.8,4.0,2.9,4.4,3.7,4.0,4.0,4.2,3.9,4.1,3.9,3.7,3.7,3.7,3.2,3.5,3.9,3.7,4.4,4.1,4.2,4.3,4.0,3.9,4.2,3.6,3.6,4.2,3.4,4.1,4.1,4.0,3.8,4.0,3.9,4.1,3.8,4.0,4.0,4.2,4.3,4.0,4.1,3.3,4.0,4.2,3.8,4.0,3.9,3.3,3.8,3.8,3.6,4.3,4.2,3.4,4.0,4.2,3.5,4.0,4.4,3.9,4.0,4.4,3.5,4.0,4.0,4.2,3.6,4.1,4.0,4.1,3.9,3.6,4.5,3.6,3.5,3.7,4.4,4.3,4.1,4.0,3.5,4.3,4.2,4.0,3.8,3.6,4.1,4.1,4.3,4.2,3.6,4.1,4.1,3.8,3.8,3.6,3.8,3.3,4.0,4.2,3.8,4.0,4.0,4.1,4.2,3.6,4.2,3.7,4.2,4.0,4.2,3.6,4.3,4.3,3.8,4.2,4.5,4.0,4.0,4.3,3.9,4.4,4.2,4.0,4.2,3.9,3.9,4.1,4.1,4.2,3.4,4.1,4.0,4.2,3.7,4.1,4.0,4.3,3.9,3.4,3.9,3.7,4.0,3.8,4.2,3.7,3.1,4.0,4.3,3.8,4.0,4.2,4.1,4.1,3.6,4.0,3.9,3.9,4.0,4.1,3.7,3.8,4.0,3.8,3.9,4.2,3.9,3.8,4.0,3.5,4.0,4.1,0.0,4.0,4.1,3.7,4.4,4.1,3.6,3.8,4.0,3.8,3.7,3.8,4.3,4.3,4.0,4.0,4.4,4.0,3.9,3.5,3.5,3.7,4.3,3.7,4.2,4.1,3.8,4.0,4.2,0.0,4.2,4.3,4.1,3.8,4.0,4.0,3.4,3.9,4.0,4.0,4.5,3.6,4.1,3.8,4.1,4.3,4.4,4.3,4.6,4.1,3.5,4.0,4.3,4.0,4.4,3.9,3.6,4.0,4.0,3.9,4.2,3.7,4.1,4.0,3.5,4.2,4.2,4.0,4.1,4.2,4.1,4.1,3.6,4.0,4.3,4.0,4.1,4.0,3.9,4.4,3.9,4.1,4.1,4.0,4.3,3.7,4.2,3.6,3.5,4.0,4.5,4.1,3.6,4.2,4.1,4.1,3.7,3.9,3.7,0.0,3.9,4.2,4.2,3.8,4.2,4.2,4.2,4.0,3.6,3.4,4.0,3.7,4.1,4.3,3.9,3.3,4.0,3.9,4.3,3.9,4.1,4.1,3.5,4.3,3.7,3.5,3.5,4.6,3.9,3.9,3.8,4.0,3.9,3.8,3.8,4.1,3.6,3.9,4.1,3.5,3.7,4.0,4.2,3.8,3.9,4.1,3.3,4.0,4.2,3.2,4.1,3.9,4.6,3.1,4.5,4.1,4.0,3.8,4.0,4.4,4.1,4.0,3.8,3.8,3.8,3.8,4.1,3.7,4.1,4.0,4.2,4.0,3.8,3.7,3.1,3.7,4.4,4.0,4.2,3.6,0.0,3.3,4.0,4.2,4.0,4.3,3.9,3.8,4.2,4.1,4.2,4.0,4.0,3.7,4.5,4.3,4.2,4.2,3.9,3.4,3.8,4.0,3.8,4.1,4.2,3.4,3.9,4.1,3.4,4.0,3.6,4.0,4.1,4.0,3.7,3.5,3.8,4.0,3.5,3.5,4.0,3.5,3.3,4.1,4.1,3.8,3.3,3.3,4.1,3.8,3.9,3.7,3.9,3.4,4.3,4.0,3.6,3.8,3.9,3.9,4.0,4.4,4.1,3.9,4.0,3.8,4.1,3.6,4.3,4.2,3.3,3.9,4.4,3.8,0.0,4.0,4.1,3.6,3.7,4.1,4.3,3.5,4.1,0.0,4.3,4.0,4.1,3.9,4.0,3.7,4.0,0.0,0.0,4.0,3.8,4.0,0.0,3.9,4.1,0.0,0.0,4.0,3.8,3.6,0.0,0.0,4.0,3.9,0.0,0.0,3.9,3.4,4.0,4.0,4.0,4.0,3.9,4.1,4.0,3.5,0.0,0.0,0.0,0.0,0.0,0.0,4.0,0.0,0.0,0.0,0.0,2.7,0.0,0.0,0.0,4.0,4.0,0.0,0.0,4.1,0.0,0.0,4.0,0.0,3.9,4.4,3.9,3.7,3.8,4.2,4.0,3.8,4.1,3.8,3.9,3.9,3.6,3.8,3.8,3.9,3.7,3.7,3.6,3.9,3.5,3.6,3.5,4.1,3.9,3.6,4.1,3.9,3.4,3.7,4.3,4.0,3.4,3.7,3.8,3.8,3.8,4.3,4.0,4.4,4.1,4.2,4.4,4.4,4.0,4.0,4.0,3.7,4.2,4.0,3.9,4.1,4.1,4.0,4.0,3.8,3.7,4.1,4.2,4.6,3.9,3.9,3.4,4.0,4.0,4.5,4.3,4.1,4.0,4.1,3.5,4.5,3.7,3.9,3.9,3.9,3.7,4.0,3.8,3.7,4.0,4.1,3.6,4.0,4.3,3.5,4.3,3.9,4.3,4.0,3.7,4.0,4.0,3.8,4.3,4.0,3.5,4.1,3.9,3.9,4.4,3.9,3.6,4.2,3.9,3.9,4.0,3.8,3.9,3.7,4.2,3.8,3.6,4.2,3.9,3.6,3.9,3.9,3.9,3.5,3.9,4.0,4.0,3.8,4.4,4.2,3.6,3.9,3.7,4.0,3.7,4.4,3.8,4.0,3.8,3.8,3.9,3.5,3.8,3.8,3.8,3.8,3.7,4.0,3.6,4.0,3.7,4.0,3.9,4.1,3.4,4.3,4.1,3.6,3.6,4.0,4.1,4.0,4.0,4.0,3.8,4.1,4.0,3.6,3.9,3.1,3.5,4.1,3.3,3.6,3.4,3.8,4.1,3.9,3.7,4.4,4.0,3.7,4.3,4.0,4.0,4.1,3.9,3.8,4.0,4.1,3.9,4.2,4.3,4.2,4.2,3.4,4.2,3.8,4.4,4.2,3.9,3.5,3.5,3.9,3.5,3.8,3.8,4.1,4.0,3.0,3.2,3.7,4.1,4.0,3.5,3.8,4.1,3.8,3.9,3.5,3.9,3.7,3.6,4.0,3.7,4.4,3.9,3.8,4.1,4.2,3.8,4.0,4.0,4.1,4.2,3.9,3.9,3.5,3.4,3.5,3.9,4.1,4.3,4.1,3.9,3.9,4.3,4.0,3.9,4.1,4.4,4.1,4.1,4.2,3.7,4.1,4.3,3.7,4.0,4.0,4.1,3.9,4.2,3.6,3.8,3.6,3.7,3.8,4.2,4.2,4.0,3.9,3.9,3.8,4.2,3.7,4.6,3.5,3.9,3.6,4.1,4.2,4.3,4.2,4.0,4.1,4.1,4.2,3.5,4.3,3.8,3.8,4.1,3.8,3.8,3.8,3.5,3.7,4.1,3.9,3.9,3.8,3.8,4.0,3.8,3.7,3.9,4.1,3.5,4.1,3.7,4.2,3.9,4.0,3.6,3.6,3.6,3.7,3.9,3.6,3.7,3.9,3.8,3.7,3.8,4.3,3.7,3.4,3.9,4.0,4.2,2.8,4.1,4.2,4.1,3.1,4.2,3.4,4.1,3.9,3.9,4.0,4.2,3.5,4.1,3.6,4.0,3.6,3.6,3.8,3.8,3.1,3.7,4.2,3.7,3.8,3.3,3.7,4.2,3.8,3.4,3.5,3.7,3.5,3.6,3.7,3.9,3.9,3.9,3.9,4.1,4.0,3.7,3.4,3.7,3.5,3.7,3.6,4.1,4.0,4.1,3.5,3.9,4.1,0.0,3.9,4.3,4.0,3.7,3.7,3.6,3.8,3.4,4.0,4.0,3.6,4.1,4.3,3.7,3.5,4.3,3.7,0.0,4.4,3.5,4.4,4.3,3.7,3.8,3.1,3.6,4.1,4.3,3.2,3.5,3.7,3.5,4.0,3.3,0.0,4.3,4.0,3.3,3.1,3.8,3.9,4.2,3.4,3.7,3.4,3.7,3.7,3.8,3.9,3.8,0.0,3.8,3.7,4.0,4.7,4.4,4.2,3.5,3.9,4.4,3.8,0.0,3.6,3.4,3.9,3.5,4.1,3.7,4.0,3.9,4.0,3.4,4.1,4.1,3.5,4.0,3.6,3.3,3.2,3.8,4.0,4.3,4.1,3.1,3.3,3.5,4.4,3.7,3.3,4.5,3.8,3.2,3.2,4.0,3.6,3.6,3.5,4.0,3.8,3.9,3.1,4.1,4.4,3.6,4.0,3.3,4.2,3.7,4.2,4.3,3.6,4.0,4.0,4.1,4.0,4.0,3.7,4.4,3.7,3.6,4.2,3.5,4.1,4.3,3.6,3.8,3.9,4.1,3.8,3.3,4.4,3.8,3.3,3.9,4.2,3.8,3.8,3.2,3.2,4.0,4.1,3.8,0.0,3.7,3.8,3.1,3.7,4.1,4.1,4.0,3.6,3.6,4.1,4.0,3.8,3.4,4.1,3.9,4.0,3.9,3.9,4.0,4.0,3.8,3.7,3.8,3.4,3.8,3.6,3.6,3.3,0.0,2.8,4.3,3.6,4.3,4.0,3.7,4.1,3.5,3.5,3.8,4.4,3.5,3.3,0.0,4.0,3.6,3.7,3.8,3.4,0.0,0.0,3.8,3.4,4.0,0.0,3.7,0.0,3.3,4.2,3.9,3.9,0.0,3.8,3.8,3.8,0.0,3.6,2.8,3.6,0.0,4.1,4.2,3.9,3.6,3.5,3.7,3.6,4.0,4.2,3.4,3.9,3.2,0.0,4.2,0.0,3.9,3.9,3.9,3.7,3.1,4.0,4.2,4.0,3.9,4.0,3.7,0.0,0.0,3.8,3.7,3.2,3.6,3.7,3.4,3.6,3.8,4.0,3.0,0.0,0.0,0.0,0.0,4.0,3.9,0.0,4.1,4.1,3.7,3.7,3.4,3.5,4.4,3.7,4.0,4.0,3.3,4.0,3.1,3.8,3.2,3.3,3.9,2.9,3.6,4.3,3.6,3.6,3.8,0.0,0.0,0.0,3.5,0.0,3.6,3.7,3.5,3.8,3.9,4.1,0.0,4.2,3.3,3.5,3.6,0.0,3.7,3.8,3.1,4.2,3.6,3.5,3.0,0.0,3.8,3.9,4.1,3.1,4.0,3.4,4.1,3.7,4.0,3.9,3.0,4.0,4.0,4.4,4.5,3.5,3.1,4.1,4.2,4.3,4.2,0.0,3.4,4.0,4.0,4.2,3.9,4.3,0.0,4.3,4.0,3.7,3.9,0.0,4.0,3.2,3.6,3.7,2.8,0.0,4.0,3.5,3.5,3.3,3.6,4.0,3.6,4.3,4.0,3.8,4.0,3.7,4.3,3.4,3.3,3.2,3.3,4.0,4.0,3.7,3.8,4.0,3.7,4.0,4.4,3.7,3.1,0.0,0.0,0.0,3.1,0.0,0.0,0.0,3.6,3.5,0.0,0.0,4.3,0.0,4.1,4.3,0.0,0.0,2.7,0.0,0.0,0.0,2.9,0.0,4.0,4.0,3.5,4.1,4.2,3.7,4.0,2.7,3.9,3.6,4.0,4.0,3.4,4.3,3.8,4.1,3.8,3.6,3.6,0.0,3.9,3.0,3.3,2.6,2.8,0.0,3.0,3.6,0.0,4.3,4.0,4.2,4.2,3.8,4.3,3.9,3.5,4.0,4.0,3.8,3.5,4.4,4.4,3.7,4.0,4.2,4.2,4.1,4.1,3.9,3.6,4.0,4.0,4.2,3.7,4.2,4.1,4.1,4.6,4.2,3.9,3.9,3.8,3.9,4.0,3.9,3.8,4.1,3.6,4.1,4.5,4.1,3.9,4.1,4.2,3.7,4.1,4.0,3.6,4.0,3.5,4.2,4.0,3.8,3.6,4.3,4.1,4.2,4.1,3.9,4.0,4.1,3.9,4.0,3.9,4.1,3.5,4.0,4.3,3.9,4.0,4.1,3.8,4.0,4.1,4.0,3.9,4.0,3.5,3.5,3.9,4.1,3.8,4.2,3.9,4.0,4.1,3.7,4.0,4.0,4.0,3.0,4.0,3.8,4.1,3.9,4.3,3.6,3.4,4.0,4.1,3.9,0.0,3.7,4.0,4.2,3.6,3.7,3.9,3.6,3.7,4.2,4.3,4.0,3.9,3.7,3.7,4.2,3.6,4.1,4.2,4.1,0.0,4.1,3.8,4.0,3.5,3.0,3.9,4.0,3.9,3.7,3.3,3.6,3.8,3.6,3.8,3.8,3.9,3.0,3.9,3.8,3.8,4.0,3.3,3.9,4.3,4.0,3.8,3.8,3.8,3.7,4.2,4.0,3.8,4.0,3.2,3.5,3.1,3.5,4.2,3.9,3.6,3.9,3.9,4.3,4.0,3.8,3.8,3.7,3.8,4.0,3.7,3.9,4.3,4.0,3.6,3.8,4.0,3.9,3.8,4.0,3.7,3.6,3.5,3.8,3.7,4.0,3.0,3.8,3.8,3.7,0.0,4.1,3.9,3.7,3.7,3.5,3.7,3.7,3.4,3.8,3.4,3.9,3.4,3.5,3.7,3.9,3.6,3.8,3.8,4.1,3.7,4.1,3.4,4.3,3.7,4.3,3.6,3.9,3.8,3.9,4.2,3.7,3.5,4.0,4.0,3.6,3.7,3.8,3.9,3.5,3.8,3.8,4.0,3.4,4.0,4.3,4.3,3.2,3.6,3.3,3.9,3.8,4.0,3.8,0.0,3.5,3.5,4.1,4.1,4.2,0.0,3.1,4.0,0.0,4.3,0.0,4.1,3.7,3.8,3.7,3.3,3.5,3.5,3.2,4.2,3.5,0.0,3.8,3.8,3.7,4.3,3.5,0.0,3.7,0.0,3.4,4.1,4.1,3.5,3.6,4.0,4.2,4.0,3.6,3.5,3.5,0.0,3.5,3.5,3.5,0.0,0.0,0.0,3.6,0.0,3.7,3.4,3.5,3.7,3.1,3.8,4.0,4.0,3.7,0.0,3.7,4.1,3.2,0.0,3.2,3.8,3.4,4.1,3.9,0.0,4.0,3.3,3.7,3.9,3.4,3.1,4.0,3.9,3.5,0.0,3.1,4.3,3.7,0.0,0.0,0.0,0.0,0.0,0.0,0.0,3.4,3.3,4.0,0.0,0.0,0.0,0.0,4.1,0.0,4.2,0.0,3.0,3.7,3.1,3.0,0.0,3.7,4.3,3.6,0.0,3.3,3.5,4.0,3.3,0.0,0.0,3.7,3.8,4.0,4.0,4.0,3.4,3.8,4.1,4.0,3.4,4.1,0.0,4.3,0.0,3.6,3.2,3.3,0.0,3.9,0.0,3.9,0.0,0.0,0.0,3.6,3.8,3.9,3.5,3.6,3.6,3.4,3.6,3.3,3.5,0.0,0.0,3.4,4.0,0.0,3.6,4.2,0.0,0.0,3.6,0.0,0.0,0.0,4.1,3.6,0.0,3.7,0.0,3.2,3.6,4.0,3.3,0.0,0.0,0.0,3.2,0.0,0.0,4.1,3.9,2.9,0.0,0.0,3.1,3.5,3.3,3.3,3.2,3.3,4.2,0.0,3.5,3.6,4.0,4.0,4.0,3.9,0.0,3.3,3.3,0.0,2.8,0.0,0.0,0.0,3.1,0.0,3.3,4.0,3.7,4.0,3.3,0.0,0.0,4.0,3.7,3.6,0.0,3.3,4.0,3.1,2.8,3.5,4.0,3.5,4.1,4.0,3.5,2.8,3.0,4.0,3.5,4.3,3.6,0.0,3.1,3.5,4.3,3.5,2.9,0.0,3.4,4.0,0.0,4.0,3.2,2.9,4.0,3.6,0.0,0.0,0.0,3.2,0.0,0.0,3.7,3.2,3.7,0.0,3.2,3.5,2.8,0.0,2.5,3.5,3.9,0.0,2.9,2.8,0.0,3.6,3.0,4.0,3.9,4.0,0.0,3.0,3.9,0.0,3.7,3.2,0.0,0.0,0.0,4.2,3.8,3.4,3.3,0.0,3.3,0.0,0.0,4.3,3.6,0.0,4.0,3.3,3.3,3.2,3.7,3.9,3.8,3.9,3.2,3.4,3.7,3.5,3.8,3.3,3.8,0.0,3.5,0.0,0.0,4.0,0.0,0.0,3.6,0.0,4.0,0.0,0.0,0.0,0.0,0.0,0.0,0.0,3.9,0.0,0.0,3.6,0.0,0.0,4.0,0.0,3.1,0.0,0.0,0.0,0.0,0.0,0.0,0.0,0.0,0.0,0.0,0.0,0.0,0.0,2.8,3.4,2.9,0.0,0.0,3.7,3.1,3.1,0.0,3.6,3.6,0.0,0.0,0.0,0.0,2.9,0.0,3.2,0.0,2.9,0.0,3.0,3.0,3.6,3.0,0.0,3.4,0.0,4.0,3.6,3.5,2.7,0.0,3.6,3.1,0.0,0.0,0.0,3.0,0.0,0.0,0.0,0.0,0.0,0.0,3.6,0.0,0.0,0.0,0.0,0.0,3.1,0.0,0.0,0.0,0.0,0.0,0.0,3.2,4.0,0.0,0.0,0.0,0.0,0.0,0.0,4.0,0.0,0.0,0.0,0.0,0.0,0.0,0.0,0.0,0.0,2.8,0.0,0.0,0.0,3.3,0.0,0.0,0.0,3.4,0.0,0.0,2.9,0.0,0.0,0.0,3.1,0.0,0.0,4.2,3.9,4.1,3.4,3.5,3.8,3.5,3.8,3.9,4.0,3.6,3.8,3.9,3.4,3.4,3.6,3.8,4.1,4.0,3.6,3.4,3.9,4.0,3.7,3.2,0.0,3.8,4.0,4.0,3.7,3.6,0.0,4.0,0.0,3.7,3.9,3.9,4.3,0.0,3.5,0.0,3.2,3.6,3.6,3.5,3.0,3.3,3.1,2.8,0.0,3.8,3.7,0.0,2.6,0.0,0.0,3.4,0.0,3.8,3.2,3.8,4.0,4.1,4.2,3.8,4.2,4.2,3.7,3.5,3.6,3.8,3.7,4.1,4.0,3.7,3.9,4.0,4.3,3.6,3.8,3.7,4.0,4.2,3.8,4.2,3.8,4.2,3.9,3.4,4.3,3.8,4.3,3.8,4.4,3.9,4.3,4.3,4.3,4.1,4.0,4.0,4.1,4.0,3.6,4.3,4.0,4.5,4.2,4.5,3.6,4.1,4.6,3.9,0.0,3.9,4.1,3.8,4.1,3.8,3.9,4.1,3.5,4.2,3.8,4.1,4.0,4.3,4.1,3.8,4.2,4.0,4.1,4.0,3.9,4.2,0.0,4.0,4.2,3.9,3.3,4.4,3.9,3.7,4.0,4.2,3.9,4.3,3.8,4.3,4.2,4.2,3.8,4.4,4.1,4.1,4.0,4.0,4.4,4.0,3.9,3.8,3.9,4.2,3.9,4.2,3.9,3.8,3.9,4.0,3.9,3.6,4.3,4.0,4.2,3.8,3.9,3.5,3.9,3.8,4.0,3.8,4.0,4.0,4.2,3.9,4.3,4.0,4.0,3.9,4.0,4.2,4.2,4.2,4.1,4.0,4.2,3.6,4.2,4.1,3.8,4.0,3.9,3.6,3.5,3.7,4.1,3.8,4.2,4.1,4.1,4.1,3.8,3.9,3.8,3.8,3.8,4.0,3.9,4.0,4.0,4.0,3.9,4.2,4.3,4.0,4.0,3.9,4.0,4.1,4.1,3.9,3.9,4.1,4.1,3.9,4.1,3.7,4.3,4.3,4.1,4.3,3.5,4.1,4.0,3.9,4.2,4.0,4.3,4.1,4.3,3.5,4.1,3.9,3.2,3.5,3.9,3.3,4.2,4.0,4.1,3.6,3.8,3.5,4.1,4.0,3.5,4.1,3.6,4.3,3.6,3.8,3.6,4.2,4.4,3.7,4.1,4.0,4.1,4.0,4.1,4.0,4.0,4.0,3.8,4.0,3.9,3.9,3.5,4.1,4.4,3.7,4.1,4.2,3.3,3.6,3.8,3.8,4.3,3.9,3.5,3.5,3.7,4.3,4.0,4.0,4.1,4.3,3.9,4.2,3.8,4.3,4.4,4.0,4.2,3.6,4.0,4.1,3.9,3.6,4.0,4.1,4.2,4.0,3.2,3.7,4.0,4.3,4.3,4.1,3.8,4.0,4.1,3.9,3.5,3.8,4.2,3.8,4.2,3.8,4.1,4.2,4.2,3.4,4.0,4.3,3.9,4.0,3.8,4.2,4.2,4.4,4.1,3.9,4.1,3.7,3.5,3.3,4.1,3.7,4.0,3.9,3.9,4.0,3.6,3.9,4.3,4.0,4.3,4.2,3.9,4.0,3.9,3.7,4.1,4.0,3.9,3.4,4.2,4.0,3.9,4.0,4.0,4.0,4.0,3.7,4.2,3.6,4.0,3.9,3.8,4.3,4.2,3.9,3.9,3.7,3.8,4.4,4.1,4.3,4.0,4.0,3.5,4.0,3.9,4.1,4.3,3.8,3.9,4.0,4.2,4.1,3.7,4.2,3.9,4.0,4.0,3.9,4.2,3.9,4.3,4.1,4.2,3.9,4.3,3.9,3.6,4.1,4.0,4.0,3.4,4.1,4.1,4.6,4.0,4.0,4.0,3.7,4.3,3.9,4.3,4.1,4.1,4.3,3.9,4.2,3.8,4.1,3.9,3.8,3.9,3.5,4.1,4.0,3.9,3.7,3.3,3.7,3.7,3.4,4.1,4.0,4.2,3.8,4.0,4.2,3.6,3.6,4.0,3.9,4.1,3.6,3.7,4.2,3.7,4.0,3.9,3.6,4.1,3.5,3.9,3.9,4.0,4.0,4.2,3.9,4.0,4.0,3.5,4.4,3.8,3.6,3.8,4.2,3.9,4.1,4.1,4.2,3.8,4.0,3.7,4.3,4.4,4.0,3.8,4.3,3.5,4.0,0.0,3.9,4.0,3.5,4.2,4.2,4.4,4.0,4.3,3.8,3.8,4.1,4.0,4.5,4.1,3.6,3.5,3.9,4.2,0.0,4.1,4.3,3.7,4.2,3.7,3.8,4.1,4.0,3.5,4.0,4.0,4.3,4.0,3.5,3.7,4.1,3.7,3.7,3.6,2.9,4.0,3.7,3.7,4.0,3.9,3.6,4.0,4.0,3.6,3.9,4.0,3.8,4.1,3.8,3.8,4.0,4.3,4.0,3.8,3.8,3.8,4.0,3.0,4.0,4.2,3.8,3.4,3.4,4.1,4.3,0.0,3.2,3.8,4.2,3.2,4.3,3.9,3.9,4.0,4.2,4.0,4.0,4.1,4.1,3.8,4.2,4.1,3.4,3.3,4.0,3.4,0.0,3.9,4.3,3.9,3.9,3.7,3.8,4.2,4.1,3.5,3.6,4.4,4.2,4.2,4.0,4.0,3.7,3.8,3.9,3.8,3.8,3.9,3.9,3.9,3.8,3.5,4.2,3.9,4.2,3.9,4.0,4.0,4.0,3.8,4.1,4.0,3.6,4.1,4.1,4.2,4.1,3.9,3.9,3.6,3.8,3.5,3.9,4.1,4.1,3.3,3.1,3.8,3.9,3.9,3.8,4.4,3.7,3.9,3.3,3.8,3.9,4.0,3.1,3.3,3.8,3.8,3.5,3.7,3.9,3.9,3.8,3.3,3.9,4.0,4.0,4.0,3.0,3.2,4.0,3.7,3.5,3.3,3.4,3.4,3.9,4.1,4.3,0.0,4.0,3.4,3.8,4.1,3.6,3.1,4.3,4.0,4.1,3.7,4.3,3.7,3.9,3.7,4.0,3.9,4.0,4.1,3.6,3.8,4.0,4.1,3.4,3.5,4.0,4.3,4.3,4.1,4.2,3.9,3.8,4.0,4.1,3.7,4.2,3.9,4.2,4.4,4.3,3.9,4.2,4.0,3.8,4.2,3.9,3.7,3.9,4.1,4.0,4.3,3.8,3.8,4.2,3.9,4.1,3.8,4.0,3.8,3.8,3.9,4.6,4.0,3.9,4.4,3.8,4.1,4.3,3.8,3.9,3.9,4.2,4.1,4.3,4.1,4.0,3.6,3.9,4.3,3.5,4.5,3.7,4.1,3.8,4.2,3.7,4.5,3.9,3.3,3.6,4.2,3.8,4.2,4.0,4.2,3.5,4.0,4.2,4.2,4.0,3.9,4.1,3.7,4.0,4.0,3.9,4.2,3.9,3.8,4.2,3.5,4.0,3.7,4.1,4.5,4.3,3.6,3.7,3.6,3.6,4.1,4.1,3.3,3.4,4.2,4.1,3.6,3.9,3.4,3.7,4.2,3.9,4.1,4.0,3.9,3.3,3.7,3.8,3.4,4.2,3.7,4.0,4.1,4.0,4.0,4.0,3.9,4.2,3.4,4.1,3.6,4.4,3.6,4.2,4.3,3.9,3.4,3.7,3.8,4.2,3.9,4.0,4.4,3.5,4.0,4.1,4.3,3.9,3.4,4.2,3.9,4.2,3.5,4.0,3.6,3.7,4.1,3.8,4.3,4.1,3.9,4.0,4.2,4.2,4.0,3.9,4.2,4.2,3.3,3.8,3.7,4.1,4.0,4.0,3.5,4.0,3.9,4.3,3.9,4.2,3.3,4.0,3.7,3.4,3.7,3.9,4.1,4.2,4.0,3.9,4.0,3.9,3.8,3.2,4.0,3.8,3.8,3.6,3.4,4.3,4.0,4.0,3.8,4.3,4.0,3.9,4.6,3.8,3.4,4.1,4.2,3.5,4.0,3.5,3.9,3.7,4.4,3.7,4.1,3.8,4.0,3.6,4.2,3.8,3.8,3.5,3.6,3.7,3.7,3.3,4.2,4.2,4.2,4.1,4.2,3.6,3.7,3.6,3.9,4.1,4.0,4.0,3.8,3.4,3.4,3.2,3.8,3.9,3.9,3.9,3.3,3.5,4.0,4.1,3.6,3.5,4.0,3.7,3.8,4.0,3.0,4.2,3.6,4.0,3.8,3.3,3.8,4.1,3.1,3.7,3.6,4.3,4.2,3.8,4.1,3.1,3.9,3.9,3.5,3.9,3.9,3.5,3.7,3.0,3.7,3.9,3.9,3.6,3.8,4.4,4.2,4.1,4.1,4.0,3.8,3.5,3.5,4.1,4.3,3.6,4.2,4.0,4.0,3.7,4.1,4.0,0.0,3.7,3.5,3.8,3.9,4.3,4.1,3.9,4.1,3.7,3.9,3.9,3.5,3.8,4.0,4.1,4.1,3.8,4.3,4.0,3.7,3.2,0.0,3.8,3.5,3.9,3.6,3.5,3.5,3.4,3.8,4.4,3.3,4.1,3.8,3.8,3.7,4.1,3.6,3.9,3.7,3.9,3.9,3.8,0.0,3.8,3.8,3.3,4.0,4.0,4.0,3.9,3.9,4.2,3.6,3.5,4.2,3.9,4.0,3.7,3.4,3.9,4.1,4.0,4.0,4.1,4.0,3.8,3.9,3.8,3.9,2.9,3.7,3.2,4.1,3.7,3.9,3.4,3.3,3.6,3.9,3.7,3.6,4.0,3.4,0.0,3.2,4.0,3.8,3.8,3.9,3.7,4.3,4.2,3.6,3.9,3.5,3.9,4.0,3.6,3.7,3.9,4.0,3.7,3.9,3.6,0.0,3.8,3.8,3.1,3.9,3.7,3.6,3.6,3.2,4.2,3.4,0.0,3.7,4.2,3.9,3.7,4.0,4.0,3.6,4.3,4.1,4.1,3.4,3.3,3.1,4.1,3.8,4.0,3.7,3.9,4.1,4.0,0.0,4.3,0.0,2.9,3.0,0.0,3.6,3.0,0.0,4.2,3.9,4.0,4.3,4.3,0.0,4.3,4.1,4.0,0.0,4.1,3.5,0.0,3.2,0.0,4.0,3.3,0.0,4.0,0.0,4.0,2.7,0.0,0.0,4.0,3.9,0.0,0.0,0.0,0.0,3.7,3.2,3.4,0.0,0.0,4.0,0.0,0.0,0.0,3.4,0.0,0.0,0.0,3.4,0.0,3.3,3.2,3.0,0.0,3.7,4.0,2.4,0.0,0.0,0.0,2.9,0.0,0.0,4.1,3.3,0.0,0.0,0.0,0.0,4.2,3.9,4.0,4.1,4.3,4.2,4.1,4.2,3.9,4.3,4.3,4.0,4.5,4.4,3.8,3.9,4.3,4.1,3.9,4.3,4.2,4.3,4.1,4.5,3.9,4.2,3.8,3.8,3.7,3.5,3.9,3.8,4.0,4.2,4.2,4.0,3.6,4.0,4.0,4.0,4.3,4.3,4.1,4.2,4.6,4.2,4.0,4.2,3.9,4.0,4.2,4.2,3.7,4.0,4.2,4.0,4.3,3.9,4.1,4.2,4.2,4.1,4.0,4.0,4.4,3.8,4.0,3.9,4.3,3.2,3.5,4.2,4.3,4.0,4.3,4.3,4.1,4.0,4.3,3.5,4.0,3.9,4.3,4.3,3.9,3.9,3.8,4.2,4.1,4.1,4.1,4.4,3.9,4.2,4.0,3.9,3.5,4.1,4.1,4.4,4.1,4.3,3.6,4.1,4.2,4.0,4.1,3.6,4.4,3.9,4.0,4.0,4.3,3.7,3.3,3.8,3.8,3.9,4.1,4.1,4.0,4.1,4.5,3.9,4.0,4.1,4.0,4.0,4.1,4.1,3.9,4.1,4.3,3.9,4.1,3.6,3.9,3.8,4.1,4.1,3.7,4.0,4.1,4.2,4.0,3.5,3.7,4.1,3.9,3.4,4.0,3.8,4.0,4.0,4.3,4.3,3.6,4.1,3.8,4.0,4.2,4.2,4.2,4.1,3.6,3.5,4.1,3.9,3.7,3.5,3.6,3.8,3.9,3.9,3.7,4.1,3.7,4.2,4.2,4.0,4.0,4.3,3.3,4.2,4.0,3.1,3.8,3.3,4.1,3.2,3.6,4.1,4.0,3.4,3.9,4.1,3.5,4.5,0.0,3.7,4.1,4.2,4.1,3.8,4.0,3.7,4.1,3.9,4.1,4.0,3.8,4.0,3.8,4.1,3.6,3.9,4.1,3.7,4.3,4.0,4.1,4.3,3.6,4.1,4.0,4.0,3.7,3.9,4.3,4.3,3.9,4.0,4.2,4.0,4.2,4.1,4.2,3.8,4.2,4.0,4.0,4.0,4.3,4.2,4.0,4.3,3.9,3.8,3.6,4.0,3.9,3.6,4.2,3.8,3.8,3.8,4.2,4.1,4.1,3.6,4.6,4.0,3.7,3.5,4.3,3.7,4.0,3.6,3.5,3.7,3.8,3.9,3.4,3.7,4.0,3.9,3.9,3.5,4.2,3.8,3.7,3.9,4.0,3.4,3.4,4.0,3.8,3.7,3.6,3.7,3.5,3.9,3.5,4.0,3.9,4.1,3.8,3.7,3.9,0.0,3.8,4.3,4.2,3.4,3.6,3.7,0.0,4.3,3.7,0.0,4.0,3.9,4.0,3.9,3.3,3.5,3.6,3.9,4.0,3.7,4.4,4.0,0.0,3.8,4.3,3.6,4.3,3.9,4.0,4.1,3.4,4.0,4.0,3.7,4.0,3.9,4.0,3.7,3.4,3.4,4.1,3.6,4.1,4.3,4.3,3.8,4.2,3.5,4.0,4.3,3.7,4.0,3.7,3.7,0.0,4.0,3.6,4.3,4.0,4.1,3.9,4.1,3.9,4.2,4.1,4.3,4.2,3.6,3.8,3.7,4.1,4.0,3.6,3.3,0.0,4.0,4.0,4.1,3.6,0.0,3.7,3.3,4.2,4.4,3.4,4.2,3.6,3.9,3.9,4.1,4.0,3.9,4.3,4.1,4.0,3.6,4.2,3.2,4.3,0.0,3.1,3.5,4.0,4.1,4.2,4.1,4.0,4.0,4.0,4.3,3.8,3.9,4.3,3.4,4.3,0.0,4.1,0.0,4.0,3.8,3.1,3.7,4.2,3.9,3.8,3.9,4.1,3.9,3.4,3.9,4.0,4.0,3.8,3.8,3.8,3.8,3.9,4.1,4.1,4.1,4.3,4.2,3.8,4.1,3.8,3.8,3.7,4.3,3.7,3.7,3.6,4.0,4.2,4.4,3.8,3.8,3.8,3.8,3.7,4.0,4.2,4.1,3.1,0.0,3.0,0.0,4.0,3.7,4.6,0.0,3.5,4.0,3.9,3.3,3.0,4.0,4.3,4.0,4.1,3.3,4.0,4.1,3.4,3.5,3.2,4.0,3.7,4.0,3.7,4.0,3.8,4.0,4.1,4.2,3.9,4.1,3.6,4.4,3.9,4.4,3.9,4.4,3.8,4.2,3.8,3.5,4.2,4.3,4.3,4.5,4.1,4.1,3.9,4.3,4.1,4.1,4.1,4.5,3.9,4.2,4.2,4.3,4.0,3.8,4.2,4.3,3.8,4.3,4.2,4.2,3.7,4.2,3.9,3.4,4.0,4.1,3.9,4.5,4.2,3.9,4.1,4.2,3.6,3.7,4.1,3.9,3.9,4.0,0.0,4.1,4.0,3.8,4.4,4.0,3.8,4.2,4.1,4.1,4.2,3.8,4.4,4.0,4.1,4.0,4.0,4.1,4.0,4.1,3.4,4.3,3.4,4.2,4.0,4.1,4.1,4.0,4.2,3.3,4.3,4.1,3.6,4.3,3.8,4.0,4.0,3.8,3.5,4.6,3.9,3.4,3.7,3.5,3.9,4.0,4.2,3.8,4.3,4.0,4.0,3.7,4.1,4.0,3.9,4.2,4.0,3.8,4.0,4.2,4.4,3.9,3.6,4.0,4.0,4.3,4.2,4.1,3.7,3.6,4.2,4.0,3.9,4.0,4.0,3.7,3.6,3.6,3.7,4.3,4.0,4.4,4.0,3.6,4.0,4.1,4.3,3.8,3.9,3.9,4.0,3.9,0.0,4.2,4.0,4.0,3.9,4.1,4.0,4.2,3.5,4.0,4.1,3.7,3.3,3.9,3.4,3.2,3.7,4.0,3.9,4.0,3.7,4.0,3.3,4.1,4.0,3.9,4.0,3.7,3.5,3.7,0.0,3.9,3.8,4.0,3.6,3.8,0.0,3.5,3.7,4.0,4.0,4.2,3.9,3.5,3.8,4.0,3.9,3.6,4.0,4.0,4.0,0.0,0.0,3.4,4.3,0.0,3.8,0.0,3.5,3.7,3.3,4.3,3.4,0.0,4.3,3.4,4.1,3.4,3.4,3.7,0.0,3.7,0.0,3.3,4.5,3.6,3.4,4.0,2.9,4.3,0.0,3.8,4.0,3.5,4.0,4.3,4.1,4.0,4.1,4.2,3.6,3.7,3.7,4.0,3.4,4.4,3.7,3.8,4.0,3.6,3.7,4.1,4.0,3.9,4.0,3.7,4.0,4.0,3.6,3.7,4.0,0.0,0.0,3.8,4.0,3.0,4.0,3.8,3.6,3.7,3.4,4.3,4.1,3.6,0.0,3.8,3.1,3.6,4.0,3.6,3.9,4.0,0.0,0.0,4.0,4.1,3.5,3.9,3.9,4.0,3.3,3.5,3.3,0.0,3.0,3.3,0.0,3.8,0.0,3.5,3.3,4.0,3.6,4.0,4.0,3.2,0.0,4.0,3.5,3.8,3.8,3.3,4.0,0.0,4.3,0.0,3.6,3.5,4.2,3.4,4.1,3.9,4.0,3.6,3.9,3.3,3.6,3.9,3.6,0.0,4.0,3.3,3.9,3.2,3.7,4.1,3.1,4.1,4.3,3.5,4.1,4.0,4.2,2.9,4.2,3.9,3.5,4.0,3.6,0.0,4.0,3.7,4.0,4.2,3.6,4.4,3.5,3.8,4.1,3.3,3.3,4.1,3.3,3.3,3.7,3.7,4.0,3.6,3.5,3.5,3.9,3.5,3.6,3.4,4.0,4.2,4.1,4.2,3.7,3.5,3.9,3.5,4.0,3.5,3.9,3.5,3.7,3.8,4.0,4.0,4.0,3.8,4.6,4.0,3.5,3.8,3.5,4.2,3.7,4.4,4.4,4.0,3.7,3.8,4.3,4.3,3.9,3.8,4.1,4.1,3.9,4.3,4.2,4.5,3.9,3.7,4.0,4.1,3.9,4.1,3.9,4.3,3.8,4.1,4.3,3.9,3.7,3.9,3.6,4.2,4.0,3.9,4.3,4.1,4.2,3.9,4.0,4.1,3.8,3.7,4.0,4.2,4.0,4.0,3.9,3.8,4.1,4.0,4.0,3.7,4.1,4.1,4.0,4.1,3.0,3.5,4.1,3.9,3.8,3.8,4.2,3.8,3.7,3.5,4.2,4.1,4.2,4.5,3.8,3.7,4.4,3.8,4.1,3.8,0.0,3.8,4.4,4.1,4.2,4.1,4.3,4.0,3.1,4.2,4.3,4.1,3.9,3.8,4.3,3.7,4.3,3.8,3.8,3.5,4.2,4.0,3.4,3.8,4.1,4.5,3.9,3.7,4.0,3.8,3.7,4.2,4.0,4.0,4.1,4.0,4.0,4.0,4.0,4.1,3.6,4.1,4.0,3.2,4.2,4.3,0.0,4.0,4.1,3.8,3.7,3.7,3.5,3.9,3.7,4.0,3.7,3.5,3.8,4.2,4.3,3.4,3.5,3.3,4.0,0.0,3.1,3.5,3.8,4.2,4.0,4.2,0.0,3.6,4.0,3.8,3.4,3.5,3.7,3.4,3.9,4.3,3.8,3.7,3.2,0.0,3.1,3.4,3.9,3.7,3.7,3.6,4.0,4.0,4.3,3.7,3.7,3.4,3.4,0.0,3.7,3.5,3.2,0.0,0.0,3.9,4.0,3.6,3.9,0.0,3.5,3.3,3.2,4.0,0.0,4.1,4.2,4.0,3.0,3.9,4.1,3.5,3.4,3.6,3.5,3.7,0.0,3.3,3.8,0.0,3.6,4.0,3.7,4.0,4.0,3.7,3.9,3.8,4.0,3.6,3.8,3.7,3.4,0.0,3.4,3.3,4.0,3.8,3.8,4.0,3.5,0.0,4.0,0.0,0.0,3.2,0.0,0.0,3.6,0.0,3.6,4.0,4.0,0.0,3.4,0.0,3.4,3.7,3.0,0.0,0.0,3.1,0.0,4.3,4.0,3.3,4.0,3.6,0.0,0.0,0.0,3.3,0.0,3.8,3.0,0.0,0.0,3.8,0.0,3.8,3.9,0.0,0.0,3.7,4.0,0.0,3.6,0.0,0.0,0.0,4.2,3.3,0.0,0.0,0.0,0.0,3.9,0.0,0.0,0.0,4.0,2.8,3.8,3.5,3.7,0.0,4.1,3.4,0.0,0.0,0.0,3.1,4.0,4.2,3.4,3.9,3.8,4.2,3.6,4.0,4.2,3.3,3.8,3.8,4.0,3.3,3.2,4.0,4.0,3.6,3.8,3.8,3.9,3.9,3.8,3.7,0.0,4.0,3.5,3.2,3.7,3.6,3.1,3.4,3.9,3.8,3.7,4.1,0.0,3.7,3.5,3.7,4.2,3.9,4.0,3.8,3.7,3.9,3.2,4.1,0.0,3.5,0.0,2.9,3.6,4.0,3.4,3.9,3.5,3.6,3.9,4.1,3.6,0.0,0.0,4.0,3.9,4.0,4.1,3.3,4.1,4.0,4.1,3.8,3.9,4.2,4.3,4.3,4.3,4.3,3.7,3.6,3.8,4.0,4.3,4.0,4.4,4.0,3.8,4.5,4.2,4.2,4.0,4.0,4.0,4.2,4.1,4.3,3.9,3.8,4.4,3.9,4.0,3.9,3.9,4.2,4.3,3.9,4.6,4.2,4.2,3.8,3.8,4.0,4.5,4.1,4.0,4.0,3.6,3.6,3.8,4.0,3.7,4.1,4.2,4.4,4.3,4.1,3.9,4.3,4.1,3.7,4.0,3.9,4.1,4.5,4.0,3.5,4.1,4.0,4.1,4.0,3.6,4.0,4.0,3.9,4.5,4.1,3.7,3.9,4.0,4.2,3.6,3.8,4.2,4.0,4.2,4.1,4.1,4.2,3.9,4.0,4.1,3.8,3.7,4.0,3.7,4.6,4.4,4.2,4.2,4.2,4.1,4.0,3.4,4.1,4.1,3.8,3.9,4.2,4.1,3.2,4.2,3.8,4.1,4.3,3.5,4.0,4.2,4.3,3.9,3.8,4.5,4.0,3.8,3.8,4.2,4.2,3.9,3.4,3.9,4.0,3.5,4.0,3.7,4.0,3.3,3.8,4.2,4.3,4.3,3.8,4.1,3.4,3.2,4.0,4.1,3.7,3.9,4.0,3.7,4.0,3.4,4.2,3.8,4.3,3.5,3.9,4.2,4.0,4.1,4.2,4.1,4.3,4.3,4.1,4.2,4.3,4.0,4.0,4.0,3.9,4.0,4.2,4.2,4.1,4.0,4.3,3.7,4.2,4.1,4.0,4.1,4.1,4.1,3.9,4.0,4.2,4.0,4.0,3.9,3.4,3.8,4.0,3.9,4.2,3.9,4.1,4.0,3.8,4.0,4.0,0.0,3.7,0.0,4.1,3.8,4.4,4.3,0.0,0.0,0.0,0.0,0.0,0.0,0.0,0.0,0.0,4.0,0.0,0.0,4.3,0.0,3.6,3.9,0.0,4.3,0.0,3.8,3.6,3.8,0.0,0.0,0.0,0.0,0.0,0.0,4.2,4.0,4.4,3.8,4.4,4.0,4.0,4.4,3.9,4.1,3.7,3.5,4.0,4.1,4.0,4.3,3.7,3.8,4.1,4.1,4.2,3.5,3.8,3.6,4.3,4.2,4.2,3.7,3.9,3.6,4.2,4.0,3.9,4.0,3.9,4.4,4.1,4.0,3.7,4.3,4.2,4.1,3.9,4.0,3.8,4.1,4.4,3.9,4.1,4.4,4.2,3.6,4.1,3.8,4.6,4.2,4.3,4.1,3.8,4.5,4.2,4.1,3.9,3.9,4.1,3.9,4.1,4.0,4.2,4.3,3.4,4.3,4.4,0.0,3.8,4.1,4.1,4.2,4.0,3.9,3.6,3.7,3.8,4.3,4.0,4.1,4.2,4.2,3.8,4.2,4.1,4.2,3.9,4.0,4.1,4.3,3.9,4.0,4.2,4.0,4.0,4.0,3.7,4.0,4.2,4.0,3.6,3.9,4.1,4.3,3.9,4.3,4.1,4.4,4.3,4.0,4.1,3.9,4.0,4.2,3.5,3.9,4.1,3.8,4.1,3.9,3.6,4.2,4.2,4.1,3.8,3.9,4.0,4.1,4.0,4.0,3.6,4.0,4.1,4.0,3.9,4.2,4.3,4.1,3.9,3.9,3.8,4.1,3.8,3.7,4.1,4.3,4.0,4.3,3.5,4.2,3.9,4.1,4.2,4.0,4.0,3.8,3.6,4.5,4.2,3.9,3.8,4.0,4.4,4.0,3.9,3.6,4.3,4.2,4.1,4.2,4.3,4.3,4.3,4.2,3.6,3.6,3.7,4.2,4.0,4.0,4.2,4.1,3.7,4.4,3.6,4.0,4.1,4.0,4.0,4.5,3.9,4.0,4.2,4.0,4.3,4.0,4.2,3.9,3.9,3.8,4.0,3.9,3.6,4.3,4.1,4.1,3.6,3.8,3.6,4.1,4.1,3.7,3.8,4.1,4.2,4.1,4.0,3.7,4.1,4.6,4.2,3.9,3.4,4.1,3.7,4.0,4.0,3.9,4.1,4.4,4.0,3.9,4.3,4.2,3.9,4.3,3.7,4.3,4.0,4.2,4.2,3.7,3.8,4.0,3.4,3.9,4.0,3.9,4.3,4.1,4.1,4.0,4.1,4.2,4.3,3.7,4.1,3.7,3.2,3.9,3.6,3.7,3.8,4.3,4.0,3.7,4.1,4.3,4.0,4.3,3.8,4.0,4.1,4.0,4.0,4.2,4.3,4.1,4.4,4.2,3.7,4.1,4.3,3.6,3.7,4.3,3.1,4.0,3.4,4.3,4.0,4.2,4.0,3.6,3.8,3.9,3.7,4.0,3.6,3.9,3.8,4.1,3.6,3.2,3.7,3.8,4.4,4.1,4.2,4.4,4.0,4.0,4.3,3.7,4.1,4.2,4.1,4.2,4.0,4.0,4.0,3.7,3.9,4.4,3.7,4.0,4.0,3.9,4.2,3.9,4.0,3.7,0.0,4.0,3.4,4.0,3.4,3.9,4.0,4.1,3.7,4.4,4.4,4.0,4.4,4.2,3.9,3.3,3.8,4.5,3.8,3.9,4.0,3.8,3.8,4.0,4.4,3.8,4.3,4.1,3.8,3.9,4.2,3.3,4.0,4.0,4.0,3.2,4.1,4.0,4.1,3.7,4.0,4.1,4.1,4.2,3.1,4.0,3.9,4.0,4.4,3.5,4.3,3.7,3.7,3.9,3.8,3.6,4.3,3.7,4.0,3.2,3.8,3.8,4.0,3.7,4.1,4.1,3.3,4.1,4.0,3.8,4.1,3.8,0.0,4.2,3.0,4.1,4.3,4.0,3.9,4.1,4.3,4.3,3.7,4.0,3.6,4.3,3.7,4.3,3.8,3.6,3.1,3.5,3.6,4.0,0.0,4.2,4.1,3.5,4.3,4.0,3.9,3.6,4.2,3.8,3.5,4.0,4.1,4.0,3.8,4.0,3.6,4.0,3.8,3.7,4.0,4.0,3.7,4.0,4.2,4.0,4.0,3.0,3.9,3.9,4.2,3.8,4.2,3.6,3.9,3.6,3.9,3.9,3.7,3.8,4.0,3.4,4.2,3.7,3.7,4.2,4.1,3.3,3.8,4.5,0.0,4.0,3.5,4.1,3.9,4.0,4.0,3.5,4.0,4.0,3.7,4.0,4.1,4.0,4.2,4.2,4.0,4.0,3.3,3.7,4.2,3.6,3.9,4.0,4.0,4.1,4.0,4.0,3.9,4.0,4.0,3.2,4.1,3.4,3.7,4.1,4.0,4.1,4.0,3.5,3.5,3.6,0.0,3.8,4.0,3.8,3.8,3.2,4.0,4.3,0.0,3.9,4.1,3.7,4.1,3.4,3.9,4.0,4.0,3.5,3.7,4.0,4.1,3.6,3.9,4.2,4.1,4.0,3.8,4.0,4.1,4.1,4.0,4.0,3.8,3.4,3.9,3.9,3.1,0.0,3.4,3.3,4.2,3.8,3.6,4.0,3.4,4.1,4.0,4.2,3.4,0.0,0.0,3.9,3.5,4.0,0.0,0.0,3.8,4.0,3.9,0.0,4.0,4.3,0.0,3.2,4.0,4.0,3.8,3.8,4.0,3.1,0.0,0.0,3.9,4.4,4.1,4.4,3.9,3.7,3.6,4.0,3.3,4.3,0.0,0.0,4.3,4.0,3.1,3.9,0.0,4.3,3.9,0.0,3.7,0.0,3.5,3.8,3.6,3.8,3.8,3.8,4.1,3.6,3.9,4.3,4.0,0.0,0.0,0.0,4.1,4.0,0.0,4.3,0.0,3.8,0.0,0.0,3.2,3.6,0.0,4.3,0.0,4.0,3.5,3.9,4.3,4.3,0.0,3.4,4.0,4.0,3.5,3.9,4.1,3.9,4.0,4.0,3.5,0.0,3.5,4.2,0.0,3.5,3.7,3.6,3.9,0.0,3.2,0.0,4.0,0.0,4.0,0.0,4.3,0.0,3.7,0.0,4.0,4.3,4.3,3.5,4.0,4.3,3.3,3.8,3.5,4.0,4.3,4.0,0.0,4.0,4.1,4.0,4.3,3.7,4.2,4.0,3.7,0.0,3.5,0.0,3.8,4.4,4.3,4.0,4.2,4.4,3.7,4.2,4.3,3.6,4.0,4.0,4.0,4.0,0.0,3.7,4.0,0.0,3.7,3.8,0.0,4.0,0.0,0.0,3.6,0.0,3.1,0.0,4.0,0.0,3.2,0.0,0.0,0.0,0.0,3.7,0.0,3.3,0.0,0.0,3.9,4.3,0.0,0.0,3.6,3.9,3.8,4.1,4.3,4.4,4.0,4.1,4.2,3.8,4.0,3.7,3.5,4.4,4.0,3.9,4.0,4.2,4.1,4.2,4.4,4.2,4.1,3.9,4.2,3.9,4.2,3.7,3.9,3.7,4.0,3.4,4.2,4.3,3.9,4.0,3.9,4.1,4.2,4.2,4.0,4.0,4.1,4.0,3.6,3.7,4.0,3.7,0.0,4.0,4.3,3.4,3.7,3.5,3.7,4.0,3.9,4.0,4.2,4.1,4.4,3.9,4.5,4.3,4.1,3.7,4.0,3.7,4.1,4.2,3.9,4.1,4.2,4.0,4.4,4.0,3.9,4.1,3.9,4.2,3.9,4.3,4.1,4.0,4.0,4.1,4.2,3.4,3.5,4.0,4.0,4.3,3.8,3.6,3.6,4.1,4.1,3.5,4.0,3.8,3.5,3.9,3.7,3.9,4.1,3.9,3.9,3.8,0.0,0.0,4.1,4.1,3.7,4.2,4.3,3.8,3.1,3.7,4.3,3.8,3.5,3.5,3.7,4.1,4.0,3.6,4.2,4.0,3.8,3.6,3.8,4.3,3.6,4.0,3.3,4.2,4.3,4.3,4.2,4.1,3.7,0.0,3.6,3.9,0.0,3.9,4.0,3.5,4.1,0.0,4.0,4.0,4.0,4.3,3.6,4.0,3.9,4.3,4.3,4.3,3.7,3.9,4.2,4.0,4.1,4.3,4.1,4.1,4.3,4.1,3.8,4.0,3.4,3.8,3.6,3.8,3.1,3.6,3.7,3.9,3.8,3.4,4.1,4.0,3.8,0.0,3.8,3.9,0.0,0.0,0.0,0.0,0.0,0.0,4.0,3.6,3.4,0.0,0.0,3.7,3.5,3.8,0.0,4.0,0.0,4.0,4.3,0.0,0.0,3.2,3.4,0.0,3.6,4.3,0.0,2.8,0.0,0.0,0.0,0.0,0.0,3.4,4.0,4.1,4.0,3.8,3.8,4.2,3.7,4.1,4.3,3.9,4.2,4.3,3.8,3.6,4.4,4.4,4.0,4.4,3.6,3.8,4.3,4.4,4.2,4.1,4.0,3.8,3.9,4.1,3.4,4.1,3.9,4.1,4.0,4.0,4.1,4.4,4.6,4.1,3.8,4.0,4.0,4.1,4.0,3.7,4.2,4.0,4.1,4.0,3.7,4.4,3.9,4.0,0.0,4.1,4.1,3.8,4.0,4.2,3.9,3.9,3.4,4.0,4.3,3.7,4.3,3.9,4.2,4.1,3.8,4.2,4.1,4.3,4.4,4.1,4.4,4.0,3.5,4.1,4.0,4.1,4.0,4.0,3.8,4.0,3.9,3.6,3.6,3.7,4.5,4.1,4.2,3.8,4.3,4.0,3.8,4.1,4.0,3.6,3.8,3.8,4.1,4.2,3.6,3.8,4.2,4.2,4.0,3.8,3.9,3.9,4.2,3.8,0.0,3.8,4.1,3.7,3.6,0.0,3.5,3.6,3.8,4.0,4.2,4.0,3.8,4.1,4.2,4.2,3.7,4.1,4.7,4.0,3.6,4.2,3.8,4.0,3.9,4.4,4.4,3.8,4.5,3.3,3.8,4.0,4.1,4.1,3.9,4.2,4.1,4.1,4.1,3.7,3.6,3.7,4.1,3.7,4.1,4.1,4.1,3.9,4.3,4.0,3.9,4.0,3.5,3.5,3.8,3.7,4.2,3.9,4.3,4.1,4.2,4.3,3.5,4.0,3.7,4.1,4.0,3.7,4.0,3.1,4.0,3.9,4.1,3.4,3.3,3.5,4.2,3.9,4.0,4.1,3.4,3.9,3.8,3.3,3.7,3.9,4.2,4.0,4.1,4.2,4.1,4.0,4.0,4.1,3.7,4.1,3.9,4.2,3.9,3.9,3.6,4.2,3.6,4.1,4.2,4.0,4.1,4.2,0.0,3.6,3.2,4.0,3.9,3.9,3.2,0.0,4.0,3.4,3.7,3.4,4.1,4.4,3.9,4.0,3.5,3.6,4.0,4.0,4.1,3.7,3.7,4.1,3.3,3.8,3.8,4.0,4.0,3.9,4.2,3.9,4.1,4.2,3.9,4.0,4.0,3.9,3.8,4.2,3.4,4.0,3.5,4.3,4.0,3.7,4.3,3.9,3.7,3.5,3.1,3.6,3.8,4.0,3.6,4.1,4.0,4.1,4.2,3.9,3.7,4.3,3.5,4.0,4.1,3.7,4.2,4.0,0.0,3.6,3.5,3.4,4.2,3.5,3.8,4.0,3.5,3.9,4.2,3.8,3.9,0.0,4.0,3.7,3.3,3.7,4.0,0.0,4.0,3.5,4.3,3.8,3.2,4.1,4.2,4.2,3.8,3.9,4.0,4.6,4.3,3.9,3.8,3.8,3.6,3.6,4.0,3.8,4.3,4.3,3.7,4.0,3.9,4.0,4.0,3.8,3.4,3.6,4.0,4.0,3.6,4.0,4.2,0.0,4.2,4.0,3.8,4.0,3.8,3.9,4.0,3.9,4.1,3.7,3.7,4.0,3.9,3.6,3.9,4.0,3.7,3.9,4.3,4.0,3.7,4.2,4.0,0.0,3.7,3.7,3.8,3.9,4.1,3.8,3.7,4.0,3.4,3.8,0.0,3.3,4.5,3.2,4.3,4.0,3.5,4.0,4.2,4.1,3.5,0.0,4.0,3.5,4.0,3.3,3.1,3.6,3.4,0.0,4.3,3.8,4.0,4.2,3.5,3.6,4.3,2.8,3.9,3.4,0.0,4.0,3.5,3.7,3.9,4.0,4.0,3.6,3.8,3.6,3.6,4.2,4.3,3.7,4.0,3.7,4.4,4.0,0.0,3.2,3.9,3.4,4.3,4.3,4.0,3.5,3.5,3.7,3.4,3.9,3.3,3.9,3.4,3.6,0.0,2.9,4.2,4.1,4.0,3.5,3.9,4.0,4.2,0.0,3.7,4.4,3.4,0.0,4.1,4.2,2.7,3.7,3.7,4.0,4.1,4.2,3.9,3.9,0.0,4.0,4.3,3.6,3.9,3.5,4.2,0.0,3.7,3.7,4.2,3.6,0.0,3.4,3.1,0.0,0.0,4.0,4.1,4.0,4.0,3.3,4.0,4.0,3.4,3.2,4.2,3.4,4.3,4.0,3.4,3.6,4.0,3.8,4.4,3.8,3.2,0.0,0.0,0.0,0.0,3.4,0.0,3.9,3.9,3.5,3.2,4.0,0.0,3.9,0.0,3.8,4.0,3.5,3.5,3.5,0.0,0.0,4.2,0.0,3.4,0.0,0.0,3.5,3.4,3.5,3.0,3.9,3.6,0.0,4.3,0.0,4.2,4.0,3.7,3.9,4.2,0.0,4.0,3.1,3.7,3.6,2.7,3.3,0.0,3.8,3.7,3.7,3.6,3.9,3.9,2.9,0.0,4.0,3.1,3.9,0.0,3.8,3.6,4.0,4.0,4.3,3.8,0.0,4.2,3.4,4.1,3.8,4.0,0.0,0.0,3.2,3.5,3.5,3.1,4.3,3.9,3.9,4.2,3.8,4.1,3.2,3.5,4.0,0.0,3.9,3.9,0.0,3.0,4.0,0.0,0.0,3.3,3.5,0.0,0.0,4.0,3.3,0.0,0.0,0.0,0.0,0.0,0.0,0.0,0.0,4.0,0.0,0.0,0.0,0.0,4.0,4.0,0.0,3.5,4.2,3.7,0.0,3.7,3.0,4.2,0.0,0.0,0.0,0.0,4.4,3.4,3.4,0.0,0.0,4.4,0.0,2.8,0.0,0.0,3.8,0.0,4.0,0.0,4.0,0.0,0.0,0.0,4.0,4.0,3.8,4.1,3.5,3.8,4.2,3.6,3.7,4.4,3.8,3.3,0.0,0.0,4.0,4.1,3.3,4.2,0.0,0.0,0.0,3.7,0.0,0.0,0.0,0.0,3.7,0.0,0.0,3.9,0.0,4.0,3.5,2.9,0.0,4.0,0.0,0.0,3.1,0.0,4.0,0.0,0.0,0.0,0.0,0.0,0.0,4.0,0.0,0.0,4.2,0.0,0.0,0.0,0.0,0.0,0.0,0.0,0.0,0.0,0.0,0.0,4.0,0.0,0.0,0.0,0.0,0.0,4.0,0.0,0.0,0.0,4.2,3.7,4.1,4.3,4.1,3.9,4.2,3.8,4.2,4.2,3.9,4.4,4.1,4.0,4.3,4.0,4.1,3.9,4.3,4.0,3.5,4.1,3.9,4.2,4.1,4.4,4.5,3.4,4.5,4.1,3.8,4.1,4.1,3.9,3.8,4.0,4.2,3.9,4.1,3.9,4.2,4.1,4.3,3.9,3.5,4.0,4.3,3.8,3.7,3.9,4.3,4.3,3.9,4.3,4.1,3.9,3.6,4.3,4.0,3.9,3.8,3.7,4.1,3.8,3.9,3.7,4.0,4.1,4.2,4.0,4.0,3.8,4.1,3.9,4.3,4.0,4.1,3.9,3.7,3.8,3.8,3.9,3.9,4.1,4.0,3.9,4.2,3.7,3.9,4.4,3.7,4.0,4.0,4.2,4.1,3.7,3.9,4.4,3.6,4.3,4.3,3.9,3.9,4.0,4.0,3.9,3.8,3.9,3.9,4.3,4.0,4.2,4.2,4.1,4.2,3.8,3.9,4.0,3.4,3.9,4.1,3.7,4.1,4.3,3.7,4.2,4.1,4.0,3.7,4.1,4.3,4.1,3.9,4.0,3.1,4.3,4.0,3.5,3.9,3.7,3.6,3.6,3.9,3.7,3.8,4.0,3.4,4.3,4.3,3.9,3.9,3.8,4.2,4.1,4.0,3.2,3.5,4.1,3.9,3.9,4.2,4.3,4.0,4.3,3.4,4.1,4.1,3.9,4.0,3.8,3.8,3.9,4.0,3.8,4.2,4.0,3.4,4.0,3.8,3.8,4.1,3.3,4.2,3.9,3.8,3.5,4.3,3.7,3.8,3.9,3.8,4.2,3.8,3.6,3.9,3.4,3.7,3.7,3.8,3.9,3.9,3.9,3.5,0.0,4.2,3.4,4.3,3.4,3.6,3.9,3.8,3.9,3.6,3.5,4.0,3.7,3.8,3.4,4.2,4.2,3.9,3.7,4.2,2.7,4.0,3.7,3.1,3.7,4.3,3.9,4.0,3.8,4.0,4.3,3.7,4.2,3.9,3.6,3.9,3.7,3.5,4.2,3.9,3.6,3.9,4.0,3.8,3.6,4.1,3.2,3.9,0.0,3.9,0.0,3.7,4.0,3.8,3.4,4.1,3.8,3.7,4.1,3.7,3.7,4.1,3.9,4.1,4.3,4.0,3.5,3.7,4.3,3.7,4.1,4.0,3.7,3.9,3.7,3.7,4.0,4.3,3.9,0.0,3.5,3.9,3.3,3.8,4.1,4.0,3.7,3.0,0.0,4.0,4.0,4.0,4.1,3.4,0.0,3.7,3.4,3.9,0.0,0.0,0.0,4.0,3.6,0.0,3.9,4.0,3.6,3.4,3.5,4.0,3.7,4.1,3.7,0.0,4.2,3.1,4.1,3.4,3.9,3.8,3.9,4.1,3.5,0.0,3.7,4.0,0.0,3.6,4.1,0.0,3.4,0.0,0.0,0.0,4.0,0.0,0.0,0.0,3.6,0.0,0.0,3.3,4.3,0.0,4.0,4.0,4.0,4.0,0.0,3.3,2.5,0.0,0.0,0.0,0.0,3.2,0.0,3.2,0.0,3.7,2.5,4.0,0.0,2.9,3.8,3.4,3.8,0.0,3.0,3.4,3.6,4.0,3.5,3.6,3.4,3.4,0.0,3.9,3.4,3.9,3.3,3.8,0.0,0.0,0.0,3.4,3.7,0.0,3.4,3.2,0.0,2.8,0.0,3.1,3.7,4.1,4.0,3.8,3.4,4.0,4.2,3.4,4.0,3.3,3.8,3.7,3.3,3.5,3.9,3.3,3.6,3.9,0.0,4.0,4.0,4.3,4.0,2.6,0.0,0.0,0.0,4.0,0.0,0.0,0.0,0.0,0.0,0.0,0.0,0.0,0.0,0.0,0.0,0.0,0.0,0.0,3.9,0.0,0.0,0.0,0.0,3.6,3.8,0.0,0.0,3.7,0.0,2.9,0.0,0.0,3.5,3.0,0.0,3.2,0.0,3.4,0.0,2.9,0.0,0.0,0.0,3.8,0.0,0.0,4.0,0.0,3.1,0.0,3.6,3.6,0.0,0.0,0.0,0.0,3.2,0.0,0.0,3.4,3.9,3.2,4.0,0.0,0.0,0.0,3.5,0.0,3.7,0.0,0.0,0.0,4.0,3.8,0.0,3.7,0.0,0.0,2.8,0.0,0.0,3.6,0.0,0.0,3.1,0.0,0.0,0.0,0.0,0.0,0.0,3.4,0.0,0.0,3.5,0.0,4.0,3.2,0.0,4.0,3.8,3.6,0.0,0.0,3.9,4.0,0.0,3.3,0.0,0.0,0.0,0.0,0.0,4.0,0.0,0.0,0.0,0.0,0.0,0.0,0.0,0.0,0.0,0.0,3.4,0.0,0.0,0.0,3.9,0.0,0.0,0.0,0.0,0.0,0.0,0.0,3.7,0.0,3.5,0.0,3.7,0.0,0.0,0.0,0.0,3.5,0.0,0.0,0.0,0.0,4.0,3.9,0.0,0.0,0.0,0.0,0.0,3.5,0.0,0.0,0.0,0.0,0.0,3.2,0.0,4.0,0.0,0.0,0.0,3.5,3.4,0.0,3.3,3.8,0.0,0.0,3.4,4.0,0.0,3.0,0.0,0.0,0.0,3.7,0.0,0.0,0.0,0.0,0.0,0.0,0.0,0.0,3.5,0.0,0.0,0.0,0.0,3.5,4.0,0.0,0.0,0.0,0.0,0.0,0.0,0.0,3.9,0.0,0.0,0.0,0.0,0.0,0.0,0.0,0.0,0.0,3.0,0.0,0.0,0.0,0.0,0.0,0.0,0.0,0.0,0.0,0.0,0.0,0.0,0.0,0.0,0.0,0.0,0.0,3.4,0.0,0.0,0.0,0.0,0.0,0.0,0.0,0.0,0.0,0.0,0.0,3.1,3.5,0.0,0.0,3.4,4.3,3.6,4.3,3.9,4.2,4.2,3.4,4.2,3.9,3.5,3.4,3.7,4.4,4.1,3.3,3.7,4.2,3.8,4.1,3.6,3.6,3.7,3.4,3.6,3.2,3.9,3.4,4.1,3.9,3.7,3.7,3.9,3.6,3.6,3.5,4.0,0.0,4.0,3.9,4.0,4.0,0.0,3.2,3.9,3.9,3.9,4.0,3.7,3.7,3.9,3.9,3.9,3.8,3.5,3.8,0.0,3.3,4.1,3.1,3.5,0.0,0.0,0.0,3.9,3.4,0.0,3.8,3.3,4.0,0.0,3.6,2.6,0.0,3.4,0.0,3.5,3.7,3.4,4.0,3.2,3.6,0.0,4.1,3.0,3.4,3.1,4.0,4.0,3.6,0.0,4.2,0.0,3.1,0.0,0.0,0.0,3.9,4.0,4.2,3.9,4.0,3.7,4.1,4.3,4.2,4.4,4.1,3.9,4.3,4.2,4.0,4.0,4.3,4.5,4.0,3.8,3.7,3.9,4.1,4.2,4.1,3.8,3.9,4.1,4.3,3.9,3.9,3.8,4.2,3.5,3.8,4.2,3.8,3.8,4.1,0.0,3.8,4.0,3.5,3.9,3.9,3.9,3.8,4.1,4.5,3.8,4.1,3.8,4.3,3.8,3.7,4.0,3.6,4.0,3.9,4.2,4.1,3.8,4.1,3.9,4.0,3.7,4.5,4.2,4.0,4.0,4.0,3.9,4.3,3.9,3.8,4.0,4.3,3.6,0.0,3.6,3.6,4.0,3.7,0.0,0.0,3.5,3.1,0.0,3.8,3.8,3.5,3.9,3.6,3.7,4.3,3.7,3.3,0.0,3.4,4.3,4.0,4.0,0.0,3.1,3.3,4.1,4.0,4.0,4.0,3.7,3.4,3.9,4.1,3.5,3.7,4.3,3.5,3.6,3.4,4.0,3.8,2.9,4.1,4.0,4.3,0.0,4.2,3.9,3.5,3.5,3.7,4.3,3.7,4.2,3.6,0.0,4.2,3.9,4.3,3.9,4.2,3.7,4.5,3.9,4.3,3.7,4.1,3.6,4.2,4.1,4.0,4.2,3.9,4.1,4.2,4.0,3.8,4.1,3.5,4.0,4.2,3.6,4.0,4.1,4.6,3.8,4.3,4.1,3.8,3.3,3.9,3.8,4.1,4.0,4.2,4.3,3.7,3.7,4.0,4.1,3.7,3.6,3.8,4.3,0.0,4.0,4.3,3.8,4.2,3.7,3.1,3.3,4.0,3.1,4.0,3.8,3.7,3.1,3.6,4.0,0.0,0.0,4.0,4.0,0.0,0.0,4.0,3.8,4.0,4.3,4.3,0.0,4.2,3.7,3.9,3.6,3.7,4.2,4.1,4.3,4.5,4.0,4.3,4.1,4.4,4.5,4.2,4.5,3.9,3.6,3.9,3.8,3.9,4.2,3.7,4.0,3.6,4.2,4.0,3.8,3.9,4.4,4.2,4.3,4.4,4.2,3.8,4.1,4.0,4.2,3.8,4.0,4.3,4.0,4.3,4.1,4.4,4.0,4.1,3.8,3.4,4.2,3.8,4.3,4.0,4.3,4.2,4.2,3.2,4.2,4.0,3.7,4.0,4.2,4.2,3.8,4.0,4.1,3.8,4.4,3.9,3.8,4.0,3.3,3.7,4.0,4.1,4.0,4.1,4.1,4.3,3.5,4.0,3.9,4.0,3.8,3.8,3.8,4.0,4.1,4.0,3.9,3.7,3.5,4.0,4.1,4.1,4.0,4.3,4.0,4.3,3.9,3.7,4.4,4.1,3.8,3.9,3.8,4.3,3.9,3.7,3.5,4.3,3.9,3.7,3.7,4.0,3.7,4.2,3.9,4.1,4.2,3.4,4.4,4.2,3.4,3.9,4.2,4.3,3.9,3.6,3.2,4.3,4.3,4.1,4.0,4.0,4.3,3.9,4.4,3.5,3.9,4.0,3.6,3.7,3.7,3.8,4.2,4.0,4.1,3.7,4.0,3.6,3.6,3.7,3.7,4.2,3.6,4.3,4.1,3.9,3.5,4.3,3.5,4.1,3.6,3.8,3.8,4.0,0.0,3.6,3.3,4.3,4.3,3.8,4.2,3.7,3.3,4.0,3.7,4.0,3.9,4.1,3.9,3.9,4.3,3.7,4.0,4.3,3.9,4.3,4.0,4.2,3.6,4.0,3.8,3.8,4.0,4.1,4.0,3.4,3.4,3.1,4.0,3.1,3.7,3.6,3.7,0.0,4.1,0.0,0.0,4.0,3.8,4.0,4.0,0.0,3.4,3.6,3.2,3.7,2.9,3.8,4.4,3.2,3.8,4.0,3.9,3.4,4.3,4.3,0.0,4.3,3.5,4.3,4.0,4.0,4.0,3.3,4.1,3.2,0.0,3.3,3.9,3.9,3.4,3.2,4.1,4.0,4.4,3.4,0.0,0.0,0.0,3.9,3.7,4.0,3.6,4.0,3.9,4.0,0.0,4.0,3.2,4.1,4.2,4.0,0.0,3.8,4.0,4.0,3.1,3.5,3.6,3.7,3.6,4.0,3.7,3.7,3.8,4.2,3.7,3.4,4.0,3.2,0.0,4.0,0.0,0.0,0.0,0.0,0.0,3.1,4.1,0.0,0.0,0.0,3.6,2.9,3.4,0.0,3.3,0.0,2.9,3.3,0.0,3.7,0.0,0.0,0.0,0.0,0.0,0.0,0.0,0.0,3.3,3.9,3.3,0.0,4.0,4.0,4.0,4.0,3.5,3.6,3.6,4.0,4.1,0.0,0.0,3.8,4.0,4.0,3.6,0.0,4.0,0.0,4.0,0.0,3.6,3.6,3.9,4.0,3.4,0.0,0.0,3.3,4.0,4.3,0.0,3.1,3.7,4.0,3.2,0.0,3.2,4.0,3.2,4.0,0.0,4.3,0.0,4.0,3.9,4.0,0.0,0.0,0.0,2.9,3.7,4.0,4.0,0.0,3.5,0.0,4.0,2.6,3.4,3.5,0.0,3.6,0.0,0.0,3.9,3.8,0.0,0.0,4.0,0.0,3.6,3.2,4.0,0.0,3.5,4.0,0.0,4.3,4.2,3.8,3.7,4.1,3.6,4.2,4.1,4.0,3.7,4.3,0.0,0.0,4.4,3.8,0.0,4.0,4.1,3.3,4.3,0.0,3.4,3.5,0.0,4.0,3.6,4.0,0.0,3.7,4.0,4.2,4.0,3.7,0.0,0.0,0.0,0.0,0.0,0.0,3.5,0.0,0.0,0.0,0.0,0.0,4.3,0.0,4.3,4.1,4.0,4.3,4.6,3.8,4.4,3.8,4.1,4.0,4.3,4.5,4.2,3.2,0.0,3.0,4.1,3.8,3.5,0.0,0.0,4.1,3.3,3.2,3.3,3.0,0.0,4.0,2.8,0.0,0.0,0.0,0.0,0.0,0.0,0.0,0.0,0.0,0.0,3.7,4.1,4.6,3.9,3.9,3.7,4.1,4.4,3.3,3.1,3.7,4.0,0.0,0.0,0.0,0.0,4.0,4.1,3.9,4.2,3.9,0.0,4.0,0.0,0.0,0.0,0.0,3.4,3.9,4.2,2.9,3.8,4.3,4.0,3.7,4.4,3.0,4.2,3.8,3.9,4.0,3.7,4.3,4.4,4.1,4.0,4.6,4.2,4.0,4.1,4.2,4.2,4.0,3.7,3.3,4.0,3.6,4.3,3.8,3.9,4.1,3.9,4.1,4.2,4.1,4.4,3.7,4.1,4.3,3.6,4.0,3.8,0.0,4.0,4.3,3.9,3.9,4.2,3.7,4.2,4.1,3.6,0.0,3.7,3.8,4.0,4.0,3.7,4.0,4.0,3.7,3.8,4.0,4.0,0.0,3.9,0.0,0.0,4.1,4.1,4.1,0.0,0.0,0.0,0.0,3.7,0.0,4.0,3.6,4.0,3.9,4.0,4.3,3.5,4.1,4.1,4.1,4.1,4.2,3.9,3.5,4.2,4.0,3.5,4.3,3.5,4.5,4.4,4.1,4.0,4.5,3.9,3.8,4.1,4.2,3.8,3.7,4.4,3.7,3.4,3.5,4.4,4.4,3.9,4.0,3.9,4.0,3.9,4.1,4.0,3.8,4.2,4.0,2.9,4.0,4.3,4.1,4.0,3.5,3.7,4.3,3.8,3.9,4.2,3.9,4.3,4.2,4.0,4.3,3.4,4.4,4.1,4.0,4.0,4.2,3.8,4.1,4.5,4.1,4.1,4.0,4.0,4.3,3.4,3.8,4.2,3.6,4.3,3.9,4.0,3.8,3.7,4.0,3.9,4.1,3.9,4.2,4.2,4.1,4.2,3.9,3.9,3.9,4.2,3.9,4.2,3.7,3.7,3.4,3.5,4.4,4.2,3.6,4.1,4.1,3.7,4.0,3.5,3.7,4.1,3.9,4.3,4.1,4.2,4.5,4.1,4.0,3.4,3.4,3.9,4.0,3.4,4.2,3.9,4.1,4.2,3.7,4.2,4.2,4.1,4.0,4.1,3.8,3.8,4.2,3.6,4.0,3.8,4.2,4.3,3.7,4.1,3.8,3.9,3.9,3.5,4.4,3.6,4.2,4.0,3.8,4.0,4.1,4.3,3.3,4.3,4.3,4.0,3.7,3.9,3.7,3.7,3.8,3.6,4.0,4.1,3.5,3.4,3.4,3.9,4.1,4.2,4.0,3.9,3.6,4.0,4.0,4.1,4.4,4.3,3.5,4.4,3.9,4.3,3.8,4.5,4.0,4.0,3.8,4.2,4.0,4.3,3.8,3.1,4.2,3.8,3.7,3.7,3.6,3.8,3.9,3.7,3.7,3.6,4.1,4.1,4.4,4.1,3.8,4.3,4.3,4.2,3.7,4.0,4.0,4.1,4.0,3.7,3.8,4.0,3.7,4.1,4.1,4.1,4.0,3.8,3.5,4.0,3.7,0.0,4.1,4.3,4.2,3.2,4.0,3.3,4.0,3.4,0.0,3.1,4.0,4.3,0.0,3.8,3.8,4.2,3.9,4.3,3.8,4.0,3.6,3.4,3.7,4.5,3.9,0.0,3.6,4.3,4.2,3.9,3.7,3.9,4.3,3.8,4.0,0.0,4.0,3.8,3.6,3.8,3.5,3.7,4.0,4.3,3.8,0.0,4.0,4.0,0.0,4.0,3.9,0.0,4.1,3.7,4.3,4.1,4.0,4.4,4.3,3.6,4.0,4.3,3.8,3.9,3.5,4.2,4.2,3.8,3.2,3.5,3.8,0.0,3.6,3.7,4.3,4.0,4.1,3.6,0.0,0.0,4.0,3.5,0.0,3.3,3.8,0.0,4.0,3.9,4.3,4.0,3.9,4.1,4.0,3.7,4.3,4.0,0.0,0.0,0.0,3.7,0.0,4.3,3.8,0.0,0.0,0.0,0.0,0.0,0.0,3.5,0.0,0.0,4.4,4.2,4.1,4.2,3.9,4.1,4.5,4.1,4.4,4.1,4.2,4.2,4.0,4.0,4.3,3.9,3.7,4.2,4.0,4.2,3.9,3.8,4.2,4.3,4.0,3.9,3.9,3.9,4.4,4.0,4.0,3.9,4.0,0.0,4.2,4.0,3.8,0.0,3.7,3.8,3.7,0.0,0.0,3.2,3.9,3.3,0.0,0.0,3.7,3.8,4.0,0.0,0.0,4.0,0.0,3.7,4.0,0.0,3.8,4.1,3.9,4.2,4.2,4.4,3.8,4.0,4.3,3.7,4.0,3.4,3.8,4.6,3.8,4.3,4.3,4.2,4.2,4.4,4.0,4.2,4.6,3.6,3.9,4.1,4.2,4.2,4.2,4.0,4.1,4.0,3.4,3.9,4.0,4.3,4.1,3.6,4.1,4.3,4.0,3.9,4.1,4.1,4.2,4.1,3.7,3.7,3.8,3.6,4.1,4.2,4.0,4.0,3.6,4.0,4.1,4.1,4.1,4.1,3.8,3.8,4.1,3.6,4.0,3.7,0.0,4.0,4.3,4.1,3.6,4.1,4.2,3.4,3.2,3.9,0.0,3.3,3.8,4.3,0.0,4.0,0.0,3.7,4.0,3.7,3.4,4.2,4.3,3.7,4.0,3.7,0.0,0.0,0.0,4.0,4.0,4.2,4.0,4.0,0.0,0.0,4.3,4.3,3.4,0.0,3.3,4.1,4.0,4.0,4.1,0.0,0.0,3.7,0.0,0.0,3.9,3.8,4.3,3.6,4.0,0.0,0.0,3.1,0.0,0.0,0.0,3.9,4.0,4.0,4.2,4.3,3.7,0.0,0.0,3.6,0.0,4.5,4.3,4.0,0.0,3.4,3.4,4.2,0.0,0.0,0.0,0.0,0.0,0.0,0.0,0.0,3.5,0.0,0.0,0.0,0.0,0.0,3.7,0.0,4.0,4.0,0.0,3.1,0.0,0.0,4.0,0.0,4.0,3.8,3.9,4.0,3.7,4.1,3.7,4.0,0.0,3.7,4.2,3.9,0.0,3.4,4.3,0.0,4.0,0.0,3.8,0.0,3.4,4.1,3.6,4.0,3.9,4.0,4.0,3.6,0.0,4.0,3.8,4.1,3.6,4.1,3.7,4.0,4.1,3.9,4.4,4.3,4.0,3.7,4.0,3.8,4.2,3.9,4.3,4.0,4.4,3.8,3.7,4.2,4.0,3.8,4.2,3.5,4.0,3.6,3.8,4.2,4.0,3.7,4.1,4.1,3.6,4.0,4.3,4.2,3.6,4.0,0.0,3.2,3.7,3.1,3.2,3.5,4.0,3.2,0.0,0.0,0.0,3.1,0.0,0.0,4.3,0.0,4.0,4.0,3.7,3.6,0.0,3.1,4.0,3.8,4.3,3.5,0.0,0.0,0.0,0.0,3.5,0.0,0.0,2.9,3.5,3.3,3.4,3.6,3.4,3.5,0.0,0.0,0.0,0.0,0.0,4.1,3.2,4.3,3.6,4.1,4.2,3.8,4.2,3.9,3.8,3.9,3.8,4.1,3.9,3.5,3.6,3.8,4.1,3.1,3.1,3.5,3.5,4.2,4.0,3.9,3.9,3.5,3.9,0.0,3.3,3.4,4.0,3.3,3.6,3.4,0.0,4.2,3.6,0.0,3.8,3.7,0.0,3.8,4.0,3.5,4.0,3.9,3.8,4.0,0.0,0.0,0.0,0.0,0.0,4.0,3.8,3.9,3.6,4.2,0.0,0.0,3.6,3.6,4.2,4.3,3.9,0.0,0.0,0.0,4.0,0.0,3.8,3.3,4.1,4.4,0.0,4.0,4.0,3.6,4.0,4.2,0.0,0.0,4.2,4.2,4.4,4.0,3.9,3.7,4.3,4.3,4.5,4.1,4.0,4.3,4.2,3.8,4.0,3.7,4.5,4.3,4.3,3.8,3.9,4.2,4.3,3.8,3.9,3.6,4.4,3.6,4.0,3.7,4.3,3.8,4.0,4.0,3.5,3.2,3.5,4.1,4.3,4.1,4.0,3.9,4.0,4.1,4.3,3.9,4.1,4.0,3.8,4.0,4.2,3.8,4.3,4.1,3.9,3.4,3.7,3.4,4.3,4.0,4.1,3.4,0.0,3.8,3.8,4.3,4.2,4.0,4.3,3.7,3.5,0.0],\"xaxis\":\"x\",\"yaxis\":\"y\",\"type\":\"histogram\"}],                        {\"template\":{\"data\":{\"barpolar\":[{\"marker\":{\"line\":{\"color\":\"white\",\"width\":0.5},\"pattern\":{\"fillmode\":\"overlay\",\"size\":10,\"solidity\":0.2}},\"type\":\"barpolar\"}],\"bar\":[{\"error_x\":{\"color\":\"rgb(36,36,36)\"},\"error_y\":{\"color\":\"rgb(36,36,36)\"},\"marker\":{\"line\":{\"color\":\"white\",\"width\":0.5},\"pattern\":{\"fillmode\":\"overlay\",\"size\":10,\"solidity\":0.2}},\"type\":\"bar\"}],\"carpet\":[{\"aaxis\":{\"endlinecolor\":\"rgb(36,36,36)\",\"gridcolor\":\"white\",\"linecolor\":\"white\",\"minorgridcolor\":\"white\",\"startlinecolor\":\"rgb(36,36,36)\"},\"baxis\":{\"endlinecolor\":\"rgb(36,36,36)\",\"gridcolor\":\"white\",\"linecolor\":\"white\",\"minorgridcolor\":\"white\",\"startlinecolor\":\"rgb(36,36,36)\"},\"type\":\"carpet\"}],\"choropleth\":[{\"colorbar\":{\"outlinewidth\":1,\"tickcolor\":\"rgb(36,36,36)\",\"ticks\":\"outside\"},\"type\":\"choropleth\"}],\"contourcarpet\":[{\"colorbar\":{\"outlinewidth\":1,\"tickcolor\":\"rgb(36,36,36)\",\"ticks\":\"outside\"},\"type\":\"contourcarpet\"}],\"contour\":[{\"colorbar\":{\"outlinewidth\":1,\"tickcolor\":\"rgb(36,36,36)\",\"ticks\":\"outside\"},\"colorscale\":[[0.0,\"#440154\"],[0.1111111111111111,\"#482878\"],[0.2222222222222222,\"#3e4989\"],[0.3333333333333333,\"#31688e\"],[0.4444444444444444,\"#26828e\"],[0.5555555555555556,\"#1f9e89\"],[0.6666666666666666,\"#35b779\"],[0.7777777777777778,\"#6ece58\"],[0.8888888888888888,\"#b5de2b\"],[1.0,\"#fde725\"]],\"type\":\"contour\"}],\"heatmapgl\":[{\"colorbar\":{\"outlinewidth\":1,\"tickcolor\":\"rgb(36,36,36)\",\"ticks\":\"outside\"},\"colorscale\":[[0.0,\"#440154\"],[0.1111111111111111,\"#482878\"],[0.2222222222222222,\"#3e4989\"],[0.3333333333333333,\"#31688e\"],[0.4444444444444444,\"#26828e\"],[0.5555555555555556,\"#1f9e89\"],[0.6666666666666666,\"#35b779\"],[0.7777777777777778,\"#6ece58\"],[0.8888888888888888,\"#b5de2b\"],[1.0,\"#fde725\"]],\"type\":\"heatmapgl\"}],\"heatmap\":[{\"colorbar\":{\"outlinewidth\":1,\"tickcolor\":\"rgb(36,36,36)\",\"ticks\":\"outside\"},\"colorscale\":[[0.0,\"#440154\"],[0.1111111111111111,\"#482878\"],[0.2222222222222222,\"#3e4989\"],[0.3333333333333333,\"#31688e\"],[0.4444444444444444,\"#26828e\"],[0.5555555555555556,\"#1f9e89\"],[0.6666666666666666,\"#35b779\"],[0.7777777777777778,\"#6ece58\"],[0.8888888888888888,\"#b5de2b\"],[1.0,\"#fde725\"]],\"type\":\"heatmap\"}],\"histogram2dcontour\":[{\"colorbar\":{\"outlinewidth\":1,\"tickcolor\":\"rgb(36,36,36)\",\"ticks\":\"outside\"},\"colorscale\":[[0.0,\"#440154\"],[0.1111111111111111,\"#482878\"],[0.2222222222222222,\"#3e4989\"],[0.3333333333333333,\"#31688e\"],[0.4444444444444444,\"#26828e\"],[0.5555555555555556,\"#1f9e89\"],[0.6666666666666666,\"#35b779\"],[0.7777777777777778,\"#6ece58\"],[0.8888888888888888,\"#b5de2b\"],[1.0,\"#fde725\"]],\"type\":\"histogram2dcontour\"}],\"histogram2d\":[{\"colorbar\":{\"outlinewidth\":1,\"tickcolor\":\"rgb(36,36,36)\",\"ticks\":\"outside\"},\"colorscale\":[[0.0,\"#440154\"],[0.1111111111111111,\"#482878\"],[0.2222222222222222,\"#3e4989\"],[0.3333333333333333,\"#31688e\"],[0.4444444444444444,\"#26828e\"],[0.5555555555555556,\"#1f9e89\"],[0.6666666666666666,\"#35b779\"],[0.7777777777777778,\"#6ece58\"],[0.8888888888888888,\"#b5de2b\"],[1.0,\"#fde725\"]],\"type\":\"histogram2d\"}],\"histogram\":[{\"marker\":{\"line\":{\"color\":\"white\",\"width\":0.6}},\"type\":\"histogram\"}],\"mesh3d\":[{\"colorbar\":{\"outlinewidth\":1,\"tickcolor\":\"rgb(36,36,36)\",\"ticks\":\"outside\"},\"type\":\"mesh3d\"}],\"parcoords\":[{\"line\":{\"colorbar\":{\"outlinewidth\":1,\"tickcolor\":\"rgb(36,36,36)\",\"ticks\":\"outside\"}},\"type\":\"parcoords\"}],\"pie\":[{\"automargin\":true,\"type\":\"pie\"}],\"scatter3d\":[{\"line\":{\"colorbar\":{\"outlinewidth\":1,\"tickcolor\":\"rgb(36,36,36)\",\"ticks\":\"outside\"}},\"marker\":{\"colorbar\":{\"outlinewidth\":1,\"tickcolor\":\"rgb(36,36,36)\",\"ticks\":\"outside\"}},\"type\":\"scatter3d\"}],\"scattercarpet\":[{\"marker\":{\"colorbar\":{\"outlinewidth\":1,\"tickcolor\":\"rgb(36,36,36)\",\"ticks\":\"outside\"}},\"type\":\"scattercarpet\"}],\"scattergeo\":[{\"marker\":{\"colorbar\":{\"outlinewidth\":1,\"tickcolor\":\"rgb(36,36,36)\",\"ticks\":\"outside\"}},\"type\":\"scattergeo\"}],\"scattergl\":[{\"marker\":{\"colorbar\":{\"outlinewidth\":1,\"tickcolor\":\"rgb(36,36,36)\",\"ticks\":\"outside\"}},\"type\":\"scattergl\"}],\"scattermapbox\":[{\"marker\":{\"colorbar\":{\"outlinewidth\":1,\"tickcolor\":\"rgb(36,36,36)\",\"ticks\":\"outside\"}},\"type\":\"scattermapbox\"}],\"scatterpolargl\":[{\"marker\":{\"colorbar\":{\"outlinewidth\":1,\"tickcolor\":\"rgb(36,36,36)\",\"ticks\":\"outside\"}},\"type\":\"scatterpolargl\"}],\"scatterpolar\":[{\"marker\":{\"colorbar\":{\"outlinewidth\":1,\"tickcolor\":\"rgb(36,36,36)\",\"ticks\":\"outside\"}},\"type\":\"scatterpolar\"}],\"scatter\":[{\"fillpattern\":{\"fillmode\":\"overlay\",\"size\":10,\"solidity\":0.2},\"type\":\"scatter\"}],\"scatterternary\":[{\"marker\":{\"colorbar\":{\"outlinewidth\":1,\"tickcolor\":\"rgb(36,36,36)\",\"ticks\":\"outside\"}},\"type\":\"scatterternary\"}],\"surface\":[{\"colorbar\":{\"outlinewidth\":1,\"tickcolor\":\"rgb(36,36,36)\",\"ticks\":\"outside\"},\"colorscale\":[[0.0,\"#440154\"],[0.1111111111111111,\"#482878\"],[0.2222222222222222,\"#3e4989\"],[0.3333333333333333,\"#31688e\"],[0.4444444444444444,\"#26828e\"],[0.5555555555555556,\"#1f9e89\"],[0.6666666666666666,\"#35b779\"],[0.7777777777777778,\"#6ece58\"],[0.8888888888888888,\"#b5de2b\"],[1.0,\"#fde725\"]],\"type\":\"surface\"}],\"table\":[{\"cells\":{\"fill\":{\"color\":\"rgb(237,237,237)\"},\"line\":{\"color\":\"white\"}},\"header\":{\"fill\":{\"color\":\"rgb(217,217,217)\"},\"line\":{\"color\":\"white\"}},\"type\":\"table\"}]},\"layout\":{\"annotationdefaults\":{\"arrowhead\":0,\"arrowwidth\":1},\"autotypenumbers\":\"strict\",\"coloraxis\":{\"colorbar\":{\"outlinewidth\":1,\"tickcolor\":\"rgb(36,36,36)\",\"ticks\":\"outside\"}},\"colorscale\":{\"diverging\":[[0.0,\"rgb(103,0,31)\"],[0.1,\"rgb(178,24,43)\"],[0.2,\"rgb(214,96,77)\"],[0.3,\"rgb(244,165,130)\"],[0.4,\"rgb(253,219,199)\"],[0.5,\"rgb(247,247,247)\"],[0.6,\"rgb(209,229,240)\"],[0.7,\"rgb(146,197,222)\"],[0.8,\"rgb(67,147,195)\"],[0.9,\"rgb(33,102,172)\"],[1.0,\"rgb(5,48,97)\"]],\"sequential\":[[0.0,\"#440154\"],[0.1111111111111111,\"#482878\"],[0.2222222222222222,\"#3e4989\"],[0.3333333333333333,\"#31688e\"],[0.4444444444444444,\"#26828e\"],[0.5555555555555556,\"#1f9e89\"],[0.6666666666666666,\"#35b779\"],[0.7777777777777778,\"#6ece58\"],[0.8888888888888888,\"#b5de2b\"],[1.0,\"#fde725\"]],\"sequentialminus\":[[0.0,\"#440154\"],[0.1111111111111111,\"#482878\"],[0.2222222222222222,\"#3e4989\"],[0.3333333333333333,\"#31688e\"],[0.4444444444444444,\"#26828e\"],[0.5555555555555556,\"#1f9e89\"],[0.6666666666666666,\"#35b779\"],[0.7777777777777778,\"#6ece58\"],[0.8888888888888888,\"#b5de2b\"],[1.0,\"#fde725\"]]},\"colorway\":[\"#1F77B4\",\"#FF7F0E\",\"#2CA02C\",\"#D62728\",\"#9467BD\",\"#8C564B\",\"#E377C2\",\"#7F7F7F\",\"#BCBD22\",\"#17BECF\"],\"font\":{\"color\":\"rgb(36,36,36)\"},\"geo\":{\"bgcolor\":\"white\",\"lakecolor\":\"white\",\"landcolor\":\"white\",\"showlakes\":true,\"showland\":true,\"subunitcolor\":\"white\"},\"hoverlabel\":{\"align\":\"left\"},\"hovermode\":\"closest\",\"mapbox\":{\"style\":\"light\"},\"paper_bgcolor\":\"white\",\"plot_bgcolor\":\"white\",\"polar\":{\"angularaxis\":{\"gridcolor\":\"rgb(232,232,232)\",\"linecolor\":\"rgb(36,36,36)\",\"showgrid\":false,\"showline\":true,\"ticks\":\"outside\"},\"bgcolor\":\"white\",\"radialaxis\":{\"gridcolor\":\"rgb(232,232,232)\",\"linecolor\":\"rgb(36,36,36)\",\"showgrid\":false,\"showline\":true,\"ticks\":\"outside\"}},\"scene\":{\"xaxis\":{\"backgroundcolor\":\"white\",\"gridcolor\":\"rgb(232,232,232)\",\"gridwidth\":2,\"linecolor\":\"rgb(36,36,36)\",\"showbackground\":true,\"showgrid\":false,\"showline\":true,\"ticks\":\"outside\",\"zeroline\":false,\"zerolinecolor\":\"rgb(36,36,36)\"},\"yaxis\":{\"backgroundcolor\":\"white\",\"gridcolor\":\"rgb(232,232,232)\",\"gridwidth\":2,\"linecolor\":\"rgb(36,36,36)\",\"showbackground\":true,\"showgrid\":false,\"showline\":true,\"ticks\":\"outside\",\"zeroline\":false,\"zerolinecolor\":\"rgb(36,36,36)\"},\"zaxis\":{\"backgroundcolor\":\"white\",\"gridcolor\":\"rgb(232,232,232)\",\"gridwidth\":2,\"linecolor\":\"rgb(36,36,36)\",\"showbackground\":true,\"showgrid\":false,\"showline\":true,\"ticks\":\"outside\",\"zeroline\":false,\"zerolinecolor\":\"rgb(36,36,36)\"}},\"shapedefaults\":{\"fillcolor\":\"black\",\"line\":{\"width\":0},\"opacity\":0.3},\"ternary\":{\"aaxis\":{\"gridcolor\":\"rgb(232,232,232)\",\"linecolor\":\"rgb(36,36,36)\",\"showgrid\":false,\"showline\":true,\"ticks\":\"outside\"},\"baxis\":{\"gridcolor\":\"rgb(232,232,232)\",\"linecolor\":\"rgb(36,36,36)\",\"showgrid\":false,\"showline\":true,\"ticks\":\"outside\"},\"bgcolor\":\"white\",\"caxis\":{\"gridcolor\":\"rgb(232,232,232)\",\"linecolor\":\"rgb(36,36,36)\",\"showgrid\":false,\"showline\":true,\"ticks\":\"outside\"}},\"title\":{\"x\":0.05},\"xaxis\":{\"automargin\":true,\"gridcolor\":\"rgb(232,232,232)\",\"linecolor\":\"rgb(36,36,36)\",\"showgrid\":false,\"showline\":true,\"ticks\":\"outside\",\"title\":{\"standoff\":15},\"zeroline\":false,\"zerolinecolor\":\"rgb(36,36,36)\"},\"yaxis\":{\"automargin\":true,\"gridcolor\":\"rgb(232,232,232)\",\"linecolor\":\"rgb(36,36,36)\",\"showgrid\":false,\"showline\":true,\"ticks\":\"outside\",\"title\":{\"standoff\":15},\"zeroline\":false,\"zerolinecolor\":\"rgb(36,36,36)\"}}},\"xaxis\":{\"anchor\":\"y\",\"domain\":[0.0,1.0],\"title\":{\"text\":\"Delivery Ratings\"}},\"yaxis\":{\"anchor\":\"x\",\"domain\":[0.0,1.0],\"title\":{\"text\":\"count\"}},\"legend\":{\"tracegroupgap\":0},\"margin\":{\"t\":60},\"barmode\":\"relative\"},                        {\"responsive\": true}                    ).then(function(){\n",
       "                            \n",
       "var gd = document.getElementById('fd85b187-37bd-42e7-8eca-31d7687f4742');\n",
       "var x = new MutationObserver(function (mutations, observer) {{\n",
       "        var display = window.getComputedStyle(gd).display;\n",
       "        if (!display || display === 'none') {{\n",
       "            console.log([gd, 'removed!']);\n",
       "            Plotly.purge(gd);\n",
       "            observer.disconnect();\n",
       "        }}\n",
       "}});\n",
       "\n",
       "// Listen for the removal of the full notebook cells\n",
       "var notebookContainer = gd.closest('#notebook-container');\n",
       "if (notebookContainer) {{\n",
       "    x.observe(notebookContainer, {childList: true});\n",
       "}}\n",
       "\n",
       "// Listen for the clearing of the current output cell\n",
       "var outputEl = gd.closest('.output');\n",
       "if (outputEl) {{\n",
       "    x.observe(outputEl, {childList: true});\n",
       "}}\n",
       "\n",
       "                        })                };                });            </script>        </div>"
      ]
     },
     "metadata": {},
     "output_type": "display_data"
    },
    {
     "data": {
      "text/html": [
       "<div>                            <div id=\"c75346a8-3a77-43fc-9e62-5295e3fcc2a3\" class=\"plotly-graph-div\" style=\"height:525px; width:100%;\"></div>            <script type=\"text/javascript\">                require([\"plotly\"], function(Plotly) {                    window.PLOTLYENV=window.PLOTLYENV || {};                                    if (document.getElementById(\"c75346a8-3a77-43fc-9e62-5295e3fcc2a3\")) {                    Plotly.newPlot(                        \"c75346a8-3a77-43fc-9e62-5295e3fcc2a3\",                        [{\"alignmentgroup\":\"True\",\"bingroup\":\"x\",\"hovertemplate\":\"AverageCost=%{x}<br>count=%{y}<extra></extra>\",\"legendgroup\":\"\",\"marker\":{\"color\":\"#1F77B4\",\"pattern\":{\"shape\":\"\"}},\"name\":\"\",\"offsetgroup\":\"\",\"orientation\":\"v\",\"showlegend\":false,\"x\":[450,700,300,400,400,100,400,400,800,150,200,300,250,250,200,200,800,300,1000,100,600,500,1500,400,400,500,400,500,450,350,800,800,200,700,50,400,100,800,400,400,350,800,700,500,300,400,800,300,350,250,200,100,800,800,700,200,800,300,800,1600,200,100,300,200,700,150,500,300,100,500,150,400,150,100,200,350,700,200,250,100,200,350,200,350,400,800,700,150,200,150,900,400,800,300,700,250,200,250,350,100,400,1000,400,400,250,100,350,1500,600,300,250,200,500,300,300,200,250,200,350,300,300,500,200,250,200,800,100,500,750,300,100,200,400,200,250,250,200,250,150,250,200,300,100,450,200,1200,300,350,150,600,500,400,300,1100,100,150,200,300,400,300,700,700,300,350,1000,350,100,350,250,250,900,800,200,200,800,400,350,1800,650,1200,300,800,100,800,150,250,800,300,800,600,700,400,150,600,200,400,300,800,300,200,150,150,300,150,300,200,650,250,200,150,400,400,200,300,350,50,300,300,1000,750,500,200,150,300,300,300,200,400,150,250,200,400,50,450,150,400,200,300,200,150,500,350,200,300,650,100,800,800,1500,300,300,500,200,200,400,1000,50,250,200,700,250,500,500,200,150,250,100,400,650,300,2000,350,300,200,200,500,300,500,200,50,500,2000,1500,200,450,100,500,400,300,150,800,1500,200,400,450,350,1100,400,250,250,500,300,150,100,500,200,200,1000,1400,150,1200,650,200,600,1200,300,250,250,600,200,200,1300,650,100,400,200,500,200,550,150,150,300,300,400,200,600,400,400,200,250,1400,400,800,400,200,600,1200,500,700,350,300,350,200,350,1100,150,900,500,300,300,450,700,650,1100,200,800,200,450,800,150,100,500,350,400,900,150,100,150,800,150,300,800,1000,400,600,100,300,300,200,300,100,200,1100,1200,450,800,500,1200,150,250,400,700,700,150,500,100,100,1300,800,100,550,400,1400,200,1500,150,150,400,100,300,400,200,200,300,1200,1500,300,250,200,1700,700,400,100,350,300,600,50,700,200,400,500,500,100,350,200,250,150,350,300,300,300,200,600,150,250,350,1100,800,250,800,350,900,150,200,1600,150,200,100,1000,2000,300,400,250,150,150,700,1000,800,600,1200,250,1100,300,100,100,800,500,400,100,200,400,200,200,550,200,400,100,100,100,350,300,800,200,600,300,300,100,500,1500,200,200,150,250,200,700,2000,1200,100,150,800,200,300,150,400,200,300,200,300,300,200,450,300,200,600,1100,1600,200,250,1000,250,300,700,200,1500,100,300,100,250,100,600,200,300,200,700,300,150,200,300,200,800,200,300,100,150,200,500,400,500,400,300,200,100,700,50,100,150,100,50,150,100,1600,200,150,100,100,1000,100,350,250,100,100,250,50,150,100,100,200,100,250,100,250,200,100,400,200,250,200,100,150,400,200,150,400,150,100,200,350,150,100,400,700,800,800,800,650,200,400,700,800,700,800,700,500,400,700,100,150,1500,400,400,400,400,750,150,500,400,250,400,200,150,400,250,150,500,300,200,400,300,350,500,150,600,200,250,200,100,150,900,800,400,800,1600,200,200,100,300,700,150,300,200,350,500,350,150,400,200,100,150,700,550,100,200,350,200,300,350,250,150,150,350,150,400,750,400,250,200,500,350,200,400,700,300,400,350,600,150,300,250,100,500,300,300,800,600,200,350,250,200,250,250,100,250,600,100,750,350,100,200,250,250,200,300,150,200,250,100,200,300,150,400,300,400,150,300,100,100,150,300,100,300,300,1000,200,1000,400,250,200,1000,500,500,200,600,250,800,200,400,1800,450,800,200,800,1000,150,150,300,200,250,200,600,350,400,150,600,150,150,300,150,300,300,400,150,150,150,300,300,150,150,200,200,350,200,150,200,800,300,200,400,200,300,400,300,200,500,900,150,150,600,450,400,150,250,200,200,500,350,500,200,200,150,550,1000,300,100,750,400,250,150,300,150,250,150,150,2000,350,350,300,300,50,2000,600,400,250,2000,1500,200,100,150,450,250,150,300,500,200,200,450,150,300,1500,200,100,600,800,150,2000,300,150,400,200,150,1000,350,400,150,150,400,700,400,350,350,200,200,350,300,400,350,350,400,150,200,350,1100,150,700,250,100,250,200,200,450,400,500,350,150,400,150,100,200,300,450,200,300,150,250,300,500,700,150,300,200,500,250,1400,350,100,200,1500,150,200,300,300,300,400,150,300,400,800,250,200,100,800,300,200,200,300,250,200,150,150,350,300,600,300,150,200,200,150,250,1400,300,150,150,200,250,250,350,200,250,150,200,400,400,2000,150,400,150,100,200,100,500,150,100,350,150,200,150,800,400,400,100,150,150,100,150,700,300,250,100,250,200,400,250,450,400,100,200,200,100,200,350,350,100,250,500,150,250,700,450,200,200,550,200,400,1200,300,100,400,100,150,200,150,250,150,1500,100,300,250,500,150,300,400,700,350,2500,500,350,500,150,700,700,350,250,1800,300,750,400,50,100,2000,1000,150,400,150,300,250,150,200,500,500,300,250,150,250,100,150,700,300,300,350,300,200,300,300,100,400,600,400,250,400,200,200,150,1600,500,350,150,400,500,450,150,100,350,100,250,150,1500,700,300,200,500,550,150,150,100,250,100,400,200,250,250,200,1000,400,400,300,400,250,100,300,300,750,800,400,2000,200,400,1300,2000,100,500,500,300,250,100,100,300,50,350,250,600,150,300,200,1200,400,150,200,200,250,500,250,400,250,300,150,100,100,350,250,300,300,250,300,150,250,100,250,1600,250,1600,200,150,400,600,300,100,300,400,100,150,1800,800,200,600,100,400,900,1500,300,300,200,350,200,250,350,200,1000,400,300,250,1800,100,200,150,150,300,150,100,250,200,400,250,150,1500,300,1500,300,250,500,200,100,200,100,150,450,150,350,250,1500,150,450,100,150,100,250,200,200,150,200,200,250,200,300,50,400,500,350,250,250,1000,300,200,350,150,50,250,200,150,100,300,100,150,150,250,500,350,600,1400,1500,150,250,300,250,400,400,400,350,150,200,250,150,50,200,200,200,100,250,100,550,100,400,150,50,100,200,400,50,50,300,200,400,100,250,50,150,200,100,150,150,400,250,100,100,550,600,100,200,250,300,250,100,150,100,150,100,350,300,250,200,50,100,250,100,250,100,150,250,150,100,200,100,300,200,350,300,200,250,100,100,200,150,200,200,150,100,150,50,150,400,200,150,50,50,250,150,150,100,400,600,300,300,100,300,800,200,200,150,100,150,150,150,1000,300,350,400,350,300,100,350,1000,250,400,400,400,100,250,50,100,400,800,150,500,400,50,350,250,800,250,100,800,300,250,200,300,100,100,400,100,250,200,100,350,800,300,200,200,200,350,100,350,400,400,400,200,150,350,150,700,250,450,200,150,250,500,300,650,450,200,600,300,150,700,150,800,250,200,300,150,750,350,200,200,300,150,150,100,400,400,250,100,300,300,250,600,100,250,250,400,300,750,400,500,400,200,2400,500,800,200,150,250,300,300,400,200,600,300,400,400,150,150,250,150,350,150,200,200,150,50,300,100,1200,200,100,500,400,350,800,100,100,100,250,200,500,100,500,400,100,550,550,200,300,150,1800,400,400,150,500,200,300,300,1500,400,800,1000,150,250,150,100,150,550,300,100,150,400,150,150,300,200,100,400,200,50,750,100,300,1300,300,200,350,300,150,500,200,700,100,350,150,800,100,300,300,150,300,500,200,400,150,100,550,200,150,350,100,150,350,300,150,350,500,500,300,300,100,1500,150,350,100,200,100,100,400,250,300,1500,300,350,250,500,150,300,200,200,150,100,300,200,200,500,500,50,100,100,200,250,600,400,350,500,300,500,150,1300,800,100,200,100,200,500,150,800,1100,350,100,200,300,200,400,550,200,150,100,400,150,150,200,250,250,500,250,300,400,800,300,600,200,100,100,200,150,100,400,1500,200,200,50,50,300,250,200,1500,150,200,200,250,200,150,50,150,100,100,300,300,150,150,550,100,400,350,150,300,150,250,100,50,200,150,300,1100,1700,150,200,100,300,250,50,200,150,250,200,300,400,150,200,300,100,250,150,300,250,250,100,500,500,150,50,1000,250,150,300,400,200,250,250,250,100,300,400,350,200,200,400,400,600,350,200,200,250,200,250,250,400,200,100,2000,800,150,250,250,200,1300,150,100,200,250,1300,2000,2800,150,250,200,150,500,2000,100,150,150,50,250,350,250,800,300,200,600,700,250,400,200,350,350,100,200,400,250,200,300,150,500,250,400,250,100,300,100,500,100,200,100,200,200,400,200,1600,1500,550,250,100,1600,350,250,1200,1600,2600,2000,1700,1500,1200,1700,2500,1600,300,300,500,150,200,150,150,100,250,100,100,300,700,400,100,600,200,150,200,500,300,100,150,200,250,250,100,250,350,250,250,100,250,200,500,250,500,300,550,250,250,250,250,250,350,200,250,250,250,200,300,250,250,400,1100,300,250,250,1200,300,150,150,150,400,350,250,250,1200,250,200,200,100,350,200,450,200,700,200,150,400,500,500,250,600,50,150,1100,150,400,600,400,600,500,500,200,700,100,500,600,250,200,200,600,100,300,350,50,250,500,150,750,350,250,250,150,100,600,250,200,450,250,150,250,250,200,250,250,250,250,250,300,250,300,250,300,150,350,250,350,100,150,150,250,200,550,200,250,100,500,250,100,300,250,250,300,300,300,250,350,250,300,50,250,250,100,250,100,250,200,300,250,100,250,350,300,200,250,250,200,250,250,250,250,400,300,150,200,200,100,250,250,200,250,100,250,400,200,150,300,250,250,250,200,150,200,100,150,300,350,150,100,200,250,200,150,200,450,150,150,150,250,400,250,250,150,250,250,200,250,200,250,300,300,100,200,250,200,150,150,100,800,700,700,600,700,150,1000,100,150,450,300,100,400,300,100,400,350,150,150,150,150,300,500,200,300,100,250,350,350,250,150,250,150,150,200,150,250,200,150,400,100,2000,350,1200,100,250,350,200,400,150,300,350,200,400,400,400,700,400,800,500,350,400,200,150,100,400,500,250,100,300,500,800,200,800,200,300,300,400,700,400,100,50,100,350,250,300,200,250,100,300,800,450,300,600,100,700,200,400,100,250,100,250,300,300,300,400,200,200,400,350,400,200,100,250,400,400,400,800,400,300,700,350,150,100,800,200,350,300,100,200,200,400,400,200,600,400,200,350,500,300,400,100,300,100,900,650,200,600,300,400,100,700,1600,400,100,150,250,800,100,200,300,500,100,250,300,50,200,200,100,300,800,150,350,500,150,300,200,200,600,50,200,50,500,250,150,150,600,400,200,900,250,350,450,350,400,300,200,250,600,150,800,350,300,200,300,100,250,250,400,400,200,500,350,250,400,400,400,100,250,300,300,150,2400,500,300,400,1000,400,800,300,200,400,250,500,600,300,250,600,700,100,800,300,500,400,200,50,150,300,300,150,300,200,1000,50,350,200,1200,450,200,250,150,200,400,150,350,150,300,300,200,150,200,400,800,200,500,400,400,100,250,300,150,100,150,100,300,700,100,500,400,50,250,150,400,1200,200,200,100,1300,500,150,350,150,350,100,100,200,450,50,150,100,250,50,550,150,250,300,300,800,200,350,500,300,250,200,300,300,300,200,400,300,200,350,150,300,200,500,500,150,150,150,200,200,400,800,150,350,300,800,150,100,200,800,200,1000,300,200,2000,200,100,500,50,300,400,250,150,800,300,300,100,200,150,800,250,150,200,400,200,1800,150,400,1500,100,800,300,400,300,300,1000,150,400,300,150,100,400,400,400,350,100,100,250,500,600,500,250,100,600,100,200,150,500,800,200,400,1400,150,200,500,400,100,150,200,250,1500,300,200,100,100,350,550,100,300,150,400,500,100,300,300,550,350,400,200,150,150,1700,600,1500,300,400,350,350,300,300,400,300,300,250,400,350,300,100,300,1900,150,400,200,300,300,200,600,1200,100,150,450,200,100,1200,600,100,1200,200,250,400,150,300,800,50,500,800,500,300,1300,350,250,350,100,200,250,150,200,200,400,100,350,400,1700,150,400,50,400,200,200,300,200,250,450,50,200,600,250,400,200,400,300,150,200,100,250,200,250,250,200,150,50,300,200,100,500,1200,100,200,600,150,300,400,300,150,300,150,200,400,250,200,600,250,300,200,900,250,300,150,300,500,100,250,500,450,200,700,100,1500,100,100,800,200,600,350,450,100,400,500,400,250,300,200,1500,500,150,150,500,200,100,300,400,150,150,250,800,400,400,50,600,700,3000,350,650,150,200,200,150,500,100,200,200,400,200,150,300,300,400,250,150,200,100,600,150,400,150,200,300,150,800,500,400,300,100,400,250,200,550,150,300,300,300,250,200,100,400,400,150,300,500,800,250,300,300,400,200,200,300,400,400,250,400,150,150,800,200,150,1100,900,150,150,300,300,750,350,400,400,200,400,200,300,200,150,500,400,800,500,400,400,500,700,800,1000,600,200,500,400,400,350,150,150,250,50,300,200,200,250,350,200,250,200,200,400,100,300,700,500,500,500,600,600,400,100,700,400,250,350,800,150,250,150,800,400,100,300,700,150,300,400,200,100,200,450,200,200,400,200,350,200,350,450,150,200,800,350,150,400,800,400,200,400,200,400,700,250,250,400,200,100,1500,150,300,250,100,300,300,800,200,200,350,350,250,300,250,100,800,300,450,100,200,250,200,150,200,200,500,400,200,1200,700,150,300,150,800,150,100,150,250,800,150,100,300,400,200,350,1000,500,300,200,400,500,250,200,250,600,200,150,400,600,150,400,150,150,400,200,400,150,300,100,150,200,100,250,150,200,400,550,800,300,150,150,150,250,150,50,1600,900,150,50,300,400,350,200,100,200,350,400,200,500,200,200,150,400,400,250,200,300,300,400,250,150,150,350,800,250,250,400,1500,150,150,300,650,150,200,200,500,200,100,100,100,500,800,100,450,350,550,400,100,200,350,100,300,350,200,350,400,300,500,200,350,300,300,600,150,250,600,900,750,800,150,300,200,200,350,800,400,150,300,200,550,250,200,600,650,300,450,150,300,500,500,550,100,400,350,300,650,250,300,200,100,350,200,150,350,200,750,300,250,150,200,300,150,200,150,200,200,400,200,250,350,200,350,1200,200,550,500,400,400,300,100,500,300,1000,800,150,350,1100,150,800,400,150,250,800,400,400,300,850,500,800,450,300,150,800,200,200,300,250,650,250,100,1300,300,200,300,150,250,500,200,500,300,300,200,200,100,200,650,300,200,500,1000,100,350,300,150,500,200,200,150,300,250,500,200,200,750,200,100,300,300,400,600,300,300,200,150,350,250,1200,100,350,400,150,150,100,150,300,250,250,250,200,200,300,350,50,100,150,150,450,50,350,1000,700,100,1300,300,100,300,700,500,150,200,100,150,150,200,150,350,200,350,200,100,1400,350,200,200,600,250,200,100,250,200,100,100,250,150,300,300,300,350,400,150,160,250,250,200,800,450,400,100,300,100,200,350,100,350,300,150,250,200,300,200,200,250,100,250,400,200,800,250,300,50,250,200,200,200,200,200,100,50,250,250,100,350,250,200,100,200,200,100,150,400,150,250,200,100,50,100,400,100,100,100,100,200,300,200,100,150,200,200,250,300,250,150,100,150,200,400,100,100,200,50,100,100,100,400,400,500,400,700,400,400,100,400,400,200,500,400,300,400,900,400,100,400,350,250,300,600,100,300,700,400,150,400,500,250,200,800,250,100,800,200,300,100,300,100,100,800,250,300,300,300,800,400,200,200,350,250,100,400,800,400,400,700,350,200,450,350,350,300,700,250,400,400,100,300,500,950,250,200,600,300,500,150,1600,500,250,150,400,150,250,100,400,200,300,100,250,400,350,200,100,300,150,200,100,350,200,300,200,400,800,150,200,200,250,350,600,150,800,600,100,600,400,250,500,250,400,400,250,400,300,2400,200,200,150,250,800,100,500,400,200,50,300,700,400,400,400,500,250,700,250,250,750,150,250,150,400,150,100,200,200,400,1800,1000,250,100,800,400,150,150,200,300,250,200,300,200,150,200,150,100,400,200,200,700,250,450,50,300,550,150,100,250,200,250,200,150,250,300,350,200,300,200,100,500,100,400,500,150,600,200,300,450,300,150,450,100,200,500,100,300,500,200,500,200,100,200,250,100,450,150,200,400,300,200,150,1000,300,250,400,600,50,400,150,100,300,200,1500,50,150,500,250,150,300,300,300,350,350,600,150,150,150,250,1500,300,800,200,100,600,400,450,150,300,500,250,300,500,300,350,200,150,150,100,50,50,50,250,150,900,150,250,250,1500,400,150,400,300,150,150,600,500,700,500,300,100,200,400,2000,350,200,200,500,350,200,400,250,300,450,200,350,300,1000,200,400,100,800,400,50,50,100,200,150,400,400,150,350,150,500,300,500,200,400,500,150,150,400,200,100,300,100,200,350,1100,400,400,800,100,300,100,150,300,200,700,600,350,100,600,300,500,200,300,400,250,200,200,350,300,1100,300,150,100,500,100,300,250,200,50,800,300,150,400,250,400,200,800,500,700,350,350,950,200,200,200,150,700,200,200,150,200,1000,150,150,500,500,200,400,400,1400,900,150,50,100,200,400,100,300,100,150,100,400,100,300,100,350,200,150,350,350,250,150,100,300,350,1300,400,150,50,100,100,500,400,150,100,600,200,200,1000,50,50,50,300,200,500,100,50,100,800,300,100,100,350,50,300,450,400,100,100,300,250,150,300,100,100,150,100,1200,350,450,100,300,100,350,300,400,500,400,100,400,700,400,350,400,400,400,100,350,400,400,800,800,100,200,100,100,250,300,200,350,100,400,150,150,800,400,150,200,250,400,150,250,250,300,100,900,200,600,450,150,100,1600,150,250,300,250,200,100,350,150,200,400,50,150,150,200,300,150,200,250,600,400,150,350,400,600,350,350,400,400,500,350,200,400,200,200,150,100,250,300,150,300,200,300,150,250,100,300,200,200,400,200,100,300,300,50,200,400,150,300,200,200,100,50,200,300,150,100,350,150,200,200,150,250,150,200,350,400,150,150,400,300,200,300,350,400,150,200,50,150,100,150,300,150,300,250,100,50,400,200,100,150,300,200,200,400,400,400,50,250,300,150,200,400,250,150,500,300,200,600,400,250,100,400,300,50,200,300,200,100,200,150,250,450,200,50,200,300,100,1400,50,150,250,400,300,250,200,100,600,100,1500,300,150,250,150,500,200,350,100,50,250,150,250,200,50,100,500,150,400,150,200,250,400,400,300,450,300,250,150,250,50,300,400,150,300,350,100,200,100,1500,100,800,300,200,150,150,150,950,500,700,700,200,200,200,400,300,50,200,200,250,50,600,250,250,300,150,200,150,150,150,50,150,350,600,100,700,250,200,1100,200,400,350,100,150,250,100,150,200,150,300,100,250,800,200,200,150,100,100,100,350,250,300,200,200,150,200,250,300,300,100,150,500,100,200,50,100,450,150,350,400,500,300,100,300,150,150,250,300,300,300,250,1300,1000,300,200,250,200,300,300,100,800,450,250,1000,100,150,100,800,1800,800,100,300,500,400,300,200,300,150,100,100,200,250,200,300,150,500,350,150,300,1200,150,200,200,1000,200,150,200,300,250,200,200,150,200,200,350,250,400,200,200,100,300,200,50,300,300,650,250,400,150,400,300,400,400,100,200,400,400,50,350,200,250,200,250,350,250,200,300,100,400,100,250,100,800,300,200,200,350,150,150,200,150,200,350,350,100,400,250,500,300,100,350,200,200,600,300,150,100,1600,150,250,200,800,200,300,150,100,150,200,200,200,150,150,100,200,400,250,200,250,600,350,300,250,300,250,400,100,100,200,350,250,400,200,300,250,350,150,150,200,200,150,250,100,200,100,200,300,150,250,200,200,300,400,600,150,150,200,1600,100,400,300,150,200,400,150,150,150,100,400,350,150,100,1200,350,200,150,150,150,250,200,350,400,200,150,150,200,100,250,300,200,350,200,500,500,350,250,200,350,200,200,300,100,350,200,200,300,400,700,1600,500,250,200,200,300,600,150,600,150,800,200,250,350,400,300,700,300,200,250,250,800,250,150,150,250,150,150,250,200,100,350,100,300,200,300,250,100,250,200,400,50,800,300,200,50,50,450,400,500,250,100,400,400,200,200,300,500,50,300,300,1000,50,250,350,300,200,200,1700,300,150,300,100,1200,1300,400,200,50,300,250,500,500,350,100,200,250,200,200,1400,200,100,550,100,50,250,150,100,300,50,250,200,300,150,450,500,300,150,250,550,600,200,150,400,1600,900,900,100,250,500,100,200,500,250,400,150,150,150,150,100,200,200,750,250,150,150,50,100,350,300,200,150,250,700,250,100,150,300,1700,150,300,200,500,2000,200,200,300,1700,500,200,50,100,300,150,2000,1100,400,1500,300,600,200,300,300,3000,2700,200,800,150,150,200,100,150,300,1500,400,100,200,150,1400,200,100,350,200,400,450,600,150,300,450,200,200,300,150,700,300,350,150,100,200,150,150,200,200,400,400,400,750,300,400,400,800,800,200,400,400,250,400,100,700,250,350,500,150,250,400,300,350,150,600,200,200,400,800,800,800,700,300,300,400,800,1600,200,100,400,300,500,400,500,300,500,100,100,200,350,200,800,700,150,100,700,350,400,200,750,300,400,250,200,400,300,200,100,150,700,250,350,400,300,400,100,1500,600,300,300,250,200,400,300,1000,200,350,250,350,400,150,150,250,800,250,700,100,200,250,250,250,150,100,200,1200,300,200,300,150,300,200,250,1100,100,400,150,700,150,200,400,600,600,100,1200,900,200,200,800,400,400,350,300,500,100,300,250,100,800,600,450,100,300,150,200,300,300,350,150,300,150,500,200,350,150,200,700,200,400,100,150,300,150,300,300,800,50,50,500,150,250,200,400,150,350,350,500,150,400,250,50,100,200,200,450,300,1000,400,700,250,300,500,300,300,500,500,900,100,2000,400,500,1500,700,400,300,100,100,400,150,150,100,150,2800,1200,1700,1300,250,200,100,200,100,150,100,200,100,400,300,250,200,50,250,50,250,50,100,200,200,150,100,200,250,400,300,500,350,300,150,250,200,300,300,400,800,800,700,300,500,500,400,200,400,150,600,150,400,250,400,800,800,200,500,350,300,200,400,300,350,150,600,250,200,400,150,800,700,400,100,1600,200,100,150,150,300,200,300,500,150,500,200,100,800,1000,100,400,550,200,200,350,150,800,150,400,100,400,200,200,400,150,250,600,200,250,400,100,600,150,600,400,300,200,350,600,800,250,500,400,350,300,150,250,100,250,300,300,700,300,100,500,800,200,250,250,200,100,150,500,250,500,300,350,1200,300,300,400,150,200,300,200,400,100,400,200,200,300,350,350,300,600,100,2400,250,900,150,400,200,300,400,200,800,300,500,800,200,150,200,250,300,300,600,500,400,400,600,400,300,300,400,300,300,200,400,800,150,300,50,150,200,300,350,200,150,200,200,400,400,150,400,800,150,300,150,250,400,400,900,50,500,250,400,350,200,150,350,400,300,200,200,400,200,400,1000,50,200,250,250,400,500,100,500,350,300,300,50,1000,450,50,250,300,150,2000,700,250,500,200,1500,500,350,450,400,300,500,400,600,250,200,1000,300,450,150,300,450,1000,300,200,600,1500,400,100,550,50,200,150,300,400,350,150,300,200,400,500,400,350,500,1200,600,400,350,200,200,250,200,550,1200,500,200,250,100,500,150,500,200,350,200,400,150,300,200,300,700,100,300,200,100,250,450,400,700,50,200,100,300,300,300,400,250,150,400,150,300,300,250,200,400,300,300,450,300,200,300,300,150,300,400,200,300,1000,500,400,250,150,400,250,200,600,300,1300,350,100,100,200,100,1500,200,150,300,150,150,550,150,350,400,300,300,450,200,300,1500,250,1700,400,400,100,200,200,50,400,350,200,300,650,150,400,200,1700,150,250,500,150,100,100,300,600,300,300,700,250,100,350,400,100,1500,200,400,200,200,300,400,300,300,500,100,1100,200,400,400,150,100,300,400,800,400,400,2000,300,150,100,350,150,200,250,250,1500,400,300,100,250,100,250,300,200,150,300,200,100,300,200,200,1000,700,200,150,1200,200,300,400,200,200,200,50,150,50,400,200,1000,700,350,2200,2000,150,200,250,500,350,100,100,2000,200,1800,700,150,1200,200,300,150,700,100,150,400,400,100,500,100,350,300,50,550,750,1000,150,300,150,250,550,700,100,150,600,150,100,150,200,300,400,200,1200,100,300,350,500,150,150,1000,100,700,150,200,700,800,250,250,150,300,300,400,150,300,150,350,200,150,300,250,200,300,1800,300,1500,1200,1200,500,500,100,600,500,200,100,400,200,100,1300,300,250,450,150,200,400,300,250,200,1000,500,200,150,200,150,200,150,600,300,200,250,150,200,50,100,200,100,100,400,1500,450,100,150,150,500,100,200,800,500,1200,800,100,1000,300,100,150,200,250,100,50,200,400,150,150,100,800,150,150,50,200,200,400,1200,300,300,500,400,200,400,50,500,300,250,200,500,800,50,150,100,100,100,50,50,550,100,800,200,1200,400,300,200,350,100,800,550,300,150,100,500,300,100,150,200,500,400,100,400,100,900,200,300,800,800,200,100,300,300,300,100,50,600,250,1000,200,400,100,150,150,150,600,300,250,250,400,750,800,3000,300,1500,900,250,400,700,1700,400,150,100,300,650,150,200,100,200,150,50,200,50,400,150,200,150,250,500,400,1200,200,200,150,100,100,100,250,400,100,150,200,300,150,150,100,50,150,2100,400,250,350,50,50,500,750,400,100,400,350,400,250,250,250,450,100,400,100,800,300,200,400,200,350,400,600,250,200,200,200,150,200,250,250,250,250,800,250,200,350,150,150,200,250,200,150,150,100,300,200,500,200,100,200,300,1400,100,500,500,300,500,100,100,400,700,400,400,250,350,1000,700,400,900,200,300,100,200,600,150,500,200,100,250,300,150,100,400,350,200,200,100,1200,50,350,200,300,150,150,150,100,150,150,100,300,350,250,100,150,700,150,1300,150,200,250,400,1200,150,50,150,300,500,200,350,200,550,100,400,100,300,50,800,50,150,150,200,300,500,600,200,700,150,150,2300,1000,200,550,100,500,100,1800,1400,350,600,1500,1100,350,2000,1200,100,100,400,400,800,200,400,450,200,100,150,400,300,400,600,250,600,150,150,150,200,350,200,150,250,200,250,300,500,50,50,150,200,300,450,300,250,400,350,900,800,400,150,1700,100,200,200,400,200,250,200,350,100,400,100,150,150,100,650,550,300,150,100,350,400,100,350,200,200,400,400,400,800,300,500,200,150,200,400,150,400,400,400,350,250,100,200,800,250,400,800,350,800,200,300,600,150,300,300,100,400,100,250,100,300,800,400,200,200,200,350,100,800,400,400,800,500,400,400,800,800,200,150,750,350,300,350,100,150,200,400,250,500,300,400,300,100,900,400,200,600,300,150,350,1600,150,500,150,700,250,300,500,200,300,200,100,250,400,100,100,600,550,400,150,150,150,500,200,350,300,200,400,1000,400,800,100,150,150,100,100,470,200,200,250,250,700,350,200,250,250,350,250,250,400,100,800,500,250,100,300,400,300,200,100,200,400,1600,700,250,200,250,700,300,800,400,50,400,200,300,400,450,400,300,400,300,400,400,100,100,250,500,700,250,150,350,350,250,400,200,200,1800,150,200,800,250,300,350,150,500,100,350,350,200,150,200,200,450,100,500,150,250,250,600,300,300,500,150,300,200,150,200,250,200,350,150,500,400,150,400,200,300,200,100,150,250,200,1200,150,150,500,150,100,600,400,200,200,500,150,300,300,300,300,300,200,200,600,300,250,250,400,150,250,400,500,150,100,200,300,750,200,100,250,200,250,300,200,150,250,500,400,800,200,100,200,750,250,400,250,150,1200,150,100,250,500,400,250,100,1200,50,150,150,100,900,400,800,300,400,200,350,200,150,150,450,300,300,200,100,500,100,200,2000,500,200,200,250,500,300,1000,350,200,100,200,1100,500,100,300,150,200,50,100,300,400,150,400,500,500,200,150,150,500,250,150,650,500,100,250,200,900,300,400,50,500,200,200,350,200,50,350,100,350,350,150,100,500,100,50,300,500,900,400,150,300,400,400,800,100,1000,150,450,1000,300,300,200,800,600,200,50,200,200,400,250,400,300,250,250,150,500,400,200,400,800,200,200,150,200,100,150,150,500,1300,800,150,100,150,300,250,50,250,200,400,400,400,300,100,50,250,100,250,2100,700,450,700,100,250,100,400,500,100,300,100,1400,300,250,200,350,800,250,200,300,800,200,200,400,200,150,300,50,200,400,150,650,250,200,100,50,450,200,1800,250,300,650,1300,400,850,500,500,300,500,150,150,100,100,450,700,200,200,200,250,150,300,100,300,500,200,150,50,750,1000,500,200,600,250,450,200,150,150,300,200,150,800,200,100,50,200,400,500,1000,150,100,200,100,150,500,200,100,100,100,300,150,100,300,250,1000,200,100,400,50,100,300,50,150,200,400,100,500,300,300,400,450,200,300,700,1200,100,500,200,450,200,300,150,200,250,150,1100,100,400,300,150,200,150,200,300,150,400,400,800,700,150,200,150,500,200,350,150,300,450,700,200,150,50,200,300,450,400,1600,150,600,500,250,400,900,200,150,100,500,750,200,200,200,600,600,100,150,100,250,100,200,150,100,200,150,400,400,100,100,50,50,300,200,300,150,100,100,250,150,150,300,250,150,150,150,300,100,100,200,100,500,350,200,400,100,700,150,100,150,150,200,400,2000,800,300,200,200,100,100,300,300,450,400,200,100,600,300,100,150,250,350,100,200,100,150,150,450,150,100,150,200,300,150,150,250,200,350,1800,2000,100,350,300,100,150,150,150,100,100,100,200,100,100,400,150,400,250,200,300,150,150,100,100,150,100,150,100,200,150,150,100,150,150,200,300,400,400,50,100,400,400,600,400,100,400,350,400,800,250,400,250,350,300,250,200,300,800,200,400,250,100,150,350,800,300,200,200,350,100,400,400,150,200,150,200,350,300,700,250,200,150,800,250,100,900,200,400,150,300,700,1600,150,400,250,100,200,300,450,550,150,200,350,200,400,250,150,400,200,400,250,350,200,150,250,900,350,200,250,400,250,300,700,150,400,250,50,400,300,200,300,250,300,250,400,250,200,300,300,150,300,250,150,350,150,150,100,200,500,150,450,400,150,250,300,500,150,250,300,300,300,350,300,200,550,250,200,200,400,400,200,250,200,100,150,400,150,500,500,500,200,100,1400,200,550,700,350,300,200,200,100,600,250,100,800,150,100,150,350,50,250,600,200,300,150,100,250,100,300,500,150,550,250,100,350,150,200,300,150,400,150,400,500,800,150,400,150,700,150,400,200,150,500,1400,150,250,100,150,200,350,250,200,200,400,300,200,100,250,150,150,150,1000,150,800,200,200,500,200,150,400,800,300,150,100,350,550,600,300,100,150,300,50,300,450,200,200,150,1000,250,800,150,200,150,150,300,150,100,300,350,250,100,100,550,150,200,400,750,250,150,100,250,100,200,150,250,200,200,400,100,350,100,150,250,400,300,300,400,400,100,1500,200,350,50,300,500,200,250,100,200,300,500,150,1100,300,300,250,100,100,150,150,250,150,100,100,100,200,300,250,300,150,250,150,200,200,400,150,300,100,100,300,200,200,50,150,100,500,150,100,300,300,250,200,50,100,300,200,100,150,250,100,300,250,100,150,250,150,200,250,100,200,100,150,250,150,350,150,200,200,200,250,250,150,150,150,800,250,250,300,300,400,250,400,200,250,250,100,300,300,200,350,200,250,250,400,100,200,200,150,150,200,100,300,400,300,200,100,150,200,300,400,1400,350,250,250,350,150,450,800,100,150,800,100,200,100,100,200,250,100,200,350,150,300,300,150,200,250,350,250,250,250,400,150,200,250,200,300,200,250,300,600,250,350,250,250,250,250,150,250,250,250,250,250,300,250,150,250,300,300,250,250,200,450,200,350,250,250,500,300,250,250,250,250,250,250,250,250,250,250,200,150,250,250,800,100,100,200,200,250,400,150,250,300,300,450,250,250,350,250,200,150,250,250,300,300,150,250,250,350,300,300,250,250,200,200,250,100,1200,250,300,300,400,400,400,250,250,250,200,250,250,400,300,200,250,150,350,250,300,250,250,300,100,250,250,200,200,250,200,250,200,800,150,200,200,250,400,250,300,200,250,500,250,150,200,300,150,300,200,100,200,250,250,50,100,200,100,250,250,200,350,100,200,250,250,350,50,300,100,100,250,200,250,250,250,100,100,250,100,250,250,400,200,250,100,250,250,250,250,250,250,250,250,400,150,400,450,300,150,250,150,250,250,300,200,300,250,300,150,250,150,150,400,500,400,250,100,400,250,300,350,150,100,150,100,150,250,50,150,150,350,400,200,250,300,300,250,200,100,200,150,200,200,350,2000,1400,150,100,150,300,150,200,200,150,800,150,400,150,300,150,500,50,600,200,200,250,300,100,150,150,450,200,900,200,900,300,500,400,200,200,250,200,150,200,250,100,200,200,400,900,100,200,250,150,600,800,300,350,250,350,300,250,400,300,400,300,150,250,150,100,200,300,300,300,2000,350,900,500,900,500,1200,1200,850,100,300,100,150,100,350,200,300,200,150,150,350,450,250,200,100,100,1200,100,400,200,100,200,600,300,350,400,500,400,100,400,350,400,250,250,100,100,400,100,100,800,600,200,200,600,250,200,350,250,500,600,150,300,200,300,100,200,200,200,150,600,500,200,700,250,200,600,350,250,250,400,250,200,250,100,200,450,50,150,350,200,200,250,200,150,400,300,200,100,250,200,350,100,150,150,100,200,100,200,400,100,500,300,200,200,100,200,250,100,100,400,250,100,150,200,150,150,250,200,150,150,200,200,200,100,200,200,100,150,200,400,400,200,300,1200,400,150,400,1000,150,400,800,700,200,200,350,350,50,400,400,150,250,300,200,500,200,400,800,250,400,50,350,250,250,350,400,150,400,200,300,150,200,350,200,350,400,600,350,250,250,200,200,350,150,200,250,400,200,200,400,150,300,200,200,250,150,350,100,200,150,100,400,500,200,100,250,150,300,200,300,200,500,200,500,500,300,150,300,250,100,150,100,100,250,200,100,100,50,400,400,100,50,300,100,200,800,200,200,400,400,400,400,350,350,300,400,400,350,200,100,100,300,400,600,100,250,200,150,150,800,300,100,400,100,250,200,350,200,200,350,100,700,400,400,200,150,200,350,300,100,200,150,250,250,100,800,200,250,200,600,100,150,200,400,150,400,150,100,200,300,150,250,200,100,200,150,150,200,400,1100,200,150,150,100,400,200,250,350,200,250,600,350,250,150,300,200,200,400,800,250,50,500,400,200,300,400,250,150,350,100,150,400,200,400,200,300,250,300,200,200,200,100,350,300,300,250,200,300,900,300,150,300,200,200,200,200,400,200,200,100,150,150,150,350,1500,400,200,150,500,400,100,100,100,2000,200,200,500,350,150,600,150,100,100,150,100,50,150,500,50,500,250,200,200,200,500,300,200,1000,150,100,250,150,150,100,200,100,200,150,150,200,150,350,150,400,550,400,50,200,150,400,300,400,200,100,200,800,300,100,300,200,200,200,500,100,100,250,500,150,400,100,200,250,200,250,150,550,150,500,250,300,400,300,300,400,100,200,900,300,100,100,150,250,250,100,800,100,150,350,200,500,550,100,200,50,100,600,800,100,150,1000,50,150,250,200,250,700,300,100,200,1650,550,100,150,200,350,300,150,200,350,500,250,1200,350,250,400,200,200,150,200,200,200,250,400,150,200,350,100,150,300,200,200,300,800,300,100,200,800,350,100,350,100,300,200,250,250,400,550,400,1200,1000,250,400,400,300,100,200,800,1200,350,200,150,100,150,250,800,700,200,150,300,300,100,200,150,150,500,300,150,250,300,500,300,100,200,1450,350,600,1100,150,500,200,50,1500,300,600,800,50,300,450,400,300,200,100,300,150,200,1100,1800,4200,800,2500,300,1500,800,1200,400,3000,50,200,200,250,100,1000,500,550,150,150,400,150,200,100,200,600,800,100,50,100,300,100,200,400,300,350,100,100,50,250,200,150,100,300,100,250,100,700,1250,200,350,400,50,250,200,250,200,150,100,100,150,150,250,250,100,100,350,700,300,400,450,250,300,50,150,300,400,300,100,1000,500,450,300,50,800,400,100,100,400,400,100,150,300,200,200,300,150,200,400,150,350,100,50,250,150,100,100,200,400,300,100,200,250,200,600,300,150,200,250,800,300,250,400,300,300,350,800,600,200,1000,250,150,500,1000,200,400,150,250,100,2400,500,1500,700,1100,4000,400,700,250,450,400,400,50,400,100,100,250,200,400,200,350,200,200,400,250,350,250,250,200,350,150,200,200,150,200,250,200,200,150,100,150,250,150,150,100,50,50,150,100,500,50,200,150,250,250,200,400,150,350,200,250,250,250,100,300,50,50,800,200,900,100,150,200,250,500,1500,800,200,200,50,300,400,300,400,400,400,700,450,100,150,250,250,100,400,300,100,350,400,250,100,300,400,150,200,600,150,400,400,700,200,350,300,200,400,350,150,200,250,200,400,800,700,400,200,100,300,200,150,100,500,250,200,300,200,350,150,150,200,150,400,150,250,200,400,200,400,100,400,500,100,500,150,250,250,300,200,350,250,300,550,250,100,250,100,100,200,250,200,150,500,200,250,200,400,200,700,150,150,300,250,400,300,700,800,200,200,200,250,800,250,400,200,300,400,400,400,150,150,700,50,300,100,150,350,50,250,150,400,200,200,250,100,200,50,250,400,350,300,600,450,400,300,450,50,150,350,200,1500,600,800,200,350,150,200,150,350,50,200,150,150,600,500,350,200,400,300,150,150,400,700,500,650,250,200,1000,50,150,100,200,200,300,350,200,250,300,150,150,150,200,100,50,200,200,150,400,300,350,300,800,400,250,200,1500,200,200,400,400,300,350,200,50,250,200,600,250,100,250,500,500,300,650,400,800,250,300,300,100,300,200,700,400,550,800,200,250,100,350,350,400,400,400,150,350,1000,1000,700,250,500,450,400,200,150,200,400,200,150,150,100,200,500,350,500,50,150,200,150,100,300,300,350,300,500,300,300,100,100,200,300,400,350,100,400,300,200,400,700,100,800,150,100,300,350,150,150,50,200,500,300,100,300,200,100,200,150,150,300,100,150,50,400,100,300,200,200,100,100,400,200,200,100,300,150,300,100,150,300,50,150,150,150,250,300,300,200,50,50,100,100,100,150,100,400,400,250,500,400,800,400,250,350,200,400,350,100,200,100,100,100,150,200,200,250,250,200,250,200,200,300,250,600,200,200,250,350,300,400,100,150,200,500,200,350,200,250,200,250,150,150,500,300,250,250,200,200,150,100,150,150,100,200,400,500,400,300,350,400,100,400,400,100,150,200,100,100,400,100,200,250,300,800,100,300,250,400,350,100,700,400,350,200,250,500,200,400,200,600,100,150,250,300,200,350,150,900,550,200,600,200,400,200,1000,250,200,300,200,50,500,200,50,200,250,800,150,300,100,200,200,450,100,300,250,200,400,100,50,100,50,350,200,800,500,300,150,500,150,150,100,450,200,400,200,100,100,150,200,100,500,150,300,300,1000,750,700,100,300,200,200,50,300,150,100,200,100,150,150,150,100,100,200,300,100,200,200,200,100,400,300,300,100,250,100,500,1300,100,300,200,350,100,50,400,150,150,300,50,200,150,100,50,100,100,100,100,100,100,350,150,500,100,200,200,150,200,200,200,100,100,150,400,350,1000,50,150,100,50,150,50,300,50,300,150,900,350,200,150,200,200,100,150,350,300,250,400,300,400,200,150,350,400,200,200,150,600,800,400,400,250,350,400,400,400,1600,150,200,400,400,300,800,250,200,200,800,400,150,350,300,500,50,100,250,200,300,100,450,100,100,250,300,250,100,150,250,150,150,100,300,150,200,300,50,100,300,50,300,100,1000,200,350,400,200,200,200,150,100,200,200,250,250,150,100,100,150,200,200,150,200,150,300,150,350,300,50,200,200,100,400,350,200,100,150,150,250,250,500,600,150,150,400,100,800,600,200,150,600,50,300,750,100,250,300,400,200,700,400,100,350,900,300,250,350,200,150,100,150,300,450,300,400,200,250,800,300,50,250,50,300,150,400,200,100,100,200,300,500,100,400,600,250,700,300,1000,100,200,150,150,800,550,300,150,1400,450,300,2500,100,250,700,800,400,300,400,500,400,400,400,50,400,250,250,100,200,100,400,100,250,200,200,700,200,150,350,250,200,400,600,100,100,250,100,200,150,250,600,250,400,400,200,350,150,200,200,150,200,250,200,800,700,250,100,100,200,250,200,200,150,250,300,750,100,300,800,800,300,100,300,1200,300,400,300],\"xaxis\":\"x\",\"yaxis\":\"y\",\"type\":\"histogram\"}],                        {\"template\":{\"data\":{\"barpolar\":[{\"marker\":{\"line\":{\"color\":\"white\",\"width\":0.5},\"pattern\":{\"fillmode\":\"overlay\",\"size\":10,\"solidity\":0.2}},\"type\":\"barpolar\"}],\"bar\":[{\"error_x\":{\"color\":\"rgb(36,36,36)\"},\"error_y\":{\"color\":\"rgb(36,36,36)\"},\"marker\":{\"line\":{\"color\":\"white\",\"width\":0.5},\"pattern\":{\"fillmode\":\"overlay\",\"size\":10,\"solidity\":0.2}},\"type\":\"bar\"}],\"carpet\":[{\"aaxis\":{\"endlinecolor\":\"rgb(36,36,36)\",\"gridcolor\":\"white\",\"linecolor\":\"white\",\"minorgridcolor\":\"white\",\"startlinecolor\":\"rgb(36,36,36)\"},\"baxis\":{\"endlinecolor\":\"rgb(36,36,36)\",\"gridcolor\":\"white\",\"linecolor\":\"white\",\"minorgridcolor\":\"white\",\"startlinecolor\":\"rgb(36,36,36)\"},\"type\":\"carpet\"}],\"choropleth\":[{\"colorbar\":{\"outlinewidth\":1,\"tickcolor\":\"rgb(36,36,36)\",\"ticks\":\"outside\"},\"type\":\"choropleth\"}],\"contourcarpet\":[{\"colorbar\":{\"outlinewidth\":1,\"tickcolor\":\"rgb(36,36,36)\",\"ticks\":\"outside\"},\"type\":\"contourcarpet\"}],\"contour\":[{\"colorbar\":{\"outlinewidth\":1,\"tickcolor\":\"rgb(36,36,36)\",\"ticks\":\"outside\"},\"colorscale\":[[0.0,\"#440154\"],[0.1111111111111111,\"#482878\"],[0.2222222222222222,\"#3e4989\"],[0.3333333333333333,\"#31688e\"],[0.4444444444444444,\"#26828e\"],[0.5555555555555556,\"#1f9e89\"],[0.6666666666666666,\"#35b779\"],[0.7777777777777778,\"#6ece58\"],[0.8888888888888888,\"#b5de2b\"],[1.0,\"#fde725\"]],\"type\":\"contour\"}],\"heatmapgl\":[{\"colorbar\":{\"outlinewidth\":1,\"tickcolor\":\"rgb(36,36,36)\",\"ticks\":\"outside\"},\"colorscale\":[[0.0,\"#440154\"],[0.1111111111111111,\"#482878\"],[0.2222222222222222,\"#3e4989\"],[0.3333333333333333,\"#31688e\"],[0.4444444444444444,\"#26828e\"],[0.5555555555555556,\"#1f9e89\"],[0.6666666666666666,\"#35b779\"],[0.7777777777777778,\"#6ece58\"],[0.8888888888888888,\"#b5de2b\"],[1.0,\"#fde725\"]],\"type\":\"heatmapgl\"}],\"heatmap\":[{\"colorbar\":{\"outlinewidth\":1,\"tickcolor\":\"rgb(36,36,36)\",\"ticks\":\"outside\"},\"colorscale\":[[0.0,\"#440154\"],[0.1111111111111111,\"#482878\"],[0.2222222222222222,\"#3e4989\"],[0.3333333333333333,\"#31688e\"],[0.4444444444444444,\"#26828e\"],[0.5555555555555556,\"#1f9e89\"],[0.6666666666666666,\"#35b779\"],[0.7777777777777778,\"#6ece58\"],[0.8888888888888888,\"#b5de2b\"],[1.0,\"#fde725\"]],\"type\":\"heatmap\"}],\"histogram2dcontour\":[{\"colorbar\":{\"outlinewidth\":1,\"tickcolor\":\"rgb(36,36,36)\",\"ticks\":\"outside\"},\"colorscale\":[[0.0,\"#440154\"],[0.1111111111111111,\"#482878\"],[0.2222222222222222,\"#3e4989\"],[0.3333333333333333,\"#31688e\"],[0.4444444444444444,\"#26828e\"],[0.5555555555555556,\"#1f9e89\"],[0.6666666666666666,\"#35b779\"],[0.7777777777777778,\"#6ece58\"],[0.8888888888888888,\"#b5de2b\"],[1.0,\"#fde725\"]],\"type\":\"histogram2dcontour\"}],\"histogram2d\":[{\"colorbar\":{\"outlinewidth\":1,\"tickcolor\":\"rgb(36,36,36)\",\"ticks\":\"outside\"},\"colorscale\":[[0.0,\"#440154\"],[0.1111111111111111,\"#482878\"],[0.2222222222222222,\"#3e4989\"],[0.3333333333333333,\"#31688e\"],[0.4444444444444444,\"#26828e\"],[0.5555555555555556,\"#1f9e89\"],[0.6666666666666666,\"#35b779\"],[0.7777777777777778,\"#6ece58\"],[0.8888888888888888,\"#b5de2b\"],[1.0,\"#fde725\"]],\"type\":\"histogram2d\"}],\"histogram\":[{\"marker\":{\"line\":{\"color\":\"white\",\"width\":0.6}},\"type\":\"histogram\"}],\"mesh3d\":[{\"colorbar\":{\"outlinewidth\":1,\"tickcolor\":\"rgb(36,36,36)\",\"ticks\":\"outside\"},\"type\":\"mesh3d\"}],\"parcoords\":[{\"line\":{\"colorbar\":{\"outlinewidth\":1,\"tickcolor\":\"rgb(36,36,36)\",\"ticks\":\"outside\"}},\"type\":\"parcoords\"}],\"pie\":[{\"automargin\":true,\"type\":\"pie\"}],\"scatter3d\":[{\"line\":{\"colorbar\":{\"outlinewidth\":1,\"tickcolor\":\"rgb(36,36,36)\",\"ticks\":\"outside\"}},\"marker\":{\"colorbar\":{\"outlinewidth\":1,\"tickcolor\":\"rgb(36,36,36)\",\"ticks\":\"outside\"}},\"type\":\"scatter3d\"}],\"scattercarpet\":[{\"marker\":{\"colorbar\":{\"outlinewidth\":1,\"tickcolor\":\"rgb(36,36,36)\",\"ticks\":\"outside\"}},\"type\":\"scattercarpet\"}],\"scattergeo\":[{\"marker\":{\"colorbar\":{\"outlinewidth\":1,\"tickcolor\":\"rgb(36,36,36)\",\"ticks\":\"outside\"}},\"type\":\"scattergeo\"}],\"scattergl\":[{\"marker\":{\"colorbar\":{\"outlinewidth\":1,\"tickcolor\":\"rgb(36,36,36)\",\"ticks\":\"outside\"}},\"type\":\"scattergl\"}],\"scattermapbox\":[{\"marker\":{\"colorbar\":{\"outlinewidth\":1,\"tickcolor\":\"rgb(36,36,36)\",\"ticks\":\"outside\"}},\"type\":\"scattermapbox\"}],\"scatterpolargl\":[{\"marker\":{\"colorbar\":{\"outlinewidth\":1,\"tickcolor\":\"rgb(36,36,36)\",\"ticks\":\"outside\"}},\"type\":\"scatterpolargl\"}],\"scatterpolar\":[{\"marker\":{\"colorbar\":{\"outlinewidth\":1,\"tickcolor\":\"rgb(36,36,36)\",\"ticks\":\"outside\"}},\"type\":\"scatterpolar\"}],\"scatter\":[{\"fillpattern\":{\"fillmode\":\"overlay\",\"size\":10,\"solidity\":0.2},\"type\":\"scatter\"}],\"scatterternary\":[{\"marker\":{\"colorbar\":{\"outlinewidth\":1,\"tickcolor\":\"rgb(36,36,36)\",\"ticks\":\"outside\"}},\"type\":\"scatterternary\"}],\"surface\":[{\"colorbar\":{\"outlinewidth\":1,\"tickcolor\":\"rgb(36,36,36)\",\"ticks\":\"outside\"},\"colorscale\":[[0.0,\"#440154\"],[0.1111111111111111,\"#482878\"],[0.2222222222222222,\"#3e4989\"],[0.3333333333333333,\"#31688e\"],[0.4444444444444444,\"#26828e\"],[0.5555555555555556,\"#1f9e89\"],[0.6666666666666666,\"#35b779\"],[0.7777777777777778,\"#6ece58\"],[0.8888888888888888,\"#b5de2b\"],[1.0,\"#fde725\"]],\"type\":\"surface\"}],\"table\":[{\"cells\":{\"fill\":{\"color\":\"rgb(237,237,237)\"},\"line\":{\"color\":\"white\"}},\"header\":{\"fill\":{\"color\":\"rgb(217,217,217)\"},\"line\":{\"color\":\"white\"}},\"type\":\"table\"}]},\"layout\":{\"annotationdefaults\":{\"arrowhead\":0,\"arrowwidth\":1},\"autotypenumbers\":\"strict\",\"coloraxis\":{\"colorbar\":{\"outlinewidth\":1,\"tickcolor\":\"rgb(36,36,36)\",\"ticks\":\"outside\"}},\"colorscale\":{\"diverging\":[[0.0,\"rgb(103,0,31)\"],[0.1,\"rgb(178,24,43)\"],[0.2,\"rgb(214,96,77)\"],[0.3,\"rgb(244,165,130)\"],[0.4,\"rgb(253,219,199)\"],[0.5,\"rgb(247,247,247)\"],[0.6,\"rgb(209,229,240)\"],[0.7,\"rgb(146,197,222)\"],[0.8,\"rgb(67,147,195)\"],[0.9,\"rgb(33,102,172)\"],[1.0,\"rgb(5,48,97)\"]],\"sequential\":[[0.0,\"#440154\"],[0.1111111111111111,\"#482878\"],[0.2222222222222222,\"#3e4989\"],[0.3333333333333333,\"#31688e\"],[0.4444444444444444,\"#26828e\"],[0.5555555555555556,\"#1f9e89\"],[0.6666666666666666,\"#35b779\"],[0.7777777777777778,\"#6ece58\"],[0.8888888888888888,\"#b5de2b\"],[1.0,\"#fde725\"]],\"sequentialminus\":[[0.0,\"#440154\"],[0.1111111111111111,\"#482878\"],[0.2222222222222222,\"#3e4989\"],[0.3333333333333333,\"#31688e\"],[0.4444444444444444,\"#26828e\"],[0.5555555555555556,\"#1f9e89\"],[0.6666666666666666,\"#35b779\"],[0.7777777777777778,\"#6ece58\"],[0.8888888888888888,\"#b5de2b\"],[1.0,\"#fde725\"]]},\"colorway\":[\"#1F77B4\",\"#FF7F0E\",\"#2CA02C\",\"#D62728\",\"#9467BD\",\"#8C564B\",\"#E377C2\",\"#7F7F7F\",\"#BCBD22\",\"#17BECF\"],\"font\":{\"color\":\"rgb(36,36,36)\"},\"geo\":{\"bgcolor\":\"white\",\"lakecolor\":\"white\",\"landcolor\":\"white\",\"showlakes\":true,\"showland\":true,\"subunitcolor\":\"white\"},\"hoverlabel\":{\"align\":\"left\"},\"hovermode\":\"closest\",\"mapbox\":{\"style\":\"light\"},\"paper_bgcolor\":\"white\",\"plot_bgcolor\":\"white\",\"polar\":{\"angularaxis\":{\"gridcolor\":\"rgb(232,232,232)\",\"linecolor\":\"rgb(36,36,36)\",\"showgrid\":false,\"showline\":true,\"ticks\":\"outside\"},\"bgcolor\":\"white\",\"radialaxis\":{\"gridcolor\":\"rgb(232,232,232)\",\"linecolor\":\"rgb(36,36,36)\",\"showgrid\":false,\"showline\":true,\"ticks\":\"outside\"}},\"scene\":{\"xaxis\":{\"backgroundcolor\":\"white\",\"gridcolor\":\"rgb(232,232,232)\",\"gridwidth\":2,\"linecolor\":\"rgb(36,36,36)\",\"showbackground\":true,\"showgrid\":false,\"showline\":true,\"ticks\":\"outside\",\"zeroline\":false,\"zerolinecolor\":\"rgb(36,36,36)\"},\"yaxis\":{\"backgroundcolor\":\"white\",\"gridcolor\":\"rgb(232,232,232)\",\"gridwidth\":2,\"linecolor\":\"rgb(36,36,36)\",\"showbackground\":true,\"showgrid\":false,\"showline\":true,\"ticks\":\"outside\",\"zeroline\":false,\"zerolinecolor\":\"rgb(36,36,36)\"},\"zaxis\":{\"backgroundcolor\":\"white\",\"gridcolor\":\"rgb(232,232,232)\",\"gridwidth\":2,\"linecolor\":\"rgb(36,36,36)\",\"showbackground\":true,\"showgrid\":false,\"showline\":true,\"ticks\":\"outside\",\"zeroline\":false,\"zerolinecolor\":\"rgb(36,36,36)\"}},\"shapedefaults\":{\"fillcolor\":\"black\",\"line\":{\"width\":0},\"opacity\":0.3},\"ternary\":{\"aaxis\":{\"gridcolor\":\"rgb(232,232,232)\",\"linecolor\":\"rgb(36,36,36)\",\"showgrid\":false,\"showline\":true,\"ticks\":\"outside\"},\"baxis\":{\"gridcolor\":\"rgb(232,232,232)\",\"linecolor\":\"rgb(36,36,36)\",\"showgrid\":false,\"showline\":true,\"ticks\":\"outside\"},\"bgcolor\":\"white\",\"caxis\":{\"gridcolor\":\"rgb(232,232,232)\",\"linecolor\":\"rgb(36,36,36)\",\"showgrid\":false,\"showline\":true,\"ticks\":\"outside\"}},\"title\":{\"x\":0.05},\"xaxis\":{\"automargin\":true,\"gridcolor\":\"rgb(232,232,232)\",\"linecolor\":\"rgb(36,36,36)\",\"showgrid\":false,\"showline\":true,\"ticks\":\"outside\",\"title\":{\"standoff\":15},\"zeroline\":false,\"zerolinecolor\":\"rgb(36,36,36)\"},\"yaxis\":{\"automargin\":true,\"gridcolor\":\"rgb(232,232,232)\",\"linecolor\":\"rgb(36,36,36)\",\"showgrid\":false,\"showline\":true,\"ticks\":\"outside\",\"title\":{\"standoff\":15},\"zeroline\":false,\"zerolinecolor\":\"rgb(36,36,36)\"}}},\"xaxis\":{\"anchor\":\"y\",\"domain\":[0.0,1.0],\"title\":{\"text\":\"AverageCost\"}},\"yaxis\":{\"anchor\":\"x\",\"domain\":[0.0,1.0],\"title\":{\"text\":\"count\"}},\"legend\":{\"tracegroupgap\":0},\"margin\":{\"t\":60},\"barmode\":\"relative\"},                        {\"responsive\": true}                    ).then(function(){\n",
       "                            \n",
       "var gd = document.getElementById('c75346a8-3a77-43fc-9e62-5295e3fcc2a3');\n",
       "var x = new MutationObserver(function (mutations, observer) {{\n",
       "        var display = window.getComputedStyle(gd).display;\n",
       "        if (!display || display === 'none') {{\n",
       "            console.log([gd, 'removed!']);\n",
       "            Plotly.purge(gd);\n",
       "            observer.disconnect();\n",
       "        }}\n",
       "}});\n",
       "\n",
       "// Listen for the removal of the full notebook cells\n",
       "var notebookContainer = gd.closest('#notebook-container');\n",
       "if (notebookContainer) {{\n",
       "    x.observe(notebookContainer, {childList: true});\n",
       "}}\n",
       "\n",
       "// Listen for the clearing of the current output cell\n",
       "var outputEl = gd.closest('.output');\n",
       "if (outputEl) {{\n",
       "    x.observe(outputEl, {childList: true});\n",
       "}}\n",
       "\n",
       "                        })                };                });            </script>        </div>"
      ]
     },
     "metadata": {},
     "output_type": "display_data"
    }
   ],
   "source": [
    "for i in df[['Dinner Ratings','Delivery Ratings', 'AverageCost']]:\n",
    "    fig = px.histogram(df[['Dinner Ratings','Delivery Ratings', 'AverageCost']], \n",
    "                       x=i, \n",
    "                       template='simple_white')\n",
    "    fig.show()"
   ]
  },
  {
   "cell_type": "markdown",
   "id": "56271533",
   "metadata": {
    "papermill": {
     "duration": 0.098815,
     "end_time": "2022-10-10T07:02:06.664977",
     "exception": false,
     "start_time": "2022-10-10T07:02:06.566162",
     "status": "completed"
    },
    "tags": []
   },
   "source": [
    "**Note** :- \n",
    "\n",
    "In case of zero rating, it could either be the customer not giving any rating or he may have actually given the zero rating."
   ]
  },
  {
   "cell_type": "code",
   "execution_count": 18,
   "id": "88506c39",
   "metadata": {
    "execution": {
     "iopub.execute_input": "2022-10-10T07:02:06.860274Z",
     "iopub.status.busy": "2022-10-10T07:02:06.859945Z",
     "iopub.status.idle": "2022-10-10T07:02:06.897324Z",
     "shell.execute_reply": "2022-10-10T07:02:06.896437Z"
    },
    "papermill": {
     "duration": 0.137148,
     "end_time": "2022-10-10T07:02:06.899542",
     "exception": false,
     "start_time": "2022-10-10T07:02:06.762394",
     "status": "completed"
    },
    "tags": []
   },
   "outputs": [
    {
     "data": {
      "text/html": [
       "<div>\n",
       "<style scoped>\n",
       "    .dataframe tbody tr th:only-of-type {\n",
       "        vertical-align: middle;\n",
       "    }\n",
       "\n",
       "    .dataframe tbody tr th {\n",
       "        vertical-align: top;\n",
       "    }\n",
       "\n",
       "    .dataframe thead th {\n",
       "        text-align: right;\n",
       "    }\n",
       "</style>\n",
       "<table border=\"1\" class=\"dataframe\">\n",
       "  <thead>\n",
       "    <tr style=\"text-align: right;\">\n",
       "      <th></th>\n",
       "      <th></th>\n",
       "      <th>IsHomeDelivery</th>\n",
       "      <th>isTakeaway</th>\n",
       "      <th>isIndoorSeating</th>\n",
       "      <th>isVegOnly</th>\n",
       "      <th>Dinner Ratings</th>\n",
       "      <th>Dinner Reviews</th>\n",
       "      <th>Delivery Ratings</th>\n",
       "      <th>Delivery Reviews</th>\n",
       "      <th>AverageCost</th>\n",
       "    </tr>\n",
       "    <tr>\n",
       "      <th>Area</th>\n",
       "      <th>Cuisines</th>\n",
       "      <th></th>\n",
       "      <th></th>\n",
       "      <th></th>\n",
       "      <th></th>\n",
       "      <th></th>\n",
       "      <th></th>\n",
       "      <th></th>\n",
       "      <th></th>\n",
       "      <th></th>\n",
       "    </tr>\n",
       "  </thead>\n",
       "  <tbody>\n",
       "    <tr>\n",
       "      <th rowspan=\"5\" valign=\"top\">1 MG Road Mall, MG Road, Bangalore</th>\n",
       "      <th>Bakery, Desserts</th>\n",
       "      <td>1</td>\n",
       "      <td>1</td>\n",
       "      <td>0</td>\n",
       "      <td>0</td>\n",
       "      <td>0.0</td>\n",
       "      <td>0</td>\n",
       "      <td>4.2</td>\n",
       "      <td>761</td>\n",
       "      <td>350</td>\n",
       "    </tr>\n",
       "    <tr>\n",
       "      <th>Bakery, Desserts, Panini, Mexican, American</th>\n",
       "      <td>1</td>\n",
       "      <td>1</td>\n",
       "      <td>0</td>\n",
       "      <td>0</td>\n",
       "      <td>0.0</td>\n",
       "      <td>0</td>\n",
       "      <td>4.3</td>\n",
       "      <td>58</td>\n",
       "      <td>150</td>\n",
       "    </tr>\n",
       "    <tr>\n",
       "      <th>Chinese, Asian, Seafood</th>\n",
       "      <td>1</td>\n",
       "      <td>1</td>\n",
       "      <td>1</td>\n",
       "      <td>0</td>\n",
       "      <td>4.7</td>\n",
       "      <td>2933</td>\n",
       "      <td>4.1</td>\n",
       "      <td>175</td>\n",
       "      <td>2000</td>\n",
       "    </tr>\n",
       "    <tr>\n",
       "      <th>Desserts</th>\n",
       "      <td>1</td>\n",
       "      <td>1</td>\n",
       "      <td>0</td>\n",
       "      <td>0</td>\n",
       "      <td>0.0</td>\n",
       "      <td>0</td>\n",
       "      <td>4.2</td>\n",
       "      <td>42</td>\n",
       "      <td>400</td>\n",
       "    </tr>\n",
       "    <tr>\n",
       "      <th>Sandwich, Fast Food, Ice Cream, Desserts, Beverages</th>\n",
       "      <td>1</td>\n",
       "      <td>1</td>\n",
       "      <td>1</td>\n",
       "      <td>0</td>\n",
       "      <td>3.4</td>\n",
       "      <td>4</td>\n",
       "      <td>3.7</td>\n",
       "      <td>109</td>\n",
       "      <td>350</td>\n",
       "    </tr>\n",
       "    <tr>\n",
       "      <th>...</th>\n",
       "      <th>...</th>\n",
       "      <td>...</td>\n",
       "      <td>...</td>\n",
       "      <td>...</td>\n",
       "      <td>...</td>\n",
       "      <td>...</td>\n",
       "      <td>...</td>\n",
       "      <td>...</td>\n",
       "      <td>...</td>\n",
       "      <td>...</td>\n",
       "    </tr>\n",
       "    <tr>\n",
       "      <th rowspan=\"5\" valign=\"top\">Yeshwantpur, Bangalore</th>\n",
       "      <th>South Indian, North Indian, Kebab, Biryani</th>\n",
       "      <td>1</td>\n",
       "      <td>1</td>\n",
       "      <td>1</td>\n",
       "      <td>0</td>\n",
       "      <td>0.0</td>\n",
       "      <td>0</td>\n",
       "      <td>4.0</td>\n",
       "      <td>92</td>\n",
       "      <td>300</td>\n",
       "    </tr>\n",
       "    <tr>\n",
       "      <th>South Indian, Street Food, Chinese</th>\n",
       "      <td>1</td>\n",
       "      <td>1</td>\n",
       "      <td>1</td>\n",
       "      <td>0</td>\n",
       "      <td>3.2</td>\n",
       "      <td>24</td>\n",
       "      <td>4.1</td>\n",
       "      <td>1131</td>\n",
       "      <td>300</td>\n",
       "    </tr>\n",
       "    <tr>\n",
       "      <th>South Indian, Tea</th>\n",
       "      <td>1</td>\n",
       "      <td>1</td>\n",
       "      <td>0</td>\n",
       "      <td>0</td>\n",
       "      <td>0.0</td>\n",
       "      <td>0</td>\n",
       "      <td>3.8</td>\n",
       "      <td>426</td>\n",
       "      <td>50</td>\n",
       "    </tr>\n",
       "    <tr>\n",
       "      <th>Street Food</th>\n",
       "      <td>3</td>\n",
       "      <td>2</td>\n",
       "      <td>0</td>\n",
       "      <td>1</td>\n",
       "      <td>0.0</td>\n",
       "      <td>0</td>\n",
       "      <td>8.1</td>\n",
       "      <td>109</td>\n",
       "      <td>250</td>\n",
       "    </tr>\n",
       "    <tr>\n",
       "      <th>Street Food, Arabian, North Indian, Mughlai, Seafood, Ice Cream, Desserts, Beverages</th>\n",
       "      <td>1</td>\n",
       "      <td>1</td>\n",
       "      <td>0</td>\n",
       "      <td>0</td>\n",
       "      <td>3.6</td>\n",
       "      <td>15</td>\n",
       "      <td>4.0</td>\n",
       "      <td>26</td>\n",
       "      <td>800</td>\n",
       "    </tr>\n",
       "  </tbody>\n",
       "</table>\n",
       "<p>7096 rows × 9 columns</p>\n",
       "</div>"
      ],
      "text/plain": [
       "                                                                                       IsHomeDelivery  \\\n",
       "Area                               Cuisines                                                             \n",
       "1 MG Road Mall, MG Road, Bangalore Bakery, Desserts                                                 1   \n",
       "                                   Bakery, Desserts, Panini, Mexican, American                      1   \n",
       "                                   Chinese, Asian, Seafood                                          1   \n",
       "                                   Desserts                                                         1   \n",
       "                                   Sandwich, Fast Food, Ice Cream, Desserts, Bever...               1   \n",
       "...                                                                                               ...   \n",
       "Yeshwantpur, Bangalore             South Indian, North Indian, Kebab, Biryani                       1   \n",
       "                                   South Indian, Street Food, Chinese                               1   \n",
       "                                   South Indian, Tea                                                1   \n",
       "                                   Street Food                                                      3   \n",
       "                                   Street Food, Arabian, North Indian, Mughlai, Se...               1   \n",
       "\n",
       "                                                                                       isTakeaway  \\\n",
       "Area                               Cuisines                                                         \n",
       "1 MG Road Mall, MG Road, Bangalore Bakery, Desserts                                             1   \n",
       "                                   Bakery, Desserts, Panini, Mexican, American                  1   \n",
       "                                   Chinese, Asian, Seafood                                      1   \n",
       "                                   Desserts                                                     1   \n",
       "                                   Sandwich, Fast Food, Ice Cream, Desserts, Bever...           1   \n",
       "...                                                                                           ...   \n",
       "Yeshwantpur, Bangalore             South Indian, North Indian, Kebab, Biryani                   1   \n",
       "                                   South Indian, Street Food, Chinese                           1   \n",
       "                                   South Indian, Tea                                            1   \n",
       "                                   Street Food                                                  2   \n",
       "                                   Street Food, Arabian, North Indian, Mughlai, Se...           1   \n",
       "\n",
       "                                                                                       isIndoorSeating  \\\n",
       "Area                               Cuisines                                                              \n",
       "1 MG Road Mall, MG Road, Bangalore Bakery, Desserts                                                  0   \n",
       "                                   Bakery, Desserts, Panini, Mexican, American                       0   \n",
       "                                   Chinese, Asian, Seafood                                           1   \n",
       "                                   Desserts                                                          0   \n",
       "                                   Sandwich, Fast Food, Ice Cream, Desserts, Bever...                1   \n",
       "...                                                                                                ...   \n",
       "Yeshwantpur, Bangalore             South Indian, North Indian, Kebab, Biryani                        1   \n",
       "                                   South Indian, Street Food, Chinese                                1   \n",
       "                                   South Indian, Tea                                                 0   \n",
       "                                   Street Food                                                       0   \n",
       "                                   Street Food, Arabian, North Indian, Mughlai, Se...                0   \n",
       "\n",
       "                                                                                       isVegOnly  \\\n",
       "Area                               Cuisines                                                        \n",
       "1 MG Road Mall, MG Road, Bangalore Bakery, Desserts                                            0   \n",
       "                                   Bakery, Desserts, Panini, Mexican, American                 0   \n",
       "                                   Chinese, Asian, Seafood                                     0   \n",
       "                                   Desserts                                                    0   \n",
       "                                   Sandwich, Fast Food, Ice Cream, Desserts, Bever...          0   \n",
       "...                                                                                          ...   \n",
       "Yeshwantpur, Bangalore             South Indian, North Indian, Kebab, Biryani                  0   \n",
       "                                   South Indian, Street Food, Chinese                          0   \n",
       "                                   South Indian, Tea                                           0   \n",
       "                                   Street Food                                                 1   \n",
       "                                   Street Food, Arabian, North Indian, Mughlai, Se...          0   \n",
       "\n",
       "                                                                                       Dinner Ratings  \\\n",
       "Area                               Cuisines                                                             \n",
       "1 MG Road Mall, MG Road, Bangalore Bakery, Desserts                                               0.0   \n",
       "                                   Bakery, Desserts, Panini, Mexican, American                    0.0   \n",
       "                                   Chinese, Asian, Seafood                                        4.7   \n",
       "                                   Desserts                                                       0.0   \n",
       "                                   Sandwich, Fast Food, Ice Cream, Desserts, Bever...             3.4   \n",
       "...                                                                                               ...   \n",
       "Yeshwantpur, Bangalore             South Indian, North Indian, Kebab, Biryani                     0.0   \n",
       "                                   South Indian, Street Food, Chinese                             3.2   \n",
       "                                   South Indian, Tea                                              0.0   \n",
       "                                   Street Food                                                    0.0   \n",
       "                                   Street Food, Arabian, North Indian, Mughlai, Se...             3.6   \n",
       "\n",
       "                                                                                       Dinner Reviews  \\\n",
       "Area                               Cuisines                                                             \n",
       "1 MG Road Mall, MG Road, Bangalore Bakery, Desserts                                                 0   \n",
       "                                   Bakery, Desserts, Panini, Mexican, American                      0   \n",
       "                                   Chinese, Asian, Seafood                                       2933   \n",
       "                                   Desserts                                                         0   \n",
       "                                   Sandwich, Fast Food, Ice Cream, Desserts, Bever...               4   \n",
       "...                                                                                               ...   \n",
       "Yeshwantpur, Bangalore             South Indian, North Indian, Kebab, Biryani                       0   \n",
       "                                   South Indian, Street Food, Chinese                              24   \n",
       "                                   South Indian, Tea                                                0   \n",
       "                                   Street Food                                                      0   \n",
       "                                   Street Food, Arabian, North Indian, Mughlai, Se...              15   \n",
       "\n",
       "                                                                                       Delivery Ratings  \\\n",
       "Area                               Cuisines                                                               \n",
       "1 MG Road Mall, MG Road, Bangalore Bakery, Desserts                                                 4.2   \n",
       "                                   Bakery, Desserts, Panini, Mexican, American                      4.3   \n",
       "                                   Chinese, Asian, Seafood                                          4.1   \n",
       "                                   Desserts                                                         4.2   \n",
       "                                   Sandwich, Fast Food, Ice Cream, Desserts, Bever...               3.7   \n",
       "...                                                                                                 ...   \n",
       "Yeshwantpur, Bangalore             South Indian, North Indian, Kebab, Biryani                       4.0   \n",
       "                                   South Indian, Street Food, Chinese                               4.1   \n",
       "                                   South Indian, Tea                                                3.8   \n",
       "                                   Street Food                                                      8.1   \n",
       "                                   Street Food, Arabian, North Indian, Mughlai, Se...               4.0   \n",
       "\n",
       "                                                                                       Delivery Reviews  \\\n",
       "Area                               Cuisines                                                               \n",
       "1 MG Road Mall, MG Road, Bangalore Bakery, Desserts                                                 761   \n",
       "                                   Bakery, Desserts, Panini, Mexican, American                       58   \n",
       "                                   Chinese, Asian, Seafood                                          175   \n",
       "                                   Desserts                                                          42   \n",
       "                                   Sandwich, Fast Food, Ice Cream, Desserts, Bever...               109   \n",
       "...                                                                                                 ...   \n",
       "Yeshwantpur, Bangalore             South Indian, North Indian, Kebab, Biryani                        92   \n",
       "                                   South Indian, Street Food, Chinese                              1131   \n",
       "                                   South Indian, Tea                                                426   \n",
       "                                   Street Food                                                      109   \n",
       "                                   Street Food, Arabian, North Indian, Mughlai, Se...                26   \n",
       "\n",
       "                                                                                       AverageCost  \n",
       "Area                               Cuisines                                                         \n",
       "1 MG Road Mall, MG Road, Bangalore Bakery, Desserts                                            350  \n",
       "                                   Bakery, Desserts, Panini, Mexican, American                 150  \n",
       "                                   Chinese, Asian, Seafood                                    2000  \n",
       "                                   Desserts                                                    400  \n",
       "                                   Sandwich, Fast Food, Ice Cream, Desserts, Bever...          350  \n",
       "...                                                                                            ...  \n",
       "Yeshwantpur, Bangalore             South Indian, North Indian, Kebab, Biryani                  300  \n",
       "                                   South Indian, Street Food, Chinese                          300  \n",
       "                                   South Indian, Tea                                            50  \n",
       "                                   Street Food                                                 250  \n",
       "                                   Street Food, Arabian, North Indian, Mughlai, Se...          800  \n",
       "\n",
       "[7096 rows x 9 columns]"
      ]
     },
     "execution_count": 18,
     "metadata": {},
     "output_type": "execute_result"
    }
   ],
   "source": [
    "#Which cuisines are the most famous in different localities?\n",
    "df.groupby(['Area','Cuisines']).sum()"
   ]
  },
  {
   "cell_type": "code",
   "execution_count": 19,
   "id": "0c77aa20",
   "metadata": {
    "execution": {
     "iopub.execute_input": "2022-10-10T07:02:07.099801Z",
     "iopub.status.busy": "2022-10-10T07:02:07.099082Z",
     "iopub.status.idle": "2022-10-10T07:02:07.177463Z",
     "shell.execute_reply": "2022-10-10T07:02:07.176549Z"
    },
    "papermill": {
     "duration": 0.182123,
     "end_time": "2022-10-10T07:02:07.179778",
     "exception": false,
     "start_time": "2022-10-10T07:02:06.997655",
     "status": "completed"
    },
    "tags": []
   },
   "outputs": [
    {
     "data": {
      "text/html": [
       "<div>                            <div id=\"ec02737a-8571-452e-8a77-f86f4d71d520\" class=\"plotly-graph-div\" style=\"height:525px; width:100%;\"></div>            <script type=\"text/javascript\">                require([\"plotly\"], function(Plotly) {                    window.PLOTLYENV=window.PLOTLYENV || {};                                    if (document.getElementById(\"ec02737a-8571-452e-8a77-f86f4d71d520\")) {                    Plotly.newPlot(                        \"ec02737a-8571-452e-8a77-f86f4d71d520\",                        [{\"alignmentgroup\":\"True\",\"hovertemplate\":\"Delivery Ratings=%{x}<br>Cuisines=%{y}<extra></extra>\",\"legendgroup\":\"\",\"marker\":{\"color\":\"#1F77B4\",\"pattern\":{\"shape\":\"\"}},\"name\":\"\",\"offsetgroup\":\"\",\"orientation\":\"h\",\"showlegend\":false,\"textposition\":\"auto\",\"x\":[3.4,3.5,8.3,7.9,4.0,4.4,4.1,11.9,0.0,3.6],\"xaxis\":\"x\",\"y\":[\", Desserts, Fast Food, Beverages\",\"Afghan, Biryani, Chinese, North Indian, Desserts, Beverages\",\"African, Burger, Fast Food, Beverages, Desserts\",\"American, Asian, Chinese, Continental, Fast Food, Salad, Burger, Sandwich\",\"American, Burger, Beverages\",\"American, Burger, Beverages, Shake\",\"American, Continental\",\"American, Continental, Bar Food, Chinese, Fast Food, Pizza, Burger, Beverages\",\"American, Continental, Fast Food\",\"American, Continental, Fast Food, Steak, Beverages, Shake\"],\"yaxis\":\"y\",\"type\":\"bar\"}],                        {\"template\":{\"data\":{\"barpolar\":[{\"marker\":{\"line\":{\"color\":\"white\",\"width\":0.5},\"pattern\":{\"fillmode\":\"overlay\",\"size\":10,\"solidity\":0.2}},\"type\":\"barpolar\"}],\"bar\":[{\"error_x\":{\"color\":\"rgb(36,36,36)\"},\"error_y\":{\"color\":\"rgb(36,36,36)\"},\"marker\":{\"line\":{\"color\":\"white\",\"width\":0.5},\"pattern\":{\"fillmode\":\"overlay\",\"size\":10,\"solidity\":0.2}},\"type\":\"bar\"}],\"carpet\":[{\"aaxis\":{\"endlinecolor\":\"rgb(36,36,36)\",\"gridcolor\":\"white\",\"linecolor\":\"white\",\"minorgridcolor\":\"white\",\"startlinecolor\":\"rgb(36,36,36)\"},\"baxis\":{\"endlinecolor\":\"rgb(36,36,36)\",\"gridcolor\":\"white\",\"linecolor\":\"white\",\"minorgridcolor\":\"white\",\"startlinecolor\":\"rgb(36,36,36)\"},\"type\":\"carpet\"}],\"choropleth\":[{\"colorbar\":{\"outlinewidth\":1,\"tickcolor\":\"rgb(36,36,36)\",\"ticks\":\"outside\"},\"type\":\"choropleth\"}],\"contourcarpet\":[{\"colorbar\":{\"outlinewidth\":1,\"tickcolor\":\"rgb(36,36,36)\",\"ticks\":\"outside\"},\"type\":\"contourcarpet\"}],\"contour\":[{\"colorbar\":{\"outlinewidth\":1,\"tickcolor\":\"rgb(36,36,36)\",\"ticks\":\"outside\"},\"colorscale\":[[0.0,\"#440154\"],[0.1111111111111111,\"#482878\"],[0.2222222222222222,\"#3e4989\"],[0.3333333333333333,\"#31688e\"],[0.4444444444444444,\"#26828e\"],[0.5555555555555556,\"#1f9e89\"],[0.6666666666666666,\"#35b779\"],[0.7777777777777778,\"#6ece58\"],[0.8888888888888888,\"#b5de2b\"],[1.0,\"#fde725\"]],\"type\":\"contour\"}],\"heatmapgl\":[{\"colorbar\":{\"outlinewidth\":1,\"tickcolor\":\"rgb(36,36,36)\",\"ticks\":\"outside\"},\"colorscale\":[[0.0,\"#440154\"],[0.1111111111111111,\"#482878\"],[0.2222222222222222,\"#3e4989\"],[0.3333333333333333,\"#31688e\"],[0.4444444444444444,\"#26828e\"],[0.5555555555555556,\"#1f9e89\"],[0.6666666666666666,\"#35b779\"],[0.7777777777777778,\"#6ece58\"],[0.8888888888888888,\"#b5de2b\"],[1.0,\"#fde725\"]],\"type\":\"heatmapgl\"}],\"heatmap\":[{\"colorbar\":{\"outlinewidth\":1,\"tickcolor\":\"rgb(36,36,36)\",\"ticks\":\"outside\"},\"colorscale\":[[0.0,\"#440154\"],[0.1111111111111111,\"#482878\"],[0.2222222222222222,\"#3e4989\"],[0.3333333333333333,\"#31688e\"],[0.4444444444444444,\"#26828e\"],[0.5555555555555556,\"#1f9e89\"],[0.6666666666666666,\"#35b779\"],[0.7777777777777778,\"#6ece58\"],[0.8888888888888888,\"#b5de2b\"],[1.0,\"#fde725\"]],\"type\":\"heatmap\"}],\"histogram2dcontour\":[{\"colorbar\":{\"outlinewidth\":1,\"tickcolor\":\"rgb(36,36,36)\",\"ticks\":\"outside\"},\"colorscale\":[[0.0,\"#440154\"],[0.1111111111111111,\"#482878\"],[0.2222222222222222,\"#3e4989\"],[0.3333333333333333,\"#31688e\"],[0.4444444444444444,\"#26828e\"],[0.5555555555555556,\"#1f9e89\"],[0.6666666666666666,\"#35b779\"],[0.7777777777777778,\"#6ece58\"],[0.8888888888888888,\"#b5de2b\"],[1.0,\"#fde725\"]],\"type\":\"histogram2dcontour\"}],\"histogram2d\":[{\"colorbar\":{\"outlinewidth\":1,\"tickcolor\":\"rgb(36,36,36)\",\"ticks\":\"outside\"},\"colorscale\":[[0.0,\"#440154\"],[0.1111111111111111,\"#482878\"],[0.2222222222222222,\"#3e4989\"],[0.3333333333333333,\"#31688e\"],[0.4444444444444444,\"#26828e\"],[0.5555555555555556,\"#1f9e89\"],[0.6666666666666666,\"#35b779\"],[0.7777777777777778,\"#6ece58\"],[0.8888888888888888,\"#b5de2b\"],[1.0,\"#fde725\"]],\"type\":\"histogram2d\"}],\"histogram\":[{\"marker\":{\"line\":{\"color\":\"white\",\"width\":0.6}},\"type\":\"histogram\"}],\"mesh3d\":[{\"colorbar\":{\"outlinewidth\":1,\"tickcolor\":\"rgb(36,36,36)\",\"ticks\":\"outside\"},\"type\":\"mesh3d\"}],\"parcoords\":[{\"line\":{\"colorbar\":{\"outlinewidth\":1,\"tickcolor\":\"rgb(36,36,36)\",\"ticks\":\"outside\"}},\"type\":\"parcoords\"}],\"pie\":[{\"automargin\":true,\"type\":\"pie\"}],\"scatter3d\":[{\"line\":{\"colorbar\":{\"outlinewidth\":1,\"tickcolor\":\"rgb(36,36,36)\",\"ticks\":\"outside\"}},\"marker\":{\"colorbar\":{\"outlinewidth\":1,\"tickcolor\":\"rgb(36,36,36)\",\"ticks\":\"outside\"}},\"type\":\"scatter3d\"}],\"scattercarpet\":[{\"marker\":{\"colorbar\":{\"outlinewidth\":1,\"tickcolor\":\"rgb(36,36,36)\",\"ticks\":\"outside\"}},\"type\":\"scattercarpet\"}],\"scattergeo\":[{\"marker\":{\"colorbar\":{\"outlinewidth\":1,\"tickcolor\":\"rgb(36,36,36)\",\"ticks\":\"outside\"}},\"type\":\"scattergeo\"}],\"scattergl\":[{\"marker\":{\"colorbar\":{\"outlinewidth\":1,\"tickcolor\":\"rgb(36,36,36)\",\"ticks\":\"outside\"}},\"type\":\"scattergl\"}],\"scattermapbox\":[{\"marker\":{\"colorbar\":{\"outlinewidth\":1,\"tickcolor\":\"rgb(36,36,36)\",\"ticks\":\"outside\"}},\"type\":\"scattermapbox\"}],\"scatterpolargl\":[{\"marker\":{\"colorbar\":{\"outlinewidth\":1,\"tickcolor\":\"rgb(36,36,36)\",\"ticks\":\"outside\"}},\"type\":\"scatterpolargl\"}],\"scatterpolar\":[{\"marker\":{\"colorbar\":{\"outlinewidth\":1,\"tickcolor\":\"rgb(36,36,36)\",\"ticks\":\"outside\"}},\"type\":\"scatterpolar\"}],\"scatter\":[{\"fillpattern\":{\"fillmode\":\"overlay\",\"size\":10,\"solidity\":0.2},\"type\":\"scatter\"}],\"scatterternary\":[{\"marker\":{\"colorbar\":{\"outlinewidth\":1,\"tickcolor\":\"rgb(36,36,36)\",\"ticks\":\"outside\"}},\"type\":\"scatterternary\"}],\"surface\":[{\"colorbar\":{\"outlinewidth\":1,\"tickcolor\":\"rgb(36,36,36)\",\"ticks\":\"outside\"},\"colorscale\":[[0.0,\"#440154\"],[0.1111111111111111,\"#482878\"],[0.2222222222222222,\"#3e4989\"],[0.3333333333333333,\"#31688e\"],[0.4444444444444444,\"#26828e\"],[0.5555555555555556,\"#1f9e89\"],[0.6666666666666666,\"#35b779\"],[0.7777777777777778,\"#6ece58\"],[0.8888888888888888,\"#b5de2b\"],[1.0,\"#fde725\"]],\"type\":\"surface\"}],\"table\":[{\"cells\":{\"fill\":{\"color\":\"rgb(237,237,237)\"},\"line\":{\"color\":\"white\"}},\"header\":{\"fill\":{\"color\":\"rgb(217,217,217)\"},\"line\":{\"color\":\"white\"}},\"type\":\"table\"}]},\"layout\":{\"annotationdefaults\":{\"arrowhead\":0,\"arrowwidth\":1},\"autotypenumbers\":\"strict\",\"coloraxis\":{\"colorbar\":{\"outlinewidth\":1,\"tickcolor\":\"rgb(36,36,36)\",\"ticks\":\"outside\"}},\"colorscale\":{\"diverging\":[[0.0,\"rgb(103,0,31)\"],[0.1,\"rgb(178,24,43)\"],[0.2,\"rgb(214,96,77)\"],[0.3,\"rgb(244,165,130)\"],[0.4,\"rgb(253,219,199)\"],[0.5,\"rgb(247,247,247)\"],[0.6,\"rgb(209,229,240)\"],[0.7,\"rgb(146,197,222)\"],[0.8,\"rgb(67,147,195)\"],[0.9,\"rgb(33,102,172)\"],[1.0,\"rgb(5,48,97)\"]],\"sequential\":[[0.0,\"#440154\"],[0.1111111111111111,\"#482878\"],[0.2222222222222222,\"#3e4989\"],[0.3333333333333333,\"#31688e\"],[0.4444444444444444,\"#26828e\"],[0.5555555555555556,\"#1f9e89\"],[0.6666666666666666,\"#35b779\"],[0.7777777777777778,\"#6ece58\"],[0.8888888888888888,\"#b5de2b\"],[1.0,\"#fde725\"]],\"sequentialminus\":[[0.0,\"#440154\"],[0.1111111111111111,\"#482878\"],[0.2222222222222222,\"#3e4989\"],[0.3333333333333333,\"#31688e\"],[0.4444444444444444,\"#26828e\"],[0.5555555555555556,\"#1f9e89\"],[0.6666666666666666,\"#35b779\"],[0.7777777777777778,\"#6ece58\"],[0.8888888888888888,\"#b5de2b\"],[1.0,\"#fde725\"]]},\"colorway\":[\"#1F77B4\",\"#FF7F0E\",\"#2CA02C\",\"#D62728\",\"#9467BD\",\"#8C564B\",\"#E377C2\",\"#7F7F7F\",\"#BCBD22\",\"#17BECF\"],\"font\":{\"color\":\"rgb(36,36,36)\"},\"geo\":{\"bgcolor\":\"white\",\"lakecolor\":\"white\",\"landcolor\":\"white\",\"showlakes\":true,\"showland\":true,\"subunitcolor\":\"white\"},\"hoverlabel\":{\"align\":\"left\"},\"hovermode\":\"closest\",\"mapbox\":{\"style\":\"light\"},\"paper_bgcolor\":\"white\",\"plot_bgcolor\":\"white\",\"polar\":{\"angularaxis\":{\"gridcolor\":\"rgb(232,232,232)\",\"linecolor\":\"rgb(36,36,36)\",\"showgrid\":false,\"showline\":true,\"ticks\":\"outside\"},\"bgcolor\":\"white\",\"radialaxis\":{\"gridcolor\":\"rgb(232,232,232)\",\"linecolor\":\"rgb(36,36,36)\",\"showgrid\":false,\"showline\":true,\"ticks\":\"outside\"}},\"scene\":{\"xaxis\":{\"backgroundcolor\":\"white\",\"gridcolor\":\"rgb(232,232,232)\",\"gridwidth\":2,\"linecolor\":\"rgb(36,36,36)\",\"showbackground\":true,\"showgrid\":false,\"showline\":true,\"ticks\":\"outside\",\"zeroline\":false,\"zerolinecolor\":\"rgb(36,36,36)\"},\"yaxis\":{\"backgroundcolor\":\"white\",\"gridcolor\":\"rgb(232,232,232)\",\"gridwidth\":2,\"linecolor\":\"rgb(36,36,36)\",\"showbackground\":true,\"showgrid\":false,\"showline\":true,\"ticks\":\"outside\",\"zeroline\":false,\"zerolinecolor\":\"rgb(36,36,36)\"},\"zaxis\":{\"backgroundcolor\":\"white\",\"gridcolor\":\"rgb(232,232,232)\",\"gridwidth\":2,\"linecolor\":\"rgb(36,36,36)\",\"showbackground\":true,\"showgrid\":false,\"showline\":true,\"ticks\":\"outside\",\"zeroline\":false,\"zerolinecolor\":\"rgb(36,36,36)\"}},\"shapedefaults\":{\"fillcolor\":\"black\",\"line\":{\"width\":0},\"opacity\":0.3},\"ternary\":{\"aaxis\":{\"gridcolor\":\"rgb(232,232,232)\",\"linecolor\":\"rgb(36,36,36)\",\"showgrid\":false,\"showline\":true,\"ticks\":\"outside\"},\"baxis\":{\"gridcolor\":\"rgb(232,232,232)\",\"linecolor\":\"rgb(36,36,36)\",\"showgrid\":false,\"showline\":true,\"ticks\":\"outside\"},\"bgcolor\":\"white\",\"caxis\":{\"gridcolor\":\"rgb(232,232,232)\",\"linecolor\":\"rgb(36,36,36)\",\"showgrid\":false,\"showline\":true,\"ticks\":\"outside\"}},\"title\":{\"x\":0.05},\"xaxis\":{\"automargin\":true,\"gridcolor\":\"rgb(232,232,232)\",\"linecolor\":\"rgb(36,36,36)\",\"showgrid\":false,\"showline\":true,\"ticks\":\"outside\",\"title\":{\"standoff\":15},\"zeroline\":false,\"zerolinecolor\":\"rgb(36,36,36)\"},\"yaxis\":{\"automargin\":true,\"gridcolor\":\"rgb(232,232,232)\",\"linecolor\":\"rgb(36,36,36)\",\"showgrid\":false,\"showline\":true,\"ticks\":\"outside\",\"title\":{\"standoff\":15},\"zeroline\":false,\"zerolinecolor\":\"rgb(36,36,36)\"}}},\"xaxis\":{\"anchor\":\"y\",\"domain\":[0.0,1.0],\"title\":{\"text\":\"Delivery Ratings\"}},\"yaxis\":{\"anchor\":\"x\",\"domain\":[0.0,1.0],\"title\":{\"text\":\"Cuisines\"},\"categoryorder\":\"total ascending\"},\"legend\":{\"tracegroupgap\":0},\"title\":{\"text\":\"Ratings Of Various Cuisines\"},\"barmode\":\"relative\"},                        {\"responsive\": true}                    ).then(function(){\n",
       "                            \n",
       "var gd = document.getElementById('ec02737a-8571-452e-8a77-f86f4d71d520');\n",
       "var x = new MutationObserver(function (mutations, observer) {{\n",
       "        var display = window.getComputedStyle(gd).display;\n",
       "        if (!display || display === 'none') {{\n",
       "            console.log([gd, 'removed!']);\n",
       "            Plotly.purge(gd);\n",
       "            observer.disconnect();\n",
       "        }}\n",
       "}});\n",
       "\n",
       "// Listen for the removal of the full notebook cells\n",
       "var notebookContainer = gd.closest('#notebook-container');\n",
       "if (notebookContainer) {{\n",
       "    x.observe(notebookContainer, {childList: true});\n",
       "}}\n",
       "\n",
       "// Listen for the clearing of the current output cell\n",
       "var outputEl = gd.closest('.output');\n",
       "if (outputEl) {{\n",
       "    x.observe(outputEl, {childList: true});\n",
       "}}\n",
       "\n",
       "                        })                };                });            </script>        </div>"
      ]
     },
     "metadata": {},
     "output_type": "display_data"
    }
   ],
   "source": [
    "#What is the highest rating restaurant for any particular cuisines?\n",
    "fig = px.bar(df.groupby(['Cuisines']).sum().head(10), \n",
    "             x='Delivery Ratings', \n",
    "             template='simple_white', \n",
    "             title ='Ratings Of Various Cuisines')\n",
    "fig.update_yaxes(categoryorder='total ascending')\n",
    "fig.show();"
   ]
  },
  {
   "cell_type": "code",
   "execution_count": 20,
   "id": "e67c8657",
   "metadata": {
    "execution": {
     "iopub.execute_input": "2022-10-10T07:02:07.378360Z",
     "iopub.status.busy": "2022-10-10T07:02:07.377686Z",
     "iopub.status.idle": "2022-10-10T07:02:07.412801Z",
     "shell.execute_reply": "2022-10-10T07:02:07.411946Z"
    },
    "papermill": {
     "duration": 0.136849,
     "end_time": "2022-10-10T07:02:07.414996",
     "exception": false,
     "start_time": "2022-10-10T07:02:07.278147",
     "status": "completed"
    },
    "tags": []
   },
   "outputs": [
    {
     "data": {
      "text/html": [
       "<div>\n",
       "<style scoped>\n",
       "    .dataframe tbody tr th:only-of-type {\n",
       "        vertical-align: middle;\n",
       "    }\n",
       "\n",
       "    .dataframe tbody tr th {\n",
       "        vertical-align: top;\n",
       "    }\n",
       "\n",
       "    .dataframe thead th {\n",
       "        text-align: right;\n",
       "    }\n",
       "</style>\n",
       "<table border=\"1\" class=\"dataframe\">\n",
       "  <thead>\n",
       "    <tr style=\"text-align: right;\">\n",
       "      <th></th>\n",
       "      <th>IsHomeDelivery</th>\n",
       "      <th>isTakeaway</th>\n",
       "      <th>isIndoorSeating</th>\n",
       "      <th>isVegOnly</th>\n",
       "      <th>Dinner Ratings</th>\n",
       "      <th>Dinner Reviews</th>\n",
       "      <th>Delivery Ratings</th>\n",
       "      <th>Delivery Reviews</th>\n",
       "      <th>AverageCost</th>\n",
       "    </tr>\n",
       "    <tr>\n",
       "      <th>Cuisines</th>\n",
       "      <th></th>\n",
       "      <th></th>\n",
       "      <th></th>\n",
       "      <th></th>\n",
       "      <th></th>\n",
       "      <th></th>\n",
       "      <th></th>\n",
       "      <th></th>\n",
       "      <th></th>\n",
       "    </tr>\n",
       "  </thead>\n",
       "  <tbody>\n",
       "    <tr>\n",
       "      <th>Beverages, Bubble Tea</th>\n",
       "      <td>1.0</td>\n",
       "      <td>0.0</td>\n",
       "      <td>0.0</td>\n",
       "      <td>0.0</td>\n",
       "      <td>0.0</td>\n",
       "      <td>0.0</td>\n",
       "      <td>4.6</td>\n",
       "      <td>195.0</td>\n",
       "      <td>250.0</td>\n",
       "    </tr>\n",
       "    <tr>\n",
       "      <th>Bakery, Fast Food, Desserts, Beverages</th>\n",
       "      <td>1.0</td>\n",
       "      <td>1.0</td>\n",
       "      <td>0.0</td>\n",
       "      <td>0.0</td>\n",
       "      <td>0.0</td>\n",
       "      <td>0.0</td>\n",
       "      <td>4.6</td>\n",
       "      <td>674.0</td>\n",
       "      <td>350.0</td>\n",
       "    </tr>\n",
       "    <tr>\n",
       "      <th>Street Food, Fast Food, Beverages, Coffee</th>\n",
       "      <td>1.0</td>\n",
       "      <td>1.0</td>\n",
       "      <td>1.0</td>\n",
       "      <td>0.0</td>\n",
       "      <td>4.4</td>\n",
       "      <td>370.0</td>\n",
       "      <td>4.6</td>\n",
       "      <td>244.0</td>\n",
       "      <td>400.0</td>\n",
       "    </tr>\n",
       "    <tr>\n",
       "      <th>Maharashtrian</th>\n",
       "      <td>1.0</td>\n",
       "      <td>1.0</td>\n",
       "      <td>1.0</td>\n",
       "      <td>1.0</td>\n",
       "      <td>4.2</td>\n",
       "      <td>195.0</td>\n",
       "      <td>4.5</td>\n",
       "      <td>834.0</td>\n",
       "      <td>250.0</td>\n",
       "    </tr>\n",
       "    <tr>\n",
       "      <th>Korean</th>\n",
       "      <td>1.0</td>\n",
       "      <td>1.0</td>\n",
       "      <td>1.0</td>\n",
       "      <td>0.0</td>\n",
       "      <td>4.1</td>\n",
       "      <td>251.0</td>\n",
       "      <td>4.5</td>\n",
       "      <td>578.0</td>\n",
       "      <td>800.0</td>\n",
       "    </tr>\n",
       "    <tr>\n",
       "      <th>...</th>\n",
       "      <td>...</td>\n",
       "      <td>...</td>\n",
       "      <td>...</td>\n",
       "      <td>...</td>\n",
       "      <td>...</td>\n",
       "      <td>...</td>\n",
       "      <td>...</td>\n",
       "      <td>...</td>\n",
       "      <td>...</td>\n",
       "    </tr>\n",
       "    <tr>\n",
       "      <th>Bengali, Street Food</th>\n",
       "      <td>1.0</td>\n",
       "      <td>0.0</td>\n",
       "      <td>0.0</td>\n",
       "      <td>0.0</td>\n",
       "      <td>0.0</td>\n",
       "      <td>0.0</td>\n",
       "      <td>0.0</td>\n",
       "      <td>0.0</td>\n",
       "      <td>100.0</td>\n",
       "    </tr>\n",
       "    <tr>\n",
       "      <th>Continental, Asian, Bar Food, Desserts, Beverages</th>\n",
       "      <td>1.0</td>\n",
       "      <td>1.0</td>\n",
       "      <td>1.0</td>\n",
       "      <td>0.0</td>\n",
       "      <td>4.2</td>\n",
       "      <td>1042.0</td>\n",
       "      <td>0.0</td>\n",
       "      <td>7.0</td>\n",
       "      <td>1700.0</td>\n",
       "    </tr>\n",
       "    <tr>\n",
       "      <th>Mughlai, North Indian, Chinese, Biryani</th>\n",
       "      <td>1.0</td>\n",
       "      <td>1.0</td>\n",
       "      <td>1.0</td>\n",
       "      <td>0.0</td>\n",
       "      <td>3.0</td>\n",
       "      <td>19.0</td>\n",
       "      <td>0.0</td>\n",
       "      <td>0.0</td>\n",
       "      <td>1200.0</td>\n",
       "    </tr>\n",
       "    <tr>\n",
       "      <th>Mughlai, North Indian, Chinese, Biryani, Mangalorean</th>\n",
       "      <td>1.0</td>\n",
       "      <td>1.0</td>\n",
       "      <td>0.0</td>\n",
       "      <td>0.0</td>\n",
       "      <td>0.0</td>\n",
       "      <td>0.0</td>\n",
       "      <td>0.0</td>\n",
       "      <td>8.0</td>\n",
       "      <td>400.0</td>\n",
       "    </tr>\n",
       "    <tr>\n",
       "      <th>Biryani, Seafood, Chinese, South Indian, Kebab</th>\n",
       "      <td>1.0</td>\n",
       "      <td>1.0</td>\n",
       "      <td>1.0</td>\n",
       "      <td>0.0</td>\n",
       "      <td>0.0</td>\n",
       "      <td>0.0</td>\n",
       "      <td>0.0</td>\n",
       "      <td>14.0</td>\n",
       "      <td>200.0</td>\n",
       "    </tr>\n",
       "  </tbody>\n",
       "</table>\n",
       "<p>2939 rows × 9 columns</p>\n",
       "</div>"
      ],
      "text/plain": [
       "                                                    IsHomeDelivery  \\\n",
       "Cuisines                                                             \n",
       "Beverages, Bubble Tea                                          1.0   \n",
       "Bakery, Fast Food, Desserts, Beverages                         1.0   \n",
       "Street Food, Fast Food, Beverages, Coffee                      1.0   \n",
       "Maharashtrian                                                  1.0   \n",
       "Korean                                                         1.0   \n",
       "...                                                            ...   \n",
       "Bengali, Street Food                                           1.0   \n",
       "Continental, Asian, Bar Food, Desserts, Beverages              1.0   \n",
       "Mughlai, North Indian, Chinese, Biryani                        1.0   \n",
       "Mughlai, North Indian, Chinese, Biryani, Mangal...             1.0   \n",
       "Biryani, Seafood, Chinese, South Indian, Kebab                 1.0   \n",
       "\n",
       "                                                    isTakeaway  \\\n",
       "Cuisines                                                         \n",
       "Beverages, Bubble Tea                                      0.0   \n",
       "Bakery, Fast Food, Desserts, Beverages                     1.0   \n",
       "Street Food, Fast Food, Beverages, Coffee                  1.0   \n",
       "Maharashtrian                                              1.0   \n",
       "Korean                                                     1.0   \n",
       "...                                                        ...   \n",
       "Bengali, Street Food                                       0.0   \n",
       "Continental, Asian, Bar Food, Desserts, Beverages          1.0   \n",
       "Mughlai, North Indian, Chinese, Biryani                    1.0   \n",
       "Mughlai, North Indian, Chinese, Biryani, Mangal...         1.0   \n",
       "Biryani, Seafood, Chinese, South Indian, Kebab             1.0   \n",
       "\n",
       "                                                    isIndoorSeating  \\\n",
       "Cuisines                                                              \n",
       "Beverages, Bubble Tea                                           0.0   \n",
       "Bakery, Fast Food, Desserts, Beverages                          0.0   \n",
       "Street Food, Fast Food, Beverages, Coffee                       1.0   \n",
       "Maharashtrian                                                   1.0   \n",
       "Korean                                                          1.0   \n",
       "...                                                             ...   \n",
       "Bengali, Street Food                                            0.0   \n",
       "Continental, Asian, Bar Food, Desserts, Beverages               1.0   \n",
       "Mughlai, North Indian, Chinese, Biryani                         1.0   \n",
       "Mughlai, North Indian, Chinese, Biryani, Mangal...              0.0   \n",
       "Biryani, Seafood, Chinese, South Indian, Kebab                  1.0   \n",
       "\n",
       "                                                    isVegOnly  Dinner Ratings  \\\n",
       "Cuisines                                                                        \n",
       "Beverages, Bubble Tea                                     0.0             0.0   \n",
       "Bakery, Fast Food, Desserts, Beverages                    0.0             0.0   \n",
       "Street Food, Fast Food, Beverages, Coffee                 0.0             4.4   \n",
       "Maharashtrian                                             1.0             4.2   \n",
       "Korean                                                    0.0             4.1   \n",
       "...                                                       ...             ...   \n",
       "Bengali, Street Food                                      0.0             0.0   \n",
       "Continental, Asian, Bar Food, Desserts, Beverages         0.0             4.2   \n",
       "Mughlai, North Indian, Chinese, Biryani                   0.0             3.0   \n",
       "Mughlai, North Indian, Chinese, Biryani, Mangal...        0.0             0.0   \n",
       "Biryani, Seafood, Chinese, South Indian, Kebab            0.0             0.0   \n",
       "\n",
       "                                                    Dinner Reviews  \\\n",
       "Cuisines                                                             \n",
       "Beverages, Bubble Tea                                          0.0   \n",
       "Bakery, Fast Food, Desserts, Beverages                         0.0   \n",
       "Street Food, Fast Food, Beverages, Coffee                    370.0   \n",
       "Maharashtrian                                                195.0   \n",
       "Korean                                                       251.0   \n",
       "...                                                            ...   \n",
       "Bengali, Street Food                                           0.0   \n",
       "Continental, Asian, Bar Food, Desserts, Beverages           1042.0   \n",
       "Mughlai, North Indian, Chinese, Biryani                       19.0   \n",
       "Mughlai, North Indian, Chinese, Biryani, Mangal...             0.0   \n",
       "Biryani, Seafood, Chinese, South Indian, Kebab                 0.0   \n",
       "\n",
       "                                                    Delivery Ratings  \\\n",
       "Cuisines                                                               \n",
       "Beverages, Bubble Tea                                            4.6   \n",
       "Bakery, Fast Food, Desserts, Beverages                           4.6   \n",
       "Street Food, Fast Food, Beverages, Coffee                        4.6   \n",
       "Maharashtrian                                                    4.5   \n",
       "Korean                                                           4.5   \n",
       "...                                                              ...   \n",
       "Bengali, Street Food                                             0.0   \n",
       "Continental, Asian, Bar Food, Desserts, Beverages                0.0   \n",
       "Mughlai, North Indian, Chinese, Biryani                          0.0   \n",
       "Mughlai, North Indian, Chinese, Biryani, Mangal...               0.0   \n",
       "Biryani, Seafood, Chinese, South Indian, Kebab                   0.0   \n",
       "\n",
       "                                                    Delivery Reviews  \\\n",
       "Cuisines                                                               \n",
       "Beverages, Bubble Tea                                          195.0   \n",
       "Bakery, Fast Food, Desserts, Beverages                         674.0   \n",
       "Street Food, Fast Food, Beverages, Coffee                      244.0   \n",
       "Maharashtrian                                                  834.0   \n",
       "Korean                                                         578.0   \n",
       "...                                                              ...   \n",
       "Bengali, Street Food                                             0.0   \n",
       "Continental, Asian, Bar Food, Desserts, Beverages                7.0   \n",
       "Mughlai, North Indian, Chinese, Biryani                          0.0   \n",
       "Mughlai, North Indian, Chinese, Biryani, Mangal...               8.0   \n",
       "Biryani, Seafood, Chinese, South Indian, Kebab                  14.0   \n",
       "\n",
       "                                                    AverageCost  \n",
       "Cuisines                                                         \n",
       "Beverages, Bubble Tea                                     250.0  \n",
       "Bakery, Fast Food, Desserts, Beverages                    350.0  \n",
       "Street Food, Fast Food, Beverages, Coffee                 400.0  \n",
       "Maharashtrian                                             250.0  \n",
       "Korean                                                    800.0  \n",
       "...                                                         ...  \n",
       "Bengali, Street Food                                      100.0  \n",
       "Continental, Asian, Bar Food, Desserts, Beverages        1700.0  \n",
       "Mughlai, North Indian, Chinese, Biryani                  1200.0  \n",
       "Mughlai, North Indian, Chinese, Biryani, Mangal...        400.0  \n",
       "Biryani, Seafood, Chinese, South Indian, Kebab            200.0  \n",
       "\n",
       "[2939 rows x 9 columns]"
      ]
     },
     "execution_count": 20,
     "metadata": {},
     "output_type": "execute_result"
    }
   ],
   "source": [
    "#What is the highest rating restaurant for any particular cuisines?\n",
    "df.groupby(['Cuisines']).mean().sort_values(by='Delivery Ratings', ascending=False)"
   ]
  },
  {
   "cell_type": "code",
   "execution_count": 21,
   "id": "0f5cef7a",
   "metadata": {
    "execution": {
     "iopub.execute_input": "2022-10-10T07:02:07.619974Z",
     "iopub.status.busy": "2022-10-10T07:02:07.619633Z",
     "iopub.status.idle": "2022-10-10T07:02:07.642144Z",
     "shell.execute_reply": "2022-10-10T07:02:07.641150Z"
    },
    "papermill": {
     "duration": 0.126217,
     "end_time": "2022-10-10T07:02:07.644289",
     "exception": false,
     "start_time": "2022-10-10T07:02:07.518072",
     "status": "completed"
    },
    "tags": []
   },
   "outputs": [
    {
     "data": {
      "text/html": [
       "<div>\n",
       "<style scoped>\n",
       "    .dataframe tbody tr th:only-of-type {\n",
       "        vertical-align: middle;\n",
       "    }\n",
       "\n",
       "    .dataframe tbody tr th {\n",
       "        vertical-align: top;\n",
       "    }\n",
       "\n",
       "    .dataframe thead th {\n",
       "        text-align: right;\n",
       "    }\n",
       "</style>\n",
       "<table border=\"1\" class=\"dataframe\">\n",
       "  <thead>\n",
       "    <tr style=\"text-align: right;\">\n",
       "      <th></th>\n",
       "      <th>Name</th>\n",
       "      <th>URL</th>\n",
       "      <th>Cuisines</th>\n",
       "      <th>Area</th>\n",
       "      <th>Timing</th>\n",
       "      <th>Full_Address</th>\n",
       "      <th>PhoneNumber</th>\n",
       "      <th>IsHomeDelivery</th>\n",
       "      <th>isTakeaway</th>\n",
       "      <th>isIndoorSeating</th>\n",
       "      <th>isVegOnly</th>\n",
       "      <th>Dinner Ratings</th>\n",
       "      <th>Dinner Reviews</th>\n",
       "      <th>Delivery Ratings</th>\n",
       "      <th>Delivery Reviews</th>\n",
       "      <th>KnownFor</th>\n",
       "      <th>PopularDishes</th>\n",
       "      <th>PeopleKnownFor</th>\n",
       "      <th>AverageCost</th>\n",
       "    </tr>\n",
       "  </thead>\n",
       "  <tbody>\n",
       "    <tr>\n",
       "      <th>231</th>\n",
       "      <td>Milano Ice Cream</td>\n",
       "      <td>https://www.zomato.com/bangalore/milano-ice-cr...</td>\n",
       "      <td>Desserts, Ice Cream, Beverages, Shake</td>\n",
       "      <td>Indiranagar, Bangalore</td>\n",
       "      <td>9:30am – 10pm (Today)</td>\n",
       "      <td>460, 2nd Cross, Krishna Temple Road, Indiranag...</td>\n",
       "      <td>+918041256483</td>\n",
       "      <td>1</td>\n",
       "      <td>1</td>\n",
       "      <td>1</td>\n",
       "      <td>0</td>\n",
       "      <td>4.9</td>\n",
       "      <td>2582</td>\n",
       "      <td>4.3</td>\n",
       "      <td>1642</td>\n",
       "      <td>Varieties of Gelato Ice Creams.</td>\n",
       "      <td>Baileys Ice Cream, Extra Dark Chocolate, Vanil...</td>\n",
       "      <td>Bank for the Buck, Totally Worth it, Cozy Ambi...</td>\n",
       "      <td>400</td>\n",
       "    </tr>\n",
       "  </tbody>\n",
       "</table>\n",
       "</div>"
      ],
      "text/plain": [
       "                 Name                                                URL  \\\n",
       "231  Milano Ice Cream  https://www.zomato.com/bangalore/milano-ice-cr...   \n",
       "\n",
       "                                  Cuisines                    Area  \\\n",
       "231  Desserts, Ice Cream, Beverages, Shake  Indiranagar, Bangalore   \n",
       "\n",
       "                    Timing                                       Full_Address  \\\n",
       "231  9:30am – 10pm (Today)  460, 2nd Cross, Krishna Temple Road, Indiranag...   \n",
       "\n",
       "       PhoneNumber  IsHomeDelivery  isTakeaway  isIndoorSeating  isVegOnly  \\\n",
       "231  +918041256483               1           1                1          0   \n",
       "\n",
       "     Dinner Ratings  Dinner Reviews  Delivery Ratings  Delivery Reviews  \\\n",
       "231             4.9            2582               4.3              1642   \n",
       "\n",
       "                            KnownFor  \\\n",
       "231  Varieties of Gelato Ice Creams.   \n",
       "\n",
       "                                         PopularDishes  \\\n",
       "231  Baileys Ice Cream, Extra Dark Chocolate, Vanil...   \n",
       "\n",
       "                                        PeopleKnownFor  AverageCost  \n",
       "231  Bank for the Buck, Totally Worth it, Cozy Ambi...          400  "
      ]
     },
     "execution_count": 21,
     "metadata": {},
     "output_type": "execute_result"
    }
   ],
   "source": [
    "#What is the best restaurant for each category (Dine-In, Delivery, Takeaway, Vegetarian)\n",
    "df[df.isIndoorSeating.eq(1)].sort_values(by='Dinner Ratings', ascending=False).head(1)"
   ]
  },
  {
   "cell_type": "code",
   "execution_count": 22,
   "id": "50b4159e",
   "metadata": {
    "execution": {
     "iopub.execute_input": "2022-10-10T07:02:07.845692Z",
     "iopub.status.busy": "2022-10-10T07:02:07.845351Z",
     "iopub.status.idle": "2022-10-10T07:02:07.870181Z",
     "shell.execute_reply": "2022-10-10T07:02:07.869343Z"
    },
    "papermill": {
     "duration": 0.128118,
     "end_time": "2022-10-10T07:02:07.872136",
     "exception": false,
     "start_time": "2022-10-10T07:02:07.744018",
     "status": "completed"
    },
    "tags": []
   },
   "outputs": [
    {
     "data": {
      "text/html": [
       "<div>\n",
       "<style scoped>\n",
       "    .dataframe tbody tr th:only-of-type {\n",
       "        vertical-align: middle;\n",
       "    }\n",
       "\n",
       "    .dataframe tbody tr th {\n",
       "        vertical-align: top;\n",
       "    }\n",
       "\n",
       "    .dataframe thead th {\n",
       "        text-align: right;\n",
       "    }\n",
       "</style>\n",
       "<table border=\"1\" class=\"dataframe\">\n",
       "  <thead>\n",
       "    <tr style=\"text-align: right;\">\n",
       "      <th></th>\n",
       "      <th>Name</th>\n",
       "      <th>URL</th>\n",
       "      <th>Cuisines</th>\n",
       "      <th>Area</th>\n",
       "      <th>Timing</th>\n",
       "      <th>Full_Address</th>\n",
       "      <th>PhoneNumber</th>\n",
       "      <th>IsHomeDelivery</th>\n",
       "      <th>isTakeaway</th>\n",
       "      <th>isIndoorSeating</th>\n",
       "      <th>isVegOnly</th>\n",
       "      <th>Dinner Ratings</th>\n",
       "      <th>Dinner Reviews</th>\n",
       "      <th>Delivery Ratings</th>\n",
       "      <th>Delivery Reviews</th>\n",
       "      <th>KnownFor</th>\n",
       "      <th>PopularDishes</th>\n",
       "      <th>PeopleKnownFor</th>\n",
       "      <th>AverageCost</th>\n",
       "    </tr>\n",
       "  </thead>\n",
       "  <tbody>\n",
       "    <tr>\n",
       "      <th>5924</th>\n",
       "      <td>Apsara Ice Creams</td>\n",
       "      <td>https://www.zomato.com/bangalore/apsara-ice-cr...</td>\n",
       "      <td>Ice Cream, Desserts</td>\n",
       "      <td>Kalyan Nagar, Bangalore</td>\n",
       "      <td>NaN</td>\n",
       "      <td>Habitat 15, PG Building, 201, 15th C Main, HRB...</td>\n",
       "      <td>+919606826691</td>\n",
       "      <td>1</td>\n",
       "      <td>0</td>\n",
       "      <td>0</td>\n",
       "      <td>0</td>\n",
       "      <td>0.0</td>\n",
       "      <td>0</td>\n",
       "      <td>4.7</td>\n",
       "      <td>207</td>\n",
       "      <td>NaN</td>\n",
       "      <td>NaN</td>\n",
       "      <td>NaN</td>\n",
       "      <td>100</td>\n",
       "    </tr>\n",
       "  </tbody>\n",
       "</table>\n",
       "</div>"
      ],
      "text/plain": [
       "                   Name                                                URL  \\\n",
       "5924  Apsara Ice Creams  https://www.zomato.com/bangalore/apsara-ice-cr...   \n",
       "\n",
       "                 Cuisines                     Area Timing  \\\n",
       "5924  Ice Cream, Desserts  Kalyan Nagar, Bangalore    NaN   \n",
       "\n",
       "                                           Full_Address    PhoneNumber  \\\n",
       "5924  Habitat 15, PG Building, 201, 15th C Main, HRB...  +919606826691   \n",
       "\n",
       "      IsHomeDelivery  isTakeaway  isIndoorSeating  isVegOnly  Dinner Ratings  \\\n",
       "5924               1           0                0          0             0.0   \n",
       "\n",
       "      Dinner Reviews  Delivery Ratings  Delivery Reviews KnownFor  \\\n",
       "5924               0               4.7               207      NaN   \n",
       "\n",
       "     PopularDishes PeopleKnownFor  AverageCost  \n",
       "5924           NaN            NaN          100  "
      ]
     },
     "execution_count": 22,
     "metadata": {},
     "output_type": "execute_result"
    }
   ],
   "source": [
    "#What is the best restaurant for each category (Delivery)\n",
    "df[df.IsHomeDelivery.eq(1)].sort_values(by='Delivery Ratings', ascending=False).head(1)"
   ]
  },
  {
   "cell_type": "code",
   "execution_count": 23,
   "id": "b3a6625b",
   "metadata": {
    "execution": {
     "iopub.execute_input": "2022-10-10T07:02:08.075403Z",
     "iopub.status.busy": "2022-10-10T07:02:08.074789Z",
     "iopub.status.idle": "2022-10-10T07:02:08.098399Z",
     "shell.execute_reply": "2022-10-10T07:02:08.097512Z"
    },
    "papermill": {
     "duration": 0.128066,
     "end_time": "2022-10-10T07:02:08.100575",
     "exception": false,
     "start_time": "2022-10-10T07:02:07.972509",
     "status": "completed"
    },
    "tags": []
   },
   "outputs": [
    {
     "data": {
      "text/html": [
       "<div>\n",
       "<style scoped>\n",
       "    .dataframe tbody tr th:only-of-type {\n",
       "        vertical-align: middle;\n",
       "    }\n",
       "\n",
       "    .dataframe tbody tr th {\n",
       "        vertical-align: top;\n",
       "    }\n",
       "\n",
       "    .dataframe thead th {\n",
       "        text-align: right;\n",
       "    }\n",
       "</style>\n",
       "<table border=\"1\" class=\"dataframe\">\n",
       "  <thead>\n",
       "    <tr style=\"text-align: right;\">\n",
       "      <th></th>\n",
       "      <th>Name</th>\n",
       "      <th>URL</th>\n",
       "      <th>Cuisines</th>\n",
       "      <th>Area</th>\n",
       "      <th>Timing</th>\n",
       "      <th>Full_Address</th>\n",
       "      <th>PhoneNumber</th>\n",
       "      <th>IsHomeDelivery</th>\n",
       "      <th>isTakeaway</th>\n",
       "      <th>isIndoorSeating</th>\n",
       "      <th>isVegOnly</th>\n",
       "      <th>Dinner Ratings</th>\n",
       "      <th>Dinner Reviews</th>\n",
       "      <th>Delivery Ratings</th>\n",
       "      <th>Delivery Reviews</th>\n",
       "      <th>KnownFor</th>\n",
       "      <th>PopularDishes</th>\n",
       "      <th>PeopleKnownFor</th>\n",
       "      <th>AverageCost</th>\n",
       "    </tr>\n",
       "  </thead>\n",
       "  <tbody>\n",
       "    <tr>\n",
       "      <th>231</th>\n",
       "      <td>Milano Ice Cream</td>\n",
       "      <td>https://www.zomato.com/bangalore/milano-ice-cr...</td>\n",
       "      <td>Desserts, Ice Cream, Beverages, Shake</td>\n",
       "      <td>Indiranagar, Bangalore</td>\n",
       "      <td>9:30am – 10pm (Today)</td>\n",
       "      <td>460, 2nd Cross, Krishna Temple Road, Indiranag...</td>\n",
       "      <td>+918041256483</td>\n",
       "      <td>1</td>\n",
       "      <td>1</td>\n",
       "      <td>1</td>\n",
       "      <td>0</td>\n",
       "      <td>4.9</td>\n",
       "      <td>2582</td>\n",
       "      <td>4.3</td>\n",
       "      <td>1642</td>\n",
       "      <td>Varieties of Gelato Ice Creams.</td>\n",
       "      <td>Baileys Ice Cream, Extra Dark Chocolate, Vanil...</td>\n",
       "      <td>Bank for the Buck, Totally Worth it, Cozy Ambi...</td>\n",
       "      <td>400</td>\n",
       "    </tr>\n",
       "  </tbody>\n",
       "</table>\n",
       "</div>"
      ],
      "text/plain": [
       "                 Name                                                URL  \\\n",
       "231  Milano Ice Cream  https://www.zomato.com/bangalore/milano-ice-cr...   \n",
       "\n",
       "                                  Cuisines                    Area  \\\n",
       "231  Desserts, Ice Cream, Beverages, Shake  Indiranagar, Bangalore   \n",
       "\n",
       "                    Timing                                       Full_Address  \\\n",
       "231  9:30am – 10pm (Today)  460, 2nd Cross, Krishna Temple Road, Indiranag...   \n",
       "\n",
       "       PhoneNumber  IsHomeDelivery  isTakeaway  isIndoorSeating  isVegOnly  \\\n",
       "231  +918041256483               1           1                1          0   \n",
       "\n",
       "     Dinner Ratings  Dinner Reviews  Delivery Ratings  Delivery Reviews  \\\n",
       "231             4.9            2582               4.3              1642   \n",
       "\n",
       "                            KnownFor  \\\n",
       "231  Varieties of Gelato Ice Creams.   \n",
       "\n",
       "                                         PopularDishes  \\\n",
       "231  Baileys Ice Cream, Extra Dark Chocolate, Vanil...   \n",
       "\n",
       "                                        PeopleKnownFor  AverageCost  \n",
       "231  Bank for the Buck, Totally Worth it, Cozy Ambi...          400  "
      ]
     },
     "execution_count": 23,
     "metadata": {},
     "output_type": "execute_result"
    }
   ],
   "source": [
    "#What is the best restaurant for each category (Takeaway)\n",
    "df[df.isTakeaway.eq(1)].sort_values(by='Dinner Ratings', ascending=False).head(1)"
   ]
  },
  {
   "cell_type": "code",
   "execution_count": 24,
   "id": "a89a79f0",
   "metadata": {
    "execution": {
     "iopub.execute_input": "2022-10-10T07:02:08.305978Z",
     "iopub.status.busy": "2022-10-10T07:02:08.305651Z",
     "iopub.status.idle": "2022-10-10T07:02:08.326751Z",
     "shell.execute_reply": "2022-10-10T07:02:08.325785Z"
    },
    "papermill": {
     "duration": 0.126924,
     "end_time": "2022-10-10T07:02:08.329004",
     "exception": false,
     "start_time": "2022-10-10T07:02:08.202080",
     "status": "completed"
    },
    "tags": []
   },
   "outputs": [
    {
     "data": {
      "text/html": [
       "<div>\n",
       "<style scoped>\n",
       "    .dataframe tbody tr th:only-of-type {\n",
       "        vertical-align: middle;\n",
       "    }\n",
       "\n",
       "    .dataframe tbody tr th {\n",
       "        vertical-align: top;\n",
       "    }\n",
       "\n",
       "    .dataframe thead th {\n",
       "        text-align: right;\n",
       "    }\n",
       "</style>\n",
       "<table border=\"1\" class=\"dataframe\">\n",
       "  <thead>\n",
       "    <tr style=\"text-align: right;\">\n",
       "      <th></th>\n",
       "      <th>Name</th>\n",
       "      <th>URL</th>\n",
       "      <th>Cuisines</th>\n",
       "      <th>Area</th>\n",
       "      <th>Timing</th>\n",
       "      <th>Full_Address</th>\n",
       "      <th>PhoneNumber</th>\n",
       "      <th>IsHomeDelivery</th>\n",
       "      <th>isTakeaway</th>\n",
       "      <th>isIndoorSeating</th>\n",
       "      <th>isVegOnly</th>\n",
       "      <th>Dinner Ratings</th>\n",
       "      <th>Dinner Reviews</th>\n",
       "      <th>Delivery Ratings</th>\n",
       "      <th>Delivery Reviews</th>\n",
       "      <th>KnownFor</th>\n",
       "      <th>PopularDishes</th>\n",
       "      <th>PeopleKnownFor</th>\n",
       "      <th>AverageCost</th>\n",
       "    </tr>\n",
       "  </thead>\n",
       "  <tbody>\n",
       "    <tr>\n",
       "      <th>3530</th>\n",
       "      <td>Brahmin's Coffee Bar</td>\n",
       "      <td>https://www.zomato.com/bangalore/brahmins-coff...</td>\n",
       "      <td>South Indian</td>\n",
       "      <td>Basavanagudi, Bangalore</td>\n",
       "      <td>6am – 12noon, 3pm – 7pm (Today)</td>\n",
       "      <td>Ranga Rao Road, Basavanagudi, Bangalore</td>\n",
       "      <td>+919845030234</td>\n",
       "      <td>1</td>\n",
       "      <td>1</td>\n",
       "      <td>0</td>\n",
       "      <td>1</td>\n",
       "      <td>4.9</td>\n",
       "      <td>2976</td>\n",
       "      <td>4.5</td>\n",
       "      <td>3923</td>\n",
       "      <td>NaN</td>\n",
       "      <td>Idli Chatni, Coffee Bar, Khara Bhath, Vada Com...</td>\n",
       "      <td>Best Idli, Breakfast Joint, Inexpensive, Good ...</td>\n",
       "      <td>100</td>\n",
       "    </tr>\n",
       "  </tbody>\n",
       "</table>\n",
       "</div>"
      ],
      "text/plain": [
       "                      Name                                                URL  \\\n",
       "3530  Brahmin's Coffee Bar  https://www.zomato.com/bangalore/brahmins-coff...   \n",
       "\n",
       "          Cuisines                     Area                           Timing  \\\n",
       "3530  South Indian  Basavanagudi, Bangalore  6am – 12noon, 3pm – 7pm (Today)   \n",
       "\n",
       "                                 Full_Address    PhoneNumber  IsHomeDelivery  \\\n",
       "3530  Ranga Rao Road, Basavanagudi, Bangalore  +919845030234               1   \n",
       "\n",
       "      isTakeaway  isIndoorSeating  isVegOnly  Dinner Ratings  Dinner Reviews  \\\n",
       "3530           1                0          1             4.9            2976   \n",
       "\n",
       "      Delivery Ratings  Delivery Reviews KnownFor  \\\n",
       "3530               4.5              3923      NaN   \n",
       "\n",
       "                                          PopularDishes  \\\n",
       "3530  Idli Chatni, Coffee Bar, Khara Bhath, Vada Com...   \n",
       "\n",
       "                                         PeopleKnownFor  AverageCost  \n",
       "3530  Best Idli, Breakfast Joint, Inexpensive, Good ...          100  "
      ]
     },
     "execution_count": 24,
     "metadata": {},
     "output_type": "execute_result"
    }
   ],
   "source": [
    "#What is the best restaurant for each category (Vegetarian)\n",
    "df[df.isVegOnly.eq(1)].sort_values(by='Dinner Ratings', ascending=False).head(1)"
   ]
  },
  {
   "cell_type": "code",
   "execution_count": 25,
   "id": "d84e3524",
   "metadata": {
    "execution": {
     "iopub.execute_input": "2022-10-10T07:02:08.541058Z",
     "iopub.status.busy": "2022-10-10T07:02:08.540430Z",
     "iopub.status.idle": "2022-10-10T07:02:08.552076Z",
     "shell.execute_reply": "2022-10-10T07:02:08.551260Z"
    },
    "papermill": {
     "duration": 0.122719,
     "end_time": "2022-10-10T07:02:08.554694",
     "exception": false,
     "start_time": "2022-10-10T07:02:08.431975",
     "status": "completed"
    },
    "tags": []
   },
   "outputs": [
    {
     "name": "stdout",
     "output_type": "stream",
     "text": [
      "Review 1 - Boneless Chicken Biryani, Ample Seating Area, Serving Size, Family Place, Relaxed Atmosphere, Delivery Person \n",
      "Review 2 - Great Recommendations, Nice Taste, Great Ambiance, Good Quantity, Excellent Food, Nice Food \n",
      "Review 3 - Value for Money, Packaging, Staff, Ambience, Food \n",
      "Review 4 - Elegantly Decorated, Great Recommendations, View, Location, Good Taste, Worth the Money \n",
      "Review 5 - Fresh Food with Good Quality, Worth the Money, Great Portions, Timely Service, Delicious Food \n",
      "Review 6 - Bang for the Buck, Cozy Ambiance, Nice Crowd, Low Price, Comfortable Seating, Good Atmosphere \n",
      "Review 7 - Casual Seating Area, Hygiene, Location, Friendly Staff, Spicy, Good Place \n",
      "Review 8 - Serving Size, Family Place, Decent Ambience, Good Quantity, Decent Place, Portion \n",
      "Review 9 - Good Packaging, Excellent Food, Spill Proof Packaging, Good Taste, Reasonable Price, Packing \n",
      "Review 10 - Value for Price, Customizations Available, Chirpy Crowd, Bang for the Buck, Nice Delivery, Good Portions \n",
      "Review 11 - Prompt Delivery, New Menu, Fresh, Good Packaging, Quick Delivery, Healthy Food \n",
      "Review 12 - Quick Delivery, Delivery Person, Contactless Delivery, Meals, Great Taste, Packing \n",
      "Review 13 - Valet Service, Valet Parking, Good for Large Groups, Relaxed Atmosphere, Authentic Food, Authenticity \n",
      "Review 14 - Totally Worth it, Best Places, Concept, Awesome Place, Crowd, Quality \n",
      "Review 15 - Affordable Prices, Combo, Best Food under Best Budget, Great Portions, Timely Service, Good Food \n",
      "Review 16 - Cost Friendly, Budget Food, Good Value, Meals, Breakfast, Decent Place \n",
      "Review 17 - Big Menu, Soothing Ambience, Vegan Options, Quality of Food, Interesting Menu, Pure Veg \n",
      "Review 18 - Affordable, Excellent Customer Service, Good Offers, Family Place, Favorite Place, Perfect Presentation \n",
      "Review 19 - Casual Seating Area, Inexpensive, Polite Staff, Prompt Service, Combos, Portion Size \n",
      "Review 20 - Peaceful Environment, Affordable, Excellent Services, Yummy Desserts, Cheap Prices, Complimentary Drinks \n"
     ]
    }
   ],
   "source": [
    "#Reviews in General about the Bangalore Restaurants\n",
    "reviews = df[pd.notnull(df.PeopleKnownFor)].PeopleKnownFor.values.tolist()\n",
    "for i in range(1, len(reviews))[:20]:\n",
    "    print(f'Review {i} - {reviews[i]} ')"
   ]
  },
  {
   "cell_type": "markdown",
   "id": "3889e304",
   "metadata": {
    "papermill": {
     "duration": 0.101832,
     "end_time": "2022-10-10T07:02:08.758566",
     "exception": false,
     "start_time": "2022-10-10T07:02:08.656734",
     "status": "completed"
    },
    "tags": []
   },
   "source": [
    "## Types of Recommendation Systems\n",
    "\n",
    "### Collaborative filtering\n",
    "\n",
    "One approach to the design of recommender systems that has wide use is collaborative filtering.[38] Collaborative filtering is based on the assumption that people who agreed in the past will agree in the future, and that they will like similar kinds of items as they liked in the past. The system generates recommendations using only information about rating profiles for different users or items. By locating peer users/items with a rating history similar to the current user or item, they generate recommendations using this neighborhood. Collaborative filtering methods are classified as memory-based and model-based. A well-known example of memory-based approaches is the user-based algorithm,[39] while that of model-based approaches is Matrix Factorization.\n",
    "\n",
    "![](https://lh4.googleusercontent.com/tAgCYMrhIquk_x956HN4aF04SkymGfbdwTIr1M4wBD81cA6N5XZImB8EBsbmMs3k0pp5n36z1z1n77sMTRV9jxZ-j7fxp6BookRT8cTxdmsU-8gYdKrbAJBlWGGxtNLFGH2oYJrQ)"
   ]
  },
  {
   "cell_type": "markdown",
   "id": "5966d2ce",
   "metadata": {
    "papermill": {
     "duration": 0.101507,
     "end_time": "2022-10-10T07:02:08.963871",
     "exception": false,
     "start_time": "2022-10-10T07:02:08.862364",
     "status": "completed"
    },
    "tags": []
   },
   "source": [
    "## Popularity Based Recommendation Systems \n",
    "\n",
    "Recommendation system which works on the principle of popularity and or anything which is in trend. These systems check about the product or movie which are in trend or are most popular among the users and directly recommend those.\n",
    "\n",
    "For example, if a product is often purchased by most people then the system will get to know that that product is most popular so for every new user who just signed it, the system will recommend that product to that user also and chances becomes high that the new user will also purchase that. "
   ]
  },
  {
   "cell_type": "code",
   "execution_count": 26,
   "id": "0ef90b1b",
   "metadata": {
    "execution": {
     "iopub.execute_input": "2022-10-10T07:02:09.172406Z",
     "iopub.status.busy": "2022-10-10T07:02:09.171244Z",
     "iopub.status.idle": "2022-10-10T07:02:09.187438Z",
     "shell.execute_reply": "2022-10-10T07:02:09.186442Z"
    },
    "papermill": {
     "duration": 0.124733,
     "end_time": "2022-10-10T07:02:09.189914",
     "exception": false,
     "start_time": "2022-10-10T07:02:09.065181",
     "status": "completed"
    },
    "tags": []
   },
   "outputs": [],
   "source": [
    "newdf = pd.DataFrame(df[df['Delivery Ratings']>4].groupby('Name').count().reset_index()\n",
    "                         [['Name','Delivery Ratings']]).sort_values('Delivery Ratings', ascending=False)"
   ]
  },
  {
   "cell_type": "code",
   "execution_count": 27,
   "id": "e3d4cae6",
   "metadata": {
    "execution": {
     "iopub.execute_input": "2022-10-10T07:02:09.397499Z",
     "iopub.status.busy": "2022-10-10T07:02:09.396838Z",
     "iopub.status.idle": "2022-10-10T07:02:09.429922Z",
     "shell.execute_reply": "2022-10-10T07:02:09.428850Z"
    },
    "papermill": {
     "duration": 0.139176,
     "end_time": "2022-10-10T07:02:09.432488",
     "exception": false,
     "start_time": "2022-10-10T07:02:09.293312",
     "status": "completed"
    },
    "tags": []
   },
   "outputs": [],
   "source": [
    "populardf= newdf.merge(df, on='Name').drop_duplicates('Name').rename(columns={'Delivery Ratings_x':'Num_del_ratings'})\n",
    "populardf['PopularDishes'].fillna(populardf[populardf['PopularDishes'].isnull()]['Cuisines'], inplace=True)"
   ]
  },
  {
   "cell_type": "code",
   "execution_count": 28,
   "id": "04af9768",
   "metadata": {
    "execution": {
     "iopub.execute_input": "2022-10-10T07:02:09.641594Z",
     "iopub.status.busy": "2022-10-10T07:02:09.641241Z",
     "iopub.status.idle": "2022-10-10T07:02:09.663936Z",
     "shell.execute_reply": "2022-10-10T07:02:09.663092Z"
    },
    "papermill": {
     "duration": 0.129884,
     "end_time": "2022-10-10T07:02:09.666574",
     "exception": false,
     "start_time": "2022-10-10T07:02:09.536690",
     "status": "completed"
    },
    "tags": []
   },
   "outputs": [
    {
     "data": {
      "text/html": [
       "<div>\n",
       "<style scoped>\n",
       "    .dataframe tbody tr th:only-of-type {\n",
       "        vertical-align: middle;\n",
       "    }\n",
       "\n",
       "    .dataframe tbody tr th {\n",
       "        vertical-align: top;\n",
       "    }\n",
       "\n",
       "    .dataframe thead th {\n",
       "        text-align: right;\n",
       "    }\n",
       "</style>\n",
       "<table border=\"1\" class=\"dataframe\">\n",
       "  <thead>\n",
       "    <tr style=\"text-align: right;\">\n",
       "      <th></th>\n",
       "      <th>Name</th>\n",
       "      <th>Num_del_ratings</th>\n",
       "      <th>URL</th>\n",
       "      <th>Cuisines</th>\n",
       "      <th>Area</th>\n",
       "      <th>Timing</th>\n",
       "      <th>Full_Address</th>\n",
       "      <th>PhoneNumber</th>\n",
       "      <th>IsHomeDelivery</th>\n",
       "      <th>isTakeaway</th>\n",
       "      <th>isIndoorSeating</th>\n",
       "      <th>isVegOnly</th>\n",
       "      <th>Dinner Ratings</th>\n",
       "      <th>Dinner Reviews</th>\n",
       "      <th>Delivery Ratings_y</th>\n",
       "      <th>Delivery Reviews</th>\n",
       "      <th>KnownFor</th>\n",
       "      <th>PopularDishes</th>\n",
       "      <th>PeopleKnownFor</th>\n",
       "      <th>AverageCost</th>\n",
       "    </tr>\n",
       "  </thead>\n",
       "  <tbody>\n",
       "    <tr>\n",
       "      <th>293</th>\n",
       "      <td>Natural Ice Cream</td>\n",
       "      <td>14</td>\n",
       "      <td>https://www.zomato.com/bangalore/natural-ice-c...</td>\n",
       "      <td>Ice Cream, Beverages</td>\n",
       "      <td>Indiranagar, Bangalore</td>\n",
       "      <td>11am – 11pm (Today)</td>\n",
       "      <td>2984, 12th Main, HAL 2nd Stage, Indiranagar, B...</td>\n",
       "      <td>+919880031798</td>\n",
       "      <td>1</td>\n",
       "      <td>1</td>\n",
       "      <td>1</td>\n",
       "      <td>1</td>\n",
       "      <td>4.8</td>\n",
       "      <td>1145</td>\n",
       "      <td>4.6</td>\n",
       "      <td>1345</td>\n",
       "      <td>NaN</td>\n",
       "      <td>Coffee Walnut, Sitaphal Ice Cream, Custard App...</td>\n",
       "      <td>Totally Worth it, Best Places, Concept, Awesom...</td>\n",
       "      <td>300</td>\n",
       "    </tr>\n",
       "    <tr>\n",
       "      <th>532</th>\n",
       "      <td>Corner House Ice Creams</td>\n",
       "      <td>11</td>\n",
       "      <td>https://www.zomato.com/bangalore/corner-house-...</td>\n",
       "      <td>Desserts, Ice Cream, Beverages</td>\n",
       "      <td>Indiranagar, Bangalore</td>\n",
       "      <td>11am – 11:30pm (Today)</td>\n",
       "      <td>3283, 2nd Stage, Off Double Road, Indiranagar,...</td>\n",
       "      <td>+919880846251</td>\n",
       "      <td>1</td>\n",
       "      <td>1</td>\n",
       "      <td>1</td>\n",
       "      <td>0</td>\n",
       "      <td>4.8</td>\n",
       "      <td>2408</td>\n",
       "      <td>4.5</td>\n",
       "      <td>16100</td>\n",
       "      <td>NaN</td>\n",
       "      <td>Thick Chocolate Shake, Brown Bomb, Cashew Fudg...</td>\n",
       "      <td>Totally Worth it, Big Menu, Pocket Friendly, A...</td>\n",
       "      <td>300</td>\n",
       "    </tr>\n",
       "    <tr>\n",
       "      <th>1005</th>\n",
       "      <td>ITC Sunfeast Baked Creations</td>\n",
       "      <td>6</td>\n",
       "      <td>https://www.zomato.com/bangalore/itc-sunfeast-...</td>\n",
       "      <td>Bakery, Desserts, Sandwich</td>\n",
       "      <td>Banaswadi, Bangalore</td>\n",
       "      <td>NaN</td>\n",
       "      <td>18, Maruthi Seva Nagar, Main Road, Banaswadi, ...</td>\n",
       "      <td>+919007728424</td>\n",
       "      <td>1</td>\n",
       "      <td>0</td>\n",
       "      <td>0</td>\n",
       "      <td>0</td>\n",
       "      <td>0.0</td>\n",
       "      <td>0</td>\n",
       "      <td>4.5</td>\n",
       "      <td>219</td>\n",
       "      <td>NaN</td>\n",
       "      <td>Bakery, Desserts, Sandwich</td>\n",
       "      <td>NaN</td>\n",
       "      <td>250</td>\n",
       "    </tr>\n",
       "    <tr>\n",
       "      <th>463</th>\n",
       "      <td>Apsara Ice Creams</td>\n",
       "      <td>11</td>\n",
       "      <td>https://www.zomato.com/bangalore/apsara-ice-cr...</td>\n",
       "      <td>Ice Cream, Desserts</td>\n",
       "      <td>Indiranagar, Bangalore</td>\n",
       "      <td>12noon – 11:30pm (Today)</td>\n",
       "      <td>100/1B, 10th Cross, 2nd Main, Indiranagar, Ban...</td>\n",
       "      <td>+918048903296</td>\n",
       "      <td>1</td>\n",
       "      <td>1</td>\n",
       "      <td>1</td>\n",
       "      <td>0</td>\n",
       "      <td>4.3</td>\n",
       "      <td>265</td>\n",
       "      <td>4.5</td>\n",
       "      <td>497</td>\n",
       "      <td>NaN</td>\n",
       "      <td>Guava Ice Cream, Belgian Chocolate, Kulfi, Ice...</td>\n",
       "      <td>Totally Worth it, Pocket Friendly, Owner, Pric...</td>\n",
       "      <td>400</td>\n",
       "    </tr>\n",
       "    <tr>\n",
       "      <th>606</th>\n",
       "      <td>The Belgian Waffle Co.</td>\n",
       "      <td>10</td>\n",
       "      <td>https://www.zomato.com/bangalore/the-belgian-w...</td>\n",
       "      <td>Desserts, Ice Cream, Waffle</td>\n",
       "      <td>Marathahalli, Bangalore</td>\n",
       "      <td>NaN</td>\n",
       "      <td>4th Cross, Marathahalli Road, Tulasi Theater, ...</td>\n",
       "      <td>+918638234274</td>\n",
       "      <td>1</td>\n",
       "      <td>0</td>\n",
       "      <td>0</td>\n",
       "      <td>1</td>\n",
       "      <td>0.0</td>\n",
       "      <td>0</td>\n",
       "      <td>4.4</td>\n",
       "      <td>836</td>\n",
       "      <td>NaN</td>\n",
       "      <td>Desserts, Ice Cream, Waffle</td>\n",
       "      <td>Excellent Food Quality, Fair Prices, Contactle...</td>\n",
       "      <td>150</td>\n",
       "    </tr>\n",
       "  </tbody>\n",
       "</table>\n",
       "</div>"
      ],
      "text/plain": [
       "                              Name  Num_del_ratings  \\\n",
       "293              Natural Ice Cream               14   \n",
       "532        Corner House Ice Creams               11   \n",
       "1005  ITC Sunfeast Baked Creations                6   \n",
       "463              Apsara Ice Creams               11   \n",
       "606         The Belgian Waffle Co.               10   \n",
       "\n",
       "                                                    URL  \\\n",
       "293   https://www.zomato.com/bangalore/natural-ice-c...   \n",
       "532   https://www.zomato.com/bangalore/corner-house-...   \n",
       "1005  https://www.zomato.com/bangalore/itc-sunfeast-...   \n",
       "463   https://www.zomato.com/bangalore/apsara-ice-cr...   \n",
       "606   https://www.zomato.com/bangalore/the-belgian-w...   \n",
       "\n",
       "                            Cuisines                     Area  \\\n",
       "293             Ice Cream, Beverages   Indiranagar, Bangalore   \n",
       "532   Desserts, Ice Cream, Beverages   Indiranagar, Bangalore   \n",
       "1005      Bakery, Desserts, Sandwich     Banaswadi, Bangalore   \n",
       "463              Ice Cream, Desserts   Indiranagar, Bangalore   \n",
       "606      Desserts, Ice Cream, Waffle  Marathahalli, Bangalore   \n",
       "\n",
       "                        Timing  \\\n",
       "293        11am – 11pm (Today)   \n",
       "532     11am – 11:30pm (Today)   \n",
       "1005                       NaN   \n",
       "463   12noon – 11:30pm (Today)   \n",
       "606                        NaN   \n",
       "\n",
       "                                           Full_Address    PhoneNumber  \\\n",
       "293   2984, 12th Main, HAL 2nd Stage, Indiranagar, B...  +919880031798   \n",
       "532   3283, 2nd Stage, Off Double Road, Indiranagar,...  +919880846251   \n",
       "1005  18, Maruthi Seva Nagar, Main Road, Banaswadi, ...  +919007728424   \n",
       "463   100/1B, 10th Cross, 2nd Main, Indiranagar, Ban...  +918048903296   \n",
       "606   4th Cross, Marathahalli Road, Tulasi Theater, ...  +918638234274   \n",
       "\n",
       "      IsHomeDelivery  isTakeaway  isIndoorSeating  isVegOnly  Dinner Ratings  \\\n",
       "293                1           1                1          1             4.8   \n",
       "532                1           1                1          0             4.8   \n",
       "1005               1           0                0          0             0.0   \n",
       "463                1           1                1          0             4.3   \n",
       "606                1           0                0          1             0.0   \n",
       "\n",
       "      Dinner Reviews  Delivery Ratings_y  Delivery Reviews KnownFor  \\\n",
       "293             1145                 4.6              1345      NaN   \n",
       "532             2408                 4.5             16100      NaN   \n",
       "1005               0                 4.5               219      NaN   \n",
       "463              265                 4.5               497      NaN   \n",
       "606                0                 4.4               836      NaN   \n",
       "\n",
       "                                          PopularDishes  \\\n",
       "293   Coffee Walnut, Sitaphal Ice Cream, Custard App...   \n",
       "532   Thick Chocolate Shake, Brown Bomb, Cashew Fudg...   \n",
       "1005                         Bakery, Desserts, Sandwich   \n",
       "463   Guava Ice Cream, Belgian Chocolate, Kulfi, Ice...   \n",
       "606                         Desserts, Ice Cream, Waffle   \n",
       "\n",
       "                                         PeopleKnownFor  AverageCost  \n",
       "293   Totally Worth it, Best Places, Concept, Awesom...          300  \n",
       "532   Totally Worth it, Big Menu, Pocket Friendly, A...          300  \n",
       "1005                                                NaN          250  \n",
       "463   Totally Worth it, Pocket Friendly, Owner, Pric...          400  \n",
       "606   Excellent Food Quality, Fair Prices, Contactle...          150  "
      ]
     },
     "execution_count": 28,
     "metadata": {},
     "output_type": "execute_result"
    }
   ],
   "source": [
    "popular_df = populardf.head(100)\n",
    "popular_df = popular_df.sort_values('Delivery Ratings_y', ascending=False)\n",
    "popular_df.head()"
   ]
  },
  {
   "cell_type": "markdown",
   "id": "73a5d1b6",
   "metadata": {
    "papermill": {
     "duration": 0.106856,
     "end_time": "2022-10-10T07:02:09.882193",
     "exception": false,
     "start_time": "2022-10-10T07:02:09.775337",
     "status": "completed"
    },
    "tags": []
   },
   "source": [
    "## Content Based Recommendation Systems\n",
    "\n",
    "Another common approach when designing recommender systems is content-based filtering. Content-based filtering methods are based on a description of the item and a profile of the user's preferences. These methods are best suited to situations where there is known data on an item (name, location, description, etc.), but not on the user. Content-based recommenders treat recommendation as a user-specific classification problem and learn a classifier for the user's likes and dislikes based on an item's features.\n",
    "\n",
    "![](https://miro.medium.com/max/1400/1*x8gTiprhLs7zflmEn1UjAQ.png)"
   ]
  },
  {
   "cell_type": "code",
   "execution_count": 29,
   "id": "d2d4ac26",
   "metadata": {
    "execution": {
     "iopub.execute_input": "2022-10-10T07:02:10.096422Z",
     "iopub.status.busy": "2022-10-10T07:02:10.096099Z",
     "iopub.status.idle": "2022-10-10T07:02:10.107273Z",
     "shell.execute_reply": "2022-10-10T07:02:10.106350Z"
    },
    "papermill": {
     "duration": 0.121825,
     "end_time": "2022-10-10T07:02:10.109983",
     "exception": false,
     "start_time": "2022-10-10T07:02:09.988158",
     "status": "completed"
    },
    "tags": []
   },
   "outputs": [],
   "source": [
    "df['PopularDishes'].fillna(df[df['PopularDishes'].isnull()]['Cuisines'], inplace=True)"
   ]
  },
  {
   "cell_type": "code",
   "execution_count": 30,
   "id": "c795d4ec",
   "metadata": {
    "execution": {
     "iopub.execute_input": "2022-10-10T07:02:10.318602Z",
     "iopub.status.busy": "2022-10-10T07:02:10.317765Z",
     "iopub.status.idle": "2022-10-10T07:02:10.325028Z",
     "shell.execute_reply": "2022-10-10T07:02:10.324318Z"
    },
    "papermill": {
     "duration": 0.1145,
     "end_time": "2022-10-10T07:02:10.327344",
     "exception": false,
     "start_time": "2022-10-10T07:02:10.212844",
     "status": "completed"
    },
    "tags": []
   },
   "outputs": [],
   "source": [
    "content = df[['Name', 'Area', 'PopularDishes', 'Cuisines',\n",
    "    'AverageCost', 'Delivery Ratings','Dinner Ratings', 'IsHomeDelivery', 'isTakeaway', 'isIndoorSeating']]"
   ]
  },
  {
   "cell_type": "code",
   "execution_count": 31,
   "id": "1fd765bc",
   "metadata": {
    "execution": {
     "iopub.execute_input": "2022-10-10T07:02:10.544601Z",
     "iopub.status.busy": "2022-10-10T07:02:10.543563Z",
     "iopub.status.idle": "2022-10-10T07:02:10.559325Z",
     "shell.execute_reply": "2022-10-10T07:02:10.558468Z"
    },
    "papermill": {
     "duration": 0.128864,
     "end_time": "2022-10-10T07:02:10.561620",
     "exception": false,
     "start_time": "2022-10-10T07:02:10.432756",
     "status": "completed"
    },
    "tags": []
   },
   "outputs": [],
   "source": [
    "content.loc['PopularDishes'] = content['PopularDishes']+ content['Cuisines']"
   ]
  },
  {
   "cell_type": "code",
   "execution_count": 32,
   "id": "b121d466",
   "metadata": {
    "execution": {
     "iopub.execute_input": "2022-10-10T07:02:10.773099Z",
     "iopub.status.busy": "2022-10-10T07:02:10.772451Z",
     "iopub.status.idle": "2022-10-10T07:02:10.783071Z",
     "shell.execute_reply": "2022-10-10T07:02:10.782362Z"
    },
    "papermill": {
     "duration": 0.119864,
     "end_time": "2022-10-10T07:02:10.785385",
     "exception": false,
     "start_time": "2022-10-10T07:02:10.665521",
     "status": "completed"
    },
    "tags": []
   },
   "outputs": [],
   "source": [
    "content.drop('Cuisines', axis=1, inplace = True)\n",
    "content.dropna(inplace=True)"
   ]
  },
  {
   "cell_type": "code",
   "execution_count": 33,
   "id": "591094e2",
   "metadata": {
    "execution": {
     "iopub.execute_input": "2022-10-10T07:02:10.995051Z",
     "iopub.status.busy": "2022-10-10T07:02:10.994737Z",
     "iopub.status.idle": "2022-10-10T07:02:11.012652Z",
     "shell.execute_reply": "2022-10-10T07:02:11.011736Z"
    },
    "papermill": {
     "duration": 0.126333,
     "end_time": "2022-10-10T07:02:11.014876",
     "exception": false,
     "start_time": "2022-10-10T07:02:10.888543",
     "status": "completed"
    },
    "tags": []
   },
   "outputs": [
    {
     "data": {
      "text/html": [
       "<div>\n",
       "<style scoped>\n",
       "    .dataframe tbody tr th:only-of-type {\n",
       "        vertical-align: middle;\n",
       "    }\n",
       "\n",
       "    .dataframe tbody tr th {\n",
       "        vertical-align: top;\n",
       "    }\n",
       "\n",
       "    .dataframe thead th {\n",
       "        text-align: right;\n",
       "    }\n",
       "</style>\n",
       "<table border=\"1\" class=\"dataframe\">\n",
       "  <thead>\n",
       "    <tr style=\"text-align: right;\">\n",
       "      <th></th>\n",
       "      <th>Name</th>\n",
       "      <th>Area</th>\n",
       "      <th>PopularDishes</th>\n",
       "      <th>AverageCost</th>\n",
       "      <th>Delivery Ratings</th>\n",
       "      <th>Dinner Ratings</th>\n",
       "      <th>IsHomeDelivery</th>\n",
       "      <th>isTakeaway</th>\n",
       "      <th>isIndoorSeating</th>\n",
       "    </tr>\n",
       "  </thead>\n",
       "  <tbody>\n",
       "    <tr>\n",
       "      <th>0</th>\n",
       "      <td>Sri Udupi Park</td>\n",
       "      <td>Indiranagar, Bangalore</td>\n",
       "      <td>Filtered Coffee, Sambhar, Pav Bhaji, Gobi Manc...</td>\n",
       "      <td>450.0</td>\n",
       "      <td>4.1</td>\n",
       "      <td>4.0</td>\n",
       "      <td>1.0</td>\n",
       "      <td>1.0</td>\n",
       "      <td>1.0</td>\n",
       "    </tr>\n",
       "    <tr>\n",
       "      <th>1</th>\n",
       "      <td>Meghana Foods</td>\n",
       "      <td>Indiranagar, Bangalore</td>\n",
       "      <td>Authentic Hyderabadi Biryani, Paneer Biryani, ...</td>\n",
       "      <td>700.0</td>\n",
       "      <td>4.3</td>\n",
       "      <td>4.3</td>\n",
       "      <td>1.0</td>\n",
       "      <td>1.0</td>\n",
       "      <td>1.0</td>\n",
       "    </tr>\n",
       "    <tr>\n",
       "      <th>2</th>\n",
       "      <td>Donne Biriyani House</td>\n",
       "      <td>Indiranagar, Bangalore</td>\n",
       "      <td>Biryani</td>\n",
       "      <td>300.0</td>\n",
       "      <td>3.5</td>\n",
       "      <td>3.9</td>\n",
       "      <td>1.0</td>\n",
       "      <td>1.0</td>\n",
       "      <td>1.0</td>\n",
       "    </tr>\n",
       "    <tr>\n",
       "      <th>3</th>\n",
       "      <td>Domino's Pizza</td>\n",
       "      <td>Indiranagar, Bangalore</td>\n",
       "      <td>Barbeque Chicken Pizza, Choco Lava Cake, White...</td>\n",
       "      <td>400.0</td>\n",
       "      <td>4.4</td>\n",
       "      <td>2.4</td>\n",
       "      <td>1.0</td>\n",
       "      <td>1.0</td>\n",
       "      <td>1.0</td>\n",
       "    </tr>\n",
       "    <tr>\n",
       "      <th>4</th>\n",
       "      <td>KFC</td>\n",
       "      <td>Indiranagar, Bangalore</td>\n",
       "      <td>Fiery Chicken, Chicken Popcorn, Rice Bowl, Wings</td>\n",
       "      <td>400.0</td>\n",
       "      <td>4.0</td>\n",
       "      <td>2.8</td>\n",
       "      <td>1.0</td>\n",
       "      <td>1.0</td>\n",
       "      <td>1.0</td>\n",
       "    </tr>\n",
       "  </tbody>\n",
       "</table>\n",
       "</div>"
      ],
      "text/plain": [
       "                   Name                    Area  \\\n",
       "0        Sri Udupi Park  Indiranagar, Bangalore   \n",
       "1         Meghana Foods  Indiranagar, Bangalore   \n",
       "2  Donne Biriyani House  Indiranagar, Bangalore   \n",
       "3        Domino's Pizza  Indiranagar, Bangalore   \n",
       "4                   KFC  Indiranagar, Bangalore   \n",
       "\n",
       "                                       PopularDishes  AverageCost  \\\n",
       "0  Filtered Coffee, Sambhar, Pav Bhaji, Gobi Manc...        450.0   \n",
       "1  Authentic Hyderabadi Biryani, Paneer Biryani, ...        700.0   \n",
       "2                                            Biryani        300.0   \n",
       "3  Barbeque Chicken Pizza, Choco Lava Cake, White...        400.0   \n",
       "4   Fiery Chicken, Chicken Popcorn, Rice Bowl, Wings        400.0   \n",
       "\n",
       "   Delivery Ratings  Dinner Ratings  IsHomeDelivery  isTakeaway  \\\n",
       "0               4.1             4.0             1.0         1.0   \n",
       "1               4.3             4.3             1.0         1.0   \n",
       "2               3.5             3.9             1.0         1.0   \n",
       "3               4.4             2.4             1.0         1.0   \n",
       "4               4.0             2.8             1.0         1.0   \n",
       "\n",
       "   isIndoorSeating  \n",
       "0              1.0  \n",
       "1              1.0  \n",
       "2              1.0  \n",
       "3              1.0  \n",
       "4              1.0  "
      ]
     },
     "execution_count": 33,
     "metadata": {},
     "output_type": "execute_result"
    }
   ],
   "source": [
    "content.head()"
   ]
  },
  {
   "cell_type": "code",
   "execution_count": 34,
   "id": "bd878c71",
   "metadata": {
    "execution": {
     "iopub.execute_input": "2022-10-10T07:02:11.224278Z",
     "iopub.status.busy": "2022-10-10T07:02:11.223764Z",
     "iopub.status.idle": "2022-10-10T07:02:11.376114Z",
     "shell.execute_reply": "2022-10-10T07:02:11.375352Z"
    },
    "papermill": {
     "duration": 0.259911,
     "end_time": "2022-10-10T07:02:11.379039",
     "exception": false,
     "start_time": "2022-10-10T07:02:11.119128",
     "status": "completed"
    },
    "tags": []
   },
   "outputs": [],
   "source": [
    "vectorizer = TfidfVectorizer(ngram_range=(1,2))\n",
    "tfidf = vectorizer.fit_transform(content['PopularDishes'])"
   ]
  },
  {
   "cell_type": "markdown",
   "id": "6c41e256",
   "metadata": {
    "papermill": {
     "duration": 0.106348,
     "end_time": "2022-10-10T07:02:11.589935",
     "exception": false,
     "start_time": "2022-10-10T07:02:11.483587",
     "status": "completed"
    },
    "tags": []
   },
   "source": [
    "![](https://miro.medium.com/max/1400/1*qQgnyPLDIkUmeZKN2_ZWbQ.png)"
   ]
  },
  {
   "cell_type": "code",
   "execution_count": 35,
   "id": "b1629fa0",
   "metadata": {
    "execution": {
     "iopub.execute_input": "2022-10-10T07:02:11.806496Z",
     "iopub.status.busy": "2022-10-10T07:02:11.806159Z",
     "iopub.status.idle": "2022-10-10T07:02:11.814477Z",
     "shell.execute_reply": "2022-10-10T07:02:11.813349Z"
    },
    "papermill": {
     "duration": 0.115568,
     "end_time": "2022-10-10T07:02:11.816659",
     "exception": false,
     "start_time": "2022-10-10T07:02:11.701091",
     "status": "completed"
    },
    "tags": []
   },
   "outputs": [
    {
     "data": {
      "text/plain": [
       "TfidfVectorizer(ngram_range=(1, 2))"
      ]
     },
     "execution_count": 35,
     "metadata": {},
     "output_type": "execute_result"
    }
   ],
   "source": [
    "vectorizer"
   ]
  },
  {
   "cell_type": "code",
   "execution_count": 36,
   "id": "a0718513",
   "metadata": {
    "execution": {
     "iopub.execute_input": "2022-10-10T07:02:12.030429Z",
     "iopub.status.busy": "2022-10-10T07:02:12.029590Z",
     "iopub.status.idle": "2022-10-10T07:02:12.036060Z",
     "shell.execute_reply": "2022-10-10T07:02:12.035137Z"
    },
    "papermill": {
     "duration": 0.116648,
     "end_time": "2022-10-10T07:02:12.038229",
     "exception": false,
     "start_time": "2022-10-10T07:02:11.921581",
     "status": "completed"
    },
    "tags": []
   },
   "outputs": [
    {
     "data": {
      "text/plain": [
       "<8923x10129 sparse matrix of type '<class 'numpy.float64'>'\n",
       "\twith 78899 stored elements in Compressed Sparse Row format>"
      ]
     },
     "execution_count": 36,
     "metadata": {},
     "output_type": "execute_result"
    }
   ],
   "source": [
    "tfidf"
   ]
  },
  {
   "cell_type": "code",
   "execution_count": 37,
   "id": "fea7b3c8",
   "metadata": {
    "execution": {
     "iopub.execute_input": "2022-10-10T07:02:12.274644Z",
     "iopub.status.busy": "2022-10-10T07:02:12.274031Z",
     "iopub.status.idle": "2022-10-10T07:02:12.284921Z",
     "shell.execute_reply": "2022-10-10T07:02:12.283840Z"
    },
    "papermill": {
     "duration": 0.124569,
     "end_time": "2022-10-10T07:02:12.287260",
     "exception": false,
     "start_time": "2022-10-10T07:02:12.162691",
     "status": "completed"
    },
    "tags": []
   },
   "outputs": [],
   "source": [
    "dish = 'Momos'\n",
    "query_vec = vectorizer.transform([dish])\n",
    "similarity = cosine_similarity(query_vec, tfidf).flatten()\n",
    "indices = np.argpartition(similarity, -1)[-10:]\n",
    "results = content.iloc[indices].iloc[::-1]"
   ]
  },
  {
   "cell_type": "code",
   "execution_count": 38,
   "id": "24fe7d33",
   "metadata": {
    "execution": {
     "iopub.execute_input": "2022-10-10T07:02:12.498349Z",
     "iopub.status.busy": "2022-10-10T07:02:12.497866Z",
     "iopub.status.idle": "2022-10-10T07:02:12.503327Z",
     "shell.execute_reply": "2022-10-10T07:02:12.502474Z"
    },
    "papermill": {
     "duration": 0.11374,
     "end_time": "2022-10-10T07:02:12.505373",
     "exception": false,
     "start_time": "2022-10-10T07:02:12.391633",
     "status": "completed"
    },
    "tags": []
   },
   "outputs": [
    {
     "data": {
      "text/plain": [
       "<1x10129 sparse matrix of type '<class 'numpy.float64'>'\n",
       "\twith 1 stored elements in Compressed Sparse Row format>"
      ]
     },
     "execution_count": 38,
     "metadata": {},
     "output_type": "execute_result"
    }
   ],
   "source": [
    "query_vec"
   ]
  },
  {
   "cell_type": "code",
   "execution_count": 39,
   "id": "16a021f5",
   "metadata": {
    "execution": {
     "iopub.execute_input": "2022-10-10T07:02:12.720475Z",
     "iopub.status.busy": "2022-10-10T07:02:12.719583Z",
     "iopub.status.idle": "2022-10-10T07:02:12.726272Z",
     "shell.execute_reply": "2022-10-10T07:02:12.725193Z"
    },
    "papermill": {
     "duration": 0.117238,
     "end_time": "2022-10-10T07:02:12.728272",
     "exception": false,
     "start_time": "2022-10-10T07:02:12.611034",
     "status": "completed"
    },
    "tags": []
   },
   "outputs": [
    {
     "data": {
      "text/plain": [
       "array([0., 0., 0., ..., 0., 0., 0.])"
      ]
     },
     "execution_count": 39,
     "metadata": {},
     "output_type": "execute_result"
    }
   ],
   "source": [
    "similarity"
   ]
  },
  {
   "cell_type": "code",
   "execution_count": 40,
   "id": "92805ae2",
   "metadata": {
    "execution": {
     "iopub.execute_input": "2022-10-10T07:02:12.942726Z",
     "iopub.status.busy": "2022-10-10T07:02:12.942231Z",
     "iopub.status.idle": "2022-10-10T07:02:12.947708Z",
     "shell.execute_reply": "2022-10-10T07:02:12.946874Z"
    },
    "papermill": {
     "duration": 0.114165,
     "end_time": "2022-10-10T07:02:12.949631",
     "exception": false,
     "start_time": "2022-10-10T07:02:12.835466",
     "status": "completed"
    },
    "tags": []
   },
   "outputs": [
    {
     "data": {
      "text/plain": [
       "array([8913, 8914, 8915, 8916, 8917, 8918, 8919, 8920, 8921, 8884])"
      ]
     },
     "execution_count": 40,
     "metadata": {},
     "output_type": "execute_result"
    }
   ],
   "source": [
    "indices"
   ]
  },
  {
   "cell_type": "code",
   "execution_count": 41,
   "id": "6eb4c0b0",
   "metadata": {
    "execution": {
     "iopub.execute_input": "2022-10-10T07:02:13.166488Z",
     "iopub.status.busy": "2022-10-10T07:02:13.165787Z",
     "iopub.status.idle": "2022-10-10T07:02:13.185305Z",
     "shell.execute_reply": "2022-10-10T07:02:13.184310Z"
    },
    "papermill": {
     "duration": 0.130607,
     "end_time": "2022-10-10T07:02:13.187714",
     "exception": false,
     "start_time": "2022-10-10T07:02:13.057107",
     "status": "completed"
    },
    "tags": []
   },
   "outputs": [
    {
     "data": {
      "text/html": [
       "<div>\n",
       "<style scoped>\n",
       "    .dataframe tbody tr th:only-of-type {\n",
       "        vertical-align: middle;\n",
       "    }\n",
       "\n",
       "    .dataframe tbody tr th {\n",
       "        vertical-align: top;\n",
       "    }\n",
       "\n",
       "    .dataframe thead th {\n",
       "        text-align: right;\n",
       "    }\n",
       "</style>\n",
       "<table border=\"1\" class=\"dataframe\">\n",
       "  <thead>\n",
       "    <tr style=\"text-align: right;\">\n",
       "      <th></th>\n",
       "      <th>Name</th>\n",
       "      <th>Area</th>\n",
       "      <th>PopularDishes</th>\n",
       "      <th>AverageCost</th>\n",
       "      <th>Delivery Ratings</th>\n",
       "      <th>Dinner Ratings</th>\n",
       "      <th>IsHomeDelivery</th>\n",
       "      <th>isTakeaway</th>\n",
       "      <th>isIndoorSeating</th>\n",
       "    </tr>\n",
       "  </thead>\n",
       "  <tbody>\n",
       "    <tr>\n",
       "      <th>8884</th>\n",
       "      <td>Momo Monk</td>\n",
       "      <td>Frazer Town, Bangalore</td>\n",
       "      <td>Momos</td>\n",
       "      <td>150.0</td>\n",
       "      <td>4.0</td>\n",
       "      <td>0.0</td>\n",
       "      <td>1.0</td>\n",
       "      <td>0.0</td>\n",
       "      <td>0.0</td>\n",
       "    </tr>\n",
       "    <tr>\n",
       "      <th>8921</th>\n",
       "      <td>Yuan Restaurant</td>\n",
       "      <td>HBR Layout, Bangalore</td>\n",
       "      <td>Thai, Chinese</td>\n",
       "      <td>400.0</td>\n",
       "      <td>3.5</td>\n",
       "      <td>3.8</td>\n",
       "      <td>1.0</td>\n",
       "      <td>1.0</td>\n",
       "      <td>1.0</td>\n",
       "    </tr>\n",
       "    <tr>\n",
       "      <th>8920</th>\n",
       "      <td>Bangkok Bowl</td>\n",
       "      <td>Kammanahalli, Bangalore</td>\n",
       "      <td>Salad, Chinese</td>\n",
       "      <td>300.0</td>\n",
       "      <td>3.7</td>\n",
       "      <td>0.0</td>\n",
       "      <td>1.0</td>\n",
       "      <td>1.0</td>\n",
       "      <td>0.0</td>\n",
       "    </tr>\n",
       "    <tr>\n",
       "      <th>8919</th>\n",
       "      <td>Kudla - Coraltree</td>\n",
       "      <td>Coraltree, RT Nagar, Bangalore</td>\n",
       "      <td>Neer Dosa, Chicken Ghee Roast, Seafood, Crab, ...</td>\n",
       "      <td>1200.0</td>\n",
       "      <td>4.3</td>\n",
       "      <td>3.9</td>\n",
       "      <td>1.0</td>\n",
       "      <td>1.0</td>\n",
       "      <td>0.0</td>\n",
       "    </tr>\n",
       "    <tr>\n",
       "      <th>8918</th>\n",
       "      <td>New SBFC Food Funda</td>\n",
       "      <td>Frazer Town, Bangalore</td>\n",
       "      <td>Fast Food</td>\n",
       "      <td>300.0</td>\n",
       "      <td>4.0</td>\n",
       "      <td>3.7</td>\n",
       "      <td>1.0</td>\n",
       "      <td>1.0</td>\n",
       "      <td>1.0</td>\n",
       "    </tr>\n",
       "    <tr>\n",
       "      <th>8917</th>\n",
       "      <td>Sendhoor Coffee</td>\n",
       "      <td>Kammanahalli, Bangalore</td>\n",
       "      <td>South Indian, Beverages</td>\n",
       "      <td>100.0</td>\n",
       "      <td>4.2</td>\n",
       "      <td>0.0</td>\n",
       "      <td>1.0</td>\n",
       "      <td>1.0</td>\n",
       "      <td>0.0</td>\n",
       "    </tr>\n",
       "    <tr>\n",
       "      <th>8916</th>\n",
       "      <td>Lassi &amp; Snacks Joint</td>\n",
       "      <td>Domlur, Bangalore</td>\n",
       "      <td>Beverages, Fast Food, Sandwich, Desserts, Burg...</td>\n",
       "      <td>300.0</td>\n",
       "      <td>4.3</td>\n",
       "      <td>3.9</td>\n",
       "      <td>1.0</td>\n",
       "      <td>1.0</td>\n",
       "      <td>1.0</td>\n",
       "    </tr>\n",
       "    <tr>\n",
       "      <th>8915</th>\n",
       "      <td>Ocea Hotel</td>\n",
       "      <td>Brigade Road, Bangalore</td>\n",
       "      <td>Seafood, Chicken Ghee Roast, Sea Food, Prawns</td>\n",
       "      <td>800.0</td>\n",
       "      <td>3.8</td>\n",
       "      <td>2.8</td>\n",
       "      <td>1.0</td>\n",
       "      <td>1.0</td>\n",
       "      <td>1.0</td>\n",
       "    </tr>\n",
       "    <tr>\n",
       "      <th>8914</th>\n",
       "      <td>Imli</td>\n",
       "      <td>Indiranagar, Bangalore</td>\n",
       "      <td>Dahi Sev Puri, Dahi Samosa, Healthy Veg Food, ...</td>\n",
       "      <td>800.0</td>\n",
       "      <td>3.8</td>\n",
       "      <td>4.1</td>\n",
       "      <td>1.0</td>\n",
       "      <td>1.0</td>\n",
       "      <td>1.0</td>\n",
       "    </tr>\n",
       "    <tr>\n",
       "      <th>8913</th>\n",
       "      <td>Bhikaram Chandmal Bhujiawala</td>\n",
       "      <td>Indiranagar, Bangalore</td>\n",
       "      <td>Street Food, Mithai</td>\n",
       "      <td>300.0</td>\n",
       "      <td>0.0</td>\n",
       "      <td>2.7</td>\n",
       "      <td>1.0</td>\n",
       "      <td>1.0</td>\n",
       "      <td>1.0</td>\n",
       "    </tr>\n",
       "  </tbody>\n",
       "</table>\n",
       "</div>"
      ],
      "text/plain": [
       "                              Name                            Area  \\\n",
       "8884                     Momo Monk          Frazer Town, Bangalore   \n",
       "8921               Yuan Restaurant           HBR Layout, Bangalore   \n",
       "8920                  Bangkok Bowl         Kammanahalli, Bangalore   \n",
       "8919             Kudla - Coraltree  Coraltree, RT Nagar, Bangalore   \n",
       "8918           New SBFC Food Funda          Frazer Town, Bangalore   \n",
       "8917               Sendhoor Coffee         Kammanahalli, Bangalore   \n",
       "8916          Lassi & Snacks Joint               Domlur, Bangalore   \n",
       "8915                    Ocea Hotel         Brigade Road, Bangalore   \n",
       "8914                          Imli          Indiranagar, Bangalore   \n",
       "8913  Bhikaram Chandmal Bhujiawala          Indiranagar, Bangalore   \n",
       "\n",
       "                                          PopularDishes  AverageCost  \\\n",
       "8884                                              Momos        150.0   \n",
       "8921                                      Thai, Chinese        400.0   \n",
       "8920                                     Salad, Chinese        300.0   \n",
       "8919  Neer Dosa, Chicken Ghee Roast, Seafood, Crab, ...       1200.0   \n",
       "8918                                          Fast Food        300.0   \n",
       "8917                            South Indian, Beverages        100.0   \n",
       "8916  Beverages, Fast Food, Sandwich, Desserts, Burg...        300.0   \n",
       "8915      Seafood, Chicken Ghee Roast, Sea Food, Prawns        800.0   \n",
       "8914  Dahi Sev Puri, Dahi Samosa, Healthy Veg Food, ...        800.0   \n",
       "8913                                Street Food, Mithai        300.0   \n",
       "\n",
       "      Delivery Ratings  Dinner Ratings  IsHomeDelivery  isTakeaway  \\\n",
       "8884               4.0             0.0             1.0         0.0   \n",
       "8921               3.5             3.8             1.0         1.0   \n",
       "8920               3.7             0.0             1.0         1.0   \n",
       "8919               4.3             3.9             1.0         1.0   \n",
       "8918               4.0             3.7             1.0         1.0   \n",
       "8917               4.2             0.0             1.0         1.0   \n",
       "8916               4.3             3.9             1.0         1.0   \n",
       "8915               3.8             2.8             1.0         1.0   \n",
       "8914               3.8             4.1             1.0         1.0   \n",
       "8913               0.0             2.7             1.0         1.0   \n",
       "\n",
       "      isIndoorSeating  \n",
       "8884              0.0  \n",
       "8921              1.0  \n",
       "8920              0.0  \n",
       "8919              0.0  \n",
       "8918              1.0  \n",
       "8917              0.0  \n",
       "8916              1.0  \n",
       "8915              1.0  \n",
       "8914              1.0  \n",
       "8913              1.0  "
      ]
     },
     "execution_count": 41,
     "metadata": {},
     "output_type": "execute_result"
    }
   ],
   "source": [
    "results"
   ]
  },
  {
   "cell_type": "code",
   "execution_count": 42,
   "id": "0d598012",
   "metadata": {
    "execution": {
     "iopub.execute_input": "2022-10-10T07:02:13.402329Z",
     "iopub.status.busy": "2022-10-10T07:02:13.402009Z",
     "iopub.status.idle": "2022-10-10T07:02:13.407574Z",
     "shell.execute_reply": "2022-10-10T07:02:13.406536Z"
    },
    "papermill": {
     "duration": 0.114818,
     "end_time": "2022-10-10T07:02:13.409697",
     "exception": false,
     "start_time": "2022-10-10T07:02:13.294879",
     "status": "completed"
    },
    "tags": []
   },
   "outputs": [],
   "source": [
    "def recommend(dish):\n",
    "    query_vec = vectorizer.transform([dish])\n",
    "    similarity = cosine_similarity(query_vec, tfidf).flatten()\n",
    "    indices = np.argpartition(similarity, -1)[-3:]\n",
    "    results = content.iloc[indices].iloc[::-1]\n",
    "    return results"
   ]
  },
  {
   "cell_type": "code",
   "execution_count": 43,
   "id": "7ad1ce64",
   "metadata": {
    "execution": {
     "iopub.execute_input": "2022-10-10T07:02:13.628793Z",
     "iopub.status.busy": "2022-10-10T07:02:13.628471Z",
     "iopub.status.idle": "2022-10-10T07:02:13.650690Z",
     "shell.execute_reply": "2022-10-10T07:02:13.649485Z"
    },
    "papermill": {
     "duration": 0.135059,
     "end_time": "2022-10-10T07:02:13.653619",
     "exception": false,
     "start_time": "2022-10-10T07:02:13.518560",
     "status": "completed"
    },
    "tags": []
   },
   "outputs": [
    {
     "data": {
      "text/html": [
       "<div>\n",
       "<style scoped>\n",
       "    .dataframe tbody tr th:only-of-type {\n",
       "        vertical-align: middle;\n",
       "    }\n",
       "\n",
       "    .dataframe tbody tr th {\n",
       "        vertical-align: top;\n",
       "    }\n",
       "\n",
       "    .dataframe thead th {\n",
       "        text-align: right;\n",
       "    }\n",
       "</style>\n",
       "<table border=\"1\" class=\"dataframe\">\n",
       "  <thead>\n",
       "    <tr style=\"text-align: right;\">\n",
       "      <th></th>\n",
       "      <th>Name</th>\n",
       "      <th>Area</th>\n",
       "      <th>PopularDishes</th>\n",
       "      <th>AverageCost</th>\n",
       "      <th>Delivery Ratings</th>\n",
       "      <th>Dinner Ratings</th>\n",
       "      <th>IsHomeDelivery</th>\n",
       "      <th>isTakeaway</th>\n",
       "      <th>isIndoorSeating</th>\n",
       "    </tr>\n",
       "  </thead>\n",
       "  <tbody>\n",
       "    <tr>\n",
       "      <th>8764</th>\n",
       "      <td>The Wok</td>\n",
       "      <td>Whitefield, Bangalore</td>\n",
       "      <td>Chinese</td>\n",
       "      <td>350.0</td>\n",
       "      <td>0.0</td>\n",
       "      <td>0.0</td>\n",
       "      <td>1.0</td>\n",
       "      <td>1.0</td>\n",
       "      <td>0.0</td>\n",
       "    </tr>\n",
       "    <tr>\n",
       "      <th>8921</th>\n",
       "      <td>Yuan Restaurant</td>\n",
       "      <td>HBR Layout, Bangalore</td>\n",
       "      <td>Thai, Chinese</td>\n",
       "      <td>400.0</td>\n",
       "      <td>3.5</td>\n",
       "      <td>3.8</td>\n",
       "      <td>1.0</td>\n",
       "      <td>1.0</td>\n",
       "      <td>1.0</td>\n",
       "    </tr>\n",
       "    <tr>\n",
       "      <th>8920</th>\n",
       "      <td>Bangkok Bowl</td>\n",
       "      <td>Kammanahalli, Bangalore</td>\n",
       "      <td>Salad, Chinese</td>\n",
       "      <td>300.0</td>\n",
       "      <td>3.7</td>\n",
       "      <td>0.0</td>\n",
       "      <td>1.0</td>\n",
       "      <td>1.0</td>\n",
       "      <td>0.0</td>\n",
       "    </tr>\n",
       "  </tbody>\n",
       "</table>\n",
       "</div>"
      ],
      "text/plain": [
       "                 Name                     Area   PopularDishes  AverageCost  \\\n",
       "8764          The Wok    Whitefield, Bangalore         Chinese        350.0   \n",
       "8921  Yuan Restaurant    HBR Layout, Bangalore   Thai, Chinese        400.0   \n",
       "8920     Bangkok Bowl  Kammanahalli, Bangalore  Salad, Chinese        300.0   \n",
       "\n",
       "      Delivery Ratings  Dinner Ratings  IsHomeDelivery  isTakeaway  \\\n",
       "8764               0.0             0.0             1.0         1.0   \n",
       "8921               3.5             3.8             1.0         1.0   \n",
       "8920               3.7             0.0             1.0         1.0   \n",
       "\n",
       "      isIndoorSeating  \n",
       "8764              0.0  \n",
       "8921              1.0  \n",
       "8920              0.0  "
      ]
     },
     "execution_count": 43,
     "metadata": {},
     "output_type": "execute_result"
    }
   ],
   "source": [
    "recommend('chinese')"
   ]
  },
  {
   "cell_type": "markdown",
   "id": "a1585131",
   "metadata": {
    "papermill": {
     "duration": 0.106067,
     "end_time": "2022-10-10T07:02:13.868147",
     "exception": false,
     "start_time": "2022-10-10T07:02:13.762080",
     "status": "completed"
    },
    "tags": []
   },
   "source": [
    "## Hybrid recommendations \n",
    "Most recommender systems now use a hybrid approach, combining collaborative filtering, content-based filtering, and other approaches. There is no reason why several different techniques of the same type could not be hybridized. Hybrid approaches can be implemented in several ways: by making content-based and collaborative-based predictions separately and then combining them; by adding content-based capabilities to a collaborative-based approach (and vice versa); or by unifying the approaches into one model. Several studies that empirically compare the performance of the hybrid with the pure collaborative and content-based methods and demonstrated that the hybrid methods can provide more accurate recommendations than pure approaches. These methods can also be used to overcome some of the common problems in recommender systems such as cold start and the sparsity problem, as well as the knowledge engineering bottleneck in knowledge-based approaches"
   ]
  },
  {
   "cell_type": "code",
   "execution_count": 44,
   "id": "6f8331a0",
   "metadata": {
    "execution": {
     "iopub.execute_input": "2022-10-10T07:02:14.085379Z",
     "iopub.status.busy": "2022-10-10T07:02:14.085053Z",
     "iopub.status.idle": "2022-10-10T07:02:14.089269Z",
     "shell.execute_reply": "2022-10-10T07:02:14.088366Z"
    },
    "papermill": {
     "duration": 0.115738,
     "end_time": "2022-10-10T07:02:14.091425",
     "exception": false,
     "start_time": "2022-10-10T07:02:13.975687",
     "status": "completed"
    },
    "tags": []
   },
   "outputs": [],
   "source": [
    "#x = df.groupby('Name').count()['Delivery Reviews'].reset_index().sort_values('Delivery Reviews', ascending=False)\n",
    "#Reviews = x[x['Delivery Reviews']>=10].index"
   ]
  },
  {
   "cell_type": "code",
   "execution_count": 45,
   "id": "c201eb2a",
   "metadata": {
    "execution": {
     "iopub.execute_input": "2022-10-10T07:02:14.308108Z",
     "iopub.status.busy": "2022-10-10T07:02:14.307781Z",
     "iopub.status.idle": "2022-10-10T07:02:14.311566Z",
     "shell.execute_reply": "2022-10-10T07:02:14.310660Z"
    },
    "papermill": {
     "duration": 0.114317,
     "end_time": "2022-10-10T07:02:14.313402",
     "exception": false,
     "start_time": "2022-10-10T07:02:14.199085",
     "status": "completed"
    },
    "tags": []
   },
   "outputs": [],
   "source": [
    "#filtered_reviews = df[df['Delivery Reviews'].isin(Reviews)]"
   ]
  },
  {
   "cell_type": "code",
   "execution_count": 46,
   "id": "00c4f588",
   "metadata": {
    "execution": {
     "iopub.execute_input": "2022-10-10T07:02:14.530177Z",
     "iopub.status.busy": "2022-10-10T07:02:14.529710Z",
     "iopub.status.idle": "2022-10-10T07:02:14.533956Z",
     "shell.execute_reply": "2022-10-10T07:02:14.533106Z"
    },
    "papermill": {
     "duration": 0.116333,
     "end_time": "2022-10-10T07:02:14.536000",
     "exception": false,
     "start_time": "2022-10-10T07:02:14.419667",
     "status": "completed"
    },
    "tags": []
   },
   "outputs": [],
   "source": [
    "#y = filtered_reviews.groupby('Cuisines').count()['Dinner Reviews'].reset_index().sort_values('Dinner Reviews', ascending=False)\n",
    "#filtered_dinner_reviews = y[y['Dinner Reviews']>=1].index"
   ]
  },
  {
   "cell_type": "code",
   "execution_count": 47,
   "id": "0ace010d",
   "metadata": {
    "execution": {
     "iopub.execute_input": "2022-10-10T07:02:14.753430Z",
     "iopub.status.busy": "2022-10-10T07:02:14.752845Z",
     "iopub.status.idle": "2022-10-10T07:02:14.756120Z",
     "shell.execute_reply": "2022-10-10T07:02:14.755519Z"
    },
    "papermill": {
     "duration": 0.114474,
     "end_time": "2022-10-10T07:02:14.757872",
     "exception": false,
     "start_time": "2022-10-10T07:02:14.643398",
     "status": "completed"
    },
    "tags": []
   },
   "outputs": [],
   "source": [
    "#final_ratings = filtered_reviews[filtered_reviews['Dinner Reviews'].isin(filtered_dinner_reviews)]"
   ]
  },
  {
   "cell_type": "code",
   "execution_count": 48,
   "id": "7f0a2ff9",
   "metadata": {
    "execution": {
     "iopub.execute_input": "2022-10-10T07:02:14.974854Z",
     "iopub.status.busy": "2022-10-10T07:02:14.974315Z",
     "iopub.status.idle": "2022-10-10T07:02:14.977999Z",
     "shell.execute_reply": "2022-10-10T07:02:14.977024Z"
    },
    "papermill": {
     "duration": 0.114219,
     "end_time": "2022-10-10T07:02:14.979965",
     "exception": false,
     "start_time": "2022-10-10T07:02:14.865746",
     "status": "completed"
    },
    "tags": []
   },
   "outputs": [],
   "source": [
    "#pt = final_ratings.pivot_table(index='Name',columns='Cuisines',values='Delivery Ratings')"
   ]
  },
  {
   "cell_type": "code",
   "execution_count": 49,
   "id": "26f4395f",
   "metadata": {
    "execution": {
     "iopub.execute_input": "2022-10-10T07:02:15.200830Z",
     "iopub.status.busy": "2022-10-10T07:02:15.200222Z",
     "iopub.status.idle": "2022-10-10T07:02:15.203484Z",
     "shell.execute_reply": "2022-10-10T07:02:15.202860Z"
    },
    "papermill": {
     "duration": 0.116344,
     "end_time": "2022-10-10T07:02:15.205464",
     "exception": false,
     "start_time": "2022-10-10T07:02:15.089120",
     "status": "completed"
    },
    "tags": []
   },
   "outputs": [],
   "source": [
    "#x = df.groupby('Name').count()['Delivery Ratings']>4\n",
    "#famous_restaurants = x[x].index"
   ]
  },
  {
   "cell_type": "code",
   "execution_count": 50,
   "id": "6c69aec9",
   "metadata": {
    "execution": {
     "iopub.execute_input": "2022-10-10T07:02:15.420522Z",
     "iopub.status.busy": "2022-10-10T07:02:15.419916Z",
     "iopub.status.idle": "2022-10-10T07:02:15.423260Z",
     "shell.execute_reply": "2022-10-10T07:02:15.422633Z"
    },
    "papermill": {
     "duration": 0.11288,
     "end_time": "2022-10-10T07:02:15.425252",
     "exception": false,
     "start_time": "2022-10-10T07:02:15.312372",
     "status": "completed"
    },
    "tags": []
   },
   "outputs": [],
   "source": [
    "#filtered_Res = df[df['Name'].isin(famous_restaurants)]"
   ]
  },
  {
   "cell_type": "code",
   "execution_count": 51,
   "id": "e1889115",
   "metadata": {
    "execution": {
     "iopub.execute_input": "2022-10-10T07:02:15.640205Z",
     "iopub.status.busy": "2022-10-10T07:02:15.639637Z",
     "iopub.status.idle": "2022-10-10T07:02:15.642847Z",
     "shell.execute_reply": "2022-10-10T07:02:15.642218Z"
    },
    "papermill": {
     "duration": 0.112759,
     "end_time": "2022-10-10T07:02:15.644931",
     "exception": false,
     "start_time": "2022-10-10T07:02:15.532172",
     "status": "completed"
    },
    "tags": []
   },
   "outputs": [],
   "source": [
    "#y = filtered_Res.groupby('Cuisines').count()['Delivery Ratings']>4\n",
    "#filtered_rest = y[y].index"
   ]
  },
  {
   "cell_type": "code",
   "execution_count": 52,
   "id": "7b66a26d",
   "metadata": {
    "execution": {
     "iopub.execute_input": "2022-10-10T07:02:15.860266Z",
     "iopub.status.busy": "2022-10-10T07:02:15.859623Z",
     "iopub.status.idle": "2022-10-10T07:02:15.863069Z",
     "shell.execute_reply": "2022-10-10T07:02:15.862403Z"
    },
    "papermill": {
     "duration": 0.11325,
     "end_time": "2022-10-10T07:02:15.864987",
     "exception": false,
     "start_time": "2022-10-10T07:02:15.751737",
     "status": "completed"
    },
    "tags": []
   },
   "outputs": [],
   "source": [
    "#final_res = filtered_Res[filtered_Res['Cuisines'].isin(filtered_rest)]"
   ]
  },
  {
   "cell_type": "code",
   "execution_count": 53,
   "id": "8c14f105",
   "metadata": {
    "execution": {
     "iopub.execute_input": "2022-10-10T07:02:16.081106Z",
     "iopub.status.busy": "2022-10-10T07:02:16.080752Z",
     "iopub.status.idle": "2022-10-10T07:02:16.085343Z",
     "shell.execute_reply": "2022-10-10T07:02:16.084422Z"
    },
    "papermill": {
     "duration": 0.115221,
     "end_time": "2022-10-10T07:02:16.087528",
     "exception": false,
     "start_time": "2022-10-10T07:02:15.972307",
     "status": "completed"
    },
    "tags": []
   },
   "outputs": [],
   "source": [
    "#pt = final_ratings.pivot_table(index='Cuisines',columns='Name',values='Delivery Ratings')"
   ]
  },
  {
   "cell_type": "code",
   "execution_count": 54,
   "id": "3c710a23",
   "metadata": {
    "execution": {
     "iopub.execute_input": "2022-10-10T07:02:16.302469Z",
     "iopub.status.busy": "2022-10-10T07:02:16.301911Z",
     "iopub.status.idle": "2022-10-10T07:02:16.305154Z",
     "shell.execute_reply": "2022-10-10T07:02:16.304539Z"
    },
    "papermill": {
     "duration": 0.112665,
     "end_time": "2022-10-10T07:02:16.307151",
     "exception": false,
     "start_time": "2022-10-10T07:02:16.194486",
     "status": "completed"
    },
    "tags": []
   },
   "outputs": [],
   "source": [
    "#pt.fillna(0,inplace=True)"
   ]
  },
  {
   "cell_type": "code",
   "execution_count": 55,
   "id": "7573644b",
   "metadata": {
    "execution": {
     "iopub.execute_input": "2022-10-10T07:02:16.521454Z",
     "iopub.status.busy": "2022-10-10T07:02:16.521106Z",
     "iopub.status.idle": "2022-10-10T07:02:16.525053Z",
     "shell.execute_reply": "2022-10-10T07:02:16.524181Z"
    },
    "papermill": {
     "duration": 0.113822,
     "end_time": "2022-10-10T07:02:16.526976",
     "exception": false,
     "start_time": "2022-10-10T07:02:16.413154",
     "status": "completed"
    },
    "tags": []
   },
   "outputs": [],
   "source": [
    "#similarity_scores = cosine_similarity(pt)"
   ]
  },
  {
   "cell_type": "code",
   "execution_count": 56,
   "id": "930c2650",
   "metadata": {
    "execution": {
     "iopub.execute_input": "2022-10-10T07:02:16.748700Z",
     "iopub.status.busy": "2022-10-10T07:02:16.746946Z",
     "iopub.status.idle": "2022-10-10T07:02:16.754230Z",
     "shell.execute_reply": "2022-10-10T07:02:16.753582Z"
    },
    "papermill": {
     "duration": 0.122043,
     "end_time": "2022-10-10T07:02:16.756145",
     "exception": false,
     "start_time": "2022-10-10T07:02:16.634102",
     "status": "completed"
    },
    "tags": []
   },
   "outputs": [
    {
     "data": {
      "text/plain": [
       "\"''\\ndef recommend(dish):\\n    # index fetch\\n    index = np.where(pt.index==dish)[0][0]\\n    similar_items = sorted(list(enumerate(similarity_scores[index])),key=lambda x:x[1],reverse=True)[1:5]\\n    \\n    data = []\\n    for i in similar_items:\\n        item = []\\n        temp_df = df[df['Name'] == pt.index[i[0]]]\\n        item.extend(list(temp_df.drop_duplicates('Name')['Name'].values))\\n        item.extend(list(temp_df.drop_duplicates('Name')['Cuisines'].values))\\n        item.extend(list(temp_df.drop_duplicates('Name')['AverageCost'].values))\\n        \\n        data.append(item)\\n    \\n    return data\\n\""
      ]
     },
     "execution_count": 56,
     "metadata": {},
     "output_type": "execute_result"
    }
   ],
   "source": [
    "'''''\n",
    "def recommend(dish):\n",
    "    # index fetch\n",
    "    index = np.where(pt.index==dish)[0][0]\n",
    "    similar_items = sorted(list(enumerate(similarity_scores[index])),key=lambda x:x[1],reverse=True)[1:5]\n",
    "    \n",
    "    data = []\n",
    "    for i in similar_items:\n",
    "        item = []\n",
    "        temp_df = df[df['Name'] == pt.index[i[0]]]\n",
    "        item.extend(list(temp_df.drop_duplicates('Name')['Name'].values))\n",
    "        item.extend(list(temp_df.drop_duplicates('Name')['Cuisines'].values))\n",
    "        item.extend(list(temp_df.drop_duplicates('Name')['AverageCost'].values))\n",
    "        \n",
    "        data.append(item)\n",
    "    \n",
    "    return data\n",
    "'''''"
   ]
  },
  {
   "cell_type": "markdown",
   "id": "81f9c05d",
   "metadata": {
    "papermill": {
     "duration": 0.105519,
     "end_time": "2022-10-10T07:02:16.967573",
     "exception": false,
     "start_time": "2022-10-10T07:02:16.862054",
     "status": "completed"
    },
    "tags": []
   },
   "source": [
    "## ...WORK IN PROGRESS"
   ]
  }
 ],
 "metadata": {
  "kernelspec": {
   "display_name": "Python 3",
   "language": "python",
   "name": "python3"
  },
  "language_info": {
   "codemirror_mode": {
    "name": "ipython",
    "version": 3
   },
   "file_extension": ".py",
   "mimetype": "text/x-python",
   "name": "python",
   "nbconvert_exporter": "python",
   "pygments_lexer": "ipython3",
   "version": "3.7.12"
  },
  "papermill": {
   "default_parameters": {},
   "duration": 48.182214,
   "end_time": "2022-10-10T07:02:18.400392",
   "environment_variables": {},
   "exception": null,
   "input_path": "__notebook__.ipynb",
   "output_path": "__notebook__.ipynb",
   "parameters": {},
   "start_time": "2022-10-10T07:01:30.218178",
   "version": "2.3.4"
  }
 },
 "nbformat": 4,
 "nbformat_minor": 5
}
