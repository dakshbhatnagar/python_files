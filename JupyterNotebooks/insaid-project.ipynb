{
 "cells": [
  {
   "cell_type": "code",
   "execution_count": 1,
   "id": "416a1b11",
   "metadata": {
    "_cell_guid": "b1076dfc-b9ad-4769-8c92-a6c4dae69d19",
    "_uuid": "8f2839f25d086af736a60e9eeb907d3b93b6e0e5",
    "execution": {
     "iopub.execute_input": "2022-10-04T15:01:28.992188Z",
     "iopub.status.busy": "2022-10-04T15:01:28.991614Z",
     "iopub.status.idle": "2022-10-04T15:01:32.372288Z",
     "shell.execute_reply": "2022-10-04T15:01:32.371187Z"
    },
    "papermill": {
     "duration": 3.396385,
     "end_time": "2022-10-04T15:01:32.375344",
     "exception": false,
     "start_time": "2022-10-04T15:01:28.978959",
     "status": "completed"
    },
    "tags": []
   },
   "outputs": [],
   "source": [
    "import warnings\n",
    "warnings.filterwarnings(\"ignore\", category=RuntimeWarning)\n",
    "warnings.filterwarnings(\"ignore\", category=DeprecationWarning)\n",
    "warnings.filterwarnings(\"ignore\", category=UserWarning)\n",
    "warnings.filterwarnings(\"ignore\", category=FutureWarning)\n",
    "\n",
    "#Linear Algebra Calculations, Data Manipulation and Visualization Libraries\n",
    "import numpy as np\n",
    "import pandas as pd \n",
    "import seaborn as sns\n",
    "import plotly.express as px\n",
    "import matplotlib.pyplot as plt\n",
    "%matplotlib inline\n",
    "plt.rcParams['font.size'] = 12\n",
    "plt.rcParams['figure.figsize'] = (15,10)\n",
    "\n",
    "#utilities\n",
    "from imblearn.under_sampling import RandomUnderSampler \n",
    "from sklearn.preprocessing import OneHotEncoder\n",
    "from sklearn.preprocessing import MinMaxScaler\n",
    "from sklearn.model_selection import train_test_split\n",
    "from sklearn.metrics import confusion_matrix\n",
    "from sklearn.model_selection import RandomizedSearchCV\n",
    "\n",
    "#Machine Learning Libraries\n",
    "from sklearn.linear_model import LogisticRegression\n",
    "from xgboost import XGBClassifier\n",
    "from sklearn.ensemble import RandomForestClassifier"
   ]
  },
  {
   "cell_type": "markdown",
   "id": "1c0e520c",
   "metadata": {
    "papermill": {
     "duration": 0.011212,
     "end_time": "2022-10-04T15:01:32.398164",
     "exception": false,
     "start_time": "2022-10-04T15:01:32.386952",
     "status": "completed"
    },
    "tags": []
   },
   "source": [
    "## Reading the Data"
   ]
  },
  {
   "cell_type": "code",
   "execution_count": 2,
   "id": "16be83a4",
   "metadata": {
    "execution": {
     "iopub.execute_input": "2022-10-04T15:01:32.423681Z",
     "iopub.status.busy": "2022-10-04T15:01:32.423298Z",
     "iopub.status.idle": "2022-10-04T15:01:47.102306Z",
     "shell.execute_reply": "2022-10-04T15:01:47.101239Z"
    },
    "papermill": {
     "duration": 14.693779,
     "end_time": "2022-10-04T15:01:47.104766",
     "exception": false,
     "start_time": "2022-10-04T15:01:32.410987",
     "status": "completed"
    },
    "tags": []
   },
   "outputs": [],
   "source": [
    "df =  pd.read_csv('../input/financial-dataset-for-fraud-detection-in-a-comapny/Fraud.csv')"
   ]
  },
  {
   "cell_type": "code",
   "execution_count": 3,
   "id": "88b72aaa",
   "metadata": {
    "execution": {
     "iopub.execute_input": "2022-10-04T15:01:47.125651Z",
     "iopub.status.busy": "2022-10-04T15:01:47.125330Z",
     "iopub.status.idle": "2022-10-04T15:01:47.147352Z",
     "shell.execute_reply": "2022-10-04T15:01:47.146281Z"
    },
    "papermill": {
     "duration": 0.037279,
     "end_time": "2022-10-04T15:01:47.151897",
     "exception": false,
     "start_time": "2022-10-04T15:01:47.114618",
     "status": "completed"
    },
    "tags": []
   },
   "outputs": [
    {
     "name": "stdout",
     "output_type": "stream",
     "text": [
      "<class 'pandas.core.frame.DataFrame'>\n",
      "RangeIndex: 6362620 entries, 0 to 6362619\n",
      "Data columns (total 11 columns):\n",
      " #   Column          Dtype  \n",
      "---  ------          -----  \n",
      " 0   step            int64  \n",
      " 1   type            object \n",
      " 2   amount          float64\n",
      " 3   nameOrig        object \n",
      " 4   oldbalanceOrg   float64\n",
      " 5   newbalanceOrig  float64\n",
      " 6   nameDest        object \n",
      " 7   oldbalanceDest  float64\n",
      " 8   newbalanceDest  float64\n",
      " 9   isFraud         int64  \n",
      " 10  isFlaggedFraud  int64  \n",
      "dtypes: float64(5), int64(3), object(3)\n",
      "memory usage: 534.0+ MB\n"
     ]
    }
   ],
   "source": [
    "df.info()"
   ]
  },
  {
   "cell_type": "markdown",
   "id": "35bb5fac",
   "metadata": {
    "papermill": {
     "duration": 0.009786,
     "end_time": "2022-10-04T15:01:47.172629",
     "exception": false,
     "start_time": "2022-10-04T15:01:47.162843",
     "status": "completed"
    },
    "tags": []
   },
   "source": [
    "## Changing datatypes for performance speed"
   ]
  },
  {
   "cell_type": "code",
   "execution_count": 4,
   "id": "c617aa37",
   "metadata": {
    "execution": {
     "iopub.execute_input": "2022-10-04T15:01:47.193326Z",
     "iopub.status.busy": "2022-10-04T15:01:47.193010Z",
     "iopub.status.idle": "2022-10-04T15:01:48.717286Z",
     "shell.execute_reply": "2022-10-04T15:01:48.715679Z"
    },
    "papermill": {
     "duration": 1.538018,
     "end_time": "2022-10-04T15:01:48.720317",
     "exception": false,
     "start_time": "2022-10-04T15:01:47.182299",
     "status": "completed"
    },
    "tags": []
   },
   "outputs": [],
   "source": [
    "df[['amount', 'oldbalanceOrg','newbalanceOrig', 'oldbalanceDest','newbalanceDest']] = df.select_dtypes('float64').astype('float16')"
   ]
  },
  {
   "cell_type": "code",
   "execution_count": 5,
   "id": "8ed73077",
   "metadata": {
    "execution": {
     "iopub.execute_input": "2022-10-04T15:01:48.747217Z",
     "iopub.status.busy": "2022-10-04T15:01:48.745204Z",
     "iopub.status.idle": "2022-10-04T15:01:48.984705Z",
     "shell.execute_reply": "2022-10-04T15:01:48.983712Z"
    },
    "papermill": {
     "duration": 0.255053,
     "end_time": "2022-10-04T15:01:48.987250",
     "exception": false,
     "start_time": "2022-10-04T15:01:48.732197",
     "status": "completed"
    },
    "tags": []
   },
   "outputs": [],
   "source": [
    "df[['step', 'isFraud', 'isFlaggedFraud']] = df.select_dtypes('int64').astype('int64')"
   ]
  },
  {
   "cell_type": "code",
   "execution_count": 6,
   "id": "bdf5c0f6",
   "metadata": {
    "execution": {
     "iopub.execute_input": "2022-10-04T15:01:49.008439Z",
     "iopub.status.busy": "2022-10-04T15:01:49.008117Z",
     "iopub.status.idle": "2022-10-04T15:01:49.445512Z",
     "shell.execute_reply": "2022-10-04T15:01:49.444416Z"
    },
    "papermill": {
     "duration": 0.450603,
     "end_time": "2022-10-04T15:01:49.447820",
     "exception": false,
     "start_time": "2022-10-04T15:01:48.997217",
     "status": "completed"
    },
    "tags": []
   },
   "outputs": [],
   "source": [
    "df.drop(['nameOrig', 'nameDest'], axis=1, inplace =True)"
   ]
  },
  {
   "cell_type": "code",
   "execution_count": 7,
   "id": "16a6904e",
   "metadata": {
    "execution": {
     "iopub.execute_input": "2022-10-04T15:01:49.471022Z",
     "iopub.status.busy": "2022-10-04T15:01:49.469500Z",
     "iopub.status.idle": "2022-10-04T15:01:49.489389Z",
     "shell.execute_reply": "2022-10-04T15:01:49.488313Z"
    },
    "papermill": {
     "duration": 0.033992,
     "end_time": "2022-10-04T15:01:49.492032",
     "exception": false,
     "start_time": "2022-10-04T15:01:49.458040",
     "status": "completed"
    },
    "tags": []
   },
   "outputs": [
    {
     "data": {
      "text/html": [
       "<div>\n",
       "<style scoped>\n",
       "    .dataframe tbody tr th:only-of-type {\n",
       "        vertical-align: middle;\n",
       "    }\n",
       "\n",
       "    .dataframe tbody tr th {\n",
       "        vertical-align: top;\n",
       "    }\n",
       "\n",
       "    .dataframe thead th {\n",
       "        text-align: right;\n",
       "    }\n",
       "</style>\n",
       "<table border=\"1\" class=\"dataframe\">\n",
       "  <thead>\n",
       "    <tr style=\"text-align: right;\">\n",
       "      <th></th>\n",
       "      <th>step</th>\n",
       "      <th>type</th>\n",
       "      <th>amount</th>\n",
       "      <th>oldbalanceOrg</th>\n",
       "      <th>newbalanceOrig</th>\n",
       "      <th>oldbalanceDest</th>\n",
       "      <th>newbalanceDest</th>\n",
       "      <th>isFraud</th>\n",
       "      <th>isFlaggedFraud</th>\n",
       "    </tr>\n",
       "  </thead>\n",
       "  <tbody>\n",
       "    <tr>\n",
       "      <th>0</th>\n",
       "      <td>1</td>\n",
       "      <td>PAYMENT</td>\n",
       "      <td>9840.0</td>\n",
       "      <td>inf</td>\n",
       "      <td>inf</td>\n",
       "      <td>0.0</td>\n",
       "      <td>0.0</td>\n",
       "      <td>0</td>\n",
       "      <td>0</td>\n",
       "    </tr>\n",
       "    <tr>\n",
       "      <th>1</th>\n",
       "      <td>1</td>\n",
       "      <td>PAYMENT</td>\n",
       "      <td>1864.0</td>\n",
       "      <td>21248.0</td>\n",
       "      <td>19392.0</td>\n",
       "      <td>0.0</td>\n",
       "      <td>0.0</td>\n",
       "      <td>0</td>\n",
       "      <td>0</td>\n",
       "    </tr>\n",
       "    <tr>\n",
       "      <th>2</th>\n",
       "      <td>1</td>\n",
       "      <td>TRANSFER</td>\n",
       "      <td>181.0</td>\n",
       "      <td>181.0</td>\n",
       "      <td>0.0</td>\n",
       "      <td>0.0</td>\n",
       "      <td>0.0</td>\n",
       "      <td>1</td>\n",
       "      <td>0</td>\n",
       "    </tr>\n",
       "    <tr>\n",
       "      <th>3</th>\n",
       "      <td>1</td>\n",
       "      <td>CASH_OUT</td>\n",
       "      <td>181.0</td>\n",
       "      <td>181.0</td>\n",
       "      <td>0.0</td>\n",
       "      <td>21184.0</td>\n",
       "      <td>0.0</td>\n",
       "      <td>1</td>\n",
       "      <td>0</td>\n",
       "    </tr>\n",
       "    <tr>\n",
       "      <th>4</th>\n",
       "      <td>1</td>\n",
       "      <td>PAYMENT</td>\n",
       "      <td>11672.0</td>\n",
       "      <td>41568.0</td>\n",
       "      <td>29888.0</td>\n",
       "      <td>0.0</td>\n",
       "      <td>0.0</td>\n",
       "      <td>0</td>\n",
       "      <td>0</td>\n",
       "    </tr>\n",
       "  </tbody>\n",
       "</table>\n",
       "</div>"
      ],
      "text/plain": [
       "   step      type   amount  oldbalanceOrg  newbalanceOrig  oldbalanceDest  \\\n",
       "0     1   PAYMENT   9840.0            inf             inf             0.0   \n",
       "1     1   PAYMENT   1864.0        21248.0         19392.0             0.0   \n",
       "2     1  TRANSFER    181.0          181.0             0.0             0.0   \n",
       "3     1  CASH_OUT    181.0          181.0             0.0         21184.0   \n",
       "4     1   PAYMENT  11672.0        41568.0         29888.0             0.0   \n",
       "\n",
       "   newbalanceDest  isFraud  isFlaggedFraud  \n",
       "0             0.0        0               0  \n",
       "1             0.0        0               0  \n",
       "2             0.0        1               0  \n",
       "3             0.0        1               0  \n",
       "4             0.0        0               0  "
      ]
     },
     "execution_count": 7,
     "metadata": {},
     "output_type": "execute_result"
    }
   ],
   "source": [
    "df.head()"
   ]
  },
  {
   "cell_type": "code",
   "execution_count": 8,
   "id": "8c4d4140",
   "metadata": {
    "execution": {
     "iopub.execute_input": "2022-10-04T15:01:49.513276Z",
     "iopub.status.busy": "2022-10-04T15:01:49.512973Z",
     "iopub.status.idle": "2022-10-04T15:02:05.181714Z",
     "shell.execute_reply": "2022-10-04T15:02:05.180687Z"
    },
    "papermill": {
     "duration": 15.682623,
     "end_time": "2022-10-04T15:02:05.184665",
     "exception": false,
     "start_time": "2022-10-04T15:01:49.502042",
     "status": "completed"
    },
    "tags": []
   },
   "outputs": [
    {
     "data": {
      "image/png": "[encoded data removed]",
      "text/plain": [
       "<Figure size 1080x720 with 1 Axes>"
      ]
     },
     "metadata": {
      "needs_background": "light"
     },
     "output_type": "display_data"
    }
   ],
   "source": [
    "ax= sns.histplot(df['amount'], kde=True, color='lightgray')\n",
    "ax.lines[0].set_color('crimson')\n",
    "plt.title('Amount histogram')\n",
    "plt.show()"
   ]
  },
  {
   "cell_type": "code",
   "execution_count": 9,
   "id": "5c1b04db",
   "metadata": {
    "execution": {
     "iopub.execute_input": "2022-10-04T15:02:05.207873Z",
     "iopub.status.busy": "2022-10-04T15:02:05.207534Z",
     "iopub.status.idle": "2022-10-04T15:02:05.594847Z",
     "shell.execute_reply": "2022-10-04T15:02:05.593681Z"
    },
    "papermill": {
     "duration": 0.40152,
     "end_time": "2022-10-04T15:02:05.597510",
     "exception": false,
     "start_time": "2022-10-04T15:02:05.195990",
     "status": "completed"
    },
    "tags": []
   },
   "outputs": [
    {
     "data": {
      "text/plain": [
       "step              0\n",
       "type              0\n",
       "amount            0\n",
       "oldbalanceOrg     0\n",
       "newbalanceOrig    0\n",
       "oldbalanceDest    0\n",
       "newbalanceDest    0\n",
       "isFraud           0\n",
       "isFlaggedFraud    0\n",
       "dtype: int64"
      ]
     },
     "execution_count": 9,
     "metadata": {},
     "output_type": "execute_result"
    }
   ],
   "source": [
    "df.isnull().sum()"
   ]
  },
  {
   "cell_type": "markdown",
   "id": "543f6e39",
   "metadata": {
    "papermill": {
     "duration": 0.010411,
     "end_time": "2022-10-04T15:02:05.618684",
     "exception": false,
     "start_time": "2022-10-04T15:02:05.608273",
     "status": "completed"
    },
    "tags": []
   },
   "source": [
    "There are no null values in the dataset"
   ]
  },
  {
   "cell_type": "code",
   "execution_count": 10,
   "id": "cbb6fb57",
   "metadata": {
    "execution": {
     "iopub.execute_input": "2022-10-04T15:02:05.641571Z",
     "iopub.status.busy": "2022-10-04T15:02:05.641032Z",
     "iopub.status.idle": "2022-10-04T15:02:05.694577Z",
     "shell.execute_reply": "2022-10-04T15:02:05.693655Z"
    },
    "papermill": {
     "duration": 0.067387,
     "end_time": "2022-10-04T15:02:05.696557",
     "exception": false,
     "start_time": "2022-10-04T15:02:05.629170",
     "status": "completed"
    },
    "tags": []
   },
   "outputs": [
    {
     "data": {
      "text/plain": [
       "0    6354407\n",
       "1       8213\n",
       "Name: isFraud, dtype: int64"
      ]
     },
     "execution_count": 10,
     "metadata": {},
     "output_type": "execute_result"
    }
   ],
   "source": [
    "df['isFraud'].value_counts()"
   ]
  },
  {
   "cell_type": "markdown",
   "id": "18bb5fad",
   "metadata": {
    "papermill": {
     "duration": 0.01052,
     "end_time": "2022-10-04T15:02:05.717940",
     "exception": false,
     "start_time": "2022-10-04T15:02:05.707420",
     "status": "completed"
    },
    "tags": []
   },
   "source": [
    "Above Cell shows we have an imbalanced dataset"
   ]
  },
  {
   "cell_type": "code",
   "execution_count": 11,
   "id": "27f973be",
   "metadata": {
    "execution": {
     "iopub.execute_input": "2022-10-04T15:02:05.742283Z",
     "iopub.status.busy": "2022-10-04T15:02:05.740535Z",
     "iopub.status.idle": "2022-10-04T15:02:49.291805Z",
     "shell.execute_reply": "2022-10-04T15:02:49.290741Z"
    },
    "papermill": {
     "duration": 43.574948,
     "end_time": "2022-10-04T15:02:49.303657",
     "exception": false,
     "start_time": "2022-10-04T15:02:05.728709",
     "status": "completed"
    },
    "tags": []
   },
   "outputs": [
    {
     "data": {
      "image/png": "[encoded data removed]",
      "text/plain": [
       "<Figure size 1080x360 with 1 Axes>"
      ]
     },
     "metadata": {
      "needs_background": "light"
     },
     "output_type": "display_data"
    }
   ],
   "source": [
    "sns.catplot(data=df,x= 'type',y='amount', hue='type', aspect=3)\n",
    "plt.title('Type and Amount Relation')\n",
    "plt.show()"
   ]
  },
  {
   "cell_type": "markdown",
   "id": "0e3e26d6",
   "metadata": {
    "papermill": {
     "duration": 0.011149,
     "end_time": "2022-10-04T15:02:49.326286",
     "exception": false,
     "start_time": "2022-10-04T15:02:49.315137",
     "status": "completed"
    },
    "tags": []
   },
   "source": [
    "**OneHotEncoding**"
   ]
  },
  {
   "cell_type": "code",
   "execution_count": 12,
   "id": "08da5a2a",
   "metadata": {
    "execution": {
     "iopub.execute_input": "2022-10-04T15:02:49.351402Z",
     "iopub.status.busy": "2022-10-04T15:02:49.350505Z",
     "iopub.status.idle": "2022-10-04T15:02:49.703838Z",
     "shell.execute_reply": "2022-10-04T15:02:49.702739Z"
    },
    "papermill": {
     "duration": 0.368235,
     "end_time": "2022-10-04T15:02:49.706126",
     "exception": false,
     "start_time": "2022-10-04T15:02:49.337891",
     "status": "completed"
    },
    "tags": []
   },
   "outputs": [
    {
     "data": {
      "text/plain": [
       "[array(['CASH_IN', 'CASH_OUT', 'DEBIT', 'PAYMENT', 'TRANSFER'],\n",
       "       dtype=object)]"
      ]
     },
     "execution_count": 12,
     "metadata": {},
     "output_type": "execute_result"
    }
   ],
   "source": [
    "encoder = OneHotEncoder(sparse=False, handle_unknown=\"ignore\")\n",
    "categorical_col = df.select_dtypes('object').columns.tolist()\n",
    "encoder.fit(df[categorical_col])\n",
    "encoder.categories_"
   ]
  },
  {
   "cell_type": "code",
   "execution_count": 13,
   "id": "1baf046a",
   "metadata": {
    "execution": {
     "iopub.execute_input": "2022-10-04T15:02:49.731410Z",
     "iopub.status.busy": "2022-10-04T15:02:49.731079Z",
     "iopub.status.idle": "2022-10-04T15:02:49.738525Z",
     "shell.execute_reply": "2022-10-04T15:02:49.737627Z"
    },
    "papermill": {
     "duration": 0.022419,
     "end_time": "2022-10-04T15:02:49.740670",
     "exception": false,
     "start_time": "2022-10-04T15:02:49.718251",
     "status": "completed"
    },
    "tags": []
   },
   "outputs": [
    {
     "name": "stdout",
     "output_type": "stream",
     "text": [
      "['type_CASH_IN', 'type_CASH_OUT', 'type_DEBIT', 'type_PAYMENT', 'type_TRANSFER']\n"
     ]
    }
   ],
   "source": [
    "encoded_col = list(encoder.get_feature_names_out(categorical_col))\n",
    "print(encoded_col)"
   ]
  },
  {
   "cell_type": "code",
   "execution_count": 14,
   "id": "574bd592",
   "metadata": {
    "execution": {
     "iopub.execute_input": "2022-10-04T15:02:49.767418Z",
     "iopub.status.busy": "2022-10-04T15:02:49.766432Z",
     "iopub.status.idle": "2022-10-04T15:02:52.101750Z",
     "shell.execute_reply": "2022-10-04T15:02:52.100762Z"
    },
    "papermill": {
     "duration": 2.351433,
     "end_time": "2022-10-04T15:02:52.104125",
     "exception": false,
     "start_time": "2022-10-04T15:02:49.752692",
     "status": "completed"
    },
    "tags": []
   },
   "outputs": [],
   "source": [
    "df[encoded_col] = encoder.transform(df[categorical_col])\n",
    "df.drop('type', axis=1, inplace=True)"
   ]
  },
  {
   "cell_type": "code",
   "execution_count": 15,
   "id": "5c98e11b",
   "metadata": {
    "execution": {
     "iopub.execute_input": "2022-10-04T15:02:52.128677Z",
     "iopub.status.busy": "2022-10-04T15:02:52.127996Z",
     "iopub.status.idle": "2022-10-04T15:02:52.148273Z",
     "shell.execute_reply": "2022-10-04T15:02:52.147322Z"
    },
    "papermill": {
     "duration": 0.03458,
     "end_time": "2022-10-04T15:02:52.150230",
     "exception": false,
     "start_time": "2022-10-04T15:02:52.115650",
     "status": "completed"
    },
    "tags": []
   },
   "outputs": [
    {
     "data": {
      "text/html": [
       "<div>\n",
       "<style scoped>\n",
       "    .dataframe tbody tr th:only-of-type {\n",
       "        vertical-align: middle;\n",
       "    }\n",
       "\n",
       "    .dataframe tbody tr th {\n",
       "        vertical-align: top;\n",
       "    }\n",
       "\n",
       "    .dataframe thead th {\n",
       "        text-align: right;\n",
       "    }\n",
       "</style>\n",
       "<table border=\"1\" class=\"dataframe\">\n",
       "  <thead>\n",
       "    <tr style=\"text-align: right;\">\n",
       "      <th></th>\n",
       "      <th>step</th>\n",
       "      <th>amount</th>\n",
       "      <th>oldbalanceOrg</th>\n",
       "      <th>newbalanceOrig</th>\n",
       "      <th>oldbalanceDest</th>\n",
       "      <th>newbalanceDest</th>\n",
       "      <th>isFraud</th>\n",
       "      <th>isFlaggedFraud</th>\n",
       "      <th>type_CASH_IN</th>\n",
       "      <th>type_CASH_OUT</th>\n",
       "      <th>type_DEBIT</th>\n",
       "      <th>type_PAYMENT</th>\n",
       "      <th>type_TRANSFER</th>\n",
       "    </tr>\n",
       "  </thead>\n",
       "  <tbody>\n",
       "    <tr>\n",
       "      <th>0</th>\n",
       "      <td>1</td>\n",
       "      <td>9840.0</td>\n",
       "      <td>inf</td>\n",
       "      <td>inf</td>\n",
       "      <td>0.0</td>\n",
       "      <td>0.0</td>\n",
       "      <td>0</td>\n",
       "      <td>0</td>\n",
       "      <td>0.0</td>\n",
       "      <td>0.0</td>\n",
       "      <td>0.0</td>\n",
       "      <td>1.0</td>\n",
       "      <td>0.0</td>\n",
       "    </tr>\n",
       "    <tr>\n",
       "      <th>1</th>\n",
       "      <td>1</td>\n",
       "      <td>1864.0</td>\n",
       "      <td>21248.0</td>\n",
       "      <td>19392.0</td>\n",
       "      <td>0.0</td>\n",
       "      <td>0.0</td>\n",
       "      <td>0</td>\n",
       "      <td>0</td>\n",
       "      <td>0.0</td>\n",
       "      <td>0.0</td>\n",
       "      <td>0.0</td>\n",
       "      <td>1.0</td>\n",
       "      <td>0.0</td>\n",
       "    </tr>\n",
       "    <tr>\n",
       "      <th>2</th>\n",
       "      <td>1</td>\n",
       "      <td>181.0</td>\n",
       "      <td>181.0</td>\n",
       "      <td>0.0</td>\n",
       "      <td>0.0</td>\n",
       "      <td>0.0</td>\n",
       "      <td>1</td>\n",
       "      <td>0</td>\n",
       "      <td>0.0</td>\n",
       "      <td>0.0</td>\n",
       "      <td>0.0</td>\n",
       "      <td>0.0</td>\n",
       "      <td>1.0</td>\n",
       "    </tr>\n",
       "    <tr>\n",
       "      <th>3</th>\n",
       "      <td>1</td>\n",
       "      <td>181.0</td>\n",
       "      <td>181.0</td>\n",
       "      <td>0.0</td>\n",
       "      <td>21184.0</td>\n",
       "      <td>0.0</td>\n",
       "      <td>1</td>\n",
       "      <td>0</td>\n",
       "      <td>0.0</td>\n",
       "      <td>1.0</td>\n",
       "      <td>0.0</td>\n",
       "      <td>0.0</td>\n",
       "      <td>0.0</td>\n",
       "    </tr>\n",
       "    <tr>\n",
       "      <th>4</th>\n",
       "      <td>1</td>\n",
       "      <td>11672.0</td>\n",
       "      <td>41568.0</td>\n",
       "      <td>29888.0</td>\n",
       "      <td>0.0</td>\n",
       "      <td>0.0</td>\n",
       "      <td>0</td>\n",
       "      <td>0</td>\n",
       "      <td>0.0</td>\n",
       "      <td>0.0</td>\n",
       "      <td>0.0</td>\n",
       "      <td>1.0</td>\n",
       "      <td>0.0</td>\n",
       "    </tr>\n",
       "  </tbody>\n",
       "</table>\n",
       "</div>"
      ],
      "text/plain": [
       "   step   amount  oldbalanceOrg  newbalanceOrig  oldbalanceDest  \\\n",
       "0     1   9840.0            inf             inf             0.0   \n",
       "1     1   1864.0        21248.0         19392.0             0.0   \n",
       "2     1    181.0          181.0             0.0             0.0   \n",
       "3     1    181.0          181.0             0.0         21184.0   \n",
       "4     1  11672.0        41568.0         29888.0             0.0   \n",
       "\n",
       "   newbalanceDest  isFraud  isFlaggedFraud  type_CASH_IN  type_CASH_OUT  \\\n",
       "0             0.0        0               0           0.0            0.0   \n",
       "1             0.0        0               0           0.0            0.0   \n",
       "2             0.0        1               0           0.0            0.0   \n",
       "3             0.0        1               0           0.0            1.0   \n",
       "4             0.0        0               0           0.0            0.0   \n",
       "\n",
       "   type_DEBIT  type_PAYMENT  type_TRANSFER  \n",
       "0         0.0           1.0            0.0  \n",
       "1         0.0           1.0            0.0  \n",
       "2         0.0           0.0            1.0  \n",
       "3         0.0           0.0            0.0  \n",
       "4         0.0           1.0            0.0  "
      ]
     },
     "execution_count": 15,
     "metadata": {},
     "output_type": "execute_result"
    }
   ],
   "source": [
    "df.head()"
   ]
  },
  {
   "cell_type": "code",
   "execution_count": 16,
   "id": "bd968f86",
   "metadata": {
    "execution": {
     "iopub.execute_input": "2022-10-04T15:02:52.175121Z",
     "iopub.status.busy": "2022-10-04T15:02:52.174231Z",
     "iopub.status.idle": "2022-10-04T15:02:53.477086Z",
     "shell.execute_reply": "2022-10-04T15:02:53.476046Z"
    },
    "papermill": {
     "duration": 1.318186,
     "end_time": "2022-10-04T15:02:53.479806",
     "exception": false,
     "start_time": "2022-10-04T15:02:52.161620",
     "status": "completed"
    },
    "tags": []
   },
   "outputs": [],
   "source": [
    "#Dropping those rows by the index where value is `inf` and then resetting the index\n",
    "df1 = df.drop(index=df.index[np.isinf(df).any(1)], axis=0).reset_index().drop('index', axis=1)"
   ]
  },
  {
   "cell_type": "code",
   "execution_count": 17,
   "id": "4270ec11",
   "metadata": {
    "execution": {
     "iopub.execute_input": "2022-10-04T15:02:53.504048Z",
     "iopub.status.busy": "2022-10-04T15:02:53.503711Z",
     "iopub.status.idle": "2022-10-04T15:02:53.513148Z",
     "shell.execute_reply": "2022-10-04T15:02:53.512244Z"
    },
    "papermill": {
     "duration": 0.023881,
     "end_time": "2022-10-04T15:02:53.515286",
     "exception": false,
     "start_time": "2022-10-04T15:02:53.491405",
     "status": "completed"
    },
    "tags": []
   },
   "outputs": [],
   "source": [
    "#Dataframe where `isFraud` = True\n",
    "frauddf = df1[df1['isFraud']==1]"
   ]
  },
  {
   "cell_type": "code",
   "execution_count": 18,
   "id": "f6be8980",
   "metadata": {
    "execution": {
     "iopub.execute_input": "2022-10-04T15:02:53.539356Z",
     "iopub.status.busy": "2022-10-04T15:02:53.538550Z",
     "iopub.status.idle": "2022-10-04T15:02:54.776674Z",
     "shell.execute_reply": "2022-10-04T15:02:54.775758Z"
    },
    "papermill": {
     "duration": 1.25235,
     "end_time": "2022-10-04T15:02:54.778864",
     "exception": false,
     "start_time": "2022-10-04T15:02:53.526514",
     "status": "completed"
    },
    "tags": []
   },
   "outputs": [
    {
     "data": {
      "image/png": "[encoded data removed]",
      "text/plain": [
       "<Figure size 1080x720 with 1 Axes>"
      ]
     },
     "metadata": {
      "needs_background": "light"
     },
     "output_type": "display_data"
    },
    {
     "data": {
      "image/png": "[encoded data removed]",
      "text/plain": [
       "<Figure size 1080x720 with 1 Axes>"
      ]
     },
     "metadata": {
      "needs_background": "light"
     },
     "output_type": "display_data"
    },
    {
     "data": {
      "image/png": "[encoded data removed]",
      "text/plain": [
       "<Figure size 1080x720 with 1 Axes>"
      ]
     },
     "metadata": {
      "needs_background": "light"
     },
     "output_type": "display_data"
    },
    {
     "data": {
      "image/png": "[encoded data removed]",
      "text/plain": [
       "<Figure size 1080x720 with 1 Axes>"
      ]
     },
     "metadata": {
      "needs_background": "light"
     },
     "output_type": "display_data"
    },
    {
     "data": {
      "image/png": "[encoded data removed]",
      "text/plain": [
       "<Figure size 1080x720 with 1 Axes>"
      ]
     },
     "metadata": {
      "needs_background": "light"
     },
     "output_type": "display_data"
    }
   ],
   "source": [
    "for i in frauddf.columns[1:6]:\n",
    "    ax = sns.histplot(frauddf[i], kde=True, color='lightblue')\n",
    "    try:\n",
    "        ax.lines[0].set_color('crimson')\n",
    "    except: \n",
    "        pass\n",
    "    plt.title('isFraud = True')\n",
    "    plt.xlabel(i)\n",
    "    plt.show()"
   ]
  },
  {
   "cell_type": "markdown",
   "id": "33440f72",
   "metadata": {
    "papermill": {
     "duration": 0.013664,
     "end_time": "2022-10-04T15:02:54.806099",
     "exception": false,
     "start_time": "2022-10-04T15:02:54.792435",
     "status": "completed"
    },
    "tags": []
   },
   "source": [
    "From the charts above, we could see that the frauds are majorly happening where the amount is on the lower end."
   ]
  },
  {
   "cell_type": "code",
   "execution_count": 19,
   "id": "69b51132",
   "metadata": {
    "execution": {
     "iopub.execute_input": "2022-10-04T15:02:54.833492Z",
     "iopub.status.busy": "2022-10-04T15:02:54.833146Z",
     "iopub.status.idle": "2022-10-04T15:02:54.896323Z",
     "shell.execute_reply": "2022-10-04T15:02:54.895122Z"
    },
    "papermill": {
     "duration": 0.080167,
     "end_time": "2022-10-04T15:02:54.899396",
     "exception": false,
     "start_time": "2022-10-04T15:02:54.819229",
     "status": "completed"
    },
    "tags": []
   },
   "outputs": [
    {
     "data": {
      "text/html": [
       "<div>\n",
       "<style scoped>\n",
       "    .dataframe tbody tr th:only-of-type {\n",
       "        vertical-align: middle;\n",
       "    }\n",
       "\n",
       "    .dataframe tbody tr th {\n",
       "        vertical-align: top;\n",
       "    }\n",
       "\n",
       "    .dataframe thead th {\n",
       "        text-align: right;\n",
       "    }\n",
       "</style>\n",
       "<table border=\"1\" class=\"dataframe\">\n",
       "  <thead>\n",
       "    <tr style=\"text-align: right;\">\n",
       "      <th></th>\n",
       "      <th>step</th>\n",
       "      <th>amount</th>\n",
       "      <th>oldbalanceOrg</th>\n",
       "      <th>newbalanceOrig</th>\n",
       "      <th>oldbalanceDest</th>\n",
       "      <th>newbalanceDest</th>\n",
       "      <th>isFlaggedFraud</th>\n",
       "      <th>type_CASH_IN</th>\n",
       "      <th>type_CASH_OUT</th>\n",
       "      <th>type_DEBIT</th>\n",
       "      <th>type_PAYMENT</th>\n",
       "      <th>type_TRANSFER</th>\n",
       "    </tr>\n",
       "  </thead>\n",
       "  <tbody>\n",
       "    <tr>\n",
       "      <th>0</th>\n",
       "      <td>1</td>\n",
       "      <td>1864.0</td>\n",
       "      <td>21248.0</td>\n",
       "      <td>19392.0</td>\n",
       "      <td>0.0</td>\n",
       "      <td>0.0</td>\n",
       "      <td>0</td>\n",
       "      <td>0.0</td>\n",
       "      <td>0.0</td>\n",
       "      <td>0.0</td>\n",
       "      <td>1.0</td>\n",
       "      <td>0.0</td>\n",
       "    </tr>\n",
       "    <tr>\n",
       "      <th>1</th>\n",
       "      <td>1</td>\n",
       "      <td>181.0</td>\n",
       "      <td>181.0</td>\n",
       "      <td>0.0</td>\n",
       "      <td>0.0</td>\n",
       "      <td>0.0</td>\n",
       "      <td>0</td>\n",
       "      <td>0.0</td>\n",
       "      <td>0.0</td>\n",
       "      <td>0.0</td>\n",
       "      <td>0.0</td>\n",
       "      <td>1.0</td>\n",
       "    </tr>\n",
       "    <tr>\n",
       "      <th>2</th>\n",
       "      <td>1</td>\n",
       "      <td>181.0</td>\n",
       "      <td>181.0</td>\n",
       "      <td>0.0</td>\n",
       "      <td>21184.0</td>\n",
       "      <td>0.0</td>\n",
       "      <td>0</td>\n",
       "      <td>0.0</td>\n",
       "      <td>1.0</td>\n",
       "      <td>0.0</td>\n",
       "      <td>0.0</td>\n",
       "      <td>0.0</td>\n",
       "    </tr>\n",
       "    <tr>\n",
       "      <th>3</th>\n",
       "      <td>1</td>\n",
       "      <td>11672.0</td>\n",
       "      <td>41568.0</td>\n",
       "      <td>29888.0</td>\n",
       "      <td>0.0</td>\n",
       "      <td>0.0</td>\n",
       "      <td>0</td>\n",
       "      <td>0.0</td>\n",
       "      <td>0.0</td>\n",
       "      <td>0.0</td>\n",
       "      <td>1.0</td>\n",
       "      <td>0.0</td>\n",
       "    </tr>\n",
       "    <tr>\n",
       "      <th>4</th>\n",
       "      <td>1</td>\n",
       "      <td>7816.0</td>\n",
       "      <td>53856.0</td>\n",
       "      <td>46048.0</td>\n",
       "      <td>0.0</td>\n",
       "      <td>0.0</td>\n",
       "      <td>0</td>\n",
       "      <td>0.0</td>\n",
       "      <td>0.0</td>\n",
       "      <td>0.0</td>\n",
       "      <td>1.0</td>\n",
       "      <td>0.0</td>\n",
       "    </tr>\n",
       "    <tr>\n",
       "      <th>...</th>\n",
       "      <td>...</td>\n",
       "      <td>...</td>\n",
       "      <td>...</td>\n",
       "      <td>...</td>\n",
       "      <td>...</td>\n",
       "      <td>...</td>\n",
       "      <td>...</td>\n",
       "      <td>...</td>\n",
       "      <td>...</td>\n",
       "      <td>...</td>\n",
       "      <td>...</td>\n",
       "      <td>...</td>\n",
       "    </tr>\n",
       "    <tr>\n",
       "      <th>1728967</th>\n",
       "      <td>741</td>\n",
       "      <td>62304.0</td>\n",
       "      <td>62304.0</td>\n",
       "      <td>0.0</td>\n",
       "      <td>0.0</td>\n",
       "      <td>0.0</td>\n",
       "      <td>0</td>\n",
       "      <td>0.0</td>\n",
       "      <td>0.0</td>\n",
       "      <td>0.0</td>\n",
       "      <td>0.0</td>\n",
       "      <td>1.0</td>\n",
       "    </tr>\n",
       "    <tr>\n",
       "      <th>1728968</th>\n",
       "      <td>741</td>\n",
       "      <td>48448.0</td>\n",
       "      <td>48448.0</td>\n",
       "      <td>0.0</td>\n",
       "      <td>0.0</td>\n",
       "      <td>0.0</td>\n",
       "      <td>0</td>\n",
       "      <td>0.0</td>\n",
       "      <td>0.0</td>\n",
       "      <td>0.0</td>\n",
       "      <td>0.0</td>\n",
       "      <td>1.0</td>\n",
       "    </tr>\n",
       "    <tr>\n",
       "      <th>1728969</th>\n",
       "      <td>742</td>\n",
       "      <td>54656.0</td>\n",
       "      <td>54656.0</td>\n",
       "      <td>0.0</td>\n",
       "      <td>0.0</td>\n",
       "      <td>0.0</td>\n",
       "      <td>0</td>\n",
       "      <td>0.0</td>\n",
       "      <td>0.0</td>\n",
       "      <td>0.0</td>\n",
       "      <td>0.0</td>\n",
       "      <td>1.0</td>\n",
       "    </tr>\n",
       "    <tr>\n",
       "      <th>1728970</th>\n",
       "      <td>742</td>\n",
       "      <td>54656.0</td>\n",
       "      <td>54656.0</td>\n",
       "      <td>0.0</td>\n",
       "      <td>0.0</td>\n",
       "      <td>54656.0</td>\n",
       "      <td>0</td>\n",
       "      <td>0.0</td>\n",
       "      <td>1.0</td>\n",
       "      <td>0.0</td>\n",
       "      <td>0.0</td>\n",
       "      <td>0.0</td>\n",
       "    </tr>\n",
       "    <tr>\n",
       "      <th>1728971</th>\n",
       "      <td>742</td>\n",
       "      <td>63424.0</td>\n",
       "      <td>63424.0</td>\n",
       "      <td>0.0</td>\n",
       "      <td>0.0</td>\n",
       "      <td>0.0</td>\n",
       "      <td>0</td>\n",
       "      <td>0.0</td>\n",
       "      <td>0.0</td>\n",
       "      <td>0.0</td>\n",
       "      <td>0.0</td>\n",
       "      <td>1.0</td>\n",
       "    </tr>\n",
       "  </tbody>\n",
       "</table>\n",
       "<p>1728972 rows × 12 columns</p>\n",
       "</div>"
      ],
      "text/plain": [
       "         step   amount  oldbalanceOrg  newbalanceOrig  oldbalanceDest  \\\n",
       "0           1   1864.0        21248.0         19392.0             0.0   \n",
       "1           1    181.0          181.0             0.0             0.0   \n",
       "2           1    181.0          181.0             0.0         21184.0   \n",
       "3           1  11672.0        41568.0         29888.0             0.0   \n",
       "4           1   7816.0        53856.0         46048.0             0.0   \n",
       "...       ...      ...            ...             ...             ...   \n",
       "1728967   741  62304.0        62304.0             0.0             0.0   \n",
       "1728968   741  48448.0        48448.0             0.0             0.0   \n",
       "1728969   742  54656.0        54656.0             0.0             0.0   \n",
       "1728970   742  54656.0        54656.0             0.0             0.0   \n",
       "1728971   742  63424.0        63424.0             0.0             0.0   \n",
       "\n",
       "         newbalanceDest  isFlaggedFraud  type_CASH_IN  type_CASH_OUT  \\\n",
       "0                   0.0               0           0.0            0.0   \n",
       "1                   0.0               0           0.0            0.0   \n",
       "2                   0.0               0           0.0            1.0   \n",
       "3                   0.0               0           0.0            0.0   \n",
       "4                   0.0               0           0.0            0.0   \n",
       "...                 ...             ...           ...            ...   \n",
       "1728967             0.0               0           0.0            0.0   \n",
       "1728968             0.0               0           0.0            0.0   \n",
       "1728969             0.0               0           0.0            0.0   \n",
       "1728970         54656.0               0           0.0            1.0   \n",
       "1728971             0.0               0           0.0            0.0   \n",
       "\n",
       "         type_DEBIT  type_PAYMENT  type_TRANSFER  \n",
       "0               0.0           1.0            0.0  \n",
       "1               0.0           0.0            1.0  \n",
       "2               0.0           0.0            0.0  \n",
       "3               0.0           1.0            0.0  \n",
       "4               0.0           1.0            0.0  \n",
       "...             ...           ...            ...  \n",
       "1728967         0.0           0.0            1.0  \n",
       "1728968         0.0           0.0            1.0  \n",
       "1728969         0.0           0.0            1.0  \n",
       "1728970         0.0           0.0            0.0  \n",
       "1728971         0.0           0.0            1.0  \n",
       "\n",
       "[1728972 rows x 12 columns]"
      ]
     },
     "execution_count": 19,
     "metadata": {},
     "output_type": "execute_result"
    }
   ],
   "source": [
    "inputcols = [i for i in df1.columns if i!='isFraud']\n",
    "df1[inputcols]"
   ]
  },
  {
   "cell_type": "code",
   "execution_count": 20,
   "id": "1c265897",
   "metadata": {
    "execution": {
     "iopub.execute_input": "2022-10-04T15:02:54.930834Z",
     "iopub.status.busy": "2022-10-04T15:02:54.929275Z",
     "iopub.status.idle": "2022-10-04T15:02:54.993381Z",
     "shell.execute_reply": "2022-10-04T15:02:54.992397Z"
    },
    "papermill": {
     "duration": 0.081395,
     "end_time": "2022-10-04T15:02:54.995680",
     "exception": false,
     "start_time": "2022-10-04T15:02:54.914285",
     "status": "completed"
    },
    "tags": []
   },
   "outputs": [],
   "source": [
    "y = df1['isFraud']\n",
    "X = df1[inputcols]"
   ]
  },
  {
   "cell_type": "code",
   "execution_count": 21,
   "id": "92c84a4f",
   "metadata": {
    "execution": {
     "iopub.execute_input": "2022-10-04T15:02:55.024318Z",
     "iopub.status.busy": "2022-10-04T15:02:55.023987Z",
     "iopub.status.idle": "2022-10-04T15:02:56.358400Z",
     "shell.execute_reply": "2022-10-04T15:02:56.357425Z"
    },
    "papermill": {
     "duration": 1.351394,
     "end_time": "2022-10-04T15:02:56.360932",
     "exception": false,
     "start_time": "2022-10-04T15:02:55.009538",
     "status": "completed"
    },
    "tags": []
   },
   "outputs": [
    {
     "data": {
      "image/png": "[encoded data removed]",
      "text/plain": [
       "<Figure size 1080x1080 with 2 Axes>"
      ]
     },
     "metadata": {
      "needs_background": "light"
     },
     "output_type": "display_data"
    }
   ],
   "source": [
    "corr = df1.corr()\n",
    "corr = np.around(corr[corr > 0.0],2)\n",
    "mask = np.triu(np.ones_like(corr, dtype=bool))\n",
    "f, ax = plt.subplots(figsize=(15,15))\n",
    "sns.set(font_scale=2)\n",
    "cmap = sns.diverging_palette(220,20, as_cmap=True)\n",
    "sns.heatmap(corr, cmap=cmap, mask = mask, vmax=.3, center=0, annot=True, square=True, \n",
    "            linewidths=.9, cbar_kws={'shrink': .5},annot_kws={\"size\": 15})\n",
    "plt.show()"
   ]
  },
  {
   "cell_type": "code",
   "execution_count": 22,
   "id": "2b683b9e",
   "metadata": {
    "execution": {
     "iopub.execute_input": "2022-10-04T15:02:56.391943Z",
     "iopub.status.busy": "2022-10-04T15:02:56.391568Z",
     "iopub.status.idle": "2022-10-04T15:02:56.410700Z",
     "shell.execute_reply": "2022-10-04T15:02:56.409776Z"
    },
    "papermill": {
     "duration": 0.037157,
     "end_time": "2022-10-04T15:02:56.412753",
     "exception": false,
     "start_time": "2022-10-04T15:02:56.375596",
     "status": "completed"
    },
    "tags": []
   },
   "outputs": [
    {
     "data": {
      "text/html": [
       "<div>\n",
       "<style scoped>\n",
       "    .dataframe tbody tr th:only-of-type {\n",
       "        vertical-align: middle;\n",
       "    }\n",
       "\n",
       "    .dataframe tbody tr th {\n",
       "        vertical-align: top;\n",
       "    }\n",
       "\n",
       "    .dataframe thead th {\n",
       "        text-align: right;\n",
       "    }\n",
       "</style>\n",
       "<table border=\"1\" class=\"dataframe\">\n",
       "  <thead>\n",
       "    <tr style=\"text-align: right;\">\n",
       "      <th></th>\n",
       "      <th>step</th>\n",
       "      <th>amount</th>\n",
       "      <th>oldbalanceOrg</th>\n",
       "      <th>newbalanceOrig</th>\n",
       "      <th>oldbalanceDest</th>\n",
       "      <th>newbalanceDest</th>\n",
       "      <th>isFraud</th>\n",
       "      <th>isFlaggedFraud</th>\n",
       "      <th>type_CASH_IN</th>\n",
       "      <th>type_CASH_OUT</th>\n",
       "      <th>type_DEBIT</th>\n",
       "      <th>type_PAYMENT</th>\n",
       "      <th>type_TRANSFER</th>\n",
       "    </tr>\n",
       "  </thead>\n",
       "  <tbody>\n",
       "    <tr>\n",
       "      <th>0</th>\n",
       "      <td>1</td>\n",
       "      <td>1864.0</td>\n",
       "      <td>21248.0</td>\n",
       "      <td>19392.0</td>\n",
       "      <td>0.0</td>\n",
       "      <td>0.0</td>\n",
       "      <td>0</td>\n",
       "      <td>0</td>\n",
       "      <td>0.0</td>\n",
       "      <td>0.0</td>\n",
       "      <td>0.0</td>\n",
       "      <td>1.0</td>\n",
       "      <td>0.0</td>\n",
       "    </tr>\n",
       "    <tr>\n",
       "      <th>1</th>\n",
       "      <td>1</td>\n",
       "      <td>181.0</td>\n",
       "      <td>181.0</td>\n",
       "      <td>0.0</td>\n",
       "      <td>0.0</td>\n",
       "      <td>0.0</td>\n",
       "      <td>1</td>\n",
       "      <td>0</td>\n",
       "      <td>0.0</td>\n",
       "      <td>0.0</td>\n",
       "      <td>0.0</td>\n",
       "      <td>0.0</td>\n",
       "      <td>1.0</td>\n",
       "    </tr>\n",
       "    <tr>\n",
       "      <th>2</th>\n",
       "      <td>1</td>\n",
       "      <td>181.0</td>\n",
       "      <td>181.0</td>\n",
       "      <td>0.0</td>\n",
       "      <td>21184.0</td>\n",
       "      <td>0.0</td>\n",
       "      <td>1</td>\n",
       "      <td>0</td>\n",
       "      <td>0.0</td>\n",
       "      <td>1.0</td>\n",
       "      <td>0.0</td>\n",
       "      <td>0.0</td>\n",
       "      <td>0.0</td>\n",
       "    </tr>\n",
       "    <tr>\n",
       "      <th>3</th>\n",
       "      <td>1</td>\n",
       "      <td>11672.0</td>\n",
       "      <td>41568.0</td>\n",
       "      <td>29888.0</td>\n",
       "      <td>0.0</td>\n",
       "      <td>0.0</td>\n",
       "      <td>0</td>\n",
       "      <td>0</td>\n",
       "      <td>0.0</td>\n",
       "      <td>0.0</td>\n",
       "      <td>0.0</td>\n",
       "      <td>1.0</td>\n",
       "      <td>0.0</td>\n",
       "    </tr>\n",
       "    <tr>\n",
       "      <th>4</th>\n",
       "      <td>1</td>\n",
       "      <td>7816.0</td>\n",
       "      <td>53856.0</td>\n",
       "      <td>46048.0</td>\n",
       "      <td>0.0</td>\n",
       "      <td>0.0</td>\n",
       "      <td>0</td>\n",
       "      <td>0</td>\n",
       "      <td>0.0</td>\n",
       "      <td>0.0</td>\n",
       "      <td>0.0</td>\n",
       "      <td>1.0</td>\n",
       "      <td>0.0</td>\n",
       "    </tr>\n",
       "  </tbody>\n",
       "</table>\n",
       "</div>"
      ],
      "text/plain": [
       "   step   amount  oldbalanceOrg  newbalanceOrig  oldbalanceDest  \\\n",
       "0     1   1864.0        21248.0         19392.0             0.0   \n",
       "1     1    181.0          181.0             0.0             0.0   \n",
       "2     1    181.0          181.0             0.0         21184.0   \n",
       "3     1  11672.0        41568.0         29888.0             0.0   \n",
       "4     1   7816.0        53856.0         46048.0             0.0   \n",
       "\n",
       "   newbalanceDest  isFraud  isFlaggedFraud  type_CASH_IN  type_CASH_OUT  \\\n",
       "0             0.0        0               0           0.0            0.0   \n",
       "1             0.0        1               0           0.0            0.0   \n",
       "2             0.0        1               0           0.0            1.0   \n",
       "3             0.0        0               0           0.0            0.0   \n",
       "4             0.0        0               0           0.0            0.0   \n",
       "\n",
       "   type_DEBIT  type_PAYMENT  type_TRANSFER  \n",
       "0         0.0           1.0            0.0  \n",
       "1         0.0           0.0            1.0  \n",
       "2         0.0           0.0            0.0  \n",
       "3         0.0           1.0            0.0  \n",
       "4         0.0           1.0            0.0  "
      ]
     },
     "execution_count": 22,
     "metadata": {},
     "output_type": "execute_result"
    }
   ],
   "source": [
    "df1.head()"
   ]
  },
  {
   "cell_type": "markdown",
   "id": "c4a99c0c",
   "metadata": {
    "papermill": {
     "duration": 0.014397,
     "end_time": "2022-10-04T15:02:56.441817",
     "exception": false,
     "start_time": "2022-10-04T15:02:56.427420",
     "status": "completed"
    },
    "tags": []
   },
   "source": [
    "## Seperating Independent and Dependent Variable"
   ]
  },
  {
   "cell_type": "code",
   "execution_count": 23,
   "id": "4b8ea800",
   "metadata": {
    "execution": {
     "iopub.execute_input": "2022-10-04T15:02:56.472950Z",
     "iopub.status.busy": "2022-10-04T15:02:56.471861Z",
     "iopub.status.idle": "2022-10-04T15:02:56.517973Z",
     "shell.execute_reply": "2022-10-04T15:02:56.516955Z"
    },
    "papermill": {
     "duration": 0.064187,
     "end_time": "2022-10-04T15:02:56.520354",
     "exception": false,
     "start_time": "2022-10-04T15:02:56.456167",
     "status": "completed"
    },
    "tags": []
   },
   "outputs": [],
   "source": [
    "X = df1[['amount', 'oldbalanceOrg', 'type_TRANSFER', 'type_CASH_OUT']].values\n",
    "y = df1['isFraud'].values"
   ]
  },
  {
   "cell_type": "markdown",
   "id": "85b4c822",
   "metadata": {
    "papermill": {
     "duration": 0.014382,
     "end_time": "2022-10-04T15:02:56.549633",
     "exception": false,
     "start_time": "2022-10-04T15:02:56.535251",
     "status": "completed"
    },
    "tags": []
   },
   "source": [
    "## Scaling and Under Sampling"
   ]
  },
  {
   "cell_type": "code",
   "execution_count": 24,
   "id": "5be8ef72",
   "metadata": {
    "execution": {
     "iopub.execute_input": "2022-10-04T15:02:56.581292Z",
     "iopub.status.busy": "2022-10-04T15:02:56.580347Z",
     "iopub.status.idle": "2022-10-04T15:02:56.883396Z",
     "shell.execute_reply": "2022-10-04T15:02:56.882419Z"
    },
    "papermill": {
     "duration": 0.321759,
     "end_time": "2022-10-04T15:02:56.885958",
     "exception": false,
     "start_time": "2022-10-04T15:02:56.564199",
     "status": "completed"
    },
    "tags": []
   },
   "outputs": [],
   "source": [
    "#UnderSampling\n",
    "rus = RandomUnderSampler(random_state=42)\n",
    "X_res, y_res = rus.fit_resample(X, y)\n",
    "#Scaling\n",
    "scaler = MinMaxScaler()\n",
    "X_scaled = scaler.fit_transform(X_res)"
   ]
  },
  {
   "cell_type": "code",
   "execution_count": 25,
   "id": "68f22497",
   "metadata": {
    "execution": {
     "iopub.execute_input": "2022-10-04T15:02:56.917111Z",
     "iopub.status.busy": "2022-10-04T15:02:56.916748Z",
     "iopub.status.idle": "2022-10-04T15:02:56.923655Z",
     "shell.execute_reply": "2022-10-04T15:02:56.922544Z"
    },
    "papermill": {
     "duration": 0.026086,
     "end_time": "2022-10-04T15:02:56.927023",
     "exception": false,
     "start_time": "2022-10-04T15:02:56.900937",
     "status": "completed"
    },
    "tags": []
   },
   "outputs": [
    {
     "data": {
      "text/plain": [
       "array([0.07999511, 0.03538715, 0.38177821, ..., 0.83439179, 0.83439179,\n",
       "       0.96824621])"
      ]
     },
     "execution_count": 25,
     "metadata": {},
     "output_type": "execute_result"
    }
   ],
   "source": [
    "X_scaled[:,0]"
   ]
  },
  {
   "cell_type": "code",
   "execution_count": 26,
   "id": "7e0de0d0",
   "metadata": {
    "execution": {
     "iopub.execute_input": "2022-10-04T15:02:56.958569Z",
     "iopub.status.busy": "2022-10-04T15:02:56.957621Z",
     "iopub.status.idle": "2022-10-04T15:02:56.964611Z",
     "shell.execute_reply": "2022-10-04T15:02:56.963212Z"
    },
    "papermill": {
     "duration": 0.024452,
     "end_time": "2022-10-04T15:02:56.966551",
     "exception": false,
     "start_time": "2022-10-04T15:02:56.942099",
     "status": "completed"
    },
    "tags": []
   },
   "outputs": [
    {
     "name": "stdout",
     "output_type": "stream",
     "text": [
      "The weights of the classes after resampling is {0: 0.5, 1: 0.5}\n"
     ]
    }
   ],
   "source": [
    "weight_for_0 = (len(y_res[y_res==0]))/(y_res.shape[0])\n",
    "weight_for_1 = (len(y_res[y_res==1]))/(y_res.shape[0])\n",
    "class_weight = {0: weight_for_0, 1: weight_for_1}\n",
    "print(f'The weights of the classes after resampling is {class_weight}')"
   ]
  },
  {
   "cell_type": "markdown",
   "id": "e3e56f36",
   "metadata": {
    "papermill": {
     "duration": 0.014289,
     "end_time": "2022-10-04T15:02:56.995234",
     "exception": false,
     "start_time": "2022-10-04T15:02:56.980945",
     "status": "completed"
    },
    "tags": []
   },
   "source": [
    "We see that the classes are now balanced as the occurence of both the classes in our target `y_res` values is 50% each"
   ]
  },
  {
   "cell_type": "markdown",
   "id": "c57ce76e",
   "metadata": {
    "papermill": {
     "duration": 0.014261,
     "end_time": "2022-10-04T15:02:57.023887",
     "exception": false,
     "start_time": "2022-10-04T15:02:57.009626",
     "status": "completed"
    },
    "tags": []
   },
   "source": [
    "## Splitting and Training "
   ]
  },
  {
   "cell_type": "code",
   "execution_count": 27,
   "id": "3034cf28",
   "metadata": {
    "execution": {
     "iopub.execute_input": "2022-10-04T15:02:57.053945Z",
     "iopub.status.busy": "2022-10-04T15:02:57.053644Z",
     "iopub.status.idle": "2022-10-04T15:02:57.059170Z",
     "shell.execute_reply": "2022-10-04T15:02:57.058295Z"
    },
    "papermill": {
     "duration": 0.022806,
     "end_time": "2022-10-04T15:02:57.061120",
     "exception": false,
     "start_time": "2022-10-04T15:02:57.038314",
     "status": "completed"
    },
    "tags": []
   },
   "outputs": [],
   "source": [
    "X_train, X_test, y_train, y_test = train_test_split(X_scaled, y_res, test_size=0.33, random_state=42)"
   ]
  },
  {
   "cell_type": "code",
   "execution_count": 28,
   "id": "5c55ad78",
   "metadata": {
    "execution": {
     "iopub.execute_input": "2022-10-04T15:02:57.091627Z",
     "iopub.status.busy": "2022-10-04T15:02:57.090825Z",
     "iopub.status.idle": "2022-10-04T15:02:58.986614Z",
     "shell.execute_reply": "2022-10-04T15:02:58.985729Z"
    },
    "papermill": {
     "duration": 1.913478,
     "end_time": "2022-10-04T15:02:58.988906",
     "exception": false,
     "start_time": "2022-10-04T15:02:57.075428",
     "status": "completed"
    },
    "tags": []
   },
   "outputs": [
    {
     "data": {
      "text/html": [
       "<div>\n",
       "<style scoped>\n",
       "    .dataframe tbody tr th:only-of-type {\n",
       "        vertical-align: middle;\n",
       "    }\n",
       "\n",
       "    .dataframe tbody tr th {\n",
       "        vertical-align: top;\n",
       "    }\n",
       "\n",
       "    .dataframe thead th {\n",
       "        text-align: right;\n",
       "    }\n",
       "</style>\n",
       "<table border=\"1\" class=\"dataframe\">\n",
       "  <thead>\n",
       "    <tr style=\"text-align: right;\">\n",
       "      <th></th>\n",
       "      <th>name</th>\n",
       "      <th>score</th>\n",
       "    </tr>\n",
       "  </thead>\n",
       "  <tbody>\n",
       "    <tr>\n",
       "      <th>2</th>\n",
       "      <td>Random Forest</td>\n",
       "      <td>0.9931</td>\n",
       "    </tr>\n",
       "    <tr>\n",
       "      <th>1</th>\n",
       "      <td>XGB Classifier</td>\n",
       "      <td>0.9896</td>\n",
       "    </tr>\n",
       "    <tr>\n",
       "      <th>0</th>\n",
       "      <td>Logistic Regression</td>\n",
       "      <td>0.9879</td>\n",
       "    </tr>\n",
       "  </tbody>\n",
       "</table>\n",
       "</div>"
      ],
      "text/plain": [
       "                  name   score\n",
       "2        Random Forest  0.9931\n",
       "1       XGB Classifier  0.9896\n",
       "0  Logistic Regression  0.9879"
      ]
     },
     "execution_count": 28,
     "metadata": {},
     "output_type": "execute_result"
    }
   ],
   "source": [
    "names = ['Logistic Regression', \"XGB Classifier\", \"Random Forest\"]\n",
    "classifiers = [\n",
    "    LogisticRegression(solver='liblinear', penalty='l2', n_jobs=-1, random_state=0),\n",
    "    XGBClassifier(objective='binary:hinge'),\n",
    "    RandomForestClassifier(max_depth=5, n_estimators=100)]\n",
    "\n",
    "modelscores = []\n",
    "for name, clf in zip(names, classifiers):\n",
    "    clf.fit(X_train, y_train)           #Training the model on Training Set\n",
    "    score = clf.score(X_test, y_test)   #Scoring On Validation Set\n",
    "    modelscores.append(score)\n",
    "    \n",
    "scores_df = pd.DataFrame()\n",
    "scores_df['name'] = names\n",
    "scores_df['score'] = np.around(modelscores,4)\n",
    "scores_df.sort_values('score', ascending= False)"
   ]
  },
  {
   "cell_type": "markdown",
   "id": "23bce780",
   "metadata": {
    "papermill": {
     "duration": 0.014539,
     "end_time": "2022-10-04T15:02:59.018445",
     "exception": false,
     "start_time": "2022-10-04T15:02:59.003906",
     "status": "completed"
    },
    "tags": []
   },
   "source": [
    "Above are the VALIDATION data scores."
   ]
  },
  {
   "cell_type": "code",
   "execution_count": 29,
   "id": "fe38bb6b",
   "metadata": {
    "execution": {
     "iopub.execute_input": "2022-10-04T15:02:59.049191Z",
     "iopub.status.busy": "2022-10-04T15:02:59.048862Z",
     "iopub.status.idle": "2022-10-04T15:02:59.299637Z",
     "shell.execute_reply": "2022-10-04T15:02:59.298736Z"
    },
    "papermill": {
     "duration": 0.268466,
     "end_time": "2022-10-04T15:02:59.301612",
     "exception": false,
     "start_time": "2022-10-04T15:02:59.033146",
     "status": "completed"
    },
    "tags": []
   },
   "outputs": [
    {
     "data": {
      "text/plain": [
       "RandomForestClassifier(max_depth=5, n_jobs=-1, random_state=0)"
      ]
     },
     "execution_count": 29,
     "metadata": {},
     "output_type": "execute_result"
    }
   ],
   "source": [
    "model=RandomForestClassifier(max_depth=5, n_estimators=100, n_jobs=-1, random_state=0)\n",
    "model.fit(X_train, y_train)"
   ]
  },
  {
   "cell_type": "code",
   "execution_count": 30,
   "id": "7452ac73",
   "metadata": {
    "execution": {
     "iopub.execute_input": "2022-10-04T15:02:59.334198Z",
     "iopub.status.busy": "2022-10-04T15:02:59.333273Z",
     "iopub.status.idle": "2022-10-04T15:02:59.440010Z",
     "shell.execute_reply": "2022-10-04T15:02:59.439033Z"
    },
    "papermill": {
     "duration": 0.125335,
     "end_time": "2022-10-04T15:02:59.442382",
     "exception": false,
     "start_time": "2022-10-04T15:02:59.317047",
     "status": "completed"
    },
    "tags": []
   },
   "outputs": [],
   "source": [
    "preds = model.predict(X_test)"
   ]
  },
  {
   "cell_type": "markdown",
   "id": "18012897",
   "metadata": {
    "papermill": {
     "duration": 0.014737,
     "end_time": "2022-10-04T15:02:59.472576",
     "exception": false,
     "start_time": "2022-10-04T15:02:59.457839",
     "status": "completed"
    },
    "tags": []
   },
   "source": [
    "## Misclassified Plot"
   ]
  },
  {
   "cell_type": "code",
   "execution_count": 31,
   "id": "5c6a8319",
   "metadata": {
    "execution": {
     "iopub.execute_input": "2022-10-04T15:02:59.504300Z",
     "iopub.status.busy": "2022-10-04T15:02:59.503406Z",
     "iopub.status.idle": "2022-10-04T15:03:00.362592Z",
     "shell.execute_reply": "2022-10-04T15:03:00.361686Z"
    },
    "papermill": {
     "duration": 0.877177,
     "end_time": "2022-10-04T15:03:00.364648",
     "exception": false,
     "start_time": "2022-10-04T15:02:59.487471",
     "status": "completed"
    },
    "tags": []
   },
   "outputs": [
    {
     "data": {
      "text/html": [
       "        <script type=\"text/javascript\">\n",
       "        window.PlotlyConfig = {MathJaxConfig: 'local'};\n",
       "        if (window.MathJax && window.MathJax.Hub && window.MathJax.Hub.Config) {window.MathJax.Hub.Config({SVG: {font: \"STIX-Web\"}});}\n",
       "        if (typeof require !== 'undefined') {\n",
       "        require.undef(\"plotly\");\n",
       "        requirejs.config({\n",
       "            paths: {\n",
       "                'plotly': ['https://cdn.plot.ly/plotly-2.14.0.min']\n",
       "            }\n",
       "        });\n",
       "        require(['plotly'], function(Plotly) {\n",
       "            window._Plotly = Plotly;\n",
       "        });\n",
       "        }\n",
       "        </script>\n",
       "        "
      ]
     },
     "metadata": {},
     "output_type": "display_data"
    },
    {
     "data": {
      "text/html": [
       "<div>                            <div id=\"71ae5bd3-342f-4840-9f72-9339319d82a5\" class=\"plotly-graph-div\" style=\"height:525px; width:100%;\"></div>            <script type=\"text/javascript\">                require([\"plotly\"], function(Plotly) {                    window.PLOTLYENV=window.PLOTLYENV || {};                                    if (document.getElementById(\"71ae5bd3-342f-4840-9f72-9339319d82a5\")) {                    Plotly.newPlot(                        \"71ae5bd3-342f-4840-9f72-9339319d82a5\",                        [{\"alignmentgroup\":\"True\",\"bingroup\":\"x\",\"hovertemplate\":\"Label=0<br>x=%{x}<br>count=%{y}<extra></extra>\",\"legendgroup\":\"0\",\"marker\":{\"color\":\"#1F77B4\",\"pattern\":{\"shape\":\"\"}},\"name\":\"0\",\"offsetgroup\":\"0\",\"orientation\":\"v\",\"showlegend\":true,\"texttemplate\":\"%{value}\",\"x\":[0,0,0,0,0,0],\"xaxis\":\"x\",\"yaxis\":\"y\",\"type\":\"histogram\"}],                        {\"template\":{\"data\":{\"barpolar\":[{\"marker\":{\"line\":{\"color\":\"white\",\"width\":0.5},\"pattern\":{\"fillmode\":\"overlay\",\"size\":10,\"solidity\":0.2}},\"type\":\"barpolar\"}],\"bar\":[{\"error_x\":{\"color\":\"rgb(36,36,36)\"},\"error_y\":{\"color\":\"rgb(36,36,36)\"},\"marker\":{\"line\":{\"color\":\"white\",\"width\":0.5},\"pattern\":{\"fillmode\":\"overlay\",\"size\":10,\"solidity\":0.2}},\"type\":\"bar\"}],\"carpet\":[{\"aaxis\":{\"endlinecolor\":\"rgb(36,36,36)\",\"gridcolor\":\"white\",\"linecolor\":\"white\",\"minorgridcolor\":\"white\",\"startlinecolor\":\"rgb(36,36,36)\"},\"baxis\":{\"endlinecolor\":\"rgb(36,36,36)\",\"gridcolor\":\"white\",\"linecolor\":\"white\",\"minorgridcolor\":\"white\",\"startlinecolor\":\"rgb(36,36,36)\"},\"type\":\"carpet\"}],\"choropleth\":[{\"colorbar\":{\"outlinewidth\":1,\"tickcolor\":\"rgb(36,36,36)\",\"ticks\":\"outside\"},\"type\":\"choropleth\"}],\"contourcarpet\":[{\"colorbar\":{\"outlinewidth\":1,\"tickcolor\":\"rgb(36,36,36)\",\"ticks\":\"outside\"},\"type\":\"contourcarpet\"}],\"contour\":[{\"colorbar\":{\"outlinewidth\":1,\"tickcolor\":\"rgb(36,36,36)\",\"ticks\":\"outside\"},\"colorscale\":[[0.0,\"#440154\"],[0.1111111111111111,\"#482878\"],[0.2222222222222222,\"#3e4989\"],[0.3333333333333333,\"#31688e\"],[0.4444444444444444,\"#26828e\"],[0.5555555555555556,\"#1f9e89\"],[0.6666666666666666,\"#35b779\"],[0.7777777777777778,\"#6ece58\"],[0.8888888888888888,\"#b5de2b\"],[1.0,\"#fde725\"]],\"type\":\"contour\"}],\"heatmapgl\":[{\"colorbar\":{\"outlinewidth\":1,\"tickcolor\":\"rgb(36,36,36)\",\"ticks\":\"outside\"},\"colorscale\":[[0.0,\"#440154\"],[0.1111111111111111,\"#482878\"],[0.2222222222222222,\"#3e4989\"],[0.3333333333333333,\"#31688e\"],[0.4444444444444444,\"#26828e\"],[0.5555555555555556,\"#1f9e89\"],[0.6666666666666666,\"#35b779\"],[0.7777777777777778,\"#6ece58\"],[0.8888888888888888,\"#b5de2b\"],[1.0,\"#fde725\"]],\"type\":\"heatmapgl\"}],\"heatmap\":[{\"colorbar\":{\"outlinewidth\":1,\"tickcolor\":\"rgb(36,36,36)\",\"ticks\":\"outside\"},\"colorscale\":[[0.0,\"#440154\"],[0.1111111111111111,\"#482878\"],[0.2222222222222222,\"#3e4989\"],[0.3333333333333333,\"#31688e\"],[0.4444444444444444,\"#26828e\"],[0.5555555555555556,\"#1f9e89\"],[0.6666666666666666,\"#35b779\"],[0.7777777777777778,\"#6ece58\"],[0.8888888888888888,\"#b5de2b\"],[1.0,\"#fde725\"]],\"type\":\"heatmap\"}],\"histogram2dcontour\":[{\"colorbar\":{\"outlinewidth\":1,\"tickcolor\":\"rgb(36,36,36)\",\"ticks\":\"outside\"},\"colorscale\":[[0.0,\"#440154\"],[0.1111111111111111,\"#482878\"],[0.2222222222222222,\"#3e4989\"],[0.3333333333333333,\"#31688e\"],[0.4444444444444444,\"#26828e\"],[0.5555555555555556,\"#1f9e89\"],[0.6666666666666666,\"#35b779\"],[0.7777777777777778,\"#6ece58\"],[0.8888888888888888,\"#b5de2b\"],[1.0,\"#fde725\"]],\"type\":\"histogram2dcontour\"}],\"histogram2d\":[{\"colorbar\":{\"outlinewidth\":1,\"tickcolor\":\"rgb(36,36,36)\",\"ticks\":\"outside\"},\"colorscale\":[[0.0,\"#440154\"],[0.1111111111111111,\"#482878\"],[0.2222222222222222,\"#3e4989\"],[0.3333333333333333,\"#31688e\"],[0.4444444444444444,\"#26828e\"],[0.5555555555555556,\"#1f9e89\"],[0.6666666666666666,\"#35b779\"],[0.7777777777777778,\"#6ece58\"],[0.8888888888888888,\"#b5de2b\"],[1.0,\"#fde725\"]],\"type\":\"histogram2d\"}],\"histogram\":[{\"marker\":{\"line\":{\"color\":\"white\",\"width\":0.6}},\"type\":\"histogram\"}],\"mesh3d\":[{\"colorbar\":{\"outlinewidth\":1,\"tickcolor\":\"rgb(36,36,36)\",\"ticks\":\"outside\"},\"type\":\"mesh3d\"}],\"parcoords\":[{\"line\":{\"colorbar\":{\"outlinewidth\":1,\"tickcolor\":\"rgb(36,36,36)\",\"ticks\":\"outside\"}},\"type\":\"parcoords\"}],\"pie\":[{\"automargin\":true,\"type\":\"pie\"}],\"scatter3d\":[{\"line\":{\"colorbar\":{\"outlinewidth\":1,\"tickcolor\":\"rgb(36,36,36)\",\"ticks\":\"outside\"}},\"marker\":{\"colorbar\":{\"outlinewidth\":1,\"tickcolor\":\"rgb(36,36,36)\",\"ticks\":\"outside\"}},\"type\":\"scatter3d\"}],\"scattercarpet\":[{\"marker\":{\"colorbar\":{\"outlinewidth\":1,\"tickcolor\":\"rgb(36,36,36)\",\"ticks\":\"outside\"}},\"type\":\"scattercarpet\"}],\"scattergeo\":[{\"marker\":{\"colorbar\":{\"outlinewidth\":1,\"tickcolor\":\"rgb(36,36,36)\",\"ticks\":\"outside\"}},\"type\":\"scattergeo\"}],\"scattergl\":[{\"marker\":{\"colorbar\":{\"outlinewidth\":1,\"tickcolor\":\"rgb(36,36,36)\",\"ticks\":\"outside\"}},\"type\":\"scattergl\"}],\"scattermapbox\":[{\"marker\":{\"colorbar\":{\"outlinewidth\":1,\"tickcolor\":\"rgb(36,36,36)\",\"ticks\":\"outside\"}},\"type\":\"scattermapbox\"}],\"scatterpolargl\":[{\"marker\":{\"colorbar\":{\"outlinewidth\":1,\"tickcolor\":\"rgb(36,36,36)\",\"ticks\":\"outside\"}},\"type\":\"scatterpolargl\"}],\"scatterpolar\":[{\"marker\":{\"colorbar\":{\"outlinewidth\":1,\"tickcolor\":\"rgb(36,36,36)\",\"ticks\":\"outside\"}},\"type\":\"scatterpolar\"}],\"scatter\":[{\"fillpattern\":{\"fillmode\":\"overlay\",\"size\":10,\"solidity\":0.2},\"type\":\"scatter\"}],\"scatterternary\":[{\"marker\":{\"colorbar\":{\"outlinewidth\":1,\"tickcolor\":\"rgb(36,36,36)\",\"ticks\":\"outside\"}},\"type\":\"scatterternary\"}],\"surface\":[{\"colorbar\":{\"outlinewidth\":1,\"tickcolor\":\"rgb(36,36,36)\",\"ticks\":\"outside\"},\"colorscale\":[[0.0,\"#440154\"],[0.1111111111111111,\"#482878\"],[0.2222222222222222,\"#3e4989\"],[0.3333333333333333,\"#31688e\"],[0.4444444444444444,\"#26828e\"],[0.5555555555555556,\"#1f9e89\"],[0.6666666666666666,\"#35b779\"],[0.7777777777777778,\"#6ece58\"],[0.8888888888888888,\"#b5de2b\"],[1.0,\"#fde725\"]],\"type\":\"surface\"}],\"table\":[{\"cells\":{\"fill\":{\"color\":\"rgb(237,237,237)\"},\"line\":{\"color\":\"white\"}},\"header\":{\"fill\":{\"color\":\"rgb(217,217,217)\"},\"line\":{\"color\":\"white\"}},\"type\":\"table\"}]},\"layout\":{\"annotationdefaults\":{\"arrowhead\":0,\"arrowwidth\":1},\"autotypenumbers\":\"strict\",\"coloraxis\":{\"colorbar\":{\"outlinewidth\":1,\"tickcolor\":\"rgb(36,36,36)\",\"ticks\":\"outside\"}},\"colorscale\":{\"diverging\":[[0.0,\"rgb(103,0,31)\"],[0.1,\"rgb(178,24,43)\"],[0.2,\"rgb(214,96,77)\"],[0.3,\"rgb(244,165,130)\"],[0.4,\"rgb(253,219,199)\"],[0.5,\"rgb(247,247,247)\"],[0.6,\"rgb(209,229,240)\"],[0.7,\"rgb(146,197,222)\"],[0.8,\"rgb(67,147,195)\"],[0.9,\"rgb(33,102,172)\"],[1.0,\"rgb(5,48,97)\"]],\"sequential\":[[0.0,\"#440154\"],[0.1111111111111111,\"#482878\"],[0.2222222222222222,\"#3e4989\"],[0.3333333333333333,\"#31688e\"],[0.4444444444444444,\"#26828e\"],[0.5555555555555556,\"#1f9e89\"],[0.6666666666666666,\"#35b779\"],[0.7777777777777778,\"#6ece58\"],[0.8888888888888888,\"#b5de2b\"],[1.0,\"#fde725\"]],\"sequentialminus\":[[0.0,\"#440154\"],[0.1111111111111111,\"#482878\"],[0.2222222222222222,\"#3e4989\"],[0.3333333333333333,\"#31688e\"],[0.4444444444444444,\"#26828e\"],[0.5555555555555556,\"#1f9e89\"],[0.6666666666666666,\"#35b779\"],[0.7777777777777778,\"#6ece58\"],[0.8888888888888888,\"#b5de2b\"],[1.0,\"#fde725\"]]},\"colorway\":[\"#1F77B4\",\"#FF7F0E\",\"#2CA02C\",\"#D62728\",\"#9467BD\",\"#8C564B\",\"#E377C2\",\"#7F7F7F\",\"#BCBD22\",\"#17BECF\"],\"font\":{\"color\":\"rgb(36,36,36)\"},\"geo\":{\"bgcolor\":\"white\",\"lakecolor\":\"white\",\"landcolor\":\"white\",\"showlakes\":true,\"showland\":true,\"subunitcolor\":\"white\"},\"hoverlabel\":{\"align\":\"left\"},\"hovermode\":\"closest\",\"mapbox\":{\"style\":\"light\"},\"paper_bgcolor\":\"white\",\"plot_bgcolor\":\"white\",\"polar\":{\"angularaxis\":{\"gridcolor\":\"rgb(232,232,232)\",\"linecolor\":\"rgb(36,36,36)\",\"showgrid\":false,\"showline\":true,\"ticks\":\"outside\"},\"bgcolor\":\"white\",\"radialaxis\":{\"gridcolor\":\"rgb(232,232,232)\",\"linecolor\":\"rgb(36,36,36)\",\"showgrid\":false,\"showline\":true,\"ticks\":\"outside\"}},\"scene\":{\"xaxis\":{\"backgroundcolor\":\"white\",\"gridcolor\":\"rgb(232,232,232)\",\"gridwidth\":2,\"linecolor\":\"rgb(36,36,36)\",\"showbackground\":true,\"showgrid\":false,\"showline\":true,\"ticks\":\"outside\",\"zeroline\":false,\"zerolinecolor\":\"rgb(36,36,36)\"},\"yaxis\":{\"backgroundcolor\":\"white\",\"gridcolor\":\"rgb(232,232,232)\",\"gridwidth\":2,\"linecolor\":\"rgb(36,36,36)\",\"showbackground\":true,\"showgrid\":false,\"showline\":true,\"ticks\":\"outside\",\"zeroline\":false,\"zerolinecolor\":\"rgb(36,36,36)\"},\"zaxis\":{\"backgroundcolor\":\"white\",\"gridcolor\":\"rgb(232,232,232)\",\"gridwidth\":2,\"linecolor\":\"rgb(36,36,36)\",\"showbackground\":true,\"showgrid\":false,\"showline\":true,\"ticks\":\"outside\",\"zeroline\":false,\"zerolinecolor\":\"rgb(36,36,36)\"}},\"shapedefaults\":{\"fillcolor\":\"black\",\"line\":{\"width\":0},\"opacity\":0.3},\"ternary\":{\"aaxis\":{\"gridcolor\":\"rgb(232,232,232)\",\"linecolor\":\"rgb(36,36,36)\",\"showgrid\":false,\"showline\":true,\"ticks\":\"outside\"},\"baxis\":{\"gridcolor\":\"rgb(232,232,232)\",\"linecolor\":\"rgb(36,36,36)\",\"showgrid\":false,\"showline\":true,\"ticks\":\"outside\"},\"bgcolor\":\"white\",\"caxis\":{\"gridcolor\":\"rgb(232,232,232)\",\"linecolor\":\"rgb(36,36,36)\",\"showgrid\":false,\"showline\":true,\"ticks\":\"outside\"}},\"title\":{\"x\":0.05},\"xaxis\":{\"automargin\":true,\"gridcolor\":\"rgb(232,232,232)\",\"linecolor\":\"rgb(36,36,36)\",\"showgrid\":false,\"showline\":true,\"ticks\":\"outside\",\"title\":{\"standoff\":15},\"zeroline\":false,\"zerolinecolor\":\"rgb(36,36,36)\"},\"yaxis\":{\"automargin\":true,\"gridcolor\":\"rgb(232,232,232)\",\"linecolor\":\"rgb(36,36,36)\",\"showgrid\":false,\"showline\":true,\"ticks\":\"outside\",\"title\":{\"standoff\":15},\"zeroline\":false,\"zerolinecolor\":\"rgb(36,36,36)\"}}},\"xaxis\":{\"anchor\":\"y\",\"domain\":[0.0,1.0],\"title\":{\"text\":\"Misclassified Labels\"},\"ticklabelstep\":1,\"type\":\"category\",\"categoryorder\":\"total descending\"},\"yaxis\":{\"anchor\":\"x\",\"domain\":[0.0,1.0],\"title\":{\"text\":\"Count\"}},\"legend\":{\"title\":{\"text\":\"Label\"},\"tracegroupgap\":0},\"title\":{\"text\":\"Misclassified Labels Plot\"},\"barmode\":\"relative\",\"bargap\":0.2},                        {\"responsive\": true}                    ).then(function(){\n",
       "                            \n",
       "var gd = document.getElementById('71ae5bd3-342f-4840-9f72-9339319d82a5');\n",
       "var x = new MutationObserver(function (mutations, observer) {{\n",
       "        var display = window.getComputedStyle(gd).display;\n",
       "        if (!display || display === 'none') {{\n",
       "            console.log([gd, 'removed!']);\n",
       "            Plotly.purge(gd);\n",
       "            observer.disconnect();\n",
       "        }}\n",
       "}});\n",
       "\n",
       "// Listen for the removal of the full notebook cells\n",
       "var notebookContainer = gd.closest('#notebook-container');\n",
       "if (notebookContainer) {{\n",
       "    x.observe(notebookContainer, {childList: true});\n",
       "}}\n",
       "\n",
       "// Listen for the clearing of the current output cell\n",
       "var outputEl = gd.closest('.output');\n",
       "if (outputEl) {{\n",
       "    x.observe(outputEl, {childList: true});\n",
       "}}\n",
       "\n",
       "                        })                };                });            </script>        </div>"
      ]
     },
     "metadata": {},
     "output_type": "display_data"
    }
   ],
   "source": [
    "fig = px.histogram(x=y_test[y_test != preds],\n",
    "                   template='simple_white', \n",
    "                   text_auto=True,\n",
    "                   color = y_test[y_test != preds],\n",
    "                   labels={\"color\":\"Label\"},\n",
    "                   title='Misclassified Labels Plot')\n",
    "\n",
    "fig.update_layout(xaxis_title=\"Misclassified Labels\",yaxis_title=\"Count\", bargap=0.2)\n",
    "\n",
    "fig.update_xaxes(ticklabelstep=1, type=\"category\", categoryorder=\"total descending\")\n",
    "\n",
    "fig.show()"
   ]
  },
  {
   "cell_type": "markdown",
   "id": "73f07d0c",
   "metadata": {
    "papermill": {
     "duration": 0.0171,
     "end_time": "2022-10-04T15:03:00.397533",
     "exception": false,
     "start_time": "2022-10-04T15:03:00.380433",
     "status": "completed"
    },
    "tags": []
   },
   "source": [
    "## Misclassification Error Rate"
   ]
  },
  {
   "cell_type": "code",
   "execution_count": 32,
   "id": "35c1225d",
   "metadata": {
    "execution": {
     "iopub.execute_input": "2022-10-04T15:03:00.430785Z",
     "iopub.status.busy": "2022-10-04T15:03:00.430463Z",
     "iopub.status.idle": "2022-10-04T15:03:00.436621Z",
     "shell.execute_reply": "2022-10-04T15:03:00.435587Z"
    },
    "papermill": {
     "duration": 0.025595,
     "end_time": "2022-10-04T15:03:00.440165",
     "exception": false,
     "start_time": "2022-10-04T15:03:00.414570",
     "status": "completed"
    },
    "tags": []
   },
   "outputs": [
    {
     "name": "stdout",
     "output_type": "stream",
     "text": [
      "6 cases out of 579 cases are being misclassified by Random Forest model which gives us an error rate of 1.036\n"
     ]
    }
   ],
   "source": [
    "print(len(y_test[y_test != preds]),'cases out of', len(y_test), \n",
    "      'cases are being misclassified by Random Forest model which gives us an error rate of', \n",
    "      np.around((len(y_test[y_test != preds])/len(y_test)*100),3))"
   ]
  },
  {
   "cell_type": "markdown",
   "id": "e157dfe5",
   "metadata": {
    "papermill": {
     "duration": 0.014762,
     "end_time": "2022-10-04T15:03:00.470886",
     "exception": false,
     "start_time": "2022-10-04T15:03:00.456124",
     "status": "completed"
    },
    "tags": []
   },
   "source": [
    "## QUESTIONS"
   ]
  },
  {
   "cell_type": "markdown",
   "id": "db277b3e",
   "metadata": {
    "papermill": {
     "duration": 0.014774,
     "end_time": "2022-10-04T15:03:00.500487",
     "exception": false,
     "start_time": "2022-10-04T15:03:00.485713",
     "status": "completed"
    },
    "tags": []
   },
   "source": [
    "**1. Data cleaning including missing values, outliers and multi-collinearity.**\n",
    "\n",
    "* We changed the datatype so the processing is quicker.\n",
    "* Dropped two columns namely `nameOrig`, `nameDest` which were not helpful since they probably are unique identifiers. We also made a check to see if the fraud has been done basis the transfer has been done to the same customer or not which was not the case hence these were dropped.\n",
    "* There were no missing values or outliers in the data checked using `isnull` function and the plotting histogram of `amount` column.\n",
    "\n"
   ]
  },
  {
   "cell_type": "markdown",
   "id": "cd94fda3",
   "metadata": {
    "papermill": {
     "duration": 0.014867,
     "end_time": "2022-10-04T15:03:00.530274",
     "exception": false,
     "start_time": "2022-10-04T15:03:00.515407",
     "status": "completed"
    },
    "tags": []
   },
   "source": [
    "**2. Describe your fraud detection model in elaboration.**\n",
    "\n",
    "The model is based on Random Forest Algorithm. To stop the ovefitting, we have set the max_depth to 5 and have considered the model based on the Validation Score which was 99.14%. Since the classes were imbalanced and Random Forests have a tendency to overfit (they also perform the best in any machine learning case because averaging happens before the classification is done), a `RandomUnderSampler` has been used to undersample the majority class which helps us be more accurate. As per the score, we chose the model and to cross verify the score, we also tried to understand how many misclassifications are being done out of the total cases and as calculated above, around 1% of misclassification is being done by the model which is superb."
   ]
  },
  {
   "cell_type": "markdown",
   "id": "6aaa47b6",
   "metadata": {
    "papermill": {
     "duration": 0.015068,
     "end_time": "2022-10-04T15:03:00.560477",
     "exception": false,
     "start_time": "2022-10-04T15:03:00.545409",
     "status": "completed"
    },
    "tags": []
   },
   "source": [
    "**3. How did you select variables to be included in the model?**\n",
    "\n",
    "Picking a variable for the training can be tricky sometimes however I choose the correlation method where in the fetures that had high positive correlation with the target variable were taken which came out to be `'amount', 'oldbalanceOrg', 'type_TRANSFER', 'type_CASH_OUT'` and these features had given us 99.14% validation accuracy as well. One can also go for PCA for Dimensionality reduction however the explainabitlity of the model reduces in such a case."
   ]
  },
  {
   "cell_type": "markdown",
   "id": "8e72270f",
   "metadata": {
    "papermill": {
     "duration": 0.014916,
     "end_time": "2022-10-04T15:03:00.590455",
     "exception": false,
     "start_time": "2022-10-04T15:03:00.575539",
     "status": "completed"
    },
    "tags": []
   },
   "source": [
    "**4. Demonstrate the performance of the model by using best set of tools.**\n",
    "\n",
    "We setup the list of parameters first that we would like to try several values of and then pass those list into a dictionary and then by calling the fit method we allow the search feature to look for the best values that we would like and by using the `best.params_`, we can access what those best values are. \n",
    "\n",
    "Code Implementation below:-"
   ]
  },
  {
   "cell_type": "code",
   "execution_count": 33,
   "id": "47879f3f",
   "metadata": {
    "execution": {
     "iopub.execute_input": "2022-10-04T15:03:00.622194Z",
     "iopub.status.busy": "2022-10-04T15:03:00.621833Z",
     "iopub.status.idle": "2022-10-04T15:03:00.627397Z",
     "shell.execute_reply": "2022-10-04T15:03:00.626313Z"
    },
    "papermill": {
     "duration": 0.023971,
     "end_time": "2022-10-04T15:03:00.629428",
     "exception": false,
     "start_time": "2022-10-04T15:03:00.605457",
     "status": "completed"
    },
    "tags": []
   },
   "outputs": [],
   "source": [
    "clf = RandomForestClassifier(random_state = 0)\n",
    "max_depth_range = [5,10,15]\n",
    "criterion_range=['gini', 'entropy']\n",
    "max_leaf_nodes_range=[20,30,50,100]\n",
    "param_distributions = {'max_depth': max_depth_range,'criterion': criterion_range,'max_leaf_nodes': max_leaf_nodes_range}"
   ]
  },
  {
   "cell_type": "code",
   "execution_count": 34,
   "id": "e339888c",
   "metadata": {
    "execution": {
     "iopub.execute_input": "2022-10-04T15:03:00.661428Z",
     "iopub.status.busy": "2022-10-04T15:03:00.660600Z",
     "iopub.status.idle": "2022-10-04T15:03:00.665756Z",
     "shell.execute_reply": "2022-10-04T15:03:00.664903Z"
    },
    "papermill": {
     "duration": 0.023149,
     "end_time": "2022-10-04T15:03:00.667704",
     "exception": false,
     "start_time": "2022-10-04T15:03:00.644555",
     "status": "completed"
    },
    "tags": []
   },
   "outputs": [],
   "source": [
    "RandomizedSearch = RandomizedSearchCV(estimator = clf, param_distributions= param_distributions, cv = 3, n_jobs = 1, \n",
    "                                      random_state=0, return_train_score=True)"
   ]
  },
  {
   "cell_type": "code",
   "execution_count": 35,
   "id": "2e7e560a",
   "metadata": {
    "execution": {
     "iopub.execute_input": "2022-10-04T15:03:00.699516Z",
     "iopub.status.busy": "2022-10-04T15:03:00.698850Z",
     "iopub.status.idle": "2022-10-04T15:03:06.634344Z",
     "shell.execute_reply": "2022-10-04T15:03:06.632674Z"
    },
    "papermill": {
     "duration": 5.954646,
     "end_time": "2022-10-04T15:03:06.637352",
     "exception": false,
     "start_time": "2022-10-04T15:03:00.682706",
     "status": "completed"
    },
    "tags": []
   },
   "outputs": [
    {
     "name": "stdout",
     "output_type": "stream",
     "text": [
      "These are the best parameters {'max_leaf_nodes': 100, 'max_depth': 15, 'criterion': 'gini'}\n"
     ]
    }
   ],
   "source": [
    "history = RandomizedSearch.fit(X_scaled, y_res)\n",
    "print('These are the best parameters', (history.best_params_))"
   ]
  },
  {
   "cell_type": "code",
   "execution_count": 36,
   "id": "8110d226",
   "metadata": {
    "execution": {
     "iopub.execute_input": "2022-10-04T15:03:06.670476Z",
     "iopub.status.busy": "2022-10-04T15:03:06.670130Z",
     "iopub.status.idle": "2022-10-04T15:03:06.915747Z",
     "shell.execute_reply": "2022-10-04T15:03:06.914737Z"
    },
    "papermill": {
     "duration": 0.264632,
     "end_time": "2022-10-04T15:03:06.918049",
     "exception": false,
     "start_time": "2022-10-04T15:03:06.653417",
     "status": "completed"
    },
    "tags": []
   },
   "outputs": [
    {
     "data": {
      "text/plain": [
       "RandomForestClassifier(max_depth=15, max_leaf_nodes=100, n_jobs=-1,\n",
       "                       random_state=0)"
      ]
     },
     "execution_count": 36,
     "metadata": {},
     "output_type": "execute_result"
    }
   ],
   "source": [
    "model=RandomForestClassifier(max_depth=15, max_leaf_nodes=100, criterion='gini', n_jobs=-1, random_state=0)\n",
    "model.fit(X_train, y_train)"
   ]
  },
  {
   "cell_type": "code",
   "execution_count": 37,
   "id": "cc6f2387",
   "metadata": {
    "execution": {
     "iopub.execute_input": "2022-10-04T15:03:06.951306Z",
     "iopub.status.busy": "2022-10-04T15:03:06.950438Z",
     "iopub.status.idle": "2022-10-04T15:03:07.059015Z",
     "shell.execute_reply": "2022-10-04T15:03:07.057663Z"
    },
    "papermill": {
     "duration": 0.12747,
     "end_time": "2022-10-04T15:03:07.061146",
     "exception": false,
     "start_time": "2022-10-04T15:03:06.933676",
     "status": "completed"
    },
    "tags": []
   },
   "outputs": [
    {
     "name": "stdout",
     "output_type": "stream",
     "text": [
      "The score after hyperparameter tuning of Random Forest Model is 0.9948\n"
     ]
    }
   ],
   "source": [
    "print(f'The score after hyperparameter tuning of Random Forest Model is {round(model.score(X_test, y_test),4)}')"
   ]
  },
  {
   "cell_type": "markdown",
   "id": "8ad82847",
   "metadata": {
    "papermill": {
     "duration": 0.015272,
     "end_time": "2022-10-04T15:03:07.091605",
     "exception": false,
     "start_time": "2022-10-04T15:03:07.076333",
     "status": "completed"
    },
    "tags": []
   },
   "source": [
    "**5. What are the key factors that predict fraudulent customer?**\n",
    "\n",
    "As depicted by finding out the correlation, we can say `'amount', 'oldbalanceOrg', 'type_TRANSFER', 'type_CASH_OUT'` are the factors that can predict a fraudulent customer. \n",
    "\n",
    "For Example:- If the `amount` is equal to greater than the threshold value set then it will be a fraudulent customer. Similarly, if the customer is transferring or cashing out the balance (as in emptying the funds by transferring to another account) that's a clear sign of a fraudulent customer and for these transactions, these columns will have value as 1 which means transfer or cashout was done."
   ]
  },
  {
   "cell_type": "markdown",
   "id": "9c9f6f2a",
   "metadata": {
    "papermill": {
     "duration": 0.015051,
     "end_time": "2022-10-04T15:03:07.122046",
     "exception": false,
     "start_time": "2022-10-04T15:03:07.106995",
     "status": "completed"
    },
    "tags": []
   },
   "source": [
    "**6. Do these factors make sense? If yes, How? If not, How not?**\n",
    "\n",
    "Yes, these factors do make sense in a way that if the amount is greater than a certain threshold, it potentially means someone is trying to fraud the system. \n",
    "\n",
    "In fintech what happens is credit card facility (where the rate card charges are low for the merchant) is being given to the merchants to be able to receive the payments however at the backend there is a Fraud and Risk Assessment Team that tracks their patterns. For Example: if the turnover of a given merchant is say 10000 Rs on an average for a day but during midnight there are transactions of say 50000 Rs in one shot (not just one instance but there are several instances to the point it becomes a trend), its possibly a fraudulent transaction and the merchant is trying to con the fintech service provider.\n",
    "\n",
    "Similarly, in our case, if the cashout or transfer amount is continously high and the old balance is showing a downward trend everyday then its probably a fraud customer."
   ]
  },
  {
   "cell_type": "markdown",
   "id": "4ab2b64e",
   "metadata": {
    "papermill": {
     "duration": 0.015056,
     "end_time": "2022-10-04T15:03:07.152293",
     "exception": false,
     "start_time": "2022-10-04T15:03:07.137237",
     "status": "completed"
    },
    "tags": []
   },
   "source": [
    "**7. What kind of prevention should be adopted while company update its infrastructure?**\n",
    "\n",
    "a. Prevention measures that I could possibly think of are setting up some sort of limit. If the customer transaction limit is crossing say X amount, he should not be allowed to transact further anymore in the day. \n",
    "\n",
    "b. What also could be done is to setup some sort of check to ensure he is not creating several accounts on the platform to con the system and this can be done based on the contact, email-ID and name. This can potentially be done using the string matching technique. \n",
    "\n",
    "c. Limits on daily cashout and transfer amount should be setup in order to ensure fraud prevention. "
   ]
  },
  {
   "cell_type": "markdown",
   "id": "1dad95e5",
   "metadata": {
    "papermill": {
     "duration": 0.014982,
     "end_time": "2022-10-04T15:03:07.182585",
     "exception": false,
     "start_time": "2022-10-04T15:03:07.167603",
     "status": "completed"
    },
    "tags": []
   },
   "source": [
    "**8. Assuming these actions have been implemented, how would you determine if they work?**\n",
    "\n",
    "Daily or Weekly checks by pulling out the data from the database and identifying how many customers were able to work their way around these checks. Also, maybe understanding how we can make these logics more robust and maybe add a new logic, if required."
   ]
  }
 ],
 "metadata": {
  "kernelspec": {
   "display_name": "Python 3",
   "language": "python",
   "name": "python3"
  },
  "language_info": {
   "codemirror_mode": {
    "name": "ipython",
    "version": 3
   },
   "file_extension": ".py",
   "mimetype": "text/x-python",
   "name": "python",
   "nbconvert_exporter": "python",
   "pygments_lexer": "ipython3",
   "version": "3.7.12"
  },
  "papermill": {
   "default_parameters": {},
   "duration": 108.414702,
   "end_time": "2022-10-04T15:03:09.400665",
   "environment_variables": {},
   "exception": null,
   "input_path": "__notebook__.ipynb",
   "output_path": "__notebook__.ipynb",
   "parameters": {},
   "start_time": "2022-10-04T15:01:20.985963",
   "version": "2.3.4"
  }
 },
 "nbformat": 4,
 "nbformat_minor": 5
}
