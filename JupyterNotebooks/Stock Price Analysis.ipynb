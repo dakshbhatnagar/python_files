{
 "cells": [
  {
   "cell_type": "markdown",
   "id": "2d07ffb2",
   "metadata": {},
   "source": [
    "# Personal Data Analysis"
   ]
  },
  {
   "cell_type": "code",
   "execution_count": 1,
   "id": "36896540",
   "metadata": {},
   "outputs": [],
   "source": [
    "#Importing the important libraries \n",
    "\n",
    "import pandas as pd\n",
    "import matplotlib.pyplot as plt\n",
    "import seaborn as sns\n",
    "%matplotlib inline\n",
    "plt.rcParams['font.size'] = 12\n",
    "plt.rcParams['figure.figsize'] = (22,5)\n",
    "plt.rcParams['figure.dpi'] = 100"
   ]
  },
  {
   "cell_type": "code",
   "execution_count": 2,
   "id": "73a96b6c",
   "metadata": {},
   "outputs": [],
   "source": [
    "import numpy as np"
   ]
  },
  {
   "cell_type": "code",
   "execution_count": 3,
   "id": "8a08fc3d",
   "metadata": {},
   "outputs": [],
   "source": [
    "data = {\n",
    "'Date': pd.date_range(start='2023-01-01', periods=180, freq='D'),\n",
    "\n",
    "'CompanyX_StockPrice': np.random.randint(50, 150, 180),\n",
    "\n",
    "'CompanyY_Sales': np.random.randint(20000, 50000, 180),\n",
    "'CompanyZ_StockPrice': np.random.randint(70, 200, 180)\n",
    "\n",
    "}\n",
    "\n",
    "df = pd.DataFrame(data)"
   ]
  },
  {
   "cell_type": "code",
   "execution_count": 4,
   "id": "c001356a",
   "metadata": {},
   "outputs": [
    {
     "data": {
      "text/html": [
       "<div>\n",
       "<style scoped>\n",
       "    .dataframe tbody tr th:only-of-type {\n",
       "        vertical-align: middle;\n",
       "    }\n",
       "\n",
       "    .dataframe tbody tr th {\n",
       "        vertical-align: top;\n",
       "    }\n",
       "\n",
       "    .dataframe thead th {\n",
       "        text-align: right;\n",
       "    }\n",
       "</style>\n",
       "<table border=\"1\" class=\"dataframe\">\n",
       "  <thead>\n",
       "    <tr style=\"text-align: right;\">\n",
       "      <th></th>\n",
       "      <th>Date</th>\n",
       "      <th>CompanyX_StockPrice</th>\n",
       "      <th>CompanyY_Sales</th>\n",
       "      <th>CompanyZ_StockPrice</th>\n",
       "    </tr>\n",
       "  </thead>\n",
       "  <tbody>\n",
       "    <tr>\n",
       "      <th>0</th>\n",
       "      <td>2023-01-01</td>\n",
       "      <td>65</td>\n",
       "      <td>34049</td>\n",
       "      <td>108</td>\n",
       "    </tr>\n",
       "    <tr>\n",
       "      <th>1</th>\n",
       "      <td>2023-01-02</td>\n",
       "      <td>74</td>\n",
       "      <td>43153</td>\n",
       "      <td>182</td>\n",
       "    </tr>\n",
       "    <tr>\n",
       "      <th>2</th>\n",
       "      <td>2023-01-03</td>\n",
       "      <td>105</td>\n",
       "      <td>26180</td>\n",
       "      <td>158</td>\n",
       "    </tr>\n",
       "    <tr>\n",
       "      <th>3</th>\n",
       "      <td>2023-01-04</td>\n",
       "      <td>110</td>\n",
       "      <td>47052</td>\n",
       "      <td>131</td>\n",
       "    </tr>\n",
       "    <tr>\n",
       "      <th>4</th>\n",
       "      <td>2023-01-05</td>\n",
       "      <td>105</td>\n",
       "      <td>41536</td>\n",
       "      <td>146</td>\n",
       "    </tr>\n",
       "    <tr>\n",
       "      <th>...</th>\n",
       "      <td>...</td>\n",
       "      <td>...</td>\n",
       "      <td>...</td>\n",
       "      <td>...</td>\n",
       "    </tr>\n",
       "    <tr>\n",
       "      <th>175</th>\n",
       "      <td>2023-06-25</td>\n",
       "      <td>72</td>\n",
       "      <td>31060</td>\n",
       "      <td>182</td>\n",
       "    </tr>\n",
       "    <tr>\n",
       "      <th>176</th>\n",
       "      <td>2023-06-26</td>\n",
       "      <td>69</td>\n",
       "      <td>32372</td>\n",
       "      <td>145</td>\n",
       "    </tr>\n",
       "    <tr>\n",
       "      <th>177</th>\n",
       "      <td>2023-06-27</td>\n",
       "      <td>110</td>\n",
       "      <td>28363</td>\n",
       "      <td>93</td>\n",
       "    </tr>\n",
       "    <tr>\n",
       "      <th>178</th>\n",
       "      <td>2023-06-28</td>\n",
       "      <td>96</td>\n",
       "      <td>40716</td>\n",
       "      <td>99</td>\n",
       "    </tr>\n",
       "    <tr>\n",
       "      <th>179</th>\n",
       "      <td>2023-06-29</td>\n",
       "      <td>73</td>\n",
       "      <td>38382</td>\n",
       "      <td>111</td>\n",
       "    </tr>\n",
       "  </tbody>\n",
       "</table>\n",
       "<p>180 rows × 4 columns</p>\n",
       "</div>"
      ],
      "text/plain": [
       "          Date  CompanyX_StockPrice  CompanyY_Sales  CompanyZ_StockPrice\n",
       "0   2023-01-01                   65           34049                  108\n",
       "1   2023-01-02                   74           43153                  182\n",
       "2   2023-01-03                  105           26180                  158\n",
       "3   2023-01-04                  110           47052                  131\n",
       "4   2023-01-05                  105           41536                  146\n",
       "..         ...                  ...             ...                  ...\n",
       "175 2023-06-25                   72           31060                  182\n",
       "176 2023-06-26                   69           32372                  145\n",
       "177 2023-06-27                  110           28363                   93\n",
       "178 2023-06-28                   96           40716                   99\n",
       "179 2023-06-29                   73           38382                  111\n",
       "\n",
       "[180 rows x 4 columns]"
      ]
     },
     "execution_count": 4,
     "metadata": {},
     "output_type": "execute_result"
    }
   ],
   "source": [
    "df"
   ]
  },
  {
   "cell_type": "markdown",
   "id": "4079b06d",
   "metadata": {},
   "source": [
    "1️⃣ Calculate the average stock price for Company X over the last 6 months.\n",
    "\n",
    "\n",
    "\n",
    "\n",
    "\n",
    "\n"
   ]
  },
  {
   "cell_type": "code",
   "execution_count": 5,
   "id": "9115f65f",
   "metadata": {},
   "outputs": [
    {
     "name": "stdout",
     "output_type": "stream",
     "text": [
      "The average stock price for Company X over the last 6 months is 34452.06\n"
     ]
    }
   ],
   "source": [
    "avg_price = round(df[(df['Date'] >= (df['Date'].max() - pd.Timedelta(days=30*6)))]['CompanyY_Sales'].mean(),2)\n",
    "print(f\"The average stock price for Company X over the last 6 months is {avg_price}\")"
   ]
  },
  {
   "cell_type": "markdown",
   "id": "5db0cae3",
   "metadata": {},
   "source": [
    "2️⃣ Identify the month with the highest total sales for Company Y from their monthly sales data."
   ]
  },
  {
   "cell_type": "code",
   "execution_count": 6,
   "id": "2d4f468b",
   "metadata": {},
   "outputs": [
    {
     "name": "stdout",
     "output_type": "stream",
     "text": [
      "The Highest total sales for Company Y was 1083734 in the month 1st\n"
     ]
    }
   ],
   "source": [
    "value = df.groupby(df['Date'].dt.month)['CompanyY_Sales'].sum().sort_values().iloc[-1]\n",
    "month =  df.groupby(df['Date'].dt.month)['CompanyY_Sales'].sum().sort_values().index[-1]\n",
    "print(f\"The Highest total sales for Company Y was {value} in the month {month}st\")"
   ]
  },
  {
   "cell_type": "markdown",
   "id": "9e744789",
   "metadata": {},
   "source": [
    "\n",
    "3️⃣ Find the maximum and minimum stock price for Company Z on any day in the last year."
   ]
  },
  {
   "cell_type": "code",
   "execution_count": 7,
   "id": "46e4a793",
   "metadata": {},
   "outputs": [
    {
     "name": "stdout",
     "output_type": "stream",
     "text": [
      "The maximum and minimum stock price for Company Z on any day in the last year was 71 and 198 respectively\n"
     ]
    }
   ],
   "source": [
    "least = df['CompanyZ_StockPrice'].min()\n",
    "maximum = df['CompanyZ_StockPrice'].max()\n",
    "print(f\"The maximum and minimum stock price for Company Z on any day in the last year was {least} and {maximum} respectively\")"
   ]
  },
  {
   "cell_type": "markdown",
   "id": "9e602150",
   "metadata": {},
   "source": [
    "4️⃣ Add a column in the DataFrame showing the percentage change in stock price from the previous day for Company X.\n"
   ]
  },
  {
   "cell_type": "code",
   "execution_count": 8,
   "id": "a51e607e",
   "metadata": {},
   "outputs": [],
   "source": [
    "df['X_Pct_change'] = abs(round((df['CompanyX_StockPrice'] - df['CompanyX_StockPrice'].shift(-1).fillna(0))/ df['CompanyX_StockPrice']*100,2))"
   ]
  },
  {
   "cell_type": "code",
   "execution_count": 9,
   "id": "a0d6ba26",
   "metadata": {},
   "outputs": [
    {
     "data": {
      "text/html": [
       "<div>\n",
       "<style scoped>\n",
       "    .dataframe tbody tr th:only-of-type {\n",
       "        vertical-align: middle;\n",
       "    }\n",
       "\n",
       "    .dataframe tbody tr th {\n",
       "        vertical-align: top;\n",
       "    }\n",
       "\n",
       "    .dataframe thead th {\n",
       "        text-align: right;\n",
       "    }\n",
       "</style>\n",
       "<table border=\"1\" class=\"dataframe\">\n",
       "  <thead>\n",
       "    <tr style=\"text-align: right;\">\n",
       "      <th></th>\n",
       "      <th>Date</th>\n",
       "      <th>CompanyX_StockPrice</th>\n",
       "      <th>CompanyY_Sales</th>\n",
       "      <th>CompanyZ_StockPrice</th>\n",
       "      <th>X_Pct_change</th>\n",
       "    </tr>\n",
       "  </thead>\n",
       "  <tbody>\n",
       "    <tr>\n",
       "      <th>0</th>\n",
       "      <td>2023-01-01</td>\n",
       "      <td>65</td>\n",
       "      <td>34049</td>\n",
       "      <td>108</td>\n",
       "      <td>13.85</td>\n",
       "    </tr>\n",
       "    <tr>\n",
       "      <th>1</th>\n",
       "      <td>2023-01-02</td>\n",
       "      <td>74</td>\n",
       "      <td>43153</td>\n",
       "      <td>182</td>\n",
       "      <td>41.89</td>\n",
       "    </tr>\n",
       "    <tr>\n",
       "      <th>2</th>\n",
       "      <td>2023-01-03</td>\n",
       "      <td>105</td>\n",
       "      <td>26180</td>\n",
       "      <td>158</td>\n",
       "      <td>4.76</td>\n",
       "    </tr>\n",
       "    <tr>\n",
       "      <th>3</th>\n",
       "      <td>2023-01-04</td>\n",
       "      <td>110</td>\n",
       "      <td>47052</td>\n",
       "      <td>131</td>\n",
       "      <td>4.55</td>\n",
       "    </tr>\n",
       "    <tr>\n",
       "      <th>4</th>\n",
       "      <td>2023-01-05</td>\n",
       "      <td>105</td>\n",
       "      <td>41536</td>\n",
       "      <td>146</td>\n",
       "      <td>1.90</td>\n",
       "    </tr>\n",
       "    <tr>\n",
       "      <th>...</th>\n",
       "      <td>...</td>\n",
       "      <td>...</td>\n",
       "      <td>...</td>\n",
       "      <td>...</td>\n",
       "      <td>...</td>\n",
       "    </tr>\n",
       "    <tr>\n",
       "      <th>175</th>\n",
       "      <td>2023-06-25</td>\n",
       "      <td>72</td>\n",
       "      <td>31060</td>\n",
       "      <td>182</td>\n",
       "      <td>4.17</td>\n",
       "    </tr>\n",
       "    <tr>\n",
       "      <th>176</th>\n",
       "      <td>2023-06-26</td>\n",
       "      <td>69</td>\n",
       "      <td>32372</td>\n",
       "      <td>145</td>\n",
       "      <td>59.42</td>\n",
       "    </tr>\n",
       "    <tr>\n",
       "      <th>177</th>\n",
       "      <td>2023-06-27</td>\n",
       "      <td>110</td>\n",
       "      <td>28363</td>\n",
       "      <td>93</td>\n",
       "      <td>12.73</td>\n",
       "    </tr>\n",
       "    <tr>\n",
       "      <th>178</th>\n",
       "      <td>2023-06-28</td>\n",
       "      <td>96</td>\n",
       "      <td>40716</td>\n",
       "      <td>99</td>\n",
       "      <td>23.96</td>\n",
       "    </tr>\n",
       "    <tr>\n",
       "      <th>179</th>\n",
       "      <td>2023-06-29</td>\n",
       "      <td>73</td>\n",
       "      <td>38382</td>\n",
       "      <td>111</td>\n",
       "      <td>100.00</td>\n",
       "    </tr>\n",
       "  </tbody>\n",
       "</table>\n",
       "<p>180 rows × 5 columns</p>\n",
       "</div>"
      ],
      "text/plain": [
       "          Date  CompanyX_StockPrice  CompanyY_Sales  CompanyZ_StockPrice  \\\n",
       "0   2023-01-01                   65           34049                  108   \n",
       "1   2023-01-02                   74           43153                  182   \n",
       "2   2023-01-03                  105           26180                  158   \n",
       "3   2023-01-04                  110           47052                  131   \n",
       "4   2023-01-05                  105           41536                  146   \n",
       "..         ...                  ...             ...                  ...   \n",
       "175 2023-06-25                   72           31060                  182   \n",
       "176 2023-06-26                   69           32372                  145   \n",
       "177 2023-06-27                  110           28363                   93   \n",
       "178 2023-06-28                   96           40716                   99   \n",
       "179 2023-06-29                   73           38382                  111   \n",
       "\n",
       "     X_Pct_change  \n",
       "0           13.85  \n",
       "1           41.89  \n",
       "2            4.76  \n",
       "3            4.55  \n",
       "4            1.90  \n",
       "..            ...  \n",
       "175          4.17  \n",
       "176         59.42  \n",
       "177         12.73  \n",
       "178         23.96  \n",
       "179        100.00  \n",
       "\n",
       "[180 rows x 5 columns]"
      ]
     },
     "execution_count": 9,
     "metadata": {},
     "output_type": "execute_result"
    }
   ],
   "source": [
    "df"
   ]
  },
  {
   "cell_type": "markdown",
   "id": "55122cc9",
   "metadata": {},
   "source": [
    "5️⃣ Determine the number of days when Company Y's sales surpassed its 30-day moving average.\n"
   ]
  },
  {
   "cell_type": "code",
   "execution_count": 10,
   "id": "0647f7a8",
   "metadata": {},
   "outputs": [
    {
     "name": "stdout",
     "output_type": "stream",
     "text": [
      "Number of days when Company Y's sales surpassed 30-day moving average: 73\n"
     ]
    }
   ],
   "source": [
    "df['CompanyY_Sales_MA'] = df['CompanyY_Sales'].rolling(window=30).mean()\n",
    "days_above_average = (df['CompanyY_Sales'] > df['CompanyY_Sales_MA']).sum()\n",
    "print(f\"Number of days when Company Y's sales surpassed 30-day moving average: {days_above_average}\")"
   ]
  },
  {
   "cell_type": "markdown",
   "id": "4153b25f",
   "metadata": {},
   "source": [
    "6️⃣ Compare the average stock price of Companies X and Z in the first quarter of the year."
   ]
  },
  {
   "cell_type": "code",
   "execution_count": 11,
   "id": "93720d7a",
   "metadata": {},
   "outputs": [
    {
     "name": "stdout",
     "output_type": "stream",
     "text": [
      "the average stock price of Companies X and Z in the first quarter of the year was 93.67 and 135.83 respectively\n"
     ]
    }
   ],
   "source": [
    "qtr = df[df['Date'].dt.month.isin([1,2,3])]\n",
    "x_mean, z_mean = round(qtr['CompanyX_StockPrice'].mean(),2) , round(qtr['CompanyZ_StockPrice'].mean(),2)\n",
    "print(f\"the average stock price of Companies X and Z in the first quarter of the year was {x_mean} and {z_mean} respectively\")"
   ]
  }
 ],
 "metadata": {
  "kernelspec": {
   "display_name": "Python 3 (ipykernel)",
   "language": "python",
   "name": "python3"
  },
  "language_info": {
   "codemirror_mode": {
    "name": "ipython",
    "version": 3
   },
   "file_extension": ".py",
   "mimetype": "text/x-python",
   "name": "python",
   "nbconvert_exporter": "python",
   "pygments_lexer": "ipython3",
   "version": "3.11.9"
  }
 },
 "nbformat": 4,
 "nbformat_minor": 5
}
