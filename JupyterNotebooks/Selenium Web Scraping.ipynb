{
 "cells": [
  {
   "cell_type": "code",
   "execution_count": 1,
   "id": "220db470-1171-41f9-96f5-bba4b8577e68",
   "metadata": {},
   "outputs": [],
   "source": [
    "from selenium import webdriver\n",
    "from time import sleep"
   ]
  },
  {
   "cell_type": "code",
   "execution_count": 7,
   "id": "a194ec76-c1a0-4dea-bb97-d5829c7d7544",
   "metadata": {},
   "outputs": [],
   "source": [
    "driver_path = 'chromedriver.exe'"
   ]
  },
  {
   "cell_type": "code",
   "execution_count": 8,
   "id": "fad42cbe-0e43-4468-97e2-ef1849856353",
   "metadata": {},
   "outputs": [
    {
     "name": "stderr",
     "output_type": "stream",
     "text": [
      "C:\\Users\\acer\\AppData\\Local\\Temp\\ipykernel_12156\\3521699477.py:1: DeprecationWarning: executable_path has been deprecated, please pass in a Service object\n",
      "  browser = webdriver.Chrome(executable_path=driver_path)\n"
     ]
    }
   ],
   "source": [
    "browser = webdriver.Chrome(executable_path=driver_path)"
   ]
  },
  {
   "cell_type": "code",
   "execution_count": 9,
   "id": "58548aca-a849-4830-9640-50935f8e85ad",
   "metadata": {},
   "outputs": [],
   "source": [
    "browser.get('https://www.amazon.in')"
   ]
  },
  {
   "cell_type": "code",
   "execution_count": 10,
   "id": "5d47a76b-d255-4ed0-947f-30bd970a3e70",
   "metadata": {},
   "outputs": [],
   "source": [
    "browser.maximize_window()"
   ]
  },
  {
   "cell_type": "code",
   "execution_count": 11,
   "id": "7db56828-5331-4f36-8ea2-1ebca3dee82c",
   "metadata": {},
   "outputs": [
    {
     "name": "stderr",
     "output_type": "stream",
     "text": [
      "C:\\Users\\acer\\AppData\\Local\\Temp\\ipykernel_12156\\4241644152.py:1: DeprecationWarning: find_element_by_* commands are deprecated. Please use find_element() instead\n",
      "  input_search = browser.find_element_by_id('twotabsearchtextbox')\n",
      "C:\\Users\\acer\\AppData\\Local\\Temp\\ipykernel_12156\\4241644152.py:2: DeprecationWarning: find_element_by_* commands are deprecated. Please use find_element() instead\n",
      "  search_button = browser.find_element_by_xpath(\"(//input[@type='submit'])[1]\")\n"
     ]
    }
   ],
   "source": [
    "input_search = browser.find_element_by_id('twotabsearchtextbox')\n",
    "search_button = browser.find_element_by_xpath(\"(//input[@type='submit'])[1]\")"
   ]
  },
  {
   "cell_type": "code",
   "execution_count": 12,
   "id": "4779d33e-5f36-45f6-a7a5-13f4072d054f",
   "metadata": {},
   "outputs": [],
   "source": [
    "input_search.send_keys(\"Smartphones under 50000\")\n",
    "sleep(2)\n",
    "search_button.click()"
   ]
  },
  {
   "cell_type": "code",
   "execution_count": 29,
   "id": "e0686f72-1e31-4ebd-8a5e-29461b171c12",
   "metadata": {},
   "outputs": [
    {
     "name": "stdout",
     "output_type": "stream",
     "text": [
      "Scraping page 1\n"
     ]
    },
    {
     "name": "stderr",
     "output_type": "stream",
     "text": [
      "C:\\Users\\acer\\AppData\\Local\\Temp\\ipykernel_12156\\2699578684.py:4: DeprecationWarning: find_elements_by_* commands are deprecated. Please use find_elements() instead\n",
      "  product = browser.find_elements_by_xpath(\"//span[@class='a-size-medium a-color-base a-text-normal']\")\n",
      "C:\\Users\\acer\\AppData\\Local\\Temp\\ipykernel_12156\\2699578684.py:7: DeprecationWarning: find_element_by_* commands are deprecated. Please use find_element() instead\n",
      "  next_button = browser.find_element_by_xpath(\"//span[@class='s-pagination-strip']\")\n"
     ]
    },
    {
     "name": "stdout",
     "output_type": "stream",
     "text": [
      "Scraping page 2\n",
      "Scraping page 3\n",
      "Scraping page 4\n",
      "Scraping page 5\n",
      "Scraping page 6\n",
      "Scraping page 7\n",
      "Scraping page 8\n",
      "Scraping page 9\n",
      "Scraping page 10\n"
     ]
    }
   ],
   "source": [
    "products = []\n",
    "for i in range(10):\n",
    "    print('Scraping page', i+1)\n",
    "    product = browser.find_elements_by_xpath(\"//span[@class='a-size-medium a-color-base a-text-normal']\")\n",
    "    for p in product:\n",
    "        products.append(p.text)\n",
    "    next_button = browser.find_element_by_xpath(\"//span[@class='s-pagination-strip']\")\n",
    "    next_button.click()\n",
    "    sleep(2)"
   ]
  },
  {
   "cell_type": "code",
   "execution_count": 36,
   "id": "43ac57b9-90e0-426b-bf1f-43f65a77d770",
   "metadata": {},
   "outputs": [
    {
     "data": {
      "text/plain": [
       "220"
      ]
     },
     "execution_count": 36,
     "metadata": {},
     "output_type": "execute_result"
    }
   ],
   "source": [
    "len(products)"
   ]
  },
  {
   "cell_type": "code",
   "execution_count": 38,
   "id": "2bd74826-dcac-428c-bc5d-fe0c3be80b59",
   "metadata": {},
   "outputs": [
    {
     "name": "stdout",
     "output_type": "stream",
     "text": [
      "Scraping page 1\n"
     ]
    },
    {
     "name": "stderr",
     "output_type": "stream",
     "text": [
      "C:\\Users\\acer\\AppData\\Local\\Temp\\ipykernel_12156\\3643304059.py:4: DeprecationWarning: find_elements_by_* commands are deprecated. Please use find_elements() instead\n",
      "  price = browser.find_elements_by_xpath(\"//span[@class='a-price-whole']\")\n",
      "C:\\Users\\acer\\AppData\\Local\\Temp\\ipykernel_12156\\3643304059.py:7: DeprecationWarning: find_element_by_* commands are deprecated. Please use find_element() instead\n",
      "  next_button = browser.find_element_by_xpath(\"//span[@class='s-pagination-strip']\")\n"
     ]
    },
    {
     "name": "stdout",
     "output_type": "stream",
     "text": [
      "Scraping page 2\n",
      "Scraping page 3\n",
      "Scraping page 4\n",
      "Scraping page 5\n",
      "Scraping page 6\n",
      "Scraping page 7\n",
      "Scraping page 8\n",
      "Scraping page 9\n",
      "Scraping page 10\n"
     ]
    }
   ],
   "source": [
    "prices = []\n",
    "for i in range(10):\n",
    "    print('Scraping page', i+1)\n",
    "    price = browser.find_elements_by_xpath(\"//span[@class='a-price-whole']\")\n",
    "    for p in price:\n",
    "        prices.append(p.text)\n",
    "    next_button = browser.find_element_by_xpath(\"//span[@class='s-pagination-strip']\")\n",
    "    next_button.click()\n",
    "    sleep(2)"
   ]
  },
  {
   "cell_type": "code",
   "execution_count": 39,
   "id": "da0c3827-254f-4ed4-9a6c-8428477231a0",
   "metadata": {},
   "outputs": [
    {
     "data": {
      "text/plain": [
       "220"
      ]
     },
     "execution_count": 39,
     "metadata": {},
     "output_type": "execute_result"
    }
   ],
   "source": [
    "len(prices)"
   ]
  },
  {
   "cell_type": "code",
   "execution_count": 40,
   "id": "0e266b2b-1c52-4562-853d-ed91d42d9e79",
   "metadata": {},
   "outputs": [],
   "source": [
    "import pandas as pd"
   ]
  },
  {
   "cell_type": "code",
   "execution_count": 45,
   "id": "dc1a00a3-169c-4bcc-8e08-106628942e2e",
   "metadata": {},
   "outputs": [],
   "source": [
    "data = [products, prices]"
   ]
  },
  {
   "cell_type": "code",
   "execution_count": 52,
   "id": "890aac00-d859-4f83-a941-b6f30ca8c7ff",
   "metadata": {},
   "outputs": [],
   "source": [
    "df = pd.DataFrame(data).T"
   ]
  },
  {
   "cell_type": "code",
   "execution_count": 53,
   "id": "d6222e2e-3cfa-4f0b-8e2f-8d535a8956cf",
   "metadata": {},
   "outputs": [],
   "source": [
    "df.columns = ['Products', 'Prices']"
   ]
  },
  {
   "cell_type": "code",
   "execution_count": 55,
   "id": "db403e88-f24d-40d5-845e-8a3fd057f2a1",
   "metadata": {},
   "outputs": [
    {
     "data": {
      "text/html": [
       "<div>\n",
       "<style scoped>\n",
       "    .dataframe tbody tr th:only-of-type {\n",
       "        vertical-align: middle;\n",
       "    }\n",
       "\n",
       "    .dataframe tbody tr th {\n",
       "        vertical-align: top;\n",
       "    }\n",
       "\n",
       "    .dataframe thead th {\n",
       "        text-align: right;\n",
       "    }\n",
       "</style>\n",
       "<table border=\"1\" class=\"dataframe\">\n",
       "  <thead>\n",
       "    <tr style=\"text-align: right;\">\n",
       "      <th></th>\n",
       "      <th>Products</th>\n",
       "      <th>Prices</th>\n",
       "    </tr>\n",
       "  </thead>\n",
       "  <tbody>\n",
       "    <tr>\n",
       "      <th>0</th>\n",
       "      <td>Samsung Galaxy S20 FE 5G (Cloud Navy, 8GB RAM,...</td>\n",
       "      <td>37,990</td>\n",
       "    </tr>\n",
       "    <tr>\n",
       "      <th>1</th>\n",
       "      <td>Samsung Galaxy M13 (Midnight Blue, 6GB, 128GB ...</td>\n",
       "      <td>13,999</td>\n",
       "    </tr>\n",
       "    <tr>\n",
       "      <th>2</th>\n",
       "      <td>realme narzo 50i Prime (Dark Blue 4GB RAM+64GB...</td>\n",
       "      <td>8,999</td>\n",
       "    </tr>\n",
       "    <tr>\n",
       "      <th>3</th>\n",
       "      <td>Samsung Galaxy M13 (Aqua Green, 6GB, 128GB Sto...</td>\n",
       "      <td>13,999</td>\n",
       "    </tr>\n",
       "    <tr>\n",
       "      <th>4</th>\n",
       "      <td>Tecno POVA 5G (8GB RAM,128GB Storage,Aether Bl...</td>\n",
       "      <td>15,599</td>\n",
       "    </tr>\n",
       "  </tbody>\n",
       "</table>\n",
       "</div>"
      ],
      "text/plain": [
       "                                            Products  Prices\n",
       "0  Samsung Galaxy S20 FE 5G (Cloud Navy, 8GB RAM,...  37,990\n",
       "1  Samsung Galaxy M13 (Midnight Blue, 6GB, 128GB ...  13,999\n",
       "2  realme narzo 50i Prime (Dark Blue 4GB RAM+64GB...   8,999\n",
       "3  Samsung Galaxy M13 (Aqua Green, 6GB, 128GB Sto...  13,999\n",
       "4  Tecno POVA 5G (8GB RAM,128GB Storage,Aether Bl...  15,599"
      ]
     },
     "execution_count": 55,
     "metadata": {},
     "output_type": "execute_result"
    }
   ],
   "source": [
    "df.head()"
   ]
  },
  {
   "cell_type": "code",
   "execution_count": 56,
   "id": "ec6f3079-bdcd-49d0-8636-c33e8183c3b3",
   "metadata": {},
   "outputs": [],
   "source": [
    "browser.quit()"
   ]
  },
  {
   "cell_type": "code",
   "execution_count": null,
   "id": "a281a1fb-7f94-4588-8e86-61568f39a1f3",
   "metadata": {},
   "outputs": [],
   "source": []
  }
 ],
 "metadata": {
  "kernelspec": {
   "display_name": "Python 3 (ipykernel)",
   "language": "python",
   "name": "python3"
  },
  "language_info": {
   "codemirror_mode": {
    "name": "ipython",
    "version": 3
   },
   "file_extension": ".py",
   "mimetype": "text/x-python",
   "name": "python",
   "nbconvert_exporter": "python",
   "pygments_lexer": "ipython3",
   "version": "3.8.8"
  }
 },
 "nbformat": 4,
 "nbformat_minor": 5
}
