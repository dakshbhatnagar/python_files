{
 "cells": [
  {
   "cell_type": "code",
   "execution_count": null,
   "id": "220db470-1171-41f9-96f5-bba4b8577e68",
   "metadata": {},
   "outputs": [],
   "source": [
    "from selenium import webdriver\n",
    "from time import sleep\n",
    "import warnings\n",
    "warnings.filterwarnings(\"ignore\")"
   ]
  },
  {
   "cell_type": "code",
   "execution_count": null,
   "id": "a194ec76-c1a0-4dea-bb97-d5829c7d7544",
   "metadata": {},
   "outputs": [],
   "source": [
    "driver_path = 'chromedriver.exe'"
   ]
  },
  {
   "cell_type": "code",
   "execution_count": null,
   "id": "fad42cbe-0e43-4468-97e2-ef1849856353",
   "metadata": {},
   "outputs": [],
   "source": [
    "#Opens the browser\n",
    "browser = webdriver.Chrome(executable_path=driver_path)"
   ]
  },
  {
   "cell_type": "code",
   "execution_count": null,
   "id": "58548aca-a849-4830-9640-50935f8e85ad",
   "metadata": {},
   "outputs": [],
   "source": [
    "#Goes to amazon website\n",
    "browser.get('https://www.amazon.in')"
   ]
  },
  {
   "cell_type": "code",
   "execution_count": null,
   "id": "5d47a76b-d255-4ed0-947f-30bd970a3e70",
   "metadata": {},
   "outputs": [],
   "source": [
    "#Maximize Window\n",
    "browser.maximize_window()"
   ]
  },
  {
   "cell_type": "code",
   "execution_count": null,
   "id": "7db56828-5331-4f36-8ea2-1ebca3dee82c",
   "metadata": {},
   "outputs": [],
   "source": [
    "#Finding Elements\n",
    "input_search = browser.find_element_by_id('twotabsearchtextbox')\n",
    "search_button = browser.find_element_by_xpath(\"(//input[@type='submit'])[1]\")"
   ]
  },
  {
   "cell_type": "code",
   "execution_count": null,
   "id": "4779d33e-5f36-45f6-a7a5-13f4072d054f",
   "metadata": {},
   "outputs": [],
   "source": [
    "input_search.send_keys(\"Smartphones under 50000\")\n",
    "sleep(2)\n",
    "search_button.click()"
   ]
  },
  {
   "cell_type": "code",
   "execution_count": null,
   "id": "17bc93fe-2047-46be-8536-04b4da49d892",
   "metadata": {},
   "outputs": [],
   "source": [
    "products = []\n",
    "prices = []\n",
    "numRatings = []\n",
    "for i in range(10):\n",
    "    print('Scraping page', i+1)\n",
    "    product = browser.find_elements_by_xpath(\"//span[@class='a-size-medium a-color-base a-text-normal']\")\n",
    "    price = browser.find_elements_by_xpath(\"//span[@class='a-price-whole']\")\n",
    "    numRating = browser.find_elements_by_xpath(\"//span[@class='a-size-base s-underline-text']\")\n",
    "    \n",
    "    for p in product:\n",
    "        products.append(p.text)\n",
    "    for pr in price:\n",
    "        prices.append(pr.text)\n",
    "    for n in numRating:\n",
    "        numRatings.append(n.text)\n",
    "\n",
    "    next_button = browser.find_element_by_xpath(\"//span[@class='s-pagination-strip']\")\n",
    "    next_button.click()\n",
    "    sleep(2)"
   ]
  },
  {
   "cell_type": "code",
   "execution_count": null,
   "id": "f786d6f5-389a-4bcd-b064-01636d90ac79",
   "metadata": {},
   "outputs": [],
   "source": [
    "len(products), len(prices), len(numRatings)"
   ]
  },
  {
   "cell_type": "code",
   "execution_count": null,
   "id": "d0923c70-61f8-407f-9f0a-7210e57a4ca7",
   "metadata": {},
   "outputs": [],
   "source": [
    "data = [products, prices, numRatings]"
   ]
  },
  {
   "cell_type": "code",
   "execution_count": null,
   "id": "0e266b2b-1c52-4562-853d-ed91d42d9e79",
   "metadata": {},
   "outputs": [],
   "source": [
    "import pandas as pd"
   ]
  },
  {
   "cell_type": "code",
   "execution_count": null,
   "id": "890aac00-d859-4f83-a941-b6f30ca8c7ff",
   "metadata": {},
   "outputs": [],
   "source": [
    "df = pd.DataFrame(data).T"
   ]
  },
  {
   "cell_type": "code",
   "execution_count": null,
   "id": "d6222e2e-3cfa-4f0b-8e2f-8d535a8956cf",
   "metadata": {},
   "outputs": [],
   "source": [
    "df.columns = ['Products', 'Prices', 'NumReviews']"
   ]
  },
  {
   "cell_type": "code",
   "execution_count": null,
   "id": "db403e88-f24d-40d5-845e-8a3fd057f2a1",
   "metadata": {},
   "outputs": [],
   "source": [
    "df"
   ]
  },
  {
   "cell_type": "code",
   "execution_count": null,
   "id": "c7c3d693-7b44-458f-94f3-a20955153cba",
   "metadata": {},
   "outputs": [],
   "source": [
    "df.dropna(inplace=True)"
   ]
  },
  {
   "cell_type": "code",
   "execution_count": null,
   "id": "4dd8bf24-fe89-44f1-8656-07b2c61b2607",
   "metadata": {},
   "outputs": [],
   "source": [
    "df.head()"
   ]
  },
  {
   "cell_type": "code",
   "execution_count": null,
   "id": "6cb39a9c-a739-4693-b663-dca5b885775c",
   "metadata": {},
   "outputs": [],
   "source": [
    "df.shape"
   ]
  },
  {
   "cell_type": "code",
   "execution_count": null,
   "id": "ec6f3079-bdcd-49d0-8636-c33e8183c3b3",
   "metadata": {},
   "outputs": [],
   "source": [
    "browser.quit()"
   ]
  },
  {
   "cell_type": "code",
   "execution_count": null,
   "id": "4fdbae80-9c7a-4266-8ee6-ce04d4dafbce",
   "metadata": {},
   "outputs": [],
   "source": [
    "df = df.iloc[:len(products)]"
   ]
  },
  {
   "cell_type": "code",
   "execution_count": null,
   "id": "09fed871-2e11-4036-b395-31caee19c0c1",
   "metadata": {},
   "outputs": [],
   "source": [
    "df.shape"
   ]
  },
  {
   "cell_type": "code",
   "execution_count": null,
   "id": "fb016eb4-b47f-4994-940f-6fd02792e9ac",
   "metadata": {},
   "outputs": [],
   "source": [
    "df['Brand_Name'] = [(i.split(' ')[0]) for i in df.Products]\n",
    "df.Prices = [i.replace(',', '') for i in df.Prices]\n",
    "df['Prices'] = df['Prices'].astype('int64')\n",
    "df.NumReviews = [i.replace(',', '') for i in df.NumReviews]\n",
    "df['NumReviews'] = df['NumReviews'].astype('int64')"
   ]
  },
  {
   "cell_type": "code",
   "execution_count": null,
   "id": "3fd27221-3a4d-4a68-827c-473ad2e4d80d",
   "metadata": {},
   "outputs": [],
   "source": [
    "df.head()"
   ]
  },
  {
   "cell_type": "code",
   "execution_count": null,
   "id": "243c87db-5b84-4cc0-8338-8c276145e65f",
   "metadata": {},
   "outputs": [],
   "source": [
    "df.info()"
   ]
  },
  {
   "cell_type": "code",
   "execution_count": null,
   "id": "a5e5312a-5796-4212-a0fd-71748459a9c8",
   "metadata": {},
   "outputs": [],
   "source": [
    "import seaborn as sns\n",
    "import matplotlib.pyplot as plt"
   ]
  },
  {
   "cell_type": "code",
   "execution_count": null,
   "id": "b5d1974c-4098-4b3d-84b2-32dcf8c1997f",
   "metadata": {},
   "outputs": [],
   "source": [
    "df['Brand_Name'].value_counts().plot(kind='bar', figsize=(22,7))\n",
    "plt.gca().spines['top'].set_visible(False)\n",
    "plt.gca().spines['right'].set_visible(False)\n",
    "plt.xlabel('Brands')\n",
    "plt.ylabel('Count')\n",
    "plt.title('Mobile Phones countplot, Brand Wise')\n",
    "plt.show()"
   ]
  },
  {
   "cell_type": "code",
   "execution_count": null,
   "id": "79876af4-889f-4d9c-b28b-cb0e6cfb0ceb",
   "metadata": {},
   "outputs": [],
   "source": [
    "plt.figure(figsize=(22,7))\n",
    "sns.kdeplot(df['Prices'])\n",
    "plt.gca().spines['top'].set_visible(False)\n",
    "plt.gca().spines['right'].set_visible(False)\n",
    "plt.title('Mobile Prices distribution')\n",
    "plt.show()"
   ]
  },
  {
   "cell_type": "code",
   "execution_count": null,
   "id": "8d260a46-b95f-41eb-b03f-37a71b054588",
   "metadata": {},
   "outputs": [],
   "source": [
    "plt.figure(figsize=(22,7))\n",
    "sns.histplot(df['NumReviews'])\n",
    "plt.gca().spines['top'].set_visible(False)\n",
    "plt.gca().spines['right'].set_visible(False)\n",
    "plt.title('NumReviews distribution')\n",
    "plt.show()"
   ]
  },
  {
   "cell_type": "code",
   "execution_count": null,
   "id": "50d580c3-b977-4bea-94cd-195b3a2c90b3",
   "metadata": {},
   "outputs": [],
   "source": [
    "plt.figure(figsize=(22,7))\n",
    "sns.barplot(x=df['Brand_Name'], y=df['Prices'])\n",
    "plt.gca().spines['top'].set_visible(False)\n",
    "plt.gca().spines['right'].set_visible(False)\n",
    "plt.title('Mobile Prices distribution')\n",
    "plt.show()"
   ]
  }
 ],
 "metadata": {
  "kernelspec": {
   "display_name": "Python 3 (ipykernel)",
   "language": "python",
   "name": "python3"
  },
  "language_info": {
   "codemirror_mode": {
    "name": "ipython",
    "version": 3
   },
   "file_extension": ".py",
   "mimetype": "text/x-python",
   "name": "python",
   "nbconvert_exporter": "python",
   "pygments_lexer": "ipython3",
   "version": "3.8.8"
  }
 },
 "nbformat": 4,
 "nbformat_minor": 5
}
