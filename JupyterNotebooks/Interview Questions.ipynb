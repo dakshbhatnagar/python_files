{
 "cells": [
  {
   "cell_type": "markdown",
   "metadata": {},
   "source": [
    "Convert string to a number"
   ]
  },
  {
   "cell_type": "code",
   "execution_count": 9,
   "metadata": {},
   "outputs": [],
   "source": [
    "def convert(num):\n",
    "    return int(num)"
   ]
  },
  {
   "cell_type": "markdown",
   "metadata": {},
   "source": [
    "Write a code snippet to convert a string to a list."
   ]
  },
  {
   "cell_type": "code",
   "execution_count": 10,
   "metadata": {},
   "outputs": [],
   "source": [
    "def s_to_l(string):\n",
    "    return list(string.split(\" \"))"
   ]
  },
  {
   "cell_type": "code",
   "execution_count": 11,
   "metadata": {},
   "outputs": [
    {
     "data": {
      "text/plain": [
       "['Daksh', 'Bhatnagar']"
      ]
     },
     "execution_count": 11,
     "metadata": {},
     "output_type": "execute_result"
    }
   ],
   "source": [
    "str1 = \"Daksh Bhatnagar\"\n",
    "s_to_l(str1)\n"
   ]
  },
  {
   "cell_type": "markdown",
   "metadata": {},
   "source": [
    "Reverse the string"
   ]
  },
  {
   "cell_type": "code",
   "execution_count": 12,
   "metadata": {},
   "outputs": [
    {
     "data": {
      "text/plain": [
       "'ragantahB hskaD'"
      ]
     },
     "execution_count": 12,
     "metadata": {},
     "output_type": "execute_result"
    }
   ],
   "source": [
    "#Using indexing\n",
    "str1[::-1]"
   ]
  },
  {
   "cell_type": "code",
   "execution_count": 13,
   "metadata": {},
   "outputs": [],
   "source": [
    "#writing a custom function\n",
    "def reverse(string):\n",
    "    text_string = list(string)\n",
    "    length = len(string)\n",
    "    for i in range(length//2):\n",
    "        text_string[i], text_string[length - i - 1 ] = text_string[length -  i - 1], text_string[i]\n",
    "    return \"\".join(text_string)"
   ]
  },
  {
   "cell_type": "code",
   "execution_count": 14,
   "metadata": {},
   "outputs": [
    {
     "data": {
      "text/plain": [
       "'stpA ayhdoyA'"
      ]
     },
     "execution_count": 14,
     "metadata": {},
     "output_type": "execute_result"
    }
   ],
   "source": [
    "name =  'Ayodhya Apts'\n",
    "reverse(name)"
   ]
  },
  {
   "cell_type": "markdown",
   "metadata": {},
   "source": [
    "Sort a list"
   ]
  },
  {
   "cell_type": "code",
   "execution_count": 15,
   "metadata": {},
   "outputs": [
    {
     "data": {
      "text/plain": [
       "[1, 2, 3, 4, 5, 6, 7, 8, 9, 12]"
      ]
     },
     "execution_count": 15,
     "metadata": {},
     "output_type": "execute_result"
    }
   ],
   "source": [
    "arr1  = [12,3,4,5,6,1,2,7,8,9]\n",
    "sorted(arr1)"
   ]
  },
  {
   "cell_type": "markdown",
   "metadata": {},
   "source": [
    "How to access an element in a list"
   ]
  },
  {
   "cell_type": "code",
   "execution_count": 16,
   "metadata": {},
   "outputs": [
    {
     "data": {
      "text/plain": [
       "[[1, 2, 3, 4, 5], [5, 4, 3, 2, 1]]"
      ]
     },
     "execution_count": 16,
     "metadata": {},
     "output_type": "execute_result"
    }
   ],
   "source": [
    "arr2 =  [[1,2,3,4,5], [5,4,3,2,1]]\n",
    "arr2"
   ]
  },
  {
   "cell_type": "code",
   "execution_count": 17,
   "metadata": {},
   "outputs": [
    {
     "data": {
      "text/plain": [
       "[1, 2, 3, 4, 5]"
      ]
     },
     "execution_count": 17,
     "metadata": {},
     "output_type": "execute_result"
    }
   ],
   "source": [
    "#In 2d array we first access the row then the element, arr2[0] gives us the first row and then we can get 5 as per usual\n",
    "arr2[0]"
   ]
  },
  {
   "cell_type": "code",
   "execution_count": 18,
   "metadata": {},
   "outputs": [
    {
     "data": {
      "text/plain": [
       "5"
      ]
     },
     "execution_count": 18,
     "metadata": {},
     "output_type": "execute_result"
    }
   ],
   "source": [
    "arr2[0][-1]"
   ]
  },
  {
   "cell_type": "code",
   "execution_count": 19,
   "metadata": {},
   "outputs": [
    {
     "data": {
      "text/plain": [
       "4"
      ]
     },
     "execution_count": 19,
     "metadata": {},
     "output_type": "execute_result"
    }
   ],
   "source": [
    "#Accessing the 1st value of the 2nd row\n",
    "arr2[1][1]"
   ]
  },
  {
   "cell_type": "code",
   "execution_count": 20,
   "metadata": {},
   "outputs": [
    {
     "data": {
      "text/plain": [
       "[12, 3, 4, 5, 6, 1, 2, 7, 8, 9]"
      ]
     },
     "execution_count": 20,
     "metadata": {},
     "output_type": "execute_result"
    }
   ],
   "source": [
    "arr1"
   ]
  },
  {
   "cell_type": "code",
   "execution_count": 21,
   "metadata": {},
   "outputs": [],
   "source": [
    "#remove takes the value in an array\n",
    "arr1.remove(12)"
   ]
  },
  {
   "cell_type": "code",
   "execution_count": 22,
   "metadata": {},
   "outputs": [
    {
     "data": {
      "text/plain": [
       "[3, 4, 5, 6, 1, 2, 7, 8, 9]"
      ]
     },
     "execution_count": 22,
     "metadata": {},
     "output_type": "execute_result"
    }
   ],
   "source": [
    "arr1"
   ]
  },
  {
   "cell_type": "code",
   "execution_count": 23,
   "metadata": {},
   "outputs": [
    {
     "data": {
      "text/plain": [
       "9"
      ]
     },
     "execution_count": 23,
     "metadata": {},
     "output_type": "execute_result"
    }
   ],
   "source": [
    "#pop takes the index of the element in an array\n",
    "arr1.pop(-1)"
   ]
  },
  {
   "cell_type": "code",
   "execution_count": 24,
   "metadata": {},
   "outputs": [
    {
     "data": {
      "text/plain": [
       "[3, 4, 5, 6, 1, 2, 7, 8]"
      ]
     },
     "execution_count": 24,
     "metadata": {},
     "output_type": "execute_result"
    }
   ],
   "source": [
    "arr1"
   ]
  },
  {
   "cell_type": "markdown",
   "metadata": {},
   "source": [
    "Delete an entire List"
   ]
  },
  {
   "cell_type": "code",
   "execution_count": 25,
   "metadata": {},
   "outputs": [],
   "source": [
    "arr1.clear()"
   ]
  },
  {
   "cell_type": "code",
   "execution_count": 26,
   "metadata": {},
   "outputs": [
    {
     "data": {
      "text/plain": [
       "[]"
      ]
     },
     "execution_count": 26,
     "metadata": {},
     "output_type": "execute_result"
    }
   ],
   "source": [
    "arr1"
   ]
  },
  {
   "cell_type": "markdown",
   "metadata": {},
   "source": [
    "Reverse an array"
   ]
  },
  {
   "cell_type": "code",
   "execution_count": 27,
   "metadata": {},
   "outputs": [],
   "source": [
    "# We will take 2 approaches, first is using a function and second one is without using a function\n",
    "import numpy as np"
   ]
  },
  {
   "cell_type": "code",
   "execution_count": 28,
   "metadata": {},
   "outputs": [
    {
     "data": {
      "text/plain": [
       "array([[1, 2, 3, 4, 5],\n",
       "       [5, 4, 3, 2, 1]])"
      ]
     },
     "execution_count": 28,
     "metadata": {},
     "output_type": "execute_result"
    }
   ],
   "source": [
    "np.flip(arr2) #reversiing 2d array, Notice only the elements have reversed, not the sub-elements"
   ]
  },
  {
   "cell_type": "code",
   "execution_count": 29,
   "metadata": {},
   "outputs": [
    {
     "data": {
      "text/plain": [
       "array([ 9,  8,  7,  2,  1,  6,  5,  4,  3, 12])"
      ]
     },
     "execution_count": 29,
     "metadata": {},
     "output_type": "execute_result"
    }
   ],
   "source": [
    "arr1  = [12,3,4,5,6,1,2,7,8,9]\n",
    "np.flip(arr1)"
   ]
  },
  {
   "cell_type": "code",
   "execution_count": 30,
   "metadata": {},
   "outputs": [
    {
     "data": {
      "text/plain": [
       "[9, 8, 7, 2, 1, 6, 5, 4, 3, 12]"
      ]
     },
     "execution_count": 30,
     "metadata": {},
     "output_type": "execute_result"
    }
   ],
   "source": [
    "#without using any function\n",
    "arr1[::-1]"
   ]
  },
  {
   "cell_type": "markdown",
   "metadata": {},
   "source": [
    "Write a code snippet to get an element, delete an element, and update an element in an array."
   ]
  },
  {
   "cell_type": "code",
   "execution_count": 31,
   "metadata": {},
   "outputs": [
    {
     "data": {
      "text/plain": [
       "6"
      ]
     },
     "execution_count": 31,
     "metadata": {},
     "output_type": "execute_result"
    }
   ],
   "source": [
    "##access an element\n",
    "arr1[4]"
   ]
  },
  {
   "cell_type": "code",
   "execution_count": 32,
   "metadata": {},
   "outputs": [],
   "source": [
    "#Remove an element\n",
    "arr1.remove(2)"
   ]
  },
  {
   "cell_type": "code",
   "execution_count": 33,
   "metadata": {},
   "outputs": [],
   "source": [
    "#Update an element\n",
    "arr1[0]  = 100"
   ]
  },
  {
   "cell_type": "code",
   "execution_count": 34,
   "metadata": {},
   "outputs": [
    {
     "data": {
      "text/plain": [
       "[100, 3, 4, 5, 6, 1, 7, 8, 9]"
      ]
     },
     "execution_count": 34,
     "metadata": {},
     "output_type": "execute_result"
    }
   ],
   "source": [
    "arr1"
   ]
  },
  {
   "cell_type": "code",
   "execution_count": 35,
   "metadata": {},
   "outputs": [
    {
     "data": {
      "text/plain": [
       "[100, 3, 4, 5, 6, 1, 7, 8, 9]"
      ]
     },
     "execution_count": 35,
     "metadata": {},
     "output_type": "execute_result"
    }
   ],
   "source": [
    "arr1"
   ]
  },
  {
   "cell_type": "markdown",
   "metadata": {},
   "source": [
    "Concatenate two different string lists"
   ]
  },
  {
   "cell_type": "code",
   "execution_count": 36,
   "metadata": {},
   "outputs": [],
   "source": [
    "List1= [\"W\", \"a\", \"w\",\"b\"]\n",
    "List2 = [\"e\", \" \",\"riting\",\"log\"]"
   ]
  },
  {
   "cell_type": "code",
   "execution_count": 37,
   "metadata": {},
   "outputs": [
    {
     "data": {
      "text/plain": [
       "['W', 'a', 'w', 'b', 'e', ' ', 'riting', 'log']"
      ]
     },
     "execution_count": 37,
     "metadata": {},
     "output_type": "execute_result"
    }
   ],
   "source": [
    "List1 + List2"
   ]
  },
  {
   "cell_type": "markdown",
   "metadata": {},
   "source": [
    "Get the square of all the elements in a list"
   ]
  },
  {
   "cell_type": "code",
   "execution_count": 38,
   "metadata": {},
   "outputs": [
    {
     "data": {
      "text/plain": [
       "[100, 3, 4, 5, 6, 1, 7, 8, 9]"
      ]
     },
     "execution_count": 38,
     "metadata": {},
     "output_type": "execute_result"
    }
   ],
   "source": [
    "arr1"
   ]
  },
  {
   "cell_type": "code",
   "execution_count": 39,
   "metadata": {},
   "outputs": [
    {
     "data": {
      "text/plain": [
       "[10000, 9, 16, 25, 36, 1, 49, 64, 81]"
      ]
     },
     "execution_count": 39,
     "metadata": {},
     "output_type": "execute_result"
    }
   ],
   "source": [
    "#Using Vanilla Python\n",
    "[i**2 for i in arr1]"
   ]
  },
  {
   "cell_type": "code",
   "execution_count": 40,
   "metadata": {},
   "outputs": [
    {
     "data": {
      "text/plain": [
       "array([10000,     9,    16,    25,    36,     1,    49,    64,    81])"
      ]
     },
     "execution_count": 40,
     "metadata": {},
     "output_type": "execute_result"
    }
   ],
   "source": [
    "#Using numpy\n",
    "np.square(arr1)"
   ]
  },
  {
   "cell_type": "markdown",
   "metadata": {},
   "source": [
    "Write a code to get the minimum value in a dictionary.\n"
   ]
  },
  {
   "cell_type": "code",
   "execution_count": 41,
   "metadata": {},
   "outputs": [],
   "source": [
    "arr3 = [1,2,2,3,3,3,3,3,4,4,5,6,6,6,6,7,7,7,8,8,9,9]\n",
    "dict1 = {i : arr3.count(i) for i in set(arr3)}"
   ]
  },
  {
   "cell_type": "code",
   "execution_count": 42,
   "metadata": {},
   "outputs": [
    {
     "data": {
      "text/plain": [
       "(1, 1)"
      ]
     },
     "execution_count": 42,
     "metadata": {},
     "output_type": "execute_result"
    }
   ],
   "source": [
    "MIN_VALUE_TUPLE = min(dict1.items(), key=lambda x : x[-1])\n",
    "MIN_VALUE_TUPLE"
   ]
  },
  {
   "cell_type": "code",
   "execution_count": 43,
   "metadata": {},
   "outputs": [
    {
     "data": {
      "text/plain": [
       "array([[10,  4],\n",
       "       [ 8, 12],\n",
       "       [15,  6]])"
      ]
     },
     "execution_count": 43,
     "metadata": {},
     "output_type": "execute_result"
    }
   ],
   "source": [
    "a = np.array([[10, 4], [8, 12]])\n",
    "b = np.array([[15, 6]])\n",
    "np.concatenate([a,b])"
   ]
  },
  {
   "cell_type": "markdown",
   "metadata": {},
   "source": [
    "If youb want to add a new column, reshape the array that's to be concatenated and specify `axis = 1` in the second argument of the `np.concatenate`"
   ]
  },
  {
   "cell_type": "code",
   "execution_count": 47,
   "metadata": {},
   "outputs": [
    {
     "data": {
      "text/plain": [
       "array([[10,  4, 15],\n",
       "       [ 8, 12,  6]])"
      ]
     },
     "execution_count": 47,
     "metadata": {},
     "output_type": "execute_result"
    }
   ],
   "source": [
    "a = np.array([[10, 4], [8, 12]])\n",
    "b = np.array([[15, 6]])\n",
    "np.concatenate([a,b.reshape(-1,1)], axis=1)"
   ]
  },
  {
   "cell_type": "markdown",
   "metadata": {},
   "source": [
    "Write code to insert commas between characters of all elements in an array"
   ]
  },
  {
   "cell_type": "code",
   "execution_count": 49,
   "metadata": {},
   "outputs": [
    {
     "data": {
      "text/plain": [
       "'Ayodhya Apts'"
      ]
     },
     "execution_count": 49,
     "metadata": {},
     "output_type": "execute_result"
    }
   ],
   "source": [
    "name"
   ]
  },
  {
   "cell_type": "code",
   "execution_count": 50,
   "metadata": {},
   "outputs": [
    {
     "data": {
      "text/plain": [
       "'A,y,o,d,h,y,a, ,A,p,t,s'"
      ]
     },
     "execution_count": 50,
     "metadata": {},
     "output_type": "execute_result"
    }
   ],
   "source": [
    "\",\".join(name)"
   ]
  },
  {
   "cell_type": "markdown",
   "metadata": {},
   "source": [
    "How can you add 1 to all sides of an existing array?"
   ]
  },
  {
   "cell_type": "code",
   "execution_count": 51,
   "metadata": {},
   "outputs": [
    {
     "data": {
      "text/plain": [
       "[[1, 2, 3, 4, 5], [5, 4, 3, 2, 1]]"
      ]
     },
     "execution_count": 51,
     "metadata": {},
     "output_type": "execute_result"
    }
   ],
   "source": [
    "arr2"
   ]
  },
  {
   "cell_type": "code",
   "execution_count": 54,
   "metadata": {},
   "outputs": [
    {
     "data": {
      "text/plain": [
       "array([[1, 1, 1, 1, 1, 1, 1],\n",
       "       [1, 1, 2, 3, 4, 5, 1],\n",
       "       [1, 5, 4, 3, 2, 1, 1],\n",
       "       [1, 1, 1, 1, 1, 1, 1]])"
      ]
     },
     "execution_count": 54,
     "metadata": {},
     "output_type": "execute_result"
    }
   ],
   "source": [
    "np.pad(arr2, pad_width=1, mode='constant', constant_values=1)"
   ]
  },
  {
   "cell_type": "code",
   "execution_count": 53,
   "metadata": {},
   "outputs": [
    {
     "data": {
      "text/plain": [
       "array([[1, 1, 1, 1, 1, 1, 1, 1, 1],\n",
       "       [1, 1, 1, 1, 1, 1, 1, 1, 1],\n",
       "       [1, 1, 1, 2, 3, 4, 5, 1, 1],\n",
       "       [1, 1, 5, 4, 3, 2, 1, 1, 1],\n",
       "       [1, 1, 1, 1, 1, 1, 1, 1, 1],\n",
       "       [1, 1, 1, 1, 1, 1, 1, 1, 1]])"
      ]
     },
     "execution_count": 53,
     "metadata": {},
     "output_type": "execute_result"
    }
   ],
   "source": [
    "np.pad(arr2, pad_width=2, mode='constant', constant_values=1)"
   ]
  },
  {
   "cell_type": "code",
   "execution_count": 56,
   "metadata": {},
   "outputs": [
    {
     "data": {
      "text/plain": [
       "array([[0, 1, 2, 3, 4],\n",
       "       [4, 3, 2, 1, 0]])"
      ]
     },
     "execution_count": 56,
     "metadata": {},
     "output_type": "execute_result"
    }
   ],
   "source": [
    "np.array(arr2).argsort()"
   ]
  },
  {
   "cell_type": "code",
   "execution_count": 57,
   "metadata": {},
   "outputs": [
    {
     "data": {
      "text/plain": [
       "[[1, 2, 3, 4, 5], [5, 4, 3, 2, 1]]"
      ]
     },
     "execution_count": 57,
     "metadata": {},
     "output_type": "execute_result"
    }
   ],
   "source": [
    "arr2"
   ]
  },
  {
   "cell_type": "code",
   "execution_count": 58,
   "metadata": {},
   "outputs": [],
   "source": [
    "import mysql.connector\n",
    "import numpy as np\n",
    "import pandas as pd\n",
    "import matplotlib.pyplot as plt\n",
    "conn =  mysql.connector.connect(host='localhost', user = 'root', database ='qssglobal', password = 'LfTu#Nw479')\n",
    "cursor =  conn.cursor()"
   ]
  },
  {
   "cell_type": "code",
   "execution_count": 59,
   "metadata": {},
   "outputs": [],
   "source": [
    "def read_sql(query):\n",
    "    cursor.execute(query)\n",
    "    results =  cursor.fetchall()\n",
    "    df =  pd.DataFrame(results, columns = [i[0] for i in cursor.description])\n",
    "    return df"
   ]
  },
  {
   "cell_type": "code",
   "execution_count": 61,
   "metadata": {},
   "outputs": [],
   "source": [
    "df = read_sql(\"select * from dailydata\")"
   ]
  },
  {
   "cell_type": "markdown",
   "metadata": {},
   "source": [
    "Loc and iloc are two methods in pandas that work the same way until and unless there is a multi-index dataframe. For a multi-index dataframe you can just say `df.loc['index']` and then it return the corresponding values of the index."
   ]
  },
  {
   "cell_type": "code",
   "execution_count": 67,
   "metadata": {},
   "outputs": [
    {
     "data": {
      "text/plain": [
       "Status            L1 Rejected\n",
       "Recruiter               Sajia\n",
       "Date               2024-04-01\n",
       "Qtr                        Q1\n",
       "Month                     Apr\n",
       "Client                Nerofix\n",
       "KAM                     Sajia\n",
       "CandidateName    Gaurav Tayde\n",
       "Position            ASM- Pune\n",
       "Year                     2024\n",
       "Name: 0, dtype: object"
      ]
     },
     "execution_count": 67,
     "metadata": {},
     "output_type": "execute_result"
    }
   ],
   "source": [
    "df.iloc[0]"
   ]
  },
  {
   "cell_type": "markdown",
   "metadata": {},
   "source": [
    "How do you sort values of a dataframe?"
   ]
  },
  {
   "cell_type": "code",
   "execution_count": 68,
   "metadata": {},
   "outputs": [
    {
     "data": {
      "text/html": [
       "<div>\n",
       "<style scoped>\n",
       "    .dataframe tbody tr th:only-of-type {\n",
       "        vertical-align: middle;\n",
       "    }\n",
       "\n",
       "    .dataframe tbody tr th {\n",
       "        vertical-align: top;\n",
       "    }\n",
       "\n",
       "    .dataframe thead th {\n",
       "        text-align: right;\n",
       "    }\n",
       "</style>\n",
       "<table border=\"1\" class=\"dataframe\">\n",
       "  <thead>\n",
       "    <tr style=\"text-align: right;\">\n",
       "      <th></th>\n",
       "      <th>Status</th>\n",
       "      <th>Recruiter</th>\n",
       "      <th>Date</th>\n",
       "      <th>Qtr</th>\n",
       "      <th>Month</th>\n",
       "      <th>Client</th>\n",
       "      <th>KAM</th>\n",
       "      <th>CandidateName</th>\n",
       "      <th>Position</th>\n",
       "      <th>Year</th>\n",
       "    </tr>\n",
       "  </thead>\n",
       "  <tbody>\n",
       "    <tr>\n",
       "      <th>2040</th>\n",
       "      <td>Shared With Client</td>\n",
       "      <td>Aishwarya</td>\n",
       "      <td>2024-05-04</td>\n",
       "      <td>Q1</td>\n",
       "      <td>May</td>\n",
       "      <td>Kubota</td>\n",
       "      <td>Rekha</td>\n",
       "      <td>Sai Kumar Maddala</td>\n",
       "      <td>Material Planning</td>\n",
       "      <td>2024</td>\n",
       "    </tr>\n",
       "    <tr>\n",
       "      <th>1026</th>\n",
       "      <td>Shared With Client</td>\n",
       "      <td>Kiran</td>\n",
       "      <td>2024-05-04</td>\n",
       "      <td>Q1</td>\n",
       "      <td>May</td>\n",
       "      <td>Nerolac</td>\n",
       "      <td>Sajia</td>\n",
       "      <td>Jaspreet Singh</td>\n",
       "      <td>TSO - Faridabad</td>\n",
       "      <td>2024</td>\n",
       "    </tr>\n",
       "    <tr>\n",
       "      <th>535</th>\n",
       "      <td>Shared With Client</td>\n",
       "      <td>Jahnvi</td>\n",
       "      <td>2024-05-04</td>\n",
       "      <td>Q1</td>\n",
       "      <td>May</td>\n",
       "      <td>Nerolac</td>\n",
       "      <td>Sajia</td>\n",
       "      <td>Ritesh Srivastava</td>\n",
       "      <td>TSO Varanasi</td>\n",
       "      <td>2024</td>\n",
       "    </tr>\n",
       "    <tr>\n",
       "      <th>536</th>\n",
       "      <td>Shared With Client</td>\n",
       "      <td>Jahnvi</td>\n",
       "      <td>2024-05-04</td>\n",
       "      <td>Q1</td>\n",
       "      <td>May</td>\n",
       "      <td>Nerolac</td>\n",
       "      <td>Sajia</td>\n",
       "      <td>Madan Gopal</td>\n",
       "      <td>TSO Varanasi</td>\n",
       "      <td>2024</td>\n",
       "    </tr>\n",
       "    <tr>\n",
       "      <th>537</th>\n",
       "      <td>Shared With Client</td>\n",
       "      <td>Jahnvi</td>\n",
       "      <td>2024-05-04</td>\n",
       "      <td>Q1</td>\n",
       "      <td>May</td>\n",
       "      <td>Nerolac</td>\n",
       "      <td>Sajia</td>\n",
       "      <td>Sandeep Pal</td>\n",
       "      <td>TSO Varanasi</td>\n",
       "      <td>2024</td>\n",
       "    </tr>\n",
       "    <tr>\n",
       "      <th>...</th>\n",
       "      <td>...</td>\n",
       "      <td>...</td>\n",
       "      <td>...</td>\n",
       "      <td>...</td>\n",
       "      <td>...</td>\n",
       "      <td>...</td>\n",
       "      <td>...</td>\n",
       "      <td>...</td>\n",
       "      <td>...</td>\n",
       "      <td>...</td>\n",
       "    </tr>\n",
       "    <tr>\n",
       "      <th>1036</th>\n",
       "      <td>Shared With Client</td>\n",
       "      <td>Pragya</td>\n",
       "      <td>2024-04-01</td>\n",
       "      <td>Q1</td>\n",
       "      <td>Apr</td>\n",
       "      <td>NTT</td>\n",
       "      <td>Pragya</td>\n",
       "      <td>Radhika M</td>\n",
       "      <td>SOC Security Analyst</td>\n",
       "      <td>2024</td>\n",
       "    </tr>\n",
       "    <tr>\n",
       "      <th>1037</th>\n",
       "      <td>L1 Scheduled</td>\n",
       "      <td>Pragya</td>\n",
       "      <td>2024-04-01</td>\n",
       "      <td>Q1</td>\n",
       "      <td>Apr</td>\n",
       "      <td>NTT</td>\n",
       "      <td>Pragya</td>\n",
       "      <td>Datla Surya Sudheer Varma</td>\n",
       "      <td>SOC Security Analyst</td>\n",
       "      <td>2024</td>\n",
       "    </tr>\n",
       "    <tr>\n",
       "      <th>1038</th>\n",
       "      <td>Shared With Client</td>\n",
       "      <td>Pragya</td>\n",
       "      <td>2024-04-01</td>\n",
       "      <td>Q1</td>\n",
       "      <td>Apr</td>\n",
       "      <td>NTT</td>\n",
       "      <td>Pragya</td>\n",
       "      <td>G Sai Jogesh Varma</td>\n",
       "      <td>SOC Security Analyst</td>\n",
       "      <td>2024</td>\n",
       "    </tr>\n",
       "    <tr>\n",
       "      <th>1039</th>\n",
       "      <td>Shared With Client</td>\n",
       "      <td>Pragya</td>\n",
       "      <td>2024-04-01</td>\n",
       "      <td>Q1</td>\n",
       "      <td>Apr</td>\n",
       "      <td>NTT</td>\n",
       "      <td>Pragya</td>\n",
       "      <td>Vamsi Krishna Reddy K</td>\n",
       "      <td>SOC Security Analyst</td>\n",
       "      <td>2024</td>\n",
       "    </tr>\n",
       "    <tr>\n",
       "      <th>0</th>\n",
       "      <td>L1 Rejected</td>\n",
       "      <td>Sajia</td>\n",
       "      <td>2024-04-01</td>\n",
       "      <td>Q1</td>\n",
       "      <td>Apr</td>\n",
       "      <td>Nerofix</td>\n",
       "      <td>Sajia</td>\n",
       "      <td>Gaurav Tayde</td>\n",
       "      <td>ASM- Pune</td>\n",
       "      <td>2024</td>\n",
       "    </tr>\n",
       "  </tbody>\n",
       "</table>\n",
       "<p>2041 rows × 10 columns</p>\n",
       "</div>"
      ],
      "text/plain": [
       "                  Status  Recruiter        Date Qtr Month   Client     KAM  \\\n",
       "2040  Shared With Client  Aishwarya  2024-05-04  Q1   May   Kubota   Rekha   \n",
       "1026  Shared With Client      Kiran  2024-05-04  Q1   May  Nerolac   Sajia   \n",
       "535   Shared With Client     Jahnvi  2024-05-04  Q1   May  Nerolac   Sajia   \n",
       "536   Shared With Client     Jahnvi  2024-05-04  Q1   May  Nerolac   Sajia   \n",
       "537   Shared With Client     Jahnvi  2024-05-04  Q1   May  Nerolac   Sajia   \n",
       "...                  ...        ...         ...  ..   ...      ...     ...   \n",
       "1036  Shared With Client     Pragya  2024-04-01  Q1   Apr      NTT  Pragya   \n",
       "1037        L1 Scheduled     Pragya  2024-04-01  Q1   Apr      NTT  Pragya   \n",
       "1038  Shared With Client     Pragya  2024-04-01  Q1   Apr      NTT  Pragya   \n",
       "1039  Shared With Client     Pragya  2024-04-01  Q1   Apr      NTT  Pragya   \n",
       "0            L1 Rejected      Sajia  2024-04-01  Q1   Apr  Nerofix   Sajia   \n",
       "\n",
       "                  CandidateName              Position  Year  \n",
       "2040          Sai Kumar Maddala     Material Planning  2024  \n",
       "1026             Jaspreet Singh       TSO - Faridabad  2024  \n",
       "535           Ritesh Srivastava          TSO Varanasi  2024  \n",
       "536                 Madan Gopal          TSO Varanasi  2024  \n",
       "537                 Sandeep Pal          TSO Varanasi  2024  \n",
       "...                         ...                   ...   ...  \n",
       "1036                  Radhika M  SOC Security Analyst  2024  \n",
       "1037  Datla Surya Sudheer Varma  SOC Security Analyst  2024  \n",
       "1038         G Sai Jogesh Varma  SOC Security Analyst  2024  \n",
       "1039      Vamsi Krishna Reddy K  SOC Security Analyst  2024  \n",
       "0                  Gaurav Tayde             ASM- Pune  2024  \n",
       "\n",
       "[2041 rows x 10 columns]"
      ]
     },
     "execution_count": 68,
     "metadata": {},
     "output_type": "execute_result"
    }
   ],
   "source": [
    "df.sort_values('Date', ascending=False)"
   ]
  },
  {
   "cell_type": "markdown",
   "metadata": {},
   "source": [
    "Sorting the dataframe by 2 columns"
   ]
  },
  {
   "cell_type": "code",
   "execution_count": 69,
   "metadata": {},
   "outputs": [
    {
     "data": {
      "text/html": [
       "<div>\n",
       "<style scoped>\n",
       "    .dataframe tbody tr th:only-of-type {\n",
       "        vertical-align: middle;\n",
       "    }\n",
       "\n",
       "    .dataframe tbody tr th {\n",
       "        vertical-align: top;\n",
       "    }\n",
       "\n",
       "    .dataframe thead th {\n",
       "        text-align: right;\n",
       "    }\n",
       "</style>\n",
       "<table border=\"1\" class=\"dataframe\">\n",
       "  <thead>\n",
       "    <tr style=\"text-align: right;\">\n",
       "      <th></th>\n",
       "      <th>Status</th>\n",
       "      <th>Recruiter</th>\n",
       "      <th>Date</th>\n",
       "      <th>Qtr</th>\n",
       "      <th>Month</th>\n",
       "      <th>Client</th>\n",
       "      <th>KAM</th>\n",
       "      <th>CandidateName</th>\n",
       "      <th>Position</th>\n",
       "      <th>Year</th>\n",
       "    </tr>\n",
       "  </thead>\n",
       "  <tbody>\n",
       "    <tr>\n",
       "      <th>539</th>\n",
       "      <td>Shared With Client</td>\n",
       "      <td>Miloni</td>\n",
       "      <td>2024-05-04</td>\n",
       "      <td>Q1</td>\n",
       "      <td>May</td>\n",
       "      <td>Nerolac</td>\n",
       "      <td>Sajia</td>\n",
       "      <td>Sushil Saini</td>\n",
       "      <td>TSO Agra</td>\n",
       "      <td>2024</td>\n",
       "    </tr>\n",
       "    <tr>\n",
       "      <th>540</th>\n",
       "      <td>Shared With Client</td>\n",
       "      <td>Miloni</td>\n",
       "      <td>2024-05-04</td>\n",
       "      <td>Q1</td>\n",
       "      <td>May</td>\n",
       "      <td>Nerolac</td>\n",
       "      <td>Sajia</td>\n",
       "      <td>Vipul Kumar</td>\n",
       "      <td>TSO Varanasi</td>\n",
       "      <td>2024</td>\n",
       "    </tr>\n",
       "    <tr>\n",
       "      <th>1024</th>\n",
       "      <td>Shared With Client</td>\n",
       "      <td>Kiran</td>\n",
       "      <td>2024-05-04</td>\n",
       "      <td>Q1</td>\n",
       "      <td>May</td>\n",
       "      <td>Nerolac</td>\n",
       "      <td>Sajia</td>\n",
       "      <td>Anshul Kumar</td>\n",
       "      <td>PSO - Ghaziabad</td>\n",
       "      <td>2024</td>\n",
       "    </tr>\n",
       "    <tr>\n",
       "      <th>1025</th>\n",
       "      <td>Shared With Client</td>\n",
       "      <td>Kiran</td>\n",
       "      <td>2024-05-04</td>\n",
       "      <td>Q1</td>\n",
       "      <td>May</td>\n",
       "      <td>Nerolac</td>\n",
       "      <td>Sajia</td>\n",
       "      <td>Keshav Kumar</td>\n",
       "      <td>PSO - Ghaziabad</td>\n",
       "      <td>2024</td>\n",
       "    </tr>\n",
       "    <tr>\n",
       "      <th>1026</th>\n",
       "      <td>Shared With Client</td>\n",
       "      <td>Kiran</td>\n",
       "      <td>2024-05-04</td>\n",
       "      <td>Q1</td>\n",
       "      <td>May</td>\n",
       "      <td>Nerolac</td>\n",
       "      <td>Sajia</td>\n",
       "      <td>Jaspreet Singh</td>\n",
       "      <td>TSO - Faridabad</td>\n",
       "      <td>2024</td>\n",
       "    </tr>\n",
       "    <tr>\n",
       "      <th>...</th>\n",
       "      <td>...</td>\n",
       "      <td>...</td>\n",
       "      <td>...</td>\n",
       "      <td>...</td>\n",
       "      <td>...</td>\n",
       "      <td>...</td>\n",
       "      <td>...</td>\n",
       "      <td>...</td>\n",
       "      <td>...</td>\n",
       "      <td>...</td>\n",
       "    </tr>\n",
       "    <tr>\n",
       "      <th>770</th>\n",
       "      <td>Shared With Client</td>\n",
       "      <td>Alankar</td>\n",
       "      <td>2024-04-01</td>\n",
       "      <td>Q1</td>\n",
       "      <td>Apr</td>\n",
       "      <td>Honeywell</td>\n",
       "      <td>Deepak</td>\n",
       "      <td>Sunnit Nayak</td>\n",
       "      <td>ASM- Delhi</td>\n",
       "      <td>2024</td>\n",
       "    </tr>\n",
       "    <tr>\n",
       "      <th>771</th>\n",
       "      <td>Hold by KAM</td>\n",
       "      <td>Alankar</td>\n",
       "      <td>2024-04-01</td>\n",
       "      <td>Q1</td>\n",
       "      <td>Apr</td>\n",
       "      <td>Honeywell</td>\n",
       "      <td>Deepak</td>\n",
       "      <td>Amarendra Singh</td>\n",
       "      <td>ASM- Delhi</td>\n",
       "      <td>2024</td>\n",
       "    </tr>\n",
       "    <tr>\n",
       "      <th>1287</th>\n",
       "      <td>Shared With Client</td>\n",
       "      <td>Ajaz</td>\n",
       "      <td>2024-04-01</td>\n",
       "      <td>Q1</td>\n",
       "      <td>Apr</td>\n",
       "      <td>Dinex</td>\n",
       "      <td>Giri</td>\n",
       "      <td>LIBIN DHAS. C</td>\n",
       "      <td>Batch Process</td>\n",
       "      <td>2024</td>\n",
       "    </tr>\n",
       "    <tr>\n",
       "      <th>1288</th>\n",
       "      <td>Shared With Client</td>\n",
       "      <td>Ajaz</td>\n",
       "      <td>2024-04-01</td>\n",
       "      <td>Q1</td>\n",
       "      <td>Apr</td>\n",
       "      <td>Dinex</td>\n",
       "      <td>Giri</td>\n",
       "      <td>RAMANATHAN M</td>\n",
       "      <td>Batch Process</td>\n",
       "      <td>2024</td>\n",
       "    </tr>\n",
       "    <tr>\n",
       "      <th>1723</th>\n",
       "      <td>Shared With Client</td>\n",
       "      <td>Aastha</td>\n",
       "      <td>2024-04-01</td>\n",
       "      <td>Q1</td>\n",
       "      <td>Apr</td>\n",
       "      <td>Kubota</td>\n",
       "      <td>Rekha</td>\n",
       "      <td>Divakar R</td>\n",
       "      <td>TSM - Madurai</td>\n",
       "      <td>2024</td>\n",
       "    </tr>\n",
       "  </tbody>\n",
       "</table>\n",
       "<p>2041 rows × 10 columns</p>\n",
       "</div>"
      ],
      "text/plain": [
       "                  Status Recruiter        Date Qtr Month     Client     KAM  \\\n",
       "539   Shared With Client    Miloni  2024-05-04  Q1   May    Nerolac   Sajia   \n",
       "540   Shared With Client    Miloni  2024-05-04  Q1   May    Nerolac   Sajia   \n",
       "1024  Shared With Client     Kiran  2024-05-04  Q1   May    Nerolac   Sajia   \n",
       "1025  Shared With Client     Kiran  2024-05-04  Q1   May    Nerolac   Sajia   \n",
       "1026  Shared With Client     Kiran  2024-05-04  Q1   May    Nerolac   Sajia   \n",
       "...                  ...       ...         ...  ..   ...        ...     ...   \n",
       "770   Shared With Client   Alankar  2024-04-01  Q1   Apr  Honeywell  Deepak   \n",
       "771          Hold by KAM   Alankar  2024-04-01  Q1   Apr  Honeywell  Deepak   \n",
       "1287  Shared With Client      Ajaz  2024-04-01  Q1   Apr      Dinex    Giri   \n",
       "1288  Shared With Client      Ajaz  2024-04-01  Q1   Apr      Dinex    Giri   \n",
       "1723  Shared With Client    Aastha  2024-04-01  Q1   Apr     Kubota   Rekha   \n",
       "\n",
       "        CandidateName         Position  Year  \n",
       "539      Sushil Saini         TSO Agra  2024  \n",
       "540       Vipul Kumar     TSO Varanasi  2024  \n",
       "1024     Anshul Kumar  PSO - Ghaziabad  2024  \n",
       "1025     Keshav Kumar  PSO - Ghaziabad  2024  \n",
       "1026   Jaspreet Singh  TSO - Faridabad  2024  \n",
       "...               ...              ...   ...  \n",
       "770      Sunnit Nayak       ASM- Delhi  2024  \n",
       "771   Amarendra Singh       ASM- Delhi  2024  \n",
       "1287    LIBIN DHAS. C    Batch Process  2024  \n",
       "1288     RAMANATHAN M    Batch Process  2024  \n",
       "1723        Divakar R    TSM - Madurai  2024  \n",
       "\n",
       "[2041 rows x 10 columns]"
      ]
     },
     "execution_count": 69,
     "metadata": {},
     "output_type": "execute_result"
    }
   ],
   "source": [
    "df.sort_values(['Date', 'Recruiter'], ascending=False)"
   ]
  },
  {
   "cell_type": "markdown",
   "metadata": {},
   "source": [
    "How to get the max value of a column and the index of that value?"
   ]
  },
  {
   "cell_type": "code",
   "execution_count": 73,
   "metadata": {},
   "outputs": [],
   "source": [
    "max_val , max_index = df['Date'].max(), df['Date'].idxmax()"
   ]
  },
  {
   "cell_type": "code",
   "execution_count": 71,
   "metadata": {},
   "outputs": [
    {
     "data": {
      "text/plain": [
       "535"
      ]
     },
     "execution_count": 71,
     "metadata": {},
     "output_type": "execute_result"
    }
   ],
   "source": []
  },
  {
   "cell_type": "markdown",
   "metadata": {},
   "source": [
    "How can you split a column which contains strings into multiple columns?"
   ]
  },
  {
   "cell_type": "code",
   "execution_count": 82,
   "metadata": {},
   "outputs": [
    {
     "data": {
      "text/html": [
       "<div>\n",
       "<style scoped>\n",
       "    .dataframe tbody tr th:only-of-type {\n",
       "        vertical-align: middle;\n",
       "    }\n",
       "\n",
       "    .dataframe tbody tr th {\n",
       "        vertical-align: top;\n",
       "    }\n",
       "\n",
       "    .dataframe thead th {\n",
       "        text-align: right;\n",
       "    }\n",
       "</style>\n",
       "<table border=\"1\" class=\"dataframe\">\n",
       "  <thead>\n",
       "    <tr style=\"text-align: right;\">\n",
       "      <th></th>\n",
       "      <th>0</th>\n",
       "      <th>1</th>\n",
       "      <th>2</th>\n",
       "      <th>3</th>\n",
       "      <th>4</th>\n",
       "      <th>5</th>\n",
       "      <th>6</th>\n",
       "      <th>7</th>\n",
       "      <th>8</th>\n",
       "      <th>9</th>\n",
       "      <th>10</th>\n",
       "    </tr>\n",
       "  </thead>\n",
       "  <tbody>\n",
       "    <tr>\n",
       "      <th>0</th>\n",
       "      <td>ASM-</td>\n",
       "      <td>Pune</td>\n",
       "      <td>None</td>\n",
       "      <td>None</td>\n",
       "      <td>None</td>\n",
       "      <td>None</td>\n",
       "      <td>None</td>\n",
       "      <td>None</td>\n",
       "      <td>None</td>\n",
       "      <td>None</td>\n",
       "      <td>None</td>\n",
       "    </tr>\n",
       "    <tr>\n",
       "      <th>1</th>\n",
       "      <td>ASM-</td>\n",
       "      <td>Pune</td>\n",
       "      <td>None</td>\n",
       "      <td>None</td>\n",
       "      <td>None</td>\n",
       "      <td>None</td>\n",
       "      <td>None</td>\n",
       "      <td>None</td>\n",
       "      <td>None</td>\n",
       "      <td>None</td>\n",
       "      <td>None</td>\n",
       "    </tr>\n",
       "    <tr>\n",
       "      <th>2</th>\n",
       "      <td>ASM-</td>\n",
       "      <td>Pune</td>\n",
       "      <td>None</td>\n",
       "      <td>None</td>\n",
       "      <td>None</td>\n",
       "      <td>None</td>\n",
       "      <td>None</td>\n",
       "      <td>None</td>\n",
       "      <td>None</td>\n",
       "      <td>None</td>\n",
       "      <td>None</td>\n",
       "    </tr>\n",
       "    <tr>\n",
       "      <th>3</th>\n",
       "      <td>ASM-</td>\n",
       "      <td>Pune</td>\n",
       "      <td>None</td>\n",
       "      <td>None</td>\n",
       "      <td>None</td>\n",
       "      <td>None</td>\n",
       "      <td>None</td>\n",
       "      <td>None</td>\n",
       "      <td>None</td>\n",
       "      <td>None</td>\n",
       "      <td>None</td>\n",
       "    </tr>\n",
       "    <tr>\n",
       "      <th>4</th>\n",
       "      <td>ASM-</td>\n",
       "      <td>Pune</td>\n",
       "      <td>None</td>\n",
       "      <td>None</td>\n",
       "      <td>None</td>\n",
       "      <td>None</td>\n",
       "      <td>None</td>\n",
       "      <td>None</td>\n",
       "      <td>None</td>\n",
       "      <td>None</td>\n",
       "      <td>None</td>\n",
       "    </tr>\n",
       "    <tr>\n",
       "      <th>...</th>\n",
       "      <td>...</td>\n",
       "      <td>...</td>\n",
       "      <td>...</td>\n",
       "      <td>...</td>\n",
       "      <td>...</td>\n",
       "      <td>...</td>\n",
       "      <td>...</td>\n",
       "      <td>...</td>\n",
       "      <td>...</td>\n",
       "      <td>...</td>\n",
       "      <td>...</td>\n",
       "    </tr>\n",
       "    <tr>\n",
       "      <th>2036</th>\n",
       "      <td>Sr.</td>\n",
       "      <td>Engineering</td>\n",
       "      <td>Manager</td>\n",
       "      <td>None</td>\n",
       "      <td>None</td>\n",
       "      <td>None</td>\n",
       "      <td>None</td>\n",
       "      <td>None</td>\n",
       "      <td>None</td>\n",
       "      <td>None</td>\n",
       "      <td>None</td>\n",
       "    </tr>\n",
       "    <tr>\n",
       "      <th>2037</th>\n",
       "      <td>Sr.</td>\n",
       "      <td>Engineering</td>\n",
       "      <td>Manager</td>\n",
       "      <td>None</td>\n",
       "      <td>None</td>\n",
       "      <td>None</td>\n",
       "      <td>None</td>\n",
       "      <td>None</td>\n",
       "      <td>None</td>\n",
       "      <td>None</td>\n",
       "      <td>None</td>\n",
       "    </tr>\n",
       "    <tr>\n",
       "      <th>2038</th>\n",
       "      <td>Assistant</td>\n",
       "      <td>Manager</td>\n",
       "      <td>Marketing</td>\n",
       "      <td>&amp;</td>\n",
       "      <td>Product</td>\n",
       "      <td>Management</td>\n",
       "      <td>None</td>\n",
       "      <td>None</td>\n",
       "      <td>None</td>\n",
       "      <td>None</td>\n",
       "      <td>None</td>\n",
       "    </tr>\n",
       "    <tr>\n",
       "      <th>2039</th>\n",
       "      <td>Assistant</td>\n",
       "      <td>Manager</td>\n",
       "      <td>Marketing</td>\n",
       "      <td>&amp;</td>\n",
       "      <td>Product</td>\n",
       "      <td>Management</td>\n",
       "      <td>None</td>\n",
       "      <td>None</td>\n",
       "      <td>None</td>\n",
       "      <td>None</td>\n",
       "      <td>None</td>\n",
       "    </tr>\n",
       "    <tr>\n",
       "      <th>2040</th>\n",
       "      <td>Material</td>\n",
       "      <td>Planning</td>\n",
       "      <td>None</td>\n",
       "      <td>None</td>\n",
       "      <td>None</td>\n",
       "      <td>None</td>\n",
       "      <td>None</td>\n",
       "      <td>None</td>\n",
       "      <td>None</td>\n",
       "      <td>None</td>\n",
       "      <td>None</td>\n",
       "    </tr>\n",
       "  </tbody>\n",
       "</table>\n",
       "<p>2041 rows × 11 columns</p>\n",
       "</div>"
      ],
      "text/plain": [
       "             0            1          2     3        4           5     6   \\\n",
       "0          ASM-         Pune       None  None     None        None  None   \n",
       "1          ASM-         Pune       None  None     None        None  None   \n",
       "2          ASM-         Pune       None  None     None        None  None   \n",
       "3          ASM-         Pune       None  None     None        None  None   \n",
       "4          ASM-         Pune       None  None     None        None  None   \n",
       "...         ...          ...        ...   ...      ...         ...   ...   \n",
       "2036        Sr.  Engineering    Manager  None     None        None  None   \n",
       "2037        Sr.  Engineering    Manager  None     None        None  None   \n",
       "2038  Assistant      Manager  Marketing     &  Product  Management  None   \n",
       "2039  Assistant      Manager  Marketing     &  Product  Management  None   \n",
       "2040   Material     Planning       None  None     None        None  None   \n",
       "\n",
       "        7     8     9     10  \n",
       "0     None  None  None  None  \n",
       "1     None  None  None  None  \n",
       "2     None  None  None  None  \n",
       "3     None  None  None  None  \n",
       "4     None  None  None  None  \n",
       "...    ...   ...   ...   ...  \n",
       "2036  None  None  None  None  \n",
       "2037  None  None  None  None  \n",
       "2038  None  None  None  None  \n",
       "2039  None  None  None  None  \n",
       "2040  None  None  None  None  \n",
       "\n",
       "[2041 rows x 11 columns]"
      ]
     },
     "execution_count": 82,
     "metadata": {},
     "output_type": "execute_result"
    }
   ],
   "source": [
    "df['Position'].str.split(pat=\" \", expand=True)"
   ]
  },
  {
   "cell_type": "code",
   "execution_count": 83,
   "metadata": {},
   "outputs": [
    {
     "data": {
      "text/html": [
       "<div>\n",
       "<style scoped>\n",
       "    .dataframe tbody tr th:only-of-type {\n",
       "        vertical-align: middle;\n",
       "    }\n",
       "\n",
       "    .dataframe tbody tr th {\n",
       "        vertical-align: top;\n",
       "    }\n",
       "\n",
       "    .dataframe thead th {\n",
       "        text-align: right;\n",
       "    }\n",
       "</style>\n",
       "<table border=\"1\" class=\"dataframe\">\n",
       "  <thead>\n",
       "    <tr style=\"text-align: right;\">\n",
       "      <th></th>\n",
       "      <th>Status</th>\n",
       "      <th>Recruiter</th>\n",
       "      <th>Date</th>\n",
       "      <th>Qtr</th>\n",
       "      <th>Month</th>\n",
       "      <th>Client</th>\n",
       "      <th>KAM</th>\n",
       "      <th>CandidateName</th>\n",
       "      <th>Position</th>\n",
       "      <th>Year</th>\n",
       "    </tr>\n",
       "  </thead>\n",
       "  <tbody>\n",
       "    <tr>\n",
       "      <th>0</th>\n",
       "      <td>L1 Rejected</td>\n",
       "      <td>Sajia</td>\n",
       "      <td>2024-04-01</td>\n",
       "      <td>Q1</td>\n",
       "      <td>Apr</td>\n",
       "      <td>Nerofix</td>\n",
       "      <td>Sajia</td>\n",
       "      <td>Gaurav Tayde</td>\n",
       "      <td>ASM- Pune</td>\n",
       "      <td>2024</td>\n",
       "    </tr>\n",
       "    <tr>\n",
       "      <th>1</th>\n",
       "      <td>Selected</td>\n",
       "      <td>Sajia</td>\n",
       "      <td>2024-04-01</td>\n",
       "      <td>Q1</td>\n",
       "      <td>Apr</td>\n",
       "      <td>Nerofix</td>\n",
       "      <td>Sajia</td>\n",
       "      <td>Deepak Kakade</td>\n",
       "      <td>ASM- Pune</td>\n",
       "      <td>2024</td>\n",
       "    </tr>\n",
       "    <tr>\n",
       "      <th>2</th>\n",
       "      <td>L2 Rejected</td>\n",
       "      <td>Sajia</td>\n",
       "      <td>2024-04-01</td>\n",
       "      <td>Q1</td>\n",
       "      <td>Apr</td>\n",
       "      <td>Nerofix</td>\n",
       "      <td>Sajia</td>\n",
       "      <td>Rupesh Dasharath Mangale</td>\n",
       "      <td>ASM- Pune</td>\n",
       "      <td>2024</td>\n",
       "    </tr>\n",
       "    <tr>\n",
       "      <th>3</th>\n",
       "      <td>L2 Rejected</td>\n",
       "      <td>Sajia</td>\n",
       "      <td>2024-04-01</td>\n",
       "      <td>Q1</td>\n",
       "      <td>Apr</td>\n",
       "      <td>Nerofix</td>\n",
       "      <td>Sajia</td>\n",
       "      <td>Rana Ranjit</td>\n",
       "      <td>ASM- Pune</td>\n",
       "      <td>2024</td>\n",
       "    </tr>\n",
       "    <tr>\n",
       "      <th>4</th>\n",
       "      <td>L2 Rejected</td>\n",
       "      <td>Sajia</td>\n",
       "      <td>2024-04-01</td>\n",
       "      <td>Q1</td>\n",
       "      <td>Apr</td>\n",
       "      <td>Nerofix</td>\n",
       "      <td>Sajia</td>\n",
       "      <td>Sainath Bonde</td>\n",
       "      <td>ASM- Pune</td>\n",
       "      <td>2024</td>\n",
       "    </tr>\n",
       "    <tr>\n",
       "      <th>...</th>\n",
       "      <td>...</td>\n",
       "      <td>...</td>\n",
       "      <td>...</td>\n",
       "      <td>...</td>\n",
       "      <td>...</td>\n",
       "      <td>...</td>\n",
       "      <td>...</td>\n",
       "      <td>...</td>\n",
       "      <td>...</td>\n",
       "      <td>...</td>\n",
       "    </tr>\n",
       "    <tr>\n",
       "      <th>2036</th>\n",
       "      <td>Shared With Client</td>\n",
       "      <td>Divya</td>\n",
       "      <td>2024-05-04</td>\n",
       "      <td>Q1</td>\n",
       "      <td>May</td>\n",
       "      <td>Kubota</td>\n",
       "      <td>Rekha</td>\n",
       "      <td>Surender Kumar</td>\n",
       "      <td>Sr. Engineering Manager</td>\n",
       "      <td>2024</td>\n",
       "    </tr>\n",
       "    <tr>\n",
       "      <th>2037</th>\n",
       "      <td>Shared With Client</td>\n",
       "      <td>Divya</td>\n",
       "      <td>2024-05-04</td>\n",
       "      <td>Q1</td>\n",
       "      <td>May</td>\n",
       "      <td>Kubota</td>\n",
       "      <td>Rekha</td>\n",
       "      <td>Santosh Shivaji</td>\n",
       "      <td>Sr. Engineering Manager</td>\n",
       "      <td>2024</td>\n",
       "    </tr>\n",
       "    <tr>\n",
       "      <th>2038</th>\n",
       "      <td>Shared With Client</td>\n",
       "      <td>Aishwarya</td>\n",
       "      <td>2024-05-04</td>\n",
       "      <td>Q1</td>\n",
       "      <td>May</td>\n",
       "      <td>Kubota</td>\n",
       "      <td>Rekha</td>\n",
       "      <td>Aditya Bhadauria</td>\n",
       "      <td>Assistant Manager Marketing &amp; Product Management</td>\n",
       "      <td>2024</td>\n",
       "    </tr>\n",
       "    <tr>\n",
       "      <th>2039</th>\n",
       "      <td>Shared With Client</td>\n",
       "      <td>Aishwarya</td>\n",
       "      <td>2024-05-04</td>\n",
       "      <td>Q1</td>\n",
       "      <td>May</td>\n",
       "      <td>Kubota</td>\n",
       "      <td>Rekha</td>\n",
       "      <td>Abhinav Lal</td>\n",
       "      <td>Assistant Manager Marketing &amp; Product Management</td>\n",
       "      <td>2024</td>\n",
       "    </tr>\n",
       "    <tr>\n",
       "      <th>2040</th>\n",
       "      <td>Shared With Client</td>\n",
       "      <td>Aishwarya</td>\n",
       "      <td>2024-05-04</td>\n",
       "      <td>Q1</td>\n",
       "      <td>May</td>\n",
       "      <td>Kubota</td>\n",
       "      <td>Rekha</td>\n",
       "      <td>Sai Kumar Maddala</td>\n",
       "      <td>Material Planning</td>\n",
       "      <td>2024</td>\n",
       "    </tr>\n",
       "  </tbody>\n",
       "</table>\n",
       "<p>2041 rows × 10 columns</p>\n",
       "</div>"
      ],
      "text/plain": [
       "                  Status  Recruiter        Date Qtr Month   Client    KAM  \\\n",
       "0            L1 Rejected      Sajia  2024-04-01  Q1   Apr  Nerofix  Sajia   \n",
       "1               Selected      Sajia  2024-04-01  Q1   Apr  Nerofix  Sajia   \n",
       "2            L2 Rejected      Sajia  2024-04-01  Q1   Apr  Nerofix  Sajia   \n",
       "3            L2 Rejected      Sajia  2024-04-01  Q1   Apr  Nerofix  Sajia   \n",
       "4            L2 Rejected      Sajia  2024-04-01  Q1   Apr  Nerofix  Sajia   \n",
       "...                  ...        ...         ...  ..   ...      ...    ...   \n",
       "2036  Shared With Client      Divya  2024-05-04  Q1   May   Kubota  Rekha   \n",
       "2037  Shared With Client      Divya  2024-05-04  Q1   May   Kubota  Rekha   \n",
       "2038  Shared With Client  Aishwarya  2024-05-04  Q1   May   Kubota  Rekha   \n",
       "2039  Shared With Client  Aishwarya  2024-05-04  Q1   May   Kubota  Rekha   \n",
       "2040  Shared With Client  Aishwarya  2024-05-04  Q1   May   Kubota  Rekha   \n",
       "\n",
       "                 CandidateName  \\\n",
       "0                 Gaurav Tayde   \n",
       "1                Deepak Kakade   \n",
       "2     Rupesh Dasharath Mangale   \n",
       "3                  Rana Ranjit   \n",
       "4                Sainath Bonde   \n",
       "...                        ...   \n",
       "2036            Surender Kumar   \n",
       "2037           Santosh Shivaji   \n",
       "2038          Aditya Bhadauria   \n",
       "2039               Abhinav Lal   \n",
       "2040         Sai Kumar Maddala   \n",
       "\n",
       "                                              Position  Year  \n",
       "0                                            ASM- Pune  2024  \n",
       "1                                            ASM- Pune  2024  \n",
       "2                                            ASM- Pune  2024  \n",
       "3                                            ASM- Pune  2024  \n",
       "4                                            ASM- Pune  2024  \n",
       "...                                                ...   ...  \n",
       "2036                           Sr. Engineering Manager  2024  \n",
       "2037                           Sr. Engineering Manager  2024  \n",
       "2038  Assistant Manager Marketing & Product Management  2024  \n",
       "2039  Assistant Manager Marketing & Product Management  2024  \n",
       "2040                                 Material Planning  2024  \n",
       "\n",
       "[2041 rows x 10 columns]"
      ]
     },
     "execution_count": 83,
     "metadata": {},
     "output_type": "execute_result"
    }
   ],
   "source": [
    "df"
   ]
  },
  {
   "cell_type": "code",
   "execution_count": 85,
   "metadata": {},
   "outputs": [],
   "source": [
    "query = '''\n",
    "with cte as (select JoiningMonth, sum(case when JoiningStatus = 'Joined' then 1 else 0 end) as JoinedCount,\n",
    "        sum(case when JoiningStatus = 'Joined' then Billable else 0 end) as JoinedBillable\n",
    "\n",
    "from selections_23 where JoiningMonth in ('Apr', 'May', 'Jun') and JoiningYear = 2023\n",
    "group by JoiningMonth\n",
    "order by \n",
    "case when JoiningMonth = 'Apr' then 1\n",
    "when JoiningMonth = 'May' then 2\n",
    "when JoiningMonth = 'Jun' then 3\n",
    "end),\n",
    "cte_2023 as (select JoiningMonth, sum(case when JoiningStatus = 'Joined' then 1 else 0 end) as JoinedCount,\n",
    "        sum(case when JoiningStatus = 'Joined' then Billable else 0 end) as JoinedBillable\n",
    "\n",
    "from selections where JoiningMonth in ('Apr', 'May', 'Jun') and JoiningYear = 2024\n",
    "group by JoiningMonth\n",
    "order by \n",
    "case when JoiningMonth = 'Apr' then 1\n",
    "when JoiningMonth = 'May' then 2\n",
    "when JoiningMonth = 'Jun' then 3\n",
    "end)\n",
    "\n",
    "\n",
    "select t1.JoiningMonth, t1.JoinedCount as Joined_2023, t2.JoinedCount as Joined_2024, t1.JoinedBillable  as Billable_2023,\n",
    "t2.JoinedBillable as Billable_2024 from cte t1 join cte_2023 t2 on t1.JoiningMonth =  t2.JoiningMonth \n",
    "\n",
    "'''\n",
    "temp = read_sql(query)"
   ]
  },
  {
   "cell_type": "code",
   "execution_count": 87,
   "metadata": {},
   "outputs": [
    {
     "data": {
      "text/html": [
       "<div>\n",
       "<style scoped>\n",
       "    .dataframe tbody tr th:only-of-type {\n",
       "        vertical-align: middle;\n",
       "    }\n",
       "\n",
       "    .dataframe tbody tr th {\n",
       "        vertical-align: top;\n",
       "    }\n",
       "\n",
       "    .dataframe thead th {\n",
       "        text-align: right;\n",
       "    }\n",
       "</style>\n",
       "<table border=\"1\" class=\"dataframe\">\n",
       "  <thead>\n",
       "    <tr style=\"text-align: right;\">\n",
       "      <th></th>\n",
       "      <th>JoiningMonth</th>\n",
       "      <th>Joined_2023</th>\n",
       "      <th>Joined_2024</th>\n",
       "      <th>Billable_2023</th>\n",
       "      <th>Billable_2024</th>\n",
       "    </tr>\n",
       "  </thead>\n",
       "  <tbody>\n",
       "    <tr>\n",
       "      <th>0</th>\n",
       "      <td>Apr</td>\n",
       "      <td>24</td>\n",
       "      <td>35</td>\n",
       "      <td>2052030.00</td>\n",
       "      <td>3581900.00</td>\n",
       "    </tr>\n",
       "    <tr>\n",
       "      <th>1</th>\n",
       "      <td>May</td>\n",
       "      <td>33</td>\n",
       "      <td>4</td>\n",
       "      <td>2730580.00</td>\n",
       "      <td>399840.00</td>\n",
       "    </tr>\n",
       "    <tr>\n",
       "      <th>2</th>\n",
       "      <td>Jun</td>\n",
       "      <td>28</td>\n",
       "      <td>0</td>\n",
       "      <td>2993760.00</td>\n",
       "      <td>0.00</td>\n",
       "    </tr>\n",
       "  </tbody>\n",
       "</table>\n",
       "</div>"
      ],
      "text/plain": [
       "  JoiningMonth Joined_2023 Joined_2024 Billable_2023 Billable_2024\n",
       "0          Apr          24          35    2052030.00    3581900.00\n",
       "1          May          33           4    2730580.00     399840.00\n",
       "2          Jun          28           0    2993760.00          0.00"
      ]
     },
     "execution_count": 87,
     "metadata": {},
     "output_type": "execute_result"
    }
   ],
   "source": [
    "temp"
   ]
  },
  {
   "cell_type": "code",
   "execution_count": 95,
   "metadata": {},
   "outputs": [],
   "source": [
    "cols = list(temp.columns[1:])\n",
    "for i in cols:\n",
    "    temp[i] =  pd.to_numeric(temp[i])"
   ]
  },
  {
   "cell_type": "markdown",
   "metadata": {},
   "source": [
    "How can you get the unique values and their count in an array. Also convert them to a dictionary and sort the dictionary by values highest to lowest"
   ]
  },
  {
   "cell_type": "code",
   "execution_count": 118,
   "metadata": {},
   "outputs": [],
   "source": [
    "names, counts = np.unique(df['Recruiter'].values, return_counts=True)"
   ]
  },
  {
   "cell_type": "code",
   "execution_count": 123,
   "metadata": {},
   "outputs": [],
   "source": [
    "counts_dict = sorted(dict(zip(names, counts)).items(), key=lambda x: x[-1], reverse=True)"
   ]
  },
  {
   "cell_type": "code",
   "execution_count": 124,
   "metadata": {},
   "outputs": [
    {
     "data": {
      "text/plain": [
       "[('Aishwarya', 106),\n",
       " ('Alankar', 95),\n",
       " ('Divya', 90),\n",
       " ('Rahul', 85),\n",
       " ('Nisha', 83),\n",
       " ('Pragya', 83),\n",
       " ('Ashutosh', 80),\n",
       " ('Miloni', 75),\n",
       " ('Kiran', 74),\n",
       " ('Sourav', 70),\n",
       " ('Prajnya', 69),\n",
       " ('Swati', 69),\n",
       " ('Aastha', 68),\n",
       " ('Ashad', 68),\n",
       " ('Ritu S', 68),\n",
       " ('Amit', 65),\n",
       " ('Jahnvi', 64),\n",
       " ('Kamal', 64),\n",
       " ('Damini', 63),\n",
       " ('Rakshita', 60),\n",
       " ('Aryan', 59),\n",
       " ('Monika', 59),\n",
       " ('Mehul', 55),\n",
       " ('Aradhana', 54),\n",
       " ('Ayushi', 46),\n",
       " ('Raksha', 43),\n",
       " ('Jagriti', 42),\n",
       " ('Vishal', 41),\n",
       " ('Anjali', 32),\n",
       " ('Ajaz', 31),\n",
       " ('Jayanti', 31),\n",
       " ('Sajia', 29),\n",
       " ('Niharika', 14),\n",
       " ('Deepak', 5),\n",
       " ('Argha', 1)]"
      ]
     },
     "execution_count": 124,
     "metadata": {},
     "output_type": "execute_result"
    }
   ],
   "source": [
    "counts_dict"
   ]
  },
  {
   "cell_type": "code",
   "execution_count": null,
   "metadata": {},
   "outputs": [],
   "source": []
  }
 ],
 "metadata": {
  "kernelspec": {
   "display_name": "Python 3",
   "language": "python",
   "name": "python3"
  },
  "language_info": {
   "codemirror_mode": {
    "name": "ipython",
    "version": 3
   },
   "file_extension": ".py",
   "mimetype": "text/x-python",
   "name": "python",
   "nbconvert_exporter": "python",
   "pygments_lexer": "ipython3",
   "version": "3.12.3"
  }
 },
 "nbformat": 4,
 "nbformat_minor": 2
}
