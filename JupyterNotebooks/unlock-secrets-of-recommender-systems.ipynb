{
 "cells": [
  {
   "cell_type": "markdown",
   "id": "cbc10cc9",
   "metadata": {
    "papermill": {
     "duration": 0.010333,
     "end_time": "2022-12-26T15:47:20.506016",
     "exception": false,
     "start_time": "2022-12-26T15:47:20.495683",
     "status": "completed"
    },
    "tags": []
   },
   "source": [
    "<center> <h1> Enter the World of Personalized Experiences with Recommender Systems! </h1> </center>\n",
    "\n",
    "A **recommender system** is a type of *information filtering system* that predicts user preferences and provides personalized recommendations. It is a system that produces a list of items (such as books, movies, music, etc.) that are most likely to be of interest to a user based on their past behavior and preferences.\n",
    "\n",
    "- Recommender systems are **required** because they help to **narrow the large amount** of data and products available online, allowing users to **discover the most relevant** content for them. \n",
    "\n",
    "- Recommender systems use data such as previous purchases, user profiles, and browsing habits to create **personalized recommendations** that are tailored to each individual user. \n",
    "\n",
    "- They can help to **increase** customer engagement, reduce customer churn, and increase sales by providing users with content that is **most likely** to be of interest or use to them.\n",
    "\n",
    "<center>\n",
    "<img src=\"https://res.cloudinary.com/practicaldev/image/fetch/s--06MuXVrA--/c_imagga_scale,f_auto,fl_progressive,h_420,q_auto,w_1000/https://dev-to-uploads.s3.amazonaws.com/i/vzed0zlhmfwbgdzxp2qo.png\" width=800>\n",
    "</center>\n",
    "\n",
    "\n",
    "The concept of recommender systems can be traced back to the early 1990s when researchers began to explore ways to **improve the search** and **navigation of digital libraries**. The first commercial recommender system was developed by Corbis Corporation in 1993. This system, called the **Corbis Recommender**, used collaborative filtering to recommend images to users based on their past selections.\n",
    "\n",
    "In 1997, **Amazon** released its first product recommendation engine, which used collaborative filtering to recommend books based on users’ past purchases and ratings. Since then, recommender systems have become **increasingly popular**, and today they are **used** in a variety of industries, such as retail, media, entertainment, and travel.\n",
    "\n",
    "In the early 2000s, researchers began to explore more **sophisticated methods of personalization**, such as content-based filtering and hybrid recommender systems. **Content-based filtering** uses the attributes of an item to make recommendations, while hybrid systems combine multiple algorithms to make more accurate predictions.\n",
    "\n",
    "In the 2010s, researchers began to explore new applications of recommender systems, such as social recommendation, personalized search, and context-aware recommendation. **Social recommendation systems** leverage users’ social networks to make more accurate recommendations. **Personalized search systems** aim to return search results that are tailored to the user’s individual interests. **Context-aware recommendation** systems use contextual information, such as the user’s location or the time of day, to make more accurate recommendations.\n",
    "\n",
    "Today, recommender systems are **ubiquitous** and are used to recommend products, services, and content to users in a variety of industries."
   ]
  },
  {
   "cell_type": "code",
   "execution_count": 1,
   "id": "5067d783",
   "metadata": {
    "execution": {
     "iopub.execute_input": "2022-12-26T15:47:20.526611Z",
     "iopub.status.busy": "2022-12-26T15:47:20.525972Z",
     "iopub.status.idle": "2022-12-26T15:47:23.520818Z",
     "shell.execute_reply": "2022-12-26T15:47:23.519412Z"
    },
    "papermill": {
     "duration": 3.008289,
     "end_time": "2022-12-26T15:47:23.523592",
     "exception": false,
     "start_time": "2022-12-26T15:47:20.515303",
     "status": "completed"
    },
    "tags": []
   },
   "outputs": [
    {
     "name": "stdout",
     "output_type": "stream",
     "text": [
      "Downloading movielens data...\n",
      "Data ready to be used. It contains  100000 rows  and 34 columns \n"
     ]
    }
   ],
   "source": [
    "import numpy as np\n",
    "import pandas as pd\n",
    "from matplotlib import pyplot as plt\n",
    "import seaborn as sns\n",
    "from urllib.request import urlretrieve\n",
    "import zipfile\n",
    "import warnings\n",
    "warnings.filterwarnings(\"ignore\")\n",
    "plt.rcParams['font.size'] = 14\n",
    "plt.rcParams['figure.figsize'] = (22, 5)\n",
    "plt.rcParams['figure.dpi'] = 100\n",
    "\n",
    "print(\"Downloading movielens data...\")\n",
    "urlretrieve(\"http://files.grouplens.org/datasets/movielens/ml-100k.zip\", \"movielens.zip\")\n",
    "zip_ref = zipfile.ZipFile('movielens.zip', \"r\")\n",
    "zip_ref.extractall()\n",
    "\n",
    "# Load each data set (users, movies, and ratings).\n",
    "users_cols = ['user_id', 'age', 'sex', 'occupation', 'zip_code']\n",
    "users = pd.read_csv('ml-100k/u.user', sep='|', names=users_cols, encoding='latin-1')\n",
    "\n",
    "ratings_cols = ['user_id', 'movie_id', 'rating', 'unix_timestamp']\n",
    "ratings = pd.read_csv(\n",
    "    'ml-100k/u.data', sep='\\t', names=ratings_cols, encoding='latin-1')\n",
    "\n",
    "# The movies file contains a binary feature for each genre.\n",
    "genre_cols = [\"genre_unknown\", \"Action\", \"Adventure\", \"Animation\", \"Children\", \"Comedy\",\n",
    "    \"Crime\", \"Documentary\", \"Drama\", \"Fantasy\", \"Film-Noir\", \"Horror\",\n",
    "    \"Musical\", \"Mystery\", \"Romance\", \"Sci-Fi\", \"Thriller\", \"War\", \"Western\"]\n",
    "\n",
    "movies_cols = ['movie_id', 'title', 'release_date', \"video_release_date\", \"imdb_url\"] + genre_cols\n",
    "movies = pd.read_csv( 'ml-100k/u.item', sep='|', names=movies_cols, encoding='latin-1')\n",
    "\n",
    "# Since the ids start at 1, we shift them to start at 0.\n",
    "users[\"user_id\"] = users[\"user_id\"].apply(lambda x: str(x-1))\n",
    "movies[\"movie_id\"] = movies[\"movie_id\"].apply(lambda x: str(x-1))\n",
    "movies[\"year\"] = movies['release_date'].apply(lambda x: str(x).split('-')[-1])\n",
    "ratings[\"movie_id\"] = ratings[\"movie_id\"].apply(lambda x: str(x-1))\n",
    "ratings[\"user_id\"] = ratings[\"user_id\"].apply(lambda x: str(x-1))\n",
    "ratings[\"rating\"] = ratings[\"rating\"].apply(lambda x: float(x))\n",
    "\n",
    "# Compute the number of movies to which a genre is assigned.\n",
    "genre_occurences = movies[genre_cols].sum().to_dict()\n",
    "\n",
    "# Since some movies can belong to more than one genre, we create different\n",
    "# 'genre' columns as follows:\n",
    "# - all_genres: all the active genres of the movie.\n",
    "# - genre: randomly sampled from the active genres.\n",
    "\n",
    "def mark_genres(movies, genres):\n",
    "    def get_random_genre(gs):\n",
    "        active = [genre for genre, g in zip(genres, gs) if g==1]\n",
    "        if len(active) == 0:\n",
    "            return 'Other'\n",
    "        return np.random.choice(active)\n",
    "    \n",
    "    def get_all_genres(gs):\n",
    "        active = [genre for genre, g in zip(genres, gs) if g==1]\n",
    "        if len(active) == 0:\n",
    "            return 'Other'\n",
    "        return '-'.join(active)\n",
    "    movies['genre'] = [\n",
    "      get_random_genre(gs) for gs in zip(*[movies[genre] for genre in genres])]\n",
    "    movies['all_genres'] = [\n",
    "      get_all_genres(gs) for gs in zip(*[movies[genre] for genre in genres])]\n",
    "\n",
    "mark_genres(movies, genre_cols)\n",
    "\n",
    "# Create one merged DataFrame containing allaa the movielens data.\n",
    "movielens = ratings.merge(movies, on='movie_id').merge(users, on='user_id')\n",
    "\n",
    "#printing the shape of the dataset\n",
    "print(f'Data ready to be used. It contains  {movielens.shape[0]} rows  and {movielens.shape[1]} columns ')"
   ]
  },
  {
   "cell_type": "code",
   "execution_count": 2,
   "id": "16157835",
   "metadata": {
    "execution": {
     "iopub.execute_input": "2022-12-26T15:47:23.544060Z",
     "iopub.status.busy": "2022-12-26T15:47:23.543649Z",
     "iopub.status.idle": "2022-12-26T15:47:23.577223Z",
     "shell.execute_reply": "2022-12-26T15:47:23.576297Z"
    },
    "papermill": {
     "duration": 0.046755,
     "end_time": "2022-12-26T15:47:23.579634",
     "exception": false,
     "start_time": "2022-12-26T15:47:23.532879",
     "status": "completed"
    },
    "tags": []
   },
   "outputs": [
    {
     "data": {
      "text/html": [
       "<div>\n",
       "<style scoped>\n",
       "    .dataframe tbody tr th:only-of-type {\n",
       "        vertical-align: middle;\n",
       "    }\n",
       "\n",
       "    .dataframe tbody tr th {\n",
       "        vertical-align: top;\n",
       "    }\n",
       "\n",
       "    .dataframe thead th {\n",
       "        text-align: right;\n",
       "    }\n",
       "</style>\n",
       "<table border=\"1\" class=\"dataframe\">\n",
       "  <thead>\n",
       "    <tr style=\"text-align: right;\">\n",
       "      <th></th>\n",
       "      <th>user_id</th>\n",
       "      <th>movie_id</th>\n",
       "      <th>rating</th>\n",
       "      <th>unix_timestamp</th>\n",
       "      <th>title</th>\n",
       "      <th>release_date</th>\n",
       "      <th>video_release_date</th>\n",
       "      <th>imdb_url</th>\n",
       "      <th>genre_unknown</th>\n",
       "      <th>Action</th>\n",
       "      <th>...</th>\n",
       "      <th>Thriller</th>\n",
       "      <th>War</th>\n",
       "      <th>Western</th>\n",
       "      <th>year</th>\n",
       "      <th>genre</th>\n",
       "      <th>all_genres</th>\n",
       "      <th>age</th>\n",
       "      <th>sex</th>\n",
       "      <th>occupation</th>\n",
       "      <th>zip_code</th>\n",
       "    </tr>\n",
       "  </thead>\n",
       "  <tbody>\n",
       "    <tr>\n",
       "      <th>0</th>\n",
       "      <td>195</td>\n",
       "      <td>241</td>\n",
       "      <td>3.0</td>\n",
       "      <td>881250949</td>\n",
       "      <td>Kolya (1996)</td>\n",
       "      <td>24-Jan-1997</td>\n",
       "      <td>NaN</td>\n",
       "      <td>http://us.imdb.com/M/title-exact?Kolya%20(1996)</td>\n",
       "      <td>0</td>\n",
       "      <td>0</td>\n",
       "      <td>...</td>\n",
       "      <td>0</td>\n",
       "      <td>0</td>\n",
       "      <td>0</td>\n",
       "      <td>1997</td>\n",
       "      <td>Comedy</td>\n",
       "      <td>Comedy</td>\n",
       "      <td>49</td>\n",
       "      <td>M</td>\n",
       "      <td>writer</td>\n",
       "      <td>55105</td>\n",
       "    </tr>\n",
       "    <tr>\n",
       "      <th>1</th>\n",
       "      <td>195</td>\n",
       "      <td>256</td>\n",
       "      <td>2.0</td>\n",
       "      <td>881251577</td>\n",
       "      <td>Men in Black (1997)</td>\n",
       "      <td>04-Jul-1997</td>\n",
       "      <td>NaN</td>\n",
       "      <td>http://us.imdb.com/M/title-exact?Men+in+Black+...</td>\n",
       "      <td>0</td>\n",
       "      <td>1</td>\n",
       "      <td>...</td>\n",
       "      <td>0</td>\n",
       "      <td>0</td>\n",
       "      <td>0</td>\n",
       "      <td>1997</td>\n",
       "      <td>Comedy</td>\n",
       "      <td>Action-Adventure-Comedy-Sci-Fi</td>\n",
       "      <td>49</td>\n",
       "      <td>M</td>\n",
       "      <td>writer</td>\n",
       "      <td>55105</td>\n",
       "    </tr>\n",
       "    <tr>\n",
       "      <th>2</th>\n",
       "      <td>195</td>\n",
       "      <td>110</td>\n",
       "      <td>4.0</td>\n",
       "      <td>881251793</td>\n",
       "      <td>Truth About Cats &amp; Dogs, The (1996)</td>\n",
       "      <td>26-Apr-1996</td>\n",
       "      <td>NaN</td>\n",
       "      <td>http://us.imdb.com/M/title-exact?Truth%20About...</td>\n",
       "      <td>0</td>\n",
       "      <td>0</td>\n",
       "      <td>...</td>\n",
       "      <td>0</td>\n",
       "      <td>0</td>\n",
       "      <td>0</td>\n",
       "      <td>1996</td>\n",
       "      <td>Comedy</td>\n",
       "      <td>Comedy-Romance</td>\n",
       "      <td>49</td>\n",
       "      <td>M</td>\n",
       "      <td>writer</td>\n",
       "      <td>55105</td>\n",
       "    </tr>\n",
       "    <tr>\n",
       "      <th>3</th>\n",
       "      <td>195</td>\n",
       "      <td>24</td>\n",
       "      <td>4.0</td>\n",
       "      <td>881251955</td>\n",
       "      <td>Birdcage, The (1996)</td>\n",
       "      <td>08-Mar-1996</td>\n",
       "      <td>NaN</td>\n",
       "      <td>http://us.imdb.com/M/title-exact?Birdcage,%20T...</td>\n",
       "      <td>0</td>\n",
       "      <td>0</td>\n",
       "      <td>...</td>\n",
       "      <td>0</td>\n",
       "      <td>0</td>\n",
       "      <td>0</td>\n",
       "      <td>1996</td>\n",
       "      <td>Comedy</td>\n",
       "      <td>Comedy</td>\n",
       "      <td>49</td>\n",
       "      <td>M</td>\n",
       "      <td>writer</td>\n",
       "      <td>55105</td>\n",
       "    </tr>\n",
       "    <tr>\n",
       "      <th>4</th>\n",
       "      <td>195</td>\n",
       "      <td>381</td>\n",
       "      <td>4.0</td>\n",
       "      <td>881251843</td>\n",
       "      <td>Adventures of Priscilla, Queen of the Desert, ...</td>\n",
       "      <td>01-Jan-1994</td>\n",
       "      <td>NaN</td>\n",
       "      <td>http://us.imdb.com/M/title-exact?Adventures%20...</td>\n",
       "      <td>0</td>\n",
       "      <td>0</td>\n",
       "      <td>...</td>\n",
       "      <td>0</td>\n",
       "      <td>0</td>\n",
       "      <td>0</td>\n",
       "      <td>1994</td>\n",
       "      <td>Drama</td>\n",
       "      <td>Comedy-Drama</td>\n",
       "      <td>49</td>\n",
       "      <td>M</td>\n",
       "      <td>writer</td>\n",
       "      <td>55105</td>\n",
       "    </tr>\n",
       "  </tbody>\n",
       "</table>\n",
       "<p>5 rows × 34 columns</p>\n",
       "</div>"
      ],
      "text/plain": [
       "  user_id movie_id  rating  unix_timestamp  \\\n",
       "0     195      241     3.0       881250949   \n",
       "1     195      256     2.0       881251577   \n",
       "2     195      110     4.0       881251793   \n",
       "3     195       24     4.0       881251955   \n",
       "4     195      381     4.0       881251843   \n",
       "\n",
       "                                               title release_date  \\\n",
       "0                                       Kolya (1996)  24-Jan-1997   \n",
       "1                                Men in Black (1997)  04-Jul-1997   \n",
       "2                Truth About Cats & Dogs, The (1996)  26-Apr-1996   \n",
       "3                               Birdcage, The (1996)  08-Mar-1996   \n",
       "4  Adventures of Priscilla, Queen of the Desert, ...  01-Jan-1994   \n",
       "\n",
       "   video_release_date                                           imdb_url  \\\n",
       "0                 NaN    http://us.imdb.com/M/title-exact?Kolya%20(1996)   \n",
       "1                 NaN  http://us.imdb.com/M/title-exact?Men+in+Black+...   \n",
       "2                 NaN  http://us.imdb.com/M/title-exact?Truth%20About...   \n",
       "3                 NaN  http://us.imdb.com/M/title-exact?Birdcage,%20T...   \n",
       "4                 NaN  http://us.imdb.com/M/title-exact?Adventures%20...   \n",
       "\n",
       "   genre_unknown  Action  ...  Thriller  War  Western  year   genre  \\\n",
       "0              0       0  ...         0    0        0  1997  Comedy   \n",
       "1              0       1  ...         0    0        0  1997  Comedy   \n",
       "2              0       0  ...         0    0        0  1996  Comedy   \n",
       "3              0       0  ...         0    0        0  1996  Comedy   \n",
       "4              0       0  ...         0    0        0  1994   Drama   \n",
       "\n",
       "                       all_genres  age  sex  occupation  zip_code  \n",
       "0                          Comedy   49    M      writer     55105  \n",
       "1  Action-Adventure-Comedy-Sci-Fi   49    M      writer     55105  \n",
       "2                  Comedy-Romance   49    M      writer     55105  \n",
       "3                          Comedy   49    M      writer     55105  \n",
       "4                    Comedy-Drama   49    M      writer     55105  \n",
       "\n",
       "[5 rows x 34 columns]"
      ]
     },
     "execution_count": 2,
     "metadata": {},
     "output_type": "execute_result"
    }
   ],
   "source": [
    "movielens.head()"
   ]
  },
  {
   "cell_type": "markdown",
   "id": "063d760b",
   "metadata": {
    "papermill": {
     "duration": 0.008691,
     "end_time": "2022-12-26T15:47:23.597388",
     "exception": false,
     "start_time": "2022-12-26T15:47:23.588697",
     "status": "completed"
    },
    "tags": []
   },
   "source": [
    "## Exploratory Data Analysis"
   ]
  },
  {
   "cell_type": "code",
   "execution_count": 3,
   "id": "fec69495",
   "metadata": {
    "execution": {
     "iopub.execute_input": "2022-12-26T15:47:23.617669Z",
     "iopub.status.busy": "2022-12-26T15:47:23.617218Z",
     "iopub.status.idle": "2022-12-26T15:47:24.454084Z",
     "shell.execute_reply": "2022-12-26T15:47:24.452748Z"
    },
    "papermill": {
     "duration": 0.850169,
     "end_time": "2022-12-26T15:47:24.456612",
     "exception": false,
     "start_time": "2022-12-26T15:47:23.606443",
     "status": "completed"
    },
    "tags": []
   },
   "outputs": [
    {
     "data": {
      "image/png": "[encoded data removed]",
      "text/plain": [
       "<Figure size 2200x500 with 1 Axes>"
      ]
     },
     "metadata": {
      "needs_background": "light"
     },
     "output_type": "display_data"
    }
   ],
   "source": [
    "sns.distplot(movielens['age'])\n",
    "plt.gca().spines['top'].set_visible(False)\n",
    "plt.gca().spines['right'].set_visible(False)\n",
    "plt.title('Age distribution of the users', fontsize=20)\n",
    "plt.show()"
   ]
  },
  {
   "cell_type": "code",
   "execution_count": 4,
   "id": "6b7bc15b",
   "metadata": {
    "execution": {
     "iopub.execute_input": "2022-12-26T15:47:24.480772Z",
     "iopub.status.busy": "2022-12-26T15:47:24.480379Z",
     "iopub.status.idle": "2022-12-26T15:47:24.927468Z",
     "shell.execute_reply": "2022-12-26T15:47:24.925516Z"
    },
    "papermill": {
     "duration": 0.461993,
     "end_time": "2022-12-26T15:47:24.930535",
     "exception": false,
     "start_time": "2022-12-26T15:47:24.468542",
     "status": "completed"
    },
    "tags": []
   },
   "outputs": [
    {
     "data": {
      "image/png": "[encoded data removed]",
      "text/plain": [
       "<Figure size 2200x500 with 1 Axes>"
      ]
     },
     "metadata": {
      "needs_background": "light"
     },
     "output_type": "display_data"
    }
   ],
   "source": [
    "sns.countplot(movielens['occupation'])\n",
    "plt.gca().spines['top'].set_visible(False)\n",
    "plt.gca().spines['right'].set_visible(False)\n",
    "plt.xticks(rotation=45)\n",
    "plt.title('Distribution of the occupation of the users', fontsize=20)\n",
    "plt.show()"
   ]
  },
  {
   "cell_type": "code",
   "execution_count": 5,
   "id": "4ff9b86a",
   "metadata": {
    "execution": {
     "iopub.execute_input": "2022-12-26T15:47:24.956049Z",
     "iopub.status.busy": "2022-12-26T15:47:24.955595Z",
     "iopub.status.idle": "2022-12-26T15:47:26.661757Z",
     "shell.execute_reply": "2022-12-26T15:47:26.660541Z"
    },
    "papermill": {
     "duration": 1.722406,
     "end_time": "2022-12-26T15:47:26.664992",
     "exception": false,
     "start_time": "2022-12-26T15:47:24.942586",
     "status": "completed"
    },
    "tags": []
   },
   "outputs": [
    {
     "data": {
      "image/png": "[encoded data removed]",
      "text/plain": [
       "<Figure size 2500x700 with 1 Axes>"
      ]
     },
     "metadata": {
      "needs_background": "light"
     },
     "output_type": "display_data"
    }
   ],
   "source": [
    "plt.figure(figsize=(25,7))\n",
    "sns.histplot(data=movielens, x='year', y='genre', hue='genre', legend=False)\n",
    "plt.gca().spines['top'].set_visible(False)\n",
    "plt.gca().spines['right'].set_visible(False)\n",
    "plt.xticks(rotation=90)\n",
    "plt.show()"
   ]
  },
  {
   "cell_type": "code",
   "execution_count": 6,
   "id": "d6c4b924",
   "metadata": {
    "execution": {
     "iopub.execute_input": "2022-12-26T15:47:26.692883Z",
     "iopub.status.busy": "2022-12-26T15:47:26.692139Z",
     "iopub.status.idle": "2022-12-26T15:47:27.170422Z",
     "shell.execute_reply": "2022-12-26T15:47:27.169329Z"
    },
    "papermill": {
     "duration": 0.494638,
     "end_time": "2022-12-26T15:47:27.172862",
     "exception": false,
     "start_time": "2022-12-26T15:47:26.678224",
     "status": "completed"
    },
    "tags": []
   },
   "outputs": [
    {
     "data": {
      "image/png": "[encoded data removed]",
      "text/plain": [
       "<Figure size 2200x500 with 1 Axes>"
      ]
     },
     "metadata": {
      "needs_background": "light"
     },
     "output_type": "display_data"
    }
   ],
   "source": [
    "#Visualizing the ratings\n",
    "sns.histplot(data = movielens, x='rating', color='lightgray')\n",
    "\n",
    "plt.gca().spines['top'].set_visible(False)\n",
    "plt.gca().spines['right'].set_visible(False)\n",
    "\n",
    "plt.axvline(movielens['rating'].mean(), linestyle='--', lw=3, zorder=1, color='red')\n",
    "plt.annotate(f'Mean', (movielens['rating'].mean()+0.05, 20000), fontsize=15, color='red')\n",
    "\n",
    "plt.title('Distribution of Movie Rating', fontsize=18)\n",
    "\n",
    "plt.show()"
   ]
  },
  {
   "cell_type": "markdown",
   "id": "9cc5a6cf",
   "metadata": {
    "papermill": {
     "duration": 0.013196,
     "end_time": "2022-12-26T15:47:27.199308",
     "exception": false,
     "start_time": "2022-12-26T15:47:27.186112",
     "status": "completed"
    },
    "tags": []
   },
   "source": [
    "\n",
    "**Content-based recommender systems** are a type of recommendation system that uses the characteristics of an item to recommend other items with similar characteristics. \n",
    "- This system uses item metadata such as genre, category, description, etc., to recommend items to users. \n",
    "- It recommends items that are similar to what a user has liked in the past. This type of recommender system is often used in retail, movies, music, and books.\n",
    "\n",
    "![](https://miro.medium.com/max/1064/1*mz9tzP1LjPBhmiWXeHyQkQ.png)\n",
    "\n",
    "**Collaborative filtering recommender systems** are algorithms that make predictions about the ratings or preferences a user may give to an item based on the ratings and preferences of other users. \n",
    "- It is a type of algorithm that takes into account **the opinions of others** to generate recommendations for a given user.\n",
    "- Collaborative filtering is a **popular approach** for building recommender systems as it **does not require** any additional information about the items or users and can be easily scaled to large datasets."
   ]
  },
  {
   "cell_type": "markdown",
   "id": "21cfab0d",
   "metadata": {
    "papermill": {
     "duration": 0.012559,
     "end_time": "2022-12-26T15:47:27.224805",
     "exception": false,
     "start_time": "2022-12-26T15:47:27.212246",
     "status": "completed"
    },
    "tags": []
   },
   "source": [
    "## Filtering by AvgRating\n",
    "\n",
    "- Filtering data based on average rating helps to identify **which items are most popular** and/or highly rated. This allows a recommender system to better personalize its recommendations to a user by suggesting items that are likely to be of higher quality or **more likely to be enjoyed** by the user. \n",
    "\n",
    "- By filtering data based on average rating, a recommender system can ensure that it is only suggesting items to a user that have **some level of popularity** or quality."
   ]
  },
  {
   "cell_type": "code",
   "execution_count": 7,
   "id": "08d02d4a",
   "metadata": {
    "execution": {
     "iopub.execute_input": "2022-12-26T15:47:27.252676Z",
     "iopub.status.busy": "2022-12-26T15:47:27.252215Z",
     "iopub.status.idle": "2022-12-26T15:47:27.628325Z",
     "shell.execute_reply": "2022-12-26T15:47:27.626720Z"
    },
    "papermill": {
     "duration": 0.393504,
     "end_time": "2022-12-26T15:47:27.631423",
     "exception": false,
     "start_time": "2022-12-26T15:47:27.237919",
     "status": "completed"
    },
    "tags": []
   },
   "outputs": [],
   "source": [
    "#grouping the data based on user id and getting the count of ratings users have given\n",
    "numRatings = movielens.groupby(['user_id']).count()['rating']\n",
    "#Resetting the index of numRatings DataFrame\n",
    "numRatings = numRatings.reset_index()\n",
    "#Converting the user_id to integer data type\n",
    "movielens['user_id'] = movielens['user_id'].astype('int')\n",
    "#Converting the user_id to integer data type\n",
    "numRatings['user_id'] = numRatings['user_id'].astype('int')\n",
    "#Merging the two dataframes\n",
    "df = movielens.merge(numRatings, left_on='user_id', right_on='user_id')"
   ]
  },
  {
   "cell_type": "code",
   "execution_count": 8,
   "id": "a1b7baa6",
   "metadata": {
    "execution": {
     "iopub.execute_input": "2022-12-26T15:47:27.659878Z",
     "iopub.status.busy": "2022-12-26T15:47:27.659447Z",
     "iopub.status.idle": "2022-12-26T15:47:27.665847Z",
     "shell.execute_reply": "2022-12-26T15:47:27.664638Z"
    },
    "papermill": {
     "duration": 0.02355,
     "end_time": "2022-12-26T15:47:27.668237",
     "exception": false,
     "start_time": "2022-12-26T15:47:27.644687",
     "status": "completed"
    },
    "tags": []
   },
   "outputs": [],
   "source": [
    "#Renaming columns to much more readable and reusable names\n",
    "df.rename(columns = {'rating_x':'rating'}, inplace = True)\n",
    "df.rename(columns = {'rating_y':'numRatings'}, inplace = True)"
   ]
  },
  {
   "cell_type": "code",
   "execution_count": 9,
   "id": "7a15c34f",
   "metadata": {
    "execution": {
     "iopub.execute_input": "2022-12-26T15:47:27.696425Z",
     "iopub.status.busy": "2022-12-26T15:47:27.696013Z",
     "iopub.status.idle": "2022-12-26T15:47:28.205850Z",
     "shell.execute_reply": "2022-12-26T15:47:28.204640Z"
    },
    "papermill": {
     "duration": 0.526987,
     "end_time": "2022-12-26T15:47:28.208501",
     "exception": false,
     "start_time": "2022-12-26T15:47:27.681514",
     "status": "completed"
    },
    "tags": []
   },
   "outputs": [
    {
     "data": {
      "text/html": [
       "<div>\n",
       "<style scoped>\n",
       "    .dataframe tbody tr th:only-of-type {\n",
       "        vertical-align: middle;\n",
       "    }\n",
       "\n",
       "    .dataframe tbody tr th {\n",
       "        vertical-align: top;\n",
       "    }\n",
       "\n",
       "    .dataframe thead th {\n",
       "        text-align: right;\n",
       "    }\n",
       "</style>\n",
       "<table border=\"1\" class=\"dataframe\">\n",
       "  <thead>\n",
       "    <tr style=\"text-align: right;\">\n",
       "      <th></th>\n",
       "      <th>user_id</th>\n",
       "      <th>movie_id</th>\n",
       "      <th>rating</th>\n",
       "      <th>unix_timestamp</th>\n",
       "      <th>title</th>\n",
       "      <th>release_date</th>\n",
       "      <th>video_release_date</th>\n",
       "      <th>imdb_url</th>\n",
       "      <th>genre_unknown</th>\n",
       "      <th>Action</th>\n",
       "      <th>...</th>\n",
       "      <th>Western</th>\n",
       "      <th>year</th>\n",
       "      <th>genre</th>\n",
       "      <th>all_genres</th>\n",
       "      <th>age</th>\n",
       "      <th>sex</th>\n",
       "      <th>occupation</th>\n",
       "      <th>zip_code</th>\n",
       "      <th>numRatings</th>\n",
       "      <th>avgRating</th>\n",
       "    </tr>\n",
       "  </thead>\n",
       "  <tbody>\n",
       "    <tr>\n",
       "      <th>0</th>\n",
       "      <td>195</td>\n",
       "      <td>241</td>\n",
       "      <td>3.0</td>\n",
       "      <td>881250949</td>\n",
       "      <td>Kolya (1996)</td>\n",
       "      <td>24-Jan-1997</td>\n",
       "      <td>NaN</td>\n",
       "      <td>http://us.imdb.com/M/title-exact?Kolya%20(1996)</td>\n",
       "      <td>0</td>\n",
       "      <td>0</td>\n",
       "      <td>...</td>\n",
       "      <td>0</td>\n",
       "      <td>1997</td>\n",
       "      <td>Comedy</td>\n",
       "      <td>Comedy</td>\n",
       "      <td>49</td>\n",
       "      <td>M</td>\n",
       "      <td>writer</td>\n",
       "      <td>55105</td>\n",
       "      <td>39</td>\n",
       "      <td>3.99</td>\n",
       "    </tr>\n",
       "    <tr>\n",
       "      <th>1</th>\n",
       "      <td>62</td>\n",
       "      <td>241</td>\n",
       "      <td>3.0</td>\n",
       "      <td>875747190</td>\n",
       "      <td>Kolya (1996)</td>\n",
       "      <td>24-Jan-1997</td>\n",
       "      <td>NaN</td>\n",
       "      <td>http://us.imdb.com/M/title-exact?Kolya%20(1996)</td>\n",
       "      <td>0</td>\n",
       "      <td>0</td>\n",
       "      <td>...</td>\n",
       "      <td>0</td>\n",
       "      <td>1997</td>\n",
       "      <td>Comedy</td>\n",
       "      <td>Comedy</td>\n",
       "      <td>31</td>\n",
       "      <td>M</td>\n",
       "      <td>marketing</td>\n",
       "      <td>75240</td>\n",
       "      <td>93</td>\n",
       "      <td>3.99</td>\n",
       "    </tr>\n",
       "    <tr>\n",
       "      <th>2</th>\n",
       "      <td>225</td>\n",
       "      <td>241</td>\n",
       "      <td>5.0</td>\n",
       "      <td>883888671</td>\n",
       "      <td>Kolya (1996)</td>\n",
       "      <td>24-Jan-1997</td>\n",
       "      <td>NaN</td>\n",
       "      <td>http://us.imdb.com/M/title-exact?Kolya%20(1996)</td>\n",
       "      <td>0</td>\n",
       "      <td>0</td>\n",
       "      <td>...</td>\n",
       "      <td>0</td>\n",
       "      <td>1997</td>\n",
       "      <td>Comedy</td>\n",
       "      <td>Comedy</td>\n",
       "      <td>28</td>\n",
       "      <td>M</td>\n",
       "      <td>student</td>\n",
       "      <td>92103</td>\n",
       "      <td>50</td>\n",
       "      <td>3.99</td>\n",
       "    </tr>\n",
       "    <tr>\n",
       "      <th>3</th>\n",
       "      <td>153</td>\n",
       "      <td>241</td>\n",
       "      <td>3.0</td>\n",
       "      <td>879138235</td>\n",
       "      <td>Kolya (1996)</td>\n",
       "      <td>24-Jan-1997</td>\n",
       "      <td>NaN</td>\n",
       "      <td>http://us.imdb.com/M/title-exact?Kolya%20(1996)</td>\n",
       "      <td>0</td>\n",
       "      <td>0</td>\n",
       "      <td>...</td>\n",
       "      <td>0</td>\n",
       "      <td>1997</td>\n",
       "      <td>Comedy</td>\n",
       "      <td>Comedy</td>\n",
       "      <td>25</td>\n",
       "      <td>M</td>\n",
       "      <td>student</td>\n",
       "      <td>53703</td>\n",
       "      <td>51</td>\n",
       "      <td>3.99</td>\n",
       "    </tr>\n",
       "    <tr>\n",
       "      <th>4</th>\n",
       "      <td>305</td>\n",
       "      <td>241</td>\n",
       "      <td>5.0</td>\n",
       "      <td>876503793</td>\n",
       "      <td>Kolya (1996)</td>\n",
       "      <td>24-Jan-1997</td>\n",
       "      <td>NaN</td>\n",
       "      <td>http://us.imdb.com/M/title-exact?Kolya%20(1996)</td>\n",
       "      <td>0</td>\n",
       "      <td>0</td>\n",
       "      <td>...</td>\n",
       "      <td>0</td>\n",
       "      <td>1997</td>\n",
       "      <td>Comedy</td>\n",
       "      <td>Comedy</td>\n",
       "      <td>45</td>\n",
       "      <td>M</td>\n",
       "      <td>other</td>\n",
       "      <td>73132</td>\n",
       "      <td>32</td>\n",
       "      <td>3.99</td>\n",
       "    </tr>\n",
       "    <tr>\n",
       "      <th>...</th>\n",
       "      <td>...</td>\n",
       "      <td>...</td>\n",
       "      <td>...</td>\n",
       "      <td>...</td>\n",
       "      <td>...</td>\n",
       "      <td>...</td>\n",
       "      <td>...</td>\n",
       "      <td>...</td>\n",
       "      <td>...</td>\n",
       "      <td>...</td>\n",
       "      <td>...</td>\n",
       "      <td>...</td>\n",
       "      <td>...</td>\n",
       "      <td>...</td>\n",
       "      <td>...</td>\n",
       "      <td>...</td>\n",
       "      <td>...</td>\n",
       "      <td>...</td>\n",
       "      <td>...</td>\n",
       "      <td>...</td>\n",
       "      <td>...</td>\n",
       "    </tr>\n",
       "    <tr>\n",
       "      <th>99995</th>\n",
       "      <td>166</td>\n",
       "      <td>1309</td>\n",
       "      <td>3.0</td>\n",
       "      <td>892738384</td>\n",
       "      <td>Walk in the Sun, A (1945)</td>\n",
       "      <td>01-Jan-1945</td>\n",
       "      <td>NaN</td>\n",
       "      <td>http://us.imdb.com/M/title-exact?Walk%20in%20t...</td>\n",
       "      <td>0</td>\n",
       "      <td>0</td>\n",
       "      <td>...</td>\n",
       "      <td>0</td>\n",
       "      <td>1945</td>\n",
       "      <td>Drama</td>\n",
       "      <td>Drama</td>\n",
       "      <td>37</td>\n",
       "      <td>M</td>\n",
       "      <td>other</td>\n",
       "      <td>L9G2B</td>\n",
       "      <td>69</td>\n",
       "      <td>3.00</td>\n",
       "    </tr>\n",
       "    <tr>\n",
       "      <th>99996</th>\n",
       "      <td>495</td>\n",
       "      <td>1613</td>\n",
       "      <td>3.0</td>\n",
       "      <td>876070690</td>\n",
       "      <td>Reluctant Debutante, The (1958)</td>\n",
       "      <td>01-Jan-1958</td>\n",
       "      <td>NaN</td>\n",
       "      <td>http://us.imdb.com/M/title-exact?Reluctant%20D...</td>\n",
       "      <td>0</td>\n",
       "      <td>0</td>\n",
       "      <td>...</td>\n",
       "      <td>0</td>\n",
       "      <td>1958</td>\n",
       "      <td>Comedy</td>\n",
       "      <td>Comedy-Drama</td>\n",
       "      <td>21</td>\n",
       "      <td>F</td>\n",
       "      <td>student</td>\n",
       "      <td>55414</td>\n",
       "      <td>129</td>\n",
       "      <td>3.00</td>\n",
       "    </tr>\n",
       "    <tr>\n",
       "      <th>99997</th>\n",
       "      <td>290</td>\n",
       "      <td>1504</td>\n",
       "      <td>4.0</td>\n",
       "      <td>874868647</td>\n",
       "      <td>Killer: A Journal of Murder (1995)</td>\n",
       "      <td>06-Sep-1996</td>\n",
       "      <td>NaN</td>\n",
       "      <td>http://us.imdb.com/M/title-exact?Killer:%20A%2...</td>\n",
       "      <td>0</td>\n",
       "      <td>0</td>\n",
       "      <td>...</td>\n",
       "      <td>0</td>\n",
       "      <td>1996</td>\n",
       "      <td>Crime</td>\n",
       "      <td>Crime-Drama</td>\n",
       "      <td>19</td>\n",
       "      <td>M</td>\n",
       "      <td>student</td>\n",
       "      <td>44106</td>\n",
       "      <td>296</td>\n",
       "      <td>4.00</td>\n",
       "    </tr>\n",
       "    <tr>\n",
       "      <th>99998</th>\n",
       "      <td>380</td>\n",
       "      <td>1532</td>\n",
       "      <td>4.0</td>\n",
       "      <td>892696106</td>\n",
       "      <td>I Don't Want to Talk About It (De eso no se ha...</td>\n",
       "      <td>01-Jan-1993</td>\n",
       "      <td>NaN</td>\n",
       "      <td>http://us.imdb.com/M/title-exact?De%20Eso%20No...</td>\n",
       "      <td>0</td>\n",
       "      <td>0</td>\n",
       "      <td>...</td>\n",
       "      <td>0</td>\n",
       "      <td>1993</td>\n",
       "      <td>Drama</td>\n",
       "      <td>Drama</td>\n",
       "      <td>33</td>\n",
       "      <td>M</td>\n",
       "      <td>artist</td>\n",
       "      <td>94608</td>\n",
       "      <td>127</td>\n",
       "      <td>4.00</td>\n",
       "    </tr>\n",
       "    <tr>\n",
       "      <th>99999</th>\n",
       "      <td>527</td>\n",
       "      <td>1617</td>\n",
       "      <td>1.0</td>\n",
       "      <td>888521905</td>\n",
       "      <td>King of New York (1990)</td>\n",
       "      <td>01-Jan-1990</td>\n",
       "      <td>NaN</td>\n",
       "      <td>http://us.imdb.com/Title?King+of+New+York+(1990)</td>\n",
       "      <td>0</td>\n",
       "      <td>1</td>\n",
       "      <td>...</td>\n",
       "      <td>0</td>\n",
       "      <td>1990</td>\n",
       "      <td>Crime</td>\n",
       "      <td>Action-Crime</td>\n",
       "      <td>18</td>\n",
       "      <td>M</td>\n",
       "      <td>student</td>\n",
       "      <td>55104</td>\n",
       "      <td>53</td>\n",
       "      <td>1.00</td>\n",
       "    </tr>\n",
       "  </tbody>\n",
       "</table>\n",
       "<p>100000 rows × 36 columns</p>\n",
       "</div>"
      ],
      "text/plain": [
       "       user_id movie_id  rating  unix_timestamp  \\\n",
       "0          195      241     3.0       881250949   \n",
       "1           62      241     3.0       875747190   \n",
       "2          225      241     5.0       883888671   \n",
       "3          153      241     3.0       879138235   \n",
       "4          305      241     5.0       876503793   \n",
       "...        ...      ...     ...             ...   \n",
       "99995      166     1309     3.0       892738384   \n",
       "99996      495     1613     3.0       876070690   \n",
       "99997      290     1504     4.0       874868647   \n",
       "99998      380     1532     4.0       892696106   \n",
       "99999      527     1617     1.0       888521905   \n",
       "\n",
       "                                                   title release_date  \\\n",
       "0                                           Kolya (1996)  24-Jan-1997   \n",
       "1                                           Kolya (1996)  24-Jan-1997   \n",
       "2                                           Kolya (1996)  24-Jan-1997   \n",
       "3                                           Kolya (1996)  24-Jan-1997   \n",
       "4                                           Kolya (1996)  24-Jan-1997   \n",
       "...                                                  ...          ...   \n",
       "99995                          Walk in the Sun, A (1945)  01-Jan-1945   \n",
       "99996                    Reluctant Debutante, The (1958)  01-Jan-1958   \n",
       "99997                 Killer: A Journal of Murder (1995)  06-Sep-1996   \n",
       "99998  I Don't Want to Talk About It (De eso no se ha...  01-Jan-1993   \n",
       "99999                            King of New York (1990)  01-Jan-1990   \n",
       "\n",
       "       video_release_date                                           imdb_url  \\\n",
       "0                     NaN    http://us.imdb.com/M/title-exact?Kolya%20(1996)   \n",
       "1                     NaN    http://us.imdb.com/M/title-exact?Kolya%20(1996)   \n",
       "2                     NaN    http://us.imdb.com/M/title-exact?Kolya%20(1996)   \n",
       "3                     NaN    http://us.imdb.com/M/title-exact?Kolya%20(1996)   \n",
       "4                     NaN    http://us.imdb.com/M/title-exact?Kolya%20(1996)   \n",
       "...                   ...                                                ...   \n",
       "99995                 NaN  http://us.imdb.com/M/title-exact?Walk%20in%20t...   \n",
       "99996                 NaN  http://us.imdb.com/M/title-exact?Reluctant%20D...   \n",
       "99997                 NaN  http://us.imdb.com/M/title-exact?Killer:%20A%2...   \n",
       "99998                 NaN  http://us.imdb.com/M/title-exact?De%20Eso%20No...   \n",
       "99999                 NaN   http://us.imdb.com/Title?King+of+New+York+(1990)   \n",
       "\n",
       "       genre_unknown  Action  ...  Western  year   genre    all_genres  age  \\\n",
       "0                  0       0  ...        0  1997  Comedy        Comedy   49   \n",
       "1                  0       0  ...        0  1997  Comedy        Comedy   31   \n",
       "2                  0       0  ...        0  1997  Comedy        Comedy   28   \n",
       "3                  0       0  ...        0  1997  Comedy        Comedy   25   \n",
       "4                  0       0  ...        0  1997  Comedy        Comedy   45   \n",
       "...              ...     ...  ...      ...   ...     ...           ...  ...   \n",
       "99995              0       0  ...        0  1945   Drama         Drama   37   \n",
       "99996              0       0  ...        0  1958  Comedy  Comedy-Drama   21   \n",
       "99997              0       0  ...        0  1996   Crime   Crime-Drama   19   \n",
       "99998              0       0  ...        0  1993   Drama         Drama   33   \n",
       "99999              0       1  ...        0  1990   Crime  Action-Crime   18   \n",
       "\n",
       "       sex  occupation  zip_code  numRatings  avgRating  \n",
       "0        M      writer     55105          39       3.99  \n",
       "1        M   marketing     75240          93       3.99  \n",
       "2        M     student     92103          50       3.99  \n",
       "3        M     student     53703          51       3.99  \n",
       "4        M       other     73132          32       3.99  \n",
       "...    ...         ...       ...         ...        ...  \n",
       "99995    M       other     L9G2B          69       3.00  \n",
       "99996    F     student     55414         129       3.00  \n",
       "99997    M     student     44106         296       4.00  \n",
       "99998    M      artist     94608         127       4.00  \n",
       "99999    M     student     55104          53       1.00  \n",
       "\n",
       "[100000 rows x 36 columns]"
      ]
     },
     "execution_count": 9,
     "metadata": {},
     "output_type": "execute_result"
    }
   ],
   "source": [
    "#Creating a dataframe by grouping the movies and fetching their mean rating\n",
    "avg_rating = df.groupby(['movie_id']).mean()['rating']\n",
    "#resetting the index of the dataframe so we can merge this dataframe\n",
    "avg_rating = avg_rating.reset_index()\n",
    "#Merging the dataframe to get our final dataframe\n",
    "df= df.merge(avg_rating, left_on='movie_id', right_on='movie_id')\n",
    "#Renaming columns to much more readable and reusable names\n",
    "df.rename(columns = {'rating_x':'rating', 'rating_y':'avgRating'}, inplace = True)\n",
    "#Rounding off the avgRating to 2 decimal places\n",
    "df['avgRating'] = round(df['avgRating'],2)\n",
    "df"
   ]
  },
  {
   "cell_type": "code",
   "execution_count": 10,
   "id": "bd863a57",
   "metadata": {
    "execution": {
     "iopub.execute_input": "2022-12-26T15:47:28.237864Z",
     "iopub.status.busy": "2022-12-26T15:47:28.237431Z",
     "iopub.status.idle": "2022-12-26T15:47:28.298504Z",
     "shell.execute_reply": "2022-12-26T15:47:28.297266Z"
    },
    "papermill": {
     "duration": 0.078889,
     "end_time": "2022-12-26T15:47:28.301113",
     "exception": false,
     "start_time": "2022-12-26T15:47:28.222224",
     "status": "completed"
    },
    "tags": []
   },
   "outputs": [],
   "source": [
    "#filtering the data here\n",
    "df = df[df['avgRating']>2]"
   ]
  },
  {
   "cell_type": "markdown",
   "id": "bffc1567",
   "metadata": {
    "papermill": {
     "duration": 0.01322,
     "end_time": "2022-12-26T15:47:28.327923",
     "exception": false,
     "start_time": "2022-12-26T15:47:28.314703",
     "status": "completed"
    },
    "tags": []
   },
   "source": [
    "Majority of the ratings are within 3.3 and 4 and the average avgRating is 3.5"
   ]
  },
  {
   "cell_type": "markdown",
   "id": "7362f165",
   "metadata": {
    "papermill": {
     "duration": 0.013044,
     "end_time": "2022-12-26T15:47:28.354291",
     "exception": false,
     "start_time": "2022-12-26T15:47:28.341247",
     "status": "completed"
    },
    "tags": []
   },
   "source": [
    "## Filtering by Number of Ratings\n",
    "\n",
    "- Filtering data based on the number of ratings is **important** in recommender systems because it helps to ensure that the recommendations given are of high quality. \n",
    "\n",
    "- Having a minimum number of ratings for an item **helps to ensure** that the item is being recommended based on real user feedback, and not just on the basis of some random factors. \n",
    "\n",
    "- This also helps to **reduce the potential for bias** in the system, as items with fewer ratings may be more likely to be recommended on the basis of their own attributes, rather than on the basis of user feedback."
   ]
  },
  {
   "cell_type": "code",
   "execution_count": 11,
   "id": "8215c47f",
   "metadata": {
    "execution": {
     "iopub.execute_input": "2022-12-26T15:47:28.383806Z",
     "iopub.status.busy": "2022-12-26T15:47:28.382797Z",
     "iopub.status.idle": "2022-12-26T15:47:28.412783Z",
     "shell.execute_reply": "2022-12-26T15:47:28.411624Z"
    },
    "papermill": {
     "duration": 0.047833,
     "end_time": "2022-12-26T15:47:28.415615",
     "exception": false,
     "start_time": "2022-12-26T15:47:28.367782",
     "status": "completed"
    },
    "tags": []
   },
   "outputs": [],
   "source": [
    "#Filtering the ratings where movies have gotten atleast 100 ratings by the users.\n",
    "df = df[df['numRatings']>100]"
   ]
  },
  {
   "cell_type": "code",
   "execution_count": 12,
   "id": "c543d354",
   "metadata": {
    "execution": {
     "iopub.execute_input": "2022-12-26T15:47:28.444075Z",
     "iopub.status.busy": "2022-12-26T15:47:28.443663Z",
     "iopub.status.idle": "2022-12-26T15:47:28.534807Z",
     "shell.execute_reply": "2022-12-26T15:47:28.532960Z"
    },
    "papermill": {
     "duration": 0.108265,
     "end_time": "2022-12-26T15:47:28.537337",
     "exception": false,
     "start_time": "2022-12-26T15:47:28.429072",
     "status": "completed"
    },
    "tags": []
   },
   "outputs": [
    {
     "data": {
      "text/html": [
       "<div>\n",
       "<style scoped>\n",
       "    .dataframe tbody tr th:only-of-type {\n",
       "        vertical-align: middle;\n",
       "    }\n",
       "\n",
       "    .dataframe tbody tr th {\n",
       "        vertical-align: top;\n",
       "    }\n",
       "\n",
       "    .dataframe thead th {\n",
       "        text-align: right;\n",
       "    }\n",
       "</style>\n",
       "<table border=\"1\" class=\"dataframe\">\n",
       "  <thead>\n",
       "    <tr style=\"text-align: right;\">\n",
       "      <th></th>\n",
       "      <th>user_id</th>\n",
       "      <th>movie_id</th>\n",
       "      <th>rating</th>\n",
       "      <th>unix_timestamp</th>\n",
       "      <th>title</th>\n",
       "      <th>release_date</th>\n",
       "      <th>video_release_date</th>\n",
       "      <th>imdb_url</th>\n",
       "      <th>genre_unknown</th>\n",
       "      <th>Action</th>\n",
       "      <th>...</th>\n",
       "      <th>Western</th>\n",
       "      <th>year</th>\n",
       "      <th>genre</th>\n",
       "      <th>all_genres</th>\n",
       "      <th>age</th>\n",
       "      <th>sex</th>\n",
       "      <th>occupation</th>\n",
       "      <th>zip_code</th>\n",
       "      <th>numRatings</th>\n",
       "      <th>avgRating</th>\n",
       "    </tr>\n",
       "  </thead>\n",
       "  <tbody>\n",
       "    <tr>\n",
       "      <th>5</th>\n",
       "      <td>295</td>\n",
       "      <td>241</td>\n",
       "      <td>4.0</td>\n",
       "      <td>884196057</td>\n",
       "      <td>Kolya (1996)</td>\n",
       "      <td>24-Jan-1997</td>\n",
       "      <td>NaN</td>\n",
       "      <td>http://us.imdb.com/M/title-exact?Kolya%20(1996)</td>\n",
       "      <td>0</td>\n",
       "      <td>0</td>\n",
       "      <td>...</td>\n",
       "      <td>0</td>\n",
       "      <td>1997</td>\n",
       "      <td>Comedy</td>\n",
       "      <td>Comedy</td>\n",
       "      <td>43</td>\n",
       "      <td>F</td>\n",
       "      <td>administrator</td>\n",
       "      <td>16803</td>\n",
       "      <td>147</td>\n",
       "      <td>3.99</td>\n",
       "    </tr>\n",
       "    <tr>\n",
       "      <th>7</th>\n",
       "      <td>270</td>\n",
       "      <td>241</td>\n",
       "      <td>4.0</td>\n",
       "      <td>885844495</td>\n",
       "      <td>Kolya (1996)</td>\n",
       "      <td>24-Jan-1997</td>\n",
       "      <td>NaN</td>\n",
       "      <td>http://us.imdb.com/M/title-exact?Kolya%20(1996)</td>\n",
       "      <td>0</td>\n",
       "      <td>0</td>\n",
       "      <td>...</td>\n",
       "      <td>0</td>\n",
       "      <td>1997</td>\n",
       "      <td>Comedy</td>\n",
       "      <td>Comedy</td>\n",
       "      <td>51</td>\n",
       "      <td>M</td>\n",
       "      <td>engineer</td>\n",
       "      <td>22932</td>\n",
       "      <td>278</td>\n",
       "      <td>3.99</td>\n",
       "    </tr>\n",
       "    <tr>\n",
       "      <th>8</th>\n",
       "      <td>200</td>\n",
       "      <td>241</td>\n",
       "      <td>4.0</td>\n",
       "      <td>884110598</td>\n",
       "      <td>Kolya (1996)</td>\n",
       "      <td>24-Jan-1997</td>\n",
       "      <td>NaN</td>\n",
       "      <td>http://us.imdb.com/M/title-exact?Kolya%20(1996)</td>\n",
       "      <td>0</td>\n",
       "      <td>0</td>\n",
       "      <td>...</td>\n",
       "      <td>0</td>\n",
       "      <td>1997</td>\n",
       "      <td>Comedy</td>\n",
       "      <td>Comedy</td>\n",
       "      <td>27</td>\n",
       "      <td>M</td>\n",
       "      <td>writer</td>\n",
       "      <td>E2A4H</td>\n",
       "      <td>386</td>\n",
       "      <td>3.99</td>\n",
       "    </tr>\n",
       "    <tr>\n",
       "      <th>11</th>\n",
       "      <td>353</td>\n",
       "      <td>241</td>\n",
       "      <td>5.0</td>\n",
       "      <td>891180399</td>\n",
       "      <td>Kolya (1996)</td>\n",
       "      <td>24-Jan-1997</td>\n",
       "      <td>NaN</td>\n",
       "      <td>http://us.imdb.com/M/title-exact?Kolya%20(1996)</td>\n",
       "      <td>0</td>\n",
       "      <td>0</td>\n",
       "      <td>...</td>\n",
       "      <td>0</td>\n",
       "      <td>1997</td>\n",
       "      <td>Comedy</td>\n",
       "      <td>Comedy</td>\n",
       "      <td>29</td>\n",
       "      <td>F</td>\n",
       "      <td>librarian</td>\n",
       "      <td>48197</td>\n",
       "      <td>233</td>\n",
       "      <td>3.99</td>\n",
       "    </tr>\n",
       "    <tr>\n",
       "      <th>14</th>\n",
       "      <td>0</td>\n",
       "      <td>241</td>\n",
       "      <td>5.0</td>\n",
       "      <td>889751633</td>\n",
       "      <td>Kolya (1996)</td>\n",
       "      <td>24-Jan-1997</td>\n",
       "      <td>NaN</td>\n",
       "      <td>http://us.imdb.com/M/title-exact?Kolya%20(1996)</td>\n",
       "      <td>0</td>\n",
       "      <td>0</td>\n",
       "      <td>...</td>\n",
       "      <td>0</td>\n",
       "      <td>1997</td>\n",
       "      <td>Comedy</td>\n",
       "      <td>Comedy</td>\n",
       "      <td>24</td>\n",
       "      <td>M</td>\n",
       "      <td>technician</td>\n",
       "      <td>85711</td>\n",
       "      <td>272</td>\n",
       "      <td>3.99</td>\n",
       "    </tr>\n",
       "    <tr>\n",
       "      <th>...</th>\n",
       "      <td>...</td>\n",
       "      <td>...</td>\n",
       "      <td>...</td>\n",
       "      <td>...</td>\n",
       "      <td>...</td>\n",
       "      <td>...</td>\n",
       "      <td>...</td>\n",
       "      <td>...</td>\n",
       "      <td>...</td>\n",
       "      <td>...</td>\n",
       "      <td>...</td>\n",
       "      <td>...</td>\n",
       "      <td>...</td>\n",
       "      <td>...</td>\n",
       "      <td>...</td>\n",
       "      <td>...</td>\n",
       "      <td>...</td>\n",
       "      <td>...</td>\n",
       "      <td>...</td>\n",
       "      <td>...</td>\n",
       "      <td>...</td>\n",
       "    </tr>\n",
       "    <tr>\n",
       "      <th>99992</th>\n",
       "      <td>307</td>\n",
       "      <td>1514</td>\n",
       "      <td>4.0</td>\n",
       "      <td>887738346</td>\n",
       "      <td>Wings of Courage (1995)</td>\n",
       "      <td>01-Jan-1995</td>\n",
       "      <td>NaN</td>\n",
       "      <td>http://us.imdb.com/M/title-exact?Wings%20of%20...</td>\n",
       "      <td>0</td>\n",
       "      <td>0</td>\n",
       "      <td>...</td>\n",
       "      <td>0</td>\n",
       "      <td>1995</td>\n",
       "      <td>Adventure</td>\n",
       "      <td>Adventure-Romance</td>\n",
       "      <td>60</td>\n",
       "      <td>M</td>\n",
       "      <td>retired</td>\n",
       "      <td>95076</td>\n",
       "      <td>397</td>\n",
       "      <td>4.00</td>\n",
       "    </tr>\n",
       "    <tr>\n",
       "      <th>99993</th>\n",
       "      <td>834</td>\n",
       "      <td>1672</td>\n",
       "      <td>3.0</td>\n",
       "      <td>891034023</td>\n",
       "      <td>Mirage (1995)</td>\n",
       "      <td>01-Jan-1995</td>\n",
       "      <td>NaN</td>\n",
       "      <td>http://us.imdb.com/M/title-exact?Mirage%20(1995)</td>\n",
       "      <td>0</td>\n",
       "      <td>1</td>\n",
       "      <td>...</td>\n",
       "      <td>0</td>\n",
       "      <td>1995</td>\n",
       "      <td>Action</td>\n",
       "      <td>Action-Thriller</td>\n",
       "      <td>44</td>\n",
       "      <td>F</td>\n",
       "      <td>executive</td>\n",
       "      <td>11577</td>\n",
       "      <td>102</td>\n",
       "      <td>3.00</td>\n",
       "    </tr>\n",
       "    <tr>\n",
       "      <th>99996</th>\n",
       "      <td>495</td>\n",
       "      <td>1613</td>\n",
       "      <td>3.0</td>\n",
       "      <td>876070690</td>\n",
       "      <td>Reluctant Debutante, The (1958)</td>\n",
       "      <td>01-Jan-1958</td>\n",
       "      <td>NaN</td>\n",
       "      <td>http://us.imdb.com/M/title-exact?Reluctant%20D...</td>\n",
       "      <td>0</td>\n",
       "      <td>0</td>\n",
       "      <td>...</td>\n",
       "      <td>0</td>\n",
       "      <td>1958</td>\n",
       "      <td>Comedy</td>\n",
       "      <td>Comedy-Drama</td>\n",
       "      <td>21</td>\n",
       "      <td>F</td>\n",
       "      <td>student</td>\n",
       "      <td>55414</td>\n",
       "      <td>129</td>\n",
       "      <td>3.00</td>\n",
       "    </tr>\n",
       "    <tr>\n",
       "      <th>99997</th>\n",
       "      <td>290</td>\n",
       "      <td>1504</td>\n",
       "      <td>4.0</td>\n",
       "      <td>874868647</td>\n",
       "      <td>Killer: A Journal of Murder (1995)</td>\n",
       "      <td>06-Sep-1996</td>\n",
       "      <td>NaN</td>\n",
       "      <td>http://us.imdb.com/M/title-exact?Killer:%20A%2...</td>\n",
       "      <td>0</td>\n",
       "      <td>0</td>\n",
       "      <td>...</td>\n",
       "      <td>0</td>\n",
       "      <td>1996</td>\n",
       "      <td>Crime</td>\n",
       "      <td>Crime-Drama</td>\n",
       "      <td>19</td>\n",
       "      <td>M</td>\n",
       "      <td>student</td>\n",
       "      <td>44106</td>\n",
       "      <td>296</td>\n",
       "      <td>4.00</td>\n",
       "    </tr>\n",
       "    <tr>\n",
       "      <th>99998</th>\n",
       "      <td>380</td>\n",
       "      <td>1532</td>\n",
       "      <td>4.0</td>\n",
       "      <td>892696106</td>\n",
       "      <td>I Don't Want to Talk About It (De eso no se ha...</td>\n",
       "      <td>01-Jan-1993</td>\n",
       "      <td>NaN</td>\n",
       "      <td>http://us.imdb.com/M/title-exact?De%20Eso%20No...</td>\n",
       "      <td>0</td>\n",
       "      <td>0</td>\n",
       "      <td>...</td>\n",
       "      <td>0</td>\n",
       "      <td>1993</td>\n",
       "      <td>Drama</td>\n",
       "      <td>Drama</td>\n",
       "      <td>33</td>\n",
       "      <td>M</td>\n",
       "      <td>artist</td>\n",
       "      <td>94608</td>\n",
       "      <td>127</td>\n",
       "      <td>4.00</td>\n",
       "    </tr>\n",
       "  </tbody>\n",
       "</table>\n",
       "<p>73469 rows × 36 columns</p>\n",
       "</div>"
      ],
      "text/plain": [
       "       user_id movie_id  rating  unix_timestamp  \\\n",
       "5          295      241     4.0       884196057   \n",
       "7          270      241     4.0       885844495   \n",
       "8          200      241     4.0       884110598   \n",
       "11         353      241     5.0       891180399   \n",
       "14           0      241     5.0       889751633   \n",
       "...        ...      ...     ...             ...   \n",
       "99992      307     1514     4.0       887738346   \n",
       "99993      834     1672     3.0       891034023   \n",
       "99996      495     1613     3.0       876070690   \n",
       "99997      290     1504     4.0       874868647   \n",
       "99998      380     1532     4.0       892696106   \n",
       "\n",
       "                                                   title release_date  \\\n",
       "5                                           Kolya (1996)  24-Jan-1997   \n",
       "7                                           Kolya (1996)  24-Jan-1997   \n",
       "8                                           Kolya (1996)  24-Jan-1997   \n",
       "11                                          Kolya (1996)  24-Jan-1997   \n",
       "14                                          Kolya (1996)  24-Jan-1997   \n",
       "...                                                  ...          ...   \n",
       "99992                            Wings of Courage (1995)  01-Jan-1995   \n",
       "99993                                      Mirage (1995)  01-Jan-1995   \n",
       "99996                    Reluctant Debutante, The (1958)  01-Jan-1958   \n",
       "99997                 Killer: A Journal of Murder (1995)  06-Sep-1996   \n",
       "99998  I Don't Want to Talk About It (De eso no se ha...  01-Jan-1993   \n",
       "\n",
       "       video_release_date                                           imdb_url  \\\n",
       "5                     NaN    http://us.imdb.com/M/title-exact?Kolya%20(1996)   \n",
       "7                     NaN    http://us.imdb.com/M/title-exact?Kolya%20(1996)   \n",
       "8                     NaN    http://us.imdb.com/M/title-exact?Kolya%20(1996)   \n",
       "11                    NaN    http://us.imdb.com/M/title-exact?Kolya%20(1996)   \n",
       "14                    NaN    http://us.imdb.com/M/title-exact?Kolya%20(1996)   \n",
       "...                   ...                                                ...   \n",
       "99992                 NaN  http://us.imdb.com/M/title-exact?Wings%20of%20...   \n",
       "99993                 NaN   http://us.imdb.com/M/title-exact?Mirage%20(1995)   \n",
       "99996                 NaN  http://us.imdb.com/M/title-exact?Reluctant%20D...   \n",
       "99997                 NaN  http://us.imdb.com/M/title-exact?Killer:%20A%2...   \n",
       "99998                 NaN  http://us.imdb.com/M/title-exact?De%20Eso%20No...   \n",
       "\n",
       "       genre_unknown  Action  ...  Western  year      genre  \\\n",
       "5                  0       0  ...        0  1997     Comedy   \n",
       "7                  0       0  ...        0  1997     Comedy   \n",
       "8                  0       0  ...        0  1997     Comedy   \n",
       "11                 0       0  ...        0  1997     Comedy   \n",
       "14                 0       0  ...        0  1997     Comedy   \n",
       "...              ...     ...  ...      ...   ...        ...   \n",
       "99992              0       0  ...        0  1995  Adventure   \n",
       "99993              0       1  ...        0  1995     Action   \n",
       "99996              0       0  ...        0  1958     Comedy   \n",
       "99997              0       0  ...        0  1996      Crime   \n",
       "99998              0       0  ...        0  1993      Drama   \n",
       "\n",
       "              all_genres  age  sex     occupation  zip_code  numRatings  \\\n",
       "5                 Comedy   43    F  administrator     16803         147   \n",
       "7                 Comedy   51    M       engineer     22932         278   \n",
       "8                 Comedy   27    M         writer     E2A4H         386   \n",
       "11                Comedy   29    F      librarian     48197         233   \n",
       "14                Comedy   24    M     technician     85711         272   \n",
       "...                  ...  ...  ...            ...       ...         ...   \n",
       "99992  Adventure-Romance   60    M        retired     95076         397   \n",
       "99993    Action-Thriller   44    F      executive     11577         102   \n",
       "99996       Comedy-Drama   21    F        student     55414         129   \n",
       "99997        Crime-Drama   19    M        student     44106         296   \n",
       "99998              Drama   33    M         artist     94608         127   \n",
       "\n",
       "       avgRating  \n",
       "5           3.99  \n",
       "7           3.99  \n",
       "8           3.99  \n",
       "11          3.99  \n",
       "14          3.99  \n",
       "...          ...  \n",
       "99992       4.00  \n",
       "99993       3.00  \n",
       "99996       3.00  \n",
       "99997       4.00  \n",
       "99998       4.00  \n",
       "\n",
       "[73469 rows x 36 columns]"
      ]
     },
     "execution_count": 12,
     "metadata": {},
     "output_type": "execute_result"
    }
   ],
   "source": [
    "df"
   ]
  },
  {
   "cell_type": "code",
   "execution_count": 13,
   "id": "71256c4d",
   "metadata": {
    "execution": {
     "iopub.execute_input": "2022-12-26T15:47:28.567194Z",
     "iopub.status.busy": "2022-12-26T15:47:28.566754Z",
     "iopub.status.idle": "2022-12-26T15:47:29.568298Z",
     "shell.execute_reply": "2022-12-26T15:47:29.567093Z"
    },
    "papermill": {
     "duration": 1.01982,
     "end_time": "2022-12-26T15:47:29.571271",
     "exception": false,
     "start_time": "2022-12-26T15:47:28.551451",
     "status": "completed"
    },
    "tags": []
   },
   "outputs": [
    {
     "data": {
      "image/png": "[encoded data removed]",
      "text/plain": [
       "<Figure size 600x600 with 3 Axes>"
      ]
     },
     "metadata": {
      "needs_background": "light"
     },
     "output_type": "display_data"
    }
   ],
   "source": [
    "#Creating a jointplot of the numRatings and rating\n",
    "sns.jointplot(x='rating', y='numRatings', data=df, alpha=0.4)\n",
    "plt.gca().spines['top'].set_visible(False)\n",
    "plt.gca().spines['right'].set_visible(False);\n",
    "plt.ylabel('Number of Movie Ratings')\n",
    "plt.show()"
   ]
  },
  {
   "cell_type": "markdown",
   "id": "a141be50",
   "metadata": {
    "papermill": {
     "duration": 0.014823,
     "end_time": "2022-12-26T15:47:29.601207",
     "exception": false,
     "start_time": "2022-12-26T15:47:29.586384",
     "status": "completed"
    },
    "tags": []
   },
   "source": [
    "## Cosine Similarity\n",
    "\n",
    "- Cosine Similarity is a **measure of similarity** between two vectors of an inner product space that measures the cosine of the angle between them. \n",
    "\n",
    "- It is **commonly used** in Recommender Systems because it measures the **similarity between items** based on the angle between them, rather than the Euclidean distance which measures the distance between items. \n",
    "\n",
    "- This allows the system to provide **more accurate recommendations**, as it takes into account the angle between items rather than just the distance."
   ]
  },
  {
   "cell_type": "code",
   "execution_count": 14,
   "id": "01f778c1",
   "metadata": {
    "execution": {
     "iopub.execute_input": "2022-12-26T15:47:29.635790Z",
     "iopub.status.busy": "2022-12-26T15:47:29.634360Z",
     "iopub.status.idle": "2022-12-26T15:47:29.718021Z",
     "shell.execute_reply": "2022-12-26T15:47:29.716655Z"
    },
    "papermill": {
     "duration": 0.104847,
     "end_time": "2022-12-26T15:47:29.721287",
     "exception": false,
     "start_time": "2022-12-26T15:47:29.616440",
     "status": "completed"
    },
    "tags": []
   },
   "outputs": [],
   "source": [
    "#Creating a pivot table where rows are user id, columns are mmovie title, the values are the ratings given to the movie\n",
    "pivot = df.pivot_table(index='user_id',columns='title',values='rating')"
   ]
  },
  {
   "cell_type": "code",
   "execution_count": 15,
   "id": "75242602",
   "metadata": {
    "execution": {
     "iopub.execute_input": "2022-12-26T15:47:29.753190Z",
     "iopub.status.busy": "2022-12-26T15:47:29.752446Z",
     "iopub.status.idle": "2022-12-26T15:47:29.759654Z",
     "shell.execute_reply": "2022-12-26T15:47:29.758502Z"
    },
    "papermill": {
     "duration": 0.025961,
     "end_time": "2022-12-26T15:47:29.762128",
     "exception": false,
     "start_time": "2022-12-26T15:47:29.736167",
     "status": "completed"
    },
    "tags": []
   },
   "outputs": [],
   "source": [
    "#filling the null values with zero\n",
    "pivot.fillna(0, inplace=True)"
   ]
  },
  {
   "cell_type": "code",
   "execution_count": 16,
   "id": "c452fea9",
   "metadata": {
    "execution": {
     "iopub.execute_input": "2022-12-26T15:47:29.793711Z",
     "iopub.status.busy": "2022-12-26T15:47:29.793329Z",
     "iopub.status.idle": "2022-12-26T15:47:30.159368Z",
     "shell.execute_reply": "2022-12-26T15:47:30.158032Z"
    },
    "papermill": {
     "duration": 0.386009,
     "end_time": "2022-12-26T15:47:30.162917",
     "exception": false,
     "start_time": "2022-12-26T15:47:29.776908",
     "status": "completed"
    },
    "tags": []
   },
   "outputs": [],
   "source": [
    "#Importing Cosine Similarity from Sklearn\n",
    "from sklearn.metrics.pairwise import cosine_similarity\n",
    "#Calculating similarity score\n",
    "similarity_scores = cosine_similarity(pivot)"
   ]
  },
  {
   "cell_type": "code",
   "execution_count": 17,
   "id": "120eb235",
   "metadata": {
    "execution": {
     "iopub.execute_input": "2022-12-26T15:47:30.218410Z",
     "iopub.status.busy": "2022-12-26T15:47:30.217856Z",
     "iopub.status.idle": "2022-12-26T15:47:30.226283Z",
     "shell.execute_reply": "2022-12-26T15:47:30.225117Z"
    },
    "papermill": {
     "duration": 0.038458,
     "end_time": "2022-12-26T15:47:30.229189",
     "exception": false,
     "start_time": "2022-12-26T15:47:30.190731",
     "status": "completed"
    },
    "tags": []
   },
   "outputs": [
    {
     "data": {
      "text/plain": [
       "(361, 361)"
      ]
     },
     "execution_count": 17,
     "metadata": {},
     "output_type": "execute_result"
    }
   ],
   "source": [
    "similarity_scores.shape"
   ]
  },
  {
   "cell_type": "markdown",
   "id": "54e15af6",
   "metadata": {
    "papermill": {
     "duration": 0.024832,
     "end_time": "2022-12-26T15:47:30.280342",
     "exception": false,
     "start_time": "2022-12-26T15:47:30.255510",
     "status": "completed"
    },
    "tags": []
   },
   "source": [
    "## Collaborative Recommender Function"
   ]
  },
  {
   "cell_type": "code",
   "execution_count": 18,
   "id": "d17d39c2",
   "metadata": {
    "execution": {
     "iopub.execute_input": "2022-12-26T15:47:30.312785Z",
     "iopub.status.busy": "2022-12-26T15:47:30.312367Z",
     "iopub.status.idle": "2022-12-26T15:47:30.320822Z",
     "shell.execute_reply": "2022-12-26T15:47:30.319630Z"
    },
    "papermill": {
     "duration": 0.027249,
     "end_time": "2022-12-26T15:47:30.323183",
     "exception": false,
     "start_time": "2022-12-26T15:47:30.295934",
     "status": "completed"
    },
    "tags": []
   },
   "outputs": [],
   "source": [
    "def recommend(title):\n",
    "    #Fetching Index of the movie\n",
    "    index = np.where(pivot.columns == title)[0][0]\n",
    "    #Finding the similar movies using the similarity score and fetching top-n results\n",
    "    similar_items = sorted(list(enumerate(similarity_scores[index])),key=lambda x:x[1],reverse=True)[1:5]\n",
    "     \n",
    "    #initiating a list\n",
    "    data = []\n",
    "    #Initiating a loop to loop through the similar items \n",
    "    for i in similar_items:\n",
    "        item = []\n",
    "        #Creating a temporary dataframe where the title in the database and the search keyword is the same.\n",
    "        temp_df = df[df['title'] == pivot.columns[i[0]]]\n",
    "        #Adding the item to the list after dropping duplicates based on the title column in the temporary dataframe\n",
    "        item.extend(list(temp_df.drop_duplicates('title')['title'].values))\n",
    "        #Adding the item object to the data list (for all the similar items)\n",
    "        data.append(item)\n",
    "    #return the data list which is essentially the collaborative filtering recommended movies\n",
    "    return data"
   ]
  },
  {
   "cell_type": "code",
   "execution_count": 19,
   "id": "074cde6c",
   "metadata": {
    "execution": {
     "iopub.execute_input": "2022-12-26T15:47:30.356633Z",
     "iopub.status.busy": "2022-12-26T15:47:30.355456Z",
     "iopub.status.idle": "2022-12-26T15:47:30.395792Z",
     "shell.execute_reply": "2022-12-26T15:47:30.394461Z"
    },
    "papermill": {
     "duration": 0.060096,
     "end_time": "2022-12-26T15:47:30.398395",
     "exception": false,
     "start_time": "2022-12-26T15:47:30.338299",
     "status": "completed"
    },
    "tags": []
   },
   "outputs": [
    {
     "data": {
      "text/plain": [
       "[['Bound (1996)'],\n",
       " ['8 1/2 (1963)'],\n",
       " ['Brothers in Trouble (1995)'],\n",
       " ['Awfully Big Adventure, An (1995)']]"
      ]
     },
     "execution_count": 19,
     "metadata": {},
     "output_type": "execute_result"
    }
   ],
   "source": [
    "#testing out the function we just created\n",
    "recommend('101 Dalmatians (1996)')"
   ]
  },
  {
   "cell_type": "markdown",
   "id": "f2931145",
   "metadata": {
    "papermill": {
     "duration": 0.014815,
     "end_time": "2022-12-26T15:47:30.428568",
     "exception": false,
     "start_time": "2022-12-26T15:47:30.413753",
     "status": "completed"
    },
    "tags": []
   },
   "source": [
    "## Content Based Filtering\n",
    "\n",
    "TFIDF stands for **Term Frequency-Inverse Document Frequency**. \n",
    "- It is a **numerical statistic** that is used to measure how important a word is to a document in a collection or corpus. \n",
    "- It is a **weighting factor** that reflects how important the word is to a document relative to the other words in the corpus. \n",
    "- The TFIDF value **increases proportionally** to the number of times a word appears in the document, but is offset by the frequency of the word in the corpus.\n",
    "\n",
    "TfidfVectorizer is a type of **feature extraction technique** used in natural language processing. \n",
    "- It is used to **transform text into a numerical representation** called a vector, which can then be used as input to a machine learning algorithm. \n",
    "- It works by **assigning a weight to each word** in the text based on its frequency in the document and its importance in the corpus. \n",
    "- It has been used in applications such as **text classification, document clustering**, and **text summarization**."
   ]
  },
  {
   "cell_type": "code",
   "execution_count": 20,
   "id": "6ec1c5a6",
   "metadata": {
    "execution": {
     "iopub.execute_input": "2022-12-26T15:47:30.461355Z",
     "iopub.status.busy": "2022-12-26T15:47:30.460937Z",
     "iopub.status.idle": "2022-12-26T15:47:30.478015Z",
     "shell.execute_reply": "2022-12-26T15:47:30.476975Z"
    },
    "papermill": {
     "duration": 0.036659,
     "end_time": "2022-12-26T15:47:30.480563",
     "exception": false,
     "start_time": "2022-12-26T15:47:30.443904",
     "status": "completed"
    },
    "tags": []
   },
   "outputs": [],
   "source": [
    "#Importing TfidfVectorizer from sklearn\n",
    "from sklearn.feature_extraction.text import TfidfVectorizer\n",
    "#Initiating TfidfVectorizer object\n",
    "vectorizer = TfidfVectorizer(ngram_range=(1,2))"
   ]
  },
  {
   "cell_type": "code",
   "execution_count": 21,
   "id": "d487c90e",
   "metadata": {
    "execution": {
     "iopub.execute_input": "2022-12-26T15:47:30.514947Z",
     "iopub.status.busy": "2022-12-26T15:47:30.514061Z",
     "iopub.status.idle": "2022-12-26T15:47:30.872029Z",
     "shell.execute_reply": "2022-12-26T15:47:30.870559Z"
    },
    "papermill": {
     "duration": 0.37873,
     "end_time": "2022-12-26T15:47:30.874856",
     "exception": false,
     "start_time": "2022-12-26T15:47:30.496126",
     "status": "completed"
    },
    "tags": []
   },
   "outputs": [],
   "source": [
    "#Creating a tfidf matrix\n",
    "tfidf = vectorizer.fit_transform(df[\"genre\"])"
   ]
  },
  {
   "cell_type": "code",
   "execution_count": 22,
   "id": "122a382e",
   "metadata": {
    "execution": {
     "iopub.execute_input": "2022-12-26T15:47:30.908063Z",
     "iopub.status.busy": "2022-12-26T15:47:30.907650Z",
     "iopub.status.idle": "2022-12-26T15:47:30.914854Z",
     "shell.execute_reply": "2022-12-26T15:47:30.913747Z"
    },
    "papermill": {
     "duration": 0.026263,
     "end_time": "2022-12-26T15:47:30.917189",
     "exception": false,
     "start_time": "2022-12-26T15:47:30.890926",
     "status": "completed"
    },
    "tags": []
   },
   "outputs": [
    {
     "data": {
      "text/plain": [
       "<73469x23 sparse matrix of type '<class 'numpy.float64'>'\n",
       "\twith 79887 stored elements in Compressed Sparse Row format>"
      ]
     },
     "execution_count": 22,
     "metadata": {},
     "output_type": "execute_result"
    }
   ],
   "source": [
    "tfidf"
   ]
  },
  {
   "cell_type": "code",
   "execution_count": 23,
   "id": "2b528986",
   "metadata": {
    "execution": {
     "iopub.execute_input": "2022-12-26T15:47:30.950100Z",
     "iopub.status.busy": "2022-12-26T15:47:30.949683Z",
     "iopub.status.idle": "2022-12-26T15:47:30.958064Z",
     "shell.execute_reply": "2022-12-26T15:47:30.956287Z"
    },
    "papermill": {
     "duration": 0.028231,
     "end_time": "2022-12-26T15:47:30.960518",
     "exception": false,
     "start_time": "2022-12-26T15:47:30.932287",
     "status": "completed"
    },
    "tags": []
   },
   "outputs": [],
   "source": [
    "def search(title):\n",
    "    # Vectorize the title using the vectorizer\n",
    "    query_vec = vectorizer.transform([title])\n",
    "    # Calculate the cosine similarity between the vectorized title and the tfidf matrix\n",
    "    similarity = cosine_similarity(query_vec, tfidf).flatten()\n",
    "    # Retrieve the indices of the top 100 most similar titles\n",
    "    indices = np.argpartition(similarity, -10)[-100:]\n",
    "    # Select the top 100 titles from the dataframe using the indices\n",
    "    results = df.iloc[indices].iloc[::-1]\n",
    "    # Remove any duplicate titles\n",
    "    results = results.drop_duplicates(subset=['title'])\n",
    "    # Return a list of the titles\n",
    "    return results.title.values.tolist()"
   ]
  },
  {
   "cell_type": "code",
   "execution_count": 24,
   "id": "2f75464b",
   "metadata": {
    "execution": {
     "iopub.execute_input": "2022-12-26T15:47:30.993962Z",
     "iopub.status.busy": "2022-12-26T15:47:30.993316Z",
     "iopub.status.idle": "2022-12-26T15:47:31.008092Z",
     "shell.execute_reply": "2022-12-26T15:47:31.006744Z"
    },
    "papermill": {
     "duration": 0.034977,
     "end_time": "2022-12-26T15:47:31.010830",
     "exception": false,
     "start_time": "2022-12-26T15:47:30.975853",
     "status": "completed"
    },
    "tags": []
   },
   "outputs": [
    {
     "data": {
      "text/plain": [
       "[\"I Don't Want to Talk About It (De eso no se habla) (1993)\",\n",
       " 'Face/Off (1997)',\n",
       " 'River Wild, The (1994)']"
      ]
     },
     "execution_count": 24,
     "metadata": {},
     "output_type": "execute_result"
    }
   ],
   "source": [
    "#testing out the function we just created\n",
    "search('Toy Story')"
   ]
  },
  {
   "cell_type": "markdown",
   "id": "8807cfc2",
   "metadata": {
    "papermill": {
     "duration": 0.015525,
     "end_time": "2022-12-26T15:47:31.041975",
     "exception": false,
     "start_time": "2022-12-26T15:47:31.026450",
     "status": "completed"
    },
    "tags": []
   },
   "source": [
    "## Why is there a need of Hybrid Recommendation System?\n",
    "\n",
    "### Cons of Content-based recommendation system?\n",
    "\n",
    "1. Difficulty in **understanding user preferences**: Content-based recommendation systems require a lot of input from the user in order to make accurate recommendations. This can be difficult for users who are unfamiliar with the product or service, as they may not know how to properly express their preferences.\n",
    "\n",
    "2. Difficulty in **capturing user context**: Content-based systems can be limited in their ability to capture user context. They are unable to take into account user behavior or mood, which can be important factors in predicting user preferences.\n",
    "\n",
    "3. **Over-personalization**: Content-based recommendation systems can result in a “filter bubble” effect, where the same recommendations are served to users regardless of their context or preferences. This can lead to a lack of variety and limit users’ exposure to new content.\n",
    "\n",
    "### Cons of Collaborative recommendation system?\n",
    "\n",
    "1. Dependency on **User Input**: Collaborative recommendation systems rely heavily on user input, which can be unreliable and inaccurate. If a user provides incorrect information, it can lead to inaccurate recommendations.\n",
    "\n",
    "2. **Privacy Concerns**: Another potential downside of collaborative recommendation systems is the potential privacy concerns. Depending on what type of information is being collected, users may be concerned about how their data is being used.\n",
    "\n",
    "3. Difficulty of **Implementing**: Implementing a collaborative recommendation system can be complex and time consuming. It requires a lot of data processing and analysis to create accurate recommendations."
   ]
  },
  {
   "cell_type": "code",
   "execution_count": 25,
   "id": "ebd6d521",
   "metadata": {
    "execution": {
     "iopub.execute_input": "2022-12-26T15:47:31.077066Z",
     "iopub.status.busy": "2022-12-26T15:47:31.076652Z",
     "iopub.status.idle": "2022-12-26T15:47:31.090378Z",
     "shell.execute_reply": "2022-12-26T15:47:31.089158Z"
    },
    "papermill": {
     "duration": 0.03492,
     "end_time": "2022-12-26T15:47:31.092987",
     "exception": false,
     "start_time": "2022-12-26T15:47:31.058067",
     "status": "completed"
    },
    "tags": []
   },
   "outputs": [],
   "source": [
    "def content_recommendation(title):\n",
    "    \"\"\"\n",
    "    Returns a list of content recommendations based on the provided title.\n",
    "    The recommendations are determined by calculating the cosine similarity between the genre of the provided title and\n",
    "    the genres of other content in the dataframe, df. The top 100 most similar content are selected, and duplicates are\n",
    "    removed to return a list of at most 10 content recommendations.\n",
    "    \"\"\"\n",
    "    # Initialize TfidfVectorizer and fit it to the genres in the dataframe\n",
    "    vectorizer = TfidfVectorizer(ngram_range=(1,2))\n",
    "    tfidf = vectorizer.fit_transform(df[\"genre\"])\n",
    "    # Transform the provided title into a vector using the vectorizer\n",
    "    query_vec = vectorizer.transform([title])\n",
    "    # Calculate the cosine similarity between the title vector and the genre vectors\n",
    "    similarity = cosine_similarity(query_vec, tfidf).flatten()\n",
    "    # Select the indices of the top 100 most similar content\n",
    "    indices = np.argpartition(similarity, -10)[-100:]\n",
    "    # Select the rows of the dataframe corresponding to the selected indices, and sort them in descending order of similarity\n",
    "    results = df.iloc[indices].iloc[::-1]\n",
    "    # Remove duplicates based on the 'title' column\n",
    "    results = results.drop_duplicates(subset=['title'])\n",
    "    # Fetching only the title values of the movie and converting it to a list\n",
    "    content_reco = results.title.values.tolist()\n",
    "    # Return the list of the titles of the content based recommended content\n",
    "    return content_reco \n",
    "\n",
    "def collaborative_recommendation(title):\n",
    "    \"\"\"\n",
    "    This functions leverages the collaborative filtering approach for recommending movies based on the ratings given to them \n",
    "    by the users. An index of the array is taken out first and the index is given for the similarity score calculation and \n",
    "    top 5 results are returned.\n",
    "    \"\"\"\n",
    "    \n",
    "    #Fetching Index of the movie\n",
    "    try:\n",
    "        index = np.where([pivot.columns==title])[0][0]\n",
    "    except:\n",
    "        pass\n",
    "    \n",
    "    #Finding the similar movies using the similarity score and fetching top-n results\n",
    "    similar_items = sorted(list(enumerate(similarity_scores[index])),key=lambda x:x[1],reverse=True)[1:5]\n",
    "    \n",
    "    #initiating a list\n",
    "    data = []\n",
    "    #Initiating a loop to loop through the similar items \n",
    "    for i in similar_items:\n",
    "        item = []\n",
    "        #Creating a temporary dataframe where the title in the database and the search keyword is the same.\n",
    "        temp_df = df[df['title'] == pivot.columns[i[0]]]\n",
    "        #Adding the item to the list after dropping duplicates based on the title column in the temporary dataframe\n",
    "        item.extend(list(temp_df.drop_duplicates('title')['title'].values))\n",
    "        #Adding the item object to the data list (for all the similar items)\n",
    "        data.append(item)\n",
    "    #return the data list which is essentially the collaborative filtering recommended movies\n",
    "    return data\n",
    "\n",
    "def hybrid_recommendation(title):\n",
    "    \"\"\"\n",
    "    This function utilizes the capabilities of the earlier functions to provide a single set of unique recommendations \n",
    "    utilizing content and collaborative filtering (hybrid recommendations). The output is a list of those recommendations.\n",
    "    \"\"\"\n",
    "    #get the list of recommended movies from the content-based system\n",
    "    content_recommended_movies = np.unique(content_recommendation(title)).tolist()\n",
    "    \n",
    "    #get the list of recommended movies from the collaborative filtering system\n",
    "    collaborative_recommended_movies = np.unique(collaborative_recommendation(title)).tolist()\n",
    "    \n",
    "    #combine the two lists\n",
    "    recommended_movies = (content_recommended_movies + collaborative_recommended_movies)\n",
    "    \n",
    "    #return the list of recommended movies\n",
    "    return recommended_movies"
   ]
  },
  {
   "cell_type": "code",
   "execution_count": 26,
   "id": "377d9da8",
   "metadata": {
    "execution": {
     "iopub.execute_input": "2022-12-26T15:47:31.126649Z",
     "iopub.status.busy": "2022-12-26T15:47:31.126258Z",
     "iopub.status.idle": "2022-12-26T15:47:31.525852Z",
     "shell.execute_reply": "2022-12-26T15:47:31.524637Z"
    },
    "papermill": {
     "duration": 0.419992,
     "end_time": "2022-12-26T15:47:31.528395",
     "exception": false,
     "start_time": "2022-12-26T15:47:31.108403",
     "status": "completed"
    },
    "tags": []
   },
   "outputs": [
    {
     "data": {
      "text/plain": [
       "['Face/Off (1997)',\n",
       " \"I Don't Want to Talk About It (De eso no se habla) (1993)\",\n",
       " 'River Wild, The (1994)',\n",
       " 'Airheads (1994)',\n",
       " 'Bogus (1996)',\n",
       " 'Dadetown (1995)',\n",
       " 'Deconstructing Harry (1997)']"
      ]
     },
     "execution_count": 26,
     "metadata": {},
     "output_type": "execute_result"
    }
   ],
   "source": [
    "#testing out the function we just created\n",
    "hybrid_recommendation('Killer: A Journal of Murder (1995)')"
   ]
  }
 ],
 "metadata": {
  "kernelspec": {
   "display_name": "Python 3",
   "language": "python",
   "name": "python3"
  },
  "language_info": {
   "codemirror_mode": {
    "name": "ipython",
    "version": 3
   },
   "file_extension": ".py",
   "mimetype": "text/x-python",
   "name": "python",
   "nbconvert_exporter": "python",
   "pygments_lexer": "ipython3",
   "version": "3.7.12"
  },
  "papermill": {
   "default_parameters": {},
   "duration": 20.93336,
   "end_time": "2022-12-26T15:47:32.368340",
   "environment_variables": {},
   "exception": null,
   "input_path": "__notebook__.ipynb",
   "output_path": "__notebook__.ipynb",
   "parameters": {},
   "start_time": "2022-12-26T15:47:11.434980",
   "version": "2.3.4"
  }
 },
 "nbformat": 4,
 "nbformat_minor": 5
}
