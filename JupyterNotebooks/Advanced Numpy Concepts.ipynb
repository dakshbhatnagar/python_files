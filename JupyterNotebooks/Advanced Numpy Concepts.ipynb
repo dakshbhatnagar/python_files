{
 "cells": [
  {
   "cell_type": "markdown",
   "id": "b0f15baf",
   "metadata": {},
   "source": [
    "<h2 align=\"center\"> <font color='blue'>Exploring the Power of Advanced NumPy Techniques</font></h2>\n",
    "\n",
    "\n",
    "Welcome to this Jupyter Notebook on Advanced NumPy!\n",
    "\n",
    "NumPy serves as the beating heart of scientific and numerical computing in Python, and in this notebook, we will embark on an exciting journey to explore its advanced features and techniques. Whether you're a seasoned data scientist, a machine learning enthusiast, or just starting your Python adventure, this exploration will equip you with the essential tools to elevate your array manipulation skills.\n",
    "\n",
    "> In the realm of data science, NumPy is akin to a magic wand, and in this notebook, we will unveil its capabilities, revealing how it transforms complex data into valuable insights. We will unravel the secrets of multi-dimensional arrays, granting you the power to handle intricate datasets effortlessly. We will delve into the art of broadcasting, allowing you to perform operations with unparalleled ease and efficiency.\n",
    "\n",
    "But that's not all! We'll harness the lightning-fast speed and memory efficiency of vectorized functions, showcasing their real-world applications in data analysis and machine learning. Prepare to unlock the treasure trove of fancy indexing, a versatile technique for selecting and manipulating data elements, and become adept at crafting boolean masks to sift through data with surgical precision.\n",
    "\n",
    "Join us on this captivating journey to harness the full might of NumPy. With practical use cases and hands-on examples, you'll gain a profound understanding of how NumPy empowers you to tackle real-world data challenges. Let's embark on this adventure together, and together, we'll take your data manipulation capabilities to astonishing new heights.\n",
    "<div class=\"alert alert-block alert-info\">\n",
    "<h3 align=\"center\"> <font color='black'>If you liked the notebook, consider leaving an upvote and follow me for more</font></h3>\n",
    "</div>\n",
    "\n",
    "Let's get started!"
   ]
  },
  {
   "cell_type": "markdown",
   "id": "f51e0083",
   "metadata": {},
   "source": [
    "## Why is Numpy used the most\n",
    "\n",
    "NumPy is a popular library for numerical and scientific computing in Python, and it offers several advantages that contribute to its speed, convenience, and memory efficiency:\n",
    "\n",
    "1. **Speed**:\n",
    "\n",
    "\n",
    "   a. Native Code Integration: NumPy is built on top of optimized C and Fortran libraries, which allows it to execute mathematical operations at a much faster rate than pure Python. These low-level libraries are highly optimized and take advantage of hardware-specific features like vectorization, making NumPy operations significantly faster.\n",
    "   \n",
    "   b. Broadcasting: NumPy allows for efficient element-wise operations on arrays of different shapes and sizes through broadcasting. This feature minimizes the need for explicit loops in Python, reducing the computational overhead and speeding up code execution.\n",
    "   \n",
    "   c. Compiled Code: NumPy functions often use compiled code under the hood, which eliminates the interpreted nature of Python and leads to faster execution. For example, many mathematical functions in NumPy are implemented in C, ensuring speedy computations.\n",
    "   \n",
    "\n",
    "2. **Convenience**:\n",
    "\n",
    "\n",
    "   a. Array Operations: NumPy provides a wide range of functions and methods for performing array-based operations, simplifying complex numerical computations. Its syntax is designed to be similar to MATLAB, making it easy for users with a background in scientific computing to transition to Python.\n",
    "   \n",
    "   b. Indexing and Slicing: NumPy offers powerful and convenient ways to index, slice, and manipulate arrays, making it effortless to extract and manipulate data within arrays.\n",
    "   \n",
    "   c. Interoperability: NumPy seamlessly integrates with other scientific libraries and tools in the Python ecosystem, such as SciPy, pandas, and scikit-learn, which makes it a versatile choice for various data analysis and machine learning tasks.\n",
    "\n",
    "\n",
    "3. **Memory Efficiency**:\n",
    "\n",
    "   \n",
    "   a. Fixed Data Type: NumPy arrays have a fixed data type, which allows for efficient memory usage. Unlike Python lists, which can contain elements of different data types, NumPy arrays ensure that all elements are of the same type, reducing memory overhead.\n",
    "   \n",
    "   b. Contiguous Memory: NumPy arrays are stored in contiguous blocks of memory, which improves cache locality and reduces memory fragmentation. This layout enhances memory access patterns and can lead to better memory performance.\n",
    "   \n",
    "   c. Reduced Copying: NumPy is designed to minimize unnecessary copying of data. It often uses \"views\" instead of creating entirely new arrays when performing operations, which saves memory and improves efficiency when working with large datasets."
   ]
  },
  {
   "cell_type": "code",
   "execution_count": 86,
   "id": "4cf28c4b",
   "metadata": {},
   "outputs": [],
   "source": [
    "import numpy as np\n",
    "import time\n",
    "import matplotlib.pyplot as plt\n",
    "%matplotlib inline"
   ]
  },
  {
   "cell_type": "code",
   "execution_count": 25,
   "id": "b6fcf12e",
   "metadata": {},
   "outputs": [
    {
     "name": "stdout",
     "output_type": "stream",
     "text": [
      "It took 6.93 seconds to do the addition of 10000000 elements in Vanilla Python\n",
      "It took 0.16 seconds to do the addition of 10000000 elements in Numpy\n"
     ]
    }
   ],
   "source": [
    "#Using Vanilla Python\n",
    "a = [i for i in range(10000000,20000000)]\n",
    "b = [i for i in range(20000000,30000000)]\n",
    "c =[]\n",
    "start = time.time()\n",
    "for i in range(len(a)):\n",
    "    c.append(a[i]+b[i])\n",
    "end =  time.time()\n",
    "print(f'It took {round(end-start,2)} seconds to do the addition of {len(a)} elements in Vanilla Python')\n",
    "\n",
    "#Using Numpy\n",
    "a = np.arange(10000000,20000000)\n",
    "b = np.arange(20000000,30000000)\n",
    "start = time.time()\n",
    "c = a + b\n",
    "end =  time.time()\n",
    "print(f'It took {np.round(end-start,2)} seconds to do the addition of {len(a)} elements in Numpy')"
   ]
  },
  {
   "cell_type": "markdown",
   "id": "fde3d644",
   "metadata": {},
   "source": [
    "## Fancy indexing\n",
    "\n",
    "Fancy indexing, also known as advanced or integer array indexing, is a technique used in programming languages like Python, NumPy, and others to access or manipulate specific elements of an array or data structure using arrays of indices. Unlike basic indexing, where you access elements one at a time using a single index or slice, fancy indexing allows you to access multiple elements at once or in a non-contiguous fashion based on the indices provided.\n",
    "\n",
    "Here's how fancy indexing works:\n",
    "\n",
    "1. **Basic Indexing**: In basic indexing, you access elements of an array one by one using a single index or a slice. For example, `my_array[3]` would access the element at index 3.\n",
    "\n",
    "2. **Fancy Indexing**: With fancy indexing, you use an array (or list) of indices to access multiple elements simultaneously or in a specific order. For example, if you have an array `my_array` and an array of indices `[1, 3, 5]`, you can use fancy indexing to retrieve the elements at positions 1, 3, and 5 in `my_array`.\n",
    "\n",
    "\n",
    "<div class=\"alert alert-block alert-info\">\n",
    "\n",
    "Fancy indexing can be particularly useful when you want to:\n",
    "\n",
    "- Select specific elements from an array based on some condition or criteria.\n",
    "- Reorder elements in an array according to a custom sequence of indices.\n",
    "- Create new arrays by extracting elements from existing arrays in complex patterns.\n",
    "</div>\n",
    "\n",
    "\n",
    "\n",
    "In Python, NumPy, and similar libraries, fancy indexing can be performed with square brackets and arrays of indices. It provides a powerful and flexible way to work with data, especially in scientific computing and data analysis tasks."
   ]
  },
  {
   "cell_type": "code",
   "execution_count": 26,
   "id": "66e4063a",
   "metadata": {},
   "outputs": [
    {
     "name": "stdout",
     "output_type": "stream",
     "text": [
      "Selected Elements: [20 40 50]\n"
     ]
    }
   ],
   "source": [
    "# Create a NumPy array\n",
    "arr = np.array([10, 20, 30, 40, 50])\n",
    "\n",
    "# Define a list of indices for fancy indexing\n",
    "indices = [1, 3,4]\n",
    "\n",
    "# Use fancy indexing to select elements at the specified indices\n",
    "selected_elements = arr[indices]\n",
    "\n",
    "# Print the selected elements\n",
    "print(\"Selected Elements:\", selected_elements)"
   ]
  },
  {
   "cell_type": "markdown",
   "id": "1312b375",
   "metadata": {},
   "source": [
    "## Boolean Indexing\n",
    "\n",
    "A boolean mask, in the context of programming and data manipulation, is a binary array or a data structure that contains boolean (True/False) values. Boolean masks are commonly used for filtering or selecting elements from other arrays or data structures based on a certain condition.\n",
    "\n",
    "Here's how boolean masks work:\n",
    "\n",
    "1. **Creation**: A boolean mask is typically created by applying a condition or a comparison operation to an array or a data structure. The result is a boolean array where each element corresponds to whether the condition is True or False for the corresponding element in the original data.\n",
    "\n",
    "2. **Filtering/Selection**: Once you have a boolean mask, you can use it to filter or select elements from the original data. You do this by applying the boolean mask as an index to the original data. Elements corresponding to True values in the mask are selected, while those corresponding to False values are excluded.\n",
    "\n",
    "<div class=\"alert alert-block alert-info\">\n",
    "Boolean masks are commonly used for data filtering, conditional operations, and data analysis tasks in programming, especially in libraries like NumPy and Pandas. They provide a flexible way to work with data based on specified conditions.\n",
    "</div>\n"
   ]
  },
  {
   "cell_type": "markdown",
   "id": "ab871111",
   "metadata": {},
   "source": [
    "**Example 1**"
   ]
  },
  {
   "cell_type": "code",
   "execution_count": 2,
   "id": "c9a9bcb5",
   "metadata": {},
   "outputs": [
    {
     "data": {
      "text/plain": [
       "array([[ 0,  1,  2,  3],\n",
       "       [ 4,  5,  6,  7],\n",
       "       [ 8,  9, 10, 11],\n",
       "       [12, 13, 14, 15]])"
      ]
     },
     "execution_count": 2,
     "metadata": {},
     "output_type": "execute_result"
    }
   ],
   "source": [
    "#Creating an array\n",
    "a = np.arange(16).reshape(4,4)\n",
    "a"
   ]
  },
  {
   "cell_type": "code",
   "execution_count": 21,
   "id": "45d30f67",
   "metadata": {},
   "outputs": [
    {
     "data": {
      "text/plain": [
       "array([ 6,  9, 12, 15])"
      ]
     },
     "execution_count": 21,
     "metadata": {},
     "output_type": "execute_result"
    }
   ],
   "source": [
    "#fetching the number greater than 3 and are divisible by 3 as well\n",
    "a[(a>3) & (a%3==0)]"
   ]
  },
  {
   "cell_type": "markdown",
   "id": "4d04c816",
   "metadata": {},
   "source": [
    "**Example 2**"
   ]
  },
  {
   "cell_type": "code",
   "execution_count": 24,
   "id": "45b33539",
   "metadata": {},
   "outputs": [
    {
     "name": "stdout",
     "output_type": "stream",
     "text": [
      "Original ArraK: [1 2 3 4 5]\n",
      "Mask: [False False  True  True  True]\n",
      "Filtered Array: [3 4 5]\n"
     ]
    }
   ],
   "source": [
    "# Create a NumPy array\n",
    "arr = np.array([1, 2, 3, 4, 5])\n",
    "\n",
    "# Define a boolean mask based on a condition\n",
    "mask = arr > 2\n",
    "\n",
    "# Use the mask to filter elements in the array\n",
    "filtered_arr = arr[mask]\n",
    "\n",
    "# Print the original array and the filtered arraK\n",
    "print(\"Original ArraK:\", arr)\n",
    "print('Mask:', mask)\n",
    "print(\"Filtered Array:\", filtered_arr)"
   ]
  },
  {
   "cell_type": "markdown",
   "id": "a561e256",
   "metadata": {},
   "source": [
    "## Broadcasting\n",
    "\n",
    "Broadcasting is a powerful feature in NumPy that allows for operations on arrays with different shapes or dimensions, making it possible to perform element-wise operations efficiently without the need for explicit looping or resizing of arrays. \n",
    "\n",
    "<div class=\"alert alert-block alert-info\">\n",
    "Broadcasting automatically aligns the dimensions of the input arrays, making operations more intuitive and concise. Basically the smaller array is broadcasted into larger array so that both the arrays have compatible shapes.\n",
    "</div>\n",
    "\n",
    "\n",
    "<img src = \"https://jakevdp.github.io/PythonDataScienceHandbook/figures/02.05-broadcasting.png\">\n",
    "\n",
    "                                            Figure showing how Broadcasting works\n",
    "\n",
    "Here are the key aspects of broadcasting in NumPy:\n",
    "\n",
    "1. **Compatible Dimensions**: Broadcasting is applicable when the dimensions of the input arrays are compatible. Compatible dimensions are either equal or one of them is 1. For example, a 3x3 array can be broadcasted with a 1x3 array because the dimensions are compatible.\n",
    "\n",
    "2. **Implicit Replication**: When performing operations with arrays of different shapes, NumPy will implicitly replicate (or \"stretch\") the smaller array along its dimensions to match the shape of the larger array. This replication is done without actually copying the data, which makes broadcasting memory-efficient.\n",
    "\n",
    "3. **Element-Wise Operation**: After broadcasting, the operation is performed element-wise. Each element in the resulting array is calculated based on the corresponding elements in the input arrays.\n",
    "\n",
    "**Rules of Broadcasting**\n",
    "\n",
    "Broadcasting in NumPy follows a set of rules to determine whether two arrays can be broadcasted together and how they should be broadcasted. These rules help ensure that the dimensions are compatible for element-wise operations. Here are the rules of broadcasting in NumPy:\n",
    "\n",
    "1. **Rule 1: Dimensions Must Be Compatible**: For broadcasting to work, the dimensions of the input arrays being operated on must be compatible. Two dimensions are compatible if they are either equal or one of them is 1. Incompatible dimensions will result in a ValueError.\n",
    "\n",
    "2. **Rule 2: Arrays with Fewer Dimensions Are Padded with Ones**: If the input arrays have different numbers of dimensions, the smaller-dimensional array is padded with ones on the left side until both shapes have the same length. This padding is done implicitly and does not require actual modification of the array.\n",
    "\n",
    "3. **Rule 3: Sizes Must Be Compatible**: Along each dimension, the sizes of the input arrays must be either equal or one of them must be 1. If two dimensions are incompatible in size, broadcasting will fail.\n",
    "\n",
    "4. **Rule 4: Output Shape**: The shape of the output array is determined by taking the maximum size along each dimension from the input arrays. In other words, the output shape is obtained by element-wise maximum of the shapes of the input arrays.\n",
    "\n",
    "5. **Rule 5: Size 1 Dimensions Are Repeated**: When broadcasting, dimensions with size 1 are effectively \"stretched\" or repeated to match the size of the corresponding dimension in the other input array. This is done without duplicating the data, which ensures memory efficiency.\n",
    "\n",
    "*For Example*, If we have two arrays that have (4,3) and (3,) shape, the smaller array that is (3,) will be converted to (1,3) and then (1,3) will converted to (4,3) shape"
   ]
  },
  {
   "cell_type": "markdown",
   "id": "ce43ad16",
   "metadata": {},
   "source": [
    "**Example 1**"
   ]
  },
  {
   "cell_type": "code",
   "execution_count": 31,
   "id": "20806872",
   "metadata": {},
   "outputs": [
    {
     "data": {
      "text/plain": [
       "array([[11, 22, 33],\n",
       "       [14, 25, 36],\n",
       "       [17, 28, 39]])"
      ]
     },
     "execution_count": 31,
     "metadata": {},
     "output_type": "execute_result"
    }
   ],
   "source": [
    "# Create a 3x3 array\n",
    "A = np.array([[1, 2, 3],\n",
    "              [4, 5, 6],\n",
    "              [7, 8, 9]])\n",
    "\n",
    "# Add a 1D array to each row of A (broadcasting)\n",
    "B = np.array([10, 20, 30])\n",
    "\n",
    "result = A + B\n",
    "\n",
    "result"
   ]
  },
  {
   "cell_type": "markdown",
   "id": "28a955a3",
   "metadata": {},
   "source": [
    "\n",
    "<div class=\"alert alert-block alert-info\">\n",
    "However, if I do this I am going to get an `ValueError`\n",
    "</div>\n",
    "\n",
    "```python\n",
    "#Create a 3x3 array\n",
    "A = np.array([[1, 2, 3],\n",
    "              [4, 5, 6],\n",
    "              [7, 8, 9]])\n",
    "\n",
    "#Add a 1D array of 2 Elements (broadcasting)\n",
    "B = np.array([10, 20])\n",
    "\n",
    "result = A + B\n",
    "\n",
    "result\n",
    "```"
   ]
  },
  {
   "cell_type": "markdown",
   "id": "08be3583",
   "metadata": {},
   "source": [
    "**Example 2**"
   ]
  },
  {
   "cell_type": "code",
   "execution_count": 35,
   "id": "473f7d55",
   "metadata": {},
   "outputs": [
    {
     "data": {
      "text/plain": [
       "array([[ 6,  7,  8],\n",
       "       [ 7,  8,  9],\n",
       "       [ 8,  9, 10]])"
      ]
     },
     "execution_count": 35,
     "metadata": {},
     "output_type": "execute_result"
    }
   ],
   "source": [
    "a = np.arange(3,6)\n",
    "b = np.arange(3,6).reshape(3,1)\n",
    "a+b"
   ]
  },
  {
   "cell_type": "markdown",
   "id": "3a3c2c28",
   "metadata": {},
   "source": [
    "**Example 3**"
   ]
  },
  {
   "cell_type": "code",
   "execution_count": 46,
   "id": "83d2fccd",
   "metadata": {},
   "outputs": [],
   "source": [
    "a = np.arange(0,9).reshape(3,3)\n",
    "b = np.arange(0,3).reshape(1,3)"
   ]
  },
  {
   "cell_type": "code",
   "execution_count": 43,
   "id": "c91d1bfe",
   "metadata": {},
   "outputs": [
    {
     "data": {
      "text/plain": [
       "array([[0, 1, 2],\n",
       "       [3, 4, 5],\n",
       "       [6, 7, 8]])"
      ]
     },
     "execution_count": 43,
     "metadata": {},
     "output_type": "execute_result"
    }
   ],
   "source": [
    "a"
   ]
  },
  {
   "cell_type": "code",
   "execution_count": 44,
   "id": "9d4a2e9f",
   "metadata": {},
   "outputs": [
    {
     "data": {
      "text/plain": [
       "array([[0, 1, 2]])"
      ]
     },
     "execution_count": 44,
     "metadata": {},
     "output_type": "execute_result"
    }
   ],
   "source": [
    "b"
   ]
  },
  {
   "cell_type": "code",
   "execution_count": 45,
   "id": "73b70f5d",
   "metadata": {},
   "outputs": [
    {
     "data": {
      "text/plain": [
       "array([[ 0,  2,  4],\n",
       "       [ 3,  5,  7],\n",
       "       [ 6,  8, 10]])"
      ]
     },
     "execution_count": 45,
     "metadata": {},
     "output_type": "execute_result"
    }
   ],
   "source": [
    "a+b"
   ]
  },
  {
   "cell_type": "markdown",
   "id": "fa348a12",
   "metadata": {},
   "source": [
    "The code below will also throw an error\n",
    "```python\n",
    "\n",
    "a = np.arange(12).reshape(3,4)\n",
    "b = np.arange(12).reshape(4,3)\n",
    "\n",
    "print(a)\n",
    "print(b)\n",
    "\n",
    "print(a+b)\n",
    "```\n",
    "\n",
    "<div class=\"alert alert-block alert-info\">\n",
    "This is because there is no 1 Dimension in either the arrays hence the element-wise operation won't be possible.\n",
    "</div>"
   ]
  },
  {
   "cell_type": "markdown",
   "id": "cc31dd64",
   "metadata": {},
   "source": [
    "## Create your custom formulas\n",
    "\n",
    "NumPy is a powerful library for mathematical computations in Python. You can create mathematical formulas and perform various mathematical operations using NumPy. Essentially you have the power to create any formula using numpy and we will see some functions to help us understand better.\n",
    "\n",
    "1. **Sigmoid** :-\n",
    "\n",
    "    Sigmoid is a very popular function in Machine Learning and Deep Learning Communities and is specific to classification problems. Sigmoid tells us the probabilites, between 0 and 1, which based on certain threshold is converted to an integer which becomes our predicted class.\n",
    "    \n",
    "     $$\n",
    "s(x) = \\frac{1}{1 + e^{-x}}\n",
    "$$"
   ]
  },
  {
   "cell_type": "code",
   "execution_count": 48,
   "id": "29a3b4d3",
   "metadata": {},
   "outputs": [
    {
     "data": {
      "text/plain": [
       "array([0.5       , 0.73105858, 0.88079708, 0.95257413, 0.98201379,\n",
       "       0.99330715, 0.99752738, 0.99908895, 0.99966465, 0.99987661])"
      ]
     },
     "execution_count": 48,
     "metadata": {},
     "output_type": "execute_result"
    }
   ],
   "source": [
    "def sigmoid(array):\n",
    "    return 1/(1 + np.exp(-(array)))\n",
    "\n",
    "a = np.arange(10)\n",
    "\n",
    "sigmoid(a)"
   ]
  },
  {
   "cell_type": "code",
   "execution_count": 50,
   "id": "3246630a",
   "metadata": {},
   "outputs": [
    {
     "data": {
      "text/plain": [
       "array([0.5       , 0.73105858, 0.88079708, 0.95257413, 0.98201379,\n",
       "       0.99330715, 0.99752738, 0.99908895, 0.99966465, 0.99987661,\n",
       "       0.9999546 , 0.9999833 , 0.99999386, 0.99999774, 0.99999917,\n",
       "       0.99999969, 0.99999989, 0.99999996, 0.99999998, 0.99999999,\n",
       "       1.        , 1.        , 1.        , 1.        , 1.        ,\n",
       "       1.        , 1.        , 1.        , 1.        , 1.        ,\n",
       "       1.        , 1.        , 1.        , 1.        , 1.        ,\n",
       "       1.        , 1.        , 1.        , 1.        , 1.        ])"
      ]
     },
     "execution_count": 50,
     "metadata": {},
     "output_type": "execute_result"
    }
   ],
   "source": [
    "#Creating a bigger arrray\n",
    "a = np.arange(40)\n",
    "\n",
    "sigmoid(a)"
   ]
  },
  {
   "cell_type": "markdown",
   "id": "843bd127",
   "metadata": {},
   "source": [
    "2. **Mean Squared Error** :- \n",
    "\n",
    "    The Mean Squared Error (MSE) is a widely used metric in Machine Learning and Data Analysis. It plays a crucial role, especially in regression problems. MSE quantifies the average squared difference between predicted and actual values, providing a measure of how well a model's predictions match the observed data.\n",
    "    \n",
    "    <div class=\"alert alert-block alert-info\">\n",
    "    Just as the sigmoid function is fundamental for classification, MSE is essential for regression tasks. It quantifies the errors between predicted and actual values, and depending on a chosen threshold, these errors can guide decision-making or further analysis.\n",
    "    </div>\n",
    "\n",
    "\n",
    "   The formula for calculating Mean Squared Error is  \n",
    "    $$\\text{MSE} = \\frac{1}{n} \\sum_{i=1}^{n} (y_i - \\hat{y}_i)^2$$\n",
    "    \n",
    "Let's say that we want to find out the loss of our regression model and we have our actual values and the predicted values. Below is how we would find the Mean Squared Error."
   ]
  },
  {
   "cell_type": "code",
   "execution_count": 53,
   "id": "b985aeec",
   "metadata": {},
   "outputs": [
    {
     "name": "stdout",
     "output_type": "stream",
     "text": [
      "The loss of the regression model is 324.12\n"
     ]
    }
   ],
   "source": [
    "#Ground Truth aka y\n",
    "actual = np.random.randint(1,50,25)\n",
    "#Predictions from our model\n",
    "predicted = np.random.randint(1,50,25)\n",
    "\n",
    "def mse(actual,predicted):\n",
    "    return np.mean((actual - predicted)**2)\n",
    "\n",
    "loss = mse(actual,predicted)\n",
    "print(f'The loss of the regression model is {round(loss,4)}')"
   ]
  },
  {
   "cell_type": "markdown",
   "id": "7bbe70ac",
   "metadata": {},
   "source": [
    "3. **Binary Cross Entropy**:\n",
    "\n",
    "Binary Cross-Entropy (BCE), also known as Log Loss, is a fundamental concept in Machine Learning, particularly in binary classification problems. BCE is instrumental in assessing how well a binary classification model's predicted probabilities align with the true binary outcomes.\n",
    "\n",
    "<div class=\"alert alert-block alert-info\">\n",
    "Just as the sigmoid function serves as the cornerstone for binary classification by converting continuous scores into probabilities, BCE steps in to measure the quality of these probabilities. \n",
    "</div>\n",
    "\n",
    "\n",
    "It quantifies the divergence between predicted probabilities and actual binary labels, providing a crucial gauge for the model's performance. It is calculated using the formula:-\n",
    "\n",
    "$$\\text{BCE} = -\\frac{1}{N} \\sum_{i=1}^{N} \\left[y_i \\log(p_i) + (1 - y_i) \\log(1 - p_i)\\right]$$\n"
   ]
  },
  {
   "cell_type": "code",
   "execution_count": 55,
   "id": "7128f5cc",
   "metadata": {},
   "outputs": [
    {
     "name": "stdout",
     "output_type": "stream",
     "text": [
      "Binary Cross-Entropy: 0.253\n"
     ]
    }
   ],
   "source": [
    "# True binary labels (ground truth)\n",
    "y_true = np.array([0, 1, 1, 0, 1])\n",
    "\n",
    "# Predicted probabilities (model outputs)\n",
    "y_pred_prob = np.array([0.2, 0.8, 0.7, 0.3, 0.9])\n",
    "\n",
    "# Calculate BCE\n",
    "bce = -np.mean(y_true * np.log(y_pred_prob) + (1 - y_true) * np.log(1 - y_pred_prob))\n",
    "\n",
    "print(\"Binary Cross-Entropy:\", round(bce,4))"
   ]
  },
  {
   "cell_type": "markdown",
   "id": "bc1c1f10",
   "metadata": {},
   "source": [
    "## Handle NaNs like a breeze\n",
    "\n",
    "Working with NaN values in NumPy involves operations that often propagate NaN results. NumPy provides functions to handle NaN values, including checking for NaN, filtering NaN values, replacing NaN with other values, and aggregating while ignoring NaN values. The presence of NaN values can impact calculations and analyses, so it's important to handle them appropriately based on the specific requirements of your task.\n",
    "\n",
    "Let's create an array and filter the NaN values out using the boolean indexing we saw earlier."
   ]
  },
  {
   "cell_type": "code",
   "execution_count": 56,
   "id": "8ab40b30",
   "metadata": {},
   "outputs": [
    {
     "data": {
      "text/plain": [
       "array([ 1.,  2.,  3.,  4., nan,  6.])"
      ]
     },
     "execution_count": 56,
     "metadata": {},
     "output_type": "execute_result"
    }
   ],
   "source": [
    "# Creating an array with nan value\n",
    "a = np.array([1,2,3,4,np.nan,6])\n",
    "a"
   ]
  },
  {
   "cell_type": "code",
   "execution_count": 58,
   "id": "eba7fc59",
   "metadata": {},
   "outputs": [
    {
     "data": {
      "text/plain": [
       "array([False, False, False, False,  True, False])"
      ]
     },
     "execution_count": 58,
     "metadata": {},
     "output_type": "execute_result"
    }
   ],
   "source": [
    "#Step 1 : Find out which values are nan\n",
    "np.isnan(a)"
   ]
  },
  {
   "cell_type": "code",
   "execution_count": 59,
   "id": "5d628770",
   "metadata": {},
   "outputs": [
    {
     "data": {
      "text/plain": [
       "array([ True,  True,  True,  True, False,  True])"
      ]
     },
     "execution_count": 59,
     "metadata": {},
     "output_type": "execute_result"
    }
   ],
   "source": [
    "#Step 2 : Find out which values are not nan since we want to return non NaN values\n",
    "~np.isnan(a)"
   ]
  },
  {
   "cell_type": "code",
   "execution_count": 60,
   "id": "26d3131f",
   "metadata": {},
   "outputs": [
    {
     "data": {
      "text/plain": [
       "array([1., 2., 3., 4., 6.])"
      ]
     },
     "execution_count": 60,
     "metadata": {},
     "output_type": "execute_result"
    }
   ],
   "source": [
    "#Step 3 : Use boolean mask to show the values that are not NaN\n",
    "a[~np.isnan(a)]"
   ]
  },
  {
   "cell_type": "markdown",
   "id": "e54a8367",
   "metadata": {},
   "source": [
    "<div class=\"alert alert-block alert-info\">\n",
    "The best thing about NumPy is that no matter how big your original arrays get, your single line of code finding out the non NaN values or calculating the sigmoid will still work.\n",
    "</div>"
   ]
  },
  {
   "cell_type": "markdown",
   "id": "249c6377",
   "metadata": {},
   "source": [
    "## Calculate Gradients\n",
    "\n",
    "In NumPy you can easily calculate gradients which is at the core of Machine Learning and especially deep learning. Solving them on your own might be a challenge sometime or when you have it to do it over and over again and to the absolute precision because that's how an algorithm would be optimized, its no brainer that Numpy works like a charm\n",
    "\n",
    "<div class=\"alert alert-block alert-info\">\n",
    "`np.gradient` is a specialized NumPy function tailored for computing derivatives in multi-dimensional datasets, making it indispensable when traditional one-dimensional derivatives fall short.\n",
    "</div>\n",
    "\n",
    "It offers axis control, allowing users to target specific dimensions, and finds frequent application in scientific computing, particularly in fields such as geophysics, image processing, and fluid dynamics. Its specialized nature might make it seem advanced to newcomers in numerical computing."
   ]
  },
  {
   "cell_type": "code",
   "execution_count": 61,
   "id": "d99a3e3e",
   "metadata": {},
   "outputs": [
    {
     "data": {
      "text/plain": [
       "array([3., 4., 6., 8., 9.])"
      ]
     },
     "execution_count": 61,
     "metadata": {},
     "output_type": "execute_result"
    }
   ],
   "source": [
    "x= np.array([1,2,3,4,5])\n",
    "y = x**2\n",
    "dy_dx =  np.gradient(y,x)\n",
    "dy_dx"
   ]
  },
  {
   "cell_type": "markdown",
   "id": "4d3174f3",
   "metadata": {},
   "source": [
    "Now this may have been easy for some of us because there are just 5 numbers and the function $x^2$ is a rather easy function to differentiat. Imagine dealing with deep neural networks containing millions of parameters and complex mathematical functions that are challenging to differentiate manually. In such scenarios, NumPy truly shines. \n",
    "\n",
    "Consider the task of calculating the gradient of the sigmoid function, which we defined earlier. This isn't merely an academic exercise; it's a real-life application in deep learning. Specifically, it plays a vital role in the backpropagation algorithm, which optimizes neural networks. Backpropagation involves finding gradients to adjust network weights, and NumPy's ability to efficiently compute gradients is a game-changer in this context. It allows us to navigate the intricate landscapes of deep learning models and fine-tune them for improved performance."
   ]
  },
  {
   "cell_type": "code",
   "execution_count": 66,
   "id": "c7e62bde",
   "metadata": {},
   "outputs": [
    {
     "data": {
      "text/plain": [
       "array([0.24999792, 0.24999167, 0.24997292, ..., 0.        , 0.        ,\n",
       "       0.        ])"
      ]
     },
     "execution_count": 66,
     "metadata": {},
     "output_type": "execute_result"
    }
   ],
   "source": [
    "#Creating an array\n",
    "x = np.linspace(0,10000,1000000)\n",
    "#Find Sigmoid Values\n",
    "y = sigmoid(x)\n",
    "#Calculate Sigmoid gradients\n",
    "dy_dx = np.gradient(y,x)\n",
    "dy_dx"
   ]
  },
  {
   "cell_type": "code",
   "execution_count": 71,
   "id": "e00548d2",
   "metadata": {},
   "outputs": [
    {
     "data": {
      "image/png": "[encoded data removed]",
      "text/plain": [
       "<Figure size 1500x600 with 1 Axes>"
      ]
     },
     "metadata": {},
     "output_type": "display_data"
    }
   ],
   "source": [
    "#Plotting the Sigmoid function and its derivate\n",
    "plt.figure(figsize=(15,6))\n",
    "plt.plot(x,y)\n",
    "plt.plot(x,dy_dx)\n",
    "plt.xlabel('Input (x) - Sigmoid Function')\n",
    "plt.ylabel('Output (y) - Derivative of Sigmoid')\n",
    "plt.legend(['Sigmoid Function', 'Derivative of Sigmoid'])\n",
    "plt.show()"
   ]
  },
  {
   "cell_type": "markdown",
   "id": "89cd4dbe",
   "metadata": {},
   "source": [
    "Let's explore another pivotal function in Deep Learning which is the Rectified Linear Unit or **ReLU**. This function plays a fundamental role by setting any non-negative values to zero. This simple yet effective transformation helps capture non-linear patterns within data, a crucial aspect for building classification models in Deep Learning. \n",
    "\n",
    "<div class=\"alert alert-block alert-info\">\n",
    "ReLU helps neural networks detect and represent complex relationships in the data, making it a cornerstone of modern machine learning aand given the power of NumPy, its a no-brainer to use NumPy for such complicated tasks.\n",
    "</div>\n",
    "\n"
   ]
  },
  {
   "cell_type": "code",
   "execution_count": 89,
   "id": "239be10d",
   "metadata": {},
   "outputs": [
    {
     "data": {
      "text/plain": [
       "array([-5.        , -4.8989899 , -4.7979798 , -4.6969697 , -4.5959596 ,\n",
       "       -4.49494949, -4.39393939, -4.29292929, -4.19191919, -4.09090909,\n",
       "       -3.98989899, -3.88888889, -3.78787879, -3.68686869, -3.58585859,\n",
       "       -3.48484848, -3.38383838, -3.28282828, -3.18181818, -3.08080808])"
      ]
     },
     "execution_count": 89,
     "metadata": {},
     "output_type": "execute_result"
    }
   ],
   "source": [
    "#Creating an array\n",
    "x = np.linspace(-5, 5, 100)\n",
    "x[:20]"
   ]
  },
  {
   "cell_type": "code",
   "execution_count": 93,
   "id": "eb2dd143",
   "metadata": {},
   "outputs": [
    {
     "data": {
      "text/plain": [
       "array([3.08080808, 3.18181818, 3.28282828, 3.38383838, 3.48484848,\n",
       "       3.58585859, 3.68686869, 3.78787879, 3.88888889, 3.98989899,\n",
       "       4.09090909, 4.19191919, 4.29292929, 4.39393939, 4.49494949,\n",
       "       4.5959596 , 4.6969697 , 4.7979798 , 4.8989899 , 5.        ])"
      ]
     },
     "execution_count": 93,
     "metadata": {},
     "output_type": "execute_result"
    }
   ],
   "source": [
    "#Getting the ReLU Values\n",
    "relu_x = np.maximum(0, x)\n",
    "relu_x[80:]"
   ]
  },
  {
   "cell_type": "code",
   "execution_count": 94,
   "id": "869d3833",
   "metadata": {},
   "outputs": [
    {
     "data": {
      "text/plain": [
       "array([0.  , 0.  , 0.  , 0.  , 0.  , 0.  , 0.  , 0.  , 0.  , 0.  , 0.  ,\n",
       "       0.  , 0.  , 0.  , 0.  , 0.  , 0.  , 0.  , 0.  , 0.  , 0.  , 0.  ,\n",
       "       0.  , 0.  , 0.  , 0.  , 0.  , 0.  , 0.  , 0.  , 0.  , 0.  , 0.  ,\n",
       "       0.  , 0.  , 0.  , 0.  , 0.  , 0.  , 0.  , 0.  , 0.  , 0.  , 0.  ,\n",
       "       0.  , 0.  , 0.  , 0.  , 0.  , 0.25, 0.75, 1.  , 1.  , 1.  , 1.  ,\n",
       "       1.  , 1.  , 1.  , 1.  , 1.  , 1.  , 1.  , 1.  , 1.  , 1.  , 1.  ,\n",
       "       1.  , 1.  , 1.  , 1.  , 1.  , 1.  , 1.  , 1.  , 1.  , 1.  , 1.  ,\n",
       "       1.  , 1.  , 1.  , 1.  , 1.  , 1.  , 1.  , 1.  , 1.  , 1.  , 1.  ,\n",
       "       1.  , 1.  , 1.  , 1.  , 1.  , 1.  , 1.  , 1.  , 1.  , 1.  , 1.  ,\n",
       "       1.  ])"
      ]
     },
     "execution_count": 94,
     "metadata": {},
     "output_type": "execute_result"
    }
   ],
   "source": [
    "#Finding relu gradient values\n",
    "dy_dx = np.gradient(relu_x,x)\n",
    "dy_dx"
   ]
  },
  {
   "cell_type": "code",
   "execution_count": 85,
   "id": "fb20ed26",
   "metadata": {},
   "outputs": [
    {
     "data": {
      "image/png": "[encoded data removed]",
      "text/plain": [
       "<Figure size 1500x600 with 1 Axes>"
      ]
     },
     "metadata": {},
     "output_type": "display_data"
    }
   ],
   "source": [
    "#Plotting the RelU Function and its derivative\n",
    "# Create the plot\n",
    "plt.figure(figsize=(15, 6))\n",
    "plt.plot(x, relu_x, label='ReLU Function')\n",
    "plt.plot(x, dy_dx, label='Derivative of ReLU Function')\n",
    "\n",
    "# Add labels and a legend\n",
    "plt.xlabel('ReLU Function')\n",
    "plt.ylabel('Derivative of ReLU')\n",
    "plt.legend()\n",
    "\n",
    "# Show the plot\n",
    "plt.title('ReLU Function')\n",
    "plt.show()"
   ]
  },
  {
   "cell_type": "markdown",
   "id": "e9d7d81b",
   "metadata": {},
   "source": [
    "That's all for now!\n",
    "\n",
    "---\n",
    "## Conclusion\n",
    "\n",
    "In this comprehensive Jupyter Notebook, we've explored Advanced NumPy concepts, uncovering the power of this unsung hero in scientific and numerical computing.\n",
    "\n",
    "- We've answered the fundamental question of why NumPy reigns supreme in data science and machine learning, emphasizing its unmatched efficiency and performance.\n",
    "\n",
    "- Fancy Indexing, a versatile tool, allowed us to select and manipulate array elements with precision, simplifying complex data handling.\n",
    "\n",
    "- Boolean Indexing empowered us to filter and extract valuable data with logical conditions, a crucial skill for data cleaning and analysis.\n",
    "\n",
    "- Creating Custom Formulas demonstrated how NumPy facilitates the definition and application of intricate mathematical functions, opening doors to limitless possibilities.\n",
    "\n",
    "- Calculating Gradients, vital in machine learning and optimization, showcased NumPy's efficiency in training sophisticated models.\n",
    "\n",
    "- NumPy isn't just a tool; it's a gateway to data-driven innovation, whether analyzing datasets, crafting custom functions, or fine-tuning machine learning models.\n",
    "\n",
    "- Armed with these advanced NumPy techniques, you're well-prepared to conquer complex data challenges and push the boundaries of scientific computing. \n",
    "\n",
    "The path to data mastery awaits—happy coding!\n",
    "\n",
    "---"
   ]
  },
  {
   "cell_type": "code",
   "execution_count": null,
   "id": "55d0dbee",
   "metadata": {},
   "outputs": [],
   "source": []
  }
 ],
 "metadata": {
  "kernelspec": {
   "display_name": "Python 3 (ipykernel)",
   "language": "python",
   "name": "python3"
  },
  "language_info": {
   "codemirror_mode": {
    "name": "ipython",
    "version": 3
   },
   "file_extension": ".py",
   "mimetype": "text/x-python",
   "name": "python",
   "nbconvert_exporter": "python",
   "pygments_lexer": "ipython3",
   "version": "3.11.5"
  }
 },
 "nbformat": 4,
 "nbformat_minor": 5
}
